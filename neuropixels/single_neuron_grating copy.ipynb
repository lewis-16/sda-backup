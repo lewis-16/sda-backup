{
 "cells": [
  {
   "cell_type": "code",
   "execution_count": 1,
   "id": "767dae52",
   "metadata": {},
   "outputs": [
    {
     "name": "stderr",
     "output_type": "stream",
     "text": [
      "2025-07-28 21:18:25.770132: I tensorflow/core/util/port.cc:153] oneDNN custom operations are on. You may see slightly different numerical results due to floating-point round-off errors from different computation orders. To turn them off, set the environment variable `TF_ENABLE_ONEDNN_OPTS=0`.\n",
      "2025-07-28 21:18:25.777021: E external/local_xla/xla/stream_executor/cuda/cuda_fft.cc:467] Unable to register cuFFT factory: Attempting to register factory for plugin cuFFT when one has already been registered\n",
      "WARNING: All log messages before absl::InitializeLog() is called are written to STDERR\n",
      "E0000 00:00:1753708705.785266   34286 cuda_dnn.cc:8579] Unable to register cuDNN factory: Attempting to register factory for plugin cuDNN when one has already been registered\n",
      "E0000 00:00:1753708705.787572   34286 cuda_blas.cc:1407] Unable to register cuBLAS factory: Attempting to register factory for plugin cuBLAS when one has already been registered\n",
      "W0000 00:00:1753708705.793716   34286 computation_placer.cc:177] computation placer already registered. Please check linkage and avoid linking the same target more than once.\n",
      "W0000 00:00:1753708705.793731   34286 computation_placer.cc:177] computation placer already registered. Please check linkage and avoid linking the same target more than once.\n",
      "W0000 00:00:1753708705.793731   34286 computation_placer.cc:177] computation placer already registered. Please check linkage and avoid linking the same target more than once.\n",
      "W0000 00:00:1753708705.793732   34286 computation_placer.cc:177] computation placer already registered. Please check linkage and avoid linking the same target more than once.\n",
      "2025-07-28 21:18:25.796077: I tensorflow/core/platform/cpu_feature_guard.cc:210] This TensorFlow binary is optimized to use available CPU instructions in performance-critical operations.\n",
      "To enable the following instructions: AVX2 AVX_VNNI FMA, in other operations, rebuild TensorFlow with the appropriate compiler flags.\n"
     ]
    }
   ],
   "source": [
    "import numpy as np\n",
    "import pandas as pd\n",
    "import seaborn as sns\n",
    "import warnings\n",
    "warnings.filterwarnings('ignore')\n",
    "import spikeinterface as si\n",
    "import matplotlib.pyplot as plt\n",
    "import os\n",
    "from matplotlib.backends.backend_pdf import PdfPages\n",
    "import os\n",
    "import pickle\n",
    "from tensorly.decomposition import non_negative_parafac\n",
    "\n",
    "import tensorflow as tf\n",
    "cpu_devices = tf.config.list_physical_devices(\"CPU\")\n",
    "tf.config.set_visible_devices(cpu_devices)"
   ]
  },
  {
   "cell_type": "code",
   "execution_count": 2,
   "id": "46dc31a0",
   "metadata": {},
   "outputs": [],
   "source": [
    "session_folder = os.listdir(\"/media/ubuntu/sda/neuropixels/output_dir\")\n",
    "session_list = []\n",
    "for session in session_folder:\n",
    "    if 'session_' in session:\n",
    "        session_list.append(session)"
   ]
  },
  {
   "cell_type": "code",
   "execution_count": 3,
   "id": "3426210f",
   "metadata": {},
   "outputs": [],
   "source": [
    "# cluster_inf_all = pd.DataFrame()\n",
    "# activity_dict = {}\n",
    "\n",
    "# for session in session_list:\n",
    "#     output_dir = f'/media/ubuntu/sda/neuropixels/output_dir/{session}'\n",
    "#     cluster_inf = pd.read_csv(f'{output_dir}/cluster_inf.csv')\n",
    "#     spike_inf = pd.read_csv(f'{output_dir}/spike_inf_static_gratings.csv', index_col=0)\n",
    "#     stimulus_table = pd.read_csv(f'{output_dir}/stimulus_table_static_gratings.csv')\n",
    "#     stimulus_table = stimulus_table[~stimulus_table['orientation'].isna()]\n",
    "    \n",
    "#     stimulus_table['orientation_phase_frequency'] = (\n",
    "#         stimulus_table['orientation'].astype(str) + '_' + \n",
    "#         stimulus_table['phase'].astype(str) + '_' + \n",
    "#         stimulus_table['spatial_frequency'].astype(str)\n",
    "#     )\n",
    "\n",
    "#     filtered_spikes = spike_inf['id'].value_counts()\n",
    "#     filtered_spikes = filtered_spikes[filtered_spikes > 30000].index\n",
    "#     cluster_inf = cluster_inf[cluster_inf['unit_id'].isin(filtered_spikes)]\n",
    "#     spike_inf = spike_inf[spike_inf['id'].isin(filtered_spikes)]\n",
    "\n",
    "#     cluster_inf_all = pd.concat((cluster_inf_all, cluster_inf), axis = 0)\n",
    "\n",
    "#     for neuron in cluster_inf['unit_id']:\n",
    "#         spike_inf_temp = spike_inf[spike_inf['id'] == neuron]\n",
    "#         neuron = f'{neuron}_{session}'\n",
    "#         activity_dict[neuron] = {}\n",
    "#         for image in stimulus_table['orientation_phase_frequency'].unique():\n",
    "#             activity_dict[neuron][image] = []\n",
    "\n",
    "#             trigger_time_temp = stimulus_table[(stimulus_table['orientation_phase_frequency'] == image)]\n",
    "\n",
    "#             for index, row in trigger_time_temp.iterrows():\n",
    "#                 start = row['start_time']\n",
    "#                 end = row['stop_time']\n",
    "\n",
    "#                 filtered_spikes = spike_inf_temp[(spike_inf_temp['time'] >= start) &\n",
    "#                                                 (spike_inf_temp['time'] <= end)]\n",
    "#                 if not filtered_spikes.empty:\n",
    "#                     relative_spikes = (filtered_spikes['time'] - start) * 1000\n",
    "#                     activity_dict[neuron][image].append(np.array(relative_spikes))"
   ]
  },
  {
   "cell_type": "code",
   "execution_count": 5,
   "id": "df0c87db",
   "metadata": {},
   "outputs": [],
   "source": [
    "#cluster_inf_all.to_csv(\"/media/ubuntu/sda/neuropixels/grating/cluster_inf_all_grating.csv\")"
   ]
  },
  {
   "cell_type": "code",
   "execution_count": null,
   "id": "511ef05e",
   "metadata": {},
   "outputs": [],
   "source": [
    "# with open(\"/media/ubuntu/sda/neuropixels/grating/activity_dict_all_grating_30000.pkl\", 'wb') as f:\n",
    "#     pickle.dump(activity_dict, f)"
   ]
  },
  {
   "cell_type": "code",
   "execution_count": 3,
   "id": "5df5d590",
   "metadata": {},
   "outputs": [],
   "source": [
    "with open(\"/media/ubuntu/sda/neuropixels/grating/activity_dict_all_grating_30000.pkl\", 'rb') as f:\n",
    "    activity_dict = pickle.load(f)"
   ]
  },
  {
   "cell_type": "code",
   "execution_count": 4,
   "id": "4655dea8",
   "metadata": {},
   "outputs": [],
   "source": [
    "cluster_inf_all = pd.read_csv(\"/media/ubuntu/sda/neuropixels/grating/cluster_inf_all_grating.csv\", index_col=0)"
   ]
  },
  {
   "cell_type": "code",
   "execution_count": 5,
   "id": "1efd8f52",
   "metadata": {},
   "outputs": [],
   "source": [
    "def getResponseCurve(train_dict, total_trial_len, bw=None, samp_interval=1, MINBW=10, MAXBW=50):\n",
    "    \"\"\"Computes smooth trial-averaged response to a stim in all directions from spike trains\n",
    "    using a kernel density estimator, with per-trial KDE averaging.\"\"\"\n",
    "\n",
    "    ts = np.arange(0, total_trial_len + samp_interval, samp_interval)\n",
    "    x_ts = 0.5 * (ts[:-1] + ts[1:])  # sample at the midpoints\n",
    "\n",
    "    # Determine global bandwidth if not provided\n",
    "    global_bw = bw\n",
    "    if global_bw is None:\n",
    "        # Find first non-empty trial to determine bandwidth\n",
    "        for d in sorted(train_dict):\n",
    "            for train in train_dict[d]:\n",
    "                if train.size > 0:\n",
    "                    temp_kde = FFTKDE(kernel='gaussian', bw=None).fit(train)\n",
    "                    global_bw = temp_kde.bw\n",
    "                    # Apply bandwidth constraints\n",
    "                    global_bw = max(MINBW, min(global_bw, MAXBW))\n",
    "                    break\n",
    "            if global_bw is not None:\n",
    "                break\n",
    "        # If no spikes found in any trial, use default bandwidth\n",
    "        if global_bw is None:\n",
    "            global_bw = (MINBW + MAXBW) / 2\n",
    "\n",
    "    all_ISJs = []\n",
    "    \n",
    "    for d in sorted(train_dict):\n",
    "        trial_responses = []  # Store KDE results for each trial in this direction\n",
    "        \n",
    "        for train in train_dict[d]:\n",
    "            if train.size == 0:\n",
    "                # Handle empty trials with zero array\n",
    "                y_trial = np.zeros_like(x_ts)\n",
    "                trial_responses.append(y_trial)\n",
    "                continue\n",
    "                \n",
    "            try:\n",
    "                # Create KDE for this single trial\n",
    "                ext_x_ts = np.r_[x_ts[0]-samp_interval, x_ts, x_ts[-1]+samp_interval]\n",
    "                fftkde = FFTKDE(kernel='gaussian', bw=global_bw).fit(train)\n",
    "                y_density = fftkde.evaluate(ext_x_ts)[1:-1]  # crop extended regions\n",
    "                \n",
    "                # Convert to firing rate (spikes/sec)\n",
    "                y_trial = y_density * len(train) * 1000\n",
    "                trial_responses.append(y_trial)\n",
    "                \n",
    "            except Exception as e:\n",
    "                print(f'KDE failed for direction {d}, trial with {len(train)} spikes: {str(e)}')\n",
    "                #trial_responses.append(np.zeros_like(x_ts))\n",
    "        \n",
    "        # Average all trials for this direction\n",
    "        avg_response = np.mean(trial_responses, axis=0)\n",
    "        all_ISJs.append(avg_response)\n",
    "        \n",
    "    return np.array(all_ISJs), x_ts"
   ]
  },
  {
   "cell_type": "code",
   "execution_count": 6,
   "id": "b975dcc8",
   "metadata": {},
   "outputs": [],
   "source": [
    "activity_dict_region = {}\n",
    "filtered_neuron = {}\n",
    "for region in ['VISp', 'VISal', 'VISam', 'VISrl', 'VISpm', 'VISl']:\n",
    "    activity_dict_region[region] = {}\n",
    "    cluster_inf_temp = cluster_inf_all[cluster_inf_all['ecephys_structure_acronym'] == region]\n",
    "    filtered_neuron[region] = cluster_inf_temp['unit_id'].values\n",
    "\n",
    "    for key, item in activity_dict.items():\n",
    "        key = key.split(\"_\")[0]\n",
    "        if int(key) in filtered_neuron[region]:\n",
    "            activity_dict_region[region][key] = item\n"
   ]
  },
  {
   "cell_type": "code",
   "execution_count": 55,
   "id": "8506c469",
   "metadata": {},
   "outputs": [
    {
     "name": "stderr",
     "output_type": "stream",
     "text": [
      "WARNING: All log messages before absl::InitializeLog() is called are written to STDERR\n",
      "I0000 00:00:1753710474.381007   36856 service.cc:152] XLA service 0x7f45fc00c400 initialized for platform Host (this does not guarantee that XLA will be used). Devices:\n",
      "I0000 00:00:1753710474.381060   36856 service.cc:160]   StreamExecutor device (0): Host, Default Version\n",
      "2025-07-28 21:47:54.409128: I tensorflow/compiler/mlir/tensorflow/utils/dump_mlir_util.cc:269] disabling MLIR crash reproducer, set env var `MLIR_CRASH_REPRODUCER_DIRECTORY` to enable.\n",
      "I0000 00:00:1753710474.607045   36856 device_compiler.h:188] Compiled cluster using XLA!  This line is logged at most once for the lifetime of the process.\n"
     ]
    },
    {
     "name": "stdout",
     "output_type": "stream",
     "text": [
      "\u001b[1m21/21\u001b[0m \u001b[32m━━━━━━━━━━━━━━━━━━━━\u001b[0m\u001b[37m\u001b[0m \u001b[1m0s\u001b[0m 5ms/step\n",
      "\u001b[1m21/21\u001b[0m \u001b[32m━━━━━━━━━━━━━━━━━━━━\u001b[0m\u001b[37m\u001b[0m \u001b[1m0s\u001b[0m 4ms/step\n"
     ]
    }
   ],
   "source": [
    "all_waveform = pd.read_csv(\"all_waveform.csv\", index_col=0)\n",
    "all_waveform = all_waveform.loc[filtered_neuron['VISp']]\n",
    "\n",
    "from sklearn.decomposition import PCA\n",
    "from umap import UMAP\n",
    "from sklearn.cluster import KMeans\n",
    "pca = PCA(n_components=10)\n",
    "umap = UMAP(n_components=2)\n",
    "kmeans = KMeans(n_clusters=2,random_state=40)\n",
    "all_waveform_pca = pca.fit_transform(all_waveform)\n",
    "all_waveform_umap = umap.fit_transform(all_waveform_pca[:, :10])\n",
    "cluster_label = kmeans.fit_predict(all_waveform_umap)\n",
    "all_waveform['cluster'] = cluster_label\n",
    "\n",
    "from prinpy.glob import NLPCA\n",
    "pca = NLPCA()\n",
    "pca.fit(all_waveform_umap, epochs = 150, nodes = 15, lr = .01, verbose = 0)\n",
    "proj, curve_pts = pca.project(all_waveform_umap)"
   ]
  },
  {
   "cell_type": "code",
   "execution_count": 58,
   "id": "79a9605d",
   "metadata": {},
   "outputs": [
    {
     "data": {
      "text/plain": [
       "(657, 1)"
      ]
     },
     "execution_count": 58,
     "metadata": {},
     "output_type": "execute_result"
    }
   ],
   "source": [
    "proj.shape"
   ]
  },
  {
   "cell_type": "code",
   "execution_count": 56,
   "id": "2132cc2a",
   "metadata": {},
   "outputs": [
    {
     "data": {
      "text/plain": [
       "[<matplotlib.lines.Line2D at 0x7f4be882b750>]"
      ]
     },
     "execution_count": 56,
     "metadata": {},
     "output_type": "execute_result"
    },
    {
     "data": {
      "image/png": "[encoded data removed]",
      "text/plain": [
       "<Figure size 500x500 with 1 Axes>"
      ]
     },
     "metadata": {},
     "output_type": "display_data"
    }
   ],
   "source": [
    "plt.figure(figsize=(5, 5))\n",
    "plt.scatter(all_waveform_umap[:,0], \n",
    "        all_waveform_umap[:,1], \n",
    "        s = 5, \n",
    "        c = -proj.reshape(-1), \n",
    "        cmap = 'coolwarm')\n",
    "\n",
    "plt.plot(curve_pts[:,0], \n",
    "        curve_pts[:,1], \n",
    "        color = 'black',\n",
    "        linewidth = '2.5')"
   ]
  },
  {
   "cell_type": "code",
   "execution_count": 7,
   "id": "c7e8faf0",
   "metadata": {},
   "outputs": [],
   "source": [
    "with open(\"/media/ubuntu/sda/neuropixels/grating/activity_region.pkl\", 'rb') as f:\n",
    "    activity_df = pickle.load(f)"
   ]
  },
  {
   "cell_type": "code",
   "execution_count": 8,
   "id": "5a5b4e12",
   "metadata": {},
   "outputs": [],
   "source": [
    "stimulus_df = pd.DataFrame(activity_dict_region['VISal']['915964501'].keys(), columns=['id'])\n",
    "stimulus_df['orientation'] = None\n",
    "stimulus_df['phase'] = None\n",
    "stimulus_df['frequency'] = None\n",
    "for i in range(len(stimulus_df)):\n",
    "    stimulus_df.loc[i, 'orientation'], stimulus_df.loc[i, 'phase'], stimulus_df.loc[i, 'frequency'] = stimulus_df.loc[i, 'id'].split(\"_\")\n"
   ]
  },
  {
   "cell_type": "code",
   "execution_count": 9,
   "id": "01cd2efe",
   "metadata": {},
   "outputs": [],
   "source": [
    "for key, array in activity_df.items():\n",
    "    if array.shape[2] != len(stimulus_df):\n",
    "        raise ValueError(f\"维度不匹配: {key}\")\n",
    "    \n",
    "    transposed = np.transpose(array, (2, 0, 1))\n",
    "    \n",
    "    stimulus_df[key] = list(transposed)"
   ]
  },
  {
   "cell_type": "code",
   "execution_count": 10,
   "id": "2396d59b",
   "metadata": {},
   "outputs": [],
   "source": [
    "stimulus_df['orientation'] = stimulus_df['orientation'].astype(float)\n",
    "stimulus_df['phase'] = stimulus_df['phase'].astype(float)\n",
    "stimulus_df['frequency'] = stimulus_df['frequency'].astype(float)\n",
    "\n",
    "stimulus_df = stimulus_df.sort_values(by=['frequency', 'orientation', 'phase'])"
   ]
  },
  {
   "cell_type": "code",
   "execution_count": 66,
   "id": "4faed134",
   "metadata": {},
   "outputs": [],
   "source": [
    "import numpy as np\n",
    "import matplotlib.pyplot as plt\n",
    "from sklearn.decomposition import TruncatedSVD\n",
    "from sklearn.manifold import TSNE\n",
    "from umap import UMAP\n",
    "import seaborn as sns\n",
    "from pydiffmap import diffusion_map\n",
    "\n",
    "with PdfPages(\"/media/ubuntu/sda/neuropixels/grating/response_heatmap.pdf\") as pdf:\n",
    "    for i in range(len(stimulus_df)):\n",
    "        response_matrix = stimulus_df['VISp'].values[i].astype(np.float32)\n",
    "        neuron_means = np.mean(response_matrix, axis=1, keepdims=True)\n",
    "        neuron_stds = np.std(response_matrix, axis=1, keepdims=True)\n",
    "        response_matrix_z = (response_matrix - neuron_means) / (neuron_stds + 1e-8)\n",
    "\n",
    "        n_components = 15  \n",
    "        svd = TruncatedSVD(n_components=n_components, random_state=42)\n",
    "        svd_components = svd.fit_transform(response_matrix_z)\n",
    "\n",
    "        explained_variance = svd.explained_variance_ratio_\n",
    "        cumulative_variance = np.cumsum(explained_variance)\n",
    "\n",
    "\n",
    "        n_effective = np.argmax(cumulative_variance >= 0.95) + 1\n",
    "\n",
    "        dm = diffusion_map.DiffusionMap.from_sklearn(n_evecs = 3, epsilon = 1.0, alpha = 0.5, k=32)\n",
    "        diffusion_coordinates = dm.fit_transform(svd_components)\n",
    "\n",
    "        neuron_inf = pd.DataFrame(filtered_neuron['VISp'], columns=['id'])\n",
    "        neuron_inf = pd.concat((neuron_inf, pd.DataFrame(diffusion_coordinates)), axis=1)\n",
    "        neuron_inf['activity'] = list(response_matrix_z)\n",
    "\n",
    "        fig, axes = plt.subplots(1, 3, figsize = (8, 6))\n",
    "        axes = axes.flatten()\n",
    "        for order in [0, 1, 2]:\n",
    "            ax = axes[order]\n",
    "            neuron_inf = neuron_inf.sort_values(by=order)\n",
    "            sns.heatmap(np.stack(neuron_inf['activity'].values), cmap='coolwarm', ax=ax, cbar=False)\n",
    "            \n",
    "        fig.suptitle(stimulus_df['id'].values[i])\n",
    "        pdf.savefig()\n",
    "        plt.close()"
   ]
  },
  {
   "cell_type": "code",
   "execution_count": 83,
   "id": "51a1d0ac",
   "metadata": {},
   "outputs": [],
   "source": [
    "temp = stimulus_df\n",
    "temp = temp.sort_values(by=['frequency', 'orientation', 'phase'])\n",
    "temp_df = np.stack(temp['VISp'].values, axis=2)\n",
    "for i in range(len(temp_df)):\n",
    "    min_val = temp_df[i, :, :].min()\n",
    "    max_val = temp_df[i, :, :].max()\n",
    "\n",
    "    temp_df[i, :, :] = (temp_df[i, :, :] - min_val)/(max_val - min_val)\n",
    "    #temp_df[i, :, :] = temp_df[i, :, :] / max_val\n",
    "\n",
    "import tensorly as tl\n",
    "from sklearn.decomposition import PCA\n",
    "from pydiffmap import diffusion_map\n",
    "from sklearn.metrics.pairwise import pairwise_distances, rbf_kernel\n",
    "\n",
    "factors = non_negative_parafac(\n",
    "    temp_df, \n",
    "    rank=60,\n",
    "    init='random',\n",
    "    n_iter_max=500,\n",
    "    tol=1e-6\n",
    ")\n",
    "\n",
    "neural_matrix = factors.factors[0]\n",
    "norms = [tl.norm(f, 2) for f in factors.factors]\n",
    "lambda_vec = factors.weights * np.prod(norms, axis=0)\n",
    "neural_scaled = neural_matrix * lambda_vec\n",
    "\n",
    "neural_pca = PCA(n_components=0.8).fit_transform(neural_scaled)\n",
    "gamma = 1.0 / np.median(pairwise_distances(neural_pca))**2\n",
    "sim_matrix = rbf_kernel(neural_pca, gamma=gamma)\n",
    "\n",
    "dm = diffusion_map.DiffusionMap.from_sklearn(n_evecs = 5, epsilon = 1.0, alpha = 0.5, k=64)\n",
    "diffusion_coordinates = dm.fit_transform(sim_matrix)"
   ]
  },
  {
   "cell_type": "code",
   "execution_count": 84,
   "id": "5f01cb04",
   "metadata": {},
   "outputs": [
    {
     "data": {
      "application/vnd.plotly.v1+json": {
       "config": {
        "plotlyServerURL": "https://plot.ly"
       },
       "data": [
        {
         "marker": {
          "color": {
           "bdata": "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",
           "dtype": "f4"
          },
          "colorbar": {
           "title": {
            "text": "Excitatory Score"
           }
          },
          "colorscale": [
           [
            0,
            "rgb(247,251,255)"
           ],
           [
            0.125,
            "rgb(222,235,247)"
           ],
           [
            0.25,
            "rgb(198,219,239)"
           ],
           [
            0.375,
            "rgb(158,202,225)"
           ],
           [
            0.5,
            "rgb(107,174,214)"
           ],
           [
            0.625,
            "rgb(66,146,198)"
           ],
           [
            0.75,
            "rgb(33,113,181)"
           ],
           [
            0.875,
            "rgb(8,81,156)"
           ],
           [
            1,
            "rgb(8,48,107)"
           ]
          ],
          "size": 4
         },
         "mode": "markers",
         "name": "Neurons",
         "type": "scatter3d",
         "x": {
          "bdata": "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",
          "dtype": "f8"
         },
         "y": {
          "bdata": "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",
          "dtype": "f8"
         },
         "z": {
          "bdata": "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",
          "dtype": "f8"
         }
        }
       ],
       "layout": {
        "height": 600,
        "scene": {
         "camera": {
          "eye": {
           "x": 1.5,
           "y": 1,
           "z": 0.1
          }
         },
         "xaxis": {
          "title": {
           "text": "Diffusion Axis 1"
          }
         },
         "yaxis": {
          "title": {
           "text": "Diffusion Axis 2"
          }
         },
         "zaxis": {
          "title": {
           "text": "Diffusion Axis 3"
          }
         }
        },
        "template": {
         "data": {
          "bar": [
           {
            "error_x": {
             "color": "#2a3f5f"
            },
            "error_y": {
             "color": "#2a3f5f"
            },
            "marker": {
             "line": {
              "color": "#E5ECF6",
              "width": 0.5
             },
             "pattern": {
              "fillmode": "overlay",
              "size": 10,
              "solidity": 0.2
             }
            },
            "type": "bar"
           }
          ],
          "barpolar": [
           {
            "marker": {
             "line": {
              "color": "#E5ECF6",
              "width": 0.5
             },
             "pattern": {
              "fillmode": "overlay",
              "size": 10,
              "solidity": 0.2
             }
            },
            "type": "barpolar"
           }
          ],
          "carpet": [
           {
            "aaxis": {
             "endlinecolor": "#2a3f5f",
             "gridcolor": "white",
             "linecolor": "white",
             "minorgridcolor": "white",
             "startlinecolor": "#2a3f5f"
            },
            "baxis": {
             "endlinecolor": "#2a3f5f",
             "gridcolor": "white",
             "linecolor": "white",
             "minorgridcolor": "white",
             "startlinecolor": "#2a3f5f"
            },
            "type": "carpet"
           }
          ],
          "choropleth": [
           {
            "colorbar": {
             "outlinewidth": 0,
             "ticks": ""
            },
            "type": "choropleth"
           }
          ],
          "contour": [
           {
            "colorbar": {
             "outlinewidth": 0,
             "ticks": ""
            },
            "colorscale": [
             [
              0,
              "#0d0887"
             ],
             [
              0.1111111111111111,
              "#46039f"
             ],
             [
              0.2222222222222222,
              "#7201a8"
             ],
             [
              0.3333333333333333,
              "#9c179e"
             ],
             [
              0.4444444444444444,
              "#bd3786"
             ],
             [
              0.5555555555555556,
              "#d8576b"
             ],
             [
              0.6666666666666666,
              "#ed7953"
             ],
             [
              0.7777777777777778,
              "#fb9f3a"
             ],
             [
              0.8888888888888888,
              "#fdca26"
             ],
             [
              1,
              "#f0f921"
             ]
            ],
            "type": "contour"
           }
          ],
          "contourcarpet": [
           {
            "colorbar": {
             "outlinewidth": 0,
             "ticks": ""
            },
            "type": "contourcarpet"
           }
          ],
          "heatmap": [
           {
            "colorbar": {
             "outlinewidth": 0,
             "ticks": ""
            },
            "colorscale": [
             [
              0,
              "#0d0887"
             ],
             [
              0.1111111111111111,
              "#46039f"
             ],
             [
              0.2222222222222222,
              "#7201a8"
             ],
             [
              0.3333333333333333,
              "#9c179e"
             ],
             [
              0.4444444444444444,
              "#bd3786"
             ],
             [
              0.5555555555555556,
              "#d8576b"
             ],
             [
              0.6666666666666666,
              "#ed7953"
             ],
             [
              0.7777777777777778,
              "#fb9f3a"
             ],
             [
              0.8888888888888888,
              "#fdca26"
             ],
             [
              1,
              "#f0f921"
             ]
            ],
            "type": "heatmap"
           }
          ],
          "histogram": [
           {
            "marker": {
             "pattern": {
              "fillmode": "overlay",
              "size": 10,
              "solidity": 0.2
             }
            },
            "type": "histogram"
           }
          ],
          "histogram2d": [
           {
            "colorbar": {
             "outlinewidth": 0,
             "ticks": ""
            },
            "colorscale": [
             [
              0,
              "#0d0887"
             ],
             [
              0.1111111111111111,
              "#46039f"
             ],
             [
              0.2222222222222222,
              "#7201a8"
             ],
             [
              0.3333333333333333,
              "#9c179e"
             ],
             [
              0.4444444444444444,
              "#bd3786"
             ],
             [
              0.5555555555555556,
              "#d8576b"
             ],
             [
              0.6666666666666666,
              "#ed7953"
             ],
             [
              0.7777777777777778,
              "#fb9f3a"
             ],
             [
              0.8888888888888888,
              "#fdca26"
             ],
             [
              1,
              "#f0f921"
             ]
            ],
            "type": "histogram2d"
           }
          ],
          "histogram2dcontour": [
           {
            "colorbar": {
             "outlinewidth": 0,
             "ticks": ""
            },
            "colorscale": [
             [
              0,
              "#0d0887"
             ],
             [
              0.1111111111111111,
              "#46039f"
             ],
             [
              0.2222222222222222,
              "#7201a8"
             ],
             [
              0.3333333333333333,
              "#9c179e"
             ],
             [
              0.4444444444444444,
              "#bd3786"
             ],
             [
              0.5555555555555556,
              "#d8576b"
             ],
             [
              0.6666666666666666,
              "#ed7953"
             ],
             [
              0.7777777777777778,
              "#fb9f3a"
             ],
             [
              0.8888888888888888,
              "#fdca26"
             ],
             [
              1,
              "#f0f921"
             ]
            ],
            "type": "histogram2dcontour"
           }
          ],
          "mesh3d": [
           {
            "colorbar": {
             "outlinewidth": 0,
             "ticks": ""
            },
            "type": "mesh3d"
           }
          ],
          "parcoords": [
           {
            "line": {
             "colorbar": {
              "outlinewidth": 0,
              "ticks": ""
             }
            },
            "type": "parcoords"
           }
          ],
          "pie": [
           {
            "automargin": true,
            "type": "pie"
           }
          ],
          "scatter": [
           {
            "fillpattern": {
             "fillmode": "overlay",
             "size": 10,
             "solidity": 0.2
            },
            "type": "scatter"
           }
          ],
          "scatter3d": [
           {
            "line": {
             "colorbar": {
              "outlinewidth": 0,
              "ticks": ""
             }
            },
            "marker": {
             "colorbar": {
              "outlinewidth": 0,
              "ticks": ""
             }
            },
            "type": "scatter3d"
           }
          ],
          "scattercarpet": [
           {
            "marker": {
             "colorbar": {
              "outlinewidth": 0,
              "ticks": ""
             }
            },
            "type": "scattercarpet"
           }
          ],
          "scattergeo": [
           {
            "marker": {
             "colorbar": {
              "outlinewidth": 0,
              "ticks": ""
             }
            },
            "type": "scattergeo"
           }
          ],
          "scattergl": [
           {
            "marker": {
             "colorbar": {
              "outlinewidth": 0,
              "ticks": ""
             }
            },
            "type": "scattergl"
           }
          ],
          "scattermap": [
           {
            "marker": {
             "colorbar": {
              "outlinewidth": 0,
              "ticks": ""
             }
            },
            "type": "scattermap"
           }
          ],
          "scattermapbox": [
           {
            "marker": {
             "colorbar": {
              "outlinewidth": 0,
              "ticks": ""
             }
            },
            "type": "scattermapbox"
           }
          ],
          "scatterpolar": [
           {
            "marker": {
             "colorbar": {
              "outlinewidth": 0,
              "ticks": ""
             }
            },
            "type": "scatterpolar"
           }
          ],
          "scatterpolargl": [
           {
            "marker": {
             "colorbar": {
              "outlinewidth": 0,
              "ticks": ""
             }
            },
            "type": "scatterpolargl"
           }
          ],
          "scatterternary": [
           {
            "marker": {
             "colorbar": {
              "outlinewidth": 0,
              "ticks": ""
             }
            },
            "type": "scatterternary"
           }
          ],
          "surface": [
           {
            "colorbar": {
             "outlinewidth": 0,
             "ticks": ""
            },
            "colorscale": [
             [
              0,
              "#0d0887"
             ],
             [
              0.1111111111111111,
              "#46039f"
             ],
             [
              0.2222222222222222,
              "#7201a8"
             ],
             [
              0.3333333333333333,
              "#9c179e"
             ],
             [
              0.4444444444444444,
              "#bd3786"
             ],
             [
              0.5555555555555556,
              "#d8576b"
             ],
             [
              0.6666666666666666,
              "#ed7953"
             ],
             [
              0.7777777777777778,
              "#fb9f3a"
             ],
             [
              0.8888888888888888,
              "#fdca26"
             ],
             [
              1,
              "#f0f921"
             ]
            ],
            "type": "surface"
           }
          ],
          "table": [
           {
            "cells": {
             "fill": {
              "color": "#EBF0F8"
             },
             "line": {
              "color": "white"
             }
            },
            "header": {
             "fill": {
              "color": "#C8D4E3"
             },
             "line": {
              "color": "white"
             }
            },
            "type": "table"
           }
          ]
         },
         "layout": {
          "annotationdefaults": {
           "arrowcolor": "#2a3f5f",
           "arrowhead": 0,
           "arrowwidth": 1
          },
          "autotypenumbers": "strict",
          "coloraxis": {
           "colorbar": {
            "outlinewidth": 0,
            "ticks": ""
           }
          },
          "colorscale": {
           "diverging": [
            [
             0,
             "#8e0152"
            ],
            [
             0.1,
             "#c51b7d"
            ],
            [
             0.2,
             "#de77ae"
            ],
            [
             0.3,
             "#f1b6da"
            ],
            [
             0.4,
             "#fde0ef"
            ],
            [
             0.5,
             "#f7f7f7"
            ],
            [
             0.6,
             "#e6f5d0"
            ],
            [
             0.7,
             "#b8e186"
            ],
            [
             0.8,
             "#7fbc41"
            ],
            [
             0.9,
             "#4d9221"
            ],
            [
             1,
             "#276419"
            ]
           ],
           "sequential": [
            [
             0,
             "#0d0887"
            ],
            [
             0.1111111111111111,
             "#46039f"
            ],
            [
             0.2222222222222222,
             "#7201a8"
            ],
            [
             0.3333333333333333,
             "#9c179e"
            ],
            [
             0.4444444444444444,
             "#bd3786"
            ],
            [
             0.5555555555555556,
             "#d8576b"
            ],
            [
             0.6666666666666666,
             "#ed7953"
            ],
            [
             0.7777777777777778,
             "#fb9f3a"
            ],
            [
             0.8888888888888888,
             "#fdca26"
            ],
            [
             1,
             "#f0f921"
            ]
           ],
           "sequentialminus": [
            [
             0,
             "#0d0887"
            ],
            [
             0.1111111111111111,
             "#46039f"
            ],
            [
             0.2222222222222222,
             "#7201a8"
            ],
            [
             0.3333333333333333,
             "#9c179e"
            ],
            [
             0.4444444444444444,
             "#bd3786"
            ],
            [
             0.5555555555555556,
             "#d8576b"
            ],
            [
             0.6666666666666666,
             "#ed7953"
            ],
            [
             0.7777777777777778,
             "#fb9f3a"
            ],
            [
             0.8888888888888888,
             "#fdca26"
            ],
            [
             1,
             "#f0f921"
            ]
           ]
          },
          "colorway": [
           "#636efa",
           "#EF553B",
           "#00cc96",
           "#ab63fa",
           "#FFA15A",
           "#19d3f3",
           "#FF6692",
           "#B6E880",
           "#FF97FF",
           "#FECB52"
          ],
          "font": {
           "color": "#2a3f5f"
          },
          "geo": {
           "bgcolor": "white",
           "lakecolor": "white",
           "landcolor": "#E5ECF6",
           "showlakes": true,
           "showland": true,
           "subunitcolor": "white"
          },
          "hoverlabel": {
           "align": "left"
          },
          "hovermode": "closest",
          "mapbox": {
           "style": "light"
          },
          "paper_bgcolor": "white",
          "plot_bgcolor": "#E5ECF6",
          "polar": {
           "angularaxis": {
            "gridcolor": "white",
            "linecolor": "white",
            "ticks": ""
           },
           "bgcolor": "#E5ECF6",
           "radialaxis": {
            "gridcolor": "white",
            "linecolor": "white",
            "ticks": ""
           }
          },
          "scene": {
           "xaxis": {
            "backgroundcolor": "#E5ECF6",
            "gridcolor": "white",
            "gridwidth": 2,
            "linecolor": "white",
            "showbackground": true,
            "ticks": "",
            "zerolinecolor": "white"
           },
           "yaxis": {
            "backgroundcolor": "#E5ECF6",
            "gridcolor": "white",
            "gridwidth": 2,
            "linecolor": "white",
            "showbackground": true,
            "ticks": "",
            "zerolinecolor": "white"
           },
           "zaxis": {
            "backgroundcolor": "#E5ECF6",
            "gridcolor": "white",
            "gridwidth": 2,
            "linecolor": "white",
            "showbackground": true,
            "ticks": "",
            "zerolinecolor": "white"
           }
          },
          "shapedefaults": {
           "line": {
            "color": "#2a3f5f"
           }
          },
          "ternary": {
           "aaxis": {
            "gridcolor": "white",
            "linecolor": "white",
            "ticks": ""
           },
           "baxis": {
            "gridcolor": "white",
            "linecolor": "white",
            "ticks": ""
           },
           "bgcolor": "#E5ECF6",
           "caxis": {
            "gridcolor": "white",
            "linecolor": "white",
            "ticks": ""
           }
          },
          "title": {
           "x": 0.05
          },
          "xaxis": {
           "automargin": true,
           "gridcolor": "white",
           "linecolor": "white",
           "ticks": "",
           "title": {
            "standoff": 15
           },
           "zerolinecolor": "white",
           "zerolinewidth": 2
          },
          "yaxis": {
           "automargin": true,
           "gridcolor": "white",
           "linecolor": "white",
           "ticks": "",
           "title": {
            "standoff": 15
           },
           "zerolinecolor": "white",
           "zerolinewidth": 2
          }
         }
        },
        "title": {
         "text": "3D Neuron Distribution (Gray: score<0.5)"
        },
        "width": 800
       }
      }
     },
     "metadata": {},
     "output_type": "display_data"
    }
   ],
   "source": [
    "import plotly.graph_objects as go\n",
    "\n",
    "fig = go.Figure()\n",
    "\n",
    "fig.add_trace(go.Scatter3d(\n",
    "    x=diffusion_coordinates[:, 0],\n",
    "    y=diffusion_coordinates[:, 1],\n",
    "    z=diffusion_coordinates[:, 2],\n",
    "    mode='markers',\n",
    "    marker=dict(\n",
    "        size=4,\n",
    "        color = all_waveform_umap[:, 0],\n",
    "        colorscale = 'blues',\n",
    "        colorbar=dict(\n",
    "            title='Excitatory Score'\n",
    "        )\n",
    "    ),\n",
    "    name='Neurons'\n",
    "))\n",
    "\n",
    "fig.update_layout(\n",
    "    title='3D Neuron Distribution (Gray: score<0.5)',\n",
    "    scene=dict(\n",
    "        xaxis_title='Diffusion Axis 1',\n",
    "        yaxis_title='Diffusion Axis 2',\n",
    "        zaxis_title='Diffusion Axis 3',\n",
    "        camera=dict(eye=dict(x=1.5, y=1, z=0.1))\n",
    "    ),\n",
    "    width=800,\n",
    "    height=600\n",
    ")\n",
    "\n",
    "fig.show()"
   ]
  },
  {
   "cell_type": "code",
   "execution_count": 11,
   "id": "d586a54f",
   "metadata": {},
   "outputs": [],
   "source": [
    "activity = np.stack(stimulus_df['VISp'].values, axis=2)"
   ]
  },
  {
   "cell_type": "code",
   "execution_count": 143,
   "id": "065d2d7f",
   "metadata": {},
   "outputs": [],
   "source": [
    "response_matrix = activity[12, :, :].T\n",
    "neuron_means = np.mean(response_matrix, axis=1, keepdims=True)\n",
    "neuron_stds = np.std(response_matrix, axis=1, keepdims=True)\n",
    "response_matrix_z = (response_matrix - neuron_means) / (neuron_stds + 1e-8)\n",
    "\n",
    "n_components = 15  \n",
    "svd = TruncatedSVD(n_components=n_components, random_state=42)\n",
    "svd_components = svd.fit_transform(response_matrix_z)\n",
    "\n",
    "explained_variance = svd.explained_variance_ratio_\n",
    "cumulative_variance = np.cumsum(explained_variance)\n",
    "\n",
    "\n",
    "n_effective = np.argmax(cumulative_variance >= 0.95) + 1\n",
    "\n",
    "dm = diffusion_map.DiffusionMap.from_sklearn(n_evecs = 3, epsilon = 1.0, alpha = 0.5, k=32)\n",
    "diffusion_coordinates = dm.fit_transform(svd_components)"
   ]
  },
  {
   "cell_type": "code",
   "execution_count": 37,
   "id": "99fd9c8f",
   "metadata": {},
   "outputs": [
    {
     "data": {
      "text/plain": [
       "(657, 26)"
      ]
     },
     "execution_count": 37,
     "metadata": {},
     "output_type": "execute_result"
    }
   ],
   "source": [
    "response_matrix_z.shape"
   ]
  },
  {
   "cell_type": "code",
   "execution_count": 43,
   "id": "960696f7",
   "metadata": {},
   "outputs": [],
   "source": [
    "neuron_inf = pd.DataFrame(filtered_neuron['VISp'], columns=['id'])\n",
    "neuron_inf = pd.concat((neuron_inf, pd.DataFrame(diffusion_coordinates)), axis=1)\n",
    "neuron_inf['activity'] = list(np.stack(temp['VISp'].values, axis=2))"
   ]
  },
  {
   "cell_type": "code",
   "execution_count": 44,
   "id": "87a57905",
   "metadata": {},
   "outputs": [],
   "source": [
    "neuron_inf = neuron_inf.sort_values(by=0)"
   ]
  },
  {
   "cell_type": "code",
   "execution_count": 29,
   "id": "ab73f98f",
   "metadata": {},
   "outputs": [],
   "source": [
    "def cal_OSI(neuron_inf):\n",
    "    index_map = {\n",
    "        0:4,\n",
    "        1:-1,\n",
    "        2:3,\n",
    "        4:0,\n",
    "        5:1,\n",
    "        3:2\n",
    "    }\n",
    "    for i in range(len(neuron_inf)):\n",
    "        activity = neuron_inf['activity'].values[i]\n",
    "        mean_activity = activity.mean(axis = 0)\n",
    "        activity_index = np.argmax(mean_activity)\n",
    "        R_ref = mean_activity[activity_index]\n",
    "        R_orth = mean_activity[index_map[activity_index]]\n",
    "        OSI = (R_ref - R_orth) / (R_ref + R_orth)\n",
    "        neuron_inf['OSI'].values[i] = OSI"
   ]
  },
  {
   "cell_type": "code",
   "execution_count": 181,
   "id": "6ef786d7",
   "metadata": {},
   "outputs": [],
   "source": [
    "with PdfPages(\"/media/ubuntu/sda/neuropixels/grating/neuron_activity.pdf\") as pdf:\n",
    "    neuron_inf = neuron_inf.sort_values(by=0)\n",
    "    for neuron in range(0, len(neuron_inf), 5):\n",
    "        fig, axes = plt.subplots(3, 2, figsize=(10, 8))\n",
    "        axes = axes.flatten()\n",
    "\n",
    "        activity = neuron_inf['activity'].values[neuron]\n",
    "        activity_max = activity.max()\n",
    "        activity = activity / activity_max\n",
    "        orientation_labels = [0.0, 30.0, 60.0, 90.0, 120.0, 150.0]  \n",
    "\n",
    "        for i in range(5):\n",
    "            ax = axes[i]\n",
    "            temp = activity[:, i * 6 : (i + 1) * 6]\n",
    "            \n",
    "            temp_transposed = temp.T\n",
    "            \n",
    "            sns.heatmap(temp_transposed, ax=ax, vmax=1.0, vmin=0)\n",
    "            \n",
    "            ax.set_yticks(np.arange(6))\n",
    "            ax.set_yticklabels(orientation_labels)\n",
    "            ax.set_ylabel(\"Orientation (deg)\")\n",
    "            \n",
    "            ax.set_title(f\"Frequency Group {i+1}\")\n",
    "        \n",
    "        plt.title(neuron)\n",
    "        plt.tight_layout()\n",
    "        pdf.savefig()\n",
    "        plt.close()"
   ]
  },
  {
   "cell_type": "code",
   "execution_count": 85,
   "id": "7fed7e88",
   "metadata": {},
   "outputs": [],
   "source": [
    "from scipy.stats import entropy, norm\n",
    "neuron_inf['entropy'] = None\n",
    "def cal_entrophy(neuron_inf):\n",
    "    for i in range(len(neuron_inf)):\n",
    "        activity = neuron_inf['activity'].values[i]\n",
    "        max_time = np.argmax(activity, axis = 0)\n",
    "        hist, _ = np.histogram(max_time, bins=15, density=True, range=(1, 26))\n",
    "        hist = hist / hist.sum()\n",
    "\n",
    "        time_points = np.linspace(0, 26, 15)\n",
    "        ref_dist = norm.pdf(time_points, loc=5, scale=2)  \n",
    "        ref_dist = ref_dist / ref_dist.sum()\n",
    "\n",
    "        kl_divergence = entropy(hist, ref_dist)\n",
    "\n",
    "\n",
    "        neuron_inf['entropy'].values[i] = kl_divergence\n",
    "cal_entrophy(neuron_inf)"
   ]
  },
  {
   "cell_type": "code",
   "execution_count": 113,
   "id": "43d1b44e",
   "metadata": {},
   "outputs": [
    {
     "data": {
      "application/vnd.plotly.v1+json": {
       "config": {
        "plotlyServerURL": "https://plot.ly"
       },
       "data": [
        {
         "marker": {
          "size": 4
         },
         "mode": "markers",
         "name": "Neurons",
         "type": "scatter3d",
         "x": {
          "bdata": "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",
          "dtype": "f8"
         },
         "y": {
          "bdata": "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",
          "dtype": "f8"
         },
         "z": {
          "bdata": "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",
          "dtype": "f8"
         }
        }
       ],
       "layout": {
        "height": 600,
        "scene": {
         "camera": {
          "eye": {
           "x": 1.5,
           "y": 1,
           "z": 0.1
          }
         },
         "xaxis": {
          "title": {
           "text": "Diffusion Axis 1"
          }
         },
         "yaxis": {
          "title": {
           "text": "Diffusion Axis 2"
          }
         },
         "zaxis": {
          "title": {
           "text": "Diffusion Axis 3"
          }
         }
        },
        "template": {
         "data": {
          "bar": [
           {
            "error_x": {
             "color": "#2a3f5f"
            },
            "error_y": {
             "color": "#2a3f5f"
            },
            "marker": {
             "line": {
              "color": "#E5ECF6",
              "width": 0.5
             },
             "pattern": {
              "fillmode": "overlay",
              "size": 10,
              "solidity": 0.2
             }
            },
            "type": "bar"
           }
          ],
          "barpolar": [
           {
            "marker": {
             "line": {
              "color": "#E5ECF6",
              "width": 0.5
             },
             "pattern": {
              "fillmode": "overlay",
              "size": 10,
              "solidity": 0.2
             }
            },
            "type": "barpolar"
           }
          ],
          "carpet": [
           {
            "aaxis": {
             "endlinecolor": "#2a3f5f",
             "gridcolor": "white",
             "linecolor": "white",
             "minorgridcolor": "white",
             "startlinecolor": "#2a3f5f"
            },
            "baxis": {
             "endlinecolor": "#2a3f5f",
             "gridcolor": "white",
             "linecolor": "white",
             "minorgridcolor": "white",
             "startlinecolor": "#2a3f5f"
            },
            "type": "carpet"
           }
          ],
          "choropleth": [
           {
            "colorbar": {
             "outlinewidth": 0,
             "ticks": ""
            },
            "type": "choropleth"
           }
          ],
          "contour": [
           {
            "colorbar": {
             "outlinewidth": 0,
             "ticks": ""
            },
            "colorscale": [
             [
              0,
              "#0d0887"
             ],
             [
              0.1111111111111111,
              "#46039f"
             ],
             [
              0.2222222222222222,
              "#7201a8"
             ],
             [
              0.3333333333333333,
              "#9c179e"
             ],
             [
              0.4444444444444444,
              "#bd3786"
             ],
             [
              0.5555555555555556,
              "#d8576b"
             ],
             [
              0.6666666666666666,
              "#ed7953"
             ],
             [
              0.7777777777777778,
              "#fb9f3a"
             ],
             [
              0.8888888888888888,
              "#fdca26"
             ],
             [
              1,
              "#f0f921"
             ]
            ],
            "type": "contour"
           }
          ],
          "contourcarpet": [
           {
            "colorbar": {
             "outlinewidth": 0,
             "ticks": ""
            },
            "type": "contourcarpet"
           }
          ],
          "heatmap": [
           {
            "colorbar": {
             "outlinewidth": 0,
             "ticks": ""
            },
            "colorscale": [
             [
              0,
              "#0d0887"
             ],
             [
              0.1111111111111111,
              "#46039f"
             ],
             [
              0.2222222222222222,
              "#7201a8"
             ],
             [
              0.3333333333333333,
              "#9c179e"
             ],
             [
              0.4444444444444444,
              "#bd3786"
             ],
             [
              0.5555555555555556,
              "#d8576b"
             ],
             [
              0.6666666666666666,
              "#ed7953"
             ],
             [
              0.7777777777777778,
              "#fb9f3a"
             ],
             [
              0.8888888888888888,
              "#fdca26"
             ],
             [
              1,
              "#f0f921"
             ]
            ],
            "type": "heatmap"
           }
          ],
          "histogram": [
           {
            "marker": {
             "pattern": {
              "fillmode": "overlay",
              "size": 10,
              "solidity": 0.2
             }
            },
            "type": "histogram"
           }
          ],
          "histogram2d": [
           {
            "colorbar": {
             "outlinewidth": 0,
             "ticks": ""
            },
            "colorscale": [
             [
              0,
              "#0d0887"
             ],
             [
              0.1111111111111111,
              "#46039f"
             ],
             [
              0.2222222222222222,
              "#7201a8"
             ],
             [
              0.3333333333333333,
              "#9c179e"
             ],
             [
              0.4444444444444444,
              "#bd3786"
             ],
             [
              0.5555555555555556,
              "#d8576b"
             ],
             [
              0.6666666666666666,
              "#ed7953"
             ],
             [
              0.7777777777777778,
              "#fb9f3a"
             ],
             [
              0.8888888888888888,
              "#fdca26"
             ],
             [
              1,
              "#f0f921"
             ]
            ],
            "type": "histogram2d"
           }
          ],
          "histogram2dcontour": [
           {
            "colorbar": {
             "outlinewidth": 0,
             "ticks": ""
            },
            "colorscale": [
             [
              0,
              "#0d0887"
             ],
             [
              0.1111111111111111,
              "#46039f"
             ],
             [
              0.2222222222222222,
              "#7201a8"
             ],
             [
              0.3333333333333333,
              "#9c179e"
             ],
             [
              0.4444444444444444,
              "#bd3786"
             ],
             [
              0.5555555555555556,
              "#d8576b"
             ],
             [
              0.6666666666666666,
              "#ed7953"
             ],
             [
              0.7777777777777778,
              "#fb9f3a"
             ],
             [
              0.8888888888888888,
              "#fdca26"
             ],
             [
              1,
              "#f0f921"
             ]
            ],
            "type": "histogram2dcontour"
           }
          ],
          "mesh3d": [
           {
            "colorbar": {
             "outlinewidth": 0,
             "ticks": ""
            },
            "type": "mesh3d"
           }
          ],
          "parcoords": [
           {
            "line": {
             "colorbar": {
              "outlinewidth": 0,
              "ticks": ""
             }
            },
            "type": "parcoords"
           }
          ],
          "pie": [
           {
            "automargin": true,
            "type": "pie"
           }
          ],
          "scatter": [
           {
            "fillpattern": {
             "fillmode": "overlay",
             "size": 10,
             "solidity": 0.2
            },
            "type": "scatter"
           }
          ],
          "scatter3d": [
           {
            "line": {
             "colorbar": {
              "outlinewidth": 0,
              "ticks": ""
             }
            },
            "marker": {
             "colorbar": {
              "outlinewidth": 0,
              "ticks": ""
             }
            },
            "type": "scatter3d"
           }
          ],
          "scattercarpet": [
           {
            "marker": {
             "colorbar": {
              "outlinewidth": 0,
              "ticks": ""
             }
            },
            "type": "scattercarpet"
           }
          ],
          "scattergeo": [
           {
            "marker": {
             "colorbar": {
              "outlinewidth": 0,
              "ticks": ""
             }
            },
            "type": "scattergeo"
           }
          ],
          "scattergl": [
           {
            "marker": {
             "colorbar": {
              "outlinewidth": 0,
              "ticks": ""
             }
            },
            "type": "scattergl"
           }
          ],
          "scattermap": [
           {
            "marker": {
             "colorbar": {
              "outlinewidth": 0,
              "ticks": ""
             }
            },
            "type": "scattermap"
           }
          ],
          "scattermapbox": [
           {
            "marker": {
             "colorbar": {
              "outlinewidth": 0,
              "ticks": ""
             }
            },
            "type": "scattermapbox"
           }
          ],
          "scatterpolar": [
           {
            "marker": {
             "colorbar": {
              "outlinewidth": 0,
              "ticks": ""
             }
            },
            "type": "scatterpolar"
           }
          ],
          "scatterpolargl": [
           {
            "marker": {
             "colorbar": {
              "outlinewidth": 0,
              "ticks": ""
             }
            },
            "type": "scatterpolargl"
           }
          ],
          "scatterternary": [
           {
            "marker": {
             "colorbar": {
              "outlinewidth": 0,
              "ticks": ""
             }
            },
            "type": "scatterternary"
           }
          ],
          "surface": [
           {
            "colorbar": {
             "outlinewidth": 0,
             "ticks": ""
            },
            "colorscale": [
             [
              0,
              "#0d0887"
             ],
             [
              0.1111111111111111,
              "#46039f"
             ],
             [
              0.2222222222222222,
              "#7201a8"
             ],
             [
              0.3333333333333333,
              "#9c179e"
             ],
             [
              0.4444444444444444,
              "#bd3786"
             ],
             [
              0.5555555555555556,
              "#d8576b"
             ],
             [
              0.6666666666666666,
              "#ed7953"
             ],
             [
              0.7777777777777778,
              "#fb9f3a"
             ],
             [
              0.8888888888888888,
              "#fdca26"
             ],
             [
              1,
              "#f0f921"
             ]
            ],
            "type": "surface"
           }
          ],
          "table": [
           {
            "cells": {
             "fill": {
              "color": "#EBF0F8"
             },
             "line": {
              "color": "white"
             }
            },
            "header": {
             "fill": {
              "color": "#C8D4E3"
             },
             "line": {
              "color": "white"
             }
            },
            "type": "table"
           }
          ]
         },
         "layout": {
          "annotationdefaults": {
           "arrowcolor": "#2a3f5f",
           "arrowhead": 0,
           "arrowwidth": 1
          },
          "autotypenumbers": "strict",
          "coloraxis": {
           "colorbar": {
            "outlinewidth": 0,
            "ticks": ""
           }
          },
          "colorscale": {
           "diverging": [
            [
             0,
             "#8e0152"
            ],
            [
             0.1,
             "#c51b7d"
            ],
            [
             0.2,
             "#de77ae"
            ],
            [
             0.3,
             "#f1b6da"
            ],
            [
             0.4,
             "#fde0ef"
            ],
            [
             0.5,
             "#f7f7f7"
            ],
            [
             0.6,
             "#e6f5d0"
            ],
            [
             0.7,
             "#b8e186"
            ],
            [
             0.8,
             "#7fbc41"
            ],
            [
             0.9,
             "#4d9221"
            ],
            [
             1,
             "#276419"
            ]
           ],
           "sequential": [
            [
             0,
             "#0d0887"
            ],
            [
             0.1111111111111111,
             "#46039f"
            ],
            [
             0.2222222222222222,
             "#7201a8"
            ],
            [
             0.3333333333333333,
             "#9c179e"
            ],
            [
             0.4444444444444444,
             "#bd3786"
            ],
            [
             0.5555555555555556,
             "#d8576b"
            ],
            [
             0.6666666666666666,
             "#ed7953"
            ],
            [
             0.7777777777777778,
             "#fb9f3a"
            ],
            [
             0.8888888888888888,
             "#fdca26"
            ],
            [
             1,
             "#f0f921"
            ]
           ],
           "sequentialminus": [
            [
             0,
             "#0d0887"
            ],
            [
             0.1111111111111111,
             "#46039f"
            ],
            [
             0.2222222222222222,
             "#7201a8"
            ],
            [
             0.3333333333333333,
             "#9c179e"
            ],
            [
             0.4444444444444444,
             "#bd3786"
            ],
            [
             0.5555555555555556,
             "#d8576b"
            ],
            [
             0.6666666666666666,
             "#ed7953"
            ],
            [
             0.7777777777777778,
             "#fb9f3a"
            ],
            [
             0.8888888888888888,
             "#fdca26"
            ],
            [
             1,
             "#f0f921"
            ]
           ]
          },
          "colorway": [
           "#636efa",
           "#EF553B",
           "#00cc96",
           "#ab63fa",
           "#FFA15A",
           "#19d3f3",
           "#FF6692",
           "#B6E880",
           "#FF97FF",
           "#FECB52"
          ],
          "font": {
           "color": "#2a3f5f"
          },
          "geo": {
           "bgcolor": "white",
           "lakecolor": "white",
           "landcolor": "#E5ECF6",
           "showlakes": true,
           "showland": true,
           "subunitcolor": "white"
          },
          "hoverlabel": {
           "align": "left"
          },
          "hovermode": "closest",
          "mapbox": {
           "style": "light"
          },
          "paper_bgcolor": "white",
          "plot_bgcolor": "#E5ECF6",
          "polar": {
           "angularaxis": {
            "gridcolor": "white",
            "linecolor": "white",
            "ticks": ""
           },
           "bgcolor": "#E5ECF6",
           "radialaxis": {
            "gridcolor": "white",
            "linecolor": "white",
            "ticks": ""
           }
          },
          "scene": {
           "xaxis": {
            "backgroundcolor": "#E5ECF6",
            "gridcolor": "white",
            "gridwidth": 2,
            "linecolor": "white",
            "showbackground": true,
            "ticks": "",
            "zerolinecolor": "white"
           },
           "yaxis": {
            "backgroundcolor": "#E5ECF6",
            "gridcolor": "white",
            "gridwidth": 2,
            "linecolor": "white",
            "showbackground": true,
            "ticks": "",
            "zerolinecolor": "white"
           },
           "zaxis": {
            "backgroundcolor": "#E5ECF6",
            "gridcolor": "white",
            "gridwidth": 2,
            "linecolor": "white",
            "showbackground": true,
            "ticks": "",
            "zerolinecolor": "white"
           }
          },
          "shapedefaults": {
           "line": {
            "color": "#2a3f5f"
           }
          },
          "ternary": {
           "aaxis": {
            "gridcolor": "white",
            "linecolor": "white",
            "ticks": ""
           },
           "baxis": {
            "gridcolor": "white",
            "linecolor": "white",
            "ticks": ""
           },
           "bgcolor": "#E5ECF6",
           "caxis": {
            "gridcolor": "white",
            "linecolor": "white",
            "ticks": ""
           }
          },
          "title": {
           "x": 0.05
          },
          "xaxis": {
           "automargin": true,
           "gridcolor": "white",
           "linecolor": "white",
           "ticks": "",
           "title": {
            "standoff": 15
           },
           "zerolinecolor": "white",
           "zerolinewidth": 2
          },
          "yaxis": {
           "automargin": true,
           "gridcolor": "white",
           "linecolor": "white",
           "ticks": "",
           "title": {
            "standoff": 15
           },
           "zerolinecolor": "white",
           "zerolinewidth": 2
          }
         }
        },
        "title": {
         "text": "3D Neuron Distribution (Gray: score<0.5)"
        },
        "width": 800
       }
      }
     },
     "metadata": {},
     "output_type": "display_data"
    }
   ],
   "source": [
    "fig = go.Figure()\n",
    "\n",
    "fig.add_trace(go.Scatter3d(\n",
    "    x=diffusion_coordinates[:, 0],\n",
    "    y=diffusion_coordinates[:, 1],\n",
    "    z=diffusion_coordinates[:, 2],\n",
    "    mode='markers',\n",
    "    marker=dict(\n",
    "        size=4\n",
    "    ),\n",
    "    name='Neurons'\n",
    "))\n",
    "\n",
    "fig.update_layout(\n",
    "    title='3D Neuron Distribution (Gray: score<0.5)',\n",
    "    scene=dict(\n",
    "        xaxis_title='Diffusion Axis 1',\n",
    "        yaxis_title='Diffusion Axis 2',\n",
    "        zaxis_title='Diffusion Axis 3',\n",
    "        camera=dict(eye=dict(x=1.5, y=1, z=0.1))\n",
    "    ),\n",
    "    width=800,\n",
    "    height=600\n",
    ")\n",
    "\n",
    "fig.show()"
   ]
  },
  {
   "cell_type": "code",
   "execution_count": null,
   "id": "9e8da817",
   "metadata": {},
   "outputs": [
    {
     "data": {
      "application/vnd.plotly.v1+json": {
       "config": {
        "plotlyServerURL": "https://plot.ly"
       },
       "data": [
        {
         "marker": {
          "cmax": 1,
          "cmin": 0,
          "color": {
           "bdata": "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",
           "dtype": "f4"
          },
          "colorbar": {
           "len": 0.75,
           "lenmode": "fraction",
           "ticktext": [
            "<0.5",
            "≥0.5"
           ],
           "tickvals": [
            0.25,
            0.75
           ],
           "title": {
            "text": "Excitatory Score"
           }
          },
          "colorscale": [
           [
            0,
            "#DCDCDC"
           ],
           [
            0.5,
            "#DCDCDC"
           ],
           [
            0.5001,
            "rgb(200,200,255)"
           ],
           [
            1,
            "rgb(0,0,255)"
           ]
          ],
          "opacity": 1,
          "size": 4
         },
         "mode": "markers",
         "name": "Neurons",
         "type": "scatter3d",
         "x": {
          "bdata": "DLwta2kRvz+m4uPOU2XDP2Fips5T8MQ/tkIMkOEiur/eQrP2JZ3DPyjPkFqVjbi/NIfaU05NtD/Yg5gVE13FP6X2DDeticM/xjxU2IwcnD9/pBAgcYuZvzR6q+j2qMc/30TeyuWCmz/d/ZLFEyy5P6Vzkz8nXrw/9g6/zsXLoj8Hcg4oaoK/v38mS8s8G7O/bt/XRVoPnT9GNyHYiQK5v3QDgzteyb0/vwDFaxlQtT8jtL2906KUP/3hTt5Gw8A/3QladXepvT9ioNx3M+S5P1JFpI6kmME/2dI5EREuqr8CPcYjTgvCv5v+btOHTZA/BmD6ZnWJuD93Jy2cP3aVvzR9DlLckZq/fhMTg880tz+qjQEGMK/Iv+yU0CLV7rw/78lS+nEPsj+77bCJ0m2qPx5DvDn6sJ8/oiV1iw1qxb8v6r8IULCKvwXKIaO608I/z14hXogrvT9kgnpE323Kvwp1Hj4a8sU/BeaNKd79xT8ZDDYakn6xPzMvGhc6q7m/3p8BjjpBpr+3db4tMJS1v+bTaDS3o8m/xqYtcAb6ij/zJLz8D+dtP92g+eafC4A/F3MKnx9DhT943zdlJZqqPxQfsIe49L4/BSgvbKuKt7+7ysgAbwjAPwZgOpLizGY/PkTMYK7iwD/z6UhVKxKjPxJnDlghhJC/z00Crgs7xD+8rwd0eCe1PxrV0ueynrA/sbhr+/nptT8h5oFehAC2PyeNQm/6/KU/zuG7ymPDsL9GiPQN2qi3P1wxBDapbbc/shiwdlXEwj8ml9lwHWDIv2WgwsjTHb8/eYCKWwj7wr/NCcR/nr7Lv9ssSg/Cxc6/B19Z8nDkuD+422EFcgi/v1l1hdVvUKY/UqfSFIMQwD/mB90cLBK5P96Ymmxh27A/u4/eWtXAxT//IfbzZu7FPz0f9RMqrLA/kFdKVEchxT9U67oLlSHCPyKPnigU2cU/9tj1U4pRwT/jDOSJnl/EP8c2xQxf3KO/dHczgD37tb+Wqox7obGnP/vp5xem2sM/xqtDSCm4xj/FNe3Hzj/GP7l0sMEqyLg/1HSGeumWxj/bwUnvltG2vz7fxcE0rJ4/HqHGAxmfs78Xan7HeCuEv09uoFf1jay/2XcDjJue0L/35FkaRXOYv9Qh4yPmKMQ/KsFh4R4vxD+afn7YxPqlPwde/hvMnrk/btap+Hlptz/CXdhEHpuyvwir4mP2574/rE8gPFiO0L9zbwPmW57Rv4RyUOYBzdC/TxNhtDUTzr/aytI0OWy4P/9iSOECcXw/v4jbocFuwj9U1QTHO92mv9XWrdT76bS/dkZazwPZr78omTtDQWBHv71bUgv7BaY/IfDaot7TvL9W+FxaZ+W9P9306ICWG6c/cPw/MBZDsD/2WzsUh4LJv7VUACMeWLY/aYGkX9cNpL8NVhVXHhmzvwPotE2SfqE//Cnb5tFjuT/KSfHg4siNv6uohJcs85e/S92mppVwhr9Pc3kkI0+jv7QpiR8q866/EKHVW74vxj/Da8fBH1HFP3ScviB+Qag/nfiTYB7SmD/59/8rSlfMv16+2ze2T9C/wyG+Gg/izL/oeUhTkoHLv/p47QWunG2/6k0LGVMDtD9Fex1Os6yUv5SZc1opl6M/Y17APZ/oqj80I1td4S++P3tDy5SvWrI/4g4aMWbpuj8laMh7MXRuv+rSZrsqbKI/bA2mNgWA078XPw5El7zAv4HoDS29m5c/NC4cBrHxUL9vmJi0p1+yvyntTVk+nHq/iqaiclW7s79NYfCpw/+lvzn5NGD7z8y/IVhWumNkz7/agoRey0TPv2f/05hRuac/5FwwXeNYxD+M8CUBWyDNvyoFdwNyOcq/TrS69CpVtr+KtyPgh9XOv7fdjDb00LM/5SjXK4Bdur+sPgvBmGnNv/5GhicQKtK/e62TiNEytj+u7Vl/OMfBP22/iZO6e3i/9RR4UonFuj9w4MNO48q/P7TxWpfrucM/SogfyYUAwj9mxvol0Ke3v5rFzl6aYbI/boDA2Qhts7/Ziyi4m0e/P/7L8UF92MA/81aLD7HMyr/1xqLmLMGavzX2N1OrTr4/HFD43Kljvz/7mlr67BDKvxj8Vq3p/L4/h31e4v4XsL/AjbHpSnDFP7KnPeniVsI/XSr8UlTosD8yyCKHqYO0v9mEKVLp976/YC5wp/yvuz+YvuqIiVrBP9TN45WXiMO/yGNIJfp0tz/Ljq+vcEOlv1qeD8tteLm/3pKFQWmnyr8xbjHMI1i+P1jBGyc2epQ/eRDOlwy/uD+eUFMCfx+mvxypMJCjVs2/5tUyNthmxT9AA0CkZqqjvy8IU78fV8q/XmdHa23uxD8VUgBFA7a4P/w0/cQc+bg/7F97wRUwvr9gF65sUTa5P2mbwmu0GKo/LhcPAZCJp7+fSL3OkN2iP4y4ZtpNWbI/VJ8nXsqUq79hnzKonp3APzOW17y5Y2M/Ts85seYVwD/zcmZmsIa0v8AZS7Ptdbs/CZMY9wAPsD/w7D2xvYjCv17u8ySpZrY/97frp08YvL9Pjr+hQuuyPywKOx/3RKw/k5zECSZ7pb+c9Ld+cvXIvy5O5epY6MY/TBZCPnzJwD+sAiqbySrGP3n0f00VVqC/YcObZrNCub9I9EzD4oGoP3Nc9derLsQ/djAD/VCer78nKWV8bnewP9DiCBWqn7o/+wm0G54Hvz9LROlqW02tv+/zl09GXMa/xcLyn86ssz9vp4nhbwKQP7iPR2Dworm/sutSTJpLqT+okqQjBPrAPyEyYKYQo6g/r0LO18nZob8NETI2cHHHv0KKiYCfeb8/vibVIbkAuj+byB/aUlK/P+rKs2uMqpS/GV+z1hEpm79ZFwjkK0O9v2UXMUszR8a/w9YAB/mjtz8xBxwBISOMP/RcVERoH8U/IiLc60wSqT9HeKcTcsGtP/QSp2GkusY/nHY13PWkq7+ahKSHTbbAP+O1Ouy1bsQ/JWbblRK9oD+jneAYyk2kv3f4JzXglcW/9OlbtyXIwr/o4pNQFb61P/7fkzPDLcY/QOG8utnDzL+XP6Jip5yzv4Rbc4pje6g/kffxdw2Tbz/vTPv9Bc+wvyzlRypWoKO/HFT+w+FyqL+FMKyHjlvRv/MQScV/RL+/rQDSb4Srvj8wpvgJS8miv0Vwxlt0Lba/VsfsgwBpuz9NmF/UA1LCP4Q6vvDgsME/CBIjVwIzlD/mpQ481bO1P+o/f10a88+/uTAl86qMpL94lqWfuojEPwl/LTJmJb8/dQx+iu8qwz/IkgmifoJRP89SUeE42bI/GuWBZYB+rD96eSEfz6y8v10WL/kgfsi/tU3ToJIqwD/O68OMgfS7P3jhKbmNd6s/JuCvOiAbt78Xs8/8hw+xP9f8g0TonMM/A7z5q/DDtT++/NPVQri0P2da6FK4kqU/2O/BqNOenr/tQE95tMGrP3/sY+NShaK/WM6fBYUPz7/LVo3bllWkP+lXu88RMtC/M1AfHfgIrL+ZkyVrYIxqv6Zz7zjJ2o+/pf4ZT/qqwD+sAVEBTZrQv5dokqaXRdC/p4tvvakT0L8Ssp3HjVm5v6K2tdp1lcW/wJ3v3V3Qsr9JYwhMLiRbvwaH3jktxcG/h6NuqXHg0L+3wvZEZrzKvz04lL1yl70/fRtmH4phvT+Y/KDobx2Av18mucigqcA/bPEVkKb+UT8iXzX2a2CwP9WsTK9MpKm/TWQKdOAlsz+74lFigQ62P/QEuVb/KJk/d+6BfYtqpb+qtbQCjiW7P7PbksT8mtC/u1UoBmzpzr9hic1Cvm7Ov7I7REoBZps/nnN8uaRPw79kA7vs9lOOv/wgT7i0OtG/+5HqXIcAsD8AeIw6iiPEv/oBYNneu8q/1oYeuSgVsj+rdf1HB7uuP5O9Azxkr9C/e+SkoVYdtj+t9F6lU+GZv8uJe8jWq7w/Ips+nnhktb9DThENGIPRv+GvgFiKOtK/5NdvOVqelb/qUv5l5ZK3vy4mtrXgvou/zxksdMO6xr80rEVm5evNv7C0TEYmPMY/zaXtiqUGvj8p/qC2iw7Cv+DGglYPZMY/lHh5JGqWvz//sBg+GPXCP/FTW9t2Pp8/7lzM55Hfx7+20OfXWU28vwpUsTBY7Ku/PT/1PXpAtb999VlfzjW4PyNjSuzgTsK/PLUiqmVGpj+w4QUhXkTHP/ZddVSTgMM/AqEk1eNWuT+4yY6YlFzEP4GuWkMBSLc/+sttPQWGwr+v7gVDsESUv/K6L/C5Qsq/89pqdmhpg7+NkqosEMWjP5KU4mo4bcc/xopxWmoQsb/q5uJX8NLGv74Ninn9Qr+/TFKI7Q2+r78SvJjEsCzNv0HvGn7bZp0/J2OC+MFxxD9eXGT9Cc5yPwPAqbXrzr4/cNTNbSdkuD/GqFxjFW+UP8qBwAoqC72/uga2Bc47wD+UEUfrsHm5v4U6KK+Vtbe/JRvsixaTej8CvujK1wbIvzu+WOgvfLq/Jt0ur8kGmj80Rd4jgSq8vzzF4zvaIJS/irbudy6osj9MZOAldNGqv3j6k0uaLrM/Cw2qkfUiwj9XlKS1zdq6v3KgU3OP0bY/gCJfPiKNqj/DVe0tOmG6PzaNz7ZrVrO/gB1V48fA0b/us7gpsd6yP2uxbcpmPsA/iAYBNfXWxj933NWxVKnPv74lY3lgWcY/qUYlt42Tvz8N1Qmf3EedPwIvM6K+U8y/MScylMM0w7/d33RQYC2iv48Ws70P7ZQ/iX4nCItesz+p9XRajErFv0PztwNWV82/ANCtpMnOnL/1v/tBPtXBv4X+cfipx8S/iXzKuNnnwD/db9Jx23iVPxcoXrwP7r2/ABEHYi4Ior9hXa1d+eSvv+hHkPt3GsA/HFANMGCLoz/s+9BUide4P4PMI/vyC4m/0bIe7K3Gr7/EbhPj7Ea2v7ZEj/fukbi/y5usR+Ozp7/B0wkYpGTEP2Qm2Uuw0qq/h13+7Yu5tL/VL73fJLzAP8Gf5vVLG8I/z5LgvwMftz9+XK8q+gugv8srO+7VCru/YRmsMGoRmz/KomhvE8qXP/eFt/mGscG/tiGRo/v5wD+hhUAA42Crv+nmwx+XZrG/PiGvJnO0ib/vaNVm14K/v3m8r/SOsxG/S96UptcGtL9esxjU7YqtPzvIOeyQ4sO/JzJJpFNlyL/m6umiIx6iv3JV4Of8H8E/YW74EnkLxb/jkgOxWP7Gv0p1GowgN6i/iX4M+arEib/4yU52ICyUP3FDcaG18Yw/kk4Q159dmL+EcGs88kO8P0LJ9WYKKsI/BRORhZdMwD8pzPcuLtrEPySAUutW5rw/Bx+KpXWyvz/eQzJs2LrDP5f9Si50t7W/RvadZ67twb95duvE2+KRvzEnVLxXJK0/OZjGdv9avz/LkLXI2LiwP93/PV75YKY/tC/bwX4Luj+No9j2XBWrv/cdtKFReHq/pvKpeWj1h78nllJWdDjDP+otgF9Pk5e/OVDkYl6rqj/YfO6ErxfEvyuOlsBG/7I/Ei3E8Aqnxr82wFPdW26kPzH1xcXCkrg/VBhM8xZ9wb/+qoAXgbScP4pmEX+q/rw/4Uxl4u8NWD+vzdI540/EP0fVO0Wuw8u/rTWlLNWcxT9Ik/gfgVa6vzbIoE9AyNG/a1Chuaa2oz80gkefez/OvzHwvQha2c2/Inc/SRwhzr/90NBmlY6yPxVJqSPN5cE/lF5O78Iapz/Dp/3hYXO4vxEA+GQ6B8Q/JqiHF8KutD8wJbN2PFmhv3hXNI8fuKQ/y7aIWktAwz9UyYUueR6gvyphfe/MPcY/hsFcZmwLwr8Fe2pEID2av2hOcnJ8DMQ/er8aQ8NHwz8kaWZWS7mwP3MJHsq4wrw/L6A/oBl1x79HfyiW95e7v+qb9hHQL7E/iUsdsdhhfb+k93FKZ0ChP86Ok5FJSrc/UiMIYjPWtL/APFSJq1W9PxN37wfMZMU/knaFdRv5xD9PrZ4/wI6gvzqL2lKHAsS/bvC2Sy5Dzr9I9/NnGOnQv/byIpbvcca/MxztQTCkpz/r3ti7S/jAP4QniNGVbLE/iTV0V+2+wT8PAgcsB068P/Rs0V0/aKS/yqUxTeI/uz/0SL5T3L+oPzbZzloQWL2/Xj6L+ptYxT+l4SCO89K5P664h0UdO8G/6kjBZ6DQyr85lUnxaqPDP5YTQ1m4y7a/l+iuttVCxz8nYCgkPiOgv4xumAmpuq+/YMVrlxKFxj9cNDA3DE6TP8EsFPqCqK+/aEo/wr6WtL//sQp9pdS/P/sQgKJi5ME/GwNg99d8mr+/WD5cOyDCP/KQrVcB4q4/d+J820Ply7+twSx0xjahv1sig7qUN3C/luljRsbQn79bwrtXEq6bP238HtBUEci/V5eLgT8Hwz9qWKqyxIHJv2gwqrA9CcQ/nVRm6o/2nD/8DRJKTpvEv43L0XMb26E/+A72sXqBwL+VTlGrfQCtvxoH76c42c+/xisSi87awz+gh/uAtZHJvyleeuzf3s+/e1hBTHM8tL+gbtVIuavGPx5qfV995Ma/GuZw84L60r++jBDNTS+zPw4LvG+EqoI/MWevLMjdmj+4MvJA7GTEP/CQjew8tno/pvcCjpxqxD9idQNQpM67P7PeYLVq37A/97j1HdEcsr93Btl1nEnBP7eQs0A7XKo/4gFPo+4bd78nrJ/Z/qitP/nOUhroYb2/EqQQJREGsj8LaQ3ozoTDP5szg4y+Y56/Mxy1Ywv3gT9scekWOLXDv3DmzMVdAlm/qCDMG7wVvT8ZilSCOIbDP2WY9mlnS7y//udZnnb0wb8/0PeqyWO5P9KGqRlIv3e/Jg7hDc0RsT+NkZhMoBmSv6+eQ1elHqy/IRfvmdzVxT9ql3FIxIq+P60yBfiK+bc/5aN/iATkuT8IvufReSi1v1u7p+WQGrU/o3mvPplZyr/EcDXciDHAvzgliaLinsI/vgHFyPrbtb+i4bTkOCCrPyFX6j4Dvp4/wwOKGK0gtr/sE7n8oZXCP+dJS0yriaE/",
          "dtype": "f8"
         },
         "y": {
          "bdata": "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",
          "dtype": "f8"
         },
         "z": {
          "bdata": "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",
          "dtype": "f8"
         }
        }
       ],
       "layout": {
        "height": 600,
        "paper_bgcolor": "rgba(0,0,0,0)",
        "plot_bgcolor": "rgba(0,0,0,0)",
        "scene": {
         "bgcolor": "rgba(0,0,0,0)",
         "camera": {
          "eye": {
           "x": 1.5,
           "y": 1,
           "z": 0.1
          }
         },
         "xaxis": {
          "backgroundcolor": "rgba(0,0,0,0)",
          "showbackground": false,
          "showgrid": false,
          "title": {
           "text": "Diffusion Axis 1"
          }
         },
         "yaxis": {
          "backgroundcolor": "rgba(0,0,0,0)",
          "showbackground": false,
          "showgrid": false,
          "title": {
           "text": "Diffusion Axis 2"
          }
         },
         "zaxis": {
          "backgroundcolor": "rgba(0,0,0,0)",
          "showbackground": false,
          "showgrid": false,
          "title": {
           "text": "Diffusion Axis 3"
          }
         }
        },
        "template": {
         "data": {
          "bar": [
           {
            "error_x": {
             "color": "#2a3f5f"
            },
            "error_y": {
             "color": "#2a3f5f"
            },
            "marker": {
             "line": {
              "color": "#E5ECF6",
              "width": 0.5
             },
             "pattern": {
              "fillmode": "overlay",
              "size": 10,
              "solidity": 0.2
             }
            },
            "type": "bar"
           }
          ],
          "barpolar": [
           {
            "marker": {
             "line": {
              "color": "#E5ECF6",
              "width": 0.5
             },
             "pattern": {
              "fillmode": "overlay",
              "size": 10,
              "solidity": 0.2
             }
            },
            "type": "barpolar"
           }
          ],
          "carpet": [
           {
            "aaxis": {
             "endlinecolor": "#2a3f5f",
             "gridcolor": "white",
             "linecolor": "white",
             "minorgridcolor": "white",
             "startlinecolor": "#2a3f5f"
            },
            "baxis": {
             "endlinecolor": "#2a3f5f",
             "gridcolor": "white",
             "linecolor": "white",
             "minorgridcolor": "white",
             "startlinecolor": "#2a3f5f"
            },
            "type": "carpet"
           }
          ],
          "choropleth": [
           {
            "colorbar": {
             "outlinewidth": 0,
             "ticks": ""
            },
            "type": "choropleth"
           }
          ],
          "contour": [
           {
            "colorbar": {
             "outlinewidth": 0,
             "ticks": ""
            },
            "colorscale": [
             [
              0,
              "#0d0887"
             ],
             [
              0.1111111111111111,
              "#46039f"
             ],
             [
              0.2222222222222222,
              "#7201a8"
             ],
             [
              0.3333333333333333,
              "#9c179e"
             ],
             [
              0.4444444444444444,
              "#bd3786"
             ],
             [
              0.5555555555555556,
              "#d8576b"
             ],
             [
              0.6666666666666666,
              "#ed7953"
             ],
             [
              0.7777777777777778,
              "#fb9f3a"
             ],
             [
              0.8888888888888888,
              "#fdca26"
             ],
             [
              1,
              "#f0f921"
             ]
            ],
            "type": "contour"
           }
          ],
          "contourcarpet": [
           {
            "colorbar": {
             "outlinewidth": 0,
             "ticks": ""
            },
            "type": "contourcarpet"
           }
          ],
          "heatmap": [
           {
            "colorbar": {
             "outlinewidth": 0,
             "ticks": ""
            },
            "colorscale": [
             [
              0,
              "#0d0887"
             ],
             [
              0.1111111111111111,
              "#46039f"
             ],
             [
              0.2222222222222222,
              "#7201a8"
             ],
             [
              0.3333333333333333,
              "#9c179e"
             ],
             [
              0.4444444444444444,
              "#bd3786"
             ],
             [
              0.5555555555555556,
              "#d8576b"
             ],
             [
              0.6666666666666666,
              "#ed7953"
             ],
             [
              0.7777777777777778,
              "#fb9f3a"
             ],
             [
              0.8888888888888888,
              "#fdca26"
             ],
             [
              1,
              "#f0f921"
             ]
            ],
            "type": "heatmap"
           }
          ],
          "histogram": [
           {
            "marker": {
             "pattern": {
              "fillmode": "overlay",
              "size": 10,
              "solidity": 0.2
             }
            },
            "type": "histogram"
           }
          ],
          "histogram2d": [
           {
            "colorbar": {
             "outlinewidth": 0,
             "ticks": ""
            },
            "colorscale": [
             [
              0,
              "#0d0887"
             ],
             [
              0.1111111111111111,
              "#46039f"
             ],
             [
              0.2222222222222222,
              "#7201a8"
             ],
             [
              0.3333333333333333,
              "#9c179e"
             ],
             [
              0.4444444444444444,
              "#bd3786"
             ],
             [
              0.5555555555555556,
              "#d8576b"
             ],
             [
              0.6666666666666666,
              "#ed7953"
             ],
             [
              0.7777777777777778,
              "#fb9f3a"
             ],
             [
              0.8888888888888888,
              "#fdca26"
             ],
             [
              1,
              "#f0f921"
             ]
            ],
            "type": "histogram2d"
           }
          ],
          "histogram2dcontour": [
           {
            "colorbar": {
             "outlinewidth": 0,
             "ticks": ""
            },
            "colorscale": [
             [
              0,
              "#0d0887"
             ],
             [
              0.1111111111111111,
              "#46039f"
             ],
             [
              0.2222222222222222,
              "#7201a8"
             ],
             [
              0.3333333333333333,
              "#9c179e"
             ],
             [
              0.4444444444444444,
              "#bd3786"
             ],
             [
              0.5555555555555556,
              "#d8576b"
             ],
             [
              0.6666666666666666,
              "#ed7953"
             ],
             [
              0.7777777777777778,
              "#fb9f3a"
             ],
             [
              0.8888888888888888,
              "#fdca26"
             ],
             [
              1,
              "#f0f921"
             ]
            ],
            "type": "histogram2dcontour"
           }
          ],
          "mesh3d": [
           {
            "colorbar": {
             "outlinewidth": 0,
             "ticks": ""
            },
            "type": "mesh3d"
           }
          ],
          "parcoords": [
           {
            "line": {
             "colorbar": {
              "outlinewidth": 0,
              "ticks": ""
             }
            },
            "type": "parcoords"
           }
          ],
          "pie": [
           {
            "automargin": true,
            "type": "pie"
           }
          ],
          "scatter": [
           {
            "fillpattern": {
             "fillmode": "overlay",
             "size": 10,
             "solidity": 0.2
            },
            "type": "scatter"
           }
          ],
          "scatter3d": [
           {
            "line": {
             "colorbar": {
              "outlinewidth": 0,
              "ticks": ""
             }
            },
            "marker": {
             "colorbar": {
              "outlinewidth": 0,
              "ticks": ""
             }
            },
            "type": "scatter3d"
           }
          ],
          "scattercarpet": [
           {
            "marker": {
             "colorbar": {
              "outlinewidth": 0,
              "ticks": ""
             }
            },
            "type": "scattercarpet"
           }
          ],
          "scattergeo": [
           {
            "marker": {
             "colorbar": {
              "outlinewidth": 0,
              "ticks": ""
             }
            },
            "type": "scattergeo"
           }
          ],
          "scattergl": [
           {
            "marker": {
             "colorbar": {
              "outlinewidth": 0,
              "ticks": ""
             }
            },
            "type": "scattergl"
           }
          ],
          "scattermap": [
           {
            "marker": {
             "colorbar": {
              "outlinewidth": 0,
              "ticks": ""
             }
            },
            "type": "scattermap"
           }
          ],
          "scattermapbox": [
           {
            "marker": {
             "colorbar": {
              "outlinewidth": 0,
              "ticks": ""
             }
            },
            "type": "scattermapbox"
           }
          ],
          "scatterpolar": [
           {
            "marker": {
             "colorbar": {
              "outlinewidth": 0,
              "ticks": ""
             }
            },
            "type": "scatterpolar"
           }
          ],
          "scatterpolargl": [
           {
            "marker": {
             "colorbar": {
              "outlinewidth": 0,
              "ticks": ""
             }
            },
            "type": "scatterpolargl"
           }
          ],
          "scatterternary": [
           {
            "marker": {
             "colorbar": {
              "outlinewidth": 0,
              "ticks": ""
             }
            },
            "type": "scatterternary"
           }
          ],
          "surface": [
           {
            "colorbar": {
             "outlinewidth": 0,
             "ticks": ""
            },
            "colorscale": [
             [
              0,
              "#0d0887"
             ],
             [
              0.1111111111111111,
              "#46039f"
             ],
             [
              0.2222222222222222,
              "#7201a8"
             ],
             [
              0.3333333333333333,
              "#9c179e"
             ],
             [
              0.4444444444444444,
              "#bd3786"
             ],
             [
              0.5555555555555556,
              "#d8576b"
             ],
             [
              0.6666666666666666,
              "#ed7953"
             ],
             [
              0.7777777777777778,
              "#fb9f3a"
             ],
             [
              0.8888888888888888,
              "#fdca26"
             ],
             [
              1,
              "#f0f921"
             ]
            ],
            "type": "surface"
           }
          ],
          "table": [
           {
            "cells": {
             "fill": {
              "color": "#EBF0F8"
             },
             "line": {
              "color": "white"
             }
            },
            "header": {
             "fill": {
              "color": "#C8D4E3"
             },
             "line": {
              "color": "white"
             }
            },
            "type": "table"
           }
          ]
         },
         "layout": {
          "annotationdefaults": {
           "arrowcolor": "#2a3f5f",
           "arrowhead": 0,
           "arrowwidth": 1
          },
          "autotypenumbers": "strict",
          "coloraxis": {
           "colorbar": {
            "outlinewidth": 0,
            "ticks": ""
           }
          },
          "colorscale": {
           "diverging": [
            [
             0,
             "#8e0152"
            ],
            [
             0.1,
             "#c51b7d"
            ],
            [
             0.2,
             "#de77ae"
            ],
            [
             0.3,
             "#f1b6da"
            ],
            [
             0.4,
             "#fde0ef"
            ],
            [
             0.5,
             "#f7f7f7"
            ],
            [
             0.6,
             "#e6f5d0"
            ],
            [
             0.7,
             "#b8e186"
            ],
            [
             0.8,
             "#7fbc41"
            ],
            [
             0.9,
             "#4d9221"
            ],
            [
             1,
             "#276419"
            ]
           ],
           "sequential": [
            [
             0,
             "#0d0887"
            ],
            [
             0.1111111111111111,
             "#46039f"
            ],
            [
             0.2222222222222222,
             "#7201a8"
            ],
            [
             0.3333333333333333,
             "#9c179e"
            ],
            [
             0.4444444444444444,
             "#bd3786"
            ],
            [
             0.5555555555555556,
             "#d8576b"
            ],
            [
             0.6666666666666666,
             "#ed7953"
            ],
            [
             0.7777777777777778,
             "#fb9f3a"
            ],
            [
             0.8888888888888888,
             "#fdca26"
            ],
            [
             1,
             "#f0f921"
            ]
           ],
           "sequentialminus": [
            [
             0,
             "#0d0887"
            ],
            [
             0.1111111111111111,
             "#46039f"
            ],
            [
             0.2222222222222222,
             "#7201a8"
            ],
            [
             0.3333333333333333,
             "#9c179e"
            ],
            [
             0.4444444444444444,
             "#bd3786"
            ],
            [
             0.5555555555555556,
             "#d8576b"
            ],
            [
             0.6666666666666666,
             "#ed7953"
            ],
            [
             0.7777777777777778,
             "#fb9f3a"
            ],
            [
             0.8888888888888888,
             "#fdca26"
            ],
            [
             1,
             "#f0f921"
            ]
           ]
          },
          "colorway": [
           "#636efa",
           "#EF553B",
           "#00cc96",
           "#ab63fa",
           "#FFA15A",
           "#19d3f3",
           "#FF6692",
           "#B6E880",
           "#FF97FF",
           "#FECB52"
          ],
          "font": {
           "color": "#2a3f5f"
          },
          "geo": {
           "bgcolor": "white",
           "lakecolor": "white",
           "landcolor": "#E5ECF6",
           "showlakes": true,
           "showland": true,
           "subunitcolor": "white"
          },
          "hoverlabel": {
           "align": "left"
          },
          "hovermode": "closest",
          "mapbox": {
           "style": "light"
          },
          "paper_bgcolor": "white",
          "plot_bgcolor": "#E5ECF6",
          "polar": {
           "angularaxis": {
            "gridcolor": "white",
            "linecolor": "white",
            "ticks": ""
           },
           "bgcolor": "#E5ECF6",
           "radialaxis": {
            "gridcolor": "white",
            "linecolor": "white",
            "ticks": ""
           }
          },
          "scene": {
           "xaxis": {
            "backgroundcolor": "#E5ECF6",
            "gridcolor": "white",
            "gridwidth": 2,
            "linecolor": "white",
            "showbackground": true,
            "ticks": "",
            "zerolinecolor": "white"
           },
           "yaxis": {
            "backgroundcolor": "#E5ECF6",
            "gridcolor": "white",
            "gridwidth": 2,
            "linecolor": "white",
            "showbackground": true,
            "ticks": "",
            "zerolinecolor": "white"
           },
           "zaxis": {
            "backgroundcolor": "#E5ECF6",
            "gridcolor": "white",
            "gridwidth": 2,
            "linecolor": "white",
            "showbackground": true,
            "ticks": "",
            "zerolinecolor": "white"
           }
          },
          "shapedefaults": {
           "line": {
            "color": "#2a3f5f"
           }
          },
          "ternary": {
           "aaxis": {
            "gridcolor": "white",
            "linecolor": "white",
            "ticks": ""
           },
           "baxis": {
            "gridcolor": "white",
            "linecolor": "white",
            "ticks": ""
           },
           "bgcolor": "#E5ECF6",
           "caxis": {
            "gridcolor": "white",
            "linecolor": "white",
            "ticks": ""
           }
          },
          "title": {
           "x": 0.05
          },
          "xaxis": {
           "automargin": true,
           "gridcolor": "white",
           "linecolor": "white",
           "ticks": "",
           "title": {
            "standoff": 15
           },
           "zerolinecolor": "white",
           "zerolinewidth": 2
          },
          "yaxis": {
           "automargin": true,
           "gridcolor": "white",
           "linecolor": "white",
           "ticks": "",
           "title": {
            "standoff": 15
           },
           "zerolinecolor": "white",
           "zerolinewidth": 2
          }
         }
        },
        "title": {
         "text": "3D Neuron Distribution (Gray: score<0.5)"
        },
        "width": 800
       }
      }
     },
     "metadata": {},
     "output_type": "display_data"
    }
   ],
   "source": [
    "fig = go.Figure()\n",
    "\n",
    "fig.add_trace(go.Scatter3d(\n",
    "    x=diffusion_coordinates[:, 0],\n",
    "    y=diffusion_coordinates[:, 1],\n",
    "    z=diffusion_coordinates[:, 2],\n",
    "    mode='markers',\n",
    "    marker=dict(\n",
    "        size=4,\n",
    "        colorscale=[[0, '#DCDCDC'], [0.5, '#DCDCDC'], [0.5001, 'rgb(200,200,255)'], [1, 'rgb(0,0,255)']],\n",
    "        cmin=0,\n",
    "        cmax=1,\n",
    "        opacity=1,\n",
    "        color=all_waveform['excitatory_score'],\n",
    "        colorbar=dict(\n",
    "            title='Excitatory Score',\n",
    "            tickvals=[0.25, 0.75],\n",
    "            ticktext=['<0.5', '≥0.5'],\n",
    "            lenmode='fraction',\n",
    "            len=0.75\n",
    "        )\n",
    "    ),\n",
    "    name='Neurons'\n",
    "))\n",
    "\n",
    "fig.update_layout(\n",
    "    title='3D Neuron Distribution (Gray: score<0.5)',\n",
    "    scene=dict(\n",
    "        xaxis_title='Diffusion Axis 1',\n",
    "        yaxis_title='Diffusion Axis 2',\n",
    "        zaxis_title='Diffusion Axis 3',\n",
    "        camera=dict(eye=dict(x=1.5, y=1, z=0.1)),\n",
    "        # 移除网格线和背景颜色\n",
    "        xaxis=dict(\n",
    "            showgrid=False,  # 移除X轴网格\n",
    "            backgroundcolor=\"rgba(0,0,0,0)\",  # 透明背景\n",
    "            showbackground=False  # 移除背景\n",
    "        ),\n",
    "        yaxis=dict(\n",
    "            showgrid=False,  # 移除Y轴网格\n",
    "            backgroundcolor=\"rgba(0,0,0,0)\",\n",
    "            showbackground=False\n",
    "        ),\n",
    "        zaxis=dict(\n",
    "            showgrid=False,  # 移除Z轴网格\n",
    "            backgroundcolor=\"rgba(0,0,0,0)\",\n",
    "            showbackground=False\n",
    "        ),\n",
    "        bgcolor='rgba(0,0,0,0)'  # 整个场景透明背景\n",
    "    ),\n",
    "    width=800,\n",
    "    height=600,\n",
    "    plot_bgcolor='rgba(0,0,0,0)',  # 绘图区域透明背景\n",
    "    paper_bgcolor='rgba(0,0,0,0)'  # 整个图表透明背景\n",
    ")\n",
    "\n",
    "fig.show()"
   ]
  },
  {
   "cell_type": "code",
   "execution_count": 93,
   "id": "90ed70da",
   "metadata": {},
   "outputs": [
    {
     "name": "stdout",
     "output_type": "stream",
     "text": [
      "layout.scene.Camera({\n",
      "    'eye': {'x': 1.5, 'y': 1.5, 'z': 0.1}\n",
      "})\n"
     ]
    }
   ],
   "source": [
    "print(fig.layout.scene.camera)"
   ]
  },
  {
   "cell_type": "code",
   "execution_count": 323,
   "id": "f5dd01e2",
   "metadata": {},
   "outputs": [],
   "source": [
    "activity = neuron_inf['activity'].values[i]\n",
    "mean_activity = activity.mean(axis = 0)"
   ]
  }
 ],
 "metadata": {
  "kernelspec": {
   "display_name": "spike_sorting_jct",
   "language": "python",
   "name": "python3"
  },
  "language_info": {
   "codemirror_mode": {
    "name": "ipython",
    "version": 3
   },
   "file_extension": ".py",
   "mimetype": "text/x-python",
   "name": "python",
   "nbconvert_exporter": "python",
   "pygments_lexer": "ipython3",
   "version": "3.11.13"
  }
 },
 "nbformat": 4,
 "nbformat_minor": 5
}
