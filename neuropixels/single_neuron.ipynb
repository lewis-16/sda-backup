{
 "cells": [
  {
   "cell_type": "code",
   "execution_count": 30,
   "id": "767dae52",
   "metadata": {},
   "outputs": [],
   "source": [
    "import numpy as np\n",
    "import pandas as pd\n",
    "import seaborn as sns\n",
    "import warnings\n",
    "warnings.filterwarnings('ignore')\n",
    "import spikeinterface as si\n",
    "import matplotlib.pyplot as plt\n",
    "import os\n",
    "from matplotlib.backends.backend_pdf import PdfPages\n",
    "import os\n",
    "import pickle\n",
    "from tensorly.decomposition import non_negative_parafac"
   ]
  },
  {
   "cell_type": "code",
   "execution_count": 6,
   "id": "46dc31a0",
   "metadata": {},
   "outputs": [],
   "source": [
    "session_folder = os.listdir(\"/media/ubuntu/sda/neuropixels/output_dir\")\n",
    "session_list = []\n",
    "for session in session_folder:\n",
    "    if 'session_' in session:\n",
    "        session_list.append(session)"
   ]
  },
  {
   "cell_type": "code",
   "execution_count": 296,
   "id": "3426210f",
   "metadata": {},
   "outputs": [],
   "source": [
    "cluster_inf_all = pd.DataFrame()\n",
    "activity_dict = {}\n",
    "\n",
    "for session in session_list:\n",
    "    output_dir = f'/media/ubuntu/sda/neuropixels/output_dir/{session}'\n",
    "    cluster_inf = pd.read_csv(f'{output_dir}/cluster_inf.csv')\n",
    "    spike_inf = pd.read_csv(f'{output_dir}/spike_inf.csv', index_col=0)\n",
    "    stimulus_table = pd.read_csv(f'{output_dir}/stimulus_table.csv')\n",
    "    stimulus_table = stimulus_table[stimulus_table['frame']!= -1.0]\n",
    "    stimulus_table['frame'] = stimulus_table['frame'].astype(int)\n",
    "\n",
    "    filtered_spikes = spike_inf['id'].value_counts()\n",
    "    filtered_spikes = filtered_spikes[filtered_spikes > 30000].index\n",
    "    cluster_inf = cluster_inf[cluster_inf['unit_id'].isin(filtered_spikes)]\n",
    "    spike_inf = spike_inf[spike_inf['id'].isin(filtered_spikes)]\n",
    "\n",
    "    cluster_inf_all = pd.concat((cluster_inf_all, cluster_inf), axis = 0)\n",
    "\n",
    "    for neuron in cluster_inf['unit_id']:\n",
    "        spike_inf_temp = spike_inf[spike_inf['id'] == neuron]\n",
    "        neuron = f'{neuron}_{session}'\n",
    "        activity_dict[neuron] = {}\n",
    "        for image in range(0, 118):\n",
    "            activity_dict[neuron][image] = []\n",
    "\n",
    "            trigger_time_temp = stimulus_table[(stimulus_table['frame'] == image)]\n",
    "\n",
    "            for index, row in trigger_time_temp.iterrows():\n",
    "                start = row['start_time']\n",
    "                end = row['stop_time']\n",
    "\n",
    "                filtered_spikes = spike_inf_temp[(spike_inf_temp['time'] >= start) &\n",
    "                                                (spike_inf_temp['time'] <= end)]\n",
    "                if not filtered_spikes.empty:\n",
    "                    relative_spikes = (filtered_spikes['time'] - start) * 1000\n",
    "                    activity_dict[neuron][image].append(np.array(relative_spikes))"
   ]
  },
  {
   "cell_type": "code",
   "execution_count": 297,
   "id": "511ef05e",
   "metadata": {},
   "outputs": [],
   "source": [
    "with open(\"activity_dict_all_filtered_30000.pkl\", 'wb') as f:\n",
    "    pickle.dump(activity_dict, f)"
   ]
  },
  {
   "cell_type": "code",
   "execution_count": 230,
   "id": "fa973095",
   "metadata": {},
   "outputs": [],
   "source": [
    "from KDEpy import FFTKDE\n",
    "def getResponseCurve(train_dict, total_trial_len, bw=None, samp_interval=1, MINBW=10, MAXBW=50):\n",
    "\n",
    "    \"\"\"Computes smooth trial-averaged response to a stim in all directions from spike trains\n",
    "    using a kernel density estimator.\"\"\"\n",
    "    \n",
    "    ts = np.arange(0,total_trial_len+samp_interval,samp_interval)\n",
    "    x_ts = .5*(ts[:-1]+ts[1:]) #sample at the midpoints between sampling intervals\n",
    "\n",
    "    all_ISJs = []\n",
    "    \n",
    "    \n",
    "    fftkde = None\n",
    "\n",
    "    for di,d in enumerate(sorted(train_dict)):\n",
    "\n",
    "        full_train = []\n",
    "        for triali,train in enumerate(train_dict[d]):\n",
    "            if train.size == 0: continue\n",
    "            #assert max(train) < total_trial_len\n",
    "            full_train += list(train)    \n",
    "\n",
    "        data = np.array(full_train)\n",
    "        data.sort()\n",
    "        n = data.size\n",
    "        if fftkde is None:\n",
    "            fftkde = FFTKDE(kernel='gaussian', bw=bw) #initialize kernel density estimator\n",
    "\n",
    "        try:\n",
    "            fftkde = fftkde.fit(data)\n",
    "            #extend sampling one unit before and after trial\n",
    "            ext_x_ts = np.r_[x_ts[0]-samp_interval,x_ts,x_ts[-1]+samp_interval]\n",
    "            #then crop after applying the kernel\n",
    "            y = fftkde.evaluate(ext_x_ts)[1:-1]\n",
    "\n",
    "        except:\n",
    "            #error occurs in the rare cases when there are zero spikes. print out to double-check\n",
    "            print(f'fftkde failed: {n} data points')\n",
    "            y = np.zeros_like(x_ts)\n",
    "\n",
    "\n",
    "        all_ISJs.append(y*n*1000/len(train_dict[d])) #convert density to spks/sec\n",
    "    return np.array(all_ISJs), x_ts\n"
   ]
  },
  {
   "cell_type": "code",
   "execution_count": 298,
   "id": "b975dcc8",
   "metadata": {},
   "outputs": [],
   "source": [
    "activity_dict_region = {}\n",
    "for region in ['VISp', 'VISal', 'VISam', 'VISrl', 'VISpm', 'VISl']:\n",
    "    activity_dict_region[region] = {}\n",
    "    cluster_inf_temp = cluster_inf_all[cluster_inf_all['ecephys_structure_acronym'] == region]\n",
    "    filtered_neuron = cluster_inf_temp['unit_id'].values\n",
    "\n",
    "    for key, item in activity_dict.items():\n",
    "        key = key.split(\"_\")[0]\n",
    "        if int(key) in filtered_neuron:\n",
    "            activity_dict_region[region][key] = item\n"
   ]
  },
  {
   "cell_type": "code",
   "execution_count": 420,
   "id": "152d6cbd",
   "metadata": {},
   "outputs": [
    {
     "name": "stdout",
     "output_type": "stream",
     "text": [
      "fftkde failed: 214 data points\n",
      "fftkde failed: 161 data points\n",
      "fftkde failed: 537 data points\n",
      "fftkde failed: 549 data points\n",
      "fftkde failed: 220 data points\n",
      "fftkde failed: 97 data points\n",
      "fftkde failed: 264 data points\n",
      "fftkde failed: 243 data points\n",
      "fftkde failed: 306 data points\n",
      "fftkde failed: 202 data points\n",
      "fftkde failed: 629 data points\n",
      "fftkde failed: 463 data points\n",
      "fftkde failed: 165 data points\n",
      "fftkde failed: 252 data points\n",
      "fftkde failed: 301 data points\n",
      "fftkde failed: 899 data points\n",
      "fftkde failed: 331 data points\n",
      "fftkde failed: 284 data points\n",
      "fftkde failed: 372 data points\n",
      "fftkde failed: 1108 data points\n",
      "fftkde failed: 392 data points\n",
      "fftkde failed: 316 data points\n",
      "fftkde failed: 213 data points\n",
      "fftkde failed: 243 data points\n",
      "fftkde failed: 546 data points\n",
      "fftkde failed: 481 data points\n",
      "fftkde failed: 277 data points\n",
      "fftkde failed: 104 data points\n",
      "fftkde failed: 297 data points\n",
      "fftkde failed: 481 data points\n",
      "fftkde failed: 450 data points\n",
      "fftkde failed: 698 data points\n",
      "fftkde failed: 423 data points\n",
      "fftkde failed: 579 data points\n",
      "fftkde failed: 209 data points\n",
      "fftkde failed: 490 data points\n",
      "fftkde failed: 293 data points\n",
      "fftkde failed: 172 data points\n",
      "fftkde failed: 239 data points\n",
      "fftkde failed: 348 data points\n",
      "fftkde failed: 242 data points\n",
      "fftkde failed: 219 data points\n",
      "fftkde failed: 212 data points\n",
      "fftkde failed: 568 data points\n",
      "fftkde failed: 327 data points\n",
      "fftkde failed: 205 data points\n",
      "fftkde failed: 113 data points\n",
      "fftkde failed: 131 data points\n",
      "fftkde failed: 334 data points\n",
      "fftkde failed: 285 data points\n",
      "fftkde failed: 288 data points\n",
      "fftkde failed: 425 data points\n",
      "fftkde failed: 165 data points\n",
      "fftkde failed: 248 data points\n",
      "fftkde failed: 360 data points\n",
      "fftkde failed: 212 data points\n",
      "fftkde failed: 196 data points\n",
      "fftkde failed: 259 data points\n",
      "fftkde failed: 574 data points\n",
      "fftkde failed: 340 data points\n",
      "fftkde failed: 262 data points\n",
      "fftkde failed: 437 data points\n",
      "fftkde failed: 181 data points\n",
      "fftkde failed: 395 data points\n",
      "fftkde failed: 387 data points\n",
      "fftkde failed: 465 data points\n",
      "fftkde failed: 448 data points\n",
      "fftkde failed: 460 data points\n",
      "fftkde failed: 483 data points\n",
      "fftkde failed: 612 data points\n",
      "fftkde failed: 629 data points\n",
      "fftkde failed: 427 data points\n",
      "fftkde failed: 338 data points\n",
      "fftkde failed: 477 data points\n",
      "fftkde failed: 447 data points\n",
      "fftkde failed: 659 data points\n",
      "fftkde failed: 147 data points\n",
      "fftkde failed: 172 data points\n",
      "fftkde failed: 136 data points\n",
      "fftkde failed: 215 data points\n",
      "fftkde failed: 285 data points\n",
      "fftkde failed: 244 data points\n",
      "fftkde failed: 151 data points\n",
      "fftkde failed: 111 data points\n",
      "fftkde failed: 192 data points\n",
      "fftkde failed: 233 data points\n",
      "fftkde failed: 188 data points\n",
      "fftkde failed: 218 data points\n",
      "fftkde failed: 129 data points\n",
      "fftkde failed: 220 data points\n",
      "fftkde failed: 120 data points\n",
      "fftkde failed: 328 data points\n",
      "fftkde failed: 267 data points\n",
      "fftkde failed: 349 data points\n",
      "fftkde failed: 225 data points\n",
      "fftkde failed: 265 data points\n",
      "fftkde failed: 392 data points\n",
      "fftkde failed: 344 data points\n",
      "fftkde failed: 346 data points\n",
      "fftkde failed: 165 data points\n",
      "fftkde failed: 183 data points\n",
      "fftkde failed: 195 data points\n",
      "fftkde failed: 284 data points\n",
      "fftkde failed: 789 data points\n",
      "fftkde failed: 186 data points\n",
      "fftkde failed: 319 data points\n",
      "fftkde failed: 146 data points\n",
      "fftkde failed: 545 data points\n",
      "fftkde failed: 483 data points\n",
      "fftkde failed: 294 data points\n",
      "fftkde failed: 225 data points\n",
      "fftkde failed: 203 data points\n",
      "fftkde failed: 193 data points\n",
      "fftkde failed: 180 data points\n",
      "fftkde failed: 88 data points\n",
      "fftkde failed: 73 data points\n",
      "fftkde failed: 194 data points\n",
      "fftkde failed: 159 data points\n",
      "fftkde failed: 201 data points\n",
      "fftkde failed: 146 data points\n",
      "fftkde failed: 186 data points\n",
      "fftkde failed: 156 data points\n",
      "fftkde failed: 196 data points\n",
      "fftkde failed: 209 data points\n",
      "fftkde failed: 225 data points\n",
      "fftkde failed: 283 data points\n",
      "fftkde failed: 326 data points\n",
      "fftkde failed: 270 data points\n",
      "fftkde failed: 281 data points\n",
      "fftkde failed: 282 data points\n",
      "fftkde failed: 281 data points\n",
      "fftkde failed: 231 data points\n",
      "fftkde failed: 211 data points\n",
      "fftkde failed: 125 data points\n",
      "fftkde failed: 206 data points\n",
      "fftkde failed: 153 data points\n",
      "fftkde failed: 193 data points\n",
      "fftkde failed: 210 data points\n",
      "fftkde failed: 134 data points\n",
      "fftkde failed: 342 data points\n",
      "fftkde failed: 166 data points\n",
      "fftkde failed: 169 data points\n",
      "fftkde failed: 475 data points\n",
      "fftkde failed: 347 data points\n",
      "fftkde failed: 340 data points\n",
      "fftkde failed: 301 data points\n",
      "fftkde failed: 166 data points\n",
      "fftkde failed: 167 data points\n",
      "fftkde failed: 431 data points\n",
      "fftkde failed: 313 data points\n",
      "fftkde failed: 218 data points\n",
      "fftkde failed: 319 data points\n",
      "fftkde failed: 309 data points\n",
      "fftkde failed: 370 data points\n",
      "fftkde failed: 522 data points\n",
      "fftkde failed: 224 data points\n",
      "fftkde failed: 772 data points\n",
      "fftkde failed: 279 data points\n",
      "fftkde failed: 247 data points\n",
      "fftkde failed: 396 data points\n",
      "fftkde failed: 230 data points\n",
      "fftkde failed: 148 data points\n",
      "fftkde failed: 123 data points\n",
      "fftkde failed: 119 data points\n",
      "fftkde failed: 120 data points\n",
      "fftkde failed: 364 data points\n",
      "fftkde failed: 298 data points\n",
      "fftkde failed: 447 data points\n",
      "fftkde failed: 240 data points\n",
      "fftkde failed: 188 data points\n",
      "fftkde failed: 156 data points\n",
      "fftkde failed: 158 data points\n",
      "fftkde failed: 259 data points\n",
      "fftkde failed: 163 data points\n",
      "fftkde failed: 203 data points\n",
      "fftkde failed: 581 data points\n",
      "fftkde failed: 263 data points\n",
      "fftkde failed: 471 data points\n"
     ]
    }
   ],
   "source": [
    "activity_df = {}\n",
    "for region in ['VISp', 'VISal', 'VISam', 'VISrl', 'VISpm', 'VISl']:\n",
    "    activity_df[region] = []\n",
    "    for neuron in activity_dict_region[region].keys():\n",
    "        all_ISJs, x_ts = getResponseCurve(activity_dict_region[region][neuron], total_trial_len=250, bw=50, samp_interval=10)\n",
    "        activity_df[region].append(all_ISJs)\n",
    "\n",
    "    activity_df[region]  = np.stack(activity_df[region] , axis=2)\n",
    "    activity_df[region]  = np.transpose(activity_df[region] , axes=(2, 1, 0))"
   ]
  },
  {
   "cell_type": "code",
   "execution_count": 422,
   "id": "2867edd0",
   "metadata": {},
   "outputs": [
    {
     "data": {
      "text/plain": [
       "(464, 25, 118)"
      ]
     },
     "execution_count": 422,
     "metadata": {},
     "output_type": "execute_result"
    }
   ],
   "source": [
    "activity_df['VISp'].shape"
   ]
  },
  {
   "cell_type": "code",
   "execution_count": 426,
   "id": "fa761207",
   "metadata": {},
   "outputs": [],
   "source": [
    "mean_fr = activity_df['VISp'].mean(axis = 1).mean(axis = 1)"
   ]
  },
  {
   "cell_type": "code",
   "execution_count": 15,
   "id": "8dfb15e8",
   "metadata": {},
   "outputs": [],
   "source": [
    "with PdfPages(\"kde_heatmap.pdf\") as pdf:\n",
    "    for i in range(len(activity_df)):\n",
    "        plt.figure(figsize=(10, 6))\n",
    "        sns.heatmap(activity_df[i])\n",
    "        plt.title(list(activity_dict.keys())[i])\n",
    "        pdf.savefig()\n",
    "        plt.close()"
   ]
  },
  {
   "cell_type": "code",
   "execution_count": 391,
   "id": "bddfb402",
   "metadata": {},
   "outputs": [],
   "source": [
    "for i in range(activity_df['VISp'].shape[0]):\n",
    "    max_value = activity_df['VISp'][i, :, :].max()\n",
    "    activity_df['VISp'][i, :, :] /= max_value\n"
   ]
  },
  {
   "cell_type": "code",
   "execution_count": 392,
   "id": "3f6f436f",
   "metadata": {},
   "outputs": [],
   "source": [
    "fit_list = []\n",
    "for rank in range(1, 100):\n",
    "    factors = non_negative_parafac(\n",
    "        activity_df['VISp'], \n",
    "        rank=rank,\n",
    "        init='random',\n",
    "        verbose=0\n",
    "    )\n",
    "\n",
    "    reconstructed = factors.to_tensor()\n",
    "    norm_tensor = np.linalg.norm(activity_df['VISp'])\n",
    "    norm_residual = np.linalg.norm(activity_df['VISp'] - reconstructed)\n",
    "    fit = 100 * (1 - norm_residual / norm_tensor)\n",
    "    fit_list.append(fit)"
   ]
  },
  {
   "cell_type": "code",
   "execution_count": 393,
   "id": "6650fa03",
   "metadata": {},
   "outputs": [
    {
     "data": {
      "text/plain": [
       "<Axes: >"
      ]
     },
     "execution_count": 393,
     "metadata": {},
     "output_type": "execute_result"
    },
    {
     "data": {
      "image/png": "[encoded data removed]",
      "text/plain": [
       "<Figure size 640x480 with 1 Axes>"
      ]
     },
     "metadata": {},
     "output_type": "display_data"
    }
   ],
   "source": [
    "sns.lineplot(fit_list)"
   ]
  },
  {
   "cell_type": "code",
   "execution_count": 302,
   "id": "a9045070",
   "metadata": {},
   "outputs": [
    {
     "data": {
      "text/plain": [
       "dict_keys(['VISp', 'VISal', 'VISam', 'VISrl', 'VISpm', 'VISl'])"
      ]
     },
     "execution_count": 302,
     "metadata": {},
     "output_type": "execute_result"
    }
   ],
   "source": [
    "activity_df.keys()"
   ]
  },
  {
   "cell_type": "code",
   "execution_count": 546,
   "id": "1d6e7a0d",
   "metadata": {},
   "outputs": [],
   "source": [
    "factors = non_negative_parafac(\n",
    "        activity_df_scaled,\n",
    "        rank=60,\n",
    "        init='random',\n",
    "        verbose=0\n",
    "    )"
   ]
  },
  {
   "cell_type": "code",
   "execution_count": 547,
   "id": "87d3c445",
   "metadata": {},
   "outputs": [],
   "source": [
    "neuron_factor, activity_factor, stimulus_factor = factors.factors"
   ]
  },
  {
   "cell_type": "code",
   "execution_count": 548,
   "id": "6f6dd242",
   "metadata": {},
   "outputs": [],
   "source": [
    "neuron_factor_max = np.max(neuron_factor, axis=0)\n",
    "neuron_factor /= neuron_factor_max"
   ]
  },
  {
   "cell_type": "code",
   "execution_count": 549,
   "id": "46eb2f14",
   "metadata": {},
   "outputs": [],
   "source": [
    "stimulus_factor_max = np.max(stimulus_factor, axis=0)\n",
    "stimulus_factor /= stimulus_factor_max"
   ]
  },
  {
   "cell_type": "code",
   "execution_count": 404,
   "id": "3cdc4760",
   "metadata": {},
   "outputs": [
    {
     "data": {
      "text/plain": [
       "(464, 60)"
      ]
     },
     "execution_count": 404,
     "metadata": {},
     "output_type": "execute_result"
    }
   ],
   "source": [
    "neuron_factor.shape"
   ]
  },
  {
   "cell_type": "code",
   "execution_count": 550,
   "id": "fb577625",
   "metadata": {},
   "outputs": [],
   "source": [
    "from sklearn.decomposition import PCA\n",
    "pca = PCA(n_components=10)\n",
    "pca_data = pca.fit_transform(neuron_factor)"
   ]
  },
  {
   "cell_type": "code",
   "execution_count": 551,
   "id": "a5f34ce3",
   "metadata": {},
   "outputs": [],
   "source": [
    "max_fr = activity_df['VISp'].max(axis = 1).max(axis = 1)"
   ]
  },
  {
   "cell_type": "code",
   "execution_count": 552,
   "id": "c8002ce7",
   "metadata": {},
   "outputs": [],
   "source": [
    "position = pd.read_csv(\"/home/ubuntu/Downloads/dream/neuropixels_platform_paper-master/data/layer_info.csv\")"
   ]
  },
  {
   "cell_type": "code",
   "execution_count": 553,
   "id": "af42cef7",
   "metadata": {},
   "outputs": [
    {
     "data": {
      "application/vnd.microsoft.datawrangler.viewer.v0+json": {
       "columns": [
        {
         "name": "cortical_layer",
         "rawType": "int64",
         "type": "integer"
        },
        {
         "name": "count",
         "rawType": "int64",
         "type": "integer"
        }
       ],
       "ref": "8770e506-f73d-4d1b-939f-034ac189e922",
       "rows": [
        [
         "0",
         "50136"
        ],
        [
         "5",
         "13154"
        ],
        [
         "1",
         "11326"
        ],
        [
         "2",
         "9403"
        ],
        [
         "4",
         "6470"
        ],
        [
         "6",
         "5536"
        ],
        [
         "3",
         "3155"
        ]
       ],
       "shape": {
        "columns": 1,
        "rows": 7
       }
      },
      "text/plain": [
       "cortical_layer\n",
       "0    50136\n",
       "5    13154\n",
       "1    11326\n",
       "2     9403\n",
       "4     6470\n",
       "6     5536\n",
       "3     3155\n",
       "Name: count, dtype: int64"
      ]
     },
     "execution_count": 553,
     "metadata": {},
     "output_type": "execute_result"
    }
   ],
   "source": [
    "position['cortical_layer'].value_counts()"
   ]
  },
  {
   "cell_type": "code",
   "execution_count": 554,
   "id": "3443aaad",
   "metadata": {},
   "outputs": [
    {
     "data": {
      "application/vnd.microsoft.datawrangler.viewer.v0+json": {
       "columns": [
        {
         "name": "index",
         "rawType": "int64",
         "type": "integer"
        },
        {
         "name": "unit_id",
         "rawType": "int64",
         "type": "integer"
        }
       ],
       "ref": "444921ff-0c95-4c41-88c9-58d25d6cea8b",
       "rows": [
        [
         "102",
         "951001949"
        ],
        [
         "105",
         "951002099"
        ],
        [
         "108",
         "951002207"
        ],
        [
         "112",
         "951002233"
        ],
        [
         "118",
         "951002436"
        ],
        [
         "119",
         "951002426"
        ],
        [
         "121",
         "951002514"
        ],
        [
         "122",
         "951002502"
        ],
        [
         "131",
         "951002854"
        ],
        [
         "132",
         "951002781"
        ],
        [
         "80",
         "950930145"
        ],
        [
         "86",
         "950930358"
        ],
        [
         "90",
         "950930407"
        ],
        [
         "101",
         "950930985"
        ],
        [
         "103",
         "950930964"
        ],
        [
         "109",
         "950931254"
        ],
        [
         "113",
         "950931458"
        ],
        [
         "114",
         "950931315"
        ],
        [
         "115",
         "950931565"
        ],
        [
         "118",
         "950931656"
        ],
        [
         "127",
         "950931899"
        ],
        [
         "131",
         "950932087"
        ],
        [
         "137",
         "950932563"
        ],
        [
         "25",
         "951785584"
        ],
        [
         "26",
         "951785569"
        ],
        [
         "28",
         "951785620"
        ],
        [
         "32",
         "951785671"
        ],
        [
         "35",
         "951785654"
        ],
        [
         "37",
         "951785643"
        ],
        [
         "39",
         "951785692"
        ],
        [
         "41",
         "951785714"
        ],
        [
         "44",
         "951785745"
        ],
        [
         "45",
         "951785739"
        ],
        [
         "46",
         "951785730"
        ],
        [
         "51",
         "951785860"
        ],
        [
         "57",
         "951786038"
        ],
        [
         "58",
         "951786065"
        ],
        [
         "72",
         "951768222"
        ],
        [
         "79",
         "951768278"
        ],
        [
         "85",
         "951768374"
        ],
        [
         "86",
         "951768390"
        ],
        [
         "88",
         "951768434"
        ],
        [
         "92",
         "951768408"
        ],
        [
         "93",
         "951768457"
        ],
        [
         "94",
         "951768451"
        ],
        [
         "95",
         "951768446"
        ],
        [
         "96",
         "951768441"
        ],
        [
         "106",
         "951768500"
        ],
        [
         "107",
         "951768495"
        ],
        [
         "125",
         "951768766"
        ]
       ],
       "shape": {
        "columns": 1,
        "rows": 464
       }
      },
      "text/plain": [
       "102    951001949\n",
       "105    951002099\n",
       "108    951002207\n",
       "112    951002233\n",
       "118    951002436\n",
       "         ...    \n",
       "96     951910719\n",
       "99     951910733\n",
       "114    951910832\n",
       "117    951910868\n",
       "118    951910924\n",
       "Name: unit_id, Length: 464, dtype: int64"
      ]
     },
     "execution_count": 554,
     "metadata": {},
     "output_type": "execute_result"
    }
   ],
   "source": [
    "cluster_inf_all[cluster_inf_all['ecephys_structure_acronym'] == 'VISp']['unit_id']"
   ]
  },
  {
   "cell_type": "code",
   "execution_count": 555,
   "id": "112d1342",
   "metadata": {},
   "outputs": [],
   "source": [
    "cluster_inf_VISp = cluster_inf_all[cluster_inf_all['ecephys_structure_acronym'] == 'VISp']\n",
    "waveform_VISp = cluster_inf_VISp.loc[:, ['waveform_PT_ratio', 'waveform_amplitude', #'waveform_recovery_slope',\n",
    "                                         'waveform_repolarization_slope', 'waveform_duration']]\n",
    "\n",
    "for i in [0, 1, 2, 3]:\n",
    "    max_data = waveform_VISp.iloc[:, i].max()\n",
    "    waveform_VISp.iloc[:, i] /= max_data"
   ]
  },
  {
   "cell_type": "code",
   "execution_count": 556,
   "id": "8adc0694",
   "metadata": {},
   "outputs": [],
   "source": [
    "pca = PCA(n_components=2)\n",
    "waveform_pca = pca.fit_transform(np.array(waveform_VISp))"
   ]
  },
  {
   "cell_type": "code",
   "execution_count": 557,
   "id": "e7c42424",
   "metadata": {},
   "outputs": [
    {
     "data": {
      "text/plain": [
       "<Axes: xlabel='waveform_PT_ratio', ylabel='waveform_repolarization_slope'>"
      ]
     },
     "execution_count": 557,
     "metadata": {},
     "output_type": "execute_result"
    },
    {
     "data": {
      "image/png": "[encoded data removed]",
      "text/plain": [
       "<Figure size 640x480 with 1 Axes>"
      ]
     },
     "metadata": {},
     "output_type": "display_data"
    }
   ],
   "source": [
    "sns.scatterplot(x = waveform_VISp['waveform_PT_ratio'],\n",
    "                y = waveform_VISp['waveform_repolarization_slope'])"
   ]
  },
  {
   "cell_type": "code",
   "execution_count": 558,
   "id": "41c552d6",
   "metadata": {},
   "outputs": [
    {
     "data": {
      "text/plain": [
       "<Axes: xlabel='waveform_PT_ratio', ylabel='waveform_duration'>"
      ]
     },
     "execution_count": 558,
     "metadata": {},
     "output_type": "execute_result"
    },
    {
     "data": {
      "image/png": "[encoded data removed]",
      "text/plain": [
       "<Figure size 640x480 with 1 Axes>"
      ]
     },
     "metadata": {},
     "output_type": "display_data"
    }
   ],
   "source": [
    "sns.scatterplot(x = waveform_VISp['waveform_PT_ratio'],\n",
    "                y = waveform_VISp['waveform_duration'])"
   ]
  },
  {
   "cell_type": "code",
   "execution_count": 559,
   "id": "3439c234",
   "metadata": {},
   "outputs": [
    {
     "data": {
      "text/plain": [
       "<Axes: >"
      ]
     },
     "execution_count": 559,
     "metadata": {},
     "output_type": "execute_result"
    },
    {
     "data": {
      "image/png": "[encoded data removed]",
      "text/plain": [
       "<Figure size 640x480 with 1 Axes>"
      ]
     },
     "metadata": {},
     "output_type": "display_data"
    }
   ],
   "source": [
    "sns.scatterplot(x = waveform_pca[:, 0],\n",
    "             y = waveform_pca[:, 1],\n",
    "             hue=waveform_VISp['waveform_duration'])"
   ]
  },
  {
   "cell_type": "code",
   "execution_count": 560,
   "id": "b6b2f489",
   "metadata": {},
   "outputs": [],
   "source": [
    "position = position[position['ecephys_unit_id'].isin(cluster_inf_all[cluster_inf_all['ecephys_structure_acronym'] == 'VISp']['unit_id'].values)]"
   ]
  },
  {
   "cell_type": "code",
   "execution_count": 561,
   "id": "832f5f80",
   "metadata": {},
   "outputs": [
    {
     "data": {
      "application/vnd.microsoft.datawrangler.viewer.v0+json": {
       "columns": [
        {
         "name": "cortical_layer",
         "rawType": "int64",
         "type": "integer"
        },
        {
         "name": "count",
         "rawType": "int64",
         "type": "integer"
        }
       ],
       "ref": "04206579-5eea-406c-a25d-827a8edb2ba7",
       "rows": [
        [
         "5",
         "177"
        ],
        [
         "0",
         "101"
        ],
        [
         "4",
         "91"
        ],
        [
         "2",
         "49"
        ],
        [
         "6",
         "46"
        ]
       ],
       "shape": {
        "columns": 1,
        "rows": 5
       }
      },
      "text/plain": [
       "cortical_layer\n",
       "5    177\n",
       "0    101\n",
       "4     91\n",
       "2     49\n",
       "6     46\n",
       "Name: count, dtype: int64"
      ]
     },
     "execution_count": 561,
     "metadata": {},
     "output_type": "execute_result"
    }
   ],
   "source": [
    "position['cortical_layer'].value_counts()"
   ]
  },
  {
   "cell_type": "code",
   "execution_count": 562,
   "id": "961ae2b3",
   "metadata": {},
   "outputs": [],
   "source": [
    "from pydiffmap import diffusion_map\n",
    "dm = diffusion_map.DiffusionMap.from_sklearn(n_evecs = 5, epsilon = 1.0, alpha = 0.5, k=64)\n",
    "diffusion_coordinates = dm.fit_transform(neuron_factor)"
   ]
  },
  {
   "cell_type": "code",
   "execution_count": 563,
   "id": "e0272eea",
   "metadata": {},
   "outputs": [
    {
     "data": {
      "text/plain": [
       "<Axes: >"
      ]
     },
     "execution_count": 563,
     "metadata": {},
     "output_type": "execute_result"
    },
    {
     "data": {
      "image/png": "[encoded data removed]",
      "text/plain": [
       "<Figure size 640x480 with 1 Axes>"
      ]
     },
     "metadata": {},
     "output_type": "display_data"
    }
   ],
   "source": [
    "sns.scatterplot(x = diffusion_coordinates[:, 1],\n",
    "        y = diffusion_coordinates[:, 2],\n",
    "        hue=waveform_pca[:, 1])"
   ]
  },
  {
   "cell_type": "code",
   "execution_count": 567,
   "id": "dbdeadab",
   "metadata": {},
   "outputs": [
    {
     "ename": "ValueError",
     "evalue": "Mime type rendering requires nbformat>=4.2.0 but it is not installed",
     "output_type": "error",
     "traceback": [
      "\u001b[0;31m---------------------------------------------------------------------------\u001b[0m",
      "\u001b[0;31mValueError\u001b[0m                                Traceback (most recent call last)",
      "File \u001b[0;32m~/.conda/envs/spike_sorting_jct/lib/python3.11/site-packages/IPython/core/formatters.py:984\u001b[0m, in \u001b[0;36mIPythonDisplayFormatter.__call__\u001b[0;34m(self, obj)\u001b[0m\n\u001b[1;32m    982\u001b[0m method \u001b[38;5;241m=\u001b[39m get_real_method(obj, \u001b[38;5;28mself\u001b[39m\u001b[38;5;241m.\u001b[39mprint_method)\n\u001b[1;32m    983\u001b[0m \u001b[38;5;28;01mif\u001b[39;00m method \u001b[38;5;129;01mis\u001b[39;00m \u001b[38;5;129;01mnot\u001b[39;00m \u001b[38;5;28;01mNone\u001b[39;00m:\n\u001b[0;32m--> 984\u001b[0m     \u001b[43mmethod\u001b[49m\u001b[43m(\u001b[49m\u001b[43m)\u001b[49m\n\u001b[1;32m    985\u001b[0m     \u001b[38;5;28;01mreturn\u001b[39;00m \u001b[38;5;28;01mTrue\u001b[39;00m\n",
      "File \u001b[0;32m~/.conda/envs/spike_sorting_jct/lib/python3.11/site-packages/plotly/basedatatypes.py:833\u001b[0m, in \u001b[0;36mBaseFigure._ipython_display_\u001b[0;34m(self)\u001b[0m\n\u001b[1;32m    830\u001b[0m \u001b[38;5;28;01mimport\u001b[39;00m\u001b[38;5;250m \u001b[39m\u001b[38;5;21;01mplotly\u001b[39;00m\u001b[38;5;21;01m.\u001b[39;00m\u001b[38;5;21;01mio\u001b[39;00m\u001b[38;5;250m \u001b[39m\u001b[38;5;28;01mas\u001b[39;00m\u001b[38;5;250m \u001b[39m\u001b[38;5;21;01mpio\u001b[39;00m\n\u001b[1;32m    832\u001b[0m \u001b[38;5;28;01mif\u001b[39;00m pio\u001b[38;5;241m.\u001b[39mrenderers\u001b[38;5;241m.\u001b[39mrender_on_display \u001b[38;5;129;01mand\u001b[39;00m pio\u001b[38;5;241m.\u001b[39mrenderers\u001b[38;5;241m.\u001b[39mdefault:\n\u001b[0;32m--> 833\u001b[0m     \u001b[43mpio\u001b[49m\u001b[38;5;241;43m.\u001b[39;49m\u001b[43mshow\u001b[49m\u001b[43m(\u001b[49m\u001b[38;5;28;43mself\u001b[39;49m\u001b[43m)\u001b[49m\n\u001b[1;32m    834\u001b[0m \u001b[38;5;28;01melse\u001b[39;00m:\n\u001b[1;32m    835\u001b[0m     \u001b[38;5;28mprint\u001b[39m(\u001b[38;5;28mrepr\u001b[39m(\u001b[38;5;28mself\u001b[39m))\n",
      "File \u001b[0;32m~/.conda/envs/spike_sorting_jct/lib/python3.11/site-packages/plotly/io/_renderers.py:425\u001b[0m, in \u001b[0;36mshow\u001b[0;34m(fig, renderer, validate, **kwargs)\u001b[0m\n\u001b[1;32m    420\u001b[0m     \u001b[38;5;28;01mraise\u001b[39;00m \u001b[38;5;167;01mValueError\u001b[39;00m(\n\u001b[1;32m    421\u001b[0m         \u001b[38;5;124m\"\u001b[39m\u001b[38;5;124mMime type rendering requires ipython but it is not installed\u001b[39m\u001b[38;5;124m\"\u001b[39m\n\u001b[1;32m    422\u001b[0m     )\n\u001b[1;32m    424\u001b[0m \u001b[38;5;28;01mif\u001b[39;00m \u001b[38;5;129;01mnot\u001b[39;00m nbformat \u001b[38;5;129;01mor\u001b[39;00m Version(nbformat\u001b[38;5;241m.\u001b[39m__version__) \u001b[38;5;241m<\u001b[39m Version(\u001b[38;5;124m\"\u001b[39m\u001b[38;5;124m4.2.0\u001b[39m\u001b[38;5;124m\"\u001b[39m):\n\u001b[0;32m--> 425\u001b[0m     \u001b[38;5;28;01mraise\u001b[39;00m \u001b[38;5;167;01mValueError\u001b[39;00m(\n\u001b[1;32m    426\u001b[0m         \u001b[38;5;124m\"\u001b[39m\u001b[38;5;124mMime type rendering requires nbformat>=4.2.0 but it is not installed\u001b[39m\u001b[38;5;124m\"\u001b[39m\n\u001b[1;32m    427\u001b[0m     )\n\u001b[1;32m    429\u001b[0m display_jupyter_version_warnings()\n\u001b[1;32m    431\u001b[0m ipython_display\u001b[38;5;241m.\u001b[39mdisplay(bundle, raw\u001b[38;5;241m=\u001b[39m\u001b[38;5;28;01mTrue\u001b[39;00m)\n",
      "\u001b[0;31mValueError\u001b[0m: Mime type rendering requires nbformat>=4.2.0 but it is not installed"
     ]
    },
    {
     "data": {
      "application/vnd.plotly.v1+json": {
       "config": {
        "plotlyServerURL": "https://plot.ly"
       },
       "data": [
        {
         "marker": {
          "color": {
           "bdata": "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",
           "dtype": "f8"
          },
          "colorbar": {
           "title": {
            "text": "Z-Value"
           }
          },
          "colorscale": [
           [
            0,
            "rgb(0,0,255)"
           ],
           [
            1,
            "rgb(255,0,0)"
           ]
          ],
          "opacity": 1,
          "size": 3
         },
         "mode": "markers",
         "type": "scatter3d",
         "x": {
          "bdata": "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",
          "dtype": "f8"
         },
         "y": {
          "bdata": "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",
          "dtype": "f8"
         },
         "z": {
          "bdata": "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",
          "dtype": "f8"
         }
        }
       ],
       "layout": {
        "height": 600,
        "scene": {
         "camera": {
          "eye": {
           "x": 1.5,
           "y": 1.5,
           "z": 0.1
          }
         },
         "xaxis": {
          "title": {
           "text": "X 轴"
          }
         },
         "yaxis": {
          "title": {
           "text": "Y 轴"
          }
         },
         "zaxis": {
          "title": {
           "text": "Z 轴"
          }
         }
        },
        "template": {
         "data": {
          "bar": [
           {
            "error_x": {
             "color": "#2a3f5f"
            },
            "error_y": {
             "color": "#2a3f5f"
            },
            "marker": {
             "line": {
              "color": "#E5ECF6",
              "width": 0.5
             },
             "pattern": {
              "fillmode": "overlay",
              "size": 10,
              "solidity": 0.2
             }
            },
            "type": "bar"
           }
          ],
          "barpolar": [
           {
            "marker": {
             "line": {
              "color": "#E5ECF6",
              "width": 0.5
             },
             "pattern": {
              "fillmode": "overlay",
              "size": 10,
              "solidity": 0.2
             }
            },
            "type": "barpolar"
           }
          ],
          "carpet": [
           {
            "aaxis": {
             "endlinecolor": "#2a3f5f",
             "gridcolor": "white",
             "linecolor": "white",
             "minorgridcolor": "white",
             "startlinecolor": "#2a3f5f"
            },
            "baxis": {
             "endlinecolor": "#2a3f5f",
             "gridcolor": "white",
             "linecolor": "white",
             "minorgridcolor": "white",
             "startlinecolor": "#2a3f5f"
            },
            "type": "carpet"
           }
          ],
          "choropleth": [
           {
            "colorbar": {
             "outlinewidth": 0,
             "ticks": ""
            },
            "type": "choropleth"
           }
          ],
          "contour": [
           {
            "colorbar": {
             "outlinewidth": 0,
             "ticks": ""
            },
            "colorscale": [
             [
              0,
              "#0d0887"
             ],
             [
              0.1111111111111111,
              "#46039f"
             ],
             [
              0.2222222222222222,
              "#7201a8"
             ],
             [
              0.3333333333333333,
              "#9c179e"
             ],
             [
              0.4444444444444444,
              "#bd3786"
             ],
             [
              0.5555555555555556,
              "#d8576b"
             ],
             [
              0.6666666666666666,
              "#ed7953"
             ],
             [
              0.7777777777777778,
              "#fb9f3a"
             ],
             [
              0.8888888888888888,
              "#fdca26"
             ],
             [
              1,
              "#f0f921"
             ]
            ],
            "type": "contour"
           }
          ],
          "contourcarpet": [
           {
            "colorbar": {
             "outlinewidth": 0,
             "ticks": ""
            },
            "type": "contourcarpet"
           }
          ],
          "heatmap": [
           {
            "colorbar": {
             "outlinewidth": 0,
             "ticks": ""
            },
            "colorscale": [
             [
              0,
              "#0d0887"
             ],
             [
              0.1111111111111111,
              "#46039f"
             ],
             [
              0.2222222222222222,
              "#7201a8"
             ],
             [
              0.3333333333333333,
              "#9c179e"
             ],
             [
              0.4444444444444444,
              "#bd3786"
             ],
             [
              0.5555555555555556,
              "#d8576b"
             ],
             [
              0.6666666666666666,
              "#ed7953"
             ],
             [
              0.7777777777777778,
              "#fb9f3a"
             ],
             [
              0.8888888888888888,
              "#fdca26"
             ],
             [
              1,
              "#f0f921"
             ]
            ],
            "type": "heatmap"
           }
          ],
          "histogram": [
           {
            "marker": {
             "pattern": {
              "fillmode": "overlay",
              "size": 10,
              "solidity": 0.2
             }
            },
            "type": "histogram"
           }
          ],
          "histogram2d": [
           {
            "colorbar": {
             "outlinewidth": 0,
             "ticks": ""
            },
            "colorscale": [
             [
              0,
              "#0d0887"
             ],
             [
              0.1111111111111111,
              "#46039f"
             ],
             [
              0.2222222222222222,
              "#7201a8"
             ],
             [
              0.3333333333333333,
              "#9c179e"
             ],
             [
              0.4444444444444444,
              "#bd3786"
             ],
             [
              0.5555555555555556,
              "#d8576b"
             ],
             [
              0.6666666666666666,
              "#ed7953"
             ],
             [
              0.7777777777777778,
              "#fb9f3a"
             ],
             [
              0.8888888888888888,
              "#fdca26"
             ],
             [
              1,
              "#f0f921"
             ]
            ],
            "type": "histogram2d"
           }
          ],
          "histogram2dcontour": [
           {
            "colorbar": {
             "outlinewidth": 0,
             "ticks": ""
            },
            "colorscale": [
             [
              0,
              "#0d0887"
             ],
             [
              0.1111111111111111,
              "#46039f"
             ],
             [
              0.2222222222222222,
              "#7201a8"
             ],
             [
              0.3333333333333333,
              "#9c179e"
             ],
             [
              0.4444444444444444,
              "#bd3786"
             ],
             [
              0.5555555555555556,
              "#d8576b"
             ],
             [
              0.6666666666666666,
              "#ed7953"
             ],
             [
              0.7777777777777778,
              "#fb9f3a"
             ],
             [
              0.8888888888888888,
              "#fdca26"
             ],
             [
              1,
              "#f0f921"
             ]
            ],
            "type": "histogram2dcontour"
           }
          ],
          "mesh3d": [
           {
            "colorbar": {
             "outlinewidth": 0,
             "ticks": ""
            },
            "type": "mesh3d"
           }
          ],
          "parcoords": [
           {
            "line": {
             "colorbar": {
              "outlinewidth": 0,
              "ticks": ""
             }
            },
            "type": "parcoords"
           }
          ],
          "pie": [
           {
            "automargin": true,
            "type": "pie"
           }
          ],
          "scatter": [
           {
            "fillpattern": {
             "fillmode": "overlay",
             "size": 10,
             "solidity": 0.2
            },
            "type": "scatter"
           }
          ],
          "scatter3d": [
           {
            "line": {
             "colorbar": {
              "outlinewidth": 0,
              "ticks": ""
             }
            },
            "marker": {
             "colorbar": {
              "outlinewidth": 0,
              "ticks": ""
             }
            },
            "type": "scatter3d"
           }
          ],
          "scattercarpet": [
           {
            "marker": {
             "colorbar": {
              "outlinewidth": 0,
              "ticks": ""
             }
            },
            "type": "scattercarpet"
           }
          ],
          "scattergeo": [
           {
            "marker": {
             "colorbar": {
              "outlinewidth": 0,
              "ticks": ""
             }
            },
            "type": "scattergeo"
           }
          ],
          "scattergl": [
           {
            "marker": {
             "colorbar": {
              "outlinewidth": 0,
              "ticks": ""
             }
            },
            "type": "scattergl"
           }
          ],
          "scattermap": [
           {
            "marker": {
             "colorbar": {
              "outlinewidth": 0,
              "ticks": ""
             }
            },
            "type": "scattermap"
           }
          ],
          "scattermapbox": [
           {
            "marker": {
             "colorbar": {
              "outlinewidth": 0,
              "ticks": ""
             }
            },
            "type": "scattermapbox"
           }
          ],
          "scatterpolar": [
           {
            "marker": {
             "colorbar": {
              "outlinewidth": 0,
              "ticks": ""
             }
            },
            "type": "scatterpolar"
           }
          ],
          "scatterpolargl": [
           {
            "marker": {
             "colorbar": {
              "outlinewidth": 0,
              "ticks": ""
             }
            },
            "type": "scatterpolargl"
           }
          ],
          "scatterternary": [
           {
            "marker": {
             "colorbar": {
              "outlinewidth": 0,
              "ticks": ""
             }
            },
            "type": "scatterternary"
           }
          ],
          "surface": [
           {
            "colorbar": {
             "outlinewidth": 0,
             "ticks": ""
            },
            "colorscale": [
             [
              0,
              "#0d0887"
             ],
             [
              0.1111111111111111,
              "#46039f"
             ],
             [
              0.2222222222222222,
              "#7201a8"
             ],
             [
              0.3333333333333333,
              "#9c179e"
             ],
             [
              0.4444444444444444,
              "#bd3786"
             ],
             [
              0.5555555555555556,
              "#d8576b"
             ],
             [
              0.6666666666666666,
              "#ed7953"
             ],
             [
              0.7777777777777778,
              "#fb9f3a"
             ],
             [
              0.8888888888888888,
              "#fdca26"
             ],
             [
              1,
              "#f0f921"
             ]
            ],
            "type": "surface"
           }
          ],
          "table": [
           {
            "cells": {
             "fill": {
              "color": "#EBF0F8"
             },
             "line": {
              "color": "white"
             }
            },
            "header": {
             "fill": {
              "color": "#C8D4E3"
             },
             "line": {
              "color": "white"
             }
            },
            "type": "table"
           }
          ]
         },
         "layout": {
          "annotationdefaults": {
           "arrowcolor": "#2a3f5f",
           "arrowhead": 0,
           "arrowwidth": 1
          },
          "autotypenumbers": "strict",
          "coloraxis": {
           "colorbar": {
            "outlinewidth": 0,
            "ticks": ""
           }
          },
          "colorscale": {
           "diverging": [
            [
             0,
             "#8e0152"
            ],
            [
             0.1,
             "#c51b7d"
            ],
            [
             0.2,
             "#de77ae"
            ],
            [
             0.3,
             "#f1b6da"
            ],
            [
             0.4,
             "#fde0ef"
            ],
            [
             0.5,
             "#f7f7f7"
            ],
            [
             0.6,
             "#e6f5d0"
            ],
            [
             0.7,
             "#b8e186"
            ],
            [
             0.8,
             "#7fbc41"
            ],
            [
             0.9,
             "#4d9221"
            ],
            [
             1,
             "#276419"
            ]
           ],
           "sequential": [
            [
             0,
             "#0d0887"
            ],
            [
             0.1111111111111111,
             "#46039f"
            ],
            [
             0.2222222222222222,
             "#7201a8"
            ],
            [
             0.3333333333333333,
             "#9c179e"
            ],
            [
             0.4444444444444444,
             "#bd3786"
            ],
            [
             0.5555555555555556,
             "#d8576b"
            ],
            [
             0.6666666666666666,
             "#ed7953"
            ],
            [
             0.7777777777777778,
             "#fb9f3a"
            ],
            [
             0.8888888888888888,
             "#fdca26"
            ],
            [
             1,
             "#f0f921"
            ]
           ],
           "sequentialminus": [
            [
             0,
             "#0d0887"
            ],
            [
             0.1111111111111111,
             "#46039f"
            ],
            [
             0.2222222222222222,
             "#7201a8"
            ],
            [
             0.3333333333333333,
             "#9c179e"
            ],
            [
             0.4444444444444444,
             "#bd3786"
            ],
            [
             0.5555555555555556,
             "#d8576b"
            ],
            [
             0.6666666666666666,
             "#ed7953"
            ],
            [
             0.7777777777777778,
             "#fb9f3a"
            ],
            [
             0.8888888888888888,
             "#fdca26"
            ],
            [
             1,
             "#f0f921"
            ]
           ]
          },
          "colorway": [
           "#636efa",
           "#EF553B",
           "#00cc96",
           "#ab63fa",
           "#FFA15A",
           "#19d3f3",
           "#FF6692",
           "#B6E880",
           "#FF97FF",
           "#FECB52"
          ],
          "font": {
           "color": "#2a3f5f"
          },
          "geo": {
           "bgcolor": "white",
           "lakecolor": "white",
           "landcolor": "#E5ECF6",
           "showlakes": true,
           "showland": true,
           "subunitcolor": "white"
          },
          "hoverlabel": {
           "align": "left"
          },
          "hovermode": "closest",
          "mapbox": {
           "style": "light"
          },
          "paper_bgcolor": "white",
          "plot_bgcolor": "#E5ECF6",
          "polar": {
           "angularaxis": {
            "gridcolor": "white",
            "linecolor": "white",
            "ticks": ""
           },
           "bgcolor": "#E5ECF6",
           "radialaxis": {
            "gridcolor": "white",
            "linecolor": "white",
            "ticks": ""
           }
          },
          "scene": {
           "xaxis": {
            "backgroundcolor": "#E5ECF6",
            "gridcolor": "white",
            "gridwidth": 2,
            "linecolor": "white",
            "showbackground": true,
            "ticks": "",
            "zerolinecolor": "white"
           },
           "yaxis": {
            "backgroundcolor": "#E5ECF6",
            "gridcolor": "white",
            "gridwidth": 2,
            "linecolor": "white",
            "showbackground": true,
            "ticks": "",
            "zerolinecolor": "white"
           },
           "zaxis": {
            "backgroundcolor": "#E5ECF6",
            "gridcolor": "white",
            "gridwidth": 2,
            "linecolor": "white",
            "showbackground": true,
            "ticks": "",
            "zerolinecolor": "white"
           }
          },
          "shapedefaults": {
           "line": {
            "color": "#2a3f5f"
           }
          },
          "ternary": {
           "aaxis": {
            "gridcolor": "white",
            "linecolor": "white",
            "ticks": ""
           },
           "baxis": {
            "gridcolor": "white",
            "linecolor": "white",
            "ticks": ""
           },
           "bgcolor": "#E5ECF6",
           "caxis": {
            "gridcolor": "white",
            "linecolor": "white",
            "ticks": ""
           }
          },
          "title": {
           "x": 0.05
          },
          "xaxis": {
           "automargin": true,
           "gridcolor": "white",
           "linecolor": "white",
           "ticks": "",
           "title": {
            "standoff": 15
           },
           "zerolinecolor": "white",
           "zerolinewidth": 2
          },
          "yaxis": {
           "automargin": true,
           "gridcolor": "white",
           "linecolor": "white",
           "ticks": "",
           "title": {
            "standoff": 15
           },
           "zerolinecolor": "white",
           "zerolinewidth": 2
          }
         }
        },
        "title": {
         "text": "3D 点图示例"
        },
        "width": 800
       }
      },
      "text/html": [
       "<div>                        <script type=\"text/javascript\">window.PlotlyConfig = {MathJaxConfig: 'local'};</script>\n",
       "        <script charset=\"utf-8\" src=\"https://cdn.plot.ly/plotly-3.0.0.min.js\"></script>                <div id=\"ee4e4b47-d2c3-4245-bf64-c0a405d608de\" class=\"plotly-graph-div\" style=\"height:600px; width:800px;\"></div>            <script type=\"text/javascript\">                window.PLOTLYENV=window.PLOTLYENV || {};                                if (document.getElementById(\"ee4e4b47-d2c3-4245-bf64-c0a405d608de\")) {                    Plotly.newPlot(                        \"ee4e4b47-d2c3-4245-bf64-c0a405d608de\",                        [{\"marker\":{\"color\":{\"dtype\":\"f8\",\"bdata\":\"0FGJtQxsvr9kCBRx4Ha9vyxkWl+JuLI\\u002f3CPQTvRKtT8motZy5d2+vyroLp7xLbi\\u002fhDDJ9gkVv7+oPxA950W+v1RpG0Sf2Lu\\u002fwN7XrZs7u79cF0ztGijBP3jM4Q0g8rs\\u002fOMAIj8aUtb8Ess7I0E62vyhrViZ3a66\\u002f3KYae2zgsr9+bQ\\u002fBgRHRP3zR1u25Gby\\u002fwEkLhdzitD80SxjL1tOyPxSY5otePrg\\u002f9Ilv4wvUuL9IAOqEltm2v8DVHP17oq4\\u002f2MK1rS7Wvb9g\\u002f\\u002fVOP7mkPzgbzy2566A\\u002f4OF5QrELlj94PVHqSSKzP3h2C9QQZaI\\u002fDC4lYaAzvb\\u002fQ4c5xa6OeP17fLMIKvbS\\u002fzFj\\u002fKYslv78UFFmnOb6+v1TDAh\\u002fl6Le\\u002fgKAOqHgwg7+sSR9i2jC2v2ybyRfOpre\\u002fABPTcrA6oz8OKkw\\u002frcu1v2gDAWz\\u002fJ7g\\u002f+CJ5\\u002fX\\u002f5sj+sIaJbOb2yP3B0hhSLNq0\\u002fDHhblROVyD8I1BT8Y5iwP7D\\u002fwpVsVrm\\u002f9oet9rIzwD+A\\u002fP1K+M+Kv\\u002fJOS5P\\u002fFrm\\u002foMDOfQQyxD+UmUdrkxq1P1cs\\u002fWlsQ+I\\u002fPIMAoduovT\\u002fAarZ1DsmLPwRjf8kp+LA\\u002foP5W17KMpj+A\\u002f+uu37SxP1CC2RYd1ao\\u002fYJC9D4XYpD+gMyEsi8SXPxitOY8l5ry\\u002fAFgoIv4Wq79mO5PH9OK7vzhJLOtNxrm\\u002fxHkMuP1Yvb8k9l4vr4K6vyCnhhfbZrq\\u002fEM5KWmBRp79Yxtbcg9O5v6ihIpS6CbA\\u002fuN3Z\\u002f8NUqD+AqCSEwdC+P+DBETA4wLU\\u002fWGNOJZ6quL\\u002fw+2IETNexvwAbKp7nja4\\u002fzIjTqixnsb+AYBh1OyeAv0BC02ue+rO\\u002fUHyQj6W3vT\\u002fP3dAwPfvBv9L0qDdkNLC\\u002fGE4WSgOusz+SNsloMFG1vyQOeUCdXLw\\u002f3DdD\\u002fSayuj\\u002fSBDtEjge0vygbbnJb2rA\\u002fBIbysPr9wT\\u002foq\\u002fUtLWKkPxgTlh2OQsI\\u002fdEl1Kw\\u002fqvb9wDdrZCt+0vzw21p+gMbi\\u002fbPseIvV1uL96iS9j7by2vyyqEepCWaG\\u002fYMuP5\\u002fBGnL+ieOj19WHmP6CNBo4dHrS\\u002fZrud1SCytr\\u002fcsaxo4ci3Pwx8alysZbg\\u002fEGSD\\u002fiDfrj\\u002fwB\\u002filEh22P8SCG3J7b7Y\\u002fWCpFuwMKpL94ILsCOT6mv4DKtI1gL6g\\u002fbsee8dRYvL8AhkFbbV7DP5CuVG2u870\\u002fYB0uMEVftL\\u002foTO+l6mSgv9SAF+gwl72\\u002fmsCua8lstr9YQWkJgPmxv\\u002fZxTXzNu7G\\u002fNEetDW+CuL\\u002fEOjp2Fne5v1LnHFm8a7K\\u002fSGimJ2wgur9iR6DSDgy1vw6zFuUJAbi\\u002fMNf6K\\u002fOsqL+UZuZa8464vwCOR2rGbXO\\u002fFBw\\u002fMDeHvz9a1IENIgDBPzD0pEL8f6u\\u002fYEbglsu2tr+w1I1fhjStvxCxguBq+ZA\\u002f9LfjkMQ9u7\\u002fIu9CcYI67v\\u002fgbWFcE\\u002fJa\\u002fSC\\u002fM+AADtj+QWEFQgU2vP1Rw4Asjibq\\u002f3BPEeFM6vL9wJauaHRmhP+gX3vJYcsQ\\u002f8FRGbWfBtj8WmKi05RK0vxjL0I2N37g\\u002fKOuS42KXtz9wIpU9CcKmP2gDEaNE47Y\\u002fTOCxg4sKtL\\u002f85ew3X2C4v9\\u002ft9OiE\\u002fsC\\u002fl+ED2ZXfw79o\\u002fu+OTu+7v1im7TXmYbq\\u002f6p4PuCTlvL8IOyyJBwq2P5Aw5uVYure\\u002fuB2mgx3ptj\\u002fsZ+rynfmyv+DoA2XLFr4\\u002faFiSlnfHsz8wFFIPvDe9P4SvYYmXpbU\\u002fmPWFqmxHs78wMRwEt0S2v3BtVGyJJLK\\u002fAP1PmyS+tr8ASW7l1yOcP6hXrTBP6L+\\u002f4Ci\\u002fQbgovD\\u002fsih5u1M\\u002fCP1ahA2pNT7e\\u002fUBhBnX6Rsb\\u002fi+J9n1T+4v6aUSypU+r2\\u002fNCEkYExtvb\\u002fOL+LKs92\\u002fv5gL9gbnxqw\\u002fLEmdwRU6xj\\u002fQe597nc\\u002fAP9iNrnEveLk\\u002fYJwR1LKnqD9YuQYX0kO5v6jvoLNBbp2\\u002fWBgJJhsau7+gw21+3y6yvyBM2WPmpbe\\u002fEiXBzfsgsL9xaLaoktzBv8CZsVwlD7y\\u002f2HyoMwTGqT8AnA8FYJCaPwg7D66k26Q\\u002fIDsxiE4woj9gI+qJhFSRv4jRsMsnvbq\\u002fRnc2zDXJwT\\u002fEyu\\u002fRC3m6vwA8YiRbaba\\u002foGUtaJXzob80my8gghm6Pzj7gtl4Z70\\u002f2AEdL6oosD8Aygf\\u002f6RPCPyjdHWUdw7E\\u002fYNLCUArUur8cqLE7WYG2v6JCyPwiur+\\u002fuOCuNQahuL+CmuXD8h62v+T9FLPHjrs\\u002ffC897K2xuL+aS1kTtqfEP7gGo+NF88Q\\u002fiOYJ+7o5tT+seBxH0NWyP5yN\\u002fhWJfsY\\u002fNPqEYlK8uL9Y0NGA3OW2v9yACAv5mre\\u002f1EMu9G2Utr\\u002fertMTjzy5v\\u002f4m2YWXKdI\\u002fEg80b4x4ur9onUHrt0S8vyAhhDFIVLW\\u002fit\\u002f9hdGpwb8RDRigMQ3Dv\\u002fwLh9GT272\\u002fqJN38AM2pT\\u002fkBXwAqPq8v\\u002fJGvNtW8sC\\u002ffDVDE7Jjtb\\u002fc3cP0esa1vyAvi\\u002f9ezpG\\u002fmMv4Dp9YzT9866U1c7mzPzgoE3qtRrW\\u002fYHKYKI3Gwj9QDKhIq+LEPzDPZCukG7U\\u002fHO3fDWoZvj\\u002fAnzlNtqzCP\\u002fCacUuF1a8\\u002f9OdUNIkduz8ov3vToL+5v7RBlWlL2Lm\\u002fOA3HZCwQuD8gvzLWwMm8P2zq2bDfD7K\\u002fVEy4+jfMtT84hDfOAWiqP7A+hBlmNLi\\u002fMCVTtaa9sj+czpMP1zy1vweHuN9gkeA\\u002fWNB7Z1w4ub8oM5yk2Uytv\\u002fA1Uxnx972\\u002fpnm9B13puL8gLNPcH1K5P3ivmy8G7cA\\u002fmOT9AhT9tj8syjKKTbO3P9y6g+SrUL4\\u002fwO7hQaeUvr9adHPEuWO0v9SDXHs5mLa\\u002fVGa6DgkJyz9A0C16uAC6P+sDfzj\\u002fF8G\\u002foi6aXaqEwb9UXwi94Oa8v7TEtty2wLq\\u002fnrRwJbpfu7\\u002fgju2axB2kvyjRsaE2s7Y\\u002fbIAA5nHOsD9KZZfE19C8v0rVBu54p7m\\u002f\\u002fNm1xXvsuL+qZBLsgFKyv2S7J+K1LKy\\u002fpPixBM0xur9si8mvMd+wPzidJIq9u7a\\u002f+LeUWVeUvD+ssBvDtwG3PxRtdizvSLc\\u002fzCSh\\u002figqtb88bf\\u002fY7qDCP+454VrBfLe\\u002fYFAizFtcvr9crUYROg2nvzG6GfdBLsG\\u002fPC3oHGIcu7+gwVhxVO6tP1T+oDcPi7A\\u002faJEgYTapvb9c+Wul02yzP0jCr4E8J7w\\u002fUEAB\\u002f80cmT\\u002fWGHShC7nZP9iMdh+Cvb2\\u002f9J3XofNGt78AUbCRfHa\\u002fv7TsKlEvl7a\\u002fGILTQ3FxuT98q92elr2+vxClNs6vIqq\\u002fcNBzQuQBtT\\u002fwYCqOYOa1P8jZoIRKp7g\\u002fMHogDPRotj\\u002fcvZT9iCi7P8wFGQUNI7U\\u002fFG\\u002f1vCo\\u002fsz8IrBthbKi\\u002fP4Sc0zy0hLI\\u002fUFwpfSalsb\\u002f48\\u002fXAYimhvwR0Xnd+VKe\\u002f2Kb3v7qFuL+EBC1wunm2v9FwB2PRneU\\u002fSFRCyL4Wt7+EibLwX723vxSGStBgvs8\\u002f0EnlQgX0qD+kYBpSgnXEP+B1ps6N5Ys\\u002fWL\\u002fuB61CqT+kFnFZtdayP\\u002fy7v+FwwdA\\u002fXMQYEK1btT+8DveJdUO7v1IPLHd1Mba\\u002fjkOJ8SUSur+k7NoxL1e0v7I5IWflXLm\\u002f9FIc7rWIsr\\u002fga1XX1dC1v0rzpc4+zLy\\u002fgNnUH2rnb79gDrtSIrW9P5SzgTJonKW\\u002fEH3dObZmsj+EnRWjQw\\u002fCP4TvNuBLDcA\\u002f5INGH2KT1j8QOD4OX3+9P\\u002fipW9aH+Kq\\u002fdAqHZI9xsz+AxXTUv9Kxv8B4hx2nVqe\\u002fOvdit1+rtL9q5lgTlw62v6ZsvBxKpre\\u002fiKMBukNYp78gupeZjCaHv\\u002fBqHDbIaMU\\u002f6H\\u002ffy+8osD\\u002fw1B8z1q+5P4hPL64rncA\\u002fSCxdxNFCvD8UYhWkOWWhv7AJUTvHxLK\\u002fVMuOxEe\\u002fub9gqv35yJW+v1iCPqHdFLa\\u002f7DpQVamnt79aurtS\\u002fOe6v84lfhn3qra\\u002fWNAIUDLirT+cDant47izv8BxexYKAqU\\u002fpNYk6Sh+tT+8cN\\u002fLtCTBv2ohdmJFccC\\u002fzK7B4NAmwL\\u002fA5ERIXQaIP7zHEn3rh7a\\u002f2P7ySIxsvj\\u002fsrGxi+am7v0gZ4V1NVLI\\u002foE6Iu3+epj8I3wK9ZRi1PyAnHviPY50\\u002f7DzCeZO9tT8Ibt+uJjy3P36X09gLb7C\\u002f1PWMDjrMur94s\\u002fC5eWG8vwBWFj2PMIe\\u002fHpywZq8Dw78KTedpWSjAv7hJ3kDjVLy\\u002f2JYemOxgsj9wT\\u002fufyiyrP7CpEkAKlLM\\u002foAJjFpMVnT\\u002fwE\\u002f8wsNeeP3yqGceHcsA\\u002fcITGXAY8nj\\u002fkUxa+hGCyP2AdX47rwoQ\\u002fUtJr\\u002feyNt7\\u002fOMz\\u002fRmAu1v7BBtVi5Wai\\u002fZMcO5Js8s78YDrqllgmovyAUzhfmdIw\\u002fKDRwZbdNsj9Qgzuvae6SP3gTVNlHG6Y\\u002fDjZ9z7cFwD\\u002fw7ZfgtOasvwb1Wvbvz7C\\u002foLcahOL6sT+AUhSdDBS2PyB\\u002fe6SDt7A\\u002ftEns7076tT8IW+wv8Ny3v2jStArwrKc\\u002fiOF2Gg6wob8kUglhX924vzQqNKcoTbe\\u002fUmCiZzYWuL9AHm4ei21xP8rv5jJAXbi\\u002fGsbde1vAwT9sAHU7mC69v6Bqx5EyX5K\\u002fhNKAyN2lsL+cnigOJoWwP7Zm0+BZksG\\u002fSFvTFByIpj\\u002fQIZ4wb6utP4Y6nt3WhLi\\u002fsNDqrkU0tT+W29DQ+GS5v7AhxED47bq\\u002fshy0YICivb8YNHml4kC6P2S9SHHK0ry\\u002fBOaVyi7\\u002fsb8olaeCoquvP\\u002f6nEiXAvLy\\u002f5KqVYkBbtb+gvWdJgku4v7rydTVTC72\\u002f+ELebB2krT9ggrqSN+KnPwD7ByY3IHw\\u002fqOgRD\\u002f4U4T847PaQUPbAPyA99GQGj7W\\u002fGGYvQJevoT+Ilo\\u002fI3N6rv3bCTrLKubu\\u002fYBm9amgBpj8SSnv3MCHkPw==\"},\"colorbar\":{\"title\":{\"text\":\"Z-Value\"}},\"colorscale\":[[0.0,\"rgb(0,0,255)\"],[1.0,\"rgb(255,0,0)\"]],\"opacity\":1,\"size\":3},\"mode\":\"markers\",\"x\":{\"dtype\":\"f8\",\"bdata\":\"+zHGT3AlyL8iVvXWglDGv+o0kja7e5y\\u002feggsTTcBuL9O0z5l7gu\\u002fvy\\u002fZ4whBNsO\\u002fQiwv4VBDqb874fesnaO0P5dKRlk66cG\\u002f28GOX7\\u002fVqD8dCI0pvUW1v4kPRzMNFrm\\u002fJW+4yn53nr\\u002frBLj9vAGUPwG6bTWPFL+\\u002fOyJFmGDEuL+jTmMZ0X2Uv+JOeoGoDbm\\u002f4C2u\\u002fQCVYD\\u002f1Y8yEa6i4v884zM0ahV6\\u002fhUyeuEPvlD9gHhos\\u002fMavP4+hU2gKjI6\\u002f6hpyGYM7vD\\u002fumWtCK+x9vwDTtPEmpKQ\\u002flILqOufbm78FvoewoM16vw+RJQNds6S\\u002fXmwDyqJjwz\\u002fzXqRb27tSv3aTiAoXCMI\\u002fB8KVdiXOtr9yI+Hi222bPxa1y23LLr0\\u002fNUMqqebKoT+xpMaxv\\u002fahP2Xl+zlK67E\\u002f69+emEqdi78\\u002fkrqVakh4v+tcoF39uIq\\u002fzHoHxO40kL\\u002fBLUGblHWgv4uXUsJj06W\\u002fyYoLoysFpT+TJJpEfybDvx26\\u002fyxburO\\u002fASQRBerPYL9GcHcL9ce3vyWoAMIBQrW\\u002f+ZV21fKstL\\u002fAKZGqLT+yv5y25K4Fyra\\u002fdtftzxVwqz9krGlnPGmcP0lIGoBXgaK\\u002fvKCPWq9Cub+75c00NpiYv55fWpXnsaa\\u002fsX3Vf6rSp784+\\u002fVtTMd8v7\\u002fz0xrzz4U\\u002fsUEXUwJkwb+zuQNK8x2xv5\\u002f48h4tWmi\\u002fSf9Mx8TFtL\\u002fC8okyOH2lPzj9Mcx8\\u002fK8\\u002f1woCt4y6uL9SBEUEQ2ajP8eG1XdQIqG\\u002f8tXtpV8Frb\\u002fU3xtrBa2Nv5\\u002fnPikJg5E\\u002fvgrsLgxlq78qI9GQ\\u002fo9\\u002fP6Pze4WrhX2\\u002fHiiM+3MHgz\\u002f5J+R7AbupP2VanF0xb5I\\u002fcJvtwnVorz9cQItLUCW1P2XCSbUQzKq\\u002fd0TOLKYrob+J2EAz2rCoP1ZTnSvY\\u002f5S\\u002fiEU22s2hsT\\u002fHR72lJs+Vvx6BbWtULq0\\u002fH5XXMbbxnD8XPKKyCvLDv\\u002fUzJ3ZUX5U\\u002f24Zkh21ye78nXDJxhCKsPxvww7lz4MA\\u002fdjYtx8Qiwb+w8kjO3FLCP65qeuqGkrC\\u002fNqrY0o8heb9WS1Qvjl2qv+zzW3UJdnk\\u002fWIAoKxt\\u002fiD\\u002fUJvqRAfmzv08LeJPNc6c\\u002fP81NjHe4fb+aC+YumAKxv3JwcJ7FioA\\u002fmQWT0iXdpj9xMsy6W3ymPyeEQVsQdb2\\u002f9iqUInmwtD990daWsUq+v9NDTRpHz7A\\u002f835GIjKUuj83O+UuZHmyP8QyU9FDa7u\\u002fM3CkrEEetz9WMI5n2Im5PxZnZYllMrM\\u002f3U6kFmU3uj\\u002fXFbWerL2+vwRNekCszKY\\u002f5ex5RoCurT9sWHf0UCq2P5xQ4710KrG\\u002fc0Su8PO6qT+Jrpe0Zdu4PxMzsAie\\u002fb0\\u002fcvg\\u002fZrFQjr8rGFDpQly2P417K6zT\\u002fcW\\u002fNpVm0csFx7+Uy9j01ea5P8DV31iQ+ps\\u002ffRMzCOkMmr8dtV2X5UTGv3NbAinTHMU\\u002fa2VIfViMwr\\u002fffdufr\\u002f+yP7bEcbIkcL6\\u002f5D3rurnvwL9N718aHoqcPx50q47saX4\\u002f60DAVv9Vm79LN7nf719PP0JvlrBShpQ\\u002fn6bQ8b+IkL9TXNJuuK69v7Flw7vME7C\\u002f\\u002f3bG+sWHor\\u002fqmQ73+NG5P1xhRtOaJbA\\u002foGYJGmkVkb9JHL63iuClv9iZLO11nqk\\u002flm7O3OGotT8o4I2ESfiLPyqWDSD3+rA\\u002fJM0J\\u002fs99sT\\u002fTihaK0PeFP0XWsQnbG3w\\u002frrdcaBCvtL+DypSxVCmzPxSnnE4VnrQ\\u002f1skOhQUFtD\\u002fJgABt4cGwvzgajU5efbA\\u002flAPzm46jmT\\u002fokvjgawG0v5nQs1W0CJC\\u002f\\u002fucuwzPao7+wxN\\u002fMH0eUP\\u002fb5Qvq+J5w\\u002fLAc9uVWuuz8Lx2139e21v7hKrbLgNKe\\u002ff3oniuWKsL8mgJrnKUC9vyI9\\u002fOu0gKC\\u002fzkB4VrIEaD8fpnQxMZOBv6BFC+1Y\\u002fZO\\u002fEhAsruH5t7\\u002fUTLrzmoW\\u002fv9XBhFZKBaM\\u002f1lKn1ZELsT9a829y1cGMP8FoMpdFoLg\\u002fU3fijw2Prz89nRg6c+K1v2jrZtVRbY6\\u002fS8J8zN9anD+XkE7S7ySkv4HtA4NAKbI\\u002frlmvJS9wYL\\u002f2N\\u002fBYHCqfPxHUAJi6FLY\\u002fU4DdOUqPtb98kT+7y5+xv3gCjZSfoac\\u002fSUhGlxXQbT+lm9Zi4eG\\u002fv+Spe7KzZqW\\u002fHbsYEgYNnT8eLxQhiOOQvw0E+eY7cLu\\u002fSOO8WqPPvb+TMSuLCea\\u002fv+FhYwUc3K2\\u002foA\\u002ficTZpu7\\u002fRdxqjkLLIv2NPwSFl6p2\\u002fTXFA7Gv+fT8n\\u002fdShyzy9v\\u002fh1q6SkUJs\\u002foxBGZLlHPT\\u002f1r0nmhk2bvxs4kRHqJKg\\u002fDj+r3K0aub9+0hjo8Lm5P0v47BdTA7o\\u002fLbZApBYvwD9YeSOzeT+\\u002fPyp3pwePp5I\\u002fAxI1+gt9pr8Xxx1Jom+zv2c7SPP3jMI\\u002fAsJ7HvHLwz8fETOpCge4P6J5utuRFK4\\u002f2kd\\u002fubbRw79PHDTAb6N5P51vdE2micC\\u002f0zXxHh1jw785GzMwtbKRPzkiJrJz6aE\\u002fv\\u002fwmIE11o7\\u002f7likqau+kPwTPj9eSwLk\\u002f3AAvPmAUmT9aorlN1k+4P\\u002f6fT\\u002fxlZ5O\\u002fBghE5cSOqj88ROSbdASuv6a+zIWfEZ8\\u002fGRrnJKzmrT9RvaI0AArAP1f5ViC3w8I\\u002fmYbFFv1Ysj+CTxNDvZ+lPx05+SLYOrU\\u002frrYvvI7mqj\\u002fBw3xtWFWEP9C9Kx5qwsY\\u002fJbXpv8xhuj915Weelqq3P4uVv5TiEn2\\u002fypDwkcEkxz\\u002fcKbe4y77EP15didLw0Xu\\u002fd2hM4m79wr9RuErzkcmkP3iDrlSXNrO\\u002fy0nLW+pzr7+Mpq\\u002fclDKlv+Glix6RKca\\u002f\\u002f6iHZ2Quub9fUl945hSjP+xZ0fftA7C\\u002fKUiWlJHXnz+PYEBUD99mv6HL86bqisW\\u002f1zDNS197x7+5xyJf1r7Av7S4rgje9Li\\u002f1DqDQpPcoL\\u002fwcPiMkFy0PzA3YtoKqpQ\\u002fQmPARqMTgj8fC56RRxa3v94bwuAXYK4\\u002fJHW\\u002fiogJub+Kh+M9esutP8OZdwlB7bI\\u002flyrELXz1oD+FrJvfLPVQP4INqfz1Rrk\\u002fSB1g44LroL\\u002fAWlQ8j6Kxv7PwenLcybg\\u002f8tWtXo9OsT9kBJeCEQ6hP2GrHSA1J8M\\u002fKU9UgC14xD8vVhTs522yPxJGKMkKlqK\\u002fxjX12s3gp78YrjFALhLBv0RAUkqf07G\\u002fyDf11mZrsz+R3inusaq5P+2YDjCYKKE\\u002fPKPbc1JQsT8Tp6Nq3La7v9uK61uT7nE\\u002fwiq+QJYOrj8A7dyj1ZfFP4w4QoZPJcc\\u002fMLeI9G6nsL\\u002fKICVx8g5jv1RTbjhkqZK\\u002fnT0\\u002fdB0cnT\\u002fNlutIVDqWvyxOV7Vsepa\\u002flSCyk\\u002fyUeT9p+SnFAJWxv0drKw+vH4E\\u002fzN0c\\u002fiQixL\\u002fZBnKRMKWnvw2CKL13kI4\\u002faXu3fmbclD\\u002fmafhIHGaCP0eIJ5fJyag\\u002fyU99vlarlr8uAnKuc82iv4celbTaQ5A\\u002fwslXL7Humz9ZgqLwQdKpv\\u002fMVxHLXunM\\u002f1OGum4H6ej8rehMDaoCSP50BwDIwAqY\\u002f6cD4f85xsb9wC9zPf5Z9P5ZodTm+f68\\u002fwXn9nBxGoj878wpRxGKLPzzu5JqzsJO\\u002fgMO70OUDoD99SX2cgT6nP3lU79uMa5q\\u002fx4snjwDuqz+uWGLF356vv523xMcozKE\\u002fIlxAeZEvqT8WA595fQyoP0MhZG8M0LM\\u002fOIKfR1WdoL\\u002fMghVJdsmXP1\\u002fM52nb4Jq\\u002fK7zZcqxgmT9EM7tVCGqsP1MjzSSe36E\\u002fY4Ze6f6wor\\u002fQSgtFm1O6PxjCZcqz3ZA\\u002fxat9nfB1az+RLv1VjrWiPxtevv0z2se\\u002fRrY9ZreBvD+44PumtgujP3Y2qttDsrQ\\u002fnmT6uz4Aoj\\u002f\\u002fZs\\u002fM\\u002f1ymP7Ca37cMapO\\u002fqA96cCZwtD+tVk\\u002fTtfC3vxkkBwPEx8K\\u002fuhn25wU2xD9MAt7ioXe\\u002fv+1hq\\u002fw0GbW\\u002fuNZlMa\\u002fkwj\\u002fbgZkrI2m7v2nOZrgru7a\\u002f9Jl0s3QepT92o6IPW5C\\u002fP+GugbFUCaw\\u002ffoYTX3Dgtz\\u002f7u9+Kz1\\u002fBP\\u002fuBggErPcE\\u002fLBOkkrfesL9bURHW5OOFv6AlVPFcBpY\\u002fjYmpD0oztL8fzeAdPUTCvxOX\\u002fvNo\\u002fKW\\u002fp9xbUKhsub8yGA5ovKCWv8p0aVWLbqG\\u002f+8hr2IGIvz\\u002fDVwgpAPmEv5vO1xiBaKu\\u002f17cvbbydoL8a4P+UITmGvyv4uCaoVKs\\u002frGpoGyYPnT\\u002fpSymxT\\u002fe0P+hG6hNbyaW\\u002fkoFePnjvj7+Bzz2IbKWjP432bsyQcpi\\u002f9G2uStdTlL8A9oggMYq0v1o6Ap91aYi\\u002fVKNd306SrL8d71qLUa2zPxFtGdXwh64\\u002fW7NZs1RYub+FLBCG0KawP+iV+Qxa5Yc\\u002f6heNjPNur787mSuGc0+cvxCgZud\\u002fSnI\\u002fus31p+lfVT9Iocyo+NGnv\\u002fZQzAVaOJk\\u002foUJrMt3shT9omptxzEO1v4j0eAvSTrA\\u002fWykCG8w2oz+MR2poica6PzwQRnpHxJK\\u002fc\\u002f1zRoZtmL9BPfD90ot9P+KMJ+a4TG2\\u002fdydKyu3lnj\\u002f0C6XTyWbAPw7eXPz6R8I\\u002f+JnIVKqkwT92yhfVDaGwP+IlaqgE0bm\\u002frm0A0zEEpr\\u002fGbSJztS+zP8ytWj9jgrW\\u002fihdaVB7CpT9d0c\\u002fWfIawv8nIBlrkbLs\\u002f+3ceJMIaj7+2GP4BGkCzPzvt1K6O9LE\\u002fxDJLrNdNsz+D9sjYwVy1v7Y24306vLo\\u002fXkqHkN4+vT8kwS+dyNKoP22Lu9hGwqY\\u002fq3wKURjkor8wTb71QyaiPxB8pho5ipi\\u002f1gvao6yepD8C3IXloXnAv\\u002fHldK5GOKa\\u002fWv8l6LrHnL90c3Y+ggmtv1ToapyS472\\u002fhKCDDt2Osb+f1cP\\u002ftwW0P1kWx8F1Frq\\u002frL+WtrMblL\\u002fIZEjRcsOqPyM38v+T3cA\\u002fbj3lA+ncxr+kA8b8sBfBPw==\"},\"y\":{\"dtype\":\"f8\",\"bdata\":\"ZjLoK85juz8fCQ7eSlDAP9ioT41jW5U\\u002f90mFFPgEcz81VoWDkV66P7RXvm2Ew78\\u002fXlyyFifslb8XW1aeL1VjP1OmEMCKs6s\\u002fPygoJQ9roD8finvjKEOYv3\\u002fXDMy12aS\\u002fqAc5+O9os7+HtGFycbPAv3pYnNTAIo+\\u002fxHQRVkcxpb9cJz0BLG2sv4XCLjeQN6Y\\u002fFbukBGkhqL8dL0l02EGgPzh6OrZEHaG\\u002fd4URJTceqr\\u002fU49mYdQ+Sv4Iig\\u002fS+HLW\\u002f5Y1nzHGmsT8boKsLzvOkP4m4yFG8Iqk\\u002fA1+xndJGpT\\u002f2VmDROp2DP5CIe2cZcp8\\u002fPjBPs4OnwD9O0AT+AXe6v87+5Fn897w\\u002fqqsAW3Rzvj9y272W8RG5P3bsivxu1r8\\u002fEdGHHcEXWr8cathm3\\u002fW7v9azNn6kxaq\\u002f9SSnUH9Wlr8mAkr+tDagvwBK3GvCkKS\\u002fYWUbHgoSsL8Tbqaw\\u002f86hv5vJVgPf5Js\\u002fL8ZBkyp5k79rMzF8WTW1Pz\\u002fNV8\\u002fenrI\\u002fLeJywjwepr9mr15kUMD7Pm5uEFIRy6i\\u002f3IfWhMiCqb9+gqOGHRmiv+wM8+qZ5bS\\u002fnYgrc7+gs79YF26WT7Ssv93\\u002fn4t5f66\\u002fS8vBDCkKdj8xgmCImjqlv8+ySw6rN46\\u002fDUpMOJijrL912Bv2yfOgv1jBPSC4faO\\u002flkgIMRTZpT+ttX0dVvi0PyflRgwwN7+\\u002fExMqgulgqT+pUly6KDx9P7MvJwv7GLW\\u002fbWLKmCYtsb+\\u002fsymb+IC2v2StNEc2Plw\\u002fxFoj5jQDuL9X5itwUKm0v8Q2kn3ldrS\\u002fdohjtXg0lz+pVjRydPyhv2WP8Z8K36+\\u002fBSLszUbelr+KPI8WSpSdvyCtHEmziZq\\u002fEFjryUYNpb+aryjwlbuzv1GBYhnhA7G\\u002fr7uTO0fBt78JKZbVrVKyv9qD1lqBdq2\\u002fCmdZI5NMqL8OrNXF+J6hP89lDWD69qm\\u002fI64ZuSEJsr9GInAjetu0P2br+yDplJ0\\u002faAJIINEVqr+IGRpO37OMv7Ae0TIFj6w\\u002fvuDTHMuNuD9Z9O4sSfG7P3I4q\\u002fGrxq6\\u002fBLJOuOBqm7+6f4Ux5KKwv+DoOXKEi7e\\u002fpEsQKDFZuL8ldoJ8ee6bPxPN+OjdGcC\\u002fWZlKtiuBm7+cK2EdhFZ\\u002fv\\u002fn3YM8RrLu\\u002fZwlBXI58tr86vUc57e2\\u002fv4Ix4K5Ypp+\\u002fGtRU84qzt7+ZRlF8DNewP5R4ZDidcrO\\u002f8tgX5URVhT9uDHB3WSHCv1DvgNORPbQ\\u002fmh3HWXO6pb8ACl4RDoyUP9A4bjIyhlC\\u002fceLaCiQTfb+dsf9wrNqnvy0mvieenLG\\u002fs3EPjKDItr\\u002fQOrYw+3m0vxdjWELD55I\\u002f1BePI1VJir9iPgSEgKqwP7MZNeElBrk\\u002fPvGJhWGVmr\\u002fLo0\\u002fPMVK5P+C6a29u07g\\u002fio7d\\u002fPWqwD98CxlYRoa7P7Ltp\\u002fbmMHe\\u002fx6\\u002fPkWqFwT8+b9IMh9\\u002fBPyGo9R8qQMM\\u002fsqMYN62ylj\\u002fUgKVrsSe1v630lzE1u6I\\u002fqE3QKZ3Emb9MhYiievKwv3naZ5ilYqA\\u002fZMYe5UVcsb9ySC0RKNGVvx6\\u002fQsO8wZu\\u002fHfHwrdt3lb8ovZ6vIMB3v1T82bPkD4K\\u002f6n2O6aGHgz9K6UO28nmjP8kCVXCJubg\\u002fjp0g0ijdoL\\u002fVUz8QqLaxv5im82C1CLy\\u002fqZWl6sA0tL8qbHRahDuqv5AMTviGiLO\\u002fyFjdu\\u002fV1sr8793kHXVq2vzvYfQJtGbG\\u002f+8\\u002fdHVWIPb9b0oawoiKxvxSnT3wxCb2\\u002f8aS8jB4wrr9f+g1Ght9oP+V6jfysuKK\\u002fINdIOZk2qz\\u002f0vGurJhx1P0KNvH0pP2y\\u002fmMJaW3sTpj96InHjDmyqP5qUkmXrfa2\\u002f+mGsitPapD\\u002fbSu07Y\\u002fqtvykI10WRq5i\\u002fhQZbFVHlr79i8zuiWDqxP+sE5dth+Y+\\u002fdDrLdMNPq78zeGTkpAiRv4KA3H5giqu\\u002fgns\\u002f6FvKnT8AxtbadKWyP\\u002fG2uppmdbK\\u002feYnr\\u002foqwmT80SwEOhXSuP9ZP3MarV6w\\u002fIEQD9i9Upb+GYmX2xECNPyDIxnxDzZa\\u002fXvpWRRBTVT+shATJFCykv5ErKGwEoZA\\u002fmbnUkfvTbD+wGWVBPOCGP4Admzk2kas\\u002fo\\u002ft9D9RPrr+FL5dQ5juvv9o8bRdwAsO\\u002fUI5veOa2nr9hc\\u002fMFj3WlP4+b5WMjzqa\\u002fjuLnT3frt7+lJ\\u002flfH76pv3NcMu4zH6g\\u002f71M6H0RNuj+VVOO8BVC6PyS7ez0xjqq\\u002fMx+f2gyxiT8MLn8vQdq6P5Humfzwyos\\u002f6H5mg48qob\\u002fOynqfNs6zP1TUkDY7eLU\\u002fInOXBn9DmD9foGyRvAl8PyAgxupq\\u002frA\\u002fWxK0HQ\\u002fJoT+insu51DS3P+W6k3gy6as\\u002fjzjhGxu5tz+N11aJFRC1P4o+r5YOgZ8\\u002fN2Ftt3nJsj+9pZMSFBq2P4lbv5dC6cQ\\u002fXZ8cQWBfvT92nvdVF5uxPzaY13MFe5C\\u002fudpe1QYqh7+aoedH2Z6yv\\u002fwhwGz4MXe\\u002f70pFkislqD\\u002fv1sB6bsmxvymM3aPMja+\\u002fbbYrm3PCsr+UQp0rqKuZP\\u002fV4mM6VHrA\\u002fqti2zDLDq796Z9Zf7mS6P\\u002fZfoEm3T7M\\u002fX7Y2cP5buL8lFV6\\u002f2cetPzEGaz7gKao\\u002fSNNGME9Gjb\\u002fgOunRopm1P0kkez9HvL0\\u002fDyLr4DgBhD8sCwwHJjGwPxKZnP3FHK8\\u002feWqYGdERuD82Vzmbza6Iv0xxFp6DXsI\\u002f\\u002fvAWHB4Ggj8gstZOP8mtP042Z30xJ34\\u002fVrxPOyDpxD89JRMrzQPBP7ewGZ2dRre\\u002foElG0jpauj+swHkxCS6rv5iifXZKwKi\\u002fkU9bL6xmuj+QNWoDGEpyP56F+iTO8ak\\u002f52YM0j+buz8KtkBHFnOKv5+nFx7eKXW\\u002fecHOCPqFj7\\u002flbRHF1Qy0v8hHjs+fIcA\\u002fKNQn1dmDuj9CW9Cr0zeyP1AGj9H7dbY\\u002fC75tZfaxsL+D++YGmGrAv7KQ8rhb37q\\u002fbVJ6uAJXrL+2jMz16pGjP4mI\\u002fo\\u002fWQpq\\u002fRl8w2ZuDsr9ahr9bdRmyv5lZVurvppe\\u002fG3xzUIjgrb\\u002fa0b9nVjV8PxlduGAyTZ8\\u002fxjsmRhEynL+LBQ0Yz36IvyZjRpO+VaI\\u002fROsHdvkWhT9yOaI6xACJP1ExFWgcnMA\\u002fv6hW5qkMwT9VFcSuraWFv5Rw\\u002fDaqJpY\\u002fxBDTzuEfjr+2Uynge\\u002f2Jv3fvHfPVbpg\\u002fgk0tIFkNkb\\u002fwxtsZhTWHP2DXMOMu4aM\\u002fH8mlTaQhiz+WvXkaCs2cvxEg\\u002f\\u002fzeFZO\\u002fDBXKzAHUkr8QAwwujzLCPzJkzjI06sM\\u002fOHTMw25\\u002fq78opGEFCgSwv1JUi7oX\\u002fKe\\u002f73EaCkJftr\\u002fmaZt9O313Pw4nLU8gaq2\\u002fMTOZ\\u002fZGQiz9GX92Q2cuYv8cfI0K\\u002fxru\\u002f6EVnbDB0mT\\u002fAgKU8dX2yv4rhSuc4U46\\u002f93i2w6ulvL9evl\\u002fW0lKEP3mcB1RNQrm\\u002fP1j\\u002fhHHWtr\\u002fMYTyqS7Oav\\u002fXSZHSrGra\\u002ft+l6KcvEub+74W9J9NSWP3j\\u002fE50DDp+\\u002f2gh6V7FVtr9gti69CjWNv+TxkS48wMG\\u002fAPrqW2R5mj9TC90pE0qqv1x3mHqdAKW\\u002fmbknpsMunL90FJpNpNcPvzaAGDabyIy\\u002fI\\u002fDyXl55lr8fEqVdlkKdvzvYQFFNHqy\\u002fXFi0EV\\u002ftsb+NZHD+alxxvwsDYv1pfLe\\u002f8CgV0DAAwL+tpmxuo9ykvy3Uky2jtWg\\u002f37IqHhjNcb+07dVbaxekv9++gEe4D6A\\u002fDqbZjirHtr8OQy4ziIe7v5kAfdev04Y\\u002fRBKK5UgFr7+14dPxCD+xP53vOoJaMri\\u002fWbFa6yhwjL8M\\u002fJ4U6hGtvx7L7miHxro\\u002fYdce8y+QjD9riNthZSmyv5jjtQVUN6W\\u002fVsXukXPhrL+5LXzcoZ63P4lqw1wfk7O\\u002flxHYHjptrj\\u002fOsiVjS3yzPzNRqDdKUrk\\u002fMvl5udWhvD+SyZoGYVW3P7mUHcDK+qg\\u002fvEdd+bNmvD8dDave\\u002ff+qv0lL8Lj4SqS\\u002fzGa8gAuTlz9Ib4CgN4OoPyn6wpManp0\\u002fysAoule0sD\\u002fsHbY\\u002fiJrBP+7Zg4SXh8E\\u002fp5ARZmPwsz\\u002fT38C\\u002fY6mTP202KQ7vUpe\\u002fwFJuzOM7fr\\u002fLWuliKy20P8uTxNfziai\\u002flBPAyiKLrD\\u002fQw3OomXWzv6D3q4an97G\\u002fTQiVt7kppz8OObx5\\u002fQe0P3CBtuLqCmC\\u002faONnwpOopT8dFHiLVuvCP2bC3UO3qaw\\u002fU+fgNhvptr+LT\\u002fj+m1mJPyDANWtgU7O\\u002fJAyyurCurD+zjUaHKUSGv2nlKLRFxr2\\u002fdQauAq1Umr9THaYtMpysP1HR2SMNLLm\\u002fiSEOlaHBmb\\u002fPBhbyGGGmP267+huckqM\\u002fpPgSjg0ftT\\u002fS0eQHKSegvyObLMlkmbi\\u002fdxHk1515mr8ixGuIgCiVv+dGA0nr+pu\\u002fSLITROuis78m4f+cjEawv1UjQGlkxbO\\u002flx8xDNRnf7+fJC80i3iBP7qmlBWZmoe\\u002fD+qxj5BLrL8BaQz3sLG4P3RypcPjb7E\\u002f98cJSenCpz\\u002fgDLkQoDtcPxmhs6w5QqA\\u002fMd7Jm5a8wb9DcP1iTBS4P1+SYbDWO8I\\u002fletAFI5Cuj+0wHO6Uoixv4OHEg8QN7I\\u002fbpPe6FVxtb9Js8dg23CoP+7mK+Cx8bY\\u002fD+Mme0cuoz9k96MPpJCwPxAWds80RHu\\u002ffaSLbKuviz8B6OPsg6iTP73jrzL5uKO\\u002f+NnBhxLxoj85E3Mj9RK8P2W7WXRttbA\\u002fVa8VoI2Hlz9MvOT5r6+hP+uZSoOKjKI\\u002fHsb0d7Lgrr9RBXFYiXqyv7hzoqYkUbA\\u002fMdhimG+Cur8Z+rbgmbucv97Q2wAXZTa\\u002fX63WwNDsgr+xmpv9l81xP56lZhrn3pu\\u002fI7zSlomopj9pJHJDIYilP+OIZ72P8bU\\u002f7wtn9m5YpD+63kyw05SBP2dQEk3UNsA\\u002far+FDxdQpT\\u002f9KHH5eh+tPw==\"},\"z\":{\"dtype\":\"f8\",\"bdata\":\"J8jLS+TuiL9q7SohGWhlvy7kPkGbsXy\\u002f6bWUBIxhl79woSsmwd6Zv1loZxowVYw\\u002fSGyzOsAZrb\\u002fFdfDPBhWzv4G+swOitl+\\u002fEI876IddxL8KViLLU\\u002fecv3Gfinvq+7K\\u002fis1\\u002ful9VpL8toVr6pVORP8+THJ8kQKS\\u002fX+ZvnNAQo78a9f9qEImrv7A9rPlNO6i\\u002fCoDUiCDEqz9+P3U9dhiov+rVXwiHpo0\\u002fuoAKIQfRwb\\u002fhlHHHrIvFv\\u002f8lTjdSTaY\\u002fqISpduPewD+1Jzqlm3itP82K7JbANcA\\u002frxK\\u002fn66GpT8wJXAfbXWkP\\u002ff+ff3rXqg\\u002fsDjMZCD9uT\\u002fq2mo2n7uCP835VRGKdbc\\u002fReJ5CpfgsT\\u002fxDdqMsf+jP\\u002fvqQgJwXrc\\u002ftRxoQVtGsT\\u002fVCDRhiVuaP\\u002fQys7Oyr7E\\u002fTqmDF2dxrL+3dPbQLw6Uv3BVxtZeeYk\\u002f8qKFgc66jT8HBUbkscehP2btTU+sFaY\\u002ftx1\\u002fHLLwsb9tKsmmEXCQv5Ta4gnDbJc\\u002fdDfuEHhoqb8aoueYVfqfv\\u002f5PYNsfNaO\\u002fyjeE6nBZsb+C\\u002fljFb66HP99XVgmgqHa\\u002fP3S4\\u002fiIth7\\u002fIvfX\\u002f+Yazv7aguxjOqqM\\u002firbFgCtGcj\\u002fnSFAvcdOHv2Xo18aj8Jy\\u002fgB8wzNyLob8U\\u002f7wBO9yov78UP5gil5a\\u002fAAo9ohlroT8vA+VVza6pv\\u002fjN\\u002fqwehpY\\u002fUSj3wRp4o7\\u002fw0I5O+GS+v3RnwIZ5lpQ\\u002fTMntu3uStb86KVM+ORSbv3MdDinF\\u002fXQ\\u002fjoVTfTAajT86BX2IfPWhPw+2e9+G90c\\u002fO1HEKJephL+YzFF0rhO5v+TgKa3BGZk\\u002fEP0ZW+BJqj9HIpAXQqyVv5nhccEKS7w\\u002fsneoOv0tjz\\u002fCJ3nS\\u002fU20P3CTK\\u002f4RMaI\\u002f8tJmLwjrnj8SlKNUQyyrP4MeTQFWIaU\\u002fGkWUVnHKsD\\u002fhxW1Ys2a4P+265uMUZ7o\\u002fivCAsGAKvT8soYY5zemWv72VkQ0hz58\\u002fdokiGDIqkj+GyA23heKgPz52bu6ZaoG\\u002fpaB2yFhnmz9mk7FVrRNxP+gbi1uQ7Ki\\u002fILoPs9lysr+9c3TarKuqP9ltWu1r1ZK\\u002fnzXEp7gktj9W1lMHSu+rv1wo97WAhLI\\u002fY6EylwgOkr8d6YozubWuP92jS5uRVbE\\u002f0EfnZ7mamj8jh8HpIjymv2JHND3E1JC\\u002fVgmpDzkXuL8nR9ObRVGQv\\u002fmadV4jJa6\\u002fdDTOM6u0wr9yfA6E3OmRP025WzFJmpy\\u002fve0rCERSv781lRZrz5\\u002fPvwWnzW1QJsy\\u002fMFoNqjcwzb8gF5vXW5e1v1XtQqNsuZI\\u002ffMy8\\u002frSSrz9L1AQkPWK1P+V2F6ijCaa\\u002fD5dETZzxtD9Q7Ik17P2Ev7Q9ga6W5rG\\u002fVFqa8Q9xsD\\u002fMLHcmCah9PzizQN2ijKK\\u002f+AvswrQ7Rj+4sMS0bOWwPxkG0NiI3bA\\u002fh8Hrz+4+j7\\u002fMdLcy\\u002fc2KP64tjHAHF54\\u002fQObRi3jCm7+eP5bwzG2vv360c3KA\\u002fnw\\u002f0\\u002fwAvo0Zsb+hKOzlZh+zPy13fiBSzqs\\u002fZea5vIfJtj9jy0YXTwKxvyxqc5UN7KS\\u002fMssBcPb9pT++kxYoLPWFP87VcmgGQGO\\u002fskSFqzREoT8L\\u002fH8KAYnNv79SeDek4Me\\u002fYJ7haMZmiT\\u002fmsRfDqAeiv0vUpntVdqc\\u002fUoTKdCtSl7\\u002fjDPYFrX6UPzPI7kn\\u002fabK\\u002fimzIDjI3vr87KrgfYhi\\u002fvzHnx\\u002f5oPIS\\u002fyKjQv3WabT\\u002fyNKxR4A29vxKZYELHO6G\\u002fKWBx6fYSw78ggj3jjMuyv0oe6mXdSsO\\u002fuW6PJZx\\u002fxr\\u002fCzZANSQ6nv\\u002f9e7lpVYYc\\u002fvs9mvzoWiL88apRr6W+mvy7ixKEqIKK\\u002fALS1vlIyyr8PU4iXyi6Yv9JciwSdBHy\\u002fRpvbGqG9or9Xopy+dxiUvzYZnj5sdZC\\u002fs+oEJZncor8wE7LJamKUv09tGrh1EaY\\u002fBABbsbQ0oj9KRRuyvEiSv07x0+uCEpA\\u002fk4G3LmRrxb\\u002f\\u002fydkv1HW+v2mEUUU4scu\\u002fa3\\u002fZ\\u002fuuAs7+bGezzz0+kP7DVXdk4qoE\\u002fzPX26NGjqz+KMza0+bSxv3PnDeyT7Ww\\u002fwj3Vu17Ypj\\u002fxNjsVJsiZvyqwBNKSkKm\\u002faysPu1YKrr\\u002fgNUaRLYmgv6EHm3EU+KE\\u002fdPM4vJJ+i79gS9A1sXR+v37vIezwTJY\\u002fqhhnZfsol7+gyWs2BGKyP7sddE7hxZA\\u002fzNFxF\\u002fWvjr8b+os1NEl2vyiSPWTT7YQ\\u002fgJjzKylNlD9LKRsVRgN\\u002fvwrUMtHxO6E\\u002fGuGI9KwniT\\u002fAiyjvPtGTv9SBiRO3u5E\\u002fU+3S7YbpXT9+NXZp2HegP\\u002fRkimqZJbA\\u002fjxnnnkcrb79mMK0RzeOGP58+JnLxap0\\u002fjEzD3m6ucD8BlppTCo6ZP3j88P1qQGK\\u002ffc918kW3kL\\u002f1r7aN78JIvyY7wilXDZa\\u002f556l7Xz+lj8XW4gxaYqQP2jgGTS9Y2U\\u002fkcL+cRIstb\\u002fFrl0MRF2cP4Jfd0Ov1aW\\u002f57trNlYYir8t5nqWyzqsP6nzOu5ZF6Q\\u002f9cRsaOKmpr++Cq8GEuGlP08bxt0mVLQ\\u002faomMj3cHmT8UdmdOrta0P1iWkzL5mrg\\u002frsr3F2v0qD8BwPhreTixP\\u002fkLAE6ujLQ\\u002f4X2Fd2tJi7\\u002fL1XidfCS9PxMvfrG\\u002fUqE\\u002fd8OxfHMHoD+Dyn97nyywP\\u002f9E6HFY4Zm\\u002fYKwhAm+9sT+ZGJ+7HyqqPyeqBmA9Mps\\u002fzFHdLWgnMD+y8ntHQVOhPzmPM+XWr4w\\u002fvxI9sJnskz+ZfHOEagl\\u002fv2GDpuO+V4K\\u002fR\\u002foQ7l9Sfj9igcocKYGQv5JKalRomnw\\u002fz6Tnn4FCrj\\u002frAL6kLempP9gbUTPNjZq\\u002fu8H60OHwqj+H6urVub2SP\\u002fMxoBkZGHa\\u002fejXE9Gb1sz8V\\u002f3aFG1OvP+KmVGuyF34\\u002f4sbLfeg5cL+2h3EKvPNzP6arz0SfaaE\\u002fbneXImUgtb\\u002f7HgNpIYmgP496w2afbHG\\u002fq3Ckgza8rT9vBQ1+yb6iPxZZClqPRsG\\u002fHJWMFzaesL\\u002fNZ4qUnkqqPyujDj9Ra7E\\u002fveffoTaXpr\\u002flUhMbIIqpP9Ex07TpC6g\\u002fgvUMKHuGgj9JacPoMmSoP7P3Eh74+Ls\\u002fme6Le4DfoD8tR8nOOaO5Pyx68rZxM7s\\u002fB2be1NF2rj9N9yBZRzuoP0Lfv6\\u002fFGLs\\u002fm3r1dIdLY789r5ixL4Spvw9ldNWbRa0\\u002flP8HPmJNg79IozElDxKiP36CEkczcaQ\\u002fkkMkRvEpoL+QhLHhvs2wvwxv3A2r4Jk\\u002fmbE4rn5ibD+D41xoVB+vP7haa0wsgaE\\u002fs52haA5VlD8zr10zr0KyP9pJJa+JGak\\u002f+Lh0\\u002fH\\u002fptD+MgDMA242Lv5zqKmjKK7A\\u002f6kFavBbgrz\\u002ffrwmihlaMv9tfSgGNibC\\u002f\\u002fcnPrvp1lL9+K\\u002fQUVDCnP\\u002ffmw3\\u002fPdJC\\u002fema\\u002fFlmoZr+ZMNSOru3Bv\\u002fkGR9NheWW\\u002fopDSfGdkmz\\u002faAOA3tKahP+VEgRzZ7Lc\\u002fJHdd9MdSoj8xm0v0\\u002faa5P3vAhm80Fa8\\u002fXEON6xFssj8S1fyWvQy1P4KZHYzoebI\\u002fBfEfpmNWnj+bkyYYqx+pP3NroWlznqu\\u002fuxagjL+rsz\\u002frt9hSVlK0P+ST6U\\u002fRxXm\\u002fQcsMm2LGpT+BiYMOBQ6xPxaROJc056y\\u002fed8DReobmT9Ru1aKMB2iv6LGYPS8dKg\\u002fjbQDL+Kpej8trt4\\u002fZ6Krv+BS8LctxZe\\u002f0hNDfiM4uL+f+7uiMOW1v96UHbU2hqw\\u002fWuRSc177sL\\u002feSFyA\\u002fsG7v5bVx659Yb6\\u002fwAALDoFOoL8rZQR7dBTCv7N7DriD4pG\\u002fKTF7Ylctoz+k\\u002futX7lmjPy1XEMQzBUW\\u002f+6USvvU5lz\\u002fn7bH8jdueP77GrZJwja6\\u002feMhyanCxlT+w8DIkPD5jP45lJ40rkp8\\u002fgivME7zytb82WHtE4SKgv0RgQnA1qGm\\u002fQxnCzD7uvb9UjvGBgi+hPx+x20+994O\\u002fSmUKWDScwb8xrb4c9Vu2v8QalIdCUbS\\u002fGg7i\\u002fQYdgr9QJYxpwTasv7KKL2\\u002fDp6A\\u002fbmU8dNHJtT8M8CmSoS2LP6yPZzqJjJA\\u002fxUZoQAxcsz8MnqVh6\\u002fSgP4wA5mvKzby\\u002fINgrWmjxdj+NZf3ligqgP4cKZDp8hqY\\u002fr2Yv\\u002fLjkej8D3M8A6cJuP2tL1JxRO5g\\u002ft0DbFTROpD9EmkUEmtGyP0zvO\\u002fiR3nQ\\u002fy\\u002fTggrrvrz9qXv+A5ZlZP+OkNiBiHJA\\u002fC4Fky9bDgb\\u002ftOm3\\u002fF2uiP6PBy4q\\u002fQ5s\\u002fdP6vsip+rz\\u002fm8Hu0BL2AP\\u002f\\u002fhWxbdgbc\\u002feGAjwG\\u002fbpr9PT3nR64OnP0TWYiDKfK8\\u002fXcR3tnk0bj9wKtUsR2Cbv1s4zs2K66e\\u002fd+wU34ZupT8PlDjP1wuwvy1c0nQKGKo\\u002f3rcuzbmMjj+AXSs9HyO4v\\u002fqjiPBY45u\\u002fj\\u002f\\u002fZjNO6sT9alcxVUZphv7brErULh6g\\u002fZ3qmNzbFoj\\u002fEV6saSRewvzeHmCJ48a6\\u002ftKvzJ1s4cz\\u002f\\u002fNZMZQ6WHv+wZTiKNwqY\\u002fY8j++NtlgD85DKakp8SMv1rL06NTbpo\\u002fcTSxDremrD\\u002fIOd\\u002fgi43Av8OHyaJYz72\\u002f5X9qQxcmwL9WJBhKXeWlP8+s3FPw36s\\u002fM+ezwqjIcb\\u002fxDbkrWkWtv+qY5e5WMKG\\u002f7pfFL8z7gj8uu9Pbb0+VP70R02yOMr0\\u002fTo02VW4MnD9s53hXB0GsPw24oG54kom\\u002fg\\u002fIPtCHvtj9\\u002f\\u002ffmCXfGgPwIrohw+e5o\\u002fmXVfVfiesj8c2xBY6bK6P345bGQMjLM\\u002f3qeHH4MBtb\\u002fmxJZ8JhyfP57J2orSiq2\\u002fEOwku0aOsj+4EFqpLM6Yv3bjaMXjVmY\\u002fqoRvufSKnL\\u002fxEJkVTLiUP1nUmzyvUJq\\u002fSrYzjmoMfb8Ca\\u002f8h2OyGP8YBZRevtHq\\u002fMxZzmkBXoj9cWHh2hfeOv37x8EJQFcO\\u002f16y0c6\\u002fwob+8Uj41J4e1vw==\"},\"type\":\"scatter3d\"}],                        {\"template\":{\"data\":{\"histogram2dcontour\":[{\"type\":\"histogram2dcontour\",\"colorbar\":{\"outlinewidth\":0,\"ticks\":\"\"},\"colorscale\":[[0.0,\"#0d0887\"],[0.1111111111111111,\"#46039f\"],[0.2222222222222222,\"#7201a8\"],[0.3333333333333333,\"#9c179e\"],[0.4444444444444444,\"#bd3786\"],[0.5555555555555556,\"#d8576b\"],[0.6666666666666666,\"#ed7953\"],[0.7777777777777778,\"#fb9f3a\"],[0.8888888888888888,\"#fdca26\"],[1.0,\"#f0f921\"]]}],\"choropleth\":[{\"type\":\"choropleth\",\"colorbar\":{\"outlinewidth\":0,\"ticks\":\"\"}}],\"histogram2d\":[{\"type\":\"histogram2d\",\"colorbar\":{\"outlinewidth\":0,\"ticks\":\"\"},\"colorscale\":[[0.0,\"#0d0887\"],[0.1111111111111111,\"#46039f\"],[0.2222222222222222,\"#7201a8\"],[0.3333333333333333,\"#9c179e\"],[0.4444444444444444,\"#bd3786\"],[0.5555555555555556,\"#d8576b\"],[0.6666666666666666,\"#ed7953\"],[0.7777777777777778,\"#fb9f3a\"],[0.8888888888888888,\"#fdca26\"],[1.0,\"#f0f921\"]]}],\"heatmap\":[{\"type\":\"heatmap\",\"colorbar\":{\"outlinewidth\":0,\"ticks\":\"\"},\"colorscale\":[[0.0,\"#0d0887\"],[0.1111111111111111,\"#46039f\"],[0.2222222222222222,\"#7201a8\"],[0.3333333333333333,\"#9c179e\"],[0.4444444444444444,\"#bd3786\"],[0.5555555555555556,\"#d8576b\"],[0.6666666666666666,\"#ed7953\"],[0.7777777777777778,\"#fb9f3a\"],[0.8888888888888888,\"#fdca26\"],[1.0,\"#f0f921\"]]}],\"contourcarpet\":[{\"type\":\"contourcarpet\",\"colorbar\":{\"outlinewidth\":0,\"ticks\":\"\"}}],\"contour\":[{\"type\":\"contour\",\"colorbar\":{\"outlinewidth\":0,\"ticks\":\"\"},\"colorscale\":[[0.0,\"#0d0887\"],[0.1111111111111111,\"#46039f\"],[0.2222222222222222,\"#7201a8\"],[0.3333333333333333,\"#9c179e\"],[0.4444444444444444,\"#bd3786\"],[0.5555555555555556,\"#d8576b\"],[0.6666666666666666,\"#ed7953\"],[0.7777777777777778,\"#fb9f3a\"],[0.8888888888888888,\"#fdca26\"],[1.0,\"#f0f921\"]]}],\"surface\":[{\"type\":\"surface\",\"colorbar\":{\"outlinewidth\":0,\"ticks\":\"\"},\"colorscale\":[[0.0,\"#0d0887\"],[0.1111111111111111,\"#46039f\"],[0.2222222222222222,\"#7201a8\"],[0.3333333333333333,\"#9c179e\"],[0.4444444444444444,\"#bd3786\"],[0.5555555555555556,\"#d8576b\"],[0.6666666666666666,\"#ed7953\"],[0.7777777777777778,\"#fb9f3a\"],[0.8888888888888888,\"#fdca26\"],[1.0,\"#f0f921\"]]}],\"mesh3d\":[{\"type\":\"mesh3d\",\"colorbar\":{\"outlinewidth\":0,\"ticks\":\"\"}}],\"scatter\":[{\"fillpattern\":{\"fillmode\":\"overlay\",\"size\":10,\"solidity\":0.2},\"type\":\"scatter\"}],\"parcoords\":[{\"type\":\"parcoords\",\"line\":{\"colorbar\":{\"outlinewidth\":0,\"ticks\":\"\"}}}],\"scatterpolargl\":[{\"type\":\"scatterpolargl\",\"marker\":{\"colorbar\":{\"outlinewidth\":0,\"ticks\":\"\"}}}],\"bar\":[{\"error_x\":{\"color\":\"#2a3f5f\"},\"error_y\":{\"color\":\"#2a3f5f\"},\"marker\":{\"line\":{\"color\":\"#E5ECF6\",\"width\":0.5},\"pattern\":{\"fillmode\":\"overlay\",\"size\":10,\"solidity\":0.2}},\"type\":\"bar\"}],\"scattergeo\":[{\"type\":\"scattergeo\",\"marker\":{\"colorbar\":{\"outlinewidth\":0,\"ticks\":\"\"}}}],\"scatterpolar\":[{\"type\":\"scatterpolar\",\"marker\":{\"colorbar\":{\"outlinewidth\":0,\"ticks\":\"\"}}}],\"histogram\":[{\"marker\":{\"pattern\":{\"fillmode\":\"overlay\",\"size\":10,\"solidity\":0.2}},\"type\":\"histogram\"}],\"scattergl\":[{\"type\":\"scattergl\",\"marker\":{\"colorbar\":{\"outlinewidth\":0,\"ticks\":\"\"}}}],\"scatter3d\":[{\"type\":\"scatter3d\",\"line\":{\"colorbar\":{\"outlinewidth\":0,\"ticks\":\"\"}},\"marker\":{\"colorbar\":{\"outlinewidth\":0,\"ticks\":\"\"}}}],\"scattermap\":[{\"type\":\"scattermap\",\"marker\":{\"colorbar\":{\"outlinewidth\":0,\"ticks\":\"\"}}}],\"scattermapbox\":[{\"type\":\"scattermapbox\",\"marker\":{\"colorbar\":{\"outlinewidth\":0,\"ticks\":\"\"}}}],\"scatterternary\":[{\"type\":\"scatterternary\",\"marker\":{\"colorbar\":{\"outlinewidth\":0,\"ticks\":\"\"}}}],\"scattercarpet\":[{\"type\":\"scattercarpet\",\"marker\":{\"colorbar\":{\"outlinewidth\":0,\"ticks\":\"\"}}}],\"carpet\":[{\"aaxis\":{\"endlinecolor\":\"#2a3f5f\",\"gridcolor\":\"white\",\"linecolor\":\"white\",\"minorgridcolor\":\"white\",\"startlinecolor\":\"#2a3f5f\"},\"baxis\":{\"endlinecolor\":\"#2a3f5f\",\"gridcolor\":\"white\",\"linecolor\":\"white\",\"minorgridcolor\":\"white\",\"startlinecolor\":\"#2a3f5f\"},\"type\":\"carpet\"}],\"table\":[{\"cells\":{\"fill\":{\"color\":\"#EBF0F8\"},\"line\":{\"color\":\"white\"}},\"header\":{\"fill\":{\"color\":\"#C8D4E3\"},\"line\":{\"color\":\"white\"}},\"type\":\"table\"}],\"barpolar\":[{\"marker\":{\"line\":{\"color\":\"#E5ECF6\",\"width\":0.5},\"pattern\":{\"fillmode\":\"overlay\",\"size\":10,\"solidity\":0.2}},\"type\":\"barpolar\"}],\"pie\":[{\"automargin\":true,\"type\":\"pie\"}]},\"layout\":{\"autotypenumbers\":\"strict\",\"colorway\":[\"#636efa\",\"#EF553B\",\"#00cc96\",\"#ab63fa\",\"#FFA15A\",\"#19d3f3\",\"#FF6692\",\"#B6E880\",\"#FF97FF\",\"#FECB52\"],\"font\":{\"color\":\"#2a3f5f\"},\"hovermode\":\"closest\",\"hoverlabel\":{\"align\":\"left\"},\"paper_bgcolor\":\"white\",\"plot_bgcolor\":\"#E5ECF6\",\"polar\":{\"bgcolor\":\"#E5ECF6\",\"angularaxis\":{\"gridcolor\":\"white\",\"linecolor\":\"white\",\"ticks\":\"\"},\"radialaxis\":{\"gridcolor\":\"white\",\"linecolor\":\"white\",\"ticks\":\"\"}},\"ternary\":{\"bgcolor\":\"#E5ECF6\",\"aaxis\":{\"gridcolor\":\"white\",\"linecolor\":\"white\",\"ticks\":\"\"},\"baxis\":{\"gridcolor\":\"white\",\"linecolor\":\"white\",\"ticks\":\"\"},\"caxis\":{\"gridcolor\":\"white\",\"linecolor\":\"white\",\"ticks\":\"\"}},\"coloraxis\":{\"colorbar\":{\"outlinewidth\":0,\"ticks\":\"\"}},\"colorscale\":{\"sequential\":[[0.0,\"#0d0887\"],[0.1111111111111111,\"#46039f\"],[0.2222222222222222,\"#7201a8\"],[0.3333333333333333,\"#9c179e\"],[0.4444444444444444,\"#bd3786\"],[0.5555555555555556,\"#d8576b\"],[0.6666666666666666,\"#ed7953\"],[0.7777777777777778,\"#fb9f3a\"],[0.8888888888888888,\"#fdca26\"],[1.0,\"#f0f921\"]],\"sequentialminus\":[[0.0,\"#0d0887\"],[0.1111111111111111,\"#46039f\"],[0.2222222222222222,\"#7201a8\"],[0.3333333333333333,\"#9c179e\"],[0.4444444444444444,\"#bd3786\"],[0.5555555555555556,\"#d8576b\"],[0.6666666666666666,\"#ed7953\"],[0.7777777777777778,\"#fb9f3a\"],[0.8888888888888888,\"#fdca26\"],[1.0,\"#f0f921\"]],\"diverging\":[[0,\"#8e0152\"],[0.1,\"#c51b7d\"],[0.2,\"#de77ae\"],[0.3,\"#f1b6da\"],[0.4,\"#fde0ef\"],[0.5,\"#f7f7f7\"],[0.6,\"#e6f5d0\"],[0.7,\"#b8e186\"],[0.8,\"#7fbc41\"],[0.9,\"#4d9221\"],[1,\"#276419\"]]},\"xaxis\":{\"gridcolor\":\"white\",\"linecolor\":\"white\",\"ticks\":\"\",\"title\":{\"standoff\":15},\"zerolinecolor\":\"white\",\"automargin\":true,\"zerolinewidth\":2},\"yaxis\":{\"gridcolor\":\"white\",\"linecolor\":\"white\",\"ticks\":\"\",\"title\":{\"standoff\":15},\"zerolinecolor\":\"white\",\"automargin\":true,\"zerolinewidth\":2},\"scene\":{\"xaxis\":{\"backgroundcolor\":\"#E5ECF6\",\"gridcolor\":\"white\",\"linecolor\":\"white\",\"showbackground\":true,\"ticks\":\"\",\"zerolinecolor\":\"white\",\"gridwidth\":2},\"yaxis\":{\"backgroundcolor\":\"#E5ECF6\",\"gridcolor\":\"white\",\"linecolor\":\"white\",\"showbackground\":true,\"ticks\":\"\",\"zerolinecolor\":\"white\",\"gridwidth\":2},\"zaxis\":{\"backgroundcolor\":\"#E5ECF6\",\"gridcolor\":\"white\",\"linecolor\":\"white\",\"showbackground\":true,\"ticks\":\"\",\"zerolinecolor\":\"white\",\"gridwidth\":2}},\"shapedefaults\":{\"line\":{\"color\":\"#2a3f5f\"}},\"annotationdefaults\":{\"arrowcolor\":\"#2a3f5f\",\"arrowhead\":0,\"arrowwidth\":1},\"geo\":{\"bgcolor\":\"white\",\"landcolor\":\"#E5ECF6\",\"subunitcolor\":\"white\",\"showland\":true,\"showlakes\":true,\"lakecolor\":\"white\"},\"title\":{\"x\":0.05},\"mapbox\":{\"style\":\"light\"}}},\"scene\":{\"camera\":{\"eye\":{\"x\":1.5,\"y\":1.5,\"z\":0.1}},\"xaxis\":{\"title\":{\"text\":\"X \\u8f74\"}},\"yaxis\":{\"title\":{\"text\":\"Y \\u8f74\"}},\"zaxis\":{\"title\":{\"text\":\"Z \\u8f74\"}}},\"title\":{\"text\":\"3D \\u70b9\\u56fe\\u793a\\u4f8b\"},\"width\":800,\"height\":600},                        {\"responsive\": true}                    )                };            </script>        </div>"
      ],
      "text/plain": [
       "Figure({\n",
       "    'data': [{'marker': {'color': {'bdata': ('0FGJtQxsvr9kCBRx4Ha9vyxkWl+JuL' ... 'LKubu/YBm9amgBpj8SSnv3MCHkPw=='),\n",
       "                                   'dtype': 'f8'},\n",
       "                         'colorbar': {'title': {'text': 'Z-Value'}},\n",
       "                         'colorscale': [[0.0, 'rgb(0,0,255)'], [1.0,\n",
       "                                        'rgb(255,0,0)']],\n",
       "                         'opacity': 1,\n",
       "                         'size': 3},\n",
       "              'mode': 'markers',\n",
       "              'type': 'scatter3d',\n",
       "              'x': {'bdata': ('+zHGT3AlyL8iVvXWglDGv+o0kja7e5' ... '+T3cA/bj3lA+ncxr+kA8b8sBfBPw=='),\n",
       "                    'dtype': 'f8'},\n",
       "              'y': {'bdata': ('ZjLoK85juz8fCQ7eSlDAP9ioT41jW5' ... '3UNsA/ar+FDxdQpT/9KHH5eh+tPw=='),\n",
       "                    'dtype': 'f8'},\n",
       "              'z': {'bdata': ('J8jLS+TuiL9q7SohGWhlvy7kPkGbsX' ... 'JQFcO/16y0c6/wob+8Uj41J4e1vw=='),\n",
       "                    'dtype': 'f8'}}],\n",
       "    'layout': {'height': 600,\n",
       "               'scene': {'camera': {'eye': {'x': 1.5, 'y': 1.5, 'z': 0.1}},\n",
       "                         'xaxis': {'title': {'text': 'X 轴'}},\n",
       "                         'yaxis': {'title': {'text': 'Y 轴'}},\n",
       "                         'zaxis': {'title': {'text': 'Z 轴'}}},\n",
       "               'template': '...',\n",
       "               'title': {'text': '3D 点图示例'},\n",
       "               'width': 800}\n",
       "})"
      ]
     },
     "execution_count": 567,
     "metadata": {},
     "output_type": "execute_result"
    }
   ],
   "source": [
    "import plotly.graph_objects as go\n",
    "import nbformat\n",
    "\n",
    "\n",
    "# 创建 3D 散点图\n",
    "fig = go.Figure(data=[\n",
    "    go.Scatter3d(\n",
    "        x=diffusion_coordinates[:, 0], \n",
    "        y=diffusion_coordinates[:, 1], \n",
    "        z=diffusion_coordinates[:, 3],\n",
    "        mode='markers',  # 纯点图模式\n",
    "        marker=dict(\n",
    "            size=3,               # 点大小\n",
    "            colorscale='bluered',  # 颜色方案\n",
    "            opacity=1,           # 透明度\n",
    "            color = waveform_pca[:, 1],\n",
    "            colorbar=dict(title='Z-Value')  # 添加颜色条\n",
    "    ))\n",
    "])\n",
    "\n",
    "# 设置图表布局\n",
    "fig.update_layout(\n",
    "    title='3D 点图示例',\n",
    "    scene=dict(\n",
    "        xaxis_title='X 轴',\n",
    "        yaxis_title='Y 轴',\n",
    "        zaxis_title='Z 轴',\n",
    "        camera=dict(eye=dict(x=1.5, y=1.5, z=0.1))  # 调整初始视角\n",
    "    ),\n",
    "    width=800,  # 图像宽度\n",
    "    height=600  # 图像高度\n",
    ")"
   ]
  },
  {
   "cell_type": "code",
   "execution_count": null,
   "id": "314facad",
   "metadata": {},
   "outputs": [],
   "source": [
    "import numpy as np\n",
    "from scipy.ndimage import uniform_filter1d\n",
    "\n",
    "def spike_times_to_firing_rate(spike_times, time_range=250, kernel_size=25, stride=1):\n",
    "    \"\"\"\n",
    "    将神经元发放时间点转换为发放率序列\n",
    "    \n",
    "    参数:\n",
    "        spike_times (list): 神经元发放时间点的列表 (值在0-249范围内)\n",
    "        time_range (int): 时间范围长度 (默认250)\n",
    "        kernel_size (int): 池化核大小 (默认25)\n",
    "        stride (int): 滑动步长 (默认1)\n",
    "        \n",
    "    返回:\n",
    "        np.ndarray: 平均池化后的发放率序列\n",
    "    \"\"\"\n",
    "    # 1. 创建250维的二进制向量 (时间序列)\n",
    "    spike_train = np.zeros(time_range, dtype=np.float32)\n",
    "    \n",
    "    # 将发放时间点转换为整数索引\n",
    "    valid_times = [int(t) for t in spike_times if 0 <= t < time_range]\n",
    "    \n",
    "    # 在发放时间点处设置为1\n",
    "    spike_train[valid_times] = 1.0\n",
    "    \n",
    "    pooled = uniform_filter1d(spike_train, size=kernel_size, mode='constant')\n",
    "    \n",
    "    start_idx = (kernel_size - 1) // 2\n",
    "    end_idx = -(kernel_size // 2)\n",
    "    if end_idx == 0:  # 处理偶数核大小的情况\n",
    "        end_idx = None\n",
    "    \n",
    "    result = pooled[start_idx:end_idx:stride]\n",
    "    return result"
   ]
  },
  {
   "cell_type": "code",
   "execution_count": 195,
   "id": "a39c3a31",
   "metadata": {},
   "outputs": [
    {
     "data": {
      "text/plain": [
       "dict_keys(['951001742', '951001732', '951001889', '951001949', '951002099', '951002146', '951002133', '951002207', '951002347', '951002262', '951002233', '951002287', '951002398', '951002469', '951002436', '951002426', '951002514', '951002502', '951002954', '951002808', '951002796', '951002854', '951002781', '950930145', '950930105', '950930276', '950930215', '950930358', '950930423', '950930407', '950930375', '950930866', '950930795', '950930985', '950930964', '950931043', '950931181', '950931254', '950931423', '950931363', '950933840', '950931458', '950931315', '950931565', '950931533', '950931517', '950931656', '950931617', '950931581', '950931770', '950931751', '950931727', '950931853', '950931959', '950931899', '950932102', '950932087', '950932032', '950932563', '951785493', '951785584', '951785569', '951785620', '951785595', '951785683', '951785629', '951785671', '951785667', '951785658', '951785654', '951785643', '951785624', '951785692', '951785719', '951785714', '951785755', '951785709', '951785745', '951785739', '951785730', '951785784', '951785860', '951786038', '951786065', '951768170', '951768139', '951768160', '951768222', '951768209', '951768247', '951768278', '951768298', '951768318', '951768374', '951768390', '951768434', '951768427', '951768402', '951768408', '951768457', '951768451', '951768446', '951768441', '951769295', '951768524', '951768480', '951768473', '951768511', '951768500', '951768495', '951768557', '951768581', '951768627', '951768649', '951768766', '951768830', '951768901', '951768894', '951768907', '951765508', '951765530', '951765582', '951765606', '951765623', '951765611', '951765647', '951765669', '951765661', '951765697', '951765727', '951765737', '951765769', '951765793', '951765820', '951795075', '951795086', '951795163', '951795098', '951795222', '951795212', '951795281', '951795269', '951795256', '951795317', '951797419', '951795545', '951795680', '951795554', '951795663', '951795611', '951797465', '951795721', '951795706', '951795688', '951795775', '951795768', '951795873', '951795747', '951795737', '951795729', '951795807', '951795800', '951795792', '951795753', '951795896', '951795858', '951795839', '951795918', '951795943', '951795936', '951797489', '951795995', '951795986', '951796156', '951796282', '951796473', '951796432', '951796684', '951796629', '950934506', '950934544', '950934597', '950934762', '950934750', '950934786', '950934824', '950934870', '950934987', '950935081', '950935066', '950935168', '950935043', '950935027', '950935118', '950935154', '950936618', '950935287', '950935276', '950936593', '950935264', '950935244', '950935354', '950935320', '950935416', '950935440', '950935552', '950935529', '950935480', '950935465', '950935587', '950935640', '950935615', '950935726', '950935804', '950935840', '951762586', '951762602', '951762624', '951762634', '951762644', '951762638', '951762648', '951762662', '951762671', '951762681', '951762684', '951762709', '951762725', '951762719', '951762731', '951762729', '951762747', '951762737', '951762735', '951762727', '951762749', '951762745', '951762751', '951762753', '951762773', '951762767', '951762761', '951762783', '951762803', '951762799', '951762812', '951762822', '951762820', '951762816', '951762882', '951762906', '951762964', '951762972', '951851095', '951851008', '951851120', '951851311', '951851276', '951851349', '951851404', '951851454', '951851488', '951851471', '951851463', '951851550', '951851559', '951851619', '951851651', '951851712', '951851681', '951851671', '951851660', '951851757', '951851722', '951851835', '951851826', '951851799', '951851782', '951851862', '951851845', '951851808', '951853001', '951852897', '951852000', '951851979', '951851934', '951851877', '951851955', '951851945', '951852028', '951851994', '951852068', '951852060', '951852117', '951852233', '951852211', '951852324', '951852293', '951852509', '951852493', '951852577', '951800803', '951800831', '951800892', '951800877', '951800980', '951800933', '951801070', '951801053', '951801108', '951801101', '951801155', '951801206', '951801172', '951801302', '951801369', '951801464', '951801456', '951801532', '951801508', '951801492', '951801559', '951801633', '951801604', '951801627', '951801610', '951801672', '951801652', '951801638', '951801755', '951801696', '951801741', '951801708', '951801761', '951802777', '951801775', '951801892', '951801861', '951801907', '951801991', '951802107', '951802070', '951802220', '951802250', '951802429', '951869889', '951870106', '951870091', '951870326', '951870312', '951870204', '951870297', '951870452', '951870430', '951870416', '951870484', '951870565', '951870704', '951870668', '951870619', '951870730', '951870716', '951870842', '951870827', '951870896', '951870952', '951871166', '951871011', '951871040', '951871024', '951871148', '951871123', '951871104', '951871091', '951871250', '951871232', '951871481', '951871463', '951871320', '951871571', '951871953', '951872210', '951872546', '951872170', '950930322', '950930424', '950933546', '950930602', '950930821', '950930806', '950930792', '950930971', '950930935', '950930900', '950931132', '950931116', '950931158', '950931283', '950931299', '950931403', '950931390', '950931349', '950931560', '950931461', '950931447', '950931419', '950931536', '950931521', '950931498', '950931485', '950931613', '950931593', '950931630', '950931786', '950931859', '950931826', '950932044', '950932267', '950932238', '950932580', '951893064', '951893117', '951893161', '951893223', '951893359', '951893394', '951893453', '951893488', '951893479', '951893626', '951893531', '951893566', '951893556', '951893548', '951893540', '951893600', '951893732', '951893780', '951893723', '951893871', '951893860', '951893982', '951894058', '951894548', '951894131', '951810314', '951810369', '951810338', '951810425', '951812218', '951810459', '951810548', '951810495', '951810564', '951810681', '951810714', '951810747', '951810810', '951810800', '951810780', '951810862', '951810906', '951810821', '951810960', '951810949', '951811011', '951811082', '951811061', '951811155', '951811227', '951811217', '951811321', '951811295', '951811426', '951811504', '951811494', '951811535', '951811789', '951811778', '950946912', '950947261', '950947375', '950947357', '950947341', '950947406', '950947439', '950947509', '950947489', '950947464', '950947548', '950947663', '950947600', '950947632', '950947813', '950947797', '950947830', '950948163', '950948211', '950948417', '950948754', '950948737', '950948976', '951896781', '951896759', '951896843', '951896865', '951896898', '951896951', '951896932', '951896926', '951897015', '951897005', '951897042', '951897118', '951897055', '951897158', '951897149', '951897171', '951897166', '951897143', '951897251', '951897238', '951897209', '951897836', '951897345', '951897466', '951897460', '951091321', '951091381', '951091372', '951091461', '951091521', '951091707', '951091685', '951091771', '951093445', '951091808', '951091825', '951091866', '951091848', '951091832', '951093460', '951091891', '951091884', '951091875', '951091978', '951091953', '951091926', '951091916', '951091908', '951091997', '951091944', '951092220', '951091969', '951092061', '951092085', '951092078', '951092203', '951092169', '951092162', '951092262', '951092245', '951092333', '951092339', '951092289', '951092354', '951092425', '951092506', '951092575', '951092671', '951092652', '951092765', '951092717', '951092943', '951093075', '951093093', '915960294', '915960290', '915960287', '915960283', '915960275', '915960262', '915960317', '915960300', '915960341', '915960356', '915960371', '915960392', '915960409', '915960424', '915960406', '915960438', '915960460', '915960454', '915960463', '915960491', '915960535', '915960530', '915960510', '915961096', '915960569', '915960562', '915960550', '915960581', '915960575', '915960595', '915960592', '915960589', '915960586', '915960618', '915960615', '915960612', '915960609', '915960606', '915960630', '915960627', '915960624', '915960665', '915960700', '915960670', '915960683', '915960678', '915960732', '915960804', '915960802', '915960838', '915960886', '915960906', '915960931', '951102555', '951102623', '951102686', '951102834', '951102820', '951102976', '951103093', '951103163', '951103150', '951103361', '951103290', '951103262', '951103238', '951103420', '951103332', '951103380', '951103498', '951103488', '951105218', '951103455', '951103530', '951105202', '951103632', '951103508', '951103671', '951103652', '951103958', '951103768', '951103735', '951103704', '951103691', '951103810', '951103799', '951103877', '951104031', '951104064', '951104138', '951104075', '951104410', '951104192', '951104532', '951104510', '951104746', '951888688', '951888780', '951888826', '951888857', '951889405', '951888883', '951888874', '951889030', '951888972', '951889147', '951877136', '951877196', '951877272', '951877260', '951877405', '951877391', '951877547', '951877753', '951877805', '951877765', '951877960', '951878032', '951878022', '951878000', '951878011', '951878103', '951878092', '951878157', '951878134', '951878249', '951878236', '951878331', '951878305', '951878498', '951878537', '951878485', '951878472', '951878379', '951878648', '951878743', '951878821', '951878800', '951815078', '951815221', '951815212', '951815204', '951815256', '951815373', '951815450', '951815497', '951815565', '951815556', '951815546', '951815535', '951815505', '951815608', '951815599', '951815514', '951815488', '951815646', '951815635', '951815625', '951815673', '951815653', '951815709', '951815693', '951815700', '951815760', '951815744', '951815788', '951815841', '951816091', '951816188', '951816291', '951816276', '951816483', '951816492', '951788819', '951788850', '951788840', '951788924', '951788965', '951789008', '951791710', '951789051', '951789061', '951789070', '951789136', '951789104', '951789092', '951789269', '951789334', '951789281', '951789382', '951789472', '951789462', '951789348', '951789528', '951789519', '951789504', '951789426', '951789606', '951789576', '951791344', '951789734', '951789691', '951789677', '951789650', '951789793', '951789778', '951791379', '951791357', '951791393', '951789868', '951789922', '951790037', '951790182', '951790359', '951790609', '951790851', '951844363', '951844385', '951844377', '951844476', '951844456', '951844568', '951844561', '951844520', '951844591', '951844582', '951844634', '951844627', '951844737', '951844858', '951844851', '951844879', '951844872', '951844911', '951844903', '951844886', '951846428', '951846141', '951844956', '951844918', '951845004', '951844989', '951844981', '951844975', '951844894', '951845035', '951845024', '951845018', '951845171', '951846148', '951845065', '951845108', '951845098', '951845135', '951845119', '951845313', '951845585', '951836739', '951836764', '951836769', '951836767', '951836783', '951836781', '951836801', '951836820', '951836828', '951836838', '951836848', '951836854', '951836852', '951836850', '951836874', '951836866', '951836864', '951836898', '951836880', '951836878', '951836860', '951836896', '951836892', '951836888', '951836886', '951836926', '951836912', '951836904', '951836908', '951836933', '951836937', '951836943', '951837043', '951837039', '951837066', '951837064', '951837146', '951837158', '951845433', '951845475', '951845524', '951845511', '951845545', '951845635', '951845688', '951847080', '951845707', '951845755', '951845808', '951845794', '951845822', '951845923', '951845836', '951845815', '951845903', '951845897', '951845985', '951845977', '951845969', '951845961', '951845954', '951845932', '951846033', '951846019', '951846013', '951846082', '951846106', '951846061', '951846054', '951846039', '951846149', '951847100', '951846257', '951846243', '951846236', '951846306', '951846323', '951846590', '951846630', '951846806', '951846827', '951765893', '951765956', '951766060', '951766112', '951766159', '951766782', '951766210', '951766247', '951766234', '951766252', '951766283', '951766275', '951766270', '951766321', '951766311', '951766367', '951766336', '951766426', '951766418', '951766410', '951766402', '951766393', '951766457', '951766522', '951867908', '951867976', '951868026', '951868164', '951868229', '951868213', '951868375', '951868362', '951868331', '951868444', '951868431', '951868404', '951868499', '951868473', '951868487', '951868633', '951870296', '951868676', '951868864', '951868924', '951869279', '951869470', '950908404', '950908410', '950908418', '950908416', '950908414', '950908420', '950908426', '950908424', '950908422', '950908442', '950908448', '950908452', '950908466', '950908475', '950908802', '950908501', '950908496', '950908489', '950908479', '950908485', '950908482', '950908511', '950908507', '950908504', '950908525', '950908518', '950908547', '950908544', '950908583', '950908555', '950908551', '950908591', '950908621', '951061537', '951061574', '951061568', '951061556', '951061607', '951061695', '951061772', '951061727', '951061715', '951061754', '951061747', '951061801', '951061847', '951061888', '951061912', '951061906', '951061876', '951061957', '951061944', '951061993', '951062808', '951062023', '951062019', '951062059', '951062052', '951062088', '951062079', '951062075', '951062124', '951062118', '951062112', '951062108', '951062105', '951062100', '951062096', '951062092', '951062162', '951062156', '951062136', '951062203', '951062898', '951062199', '951062285', '951062236', '951062230', '951062223', '951062301', '951062388', '951062489', '951062512', '951062508', '951062505', '951062610', '951062605', '951062587', '951062647', '951062679', '951816021', '951816073', '951816053', '951816204', '951816231', '951816279', '951816287', '951816300', '951816326', '951816343', '951816369', '951816461', '951816426', '951816470', '951095026', '951095011', '951095004', '951094989', '951094929', '951095073', '951095117', '951095125', '951095223', '951095275', '951095313', '951095304', '951095391', '951095450', '951095427', '951095419', '951095511', '951095480', '951095469', '951095561', '951095552', '951095635', '951095627', '951095617', '951095684', '951095714', '951095699', '951095831', '951095777', '951095895', '951095885', '951096064', '951910580', '951910586', '951910578', '951910628', '951910625', '951910640', '951910648', '951910654', '951910650', '951910678', '951910670', '951910693', '951910673', '951910701', '951910699', '951910695', '951910715', '951910687', '951910724', '951910721', '951910719', '951910742', '951910739', '951910733', '951910759', '951910746', '951910765', '951910773', '951910999', '951910791', '951910812', '951910832', '951910862', '951910878', '951910868', '951910924'])"
      ]
     },
     "execution_count": 195,
     "metadata": {},
     "output_type": "execute_result"
    }
   ],
   "source": [
    "activity_dict_region['VISp'].keys()"
   ]
  },
  {
   "cell_type": "code",
   "execution_count": 201,
   "id": "ec99137c",
   "metadata": {},
   "outputs": [],
   "source": [
    "a = spike_times_to_firing_rate(activity_dict_region['VISp']['915960262'][0][0])"
   ]
  },
  {
   "cell_type": "code",
   "execution_count": 340,
   "id": "cba74886",
   "metadata": {},
   "outputs": [],
   "source": [
    "from sklearn.neighbors import NearestNeighbors\n",
    "from scipy.linalg import eigh, inv\n",
    "from scipy.sparse import diags, eye\n",
    "from sklearn.preprocessing import normalize\n",
    "\n",
    "n_samples = neuron_factor.shape[0]\n",
    "\n",
    "knn = NearestNeighbors(n_neighbors = 10).fit(neuron_factor)\n",
    "distances, indices = knn.kneighbors(neuron_factor)\n"
   ]
  },
  {
   "cell_type": "code",
   "execution_count": 341,
   "id": "6d6725a3",
   "metadata": {},
   "outputs": [],
   "source": [
    "W = np.zeros((n_samples, n_samples))\n",
    "for i in range(n_samples):\n",
    "    neighbors = indices[i]\n",
    "    X_neighbors = neuron_factor[neighbors]\n",
    "\n",
    "    cov = np.cov(X_neighbors, rowvar=False)\n",
    "    reg_cov = cov + np.eye(neuron_factor.shape[1]) * np.trace(cov) / neuron_factor.shape[1]\n",
    "\n",
    "    try:\n",
    "        inv_cov = inv(reg_cov)\n",
    "    except:\n",
    "        inv_cov = np.linalg.pinv(reg_cov)\n",
    "\n",
    "    diff = neuron_factor - neuron_factor[i]\n",
    "    mahalanobis_dists = np.sqrt(np.sum(diff @ inv_cov * diff, axis= 1))\n",
    "\n",
    "\n",
    "    W[i] = np.exp(-mahalanobis_dists ** 2)\n",
    "\n",
    "W = (W + W.T) / 2"
   ]
  },
  {
   "cell_type": "code",
   "execution_count": 342,
   "id": "cd40406e",
   "metadata": {},
   "outputs": [],
   "source": [
    "D = np.sum(W, axis=1)\n",
    "\n",
    "D_alpha_sqrt_inv = diags(1 / np.sqrt(D))\n",
    "W_tilde = D_alpha_sqrt_inv @ W @ D_alpha_sqrt_inv\n",
    "\n",
    "D_tilde = np.sum(W_tilde, axis=1)\n"
   ]
  },
  {
   "cell_type": "code",
   "execution_count": 343,
   "id": "97a9773e",
   "metadata": {},
   "outputs": [],
   "source": [
    "D_tilde_inv = diags(1/ D_tilde)\n",
    "P = D_tilde_inv @ W_tilde\n",
    "\n",
    "n_eigs = 5\n",
    "eigenvalues, eigenvectors = eigh(P, subset_by_index=[n_samples - n_eigs, n_samples - 1])\n",
    "\n",
    "sorted_idx = np.argsort(eigenvalues)[::-1]\n",
    "eigenvalues = eigenvalues[sorted_idx]\n",
    "eigenvectors = eigenvectors[:, sorted_idx]\n",
    "\n",
    "eigenvalues = eigenvalues[1:]\n",
    "eigenvectors = eigenvectors[:, 1:]\n",
    "\n",
    "diffusion_coords = eigenvectors * (eigenvectors ** 1)"
   ]
  },
  {
   "cell_type": "code",
   "execution_count": 344,
   "id": "45afff25",
   "metadata": {},
   "outputs": [
    {
     "data": {
      "text/plain": [
       "<Axes: >"
      ]
     },
     "execution_count": 344,
     "metadata": {},
     "output_type": "execute_result"
    },
    {
     "data": {
      "image/png": "[encoded data removed]",
      "text/plain": [
       "<Figure size 640x480 with 1 Axes>"
      ]
     },
     "metadata": {},
     "output_type": "display_data"
    }
   ],
   "source": [
    "sns.scatterplot(x = diffusion_coords[:, 0],\n",
    "                y = diffusion_coords[:, 1])"
   ]
  }
 ],
 "metadata": {
  "kernelspec": {
   "display_name": "spike_sorting_jct",
   "language": "python",
   "name": "python3"
  },
  "language_info": {
   "codemirror_mode": {
    "name": "ipython",
    "version": 3
   },
   "file_extension": ".py",
   "mimetype": "text/x-python",
   "name": "python",
   "nbconvert_exporter": "python",
   "pygments_lexer": "ipython3",
   "version": "3.11.13"
  }
 },
 "nbformat": 4,
 "nbformat_minor": 5
}
