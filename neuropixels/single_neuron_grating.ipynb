{
 "cells": [
  {
   "cell_type": "code",
   "execution_count": 4,
   "id": "767dae52",
   "metadata": {},
   "outputs": [
    {
     "name": "stderr",
     "output_type": "stream",
     "text": [
      "2025-07-19 20:02:15.187901: I tensorflow/core/util/port.cc:153] oneDNN custom operations are on. You may see slightly different numerical results due to floating-point round-off errors from different computation orders. To turn them off, set the environment variable `TF_ENABLE_ONEDNN_OPTS=0`.\n",
      "2025-07-19 20:02:15.195793: E external/local_xla/xla/stream_executor/cuda/cuda_fft.cc:467] Unable to register cuFFT factory: Attempting to register factory for plugin cuFFT when one has already been registered\n",
      "WARNING: All log messages before absl::InitializeLog() is called are written to STDERR\n",
      "E0000 00:00:1752926535.204921   30861 cuda_dnn.cc:8579] Unable to register cuDNN factory: Attempting to register factory for plugin cuDNN when one has already been registered\n",
      "E0000 00:00:1752926535.207736   30861 cuda_blas.cc:1407] Unable to register cuBLAS factory: Attempting to register factory for plugin cuBLAS when one has already been registered\n",
      "W0000 00:00:1752926535.214985   30861 computation_placer.cc:177] computation placer already registered. Please check linkage and avoid linking the same target more than once.\n",
      "W0000 00:00:1752926535.214993   30861 computation_placer.cc:177] computation placer already registered. Please check linkage and avoid linking the same target more than once.\n",
      "W0000 00:00:1752926535.214995   30861 computation_placer.cc:177] computation placer already registered. Please check linkage and avoid linking the same target more than once.\n",
      "W0000 00:00:1752926535.214995   30861 computation_placer.cc:177] computation placer already registered. Please check linkage and avoid linking the same target more than once.\n",
      "2025-07-19 20:02:15.217684: I tensorflow/core/platform/cpu_feature_guard.cc:210] This TensorFlow binary is optimized to use available CPU instructions in performance-critical operations.\n",
      "To enable the following instructions: AVX2 AVX_VNNI FMA, in other operations, rebuild TensorFlow with the appropriate compiler flags.\n"
     ]
    }
   ],
   "source": [
    "import numpy as np\n",
    "import pandas as pd\n",
    "import seaborn as sns\n",
    "import warnings\n",
    "warnings.filterwarnings('ignore')\n",
    "import spikeinterface as si\n",
    "import matplotlib.pyplot as plt\n",
    "import os\n",
    "from matplotlib.backends.backend_pdf import PdfPages\n",
    "import os\n",
    "import pickle\n",
    "from tensorly.decomposition import non_negative_parafac\n",
    "\n",
    "import tensorflow as tf\n",
    "cpu_devices = tf.config.list_physical_devices(\"CPU\")\n",
    "tf.config.set_visible_devices(cpu_devices)"
   ]
  },
  {
   "cell_type": "code",
   "execution_count": 5,
   "id": "46dc31a0",
   "metadata": {},
   "outputs": [],
   "source": [
    "session_folder = os.listdir(\"/media/ubuntu/sda/neuropixels/output_dir\")\n",
    "session_list = []\n",
    "for session in session_folder:\n",
    "    if 'session_' in session:\n",
    "        session_list.append(session)"
   ]
  },
  {
   "cell_type": "code",
   "execution_count": 3,
   "id": "3426210f",
   "metadata": {},
   "outputs": [
    {
     "ename": "ParserError",
     "evalue": "Error tokenizing data. C error: Calling read(nbytes) on source failed. Try engine='python'.",
     "output_type": "error",
     "traceback": [
      "\u001b[0;31m---------------------------------------------------------------------------\u001b[0m",
      "\u001b[0;31mParserError\u001b[0m                               Traceback (most recent call last)",
      "Cell \u001b[0;32mIn[3], line 8\u001b[0m\n\u001b[1;32m      6\u001b[0m cluster_inf \u001b[38;5;241m=\u001b[39m pd\u001b[38;5;241m.\u001b[39mread_csv(\u001b[38;5;124mf\u001b[39m\u001b[38;5;124m'\u001b[39m\u001b[38;5;132;01m{\u001b[39;00moutput_dir\u001b[38;5;132;01m}\u001b[39;00m\u001b[38;5;124m/cluster_inf.csv\u001b[39m\u001b[38;5;124m'\u001b[39m)\n\u001b[1;32m      7\u001b[0m spike_inf \u001b[38;5;241m=\u001b[39m pd\u001b[38;5;241m.\u001b[39mread_csv(\u001b[38;5;124mf\u001b[39m\u001b[38;5;124m'\u001b[39m\u001b[38;5;132;01m{\u001b[39;00moutput_dir\u001b[38;5;132;01m}\u001b[39;00m\u001b[38;5;124m/spike_inf_static_gratings.csv\u001b[39m\u001b[38;5;124m'\u001b[39m, index_col\u001b[38;5;241m=\u001b[39m\u001b[38;5;241m0\u001b[39m)\n\u001b[0;32m----> 8\u001b[0m stimulus_table \u001b[38;5;241m=\u001b[39m \u001b[43mpd\u001b[49m\u001b[38;5;241;43m.\u001b[39;49m\u001b[43mread_csv\u001b[49m\u001b[43m(\u001b[49m\u001b[38;5;124;43mf\u001b[39;49m\u001b[38;5;124;43m'\u001b[39;49m\u001b[38;5;132;43;01m{\u001b[39;49;00m\u001b[43moutput_dir\u001b[49m\u001b[38;5;132;43;01m}\u001b[39;49;00m\u001b[38;5;124;43m/stimulus_table_static_gratings.csv\u001b[39;49m\u001b[38;5;124;43m'\u001b[39;49m\u001b[43m)\u001b[49m\n\u001b[1;32m      9\u001b[0m stimulus_table \u001b[38;5;241m=\u001b[39m stimulus_table[\u001b[38;5;241m~\u001b[39mstimulus_table[\u001b[38;5;124m'\u001b[39m\u001b[38;5;124morientation\u001b[39m\u001b[38;5;124m'\u001b[39m]\u001b[38;5;241m.\u001b[39misna()]\n\u001b[1;32m     11\u001b[0m stimulus_table[\u001b[38;5;124m'\u001b[39m\u001b[38;5;124morientation_phase_frequency\u001b[39m\u001b[38;5;124m'\u001b[39m] \u001b[38;5;241m=\u001b[39m (\n\u001b[1;32m     12\u001b[0m     stimulus_table[\u001b[38;5;124m'\u001b[39m\u001b[38;5;124morientation\u001b[39m\u001b[38;5;124m'\u001b[39m]\u001b[38;5;241m.\u001b[39mastype(\u001b[38;5;28mstr\u001b[39m) \u001b[38;5;241m+\u001b[39m \u001b[38;5;124m'\u001b[39m\u001b[38;5;124m_\u001b[39m\u001b[38;5;124m'\u001b[39m \u001b[38;5;241m+\u001b[39m \n\u001b[1;32m     13\u001b[0m     stimulus_table[\u001b[38;5;124m'\u001b[39m\u001b[38;5;124mphase\u001b[39m\u001b[38;5;124m'\u001b[39m]\u001b[38;5;241m.\u001b[39mastype(\u001b[38;5;28mstr\u001b[39m) \u001b[38;5;241m+\u001b[39m \u001b[38;5;124m'\u001b[39m\u001b[38;5;124m_\u001b[39m\u001b[38;5;124m'\u001b[39m \u001b[38;5;241m+\u001b[39m \n\u001b[1;32m     14\u001b[0m     stimulus_table[\u001b[38;5;124m'\u001b[39m\u001b[38;5;124mspatial_frequency\u001b[39m\u001b[38;5;124m'\u001b[39m]\u001b[38;5;241m.\u001b[39mastype(\u001b[38;5;28mstr\u001b[39m)\n\u001b[1;32m     15\u001b[0m )\n",
      "File \u001b[0;32m~/.conda/envs/spike_sorting_jct/lib/python3.11/site-packages/pandas/io/parsers/readers.py:1026\u001b[0m, in \u001b[0;36mread_csv\u001b[0;34m(filepath_or_buffer, sep, delimiter, header, names, index_col, usecols, dtype, engine, converters, true_values, false_values, skipinitialspace, skiprows, skipfooter, nrows, na_values, keep_default_na, na_filter, verbose, skip_blank_lines, parse_dates, infer_datetime_format, keep_date_col, date_parser, date_format, dayfirst, cache_dates, iterator, chunksize, compression, thousands, decimal, lineterminator, quotechar, quoting, doublequote, escapechar, comment, encoding, encoding_errors, dialect, on_bad_lines, delim_whitespace, low_memory, memory_map, float_precision, storage_options, dtype_backend)\u001b[0m\n\u001b[1;32m   1013\u001b[0m kwds_defaults \u001b[38;5;241m=\u001b[39m _refine_defaults_read(\n\u001b[1;32m   1014\u001b[0m     dialect,\n\u001b[1;32m   1015\u001b[0m     delimiter,\n\u001b[0;32m   (...)\u001b[0m\n\u001b[1;32m   1022\u001b[0m     dtype_backend\u001b[38;5;241m=\u001b[39mdtype_backend,\n\u001b[1;32m   1023\u001b[0m )\n\u001b[1;32m   1024\u001b[0m kwds\u001b[38;5;241m.\u001b[39mupdate(kwds_defaults)\n\u001b[0;32m-> 1026\u001b[0m \u001b[38;5;28;01mreturn\u001b[39;00m \u001b[43m_read\u001b[49m\u001b[43m(\u001b[49m\u001b[43mfilepath_or_buffer\u001b[49m\u001b[43m,\u001b[49m\u001b[43m \u001b[49m\u001b[43mkwds\u001b[49m\u001b[43m)\u001b[49m\n",
      "File \u001b[0;32m~/.conda/envs/spike_sorting_jct/lib/python3.11/site-packages/pandas/io/parsers/readers.py:620\u001b[0m, in \u001b[0;36m_read\u001b[0;34m(filepath_or_buffer, kwds)\u001b[0m\n\u001b[1;32m    617\u001b[0m _validate_names(kwds\u001b[38;5;241m.\u001b[39mget(\u001b[38;5;124m\"\u001b[39m\u001b[38;5;124mnames\u001b[39m\u001b[38;5;124m\"\u001b[39m, \u001b[38;5;28;01mNone\u001b[39;00m))\n\u001b[1;32m    619\u001b[0m \u001b[38;5;66;03m# Create the parser.\u001b[39;00m\n\u001b[0;32m--> 620\u001b[0m parser \u001b[38;5;241m=\u001b[39m \u001b[43mTextFileReader\u001b[49m\u001b[43m(\u001b[49m\u001b[43mfilepath_or_buffer\u001b[49m\u001b[43m,\u001b[49m\u001b[43m \u001b[49m\u001b[38;5;241;43m*\u001b[39;49m\u001b[38;5;241;43m*\u001b[39;49m\u001b[43mkwds\u001b[49m\u001b[43m)\u001b[49m\n\u001b[1;32m    622\u001b[0m \u001b[38;5;28;01mif\u001b[39;00m chunksize \u001b[38;5;129;01mor\u001b[39;00m iterator:\n\u001b[1;32m    623\u001b[0m     \u001b[38;5;28;01mreturn\u001b[39;00m parser\n",
      "File \u001b[0;32m~/.conda/envs/spike_sorting_jct/lib/python3.11/site-packages/pandas/io/parsers/readers.py:1620\u001b[0m, in \u001b[0;36mTextFileReader.__init__\u001b[0;34m(self, f, engine, **kwds)\u001b[0m\n\u001b[1;32m   1617\u001b[0m     \u001b[38;5;28mself\u001b[39m\u001b[38;5;241m.\u001b[39moptions[\u001b[38;5;124m\"\u001b[39m\u001b[38;5;124mhas_index_names\u001b[39m\u001b[38;5;124m\"\u001b[39m] \u001b[38;5;241m=\u001b[39m kwds[\u001b[38;5;124m\"\u001b[39m\u001b[38;5;124mhas_index_names\u001b[39m\u001b[38;5;124m\"\u001b[39m]\n\u001b[1;32m   1619\u001b[0m \u001b[38;5;28mself\u001b[39m\u001b[38;5;241m.\u001b[39mhandles: IOHandles \u001b[38;5;241m|\u001b[39m \u001b[38;5;28;01mNone\u001b[39;00m \u001b[38;5;241m=\u001b[39m \u001b[38;5;28;01mNone\u001b[39;00m\n\u001b[0;32m-> 1620\u001b[0m \u001b[38;5;28mself\u001b[39m\u001b[38;5;241m.\u001b[39m_engine \u001b[38;5;241m=\u001b[39m \u001b[38;5;28;43mself\u001b[39;49m\u001b[38;5;241;43m.\u001b[39;49m\u001b[43m_make_engine\u001b[49m\u001b[43m(\u001b[49m\u001b[43mf\u001b[49m\u001b[43m,\u001b[49m\u001b[43m \u001b[49m\u001b[38;5;28;43mself\u001b[39;49m\u001b[38;5;241;43m.\u001b[39;49m\u001b[43mengine\u001b[49m\u001b[43m)\u001b[49m\n",
      "File \u001b[0;32m~/.conda/envs/spike_sorting_jct/lib/python3.11/site-packages/pandas/io/parsers/readers.py:1898\u001b[0m, in \u001b[0;36mTextFileReader._make_engine\u001b[0;34m(self, f, engine)\u001b[0m\n\u001b[1;32m   1895\u001b[0m     \u001b[38;5;28;01mraise\u001b[39;00m \u001b[38;5;167;01mValueError\u001b[39;00m(msg)\n\u001b[1;32m   1897\u001b[0m \u001b[38;5;28;01mtry\u001b[39;00m:\n\u001b[0;32m-> 1898\u001b[0m     \u001b[38;5;28;01mreturn\u001b[39;00m \u001b[43mmapping\u001b[49m\u001b[43m[\u001b[49m\u001b[43mengine\u001b[49m\u001b[43m]\u001b[49m\u001b[43m(\u001b[49m\u001b[43mf\u001b[49m\u001b[43m,\u001b[49m\u001b[43m \u001b[49m\u001b[38;5;241;43m*\u001b[39;49m\u001b[38;5;241;43m*\u001b[39;49m\u001b[38;5;28;43mself\u001b[39;49m\u001b[38;5;241;43m.\u001b[39;49m\u001b[43moptions\u001b[49m\u001b[43m)\u001b[49m\n\u001b[1;32m   1899\u001b[0m \u001b[38;5;28;01mexcept\u001b[39;00m \u001b[38;5;167;01mException\u001b[39;00m:\n\u001b[1;32m   1900\u001b[0m     \u001b[38;5;28;01mif\u001b[39;00m \u001b[38;5;28mself\u001b[39m\u001b[38;5;241m.\u001b[39mhandles \u001b[38;5;129;01mis\u001b[39;00m \u001b[38;5;129;01mnot\u001b[39;00m \u001b[38;5;28;01mNone\u001b[39;00m:\n",
      "File \u001b[0;32m~/.conda/envs/spike_sorting_jct/lib/python3.11/site-packages/pandas/io/parsers/c_parser_wrapper.py:93\u001b[0m, in \u001b[0;36mCParserWrapper.__init__\u001b[0;34m(self, src, **kwds)\u001b[0m\n\u001b[1;32m     90\u001b[0m \u001b[38;5;28;01mif\u001b[39;00m kwds[\u001b[38;5;124m\"\u001b[39m\u001b[38;5;124mdtype_backend\u001b[39m\u001b[38;5;124m\"\u001b[39m] \u001b[38;5;241m==\u001b[39m \u001b[38;5;124m\"\u001b[39m\u001b[38;5;124mpyarrow\u001b[39m\u001b[38;5;124m\"\u001b[39m:\n\u001b[1;32m     91\u001b[0m     \u001b[38;5;66;03m# Fail here loudly instead of in cython after reading\u001b[39;00m\n\u001b[1;32m     92\u001b[0m     import_optional_dependency(\u001b[38;5;124m\"\u001b[39m\u001b[38;5;124mpyarrow\u001b[39m\u001b[38;5;124m\"\u001b[39m)\n\u001b[0;32m---> 93\u001b[0m \u001b[38;5;28mself\u001b[39m\u001b[38;5;241m.\u001b[39m_reader \u001b[38;5;241m=\u001b[39m \u001b[43mparsers\u001b[49m\u001b[38;5;241;43m.\u001b[39;49m\u001b[43mTextReader\u001b[49m\u001b[43m(\u001b[49m\u001b[43msrc\u001b[49m\u001b[43m,\u001b[49m\u001b[43m \u001b[49m\u001b[38;5;241;43m*\u001b[39;49m\u001b[38;5;241;43m*\u001b[39;49m\u001b[43mkwds\u001b[49m\u001b[43m)\u001b[49m\n\u001b[1;32m     95\u001b[0m \u001b[38;5;28mself\u001b[39m\u001b[38;5;241m.\u001b[39munnamed_cols \u001b[38;5;241m=\u001b[39m \u001b[38;5;28mself\u001b[39m\u001b[38;5;241m.\u001b[39m_reader\u001b[38;5;241m.\u001b[39munnamed_cols\n\u001b[1;32m     97\u001b[0m \u001b[38;5;66;03m# error: Cannot determine type of 'names'\u001b[39;00m\n",
      "File \u001b[0;32mpandas/_libs/parsers.pyx:574\u001b[0m, in \u001b[0;36mpandas._libs.parsers.TextReader.__cinit__\u001b[0;34m()\u001b[0m\n",
      "File \u001b[0;32mpandas/_libs/parsers.pyx:663\u001b[0m, in \u001b[0;36mpandas._libs.parsers.TextReader._get_header\u001b[0;34m()\u001b[0m\n",
      "File \u001b[0;32mpandas/_libs/parsers.pyx:874\u001b[0m, in \u001b[0;36mpandas._libs.parsers.TextReader._tokenize_rows\u001b[0;34m()\u001b[0m\n",
      "File \u001b[0;32mpandas/_libs/parsers.pyx:891\u001b[0m, in \u001b[0;36mpandas._libs.parsers.TextReader._check_tokenize_status\u001b[0;34m()\u001b[0m\n",
      "File \u001b[0;32mpandas/_libs/parsers.pyx:2061\u001b[0m, in \u001b[0;36mpandas._libs.parsers.raise_parser_error\u001b[0;34m()\u001b[0m\n",
      "\u001b[0;31mParserError\u001b[0m: Error tokenizing data. C error: Calling read(nbytes) on source failed. Try engine='python'."
     ]
    }
   ],
   "source": [
    "cluster_inf_all = pd.DataFrame()\n",
    "activity_dict = {}\n",
    "\n",
    "for session in session_list:\n",
    "    output_dir = f'/media/ubuntu/sda/neuropixels/output_dir/{session}'\n",
    "    cluster_inf = pd.read_csv(f'{output_dir}/cluster_inf.csv')\n",
    "    spike_inf = pd.read_csv(f'{output_dir}/spike_inf_static_gratings.csv', index_col=0)\n",
    "    stimulus_table = pd.read_csv(f'{output_dir}/stimulus_table_static_gratings.csv')\n",
    "    stimulus_table = stimulus_table[~stimulus_table['orientation'].isna()]\n",
    "    \n",
    "    stimulus_table['orientation_phase_frequency'] = (\n",
    "        stimulus_table['orientation'].astype(str) + '_' + \n",
    "        stimulus_table['phase'].astype(str) + '_' + \n",
    "        stimulus_table['spatial_frequency'].astype(str)\n",
    "    )\n",
    "\n",
    "    filtered_spikes = spike_inf['id'].value_counts()\n",
    "    filtered_spikes = filtered_spikes[filtered_spikes > 30000].index\n",
    "    cluster_inf = cluster_inf[cluster_inf['unit_id'].isin(filtered_spikes)]\n",
    "    spike_inf = spike_inf[spike_inf['id'].isin(filtered_spikes)]\n",
    "\n",
    "    cluster_inf_all = pd.concat((cluster_inf_all, cluster_inf), axis = 0)\n",
    "\n",
    "    for neuron in cluster_inf['unit_id']:\n",
    "        spike_inf_temp = spike_inf[spike_inf['id'] == neuron]\n",
    "        neuron = f'{neuron}_{session}'\n",
    "        activity_dict[neuron] = {}\n",
    "        for image in stimulus_table['orientation_phase_frequency'].unique():\n",
    "            activity_dict[neuron][image] = []\n",
    "\n",
    "            trigger_time_temp = stimulus_table[(stimulus_table['orientation_phase_frequency'] == image)]\n",
    "\n",
    "            for index, row in trigger_time_temp.iterrows():\n",
    "                start = row['start_time']\n",
    "                end = row['stop_time']\n",
    "\n",
    "                filtered_spikes = spike_inf_temp[(spike_inf_temp['time'] >= start) &\n",
    "                                                (spike_inf_temp['time'] <= end)]\n",
    "                if not filtered_spikes.empty:\n",
    "                    relative_spikes = (filtered_spikes['time'] - start) * 1000\n",
    "                    activity_dict[neuron][image].append(np.array(relative_spikes))"
   ]
  },
  {
   "cell_type": "code",
   "execution_count": 5,
   "id": "df0c87db",
   "metadata": {},
   "outputs": [],
   "source": [
    "#cluster_inf_all.to_csv(\"/media/ubuntu/sda/neuropixels/grating/cluster_inf_all_grating.csv\")"
   ]
  },
  {
   "cell_type": "code",
   "execution_count": 5,
   "id": "511ef05e",
   "metadata": {},
   "outputs": [],
   "source": [
    "with open(\"/media/ubuntu/sda/neuropixels/grating/activity_dict_all_grating_30000.pkl\", 'wb') as f:\n",
    "    pickle.dump(activity_dict, f)"
   ]
  },
  {
   "cell_type": "code",
   "execution_count": 6,
   "id": "5df5d590",
   "metadata": {},
   "outputs": [],
   "source": [
    "with open(\"/media/ubuntu/sda/neuropixels/grating/activity_dict_all_grating_30000.pkl\", 'rb') as f:\n",
    "    activity_dict = pickle.load(f)"
   ]
  },
  {
   "cell_type": "code",
   "execution_count": 7,
   "id": "4655dea8",
   "metadata": {},
   "outputs": [],
   "source": [
    "cluster_inf_all = pd.read_csv(\"/media/ubuntu/sda/neuropixels/grating/cluster_inf_all_grating.csv\", index_col=0)"
   ]
  },
  {
   "cell_type": "code",
   "execution_count": 8,
   "id": "1efd8f52",
   "metadata": {},
   "outputs": [],
   "source": [
    "def getResponseCurve(train_dict, total_trial_len, bw=None, samp_interval=1, MINBW=10, MAXBW=50):\n",
    "    \"\"\"Computes smooth trial-averaged response to a stim in all directions from spike trains\n",
    "    using a kernel density estimator, with per-trial KDE averaging.\"\"\"\n",
    "\n",
    "    ts = np.arange(0, total_trial_len + samp_interval, samp_interval)\n",
    "    x_ts = 0.5 * (ts[:-1] + ts[1:])  # sample at the midpoints\n",
    "\n",
    "    # Determine global bandwidth if not provided\n",
    "    global_bw = bw\n",
    "    if global_bw is None:\n",
    "        # Find first non-empty trial to determine bandwidth\n",
    "        for d in sorted(train_dict):\n",
    "            for train in train_dict[d]:\n",
    "                if train.size > 0:\n",
    "                    temp_kde = FFTKDE(kernel='gaussian', bw=None).fit(train)\n",
    "                    global_bw = temp_kde.bw\n",
    "                    # Apply bandwidth constraints\n",
    "                    global_bw = max(MINBW, min(global_bw, MAXBW))\n",
    "                    break\n",
    "            if global_bw is not None:\n",
    "                break\n",
    "        # If no spikes found in any trial, use default bandwidth\n",
    "        if global_bw is None:\n",
    "            global_bw = (MINBW + MAXBW) / 2\n",
    "\n",
    "    all_ISJs = []\n",
    "    \n",
    "    for d in sorted(train_dict):\n",
    "        trial_responses = []  # Store KDE results for each trial in this direction\n",
    "        \n",
    "        for train in train_dict[d]:\n",
    "            if train.size == 0:\n",
    "                # Handle empty trials with zero array\n",
    "                y_trial = np.zeros_like(x_ts)\n",
    "                trial_responses.append(y_trial)\n",
    "                continue\n",
    "                \n",
    "            try:\n",
    "                # Create KDE for this single trial\n",
    "                ext_x_ts = np.r_[x_ts[0]-samp_interval, x_ts, x_ts[-1]+samp_interval]\n",
    "                fftkde = FFTKDE(kernel='gaussian', bw=global_bw).fit(train)\n",
    "                y_density = fftkde.evaluate(ext_x_ts)[1:-1]  # crop extended regions\n",
    "                \n",
    "                # Convert to firing rate (spikes/sec)\n",
    "                y_trial = y_density * len(train) * 1000\n",
    "                trial_responses.append(y_trial)\n",
    "                \n",
    "            except Exception as e:\n",
    "                print(f'KDE failed for direction {d}, trial with {len(train)} spikes: {str(e)}')\n",
    "                #trial_responses.append(np.zeros_like(x_ts))\n",
    "        \n",
    "        # Average all trials for this direction\n",
    "        avg_response = np.mean(trial_responses, axis=0)\n",
    "        all_ISJs.append(avg_response)\n",
    "        \n",
    "    return np.array(all_ISJs), x_ts"
   ]
  },
  {
   "cell_type": "code",
   "execution_count": 9,
   "id": "b975dcc8",
   "metadata": {},
   "outputs": [],
   "source": [
    "activity_dict_region = {}\n",
    "filtered_neuron = {}\n",
    "for region in ['VISp', 'VISal', 'VISam', 'VISrl', 'VISpm', 'VISl']:\n",
    "    activity_dict_region[region] = {}\n",
    "    cluster_inf_temp = cluster_inf_all[cluster_inf_all['ecephys_structure_acronym'] == region]\n",
    "    filtered_neuron[region] = cluster_inf_temp['unit_id'].values\n",
    "\n",
    "    for key, item in activity_dict.items():\n",
    "        key = key.split(\"_\")[0]\n",
    "        if int(key) in filtered_neuron[region]:\n",
    "            activity_dict_region[region][key] = item\n"
   ]
  },
  {
   "cell_type": "code",
   "execution_count": 10,
   "id": "bc54a978",
   "metadata": {},
   "outputs": [],
   "source": [
    "all_waveform = pd.read_csv(\"all_waveform.csv\", index_col=0)\n",
    "all_waveform = all_waveform.loc[filtered_neuron['VISp']]"
   ]
  },
  {
   "cell_type": "code",
   "execution_count": 11,
   "id": "e0b7d542",
   "metadata": {},
   "outputs": [],
   "source": [
    "from sklearn.decomposition import PCA\n",
    "from umap import UMAP\n",
    "from sklearn.cluster import KMeans\n",
    "pca = PCA(n_components=20)\n",
    "umap = UMAP(n_components=2)\n",
    "kmeans = KMeans(n_clusters=2,random_state=40)\n",
    "all_waveform_pca = pca.fit_transform(all_waveform)\n",
    "all_waveform_umap = umap.fit_transform(all_waveform_pca[:, :10])\n",
    "cluster_label = kmeans.fit_predict(all_waveform_umap)\n",
    "all_waveform['cluster'] = cluster_label"
   ]
  },
  {
   "cell_type": "code",
   "execution_count": 12,
   "id": "a0ffd5b3",
   "metadata": {},
   "outputs": [],
   "source": [
    "with PdfPages(\"/media/ubuntu/sda/neuropixels/grating/neuron_type_umap_grating.pdf\") as pdf:\n",
    "    cmap = {\n",
    "        0: \"#ca674d\", \n",
    "        1: '#7ea24d'\n",
    "    }\n",
    "    plt.figure(figsize=(10, 10))\n",
    "    sns.scatterplot(x = all_waveform_umap[:, 0],\n",
    "                y = all_waveform_umap[:, 1],\n",
    "                hue = cluster_label,\n",
    "                legend = False,\n",
    "                palette = cmap)\n",
    "\n",
    "    plt.xticks([])\n",
    "    plt.yticks([])\n",
    "    pdf.savefig()\n",
    "    plt.close()"
   ]
  },
  {
   "cell_type": "code",
   "execution_count": 10,
   "id": "c2adaf39",
   "metadata": {},
   "outputs": [],
   "source": [
    "with PdfPages(\"/media/ubuntu/sda/neuropixels/grating/neuron_type_waveform_grating.pdf\") as pdf:\n",
    "    temp = all_waveform[all_waveform['cluster'] == 0]\n",
    "    plt.figure(figsize=(5, 3))\n",
    "    sns.lineplot(np.mean(temp.iloc[:, :-1], axis=0), color = \"#ca674d\", linewidth = 5)\n",
    "    plt.xticks([])\n",
    "    plt.ylim(-150, 100)\n",
    "    pdf.savefig()\n",
    "    plt.close()\n",
    "\n",
    "    plt.figure(figsize=(5, 3))\n",
    "    temp = all_waveform[all_waveform['cluster'] == 1]\n",
    "    sns.lineplot(np.mean(temp.iloc[:, :-1], axis=0), color = '#7ea24d', linewidth = 5)\n",
    "    plt.xticks([])\n",
    "    plt.ylim(-150, 100)\n",
    "    pdf.savefig()\n",
    "    plt.close()"
   ]
  },
  {
   "cell_type": "code",
   "execution_count": 13,
   "id": "cac3e274",
   "metadata": {},
   "outputs": [
    {
     "name": "stderr",
     "output_type": "stream",
     "text": [
      "WARNING: All log messages before absl::InitializeLog() is called are written to STDERR\n",
      "I0000 00:00:1752926557.692584   31836 service.cc:152] XLA service 0x7fac4000bca0 initialized for platform Host (this does not guarantee that XLA will be used). Devices:\n",
      "I0000 00:00:1752926557.692601   31836 service.cc:160]   StreamExecutor device (0): Host, Default Version\n",
      "2025-07-19 20:02:37.704707: I tensorflow/compiler/mlir/tensorflow/utils/dump_mlir_util.cc:269] disabling MLIR crash reproducer, set env var `MLIR_CRASH_REPRODUCER_DIRECTORY` to enable.\n",
      "I0000 00:00:1752926557.898800   31836 device_compiler.h:188] Compiled cluster using XLA!  This line is logged at most once for the lifetime of the process.\n"
     ]
    },
    {
     "name": "stdout",
     "output_type": "stream",
     "text": [
      "\u001b[1m21/21\u001b[0m \u001b[32m━━━━━━━━━━━━━━━━━━━━\u001b[0m\u001b[37m\u001b[0m \u001b[1m0s\u001b[0m 7ms/step\n",
      "\u001b[1m21/21\u001b[0m \u001b[32m━━━━━━━━━━━━━━━━━━━━\u001b[0m\u001b[37m\u001b[0m \u001b[1m0s\u001b[0m 6ms/step\n"
     ]
    }
   ],
   "source": [
    "from prinpy.glob import NLPCA\n",
    "pca = NLPCA()\n",
    "pca.fit(all_waveform_umap, epochs = 150, nodes = 15, lr = .01, verbose = 0)\n",
    "proj, curve_pts = pca.project(all_waveform_umap)"
   ]
  },
  {
   "cell_type": "code",
   "execution_count": 12,
   "id": "b85f1370",
   "metadata": {},
   "outputs": [],
   "source": [
    "with PdfPages(\"/media/ubuntu/sda/neuropixels/grating/neuron_type_umap_trajectory_grating.pdf\") as pdf:\n",
    "    plt.figure(figsize=(5, 5))\n",
    "    plt.scatter(all_waveform_umap[:,0], \n",
    "            all_waveform_umap[:,1], \n",
    "            s = 5, \n",
    "            c = -proj.reshape(-1), \n",
    "            cmap = 'coolwarm')\n",
    "\n",
    "    plt.plot(curve_pts[:,0], \n",
    "            curve_pts[:,1], \n",
    "            color = 'black',\n",
    "            linewidth = '2.5')\n",
    "    pdf.savefig()\n",
    "    plt.close()"
   ]
  },
  {
   "cell_type": "code",
   "execution_count": 14,
   "id": "1cf291f9",
   "metadata": {},
   "outputs": [],
   "source": [
    "all_waveform['excitatory_score'] = proj.reshape(-1)"
   ]
  },
  {
   "cell_type": "code",
   "execution_count": 47,
   "id": "152d6cbd",
   "metadata": {},
   "outputs": [],
   "source": [
    "# activity_df = {}\n",
    "# for region in ['VISp', 'VISal', 'VISam', 'VISrl', 'VISpm', 'VISl']:\n",
    "#     activity_df[region] = []\n",
    "#     for neuron in activity_dict_region[region].keys():\n",
    "#         all_ISJs, x_ts = getResponseCurve(activity_dict_region[region][neuron], total_trial_len=251, bw=25, samp_interval=10)\n",
    "#         activity_df[region].append(all_ISJs)\n",
    "\n",
    "#     activity_df[region]  = np.stack(activity_df[region] , axis=2)\n",
    "#     activity_df[region]  = np.transpose(activity_df[region] , axes=(2, 1, 0))"
   ]
  },
  {
   "cell_type": "code",
   "execution_count": null,
   "id": "a85f5a84",
   "metadata": {},
   "outputs": [],
   "source": [
    "# with open(\"/media/ubuntu/sda/neuropixels/grating/activity_region.pkl\", 'wb') as f:\n",
    "#     pickle.dump(activity_df, f)"
   ]
  },
  {
   "cell_type": "code",
   "execution_count": 15,
   "id": "c7e8faf0",
   "metadata": {},
   "outputs": [],
   "source": [
    "with open(\"/media/ubuntu/sda/neuropixels/grating/activity_region.pkl\", 'rb') as f:\n",
    "    activity_df = pickle.load(f)"
   ]
  },
  {
   "cell_type": "code",
   "execution_count": 16,
   "id": "5a5b4e12",
   "metadata": {},
   "outputs": [],
   "source": [
    "stimulus_df = pd.DataFrame(activity_dict_region['VISal']['915964501'].keys(), columns=['id'])\n",
    "stimulus_df['orientation'] = None\n",
    "stimulus_df['phase'] = None\n",
    "stimulus_df['frequency'] = None\n",
    "for i in range(len(stimulus_df)):\n",
    "    stimulus_df.loc[i, 'orientation'], stimulus_df.loc[i, 'phase'], stimulus_df.loc[i, 'frequency'] = stimulus_df.loc[i, 'id'].split(\"_\")\n"
   ]
  },
  {
   "cell_type": "code",
   "execution_count": 17,
   "id": "01cd2efe",
   "metadata": {},
   "outputs": [],
   "source": [
    "for key, array in activity_df.items():\n",
    "    if array.shape[2] != len(stimulus_df):\n",
    "        raise ValueError(f\"维度不匹配: {key}\")\n",
    "    \n",
    "    transposed = np.transpose(array, (2, 0, 1))\n",
    "    \n",
    "    stimulus_df[key] = list(transposed)"
   ]
  },
  {
   "cell_type": "code",
   "execution_count": 18,
   "id": "2396d59b",
   "metadata": {},
   "outputs": [],
   "source": [
    "stimulus_df['orientation'] = stimulus_df['orientation'].astype(float)\n",
    "stimulus_df['phase'] = stimulus_df['phase'].astype(float)\n",
    "stimulus_df['frequency'] = stimulus_df['frequency'].astype(float)"
   ]
  },
  {
   "cell_type": "code",
   "execution_count": 34,
   "id": "01776e9f",
   "metadata": {},
   "outputs": [],
   "source": [
    "#temp = stimulus_df[stimulus_df['frequency'] == '0.02']\n",
    "#temp = stimulus_df[stimulus_df['phase'] == 0.0]\n",
    "temp = stimulus_df\n",
    "temp = temp.sort_values(by=['frequency', 'orientation', 'phase'])"
   ]
  },
  {
   "cell_type": "code",
   "execution_count": 36,
   "id": "dd63d86f",
   "metadata": {},
   "outputs": [],
   "source": [
    "temp_df = np.stack(temp['VISp'].values, axis=2)"
   ]
  },
  {
   "cell_type": "code",
   "execution_count": 37,
   "id": "c55ced35",
   "metadata": {},
   "outputs": [],
   "source": [
    "for i in range(len(temp_df)):\n",
    "    min_val = temp_df[i, :, :].min()\n",
    "    max_val = temp_df[i, :, :].max()\n",
    "\n",
    "    temp_df[i, :, :] = (temp_df[i, :, :] - min_val)/(max_val - min_val)"
   ]
  },
  {
   "cell_type": "code",
   "execution_count": 38,
   "id": "1d6e7a0d",
   "metadata": {},
   "outputs": [],
   "source": [
    "import tensorly as tl\n",
    "from sklearn.decomposition import PCA\n",
    "from pydiffmap import diffusion_map\n",
    "from sklearn.metrics.pairwise import pairwise_distances, rbf_kernel\n",
    "\n",
    "factors = non_negative_parafac(\n",
    "    temp_df, \n",
    "    rank=60,\n",
    "    init='random',\n",
    "    n_iter_max=500,\n",
    "    tol=1e-6\n",
    ")\n",
    "\n",
    "neural_matrix = factors.factors[0]\n",
    "norms = [tl.norm(f, 2) for f in factors.factors]\n",
    "lambda_vec = factors.weights * np.prod(norms, axis=0)\n",
    "neural_scaled = neural_matrix * lambda_vec\n",
    "\n",
    "neural_pca = PCA(n_components=0.8).fit_transform(neural_scaled)\n",
    "gamma = 1.0 / np.median(pairwise_distances(neural_pca))**2\n",
    "sim_matrix = rbf_kernel(neural_pca, gamma=gamma)\n",
    "\n",
    "dm = diffusion_map.DiffusionMap.from_sklearn(n_evecs = 5, epsilon = 1.0, alpha = 0.5, k=64)\n",
    "diffusion_coordinates = dm.fit_transform(sim_matrix)"
   ]
  },
  {
   "cell_type": "code",
   "execution_count": 39,
   "id": "70742b3c",
   "metadata": {},
   "outputs": [],
   "source": [
    "analysis_metric = pd.read_csv('/media/ubuntu/sda/neuropixels/output_dir/brain_observatory_1.1_analysis_metrics.csv')"
   ]
  },
  {
   "cell_type": "code",
   "execution_count": 40,
   "id": "8dbe4795",
   "metadata": {},
   "outputs": [],
   "source": [
    "analysis_metric_VISp = analysis_metric[analysis_metric['ecephys_unit_id'].isin(filtered_neuron['VISp'])]\n",
    "\n",
    "id_to_order = {unit_id: idx for idx, unit_id in enumerate(filtered_neuron['VISp'])}\n",
    "analysis_metric_VISp = analysis_metric_VISp.assign(\n",
    "    sort_order=analysis_metric_VISp['ecephys_unit_id'].map(id_to_order)\n",
    ")\n",
    "analysis_metric_VISp = analysis_metric_VISp.sort_values('sort_order').drop(columns='sort_order')\n",
    "analysis_metric_VISp = analysis_metric_VISp.reset_index(drop=True)  "
   ]
  },
  {
   "cell_type": "code",
   "execution_count": 41,
   "id": "f3e2fe9b",
   "metadata": {},
   "outputs": [],
   "source": [
    "cluster_inf_VISp = cluster_inf_all[cluster_inf_all['unit_id'].isin(filtered_neuron['VISp'])]\n",
    "excitatory_index = cluster_inf_VISp['waveform_duration']\n",
    "excitatory_index[excitatory_index > 0.5] = 0.5"
   ]
  },
  {
   "cell_type": "code",
   "execution_count": 42,
   "id": "a490f062",
   "metadata": {},
   "outputs": [],
   "source": [
    "temp = stimulus_df\n",
    "temp = temp.sort_values(by=['frequency', 'orientation', 'phase'])"
   ]
  },
  {
   "cell_type": "code",
   "execution_count": 43,
   "id": "960696f7",
   "metadata": {},
   "outputs": [],
   "source": [
    "neuron_inf = pd.DataFrame(filtered_neuron['VISp'], columns=['id'])\n",
    "neuron_inf = pd.concat((neuron_inf, pd.DataFrame(diffusion_coordinates)), axis=1)\n",
    "neuron_inf['activity'] = list(np.stack(temp['VISp'].values, axis=2))"
   ]
  },
  {
   "cell_type": "code",
   "execution_count": 44,
   "id": "87a57905",
   "metadata": {},
   "outputs": [],
   "source": [
    "neuron_inf = neuron_inf.sort_values(by=0)"
   ]
  },
  {
   "cell_type": "code",
   "execution_count": 29,
   "id": "ab73f98f",
   "metadata": {},
   "outputs": [],
   "source": [
    "def cal_OSI(neuron_inf):\n",
    "    index_map = {\n",
    "        0:4,\n",
    "        1:-1,\n",
    "        2:3,\n",
    "        4:0,\n",
    "        5:1,\n",
    "        3:2\n",
    "    }\n",
    "    for i in range(len(neuron_inf)):\n",
    "        activity = neuron_inf['activity'].values[i]\n",
    "        mean_activity = activity.mean(axis = 0)\n",
    "        activity_index = np.argmax(mean_activity)\n",
    "        R_ref = mean_activity[activity_index]\n",
    "        R_orth = mean_activity[index_map[activity_index]]\n",
    "        OSI = (R_ref - R_orth) / (R_ref + R_orth)\n",
    "        neuron_inf['OSI'].values[i] = OSI"
   ]
  },
  {
   "cell_type": "code",
   "execution_count": 181,
   "id": "6ef786d7",
   "metadata": {},
   "outputs": [],
   "source": [
    "with PdfPages(\"/media/ubuntu/sda/neuropixels/grating/neuron_activity.pdf\") as pdf:\n",
    "    neuron_inf = neuron_inf.sort_values(by=0)\n",
    "    for neuron in range(0, len(neuron_inf), 5):\n",
    "        fig, axes = plt.subplots(3, 2, figsize=(10, 8))\n",
    "        axes = axes.flatten()\n",
    "\n",
    "        activity = neuron_inf['activity'].values[neuron]\n",
    "        activity_max = activity.max()\n",
    "        activity = activity / activity_max\n",
    "        orientation_labels = [0.0, 30.0, 60.0, 90.0, 120.0, 150.0]  \n",
    "\n",
    "        for i in range(5):\n",
    "            ax = axes[i]\n",
    "            temp = activity[:, i * 6 : (i + 1) * 6]\n",
    "            \n",
    "            temp_transposed = temp.T\n",
    "            \n",
    "            sns.heatmap(temp_transposed, ax=ax, vmax=1.0, vmin=0)\n",
    "            \n",
    "            ax.set_yticks(np.arange(6))\n",
    "            ax.set_yticklabels(orientation_labels)\n",
    "            ax.set_ylabel(\"Orientation (deg)\")\n",
    "            \n",
    "            ax.set_title(f\"Frequency Group {i+1}\")\n",
    "        \n",
    "        plt.title(neuron)\n",
    "        plt.tight_layout()\n",
    "        pdf.savefig()\n",
    "        plt.close()"
   ]
  },
  {
   "cell_type": "code",
   "execution_count": 85,
   "id": "7fed7e88",
   "metadata": {},
   "outputs": [],
   "source": [
    "from scipy.stats import entropy, norm\n",
    "neuron_inf['entropy'] = None\n",
    "def cal_entrophy(neuron_inf):\n",
    "    for i in range(len(neuron_inf)):\n",
    "        activity = neuron_inf['activity'].values[i]\n",
    "        max_time = np.argmax(activity, axis = 0)\n",
    "        hist, _ = np.histogram(max_time, bins=15, density=True, range=(1, 26))\n",
    "        hist = hist / hist.sum()\n",
    "\n",
    "        time_points = np.linspace(0, 26, 15)\n",
    "        ref_dist = norm.pdf(time_points, loc=5, scale=2)  \n",
    "        ref_dist = ref_dist / ref_dist.sum()\n",
    "\n",
    "        kl_divergence = entropy(hist, ref_dist)\n",
    "\n",
    "\n",
    "        neuron_inf['entropy'].values[i] = kl_divergence\n",
    "cal_entrophy(neuron_inf)"
   ]
  },
  {
   "cell_type": "code",
   "execution_count": 113,
   "id": "43d1b44e",
   "metadata": {},
   "outputs": [
    {
     "data": {
      "application/vnd.plotly.v1+json": {
       "config": {
        "plotlyServerURL": "https://plot.ly"
       },
       "data": [
        {
         "marker": {
          "size": 4
         },
         "mode": "markers",
         "name": "Neurons",
         "type": "scatter3d",
         "x": {
          "bdata": "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",
          "dtype": "f8"
         },
         "y": {
          "bdata": "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",
          "dtype": "f8"
         },
         "z": {
          "bdata": "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",
          "dtype": "f8"
         }
        }
       ],
       "layout": {
        "height": 600,
        "scene": {
         "camera": {
          "eye": {
           "x": 1.5,
           "y": 1,
           "z": 0.1
          }
         },
         "xaxis": {
          "title": {
           "text": "Diffusion Axis 1"
          }
         },
         "yaxis": {
          "title": {
           "text": "Diffusion Axis 2"
          }
         },
         "zaxis": {
          "title": {
           "text": "Diffusion Axis 3"
          }
         }
        },
        "template": {
         "data": {
          "bar": [
           {
            "error_x": {
             "color": "#2a3f5f"
            },
            "error_y": {
             "color": "#2a3f5f"
            },
            "marker": {
             "line": {
              "color": "#E5ECF6",
              "width": 0.5
             },
             "pattern": {
              "fillmode": "overlay",
              "size": 10,
              "solidity": 0.2
             }
            },
            "type": "bar"
           }
          ],
          "barpolar": [
           {
            "marker": {
             "line": {
              "color": "#E5ECF6",
              "width": 0.5
             },
             "pattern": {
              "fillmode": "overlay",
              "size": 10,
              "solidity": 0.2
             }
            },
            "type": "barpolar"
           }
          ],
          "carpet": [
           {
            "aaxis": {
             "endlinecolor": "#2a3f5f",
             "gridcolor": "white",
             "linecolor": "white",
             "minorgridcolor": "white",
             "startlinecolor": "#2a3f5f"
            },
            "baxis": {
             "endlinecolor": "#2a3f5f",
             "gridcolor": "white",
             "linecolor": "white",
             "minorgridcolor": "white",
             "startlinecolor": "#2a3f5f"
            },
            "type": "carpet"
           }
          ],
          "choropleth": [
           {
            "colorbar": {
             "outlinewidth": 0,
             "ticks": ""
            },
            "type": "choropleth"
           }
          ],
          "contour": [
           {
            "colorbar": {
             "outlinewidth": 0,
             "ticks": ""
            },
            "colorscale": [
             [
              0,
              "#0d0887"
             ],
             [
              0.1111111111111111,
              "#46039f"
             ],
             [
              0.2222222222222222,
              "#7201a8"
             ],
             [
              0.3333333333333333,
              "#9c179e"
             ],
             [
              0.4444444444444444,
              "#bd3786"
             ],
             [
              0.5555555555555556,
              "#d8576b"
             ],
             [
              0.6666666666666666,
              "#ed7953"
             ],
             [
              0.7777777777777778,
              "#fb9f3a"
             ],
             [
              0.8888888888888888,
              "#fdca26"
             ],
             [
              1,
              "#f0f921"
             ]
            ],
            "type": "contour"
           }
          ],
          "contourcarpet": [
           {
            "colorbar": {
             "outlinewidth": 0,
             "ticks": ""
            },
            "type": "contourcarpet"
           }
          ],
          "heatmap": [
           {
            "colorbar": {
             "outlinewidth": 0,
             "ticks": ""
            },
            "colorscale": [
             [
              0,
              "#0d0887"
             ],
             [
              0.1111111111111111,
              "#46039f"
             ],
             [
              0.2222222222222222,
              "#7201a8"
             ],
             [
              0.3333333333333333,
              "#9c179e"
             ],
             [
              0.4444444444444444,
              "#bd3786"
             ],
             [
              0.5555555555555556,
              "#d8576b"
             ],
             [
              0.6666666666666666,
              "#ed7953"
             ],
             [
              0.7777777777777778,
              "#fb9f3a"
             ],
             [
              0.8888888888888888,
              "#fdca26"
             ],
             [
              1,
              "#f0f921"
             ]
            ],
            "type": "heatmap"
           }
          ],
          "histogram": [
           {
            "marker": {
             "pattern": {
              "fillmode": "overlay",
              "size": 10,
              "solidity": 0.2
             }
            },
            "type": "histogram"
           }
          ],
          "histogram2d": [
           {
            "colorbar": {
             "outlinewidth": 0,
             "ticks": ""
            },
            "colorscale": [
             [
              0,
              "#0d0887"
             ],
             [
              0.1111111111111111,
              "#46039f"
             ],
             [
              0.2222222222222222,
              "#7201a8"
             ],
             [
              0.3333333333333333,
              "#9c179e"
             ],
             [
              0.4444444444444444,
              "#bd3786"
             ],
             [
              0.5555555555555556,
              "#d8576b"
             ],
             [
              0.6666666666666666,
              "#ed7953"
             ],
             [
              0.7777777777777778,
              "#fb9f3a"
             ],
             [
              0.8888888888888888,
              "#fdca26"
             ],
             [
              1,
              "#f0f921"
             ]
            ],
            "type": "histogram2d"
           }
          ],
          "histogram2dcontour": [
           {
            "colorbar": {
             "outlinewidth": 0,
             "ticks": ""
            },
            "colorscale": [
             [
              0,
              "#0d0887"
             ],
             [
              0.1111111111111111,
              "#46039f"
             ],
             [
              0.2222222222222222,
              "#7201a8"
             ],
             [
              0.3333333333333333,
              "#9c179e"
             ],
             [
              0.4444444444444444,
              "#bd3786"
             ],
             [
              0.5555555555555556,
              "#d8576b"
             ],
             [
              0.6666666666666666,
              "#ed7953"
             ],
             [
              0.7777777777777778,
              "#fb9f3a"
             ],
             [
              0.8888888888888888,
              "#fdca26"
             ],
             [
              1,
              "#f0f921"
             ]
            ],
            "type": "histogram2dcontour"
           }
          ],
          "mesh3d": [
           {
            "colorbar": {
             "outlinewidth": 0,
             "ticks": ""
            },
            "type": "mesh3d"
           }
          ],
          "parcoords": [
           {
            "line": {
             "colorbar": {
              "outlinewidth": 0,
              "ticks": ""
             }
            },
            "type": "parcoords"
           }
          ],
          "pie": [
           {
            "automargin": true,
            "type": "pie"
           }
          ],
          "scatter": [
           {
            "fillpattern": {
             "fillmode": "overlay",
             "size": 10,
             "solidity": 0.2
            },
            "type": "scatter"
           }
          ],
          "scatter3d": [
           {
            "line": {
             "colorbar": {
              "outlinewidth": 0,
              "ticks": ""
             }
            },
            "marker": {
             "colorbar": {
              "outlinewidth": 0,
              "ticks": ""
             }
            },
            "type": "scatter3d"
           }
          ],
          "scattercarpet": [
           {
            "marker": {
             "colorbar": {
              "outlinewidth": 0,
              "ticks": ""
             }
            },
            "type": "scattercarpet"
           }
          ],
          "scattergeo": [
           {
            "marker": {
             "colorbar": {
              "outlinewidth": 0,
              "ticks": ""
             }
            },
            "type": "scattergeo"
           }
          ],
          "scattergl": [
           {
            "marker": {
             "colorbar": {
              "outlinewidth": 0,
              "ticks": ""
             }
            },
            "type": "scattergl"
           }
          ],
          "scattermap": [
           {
            "marker": {
             "colorbar": {
              "outlinewidth": 0,
              "ticks": ""
             }
            },
            "type": "scattermap"
           }
          ],
          "scattermapbox": [
           {
            "marker": {
             "colorbar": {
              "outlinewidth": 0,
              "ticks": ""
             }
            },
            "type": "scattermapbox"
           }
          ],
          "scatterpolar": [
           {
            "marker": {
             "colorbar": {
              "outlinewidth": 0,
              "ticks": ""
             }
            },
            "type": "scatterpolar"
           }
          ],
          "scatterpolargl": [
           {
            "marker": {
             "colorbar": {
              "outlinewidth": 0,
              "ticks": ""
             }
            },
            "type": "scatterpolargl"
           }
          ],
          "scatterternary": [
           {
            "marker": {
             "colorbar": {
              "outlinewidth": 0,
              "ticks": ""
             }
            },
            "type": "scatterternary"
           }
          ],
          "surface": [
           {
            "colorbar": {
             "outlinewidth": 0,
             "ticks": ""
            },
            "colorscale": [
             [
              0,
              "#0d0887"
             ],
             [
              0.1111111111111111,
              "#46039f"
             ],
             [
              0.2222222222222222,
              "#7201a8"
             ],
             [
              0.3333333333333333,
              "#9c179e"
             ],
             [
              0.4444444444444444,
              "#bd3786"
             ],
             [
              0.5555555555555556,
              "#d8576b"
             ],
             [
              0.6666666666666666,
              "#ed7953"
             ],
             [
              0.7777777777777778,
              "#fb9f3a"
             ],
             [
              0.8888888888888888,
              "#fdca26"
             ],
             [
              1,
              "#f0f921"
             ]
            ],
            "type": "surface"
           }
          ],
          "table": [
           {
            "cells": {
             "fill": {
              "color": "#EBF0F8"
             },
             "line": {
              "color": "white"
             }
            },
            "header": {
             "fill": {
              "color": "#C8D4E3"
             },
             "line": {
              "color": "white"
             }
            },
            "type": "table"
           }
          ]
         },
         "layout": {
          "annotationdefaults": {
           "arrowcolor": "#2a3f5f",
           "arrowhead": 0,
           "arrowwidth": 1
          },
          "autotypenumbers": "strict",
          "coloraxis": {
           "colorbar": {
            "outlinewidth": 0,
            "ticks": ""
           }
          },
          "colorscale": {
           "diverging": [
            [
             0,
             "#8e0152"
            ],
            [
             0.1,
             "#c51b7d"
            ],
            [
             0.2,
             "#de77ae"
            ],
            [
             0.3,
             "#f1b6da"
            ],
            [
             0.4,
             "#fde0ef"
            ],
            [
             0.5,
             "#f7f7f7"
            ],
            [
             0.6,
             "#e6f5d0"
            ],
            [
             0.7,
             "#b8e186"
            ],
            [
             0.8,
             "#7fbc41"
            ],
            [
             0.9,
             "#4d9221"
            ],
            [
             1,
             "#276419"
            ]
           ],
           "sequential": [
            [
             0,
             "#0d0887"
            ],
            [
             0.1111111111111111,
             "#46039f"
            ],
            [
             0.2222222222222222,
             "#7201a8"
            ],
            [
             0.3333333333333333,
             "#9c179e"
            ],
            [
             0.4444444444444444,
             "#bd3786"
            ],
            [
             0.5555555555555556,
             "#d8576b"
            ],
            [
             0.6666666666666666,
             "#ed7953"
            ],
            [
             0.7777777777777778,
             "#fb9f3a"
            ],
            [
             0.8888888888888888,
             "#fdca26"
            ],
            [
             1,
             "#f0f921"
            ]
           ],
           "sequentialminus": [
            [
             0,
             "#0d0887"
            ],
            [
             0.1111111111111111,
             "#46039f"
            ],
            [
             0.2222222222222222,
             "#7201a8"
            ],
            [
             0.3333333333333333,
             "#9c179e"
            ],
            [
             0.4444444444444444,
             "#bd3786"
            ],
            [
             0.5555555555555556,
             "#d8576b"
            ],
            [
             0.6666666666666666,
             "#ed7953"
            ],
            [
             0.7777777777777778,
             "#fb9f3a"
            ],
            [
             0.8888888888888888,
             "#fdca26"
            ],
            [
             1,
             "#f0f921"
            ]
           ]
          },
          "colorway": [
           "#636efa",
           "#EF553B",
           "#00cc96",
           "#ab63fa",
           "#FFA15A",
           "#19d3f3",
           "#FF6692",
           "#B6E880",
           "#FF97FF",
           "#FECB52"
          ],
          "font": {
           "color": "#2a3f5f"
          },
          "geo": {
           "bgcolor": "white",
           "lakecolor": "white",
           "landcolor": "#E5ECF6",
           "showlakes": true,
           "showland": true,
           "subunitcolor": "white"
          },
          "hoverlabel": {
           "align": "left"
          },
          "hovermode": "closest",
          "mapbox": {
           "style": "light"
          },
          "paper_bgcolor": "white",
          "plot_bgcolor": "#E5ECF6",
          "polar": {
           "angularaxis": {
            "gridcolor": "white",
            "linecolor": "white",
            "ticks": ""
           },
           "bgcolor": "#E5ECF6",
           "radialaxis": {
            "gridcolor": "white",
            "linecolor": "white",
            "ticks": ""
           }
          },
          "scene": {
           "xaxis": {
            "backgroundcolor": "#E5ECF6",
            "gridcolor": "white",
            "gridwidth": 2,
            "linecolor": "white",
            "showbackground": true,
            "ticks": "",
            "zerolinecolor": "white"
           },
           "yaxis": {
            "backgroundcolor": "#E5ECF6",
            "gridcolor": "white",
            "gridwidth": 2,
            "linecolor": "white",
            "showbackground": true,
            "ticks": "",
            "zerolinecolor": "white"
           },
           "zaxis": {
            "backgroundcolor": "#E5ECF6",
            "gridcolor": "white",
            "gridwidth": 2,
            "linecolor": "white",
            "showbackground": true,
            "ticks": "",
            "zerolinecolor": "white"
           }
          },
          "shapedefaults": {
           "line": {
            "color": "#2a3f5f"
           }
          },
          "ternary": {
           "aaxis": {
            "gridcolor": "white",
            "linecolor": "white",
            "ticks": ""
           },
           "baxis": {
            "gridcolor": "white",
            "linecolor": "white",
            "ticks": ""
           },
           "bgcolor": "#E5ECF6",
           "caxis": {
            "gridcolor": "white",
            "linecolor": "white",
            "ticks": ""
           }
          },
          "title": {
           "x": 0.05
          },
          "xaxis": {
           "automargin": true,
           "gridcolor": "white",
           "linecolor": "white",
           "ticks": "",
           "title": {
            "standoff": 15
           },
           "zerolinecolor": "white",
           "zerolinewidth": 2
          },
          "yaxis": {
           "automargin": true,
           "gridcolor": "white",
           "linecolor": "white",
           "ticks": "",
           "title": {
            "standoff": 15
           },
           "zerolinecolor": "white",
           "zerolinewidth": 2
          }
         }
        },
        "title": {
         "text": "3D Neuron Distribution (Gray: score<0.5)"
        },
        "width": 800
       }
      }
     },
     "metadata": {},
     "output_type": "display_data"
    }
   ],
   "source": [
    "fig = go.Figure()\n",
    "\n",
    "fig.add_trace(go.Scatter3d(\n",
    "    x=diffusion_coordinates[:, 0],\n",
    "    y=diffusion_coordinates[:, 1],\n",
    "    z=diffusion_coordinates[:, 2],\n",
    "    mode='markers',\n",
    "    marker=dict(\n",
    "        size=4\n",
    "    ),\n",
    "    name='Neurons'\n",
    "))\n",
    "\n",
    "fig.update_layout(\n",
    "    title='3D Neuron Distribution (Gray: score<0.5)',\n",
    "    scene=dict(\n",
    "        xaxis_title='Diffusion Axis 1',\n",
    "        yaxis_title='Diffusion Axis 2',\n",
    "        zaxis_title='Diffusion Axis 3',\n",
    "        camera=dict(eye=dict(x=1.5, y=1, z=0.1))\n",
    "    ),\n",
    "    width=800,\n",
    "    height=600\n",
    ")\n",
    "\n",
    "fig.show()"
   ]
  },
  {
   "cell_type": "code",
   "execution_count": null,
   "id": "9e8da817",
   "metadata": {},
   "outputs": [
    {
     "data": {
      "application/vnd.plotly.v1+json": {
       "config": {
        "plotlyServerURL": "https://plot.ly"
       },
       "data": [
        {
         "marker": {
          "cmax": 1,
          "cmin": 0,
          "color": {
           "bdata": "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",
           "dtype": "f4"
          },
          "colorbar": {
           "len": 0.75,
           "lenmode": "fraction",
           "ticktext": [
            "<0.5",
            "≥0.5"
           ],
           "tickvals": [
            0.25,
            0.75
           ],
           "title": {
            "text": "Excitatory Score"
           }
          },
          "colorscale": [
           [
            0,
            "#DCDCDC"
           ],
           [
            0.5,
            "#DCDCDC"
           ],
           [
            0.5001,
            "rgb(200,200,255)"
           ],
           [
            1,
            "rgb(0,0,255)"
           ]
          ],
          "opacity": 1,
          "size": 4
         },
         "mode": "markers",
         "name": "Neurons",
         "type": "scatter3d",
         "x": {
          "bdata": "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",
          "dtype": "f8"
         },
         "y": {
          "bdata": "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",
          "dtype": "f8"
         },
         "z": {
          "bdata": "VZsfn8NewT/nk+YathrAP+ztQPgDsMK/N5pzk9w6pT/Q1Ot7Y26wP4TS6jm6uas/jxRdf0WGlb/QhUBfOGq1P3KLTIcRwr8/fRnwJZAWcD8X/XVyZf6SP8/eD9fYZaC/89Mk3VsIpj9eJGULSOW0v3s3IgMlXLO/rzVDrhtbZ78M2aIqBxGLv0svsv/hTMU/xcsLZYqNuD+3XWHSVVzEP25j9LQWWrW/i2AE8Q29tT/9H5kHo5m5P1TXNSomeao/52pEIV59vb87XqpDAI+cP4HvTS+RE6y/lLW3GifXwz8Hlqtv0wRyv7BVi+HTrY0//+6YbqqmpL9NlFhpev12v45XG+LvB4A/2lweYrgQsL+JRwh6kYeivzFxEUU0kLC/INeDZIKbqr9jzI7OC+GEvzQtFi6h5V0/0xgPyWRVUj8COZncUniHPwI9Hw1t8MK/CpPfeK80vL+ygZJ6KliwvyoIVkIXxLE/Q/m252ugnL/NePrq4wR6v6fsxeYBNsE/rk60p2gVxT90V8RZFYvGP7tTDp0+45o/VFglMtRdvj/ytrPF/+1tv/uAW3RngLs/0iO+sLAqtT9Les+bmc2Wv++OF+hDQLK/fcI8iPiRvj9dfXgcyPCmP8AKdN0eQbs/qSnGOuFctT/orxwBmpexP34J6r1TysQ/M+UVrQ3VrT+0raxkTGynv2XOJ+ZYoqi/2isKwAdamb+RsFsUTp2Zv31oZaeNNYg/pY3nc1kowj9yDjzR5f+uv/fKA2bUiXe/VTlC2RfEsb8+J/oapoWnv2aFpnUy3Li/+ubkvq6faj9Dq/boWpq1v1fJhl2EWbe/W+rD/POTrr8GSI+AcwzCP9K6EkDAl5G/dvjreeQwqr9Ohg5Ab0BUPyPW+vq2crG/ZgduO/pvwb/NbUd1ZrXDv3UhbWElg5S/W7yR/OVGwb+NN5UR2WK4v6eMV+zbGsS/hiYgY1PUwb8tERSAV+q8v9TPH3669aU/UVbqrdOkkj/Dhc7HjjqDvxnfNd4YvMO/293QoP6asj8JpoPMOIajv3F+jiWmObW/+xJu4bl0oL+bH33Hb2SOP8UKDzlokpu/kQIL7dIRwz/uMlgtRVHFP7Psj6h9esg/sKLbXF9kuL8f0jVwYo6BP2DtAdZHvDU/fjGN7fvpuj8eKt39fCCjPyvoSwNu87S/rh1CsYXTp7/lfy/Ym3qtP6fr7sji97s/mcIWGqHuvr/3z7x6GuzBvx7DIfjwVby/G6zG/w/0t79cKdINAkmEP/YOK3CyE4m/1TeO1j23vr+tMr6CH9u8P8KjcfwLwrw/O1KzU+2nxD8rCcazIT6rP/wnSOc2Hny/Qv/Mx7EOuT+g2gtpfiu6v1goWYd/YaC/uYgZJW3rsT/8XNyBs4KYvz/nk3iPCrO/vS9BuprCtz/4QFegZyeGP2l/FhQsBqw/eIHmY9yCtL9XIDMd8k5/Pxw58WyzzLs/wzgyM4Icer/w6paVk2uQP5jboa6Y0ou/o9UkfZdZtj8K+yxq1TW5P3WKGiOWnKS/EuNsuqKmoL+jIGpCtpejvx/hAarfvLe/20W6V0Gns7/X7bKdxyi0v0Svqd+4fME/Rb2BFGuOpj8UoOFZsUiwP1H+q25K758/0DrXK+mgoD+Awj8gbKaEPxO73qiuEqq/wCNAJiqSuL8mgqx+RViVP3GvGSrRz7E/VPoq5EaXx7+AdmFvxBOSP9gO84f4rJa/8UaNyS+0oD8YwQO9NNLDP1H1npvFqJY/ilAd44fsaT/oAJbopCStP20s4ZkPyLK/inMI6jsou7//E+VdibC5vwzILBMoJJe/+TfoTSKptz8lcSKAeRm4v/7B1/78ILK/p3rhtWCni78UGLrr3bS6v6F+PQNfyqK/CkO4y2OngL9W6jw9zLOtv5x5Rk5agcO/G+kCgMdRrr/PiYwk4NLAv09KJ/JTXqA/svGP1iDOtr9vYJvikau9vyw1OP4BCsK/Y68zjXqcwb8zU8C11j6Hvy8bli6u/6C/0y4o90LjZb813ohh8CWxv9has2Udi7m/k5Hcla8esL8PEVju9p+Pv3wCWU1k0bA/JzdCZjUUwD8Nw70wmqyrvyjSx9KYhK0/scFXHKuDJr/MWOVKIV2lPwphxw3susA/BOmeTowlqr+M7MxGShq5P817TVz78X2/TfBc4dGzpb+fSkzQNL20P5Au7AlLgp+/wjjKLUF+oL8cinjzf8+AP00qPblPXK8/hdqkH1trsL9a8qS52syXP31hSF1IR5a/UFtCEziOqr+i669n0WGlP1xR4l3sxbK/E+UUG4S7tr9J2VPAPdKgP/vOHChpC7S/Dew7exjvs7/snh7/GrOLP+mZOayTyrW/z0h1/Z7dtj8y+E8T5NSdv8QHFkDF64k/uvh/coSQvT876ZrudRypPzSWlAOw4JQ/8jrj7h03yD9f2VdVYcC6v/36NCrj5bA/+YMn8DIgrr9aU8SF1ebEP6BRZ89n3LW/fAi9epO/nr+Q/inqEVJ7Pxm5r7QzVLs/ifpgJVtMhT/e2OKvk9W5P/iRWx35qrg/jovyLGJher8bEKkTmH2lvxpCZUmTQ7m/zEWfQk5BuD/oNC68y/GNv3YglLWPRMI/i0T3bkDnpz+L1yoOiT+QP/S1xsVqRMK/7h+XPPHVrz/RJGv/jiikv8WZ8qVHT5W/d4dkx0gKub90SxMMPaG0P1BsEjTwlbA/7xrkaMs1lL81O1QgBYmnP9D41SeIEsQ/F9gpbheWiz/F/3tpCAC2v+quUNeqPZe/ZUIVJdoBxD9yPNcXm6V6P80VGA9SPb2/EIvBI343pb+WHuI8j4K3Py5bsY/H7Yq/ZgPZEqMBoj8OjSS7xwCbP/K+HVMf4KS/GrRc7Vm2uL9DEZ56AHK8P6iJN8egzZK/uaJvPI1WjD+1aNtYr2ZTv589mtJCwZ0/EgOSPdS5uj8Dx/NK66KTv5Ud2YTtR8G/dn+JNyv5rz/52Q42OzOpP3Bnl8vdOHe/Zjy9BK6qjj/ql3j+BXxXP8yDlZi7W1m/lHML8waJtL/ASvJ7yu2GP7VAIq6TXqO/d2i8k+09tj/laxXxi/y6P798tXH/VJI/tlu6WqpRwD9TCOTRuym+v9+ZNnqQ3rU/3x9DX7dqsb/5cYFPHunAP9OgMMoaI8M/RsiCnCA4qL+OQjp/Qlupv+U/r8Yq67q/TNyu6V3Ll7/Wc+mtAQF0v1adKjmHc7m/KaRcqhgkkj/sxdgB5tPAv6m/8gPjv7k/G6ZRCGzQtz/hLADmoYLAPzjeniImbLM/2FNfweXJuz8Aw0oz5590P/qOXf/R+KW/WmV905aXrj9sASt2SFG3v2Dv69JP8q8/QaLyC7kugD80Zno303p7v3wGgkxgX8C/t9FGTJtLpb8VG1OAQT+rv0IHyWv4FDs/yHEkFoH9hT+fUn8Jcmejvyrie/mzhKo/hFs4974qvL8PAxUz0aGiv1VIsIandr+/4MaxTSVkgj+svtnnQFtmP5W8Ec8ndaw/UqxjJyoVpj/edH3W1GXAv7Lf4Lp5Ab+/kHDgVF+Hvr+TQquq5leUP6PLtjlSqqe/xeRGMVsznD8nuhtR14yNP2PZrdWi2os/tk0HyVlrvL+qvu+I09Owv3JndTFDV7s/H5gBg66EdD9CdzUdFx1wPzalpwrBF8C/f0nwujeNpj9naFeWemalv/s2vPF/Q8M/U7Z2xMTLpb+KLW8PRZKzv036Tyx/6Iq/Zvy/ekhqqT/rqjt1s/mIv2zxauc3bL6/J002RCSjt79c86cKYza0v+Lou6fMu5u/dyI+8UqEn78EEa8UdEKAv1Eoa+cni8G/YV3oVTAFmb+x6uDBUlGXvxQK9JWpN7O/AB2ED50lgb+hAyjnmuKlvyyrQy7JisC/ymRQdedHs79MYM/cRY2eP7ejh4HF+5k/ZkKaHTWjgj/ONYlmxoLCv+dOQDIUSMS/nH+GBVHTnz9i46AdltrDPzOouj1hYbY/LFkzHu77X7936lZIhEe0v4QtQtlLpbu/80+olnS2nD8WNx0cfLKSP+ipw0A13b+/hFeWa2gVqj+lVfT6Nhi9v1BRJNJq8ne/4G95WtaCn7+Mn6pkA9ipP2IechEoa7g/9njpatsEtz8INgfIanywv5rYQD8JgpQ/cGs+IeEjlL9TVNHIDLeTP5CEYIXjAb0/00y/lVrwtz+FSt3gyO2sv9RcNpruj5s/D2QY1ICJrz/kQHzJD8C/P78We5PnmZO/YueBMNcacT/C/ic6ot+gv5i/vBxtmpA/G30LDJpJhT94ZvCVADuBPymEMxUiPr8/zbKw5FYSxz8Z6AidrHy1v65XJ7S/p7M/aq2Iz+JCuL/9NH3z/6KGP+QGZIT6QLG/0EgLWytYqb8Zocitwp+mP81zG6SIk7I/dm2X+UphvL/pDFohLCKHP9UYXFWidDU/TX2BW3PTlr8iSpFq7eOnv00IUY8kHI0/0r8G1AZWoD+QobrAD8+CP1hLiLHeksE/ohORAihwkz/or+qRWGCwP+ZvJCjK/FG/RUNI0y3Mv7+ixp6vHaiJP4v6tMt2oa6/jf6eLJ8wcb+yU9EoJkC3v+NV0w0546o/bHy8qtmXwb8g7ZX5j9qZvxgTR8hhdrG/4Af6x0fupr8lgVZ5MFO2vxkjzeyfXbc/jVvrjbevtr+7mVUi2Rmbv44mtJFYX7K/DUvV2wOhsD8VwLyHn+CVP/nE+vvKxoE/qDM0C/1nez9+T6TLdEV0v/DE4/wkW7G//q8nn90wsT+cgjrscXWtPyceCdb4XDA/iLISXdSatL/cqM13hjCNv9EaELpwqJE/gcP4z5QSoD+h37eZz8KoPwKCvIX5Rru/9UlgwmNnm7+v+AVBubC1v86u3NvFYZw/MobC1DXPoj8dUqMfj5fAP7wRUpkk3pw/h+cQVOqAxD+jOdy+c42+v4wmTL0bScM/COq/x9DZsD8FS3o/IlGrvzqAX1qAmaE/1HiPylmInD9DN18Bb9upP2CNw3eFQ6o/GjBtwliFmz8VgssMdk20PyTjWp61B7A/G1oMqCkPsr8ET7zXRZlyP7EoyER84oU/GsxJS7b6R79XTFCpqE1xP+hKLg5pzoA/FM+CB24kgT/K0T8f1v+wP1LGsm7fcHs/xPVyAGjpnL8oiwcRd693PyLjFIcCn7W/JSRQtNiOlr/IwAvVPiinv/VDsEturao/57F6S+XzxT8AKXsYUX28P+T0zJ4dGb4/IcrQGpv/xD9M9gX64gm5v64Q3+Dtsqo/hY9cJTIbwb/KXWyJGAu0vyPSl5cogqO/0Hshv5eyrb9uYZZcPIHAv5ojUGm88aA/FJ1+L2QaeT9b3hbzuvKuP9Za37AvY5u/UsdOEqkYrD+N1gXSQK+Vv9nYlYmHP7A/ZtswMzQfl791JliysqXDP4VHf8+VKsQ/XKkBBPoGuz/NZBoaytO+P5i2GsxPVZg/55gGf3afoD+Ja+YpJUuhvwkI43cByKa/kgd3R+4Igr8J0ziZuEugv0akClKfSLa/mZ7EjQgFhz9sU2n/9qKgv0aeF8pl07a//jZdMHg+rT88x5f86ty4P/ixR4eF8rW/YbcNS5IeuT90u4ha04qSPyU6NsBXrMK/+gshrUzqi79VF+gU4z+wv/4vpssawrC/g48AJXwZtr+s0+PuR/KXv/JzIfIMiLi//saLc0khlb+Xc1Dfele/P+ErauJ9vsG/xP3j6DXbqL+NuAJLXTGpPys1chqtIoW/sLxbswdHsz8hHq0kRrKnP3dsEErR2rI/p4Tc/kuXkj/mD0s2522yP19ZunTNsqu/7rma0uj8tT8x1TjiGKuYv0SBkbk6qZe/m8qd+16rjb8PD6htNQKtP4ekPvRBfqS/1F9bIcx8oz895RA6POGhv6ZjNzOw47K/1bPGZDbMVL+PwvCJJ1Crvx7KKp1qOTc/P4EmR8yDrD/w/r0540a0PyODo1DbF6I/zuj57zV6tL8tQAM0Vy7Av8mYoS1tIKm/Vc7DsvewsT8uG+d5fme9v2Bqib3NQZS/hSyPUH67sj98y6u0MSmqv5GzjPOA55Q/GNMtKPN8sr+5yK+IKWV1v05wd3Rd4Ks/e4Irdxexsb+xsC8f4Sm2v/cW8akuX42/Ng6I2ddrpL9BD3mVjxy+P8oTbwV6prI/WPNP5xThqD831bdmubeWPxmR6aYI8ZA/m45uR0RhtT8myPsvDj2PPy3GsL5W0cc/1qBYsZ8qxz8fJuHQQXOxvyNre+fKDbO/JIA5T+2Fsj/aJQQDuAK8v7e76o8u2Ky/fFb57pMvsb/TSa406X2bP4KflsOoUpU/qH6GfPvKsj8sG/Zkc4qzP9nLzS6J6Iq/kCMRU8tvwr+EMOWKvW+mv/nSC8peusC/iPJ4JFpvkb8cQgY3vvsdv4uEhw4jxHs/65bWg57HhL9OPv2P/G+3Pxly8Vdj+ru/b+t4sdl8qT92B3lnn7OtvzfevkBVHbu/B5C0vI6rnz+vQMg4sZ6lP1k7Iw2CO5Q/o4eRLbXLxb94F4iqQEC5PzzqY3MS+7Y/4UKAlrrgor+C+5swz7HBvwllFMjZs74/e3Yu/9tdtb+iURm2i2uvv6N+M06J/ae/uoy3Qwwsxz/pdp+/rmC9v4rtzNOFMrI/mldlKkhhmD/ATRIKpaGgv/boCYgKR7U/jPpNFDEcq78Mas5nZBe9v/96u8slzoY/K2oxVpJBnj+CmNbV0JixP4nhEKcXcsE/YIIO/bjqqb8j00orwie9PzoZovOJV7E/E3jnug0noT/NKN6/3Dy0vxbZkYE9jlw/BFBng3aRfb9jtOE94jK8PxsESQdlJbU/iON+lvxhpj8Z1ap0aTu0v8SGLQp/P54/vrs9j3qnsr8dZRQ+aF6eP8qUCobBTbK/rp3d2ez8p7+UKNo6lOOVv6QzHLiB1Kk/30wWyUvPiz8VwZvzdJuqv5u6T8zj/oC/eXKVQXo/aj90Q8QwLQyrP664zXXzUqW/",
          "dtype": "f8"
         }
        }
       ],
       "layout": {
        "height": 600,
        "paper_bgcolor": "rgba(0,0,0,0)",
        "plot_bgcolor": "rgba(0,0,0,0)",
        "scene": {
         "bgcolor": "rgba(0,0,0,0)",
         "camera": {
          "eye": {
           "x": 1.5,
           "y": 1,
           "z": 0.1
          }
         },
         "xaxis": {
          "backgroundcolor": "rgba(0,0,0,0)",
          "showbackground": false,
          "showgrid": false,
          "title": {
           "text": "Diffusion Axis 1"
          }
         },
         "yaxis": {
          "backgroundcolor": "rgba(0,0,0,0)",
          "showbackground": false,
          "showgrid": false,
          "title": {
           "text": "Diffusion Axis 2"
          }
         },
         "zaxis": {
          "backgroundcolor": "rgba(0,0,0,0)",
          "showbackground": false,
          "showgrid": false,
          "title": {
           "text": "Diffusion Axis 3"
          }
         }
        },
        "template": {
         "data": {
          "bar": [
           {
            "error_x": {
             "color": "#2a3f5f"
            },
            "error_y": {
             "color": "#2a3f5f"
            },
            "marker": {
             "line": {
              "color": "#E5ECF6",
              "width": 0.5
             },
             "pattern": {
              "fillmode": "overlay",
              "size": 10,
              "solidity": 0.2
             }
            },
            "type": "bar"
           }
          ],
          "barpolar": [
           {
            "marker": {
             "line": {
              "color": "#E5ECF6",
              "width": 0.5
             },
             "pattern": {
              "fillmode": "overlay",
              "size": 10,
              "solidity": 0.2
             }
            },
            "type": "barpolar"
           }
          ],
          "carpet": [
           {
            "aaxis": {
             "endlinecolor": "#2a3f5f",
             "gridcolor": "white",
             "linecolor": "white",
             "minorgridcolor": "white",
             "startlinecolor": "#2a3f5f"
            },
            "baxis": {
             "endlinecolor": "#2a3f5f",
             "gridcolor": "white",
             "linecolor": "white",
             "minorgridcolor": "white",
             "startlinecolor": "#2a3f5f"
            },
            "type": "carpet"
           }
          ],
          "choropleth": [
           {
            "colorbar": {
             "outlinewidth": 0,
             "ticks": ""
            },
            "type": "choropleth"
           }
          ],
          "contour": [
           {
            "colorbar": {
             "outlinewidth": 0,
             "ticks": ""
            },
            "colorscale": [
             [
              0,
              "#0d0887"
             ],
             [
              0.1111111111111111,
              "#46039f"
             ],
             [
              0.2222222222222222,
              "#7201a8"
             ],
             [
              0.3333333333333333,
              "#9c179e"
             ],
             [
              0.4444444444444444,
              "#bd3786"
             ],
             [
              0.5555555555555556,
              "#d8576b"
             ],
             [
              0.6666666666666666,
              "#ed7953"
             ],
             [
              0.7777777777777778,
              "#fb9f3a"
             ],
             [
              0.8888888888888888,
              "#fdca26"
             ],
             [
              1,
              "#f0f921"
             ]
            ],
            "type": "contour"
           }
          ],
          "contourcarpet": [
           {
            "colorbar": {
             "outlinewidth": 0,
             "ticks": ""
            },
            "type": "contourcarpet"
           }
          ],
          "heatmap": [
           {
            "colorbar": {
             "outlinewidth": 0,
             "ticks": ""
            },
            "colorscale": [
             [
              0,
              "#0d0887"
             ],
             [
              0.1111111111111111,
              "#46039f"
             ],
             [
              0.2222222222222222,
              "#7201a8"
             ],
             [
              0.3333333333333333,
              "#9c179e"
             ],
             [
              0.4444444444444444,
              "#bd3786"
             ],
             [
              0.5555555555555556,
              "#d8576b"
             ],
             [
              0.6666666666666666,
              "#ed7953"
             ],
             [
              0.7777777777777778,
              "#fb9f3a"
             ],
             [
              0.8888888888888888,
              "#fdca26"
             ],
             [
              1,
              "#f0f921"
             ]
            ],
            "type": "heatmap"
           }
          ],
          "histogram": [
           {
            "marker": {
             "pattern": {
              "fillmode": "overlay",
              "size": 10,
              "solidity": 0.2
             }
            },
            "type": "histogram"
           }
          ],
          "histogram2d": [
           {
            "colorbar": {
             "outlinewidth": 0,
             "ticks": ""
            },
            "colorscale": [
             [
              0,
              "#0d0887"
             ],
             [
              0.1111111111111111,
              "#46039f"
             ],
             [
              0.2222222222222222,
              "#7201a8"
             ],
             [
              0.3333333333333333,
              "#9c179e"
             ],
             [
              0.4444444444444444,
              "#bd3786"
             ],
             [
              0.5555555555555556,
              "#d8576b"
             ],
             [
              0.6666666666666666,
              "#ed7953"
             ],
             [
              0.7777777777777778,
              "#fb9f3a"
             ],
             [
              0.8888888888888888,
              "#fdca26"
             ],
             [
              1,
              "#f0f921"
             ]
            ],
            "type": "histogram2d"
           }
          ],
          "histogram2dcontour": [
           {
            "colorbar": {
             "outlinewidth": 0,
             "ticks": ""
            },
            "colorscale": [
             [
              0,
              "#0d0887"
             ],
             [
              0.1111111111111111,
              "#46039f"
             ],
             [
              0.2222222222222222,
              "#7201a8"
             ],
             [
              0.3333333333333333,
              "#9c179e"
             ],
             [
              0.4444444444444444,
              "#bd3786"
             ],
             [
              0.5555555555555556,
              "#d8576b"
             ],
             [
              0.6666666666666666,
              "#ed7953"
             ],
             [
              0.7777777777777778,
              "#fb9f3a"
             ],
             [
              0.8888888888888888,
              "#fdca26"
             ],
             [
              1,
              "#f0f921"
             ]
            ],
            "type": "histogram2dcontour"
           }
          ],
          "mesh3d": [
           {
            "colorbar": {
             "outlinewidth": 0,
             "ticks": ""
            },
            "type": "mesh3d"
           }
          ],
          "parcoords": [
           {
            "line": {
             "colorbar": {
              "outlinewidth": 0,
              "ticks": ""
             }
            },
            "type": "parcoords"
           }
          ],
          "pie": [
           {
            "automargin": true,
            "type": "pie"
           }
          ],
          "scatter": [
           {
            "fillpattern": {
             "fillmode": "overlay",
             "size": 10,
             "solidity": 0.2
            },
            "type": "scatter"
           }
          ],
          "scatter3d": [
           {
            "line": {
             "colorbar": {
              "outlinewidth": 0,
              "ticks": ""
             }
            },
            "marker": {
             "colorbar": {
              "outlinewidth": 0,
              "ticks": ""
             }
            },
            "type": "scatter3d"
           }
          ],
          "scattercarpet": [
           {
            "marker": {
             "colorbar": {
              "outlinewidth": 0,
              "ticks": ""
             }
            },
            "type": "scattercarpet"
           }
          ],
          "scattergeo": [
           {
            "marker": {
             "colorbar": {
              "outlinewidth": 0,
              "ticks": ""
             }
            },
            "type": "scattergeo"
           }
          ],
          "scattergl": [
           {
            "marker": {
             "colorbar": {
              "outlinewidth": 0,
              "ticks": ""
             }
            },
            "type": "scattergl"
           }
          ],
          "scattermap": [
           {
            "marker": {
             "colorbar": {
              "outlinewidth": 0,
              "ticks": ""
             }
            },
            "type": "scattermap"
           }
          ],
          "scattermapbox": [
           {
            "marker": {
             "colorbar": {
              "outlinewidth": 0,
              "ticks": ""
             }
            },
            "type": "scattermapbox"
           }
          ],
          "scatterpolar": [
           {
            "marker": {
             "colorbar": {
              "outlinewidth": 0,
              "ticks": ""
             }
            },
            "type": "scatterpolar"
           }
          ],
          "scatterpolargl": [
           {
            "marker": {
             "colorbar": {
              "outlinewidth": 0,
              "ticks": ""
             }
            },
            "type": "scatterpolargl"
           }
          ],
          "scatterternary": [
           {
            "marker": {
             "colorbar": {
              "outlinewidth": 0,
              "ticks": ""
             }
            },
            "type": "scatterternary"
           }
          ],
          "surface": [
           {
            "colorbar": {
             "outlinewidth": 0,
             "ticks": ""
            },
            "colorscale": [
             [
              0,
              "#0d0887"
             ],
             [
              0.1111111111111111,
              "#46039f"
             ],
             [
              0.2222222222222222,
              "#7201a8"
             ],
             [
              0.3333333333333333,
              "#9c179e"
             ],
             [
              0.4444444444444444,
              "#bd3786"
             ],
             [
              0.5555555555555556,
              "#d8576b"
             ],
             [
              0.6666666666666666,
              "#ed7953"
             ],
             [
              0.7777777777777778,
              "#fb9f3a"
             ],
             [
              0.8888888888888888,
              "#fdca26"
             ],
             [
              1,
              "#f0f921"
             ]
            ],
            "type": "surface"
           }
          ],
          "table": [
           {
            "cells": {
             "fill": {
              "color": "#EBF0F8"
             },
             "line": {
              "color": "white"
             }
            },
            "header": {
             "fill": {
              "color": "#C8D4E3"
             },
             "line": {
              "color": "white"
             }
            },
            "type": "table"
           }
          ]
         },
         "layout": {
          "annotationdefaults": {
           "arrowcolor": "#2a3f5f",
           "arrowhead": 0,
           "arrowwidth": 1
          },
          "autotypenumbers": "strict",
          "coloraxis": {
           "colorbar": {
            "outlinewidth": 0,
            "ticks": ""
           }
          },
          "colorscale": {
           "diverging": [
            [
             0,
             "#8e0152"
            ],
            [
             0.1,
             "#c51b7d"
            ],
            [
             0.2,
             "#de77ae"
            ],
            [
             0.3,
             "#f1b6da"
            ],
            [
             0.4,
             "#fde0ef"
            ],
            [
             0.5,
             "#f7f7f7"
            ],
            [
             0.6,
             "#e6f5d0"
            ],
            [
             0.7,
             "#b8e186"
            ],
            [
             0.8,
             "#7fbc41"
            ],
            [
             0.9,
             "#4d9221"
            ],
            [
             1,
             "#276419"
            ]
           ],
           "sequential": [
            [
             0,
             "#0d0887"
            ],
            [
             0.1111111111111111,
             "#46039f"
            ],
            [
             0.2222222222222222,
             "#7201a8"
            ],
            [
             0.3333333333333333,
             "#9c179e"
            ],
            [
             0.4444444444444444,
             "#bd3786"
            ],
            [
             0.5555555555555556,
             "#d8576b"
            ],
            [
             0.6666666666666666,
             "#ed7953"
            ],
            [
             0.7777777777777778,
             "#fb9f3a"
            ],
            [
             0.8888888888888888,
             "#fdca26"
            ],
            [
             1,
             "#f0f921"
            ]
           ],
           "sequentialminus": [
            [
             0,
             "#0d0887"
            ],
            [
             0.1111111111111111,
             "#46039f"
            ],
            [
             0.2222222222222222,
             "#7201a8"
            ],
            [
             0.3333333333333333,
             "#9c179e"
            ],
            [
             0.4444444444444444,
             "#bd3786"
            ],
            [
             0.5555555555555556,
             "#d8576b"
            ],
            [
             0.6666666666666666,
             "#ed7953"
            ],
            [
             0.7777777777777778,
             "#fb9f3a"
            ],
            [
             0.8888888888888888,
             "#fdca26"
            ],
            [
             1,
             "#f0f921"
            ]
           ]
          },
          "colorway": [
           "#636efa",
           "#EF553B",
           "#00cc96",
           "#ab63fa",
           "#FFA15A",
           "#19d3f3",
           "#FF6692",
           "#B6E880",
           "#FF97FF",
           "#FECB52"
          ],
          "font": {
           "color": "#2a3f5f"
          },
          "geo": {
           "bgcolor": "white",
           "lakecolor": "white",
           "landcolor": "#E5ECF6",
           "showlakes": true,
           "showland": true,
           "subunitcolor": "white"
          },
          "hoverlabel": {
           "align": "left"
          },
          "hovermode": "closest",
          "mapbox": {
           "style": "light"
          },
          "paper_bgcolor": "white",
          "plot_bgcolor": "#E5ECF6",
          "polar": {
           "angularaxis": {
            "gridcolor": "white",
            "linecolor": "white",
            "ticks": ""
           },
           "bgcolor": "#E5ECF6",
           "radialaxis": {
            "gridcolor": "white",
            "linecolor": "white",
            "ticks": ""
           }
          },
          "scene": {
           "xaxis": {
            "backgroundcolor": "#E5ECF6",
            "gridcolor": "white",
            "gridwidth": 2,
            "linecolor": "white",
            "showbackground": true,
            "ticks": "",
            "zerolinecolor": "white"
           },
           "yaxis": {
            "backgroundcolor": "#E5ECF6",
            "gridcolor": "white",
            "gridwidth": 2,
            "linecolor": "white",
            "showbackground": true,
            "ticks": "",
            "zerolinecolor": "white"
           },
           "zaxis": {
            "backgroundcolor": "#E5ECF6",
            "gridcolor": "white",
            "gridwidth": 2,
            "linecolor": "white",
            "showbackground": true,
            "ticks": "",
            "zerolinecolor": "white"
           }
          },
          "shapedefaults": {
           "line": {
            "color": "#2a3f5f"
           }
          },
          "ternary": {
           "aaxis": {
            "gridcolor": "white",
            "linecolor": "white",
            "ticks": ""
           },
           "baxis": {
            "gridcolor": "white",
            "linecolor": "white",
            "ticks": ""
           },
           "bgcolor": "#E5ECF6",
           "caxis": {
            "gridcolor": "white",
            "linecolor": "white",
            "ticks": ""
           }
          },
          "title": {
           "x": 0.05
          },
          "xaxis": {
           "automargin": true,
           "gridcolor": "white",
           "linecolor": "white",
           "ticks": "",
           "title": {
            "standoff": 15
           },
           "zerolinecolor": "white",
           "zerolinewidth": 2
          },
          "yaxis": {
           "automargin": true,
           "gridcolor": "white",
           "linecolor": "white",
           "ticks": "",
           "title": {
            "standoff": 15
           },
           "zerolinecolor": "white",
           "zerolinewidth": 2
          }
         }
        },
        "title": {
         "text": "3D Neuron Distribution (Gray: score<0.5)"
        },
        "width": 800
       }
      }
     },
     "metadata": {},
     "output_type": "display_data"
    }
   ],
   "source": [
    "fig = go.Figure()\n",
    "\n",
    "fig.add_trace(go.Scatter3d(\n",
    "    x=diffusion_coordinates[:, 0],\n",
    "    y=diffusion_coordinates[:, 1],\n",
    "    z=diffusion_coordinates[:, 2],\n",
    "    mode='markers',\n",
    "    marker=dict(\n",
    "        size=4,\n",
    "        colorscale=[[0, '#DCDCDC'], [0.5, '#DCDCDC'], [0.5001, 'rgb(200,200,255)'], [1, 'rgb(0,0,255)']],\n",
    "        cmin=0,\n",
    "        cmax=1,\n",
    "        opacity=1,\n",
    "        color=all_waveform['excitatory_score'],\n",
    "        colorbar=dict(\n",
    "            title='Excitatory Score',\n",
    "            tickvals=[0.25, 0.75],\n",
    "            ticktext=['<0.5', '≥0.5'],\n",
    "            lenmode='fraction',\n",
    "            len=0.75\n",
    "        )\n",
    "    ),\n",
    "    name='Neurons'\n",
    "))\n",
    "\n",
    "fig.update_layout(\n",
    "    title='3D Neuron Distribution (Gray: score<0.5)',\n",
    "    scene=dict(\n",
    "        xaxis_title='Diffusion Axis 1',\n",
    "        yaxis_title='Diffusion Axis 2',\n",
    "        zaxis_title='Diffusion Axis 3',\n",
    "        camera=dict(eye=dict(x=1.5, y=1, z=0.1)),\n",
    "        # 移除网格线和背景颜色\n",
    "        xaxis=dict(\n",
    "            showgrid=False,  # 移除X轴网格\n",
    "            backgroundcolor=\"rgba(0,0,0,0)\",  # 透明背景\n",
    "            showbackground=False  # 移除背景\n",
    "        ),\n",
    "        yaxis=dict(\n",
    "            showgrid=False,  # 移除Y轴网格\n",
    "            backgroundcolor=\"rgba(0,0,0,0)\",\n",
    "            showbackground=False\n",
    "        ),\n",
    "        zaxis=dict(\n",
    "            showgrid=False,  # 移除Z轴网格\n",
    "            backgroundcolor=\"rgba(0,0,0,0)\",\n",
    "            showbackground=False\n",
    "        ),\n",
    "        bgcolor='rgba(0,0,0,0)'  # 整个场景透明背景\n",
    "    ),\n",
    "    width=800,\n",
    "    height=600,\n",
    "    plot_bgcolor='rgba(0,0,0,0)',  # 绘图区域透明背景\n",
    "    paper_bgcolor='rgba(0,0,0,0)'  # 整个图表透明背景\n",
    ")\n",
    "\n",
    "fig.show()"
   ]
  },
  {
   "cell_type": "code",
   "execution_count": 93,
   "id": "90ed70da",
   "metadata": {},
   "outputs": [
    {
     "name": "stdout",
     "output_type": "stream",
     "text": [
      "layout.scene.Camera({\n",
      "    'eye': {'x': 1.5, 'y': 1.5, 'z': 0.1}\n",
      "})\n"
     ]
    }
   ],
   "source": [
    "print(fig.layout.scene.camera)"
   ]
  },
  {
   "cell_type": "code",
   "execution_count": 323,
   "id": "f5dd01e2",
   "metadata": {},
   "outputs": [],
   "source": [
    "activity = neuron_inf['activity'].values[i]\n",
    "mean_activity = activity.mean(axis = 0)"
   ]
  }
 ],
 "metadata": {
  "kernelspec": {
   "display_name": "spike_sorting_jct",
   "language": "python",
   "name": "python3"
  },
  "language_info": {
   "codemirror_mode": {
    "name": "ipython",
    "version": 3
   },
   "file_extension": ".py",
   "mimetype": "text/x-python",
   "name": "python",
   "nbconvert_exporter": "python",
   "pygments_lexer": "ipython3",
   "version": "3.11.13"
  }
 },
 "nbformat": 4,
 "nbformat_minor": 5
}
