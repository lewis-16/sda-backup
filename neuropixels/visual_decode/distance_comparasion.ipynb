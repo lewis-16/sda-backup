{
 "cells": [
  {
   "cell_type": "code",
   "execution_count": 1,
   "id": "b74fab08",
   "metadata": {},
   "outputs": [],
   "source": [
    "import os.path as osp\n",
    "\n",
    "import PIL.Image as PImage\n",
    "from torchvision.datasets.folder import DatasetFolder, IMG_EXTENSIONS\n",
    "from torchvision.transforms import InterpolationMode, transforms\n",
    "\n",
    "import os\n",
    "import os.path as osp\n",
    "import numpy as np\n",
    "from PIL import Image\n",
    "import torch\n",
    "from torch.utils.data import Dataset\n",
    "from torchvision import transforms\n",
    "\n",
    "import gc\n",
    "import os\n",
    "import shutil\n",
    "import sys\n",
    "import time\n",
    "import warnings\n",
    "from functools import partial\n",
    "\n",
    "import torch\n",
    "from torch.utils.data import DataLoader\n",
    "import torch.nn as nn\n",
    "import stats\n",
    "import pickle\n",
    "import pandas as pd\n",
    "import tensorly as tl\n",
    "from tensorly.decomposition import non_negative_parafac, non_negative_tucker\n",
    "from sklearn.metrics.pairwise import cosine_similarity\n"
   ]
  },
  {
   "cell_type": "code",
   "execution_count": 2,
   "id": "ce68ea19",
   "metadata": {},
   "outputs": [],
   "source": [
    "with open(\"activity_dict_region.pkl\", 'rb') as f:\n",
    "    activity_dict = pickle.load(f)"
   ]
  },
  {
   "cell_type": "code",
   "execution_count": 3,
   "id": "2c206d66",
   "metadata": {},
   "outputs": [
    {
     "name": "stdout",
     "output_type": "stream",
     "text": [
      "Start region: VISp\n"
     ]
    }
   ],
   "source": [
    "results = {}\n",
    "for region in [#'VISam', \n",
    "               'VISp'#, 'VISl', 'VISrl', 'VISpm', 'VISal'\n",
    "               ]:\n",
    "    print(f'Start region: {region}')\n",
    "\n",
    "    session_list = list(activity_dict[region].keys())\n",
    "    for session in session_list:\n",
    "        if len(activity_dict[region][session].keys()) != 5850:\n",
    "            session_list.remove(session)\n",
    "        \n",
    "    activity_dict_all = {}\n",
    "    for image in activity_dict[region][session].keys():\n",
    "        temp = pd.DataFrame()\n",
    "        for session in session_list:\n",
    "            temp = pd.concat((temp, pd.DataFrame(activity_dict[region][session][image])), axis=0)\n",
    "        \n",
    "        global_min = temp.min()\n",
    "        global_max = temp.max()\n",
    "        activity_dict_all[image] = (temp - global_min) / (global_max - global_min + 1e-8)"
   ]
  },
  {
   "cell_type": "code",
   "execution_count": 4,
   "id": "b2024be7",
   "metadata": {},
   "outputs": [],
   "source": [
    "activity_all = []\n",
    "for i in range(117):\n",
    "    temp = []\n",
    "    for key in activity_dict_all.keys():\n",
    "        if key.split(\"_\")[0] == str(i):\n",
    "            temp.append(activity_dict_all[key])\n",
    "    temp = np.stack(temp)\n",
    "    temp = temp.mean(axis=0)\n",
    "    activity_all.append(temp)\n",
    "\n",
    "activity_all = np.stack(activity_all)"
   ]
  },
  {
   "cell_type": "code",
   "execution_count": 5,
   "id": "d5a65a6b",
   "metadata": {},
   "outputs": [],
   "source": [
    "def non_negative_tensor_factorization(tensor, rank, method='parafac', n_iter_max=1000, init='random', tol=1e-7):\n",
    "    tensor = tl.tensor(np.maximum(tensor, 0))\n",
    "    \n",
    "    if method == 'parafac':\n",
    "        factors = non_negative_parafac(\n",
    "            tensor, \n",
    "            rank=rank, \n",
    "            n_iter_max=n_iter_max, \n",
    "            init=init, \n",
    "            tol=tol, \n",
    "            verbose=True\n",
    "        )\n",
    "        return factors\n",
    "        \n",
    "    elif method == 'tucker':\n",
    "        core, factors = non_negative_tucker(\n",
    "            tensor, \n",
    "            rank=[rank, rank, rank],  # 为每个模式指定秩\n",
    "            n_iter_max=n_iter_max, \n",
    "            init=init, \n",
    "            tol=tol, \n",
    "            verbose=True\n",
    "        )\n",
    "        return core, factors\n",
    "        \n",
    "    else:\n",
    "        raise ValueError(\"方法必须是'parafac'或'tucker'\")"
   ]
  },
  {
   "cell_type": "code",
   "execution_count": 6,
   "id": "57eace97",
   "metadata": {},
   "outputs": [],
   "source": [
    "rank = 20\n",
    "weights, factors = non_negative_parafac(activity_all, rank=rank, n_iter_max=500)\n"
   ]
  },
  {
   "cell_type": "code",
   "execution_count": 7,
   "id": "21b9558e",
   "metadata": {},
   "outputs": [],
   "source": [
    "reconstructed = tl.cp_to_tensor((weights, factors))\n",
    "error = tl.norm(activity_all - reconstructed) / tl.norm(activity_all)"
   ]
  },
  {
   "cell_type": "code",
   "execution_count": 8,
   "id": "248b45d2",
   "metadata": {},
   "outputs": [],
   "source": [
    "image_factors = factors[0]"
   ]
  },
  {
   "cell_type": "code",
   "execution_count": 9,
   "id": "258019a4",
   "metadata": {},
   "outputs": [
    {
     "data": {
      "application/vnd.plotly.v1+json": {
       "config": {
        "plotlyServerURL": "https://plot.ly"
       },
       "data": [
        {
         "showlegend": true,
         "type": "scatter3d",
         "x": {
          "bdata": "+aw2lrLgsT+9wer902muP5uTKi07b6c/bF54m/u1lj+tncjo+8ylP1vX7Gf2KpI/KLsOBjV7oj8YlHCnKj+SP4UhK0xRzoY/nZ+57acGiT98SU1pbbiyP6zcvc0Na7I/UunM72h9uT80I0ZbIhySPx0HY7MACKo//+qNSLagtD/1CvzKWxW6P6VQtSnxXqw/cQFiSWAimT9eeBe1tE3rPm46nYzH560/bjeQa7IupT8beqlIE3urPyZt31SpMJo/DAxOyHX4pT8FQuaRn62hP7XQTTEB2Xo/UCXw9/hMtz9eSGomC1mQP/0hF8zF/JY/AxgxtyrXiz9UmNClISyyP/57ENck/5I/ltZkFhPLoD9yjofhDWGiP0qkh7aH930/wVDOrkAChD9FvlFsSi+APzxX+EUxW7A/iv/+3MWEsj9o6sBngqeeP7pE3vZ+H7M/2gpfzasOkj/R5Q7jTROQP1+Ig0oWwpE/EjC0bUwSnj8XuRAlGTytP3Ue6MpE07A/4QJvACgclj+zhLFynM6yP/bgQ4/sl6o/6UvcDzSstz8OoMkbKRaWP2tFsoaGV6Q/fIwVG7w5rj8NivL/OmqSP8hzKnkYh4Q/MqItLaY5cT/2Gg6hbEC2P+sPu7bgdKI/k/CdKdL4gj+yAY9jlFxbP3LYCT6o+oA/1COjqWLltj+klsSx2U6zP6nlrVl7Bp0/JxrereLxpj+fvEyeTlSwPzkQ772XXbM/TmDVcD8/pz+tkJUv7XajP8q5uQlGtq4/ISci3I49nD/XFQLFmU6oPz9v4axJDbM/eQPeHLYopj+zkW1h7+iXP4BTTbdtP7Y/0ajkdEyAtj+6xsjzZtewP2Kds4zBtq4/h+hGTVIKGT8eaSmM5PC2PyMxKYtY2KY/5x2dHXvEqz/gt9zzoBOEPwJVEDVJ+Xc/wP1Teog/tD+M2HIJSx60PwopvSB/yqY/EQlKHYOGsD9iQ7dGYAuyP3R+7J08xKc/bA7tHOdXqT9sRJoSUKymP8T20Ml1Nq0/iHD3H5Y9tD+Xj28isDO3P3UShD2Z2ao/vV2qRrGWkz860khKUg+0P2C3Jyu9B60/A5zp+A4xfj+sEkt0NXuyP5Pe//WJAZs/rAlZzcMxlz8uPnAO6Nh/P9UQQy0C4Z8/yhLwEePOsj+5xJoE3iFZP/ekJdot55o/PQ66uwh4lz9o9IBOORGvP0L56Bqld5Q/qUECMDndlD+OTlP6VLmpPw99r5Skgak/",
          "dtype": "f8"
         },
         "y": {
          "bdata": "10T8HWWDgj+7pOP5yjGCP7Qf4k+eE4U/T8VDTO6ThT+erzWXgTqEP8Elbun9KIQ/arjtHWnyhT+J15/vogqDP7gp0tGvO4M/nGT4yQj/gj8pk+XDvf2CPzqGcdx1Y4M/29Vh6/X7gj+p/jRsjGyCP2HHr38v84I/16FHL6izgz+XbFy7tuWDP7tikckYsoM/kA3cAmJThD8URqOznKiFP4yksjFzcIQ/NgoMnAsogz+a5/VRLQ+EP0pDFbdigoQ/iWrCB1J1gz+RrmIhm1KDP6Hz7N+WO4U/+0J00tdzgj+NPRSRV7yDP7ER7mkaRoM/9fL1MRaigz8n01iVsy6DP7Nw09x0R4U/6grF/xQvgz/ywEtfrqeBP9zFsQ9YJoQ/seDvcwQfgT8vRmu/cvB8P33C+4VESIM/YkHay2M0gz8ks9uOfH2BP/m6uEOu54I/0S8iisYkgj9IF/ouxbWBP47+z8U5f4A/v6R7pi50hD9adZVV4y6AP0w4E4HyEoQ/v0BZF542hT/xVFETzESDP1JrJov1+IM/d5OFkIgugj9i5yiVRSyDPztf+NeZlIE/O8wh5S+vgz9dDPk5j+yFP+k2zvt9OoA/iyXkof+HhD9FoMq5pxuDP8Ksf04LSn0/7ZWFDcxbfj//bdRQ6wWFP1YZc8QC2Xw/hhmSpEctgD+Yu2scbwSCP06df5LgOIU/gQlXlfC6gj92/hFtRDCDP8jhYqB3oII/llBkRPnYgT+AWBEYr1+EP5JRovy/uYE/rQamzCI2gD8cZB4JxduCP7gjR1eKnYM/qDSuT2ROgD+x+Jabnq6CP4+fq8UmeII/iqXMI7BGgz/3S+cA4wiCPxq1Ec7l/4A/+9FYEL0+fT/moSVfr1SCPwbCqYie1II/jqnp474mgj+8i54MRcKCP1sHFWrFkX8/pUwSvYiRgj+NLy/teWWBP6NVenZq9oE/ZxZUiIo7gT8fshNUO8SBP3bbB3pYl4E/E+Z0MOdPhT/ZQEur2yiDP2VU3/3k1oI/T/LG1smBgT/1LDoXXl2CP8CzNBE/0oI/9dAQl5ZpgT+f8lEf6tCCP/xOrLgNo4E/8xoHHJk0gD8GE5yPTBWBP5ktEUa4xoI/BLedIEubgj9Kv213+9WCP66v1SNwdoE/CGSY3BU5fz8C54ppSp6CP6J8dGrVQ4Q/Gr8+DGkUgz8Op0S6XL+DP27zf/ho+oA/+vINVeKXfz878SeD+muCP+i27oPjY4I/",
          "dtype": "f8"
         },
         "z": {
          "bdata": "InzxjDaBfj80Kab3g1WAP2PGOxp8334/jYKa89+gfj/kgFpmxHOAP204UH2CKoA/mu8ZiYCTfz8B06dBhBKBP1QiZ8+PIYA/jr8fN3FFgD/JpyNJGU6APy8kTwKSM4A/UAo90IOtgD/FzHrchVCAP5AK/qWmpoA/dszp2QDffT+6mPa1Vvd+P6bJ7vWFroA/ZllgZWE6fz/d/pLVi1GBP/CfrSHC/IA//sRVlfABgD8k0utWBjCAP3t9UN/3LYA/zMeAc5Vnfz+WY36951aBPySg0RLqcIE/fkPKsyqCfj+6u4NfIEqAPz9Pee4ui4A/zk7kk4sMgT8v78e9IRqAP21nYLMD0H0/juWmiBxUgD+U3yufbkiAP+/b1kiGhoA/JCuHVZeigT9C4/J5LayBPyhAdh5VYIE/pQdfLxOdfz9sU47ACVqBP5eXfMGuZoE/j+zXuLPngT8yXQ1vRlmBP9RaxxXdnYE/sj65AWqegT+VyHpVJv2AP3axLvVvE4A/55wCOJbQfT99rjLoTP9+PyuArzizGoE/I8HR9vM5gT+5iXCrfZCAPwS9BF8LHoA/kdLITd8BgD930TeZTVqAP4NJp5fAw4E/BZvjQqalgD+aF+yGb3t/P2aELoNYGYI/QKSYkPdzgj/ktiP3h89/P3XgVZoucII/OFlEmaRcgT+AdOijyKSAP7CaX6KIKoA/ciCj1nhXfz81r+Mt02mAP6iJW36Cin8/zkeQ1QcygD9vl8OEfHyAP/pFlNZtCoE/0m5vivNzgT+Nh4nlY1Z/P22A6UqWMn8/mwZJqD5pgT9yAF1i2euAP25FzaFYNYA/IzdalZRWgD8DuEWzu/CAP5hgn3W3UYA/fbQs5uoDgT8udXvU9eWBP6s+IhqWLII/c7tICZO7gD97q8Yokd2APzBXYNJ58YA/6cYVbk4hgD+1/fwStAiBP+nOUsNNw4A/6saHlspEfz8j5L0FNKaAP8KOeRUehIA/1l0fOr3WgD8oyDDSuIOAP1MWlFKoTH4/Xfo4KijJgD9nj9vYonaAPxpXbtgkQoE/YtVE10W+gD8zvAfu4lKAPw7rRjHbMYA/SeLcV4RAgj/oUjl0ThKBP884+BoNtYA/VHOK7SScgT/n4UK8mMt/P+CkmETaJ4E/NY2HTZ3fgD/V2WHASteAPxnNDhF9NH4/Vu7RNBPJgT8NdZMUE0iAP7L262OhPYE/eb5eUWZ1gT/UCJjGJul+P2t9qWHW/4E/",
          "dtype": "f8"
         }
        }
       ],
       "layout": {
        "template": {
         "data": {
          "bar": [
           {
            "error_x": {
             "color": "#2a3f5f"
            },
            "error_y": {
             "color": "#2a3f5f"
            },
            "marker": {
             "line": {
              "color": "#E5ECF6",
              "width": 0.5
             },
             "pattern": {
              "fillmode": "overlay",
              "size": 10,
              "solidity": 0.2
             }
            },
            "type": "bar"
           }
          ],
          "barpolar": [
           {
            "marker": {
             "line": {
              "color": "#E5ECF6",
              "width": 0.5
             },
             "pattern": {
              "fillmode": "overlay",
              "size": 10,
              "solidity": 0.2
             }
            },
            "type": "barpolar"
           }
          ],
          "carpet": [
           {
            "aaxis": {
             "endlinecolor": "#2a3f5f",
             "gridcolor": "white",
             "linecolor": "white",
             "minorgridcolor": "white",
             "startlinecolor": "#2a3f5f"
            },
            "baxis": {
             "endlinecolor": "#2a3f5f",
             "gridcolor": "white",
             "linecolor": "white",
             "minorgridcolor": "white",
             "startlinecolor": "#2a3f5f"
            },
            "type": "carpet"
           }
          ],
          "choropleth": [
           {
            "colorbar": {
             "outlinewidth": 0,
             "ticks": ""
            },
            "type": "choropleth"
           }
          ],
          "contour": [
           {
            "colorbar": {
             "outlinewidth": 0,
             "ticks": ""
            },
            "colorscale": [
             [
              0,
              "#0d0887"
             ],
             [
              0.1111111111111111,
              "#46039f"
             ],
             [
              0.2222222222222222,
              "#7201a8"
             ],
             [
              0.3333333333333333,
              "#9c179e"
             ],
             [
              0.4444444444444444,
              "#bd3786"
             ],
             [
              0.5555555555555556,
              "#d8576b"
             ],
             [
              0.6666666666666666,
              "#ed7953"
             ],
             [
              0.7777777777777778,
              "#fb9f3a"
             ],
             [
              0.8888888888888888,
              "#fdca26"
             ],
             [
              1,
              "#f0f921"
             ]
            ],
            "type": "contour"
           }
          ],
          "contourcarpet": [
           {
            "colorbar": {
             "outlinewidth": 0,
             "ticks": ""
            },
            "type": "contourcarpet"
           }
          ],
          "heatmap": [
           {
            "colorbar": {
             "outlinewidth": 0,
             "ticks": ""
            },
            "colorscale": [
             [
              0,
              "#0d0887"
             ],
             [
              0.1111111111111111,
              "#46039f"
             ],
             [
              0.2222222222222222,
              "#7201a8"
             ],
             [
              0.3333333333333333,
              "#9c179e"
             ],
             [
              0.4444444444444444,
              "#bd3786"
             ],
             [
              0.5555555555555556,
              "#d8576b"
             ],
             [
              0.6666666666666666,
              "#ed7953"
             ],
             [
              0.7777777777777778,
              "#fb9f3a"
             ],
             [
              0.8888888888888888,
              "#fdca26"
             ],
             [
              1,
              "#f0f921"
             ]
            ],
            "type": "heatmap"
           }
          ],
          "histogram": [
           {
            "marker": {
             "pattern": {
              "fillmode": "overlay",
              "size": 10,
              "solidity": 0.2
             }
            },
            "type": "histogram"
           }
          ],
          "histogram2d": [
           {
            "colorbar": {
             "outlinewidth": 0,
             "ticks": ""
            },
            "colorscale": [
             [
              0,
              "#0d0887"
             ],
             [
              0.1111111111111111,
              "#46039f"
             ],
             [
              0.2222222222222222,
              "#7201a8"
             ],
             [
              0.3333333333333333,
              "#9c179e"
             ],
             [
              0.4444444444444444,
              "#bd3786"
             ],
             [
              0.5555555555555556,
              "#d8576b"
             ],
             [
              0.6666666666666666,
              "#ed7953"
             ],
             [
              0.7777777777777778,
              "#fb9f3a"
             ],
             [
              0.8888888888888888,
              "#fdca26"
             ],
             [
              1,
              "#f0f921"
             ]
            ],
            "type": "histogram2d"
           }
          ],
          "histogram2dcontour": [
           {
            "colorbar": {
             "outlinewidth": 0,
             "ticks": ""
            },
            "colorscale": [
             [
              0,
              "#0d0887"
             ],
             [
              0.1111111111111111,
              "#46039f"
             ],
             [
              0.2222222222222222,
              "#7201a8"
             ],
             [
              0.3333333333333333,
              "#9c179e"
             ],
             [
              0.4444444444444444,
              "#bd3786"
             ],
             [
              0.5555555555555556,
              "#d8576b"
             ],
             [
              0.6666666666666666,
              "#ed7953"
             ],
             [
              0.7777777777777778,
              "#fb9f3a"
             ],
             [
              0.8888888888888888,
              "#fdca26"
             ],
             [
              1,
              "#f0f921"
             ]
            ],
            "type": "histogram2dcontour"
           }
          ],
          "mesh3d": [
           {
            "colorbar": {
             "outlinewidth": 0,
             "ticks": ""
            },
            "type": "mesh3d"
           }
          ],
          "parcoords": [
           {
            "line": {
             "colorbar": {
              "outlinewidth": 0,
              "ticks": ""
             }
            },
            "type": "parcoords"
           }
          ],
          "pie": [
           {
            "automargin": true,
            "type": "pie"
           }
          ],
          "scatter": [
           {
            "fillpattern": {
             "fillmode": "overlay",
             "size": 10,
             "solidity": 0.2
            },
            "type": "scatter"
           }
          ],
          "scatter3d": [
           {
            "line": {
             "colorbar": {
              "outlinewidth": 0,
              "ticks": ""
             }
            },
            "marker": {
             "colorbar": {
              "outlinewidth": 0,
              "ticks": ""
             }
            },
            "type": "scatter3d"
           }
          ],
          "scattercarpet": [
           {
            "marker": {
             "colorbar": {
              "outlinewidth": 0,
              "ticks": ""
             }
            },
            "type": "scattercarpet"
           }
          ],
          "scattergeo": [
           {
            "marker": {
             "colorbar": {
              "outlinewidth": 0,
              "ticks": ""
             }
            },
            "type": "scattergeo"
           }
          ],
          "scattergl": [
           {
            "marker": {
             "colorbar": {
              "outlinewidth": 0,
              "ticks": ""
             }
            },
            "type": "scattergl"
           }
          ],
          "scattermap": [
           {
            "marker": {
             "colorbar": {
              "outlinewidth": 0,
              "ticks": ""
             }
            },
            "type": "scattermap"
           }
          ],
          "scattermapbox": [
           {
            "marker": {
             "colorbar": {
              "outlinewidth": 0,
              "ticks": ""
             }
            },
            "type": "scattermapbox"
           }
          ],
          "scatterpolar": [
           {
            "marker": {
             "colorbar": {
              "outlinewidth": 0,
              "ticks": ""
             }
            },
            "type": "scatterpolar"
           }
          ],
          "scatterpolargl": [
           {
            "marker": {
             "colorbar": {
              "outlinewidth": 0,
              "ticks": ""
             }
            },
            "type": "scatterpolargl"
           }
          ],
          "scatterternary": [
           {
            "marker": {
             "colorbar": {
              "outlinewidth": 0,
              "ticks": ""
             }
            },
            "type": "scatterternary"
           }
          ],
          "surface": [
           {
            "colorbar": {
             "outlinewidth": 0,
             "ticks": ""
            },
            "colorscale": [
             [
              0,
              "#0d0887"
             ],
             [
              0.1111111111111111,
              "#46039f"
             ],
             [
              0.2222222222222222,
              "#7201a8"
             ],
             [
              0.3333333333333333,
              "#9c179e"
             ],
             [
              0.4444444444444444,
              "#bd3786"
             ],
             [
              0.5555555555555556,
              "#d8576b"
             ],
             [
              0.6666666666666666,
              "#ed7953"
             ],
             [
              0.7777777777777778,
              "#fb9f3a"
             ],
             [
              0.8888888888888888,
              "#fdca26"
             ],
             [
              1,
              "#f0f921"
             ]
            ],
            "type": "surface"
           }
          ],
          "table": [
           {
            "cells": {
             "fill": {
              "color": "#EBF0F8"
             },
             "line": {
              "color": "white"
             }
            },
            "header": {
             "fill": {
              "color": "#C8D4E3"
             },
             "line": {
              "color": "white"
             }
            },
            "type": "table"
           }
          ]
         },
         "layout": {
          "annotationdefaults": {
           "arrowcolor": "#2a3f5f",
           "arrowhead": 0,
           "arrowwidth": 1
          },
          "autotypenumbers": "strict",
          "coloraxis": {
           "colorbar": {
            "outlinewidth": 0,
            "ticks": ""
           }
          },
          "colorscale": {
           "diverging": [
            [
             0,
             "#8e0152"
            ],
            [
             0.1,
             "#c51b7d"
            ],
            [
             0.2,
             "#de77ae"
            ],
            [
             0.3,
             "#f1b6da"
            ],
            [
             0.4,
             "#fde0ef"
            ],
            [
             0.5,
             "#f7f7f7"
            ],
            [
             0.6,
             "#e6f5d0"
            ],
            [
             0.7,
             "#b8e186"
            ],
            [
             0.8,
             "#7fbc41"
            ],
            [
             0.9,
             "#4d9221"
            ],
            [
             1,
             "#276419"
            ]
           ],
           "sequential": [
            [
             0,
             "#0d0887"
            ],
            [
             0.1111111111111111,
             "#46039f"
            ],
            [
             0.2222222222222222,
             "#7201a8"
            ],
            [
             0.3333333333333333,
             "#9c179e"
            ],
            [
             0.4444444444444444,
             "#bd3786"
            ],
            [
             0.5555555555555556,
             "#d8576b"
            ],
            [
             0.6666666666666666,
             "#ed7953"
            ],
            [
             0.7777777777777778,
             "#fb9f3a"
            ],
            [
             0.8888888888888888,
             "#fdca26"
            ],
            [
             1,
             "#f0f921"
            ]
           ],
           "sequentialminus": [
            [
             0,
             "#0d0887"
            ],
            [
             0.1111111111111111,
             "#46039f"
            ],
            [
             0.2222222222222222,
             "#7201a8"
            ],
            [
             0.3333333333333333,
             "#9c179e"
            ],
            [
             0.4444444444444444,
             "#bd3786"
            ],
            [
             0.5555555555555556,
             "#d8576b"
            ],
            [
             0.6666666666666666,
             "#ed7953"
            ],
            [
             0.7777777777777778,
             "#fb9f3a"
            ],
            [
             0.8888888888888888,
             "#fdca26"
            ],
            [
             1,
             "#f0f921"
            ]
           ]
          },
          "colorway": [
           "#636efa",
           "#EF553B",
           "#00cc96",
           "#ab63fa",
           "#FFA15A",
           "#19d3f3",
           "#FF6692",
           "#B6E880",
           "#FF97FF",
           "#FECB52"
          ],
          "font": {
           "color": "#2a3f5f"
          },
          "geo": {
           "bgcolor": "white",
           "lakecolor": "white",
           "landcolor": "#E5ECF6",
           "showlakes": true,
           "showland": true,
           "subunitcolor": "white"
          },
          "hoverlabel": {
           "align": "left"
          },
          "hovermode": "closest",
          "mapbox": {
           "style": "light"
          },
          "paper_bgcolor": "white",
          "plot_bgcolor": "#E5ECF6",
          "polar": {
           "angularaxis": {
            "gridcolor": "white",
            "linecolor": "white",
            "ticks": ""
           },
           "bgcolor": "#E5ECF6",
           "radialaxis": {
            "gridcolor": "white",
            "linecolor": "white",
            "ticks": ""
           }
          },
          "scene": {
           "xaxis": {
            "backgroundcolor": "#E5ECF6",
            "gridcolor": "white",
            "gridwidth": 2,
            "linecolor": "white",
            "showbackground": true,
            "ticks": "",
            "zerolinecolor": "white"
           },
           "yaxis": {
            "backgroundcolor": "#E5ECF6",
            "gridcolor": "white",
            "gridwidth": 2,
            "linecolor": "white",
            "showbackground": true,
            "ticks": "",
            "zerolinecolor": "white"
           },
           "zaxis": {
            "backgroundcolor": "#E5ECF6",
            "gridcolor": "white",
            "gridwidth": 2,
            "linecolor": "white",
            "showbackground": true,
            "ticks": "",
            "zerolinecolor": "white"
           }
          },
          "shapedefaults": {
           "line": {
            "color": "#2a3f5f"
           }
          },
          "ternary": {
           "aaxis": {
            "gridcolor": "white",
            "linecolor": "white",
            "ticks": ""
           },
           "baxis": {
            "gridcolor": "white",
            "linecolor": "white",
            "ticks": ""
           },
           "bgcolor": "#E5ECF6",
           "caxis": {
            "gridcolor": "white",
            "linecolor": "white",
            "ticks": ""
           }
          },
          "title": {
           "x": 0.05
          },
          "xaxis": {
           "automargin": true,
           "gridcolor": "white",
           "linecolor": "white",
           "ticks": "",
           "title": {
            "standoff": 15
           },
           "zerolinecolor": "white",
           "zerolinewidth": 2
          },
          "yaxis": {
           "automargin": true,
           "gridcolor": "white",
           "linecolor": "white",
           "ticks": "",
           "title": {
            "standoff": 15
           },
           "zerolinecolor": "white",
           "zerolinewidth": 2
          }
         }
        }
       }
      }
     },
     "metadata": {},
     "output_type": "display_data"
    }
   ],
   "source": [
    "import plotly.graph_objects as go\n",
    "import numpy as np\n",
    "import pandas as pd\n",
    "\n",
    "\n",
    "fig = go.Figure()\n",
    "fig.add_trace(go.Scatter3d(\n",
    "    x=image_factors[:, 0],\n",
    "    y=image_factors[:, 1],\n",
    "    z=image_factors[:, 2],\n",
    "    showlegend=True\n",
    "))\n",
    "\n",
    "\n",
    "fig.show()"
   ]
  },
  {
   "cell_type": "code",
   "execution_count": 10,
   "id": "01f6ec1c",
   "metadata": {},
   "outputs": [
    {
     "name": "stderr",
     "output_type": "stream",
     "text": [
      "/home/ubuntu/.conda/envs/visual_decoding/lib/python3.13/site-packages/tqdm/auto.py:21: TqdmWarning:\n",
      "\n",
      "IProgress not found. Please update jupyter and ipywidgets. See https://ipywidgets.readthedocs.io/en/stable/user_install.html\n",
      "\n"
     ]
    },
    {
     "name": "stdout",
     "output_type": "stream",
     "text": [
      "\n",
      "[constructor]  ==== flash_if_available=True (0/16), fused_if_available=True (fusing_add_ln=0/16, fusing_mlp=0/16) ==== \n",
      "    [VAR config ] embed_dim=1024, num_heads=16, depth=16, mlp_ratio=4.0\n",
      "    [drop ratios ] drop_rate=0.0, attn_drop_rate=0.0, drop_path_rate=0.0666667 (tensor([0.0000, 0.0044, 0.0089, 0.0133, 0.0178, 0.0222, 0.0267, 0.0311, 0.0356,\n",
      "        0.0400, 0.0444, 0.0489, 0.0533, 0.0578, 0.0622, 0.0667]))\n",
      "\n",
      "[init_weights] VAR with init_std=0.0180422\n"
     ]
    }
   ],
   "source": [
    "import os\n",
    "import os.path as osp\n",
    "import torch, torchvision\n",
    "import random\n",
    "import numpy as np\n",
    "import PIL.Image as PImage, PIL.ImageDraw as PImageDraw\n",
    "setattr(torch.nn.Linear, 'reset_parameters', lambda self: None)     \n",
    "setattr(torch.nn.LayerNorm, 'reset_parameters', lambda self: None)  \n",
    "sys.path.append('/media/ubuntu/sda/neuropixels/visual_decode/my_VAR')\n",
    "from models import VQVAE, build_vae_var\n",
    "\n",
    "MODEL_DEPTH = 16   \n",
    "\n",
    "vae_ckpt = '/media/ubuntu/sda/neuropixels/visual_decode/my_VAR/vae_ch160v4096z32.pth'\n",
    "\n",
    "FOR_512_px = MODEL_DEPTH == 16\n",
    "\n",
    "patch_nums = (1, 2, 3, 4, 5, 6, 8, 10, 13, 16)\n",
    "\n",
    "device = 'cuda' if torch.cuda.is_available() else 'cpu'\n",
    "vae, var = build_vae_var(\n",
    "    V=4096, Cvae=32, ch=160, share_quant_resi=4,   \n",
    "    device=device, patch_nums=patch_nums,\n",
    "    num_classes=1000, depth=MODEL_DEPTH, shared_aln=FOR_512_px)\n",
    "\n",
    "vae.load_state_dict(torch.load(vae_ckpt, map_location='cpu'), strict=True)\n",
    "del var"
   ]
  },
  {
   "cell_type": "code",
   "execution_count": 11,
   "id": "d6e528d8",
   "metadata": {},
   "outputs": [],
   "source": [
    "transform = transforms.Compose([\n",
    "        transforms.Resize((256, 256)),\n",
    "        transforms.ToTensor(),\n",
    "        transforms.Lambda(lambda x: x * 2 - 1)  # 归一化到[-1, 1]\n",
    "    ])\n",
    "    \n",
    "images = []\n",
    "valid_paths = []\n",
    "valid_labels = []\n",
    "\n",
    "\n",
    "for i in range(117):\n",
    "    image = Image.open(f'/media/ubuntu/sda/neuropixels/nature_scene/natural_scene_{i}.tiff').convert(\"RGB\")\n",
    "    img_tensor = transform(image)\n",
    "    images.append(img_tensor)\n",
    "\n",
    "images = torch.stack(images)"
   ]
  },
  {
   "cell_type": "code",
   "execution_count": 12,
   "id": "74679253",
   "metadata": {},
   "outputs": [],
   "source": [
    "def extract_multiscale_features_for_similarity(vae, images, device):\n",
    "    \"\"\"提取图像在不同scale的特征用于相似度分析\"\"\"\n",
    "    vae.eval()\n",
    "    features_by_scale = []\n",
    "    \n",
    "    print(\"Extracting multiscale features...\")\n",
    "    with torch.no_grad():\n",
    "        for i, img in enumerate(images):\n",
    "            if i % 20 == 0:\n",
    "                print(f\"Processing image {i+1}/{len(images)}\")\n",
    "            \n",
    "            img = img.unsqueeze(0).to(device)  \n",
    "            \n",
    "            encoded_features = vae.quant_conv(vae.encoder(img))\n",
    "            \n",
    "            ms_f_hat = vae.quantize.f_to_idxBl_or_fhat(encoded_features, to_fhat=True)\n",
    "            \n",
    "            scale_features = []\n",
    "            for f_hat in ms_f_hat:\n",
    "                flat_features = f_hat.view(f_hat.size(0), -1).cpu().numpy()\n",
    "                scale_features.append(flat_features[0])  \n",
    "            \n",
    "            features_by_scale.append(scale_features)\n",
    "    \n",
    "    return features_by_scale"
   ]
  },
  {
   "cell_type": "code",
   "execution_count": 13,
   "id": "d7070b35",
   "metadata": {},
   "outputs": [
    {
     "name": "stdout",
     "output_type": "stream",
     "text": [
      "Extracting multiscale features...\n",
      "Processing image 1/117\n",
      "Processing image 21/117\n",
      "Processing image 41/117\n",
      "Processing image 61/117\n",
      "Processing image 81/117\n",
      "Processing image 101/117\n"
     ]
    }
   ],
   "source": [
    "features_by_scale = extract_multiscale_features_for_similarity(vae, images, device)\n"
   ]
  },
  {
   "cell_type": "code",
   "execution_count": 14,
   "id": "9970811b",
   "metadata": {},
   "outputs": [],
   "source": [
    "def compute_similarity_matrix_for_scale(features_list, scale_idx):\n",
    "    \"\"\"计算指定scale的相似度矩阵\"\"\"\n",
    "    # 提取指定scale的特征\n",
    "    scale_features = [features[scale_idx] for features in features_list]\n",
    "    scale_features = np.array(scale_features)\n",
    "    \n",
    "    # 计算余弦相似度\n",
    "    similarity_matrix = cosine_similarity(scale_features)\n",
    "    \n",
    "    return similarity_matrix"
   ]
  },
  {
   "cell_type": "code",
   "execution_count": 15,
   "id": "d54d8c59",
   "metadata": {},
   "outputs": [],
   "source": [
    "similarity_matrix = []\n",
    "for scale_idx in range(10):\n",
    "    similarity_matrix.append(compute_similarity_matrix_for_scale(features_by_scale, scale_idx))"
   ]
  },
  {
   "cell_type": "code",
   "execution_count": 16,
   "id": "7c9846bf",
   "metadata": {},
   "outputs": [],
   "source": [
    "similarity_matrix_neuron = cosine_similarity(image_factors)"
   ]
  },
  {
   "cell_type": "code",
   "execution_count": 17,
   "id": "5f442387",
   "metadata": {},
   "outputs": [],
   "source": [
    "upper_tri_indices = np.triu_indices(117, k=1)\n",
    "unique_pairs_neuron = similarity_matrix_neuron[upper_tri_indices]\n",
    "unique_pairs = []\n",
    "for scale_idx in range(10):\n",
    "    unique_pairs.append(similarity_matrix[scale_idx][upper_tri_indices])"
   ]
  },
  {
   "cell_type": "code",
   "execution_count": 19,
   "id": "50998120",
   "metadata": {},
   "outputs": [],
   "source": [
    "import seaborn as sns"
   ]
  },
  {
   "cell_type": "code",
   "execution_count": 25,
   "id": "95e34225",
   "metadata": {},
   "outputs": [],
   "source": [
    "from matplotlib.backends.backend_pdf import PdfPages\n",
    "import matplotlib.pyplot as plt\n",
    "with PdfPages(\"similarity_matrix.pdf\") as pdf:\n",
    "    plt.figure(figsize=(5, 5))\n",
    "    sns.heatmap(similarity_matrix_neuron, cbar= False)\n",
    "    plt.xticks([])\n",
    "    plt.yticks([])\n",
    "    pdf.savefig()\n",
    "    plt.close()\n",
    "\n",
    "\n",
    "    for i in range(10):\n",
    "        plt.figure(figsize=(5, 5))\n",
    "        sns.heatmap(similarity_matrix[i], cbar= False)\n",
    "        plt.xticks([])\n",
    "        plt.yticks([])\n",
    "        pdf.savefig()\n",
    "        plt.close()"
   ]
  },
  {
   "cell_type": "code",
   "execution_count": 21,
   "id": "83e42616",
   "metadata": {},
   "outputs": [
    {
     "data": {
      "text/plain": [
       "<Axes: >"
      ]
     },
     "execution_count": 21,
     "metadata": {},
     "output_type": "execute_result"
    },
    {
     "data": {
      "image/png": "[encoded data removed]",
      "text/plain": [
       "<Figure size 640x480 with 2 Axes>"
      ]
     },
     "metadata": {},
     "output_type": "display_data"
    }
   ],
   "source": [
    "sns.heatmap(similarity_matrix[8])"
   ]
  },
  {
   "cell_type": "code",
   "execution_count": 104,
   "id": "fa410d2c",
   "metadata": {},
   "outputs": [],
   "source": [
    "image = pd.read_csv(\"/media/ubuntu/sda/Monkey/scripts/test_image.csv\")"
   ]
  },
  {
   "cell_type": "code",
   "execution_count": 113,
   "id": "5d0a2baf",
   "metadata": {},
   "outputs": [],
   "source": [
    "from matplotlib.backends.backend_pdf import PdfPages\n",
    "with PdfPages(\"image.pdf\") as pdf:\n",
    "    for path in image['things_path'].values:\n",
    "        image_single = Image.open(f'/media/ubuntu/sda/visual_stimuli_pattern/things/object_images/{path}')\n",
    "        plt.imshow(np.array(image_single)[:, :, 0])\n",
    "        pdf.savefig()\n",
    "        plt.close()\n"
   ]
  }
 ],
 "metadata": {
  "kernelspec": {
   "display_name": "visual_decoding",
   "language": "python",
   "name": "python3"
  },
  "language_info": {
   "codemirror_mode": {
    "name": "ipython",
    "version": 3
   },
   "file_extension": ".py",
   "mimetype": "text/x-python",
   "name": "python",
   "nbconvert_exporter": "python",
   "pygments_lexer": "ipython3",
   "version": "3.13.2"
  }
 },
 "nbformat": 4,
 "nbformat_minor": 5
}
