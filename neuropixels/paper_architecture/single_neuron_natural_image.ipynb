{
 "cells": [
  {
   "cell_type": "code",
   "execution_count": 8,
   "id": "767dae52",
   "metadata": {},
   "outputs": [],
   "source": [
    "import numpy as np\n",
    "import pandas as pd\n",
    "import seaborn as sns\n",
    "import warnings\n",
    "warnings.filterwarnings('ignore')\n",
    "import spikeinterface as si\n",
    "import matplotlib.pyplot as plt\n",
    "import os\n",
    "from matplotlib.backends.backend_pdf import PdfPages\n",
    "import os\n",
    "import pickle\n",
    "from tensorly.decomposition import non_negative_parafac\n",
    "\n",
    "import numpy as np\n",
    "import matplotlib.pyplot as plt\n",
    "from sklearn.decomposition import TruncatedSVD\n",
    "from sklearn.manifold import TSNE\n",
    "import seaborn as sns\n"
   ]
  },
  {
   "cell_type": "code",
   "execution_count": 9,
   "id": "46dc31a0",
   "metadata": {},
   "outputs": [],
   "source": [
    "session_folder = os.listdir(\"/media/ubuntu/sda/neuropixels/output_dir\")\n",
    "session_list = []\n",
    "for session in session_folder:\n",
    "    if 'session_' in session:\n",
    "        session_list.append(session)"
   ]
  },
  {
   "cell_type": "code",
   "execution_count": 12,
   "id": "3426210f",
   "metadata": {},
   "outputs": [],
   "source": [
    "cluster_inf_all = pd.DataFrame()\n",
    "activity_dict = {}\n",
    "\n",
    "for session in session_list:\n",
    "    output_dir = f'/media/ubuntu/sda/neuropixels/output_dir/{session}'\n",
    "    cluster_inf = pd.read_csv(f'{output_dir}/cluster_inf.csv')\n",
    "    spike_inf = pd.read_csv(f'{output_dir}/spike_inf.csv', index_col=0)\n",
    "    stimulus_table = pd.read_csv(f'{output_dir}/stimulus_table.csv')\n",
    "    stimulus_table = stimulus_table[stimulus_table['frame']!= -1.0]\n",
    "    stimulus_table['frame'] = stimulus_table['frame'].astype(int)\n",
    "\n",
    "    filtered_spikes = spike_inf['id'].value_counts()\n",
    "    filtered_spikes = filtered_spikes[filtered_spikes > 30000].index\n",
    "    cluster_inf = cluster_inf[cluster_inf['unit_id'].isin(filtered_spikes)]\n",
    "    spike_inf = spike_inf[spike_inf['id'].isin(filtered_spikes)]\n",
    "\n",
    "    cluster_inf_all = pd.concat((cluster_inf_all, cluster_inf), axis = 0)\n",
    "\n",
    "    for neuron in cluster_inf['unit_id']:\n",
    "        spike_inf_temp = spike_inf[spike_inf['id'] == neuron]\n",
    "        neuron = f'{neuron}_{session}'\n",
    "        activity_dict[neuron] = {}\n",
    "        for image in range(0, 118):\n",
    "            activity_dict[neuron][image] = []\n",
    "\n",
    "            trigger_time_temp = stimulus_table[(stimulus_table['frame'] == image)]\n",
    "\n",
    "            for index, row in trigger_time_temp.iterrows():\n",
    "                start = row['start_time']\n",
    "                end = row['stop_time']\n",
    "\n",
    "                filtered_spikes = spike_inf_temp[(spike_inf_temp['time'] >= start) &\n",
    "                                                (spike_inf_temp['time'] <= end)]\n",
    "                if not filtered_spikes.empty:\n",
    "                    relative_spikes = (filtered_spikes['time'] - start) * 1000\n",
    "                    activity_dict[neuron][image].append(np.array(relative_spikes))"
   ]
  },
  {
   "cell_type": "code",
   "execution_count": 13,
   "id": "df0c87db",
   "metadata": {},
   "outputs": [],
   "source": [
    "cluster_inf_all.to_csv(\"/media/ubuntu/sda/neuropixels/paper_architecture/results/cluster_inf.csv\")"
   ]
  },
  {
   "cell_type": "code",
   "execution_count": 15,
   "id": "511ef05e",
   "metadata": {},
   "outputs": [],
   "source": [
    "with open(\"/media/ubuntu/sda/neuropixels/paper_architecture/results/activity_dict_30000.pkl\", 'wb') as f:\n",
    "    pickle.dump(activity_dict, f)"
   ]
  },
  {
   "cell_type": "code",
   "execution_count": 16,
   "id": "b975dcc8",
   "metadata": {},
   "outputs": [],
   "source": [
    "activity_dict_region = {}\n",
    "filtered_neuron = {}\n",
    "for region in ['VISp', 'VISal', 'VISam', 'VISrl', 'VISpm', 'VISl']:\n",
    "    activity_dict_region[region] = {}\n",
    "    cluster_inf_temp = cluster_inf_all[cluster_inf_all['ecephys_structure_acronym'] == region]\n",
    "    filtered_neuron[region] = cluster_inf_temp['unit_id'].values\n",
    "\n",
    "    for key, item in activity_dict.items():\n",
    "        key = key.split(\"_\")[0]\n",
    "        if int(key) in filtered_neuron[region]:\n",
    "            activity_dict_region[region][key] = item\n"
   ]
  },
  {
   "cell_type": "code",
   "execution_count": 17,
   "id": "b5e45838",
   "metadata": {},
   "outputs": [],
   "source": [
    "import neo\n",
    "from quantities import ms\n",
    "from elephant.statistics import instantaneous_rate\n",
    "from elephant.kernels import GaussianKernel\n",
    "\n",
    "gk = GaussianKernel(25 * ms)\n",
    "\n",
    "\n",
    "activity_dict_region_new = {}\n",
    "for neuron in activity_dict_region['VISp'].keys():\n",
    "    activity_dict_region_new[neuron] = {}\n",
    "    for image in range(118):\n",
    "        temp = []\n",
    "        for i in activity_dict_region['VISp'][neuron][image]:\n",
    "            if len(i) > 5:\n",
    "                i = i.astype(int)\n",
    "                i = i[i< 250]\n",
    "                temp_spiketrain = neo.SpikeTrain(list(i) * ms, t_stop=250, t_start=0)\n",
    "                inst_rate = instantaneous_rate(temp_spiketrain, kernel=gk, sampling_period=10*ms).magnitude\n",
    "\n",
    "                temp.append(inst_rate.flatten())\n",
    "            del i\n",
    "        activity_dict_region_new[neuron][image] = temp\n",
    "\n"
   ]
  }
 ],
 "metadata": {
  "kernelspec": {
   "display_name": "spike_sorting",
   "language": "python",
   "name": "python3"
  },
  "language_info": {
   "codemirror_mode": {
    "name": "ipython",
    "version": 3
   },
   "file_extension": ".py",
   "mimetype": "text/x-python",
   "name": "python",
   "nbconvert_exporter": "python",
   "pygments_lexer": "ipython3",
   "version": "3.11.13"
  }
 },
 "nbformat": 4,
 "nbformat_minor": 5
}
