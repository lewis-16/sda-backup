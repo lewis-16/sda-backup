{
 "cells": [
  {
   "cell_type": "code",
   "execution_count": 2,
   "id": "860e0fb3",
   "metadata": {},
   "outputs": [],
   "source": [
    "import h5py\n",
    "import numpy as np\n",
    "from PIL import Image  # 或使用OpenCV\n",
    "import os"
   ]
  },
  {
   "cell_type": "code",
   "execution_count": 3,
   "id": "2dcf8aea",
   "metadata": {},
   "outputs": [
    {
     "name": "stderr",
     "output_type": "stream",
     "text": [
      "/tmp/ipykernel_3880445/1550697147.py:2: UserWarning: Reading `.npy` or `.npz` file required additional header parsing as it was created on Python 2. Save the file again to speed up loading and avoid this warning.\n",
      "  f = np.load(file_path)\n"
     ]
    }
   ],
   "source": [
    "file_path = '/media/ubuntu/sda/neuropixels/natural_movie/natural_movie_3.h5'\n",
    "f = np.load(file_path)"
   ]
  },
  {
   "cell_type": "code",
   "execution_count": 4,
   "id": "ae8c82ce",
   "metadata": {},
   "outputs": [
    {
     "data": {
      "text/plain": [
       "(3600, 304, 608)"
      ]
     },
     "execution_count": 4,
     "metadata": {},
     "output_type": "execute_result"
    }
   ],
   "source": [
    "f.shape"
   ]
  },
  {
   "cell_type": "code",
   "execution_count": 8,
   "id": "0278b7ab",
   "metadata": {},
   "outputs": [
    {
     "name": "stdout",
     "output_type": "stream",
     "text": [
      "保存完成！共3600帧。输出目录: /media/ubuntu/sda/neuropixels/natural_movie/natural_movie_3_frame\n"
     ]
    }
   ],
   "source": [
    "import h5py\n",
    "import numpy as np\n",
    "from PIL import Image  # 或使用OpenCV\n",
    "import os\n",
    "\n",
    "output_dir = '/media/ubuntu/sda/neuropixels/natural_movie/natural_movie_3_frame'  # 输出图片的目录\n",
    "os.makedirs(output_dir, exist_ok=True)  # 创建输出目录\n",
    "\n",
    "\n",
    "num_frames = f.shape[0]\n",
    "\n",
    "for i in range(num_frames):\n",
    "    frame = f[i]\n",
    "    \n",
    "    # 处理单通道（灰度）和三通道（RGB）数据\n",
    "    if frame.ndim == 2:  # 灰度图 [高度, 宽度]\n",
    "        img = Image.fromarray(frame.astype('uint8'), 'L')\n",
    "    elif frame.ndim == 3:  # 彩色图 [高度, 宽度, 通道]\n",
    "        # 注意：PIL需要RGB顺序，若原数据为BGR需转换\n",
    "        img = Image.fromarray(frame.astype('uint8'), 'RGB')\n",
    "    else:\n",
    "        raise ValueError(\"不支持的图像维度\")\n",
    "    \n",
    "    # 保存图片\n",
    "    img.save(os.path.join(output_dir, f'frame_{i}.png'))  # 用序号命名，如frame_00000.png\n",
    "\n",
    "print(f\"保存完成！共{num_frames}帧。输出目录: {output_dir}\")"
   ]
  }
 ],
 "metadata": {
  "kernelspec": {
   "display_name": "spike_sorting_jct",
   "language": "python",
   "name": "python3"
  },
  "language_info": {
   "codemirror_mode": {
    "name": "ipython",
    "version": 3
   },
   "file_extension": ".py",
   "mimetype": "text/x-python",
   "name": "python",
   "nbconvert_exporter": "python",
   "pygments_lexer": "ipython3",
   "version": "3.11.13"
  }
 },
 "nbformat": 4,
 "nbformat_minor": 5
}
