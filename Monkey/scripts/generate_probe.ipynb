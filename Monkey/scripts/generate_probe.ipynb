{
 "cells": [
  {
   "cell_type": "code",
   "execution_count": 1,
   "id": "6000365b",
   "metadata": {},
   "outputs": [],
   "source": [
    "import numpy as np\n",
    "import matplotlib.pyplot as plt\n",
    "\n",
    "from probeinterface import Probe\n",
    "from probeinterface.plotting import plot_probe\n",
    "import pandas as pd\n",
    "from probeinterface import write_probeinterface"
   ]
  },
  {
   "cell_type": "code",
   "execution_count": 7,
   "id": "fd3573d9",
   "metadata": {},
   "outputs": [],
   "source": [
    "grid = np.array([[(j * 400, i * 400) for j in range(8)] for i in range(8)])\n",
    "grid = grid.reshape(64, 2)"
   ]
  },
  {
   "cell_type": "code",
   "execution_count": 9,
   "id": "576f36e8",
   "metadata": {},
   "outputs": [],
   "source": [
    "probe_2d = Probe(ndim=2, si_units='um')\n",
    "probe_2d.set_contacts(positions=grid, shapes='circle', shape_params={'radius': 20})\n",
    "probe_2d.create_auto_shape(probe_type='tip')"
   ]
  },
  {
   "cell_type": "code",
   "execution_count": 10,
   "id": "d8e3e259",
   "metadata": {},
   "outputs": [],
   "source": [
    "probe_2d.set_contact_ids([i for i in range(64)])"
   ]
  },
  {
   "cell_type": "code",
   "execution_count": 12,
   "id": "0c658e24",
   "metadata": {},
   "outputs": [],
   "source": [
    "write_probeinterface('probe.json', probe_2d)"
   ]
  }
 ],
 "metadata": {
  "kernelspec": {
   "display_name": "spike_sorting_jct",
   "language": "python",
   "name": "python3"
  },
  "language_info": {
   "codemirror_mode": {
    "name": "ipython",
    "version": 3
   },
   "file_extension": ".py",
   "mimetype": "text/x-python",
   "name": "python",
   "nbconvert_exporter": "python",
   "pygments_lexer": "ipython3",
   "version": "3.11.13"
  }
 },
 "nbformat": 4,
 "nbformat_minor": 5
}
