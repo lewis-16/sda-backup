{
 "cells": [
  {
   "cell_type": "code",
   "execution_count": 1,
   "id": "97be4c6c",
   "metadata": {},
   "outputs": [],
   "source": [
    "import mat73\n",
    "import pandas as pd\n",
    "path = '/media/ubuntu/sda/Monkey/TVSD/monkeyF/_logs/things_imgs.mat'\n",
    "\n",
    "data_dict = mat73.loadmat(path)"
   ]
  },
  {
   "cell_type": "code",
   "execution_count": 2,
   "id": "45f36e05",
   "metadata": {},
   "outputs": [],
   "source": [
    "train_img = pd.DataFrame(data_dict['train_imgs'])\n",
    "test_img = pd.DataFrame(data_dict['test_imgs'])"
   ]
  },
  {
   "cell_type": "code",
   "execution_count": null,
   "id": "20e7e178",
   "metadata": {},
   "outputs": [
    {
     "ename": "SyntaxError",
     "evalue": "unterminated string literal (detected at line 2) (983798224.py, line 2)",
     "output_type": "error",
     "traceback": [
      "\u001b[0;36m  Cell \u001b[0;32mIn[5], line 2\u001b[0;36m\u001b[0m\n\u001b[0;31m    row['local_path'] = '/media/ubuntu/sda/visual_stimuli_pattern/things/object_images/'+ row['things_path'].split('\\')[0] + '/' + row['things_path'].split(\"\\\")[1])\u001b[0m\n\u001b[0m                                                                                                                                                   ^\u001b[0m\n\u001b[0;31mSyntaxError\u001b[0m\u001b[0;31m:\u001b[0m unterminated string literal (detected at line 2)\n"
     ]
    }
   ],
   "source": [
    "for idx, row in train_img.iterrows():\n",
    "    row['local_path'] = '/media/ubuntu/sda/visual_stimuli_pattern/things/object_images/'+row['things_path']\n",
    "\n",
    "for idx, row in test_img.iterrows():\n",
    "    row['local_path'] = '/media/ubuntu/sda/visual_stimuli_pattern/things/object_images/'+row['things_path']"
   ]
  },
  {
   "cell_type": "code",
   "execution_count": 4,
   "id": "9a992e80",
   "metadata": {},
   "outputs": [
    {
     "data": {
      "text/html": [
       "<div>\n",
       "<style scoped>\n",
       "    .dataframe tbody tr th:only-of-type {\n",
       "        vertical-align: middle;\n",
       "    }\n",
       "\n",
       "    .dataframe tbody tr th {\n",
       "        vertical-align: top;\n",
       "    }\n",
       "\n",
       "    .dataframe thead th {\n",
       "        text-align: right;\n",
       "    }\n",
       "</style>\n",
       "<table border=\"1\" class=\"dataframe\">\n",
       "  <thead>\n",
       "    <tr style=\"text-align: right;\">\n",
       "      <th></th>\n",
       "      <th>class</th>\n",
       "      <th>local_path</th>\n",
       "      <th>things_path</th>\n",
       "    </tr>\n",
       "  </thead>\n",
       "  <tbody>\n",
       "    <tr>\n",
       "      <th>0</th>\n",
       "      <td>alligator</td>\n",
       "      <td>/media/ubuntu/sda/visual_stimuli_pattern/thing...</td>\n",
       "      <td>alligator\\alligator_14n.jpg</td>\n",
       "    </tr>\n",
       "    <tr>\n",
       "      <th>1</th>\n",
       "      <td>altar</td>\n",
       "      <td>/media/ubuntu/sda/visual_stimuli_pattern/thing...</td>\n",
       "      <td>altar\\altar_13s.jpg</td>\n",
       "    </tr>\n",
       "    <tr>\n",
       "      <th>2</th>\n",
       "      <td>ashtray</td>\n",
       "      <td>/media/ubuntu/sda/visual_stimuli_pattern/thing...</td>\n",
       "      <td>ashtray\\ashtray_14n.jpg</td>\n",
       "    </tr>\n",
       "    <tr>\n",
       "      <th>3</th>\n",
       "      <td>axe</td>\n",
       "      <td>/media/ubuntu/sda/visual_stimuli_pattern/thing...</td>\n",
       "      <td>axe\\axe_14n.jpg</td>\n",
       "    </tr>\n",
       "    <tr>\n",
       "      <th>4</th>\n",
       "      <td>bamboo</td>\n",
       "      <td>/media/ubuntu/sda/visual_stimuli_pattern/thing...</td>\n",
       "      <td>bamboo\\bamboo_13s.jpg</td>\n",
       "    </tr>\n",
       "    <tr>\n",
       "      <th>...</th>\n",
       "      <td>...</td>\n",
       "      <td>...</td>\n",
       "      <td>...</td>\n",
       "    </tr>\n",
       "    <tr>\n",
       "      <th>95</th>\n",
       "      <td>wallpaper</td>\n",
       "      <td>/media/ubuntu/sda/visual_stimuli_pattern/thing...</td>\n",
       "      <td>wallpaper\\wallpaper_13s.jpg</td>\n",
       "    </tr>\n",
       "    <tr>\n",
       "      <th>96</th>\n",
       "      <td>wasp</td>\n",
       "      <td>/media/ubuntu/sda/visual_stimuli_pattern/thing...</td>\n",
       "      <td>wasp\\wasp_15n.jpg</td>\n",
       "    </tr>\n",
       "    <tr>\n",
       "      <th>97</th>\n",
       "      <td>watch</td>\n",
       "      <td>/media/ubuntu/sda/visual_stimuli_pattern/thing...</td>\n",
       "      <td>watch\\watch_13s.jpg</td>\n",
       "    </tr>\n",
       "    <tr>\n",
       "      <th>98</th>\n",
       "      <td>whip</td>\n",
       "      <td>/media/ubuntu/sda/visual_stimuli_pattern/thing...</td>\n",
       "      <td>whip\\whip_14s.jpg</td>\n",
       "    </tr>\n",
       "    <tr>\n",
       "      <th>99</th>\n",
       "      <td>wig</td>\n",
       "      <td>/media/ubuntu/sda/visual_stimuli_pattern/thing...</td>\n",
       "      <td>wig\\wig_13s.jpg</td>\n",
       "    </tr>\n",
       "  </tbody>\n",
       "</table>\n",
       "<p>100 rows × 3 columns</p>\n",
       "</div>"
      ],
      "text/plain": [
       "        class                                         local_path  \\\n",
       "0   alligator  /media/ubuntu/sda/visual_stimuli_pattern/thing...   \n",
       "1       altar  /media/ubuntu/sda/visual_stimuli_pattern/thing...   \n",
       "2     ashtray  /media/ubuntu/sda/visual_stimuli_pattern/thing...   \n",
       "3         axe  /media/ubuntu/sda/visual_stimuli_pattern/thing...   \n",
       "4      bamboo  /media/ubuntu/sda/visual_stimuli_pattern/thing...   \n",
       "..        ...                                                ...   \n",
       "95  wallpaper  /media/ubuntu/sda/visual_stimuli_pattern/thing...   \n",
       "96       wasp  /media/ubuntu/sda/visual_stimuli_pattern/thing...   \n",
       "97      watch  /media/ubuntu/sda/visual_stimuli_pattern/thing...   \n",
       "98       whip  /media/ubuntu/sda/visual_stimuli_pattern/thing...   \n",
       "99        wig  /media/ubuntu/sda/visual_stimuli_pattern/thing...   \n",
       "\n",
       "                    things_path  \n",
       "0   alligator\\alligator_14n.jpg  \n",
       "1           altar\\altar_13s.jpg  \n",
       "2       ashtray\\ashtray_14n.jpg  \n",
       "3               axe\\axe_14n.jpg  \n",
       "4         bamboo\\bamboo_13s.jpg  \n",
       "..                          ...  \n",
       "95  wallpaper\\wallpaper_13s.jpg  \n",
       "96            wasp\\wasp_15n.jpg  \n",
       "97          watch\\watch_13s.jpg  \n",
       "98            whip\\whip_14s.jpg  \n",
       "99              wig\\wig_13s.jpg  \n",
       "\n",
       "[100 rows x 3 columns]"
      ]
     },
     "execution_count": 4,
     "metadata": {},
     "output_type": "execute_result"
    }
   ],
   "source": [
    "test_img"
   ]
  },
  {
   "cell_type": "code",
   "execution_count": null,
   "id": "e370aa1d",
   "metadata": {},
   "outputs": [],
   "source": [
    "train_img.to_csv(\"train_image.csv\", index = False)\n",
    "test_img.to_csv(\"test_image.csv\", index = False)"
   ]
  }
 ],
 "metadata": {
  "kernelspec": {
   "display_name": "visual_decoding",
   "language": "python",
   "name": "python3"
  },
  "language_info": {
   "codemirror_mode": {
    "name": "ipython",
    "version": 3
   },
   "file_extension": ".py",
   "mimetype": "text/x-python",
   "name": "python",
   "nbconvert_exporter": "python",
   "pygments_lexer": "ipython3",
   "version": "3.13.2"
  }
 },
 "nbformat": 4,
 "nbformat_minor": 5
}
