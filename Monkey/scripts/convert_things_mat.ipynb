{
 "cells": [
  {
   "cell_type": "code",
   "execution_count": 2,
   "id": "97be4c6c",
   "metadata": {},
   "outputs": [],
   "source": [
    "import mat73\n",
    "import pandas as pd\n",
    "path = '/media/ubuntu/sda/Monkey/data/things_imgs_MonkeyN.mat'\n",
    "\n",
    "data_dict = mat73.loadmat(path)"
   ]
  },
  {
   "cell_type": "code",
   "execution_count": 3,
   "id": "45f36e05",
   "metadata": {},
   "outputs": [],
   "source": [
    "train_img = pd.DataFrame(data_dict['train_imgs'])\n",
    "test_img = pd.DataFrame(data_dict['test_imgs'])"
   ]
  },
  {
   "cell_type": "code",
   "execution_count": 4,
   "id": "20e7e178",
   "metadata": {},
   "outputs": [],
   "source": [
    "for idx, row in train_img.iterrows():\n",
    "    row['local_path'] = '/media/ubuntu/sda/visual_stimuli_pattern/things/object_images/'+row['things_path']\n",
    "\n",
    "for idx, row in test_img.iterrows():\n",
    "    row['local_path'] = '/media/ubuntu/sda/visual_stimuli_pattern/things/object_images/'+row['things_path']"
   ]
  },
  {
   "cell_type": "code",
   "execution_count": 5,
   "id": "e370aa1d",
   "metadata": {},
   "outputs": [],
   "source": [
    "train_img.to_csv(\"/media/ubuntu/sda/Monkey/data/train_image_MonkeyN.csv\", index = False)\n",
    "test_img.to_csv(\"/media/ubuntu/sda/Monkey/data/test_image_MonkeyN.csv\", index = False)"
   ]
  }
 ],
 "metadata": {
  "kernelspec": {
   "display_name": "visual_decoding",
   "language": "python",
   "name": "python3"
  },
  "language_info": {
   "codemirror_mode": {
    "name": "ipython",
    "version": 3
   },
   "file_extension": ".py",
   "mimetype": "text/x-python",
   "name": "python",
   "nbconvert_exporter": "python",
   "pygments_lexer": "ipython3",
   "version": "3.13.2"
  }
 },
 "nbformat": 4,
 "nbformat_minor": 5
}
