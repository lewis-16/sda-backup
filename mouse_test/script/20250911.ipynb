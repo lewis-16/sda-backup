{
 "cells": [
  {
   "cell_type": "code",
   "execution_count": 1,
   "id": "41b158ba",
   "metadata": {},
   "outputs": [
    {
     "name": "stderr",
     "output_type": "stream",
     "text": [
      "/home/ubuntu/.conda/envs/spike_sorting/lib/python3.11/site-packages/tqdm/auto.py:21: TqdmWarning: IProgress not found. Please update jupyter and ipywidgets. See https://ipywidgets.readthedocs.io/en/stable/user_install.html\n",
      "  from .autonotebook import tqdm as notebook_tqdm\n"
     ]
    }
   ],
   "source": [
    "import sys\n",
    "import spikeinterface as si\n",
    "import matplotlib.pyplot as plt\n",
    "import spikeinterface.extractors as se\n",
    "import spikeinterface.preprocessing as spre\n",
    "import spikeinterface.sorters as ss\n",
    "import spikeinterface.widgets as sw\n",
    "import spikeinterface.qualitymetrics as sqm\n",
    "import json\n",
    "import probeinterface\n",
    "\n",
    "from probeinterface import Probe, ProbeGroup\n",
    "\n",
    "import os\n",
    "import numpy as np\n",
    "from spikeinterface.core import concatenate_recordings\n",
    "\n",
    "import warnings\n",
    "warnings.filterwarnings('ignore')\n",
    "import pandas as pd\n",
    "from matplotlib.backends.backend_pdf import PdfPages\n",
    "import seaborn as sns\n",
    "\n",
    "from sklearn.decomposition import PCA\n",
    "from sklearn.cluster import KMeans\n",
    "from scipy.stats import pearsonr\n",
    "import pandas as pd\n",
    "import numpy as np\n",
    "from matplotlib.collections import LineCollection\n",
    "from probeinterface import write_probeinterface, read_probeinterface\n"
   ]
  },
  {
   "cell_type": "code",
   "execution_count": 3,
   "id": "1d893c0e",
   "metadata": {},
   "outputs": [],
   "source": [
    "file_list = os.listdir(f\"/media/ubuntu/sda/mouse_test/raw_data/20250914_Janus1_2_250914_134141\")\n",
    "file_list.remove(\"settings.xml\")\n",
    "recording_raw_list = []\n",
    "for file in file_list:\n",
    "    recording_raw_list.append(se.read_intan(f\"/media/ubuntu/sda/mouse_test/raw_data/20250914_Janus1_2_250914_134141/{file}\", stream_id= '0'))\n",
    "recording_raw = concatenate_recordings(recording_list=recording_raw_list)\n",
    "\n",
    "recording_raw = spre.unsigned_to_signed(recording_raw)\n",
    "recording_recorded = spre.bandpass_filter(recording_raw, freq_min=300, freq_max=3000)\n",
    "recording_recorded = spre.notch_filter(recording_recorded, freq=50)\n",
    "recording_f = spre.common_reference(recording_recorded, reference=\"global\", operator=\"median\")"
   ]
  },
  {
   "cell_type": "code",
   "execution_count": 4,
   "id": "a4d99167",
   "metadata": {},
   "outputs": [],
   "source": [
    "probe_30channel = read_probeinterface('/media/ubuntu/sda/mouse_test/probe/tip_probe.json')\n",
    "recording_f = recording_f.set_probegroup(probe_30channel)"
   ]
  },
  {
   "cell_type": "code",
   "execution_count": 6,
   "id": "e1407f01",
   "metadata": {},
   "outputs": [
    {
     "name": "stdout",
     "output_type": "stream",
     "text": [
      "Use cache_folder=/tmp/spikeinterface_cache/tmpwk2hwdgy/BE7QDE9U\n",
      "write_binary_recording \n",
      "engine=process - n_jobs=1 - samples_per_chunk=20,000 - chunk_memory=1.14 MiB - total_memory=1.14 MiB - chunk_duration=1.00s\n"
     ]
    },
    {
     "name": "stderr",
     "output_type": "stream",
     "text": [
      "write_binary_recording (no parallelization): 100%|██████████| 422/422 [00:09<00:00, 46.76it/s]\n"
     ]
    },
    {
     "name": "stdout",
     "output_type": "stream",
     "text": [
      "BinaryFolderRecording: 30 channels - 20.0kHz - 1 segments - 8,438,144 samples \n",
      "                       421.91s (7.03 minutes) - int16 dtype - 482.83 MiB\n"
     ]
    },
    {
     "name": "stderr",
     "output_type": "stream",
     "text": [
      "100%|██████████| 141/141 [00:09<00:00, 15.08it/s]\n",
      "100%|██████████| 141/141 [00:08<00:00, 15.80it/s]\n",
      "100%|██████████| 2/2 [00:06<00:00,  3.36s/it]\n",
      "100%|██████████| 141/141 [00:03<00:00, 45.14it/s]\n",
      "100%|██████████| 2/2 [00:09<00:00,  4.58s/it]\n",
      "estimate_sparsity (no parallelization): 100%|██████████| 422/422 [00:00<00:00, 23376.47it/s]\n",
      "compute_waveforms (no parallelization): 100%|██████████| 422/422 [00:13<00:00, 31.38it/s]\n",
      "noise_level (no parallelization): 100%|██████████| 20/20 [00:00<00:00, 211.49it/s]\n",
      "Compute : spike_amplitudes + spike_locations (no parallelization): 100%|██████████| 422/422 [00:00<00:00, 622.56it/s]\n",
      "noise_level (no parallelization): 100%|██████████| 20/20 [00:00<00:00, 1698.75it/s]\n",
      "write_binary_recording (no parallelization): 100%|██████████| 422/422 [00:16<00:00, 25.39it/s]\n",
      "Fitting PCA: 100%|██████████| 52/52 [00:03<00:00, 15.55it/s]\n",
      "Projecting waveforms: 100%|██████████| 52/52 [00:00<00:00, 1252.76it/s]\n",
      "extract PCs (no parallelization): 100%|██████████| 422/422 [00:18<00:00, 23.08it/s]"
     ]
    },
    {
     "name": "stdout",
     "output_type": "stream",
     "text": [
      "Run:\n",
      "phy template-gui  /media/ubuntu/sda/mouse_test/sorted/20250914_Janus1_2_250914_134141/phy_folder_for_kilosort/params.py\n"
     ]
    },
    {
     "name": "stderr",
     "output_type": "stream",
     "text": [
      "\n"
     ]
    }
   ],
   "source": [
    "output_folder = '/media/ubuntu/sda/mouse_test/sorted/20250914_Janus1_2_250914_134141'\n",
    "recording_preprocessed = recording_f.save(format=\"binary\")\n",
    "print(recording_preprocessed)\n",
    "\n",
    "sorting_kilosort4 = ss.run_sorter(sorter_name=\"kilosort4\", recording=recording_preprocessed, folder=output_folder + \"/kilosort4\")\n",
    "analyzer_kilosort4 = si.create_sorting_analyzer(sorting=sorting_kilosort4, recording=recording_preprocessed, format='binary_folder', folder=output_folder + '/analyzer_kilosort4_binary')\n",
    "\n",
    "extensions_to_compute = [\n",
    "    \"random_spikes\",\n",
    "    \"waveforms\",\n",
    "    \"noise_levels\",\n",
    "    \"templates\",\n",
    "    \"spike_amplitudes\",\n",
    "    \"unit_locations\",\n",
    "    \"spike_locations\",\n",
    "    \"correlograms\",\n",
    "    \"template_similarity\"\n",
    "]\n",
    "\n",
    "extension_params = {\n",
    "    \"unit_locations\": {\"method\": \"center_of_mass\"},\n",
    "    \"spike_locations\": {\"ms_before\": 0.1},\n",
    "    \"correlograms\": {\"bin_ms\": 0.1},\n",
    "    \"template_similarity\": {\"method\": \"cosine_similarity\"}\n",
    "}\n",
    "\n",
    "analyzer_kilosort4.compute(extensions_to_compute, extension_params=extension_params)\n",
    "\n",
    "qm_params = sqm.get_default_qm_params()\n",
    "analyzer_kilosort4.compute(\"quality_metrics\", qm_params)\n",
    "\n",
    "import spikeinterface.exporters as sexp\n",
    "sexp.export_to_phy(analyzer_kilosort4, output_folder + \"/phy_folder_for_kilosort\", verbose=True)"
   ]
  }
 ],
 "metadata": {
  "kernelspec": {
   "display_name": "spike_sorting",
   "language": "python",
   "name": "python3"
  },
  "language_info": {
   "codemirror_mode": {
    "name": "ipython",
    "version": 3
   },
   "file_extension": ".py",
   "mimetype": "text/x-python",
   "name": "python",
   "nbconvert_exporter": "python",
   "pygments_lexer": "ipython3",
   "version": "3.11.13"
  }
 },
 "nbformat": 4,
 "nbformat_minor": 5
}
