{
 "cells": [
  {
   "cell_type": "code",
   "execution_count": 1,
   "id": "41b158ba",
   "metadata": {},
   "outputs": [
    {
     "name": "stderr",
     "output_type": "stream",
     "text": [
      "/home/ubuntu/.conda/envs/spike_sorting_jct/lib/python3.11/site-packages/tqdm/auto.py:21: TqdmWarning: IProgress not found. Please update jupyter and ipywidgets. See https://ipywidgets.readthedocs.io/en/stable/user_install.html\n",
      "  from .autonotebook import tqdm as notebook_tqdm\n"
     ]
    }
   ],
   "source": [
    "import sys\n",
    "import spikeinterface as si\n",
    "import matplotlib.pyplot as plt\n",
    "import spikeinterface.extractors as se\n",
    "import spikeinterface.preprocessing as spre\n",
    "import spikeinterface.sorters as ss\n",
    "import spikeinterface.widgets as sw\n",
    "import spikeinterface.qualitymetrics as sqm\n",
    "import json\n",
    "import probeinterface\n",
    "\n",
    "from probeinterface import Probe, ProbeGroup\n",
    "\n",
    "import os\n",
    "import numpy as np\n",
    "from spikeinterface.core import concatenate_recordings\n",
    "\n",
    "import warnings\n",
    "warnings.filterwarnings('ignore')\n",
    "import pandas as pd\n",
    "from matplotlib.backends.backend_pdf import PdfPages\n",
    "import seaborn as sns\n",
    "\n",
    "from sklearn.decomposition import PCA\n",
    "from sklearn.cluster import KMeans\n",
    "from scipy.stats import pearsonr\n",
    "import pandas as pd\n",
    "import numpy as np\n",
    "from matplotlib.collections import LineCollection\n",
    "from probeinterface import write_probeinterface, read_probeinterface\n"
   ]
  },
  {
   "cell_type": "code",
   "execution_count": 2,
   "id": "1d893c0e",
   "metadata": {},
   "outputs": [],
   "source": [
    "file_list = os.listdir(f\"/media/ubuntu/sda/mouse_test/raw_data/20250910_Janus2/20250910_Janus2_1_250910_110238\")\n",
    "file_list.remove(\"settings.xml\")\n",
    "recording_raw_list = []\n",
    "for file in file_list:\n",
    "    recording_raw_list.append(se.read_intan(f\"/media/ubuntu/sda/mouse_test/raw_data/20250910_Janus2/20250910_Janus2_1_250910_110238/{file}\", stream_id= '0'))\n",
    "recording_raw = concatenate_recordings(recording_list=recording_raw_list)\n",
    "\n",
    "recording_recorded = spre.bandpass_filter(recording_raw, freq_min=300, freq_max=3000)\n",
    "recording_recorded = spre.notch_filter(recording_recorded, freq=50)\n",
    "recording_f = spre.common_reference(recording_recorded, reference=\"global\", operator=\"median\")"
   ]
  },
  {
   "cell_type": "code",
   "execution_count": 3,
   "id": "a4d99167",
   "metadata": {},
   "outputs": [],
   "source": [
    "probe_30channel = read_probeinterface('/media/ubuntu/sda/mouse_test/probe/tip_probe.json')\n",
    "recording_f = recording_f.set_probegroup(probe_30channel)"
   ]
  },
  {
   "cell_type": "code",
   "execution_count": 4,
   "id": "e1407f01",
   "metadata": {},
   "outputs": [
    {
     "name": "stdout",
     "output_type": "stream",
     "text": [
      "Use cache_folder=/tmp/spikeinterface_cache/tmpj_oxo7dg/TGTDLNMG\n",
      "write_binary_recording \n",
      "engine=process - n_jobs=1 - samples_per_chunk=20,000 - chunk_memory=1.14 MiB - total_memory=1.14 MiB - chunk_duration=1.00s\n"
     ]
    },
    {
     "name": "stderr",
     "output_type": "stream",
     "text": [
      "write_binary_recording (no parallelization): 100%|██████████| 1371/1371 [00:32<00:00, 42.50it/s]\n"
     ]
    },
    {
     "name": "stdout",
     "output_type": "stream",
     "text": [
      "BinaryFolderRecording: 30 channels - 20.0kHz - 1 segments - 27,405,824 samples \n",
      "                       1,370.29s (22.84 minutes) - int16 dtype - 1.53 GiB\n"
     ]
    },
    {
     "name": "stderr",
     "output_type": "stream",
     "text": [
      "100%|██████████| 457/457 [00:28<00:00, 16.15it/s]\n",
      "100%|██████████| 2/2 [00:09<00:00,  4.99s/it]\n",
      "100%|██████████| 457/457 [00:04<00:00, 99.05it/s] \n",
      "100%|██████████| 2/2 [00:11<00:00,  5.98s/it]\n",
      "estimate_sparsity (no parallelization): 100%|██████████| 1371/1371 [00:00<00:00, 40529.96it/s]\n",
      "compute_waveforms (no parallelization): 100%|██████████| 1371/1371 [01:29<00:00, 15.32it/s]\n",
      "noise_level (no parallelization): 100%|██████████| 20/20 [00:00<00:00, 269.11it/s]\n",
      "Compute : spike_amplitudes + spike_locations (no parallelization): 100%|██████████| 1371/1371 [00:02<00:00, 527.94it/s]\n",
      "noise_level (no parallelization): 100%|██████████| 20/20 [00:00<00:00, 1749.41it/s]\n",
      "write_binary_recording (no parallelization): 100%|██████████| 1371/1371 [03:50<00:00,  5.96it/s]\n",
      "Fitting PCA: 100%|██████████| 40/40 [00:04<00:00,  9.49it/s]\n",
      "Projecting waveforms: 100%|██████████| 40/40 [00:00<00:00, 1753.11it/s]\n",
      "extract PCs (no parallelization): 100%|██████████| 1371/1371 [01:26<00:00, 15.93it/s]"
     ]
    },
    {
     "name": "stdout",
     "output_type": "stream",
     "text": [
      "Run:\n",
      "phy template-gui  /media/ubuntu/sda/mouse_test/sorted/20250910_Janus2_1_250910_110238/phy_folder_for_kilosort/params.py\n"
     ]
    },
    {
     "name": "stderr",
     "output_type": "stream",
     "text": [
      "\n"
     ]
    }
   ],
   "source": [
    "output_folder = '/media/ubuntu/sda/mouse_test/sorted/20250910_Janus2_1_250910_110238'\n",
    "recording_preprocessed = recording_f.save(format=\"binary\")\n",
    "print(recording_preprocessed)\n",
    "\n",
    "sorting_kilosort4 = ss.run_sorter(sorter_name=\"kilosort4\", recording=recording_preprocessed, output_folder=output_folder + \"/kilosort4\")\n",
    "analyzer_kilosort4 = si.create_sorting_analyzer(sorting=sorting_kilosort4, recording=recording_preprocessed, format='binary_folder', folder=output_folder + '/analyzer_kilosort4_binary')\n",
    "\n",
    "extensions_to_compute = [\n",
    "    \"random_spikes\",\n",
    "    \"waveforms\",\n",
    "    \"noise_levels\",\n",
    "    \"templates\",\n",
    "    \"spike_amplitudes\",\n",
    "    \"unit_locations\",\n",
    "    \"spike_locations\",\n",
    "    \"correlograms\",\n",
    "    \"template_similarity\"\n",
    "]\n",
    "\n",
    "extension_params = {\n",
    "    \"unit_locations\": {\"method\": \"center_of_mass\"},\n",
    "    \"spike_locations\": {\"ms_before\": 0.1},\n",
    "    \"correlograms\": {\"bin_ms\": 0.1},\n",
    "    \"template_similarity\": {\"method\": \"cosine_similarity\"}\n",
    "}\n",
    "\n",
    "analyzer_kilosort4.compute(extensions_to_compute, extension_params=extension_params)\n",
    "\n",
    "qm_params = sqm.get_default_qm_params()\n",
    "analyzer_kilosort4.compute(\"quality_metrics\", qm_params)\n",
    "\n",
    "import spikeinterface.exporters as sexp\n",
    "sexp.export_to_phy(analyzer_kilosort4, output_folder + \"/phy_folder_for_kilosort\", verbose=True)"
   ]
  },
  {
   "cell_type": "code",
   "execution_count": 10,
   "id": "19cf6f18",
   "metadata": {},
   "outputs": [
    {
     "name": "stdout",
     "output_type": "stream",
     "text": [
      "Use cache_folder=/tmp/spikeinterface_cache/tmpv1lwlxl5/94TC7UOM\n",
      "write_binary_recording \n",
      "engine=process - n_jobs=1 - samples_per_chunk=20,000 - chunk_memory=1.14 MiB - total_memory=1.14 MiB - chunk_duration=1.00s\n"
     ]
    },
    {
     "name": "stderr",
     "output_type": "stream",
     "text": [
      "write_binary_recording (no parallelization): 100%|██████████| 299/299 [00:06<00:00, 47.58it/s]\n"
     ]
    },
    {
     "name": "stdout",
     "output_type": "stream",
     "text": [
      "BinaryFolderRecording: 30 channels - 20.0kHz - 1 segments - 5,978,624 samples \n",
      "                       298.93s (4.98 minutes) - int16 dtype - 342.10 MiB\n"
     ]
    },
    {
     "name": "stderr",
     "output_type": "stream",
     "text": [
      "100%|██████████| 100/100 [00:06<00:00, 15.01it/s]\n",
      "100%|██████████| 2/2 [00:03<00:00,  1.69s/it]\n",
      "100%|██████████| 100/100 [00:01<00:00, 61.31it/s]\n",
      "100%|██████████| 2/2 [00:02<00:00,  1.17s/it]\n",
      "estimate_sparsity (no parallelization): 100%|██████████| 299/299 [00:00<00:00, 29548.49it/s]\n",
      "compute_waveforms (no parallelization): 100%|██████████| 299/299 [00:08<00:00, 35.43it/s]\n",
      "noise_level (no parallelization): 100%|██████████| 20/20 [00:00<00:00, 273.27it/s]\n",
      "Compute : spike_amplitudes + spike_locations (no parallelization): 100%|██████████| 299/299 [00:00<00:00, 634.05it/s]\n",
      "noise_level (no parallelization): 100%|██████████| 20/20 [00:00<00:00, 1762.76it/s]\n",
      "write_binary_recording (no parallelization): 100%|██████████| 299/299 [00:10<00:00, 28.20it/s]\n",
      "Fitting PCA: 100%|██████████| 23/23 [00:00<00:00, 111.86it/s]\n",
      "Projecting waveforms: 100%|██████████| 23/23 [00:00<00:00, 2036.84it/s]\n",
      "extract PCs (no parallelization): 100%|██████████| 299/299 [00:11<00:00, 24.95it/s]"
     ]
    },
    {
     "name": "stdout",
     "output_type": "stream",
     "text": [
      "Run:\n",
      "phy template-gui  /media/ubuntu/sda/mouse_test/sorted/20250909_Janus_3_250909_151329/phy_folder_for_kilosort/params.py\n"
     ]
    },
    {
     "name": "stderr",
     "output_type": "stream",
     "text": [
      "\n"
     ]
    }
   ],
   "source": [
    "file_list = os.listdir(f\"/media/ubuntu/sda/mouse_test/raw_data/20250909Janus/20250909_Janus_3_250909_151329\")\n",
    "file_list.remove(\"settings.xml\")\n",
    "recording_raw_list = []\n",
    "for file in file_list:\n",
    "    recording_raw_list.append(se.read_intan(f\"/media/ubuntu/sda/mouse_test/raw_data/20250909Janus/20250909_Janus_3_250909_151329/{file}\", stream_id= '0'))\n",
    "recording_raw = concatenate_recordings(recording_list=recording_raw_list)\n",
    "\n",
    "recording_recorded = spre.bandpass_filter(recording_raw, freq_min=300, freq_max=3000)\n",
    "recording_recorded = spre.notch_filter(recording_recorded, freq=50)\n",
    "recording_f = spre.common_reference(recording_recorded, reference=\"global\", operator=\"median\")\n",
    "\n",
    "probe_30channel = read_probeinterface('/media/ubuntu/sda/mouse_test/probe/tip_probe.json')\n",
    "recording_f = recording_f.set_probegroup(probe_30channel)\n",
    "\n",
    "output_folder = '/media/ubuntu/sda/mouse_test/sorted/20250909_Janus_3_250909_151329'\n",
    "recording_preprocessed = recording_f.save(format=\"binary\")\n",
    "print(recording_preprocessed)\n",
    "\n",
    "sorting_kilosort4 = ss.run_sorter(sorter_name=\"kilosort4\", recording=recording_preprocessed, output_folder=output_folder + \"/kilosort4\")\n",
    "analyzer_kilosort4 = si.create_sorting_analyzer(sorting=sorting_kilosort4, recording=recording_preprocessed, format='binary_folder', folder=output_folder + '/analyzer_kilosort4_binary')\n",
    "\n",
    "extensions_to_compute = [\n",
    "    \"random_spikes\",\n",
    "    \"waveforms\",\n",
    "    \"noise_levels\",\n",
    "    \"templates\",\n",
    "    \"spike_amplitudes\",\n",
    "    \"unit_locations\",\n",
    "    \"spike_locations\",\n",
    "    \"correlograms\",\n",
    "    \"template_similarity\"\n",
    "]\n",
    "\n",
    "extension_params = {\n",
    "    \"unit_locations\": {\"method\": \"center_of_mass\"},\n",
    "    \"spike_locations\": {\"ms_before\": 0.1},\n",
    "    \"correlograms\": {\"bin_ms\": 0.1},\n",
    "    \"template_similarity\": {\"method\": \"cosine_similarity\"}\n",
    "}\n",
    "\n",
    "analyzer_kilosort4.compute(extensions_to_compute, extension_params=extension_params)\n",
    "\n",
    "qm_params = sqm.get_default_qm_params()\n",
    "analyzer_kilosort4.compute(\"quality_metrics\", qm_params)\n",
    "\n",
    "import spikeinterface.exporters as sexp\n",
    "sexp.export_to_phy(analyzer_kilosort4, output_folder + \"/phy_folder_for_kilosort\", verbose=True)"
   ]
  }
 ],
 "metadata": {
  "kernelspec": {
   "display_name": "spike_sorting_jct",
   "language": "python",
   "name": "python3"
  },
  "language_info": {
   "codemirror_mode": {
    "name": "ipython",
    "version": 3
   },
   "file_extension": ".py",
   "mimetype": "text/x-python",
   "name": "python",
   "nbconvert_exporter": "python",
   "pygments_lexer": "ipython3",
   "version": "3.11.13"
  }
 },
 "nbformat": 4,
 "nbformat_minor": 5
}
