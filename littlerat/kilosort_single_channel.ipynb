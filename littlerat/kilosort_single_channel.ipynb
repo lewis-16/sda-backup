{
 "cells": [
  {
   "cell_type": "code",
   "execution_count": 109,
   "metadata": {},
   "outputs": [],
   "source": [
    "import sys\n",
    "import spikeinterface as si\n",
    "import matplotlib.pyplot as plt\n",
    "import spikeinterface.extractors as se\n",
    "import spikeinterface.preprocessing as spre\n",
    "import spikeinterface.sorters as ss\n",
    "import spikeinterface.widgets as sw\n",
    "import spikeinterface.qualitymetrics as sqm\n",
    "import json\n",
    "import probeinterface\n",
    "\n",
    "from probeinterface import Probe, ProbeGroup\n",
    "from probeinterface.plotting import plot_probe, plot_probegroup\n",
    "from probeinterface import generate_dummy_probe, generate_linear_probe\n",
    "from probeinterface import write_probeinterface, read_probeinterface\n",
    "from probeinterface import write_prb, read_prb\n",
    "import os\n",
    "import numpy as np\n",
    "from spikeinterface.core import concatenate_recordings\n",
    "import seaborn as sns\n",
    "import spikeinterface.exporters as sexp\n"
   ]
  },
  {
   "cell_type": "code",
   "execution_count": 110,
   "metadata": {},
   "outputs": [],
   "source": [
    "file_list = os.listdir(f\"/media/ubuntu/sda/littlerat/raw_data/rhs/20250616littlerat_12_250616_170910\")\n",
    "file_list.remove(\"settings.xml\")\n",
    "recording_raw_list = []\n",
    "for file in file_list:\n",
    "    recording_raw_list.append(se.read_intan(f\"/media/ubuntu/sda/littlerat/raw_data/rhs/20250616littlerat_12_250616_170910/{file}\", stream_id= '0'))\n",
    "recording_raw = concatenate_recordings(recording_list=recording_raw_list)\n",
    "recording_recorded = recording_raw.remove_channels(['A-001', 'A-031'])"
   ]
  },
  {
   "cell_type": "code",
   "execution_count": 111,
   "metadata": {},
   "outputs": [],
   "source": [
    "recording_f = spre.bandpass_filter(recording_recorded, freq_min=300, freq_max=750)\n",
    "recording_f = spre.notch_filter(recording_f, freq=50)"
   ]
  },
  {
   "cell_type": "code",
   "execution_count": 112,
   "metadata": {},
   "outputs": [],
   "source": [
    "#recording_f = recording_f.channel_slice(channel_ids=['A-011', 'A-012', 'A-015', 'A-024'])\n",
    "recording_f = recording_f.channel_slice(channel_ids=['A-012', 'A-015'])"
   ]
  },
  {
   "cell_type": "code",
   "execution_count": 113,
   "metadata": {},
   "outputs": [],
   "source": [
    "probe_position = np.array(((0, 0), (0, 200)))\n",
    "#probe_position = np.array(((0, 0), (0, 200), (200, 0), (200, 200)))"
   ]
  },
  {
   "cell_type": "code",
   "execution_count": 114,
   "metadata": {},
   "outputs": [],
   "source": [
    "probe_2d = Probe(ndim=2, si_units='um')\n",
    "probe_2d.set_contacts(positions=probe_position, shapes='circle', shape_params={'radius': 20})\n",
    "probe_2d.create_auto_shape()\n",
    "probe_2d.set_device_channel_indices([0, 1])"
   ]
  },
  {
   "cell_type": "code",
   "execution_count": 115,
   "metadata": {},
   "outputs": [],
   "source": [
    "recording_f = recording_f.set_probegroup(probe_2d)\n",
    "#recording_cmr = spre.common_reference(recording_f, reference=\"\", operator=\"median\")\n"
   ]
  },
  {
   "cell_type": "code",
   "execution_count": 116,
   "metadata": {},
   "outputs": [
    {
     "name": "stdout",
     "output_type": "stream",
     "text": [
      "Use cache_folder=/tmp/spikeinterface_cache/tmpwoqcskua/D6YN7M1G\n",
      "write_binary_recording \n",
      "engine=process - n_jobs=1 - samples_per_chunk=20,000 - chunk_memory=78.12 KiB - total_memory=78.12 KiB - chunk_duration=1.00s\n"
     ]
    },
    {
     "name": "stderr",
     "output_type": "stream",
     "text": [
      "write_binary_recording (no parallelization):   0%|          | 0/1804 [00:00<?, ?it/s]"
     ]
    },
    {
     "name": "stderr",
     "output_type": "stream",
     "text": [
      "write_binary_recording (no parallelization): 100%|██████████| 1804/1804 [00:04<00:00, 417.08it/s]\n",
      "/tmp/ipykernel_76086/365932873.py:4: DeprecationWarning: `output_folder` is deprecated and will be removed in version 0.103.0 Please use folder instead\n",
      "  sorting_kilosort4 = ss.run_sorter(sorter_name=\"kilosort4\", recording=recording_preprocessed, output_folder=output_folder + \"/kilosort4\",\n",
      "/home/ubuntu/.conda/envs/spike_sorting_jct/lib/python3.11/site-packages/kilosort/run_kilosort.py:488: UserWarning: \n",
      "            Parameter `nearest_chans` must be less than or equal to the number \n",
      "            of data channels being sorted.\n",
      "\n",
      "            Changing from 10 to 2.\n",
      "            \n",
      "  warnings.warn(msg, UserWarning)\n",
      "100%|██████████| 602/602 [00:07<00:00, 85.44it/s] \n",
      "100%|██████████| 1/1 [00:31<00:00, 31.73s/it]\n",
      "100%|██████████| 602/602 [00:04<00:00, 122.47it/s]\n",
      "100%|██████████| 1/1 [01:30<00:00, 90.80s/it]\n",
      "estimate_sparsity (no parallelization): 100%|██████████| 1804/1804 [00:00<00:00, 125161.68it/s]\n",
      "/home/ubuntu/.conda/envs/spike_sorting_jct/lib/python3.11/site-packages/spikeinterface/core/basesorting.py:261: UserWarning: The registered recording will not be persistent on disk, but only available in memory\n",
      "  warnings.warn(\"The registered recording will not be persistent on disk, but only available in memory\")\n",
      "compute_waveforms (no parallelization): 100%|██████████| 1804/1804 [00:08<00:00, 207.49it/s]\n",
      "noise_level (no parallelization): 100%|██████████| 20/20 [00:00<00:00, 2654.79it/s]\n",
      "Compute : spike_amplitudes + spike_locations (no parallelization):   5%|▌         | 97/1804 [00:00<00:01, 960.95it/s]/home/ubuntu/.conda/envs/spike_sorting_jct/lib/python3.11/site-packages/spikeinterface/sortingcomponents/peak_localization.py:223: RuntimeWarning: invalid value encountered in divide\n",
      "  coms = np.dot(wf_data, local_contact_locations) / (np.sum(wf_data, axis=1)[:, np.newaxis])\n",
      "Compute : spike_amplitudes + spike_locations (no parallelization): 100%|██████████| 1804/1804 [00:01<00:00, 957.46it/s] \n",
      "noise_level (no parallelization): 100%|██████████| 20/20 [00:00<00:00, 3358.94it/s]\n",
      "write_binary_recording (no parallelization): 100%|██████████| 1804/1804 [00:58<00:00, 30.72it/s]\n",
      "Fitting PCA: 100%|██████████| 2/2 [00:00<00:00,  3.81it/s]\n",
      "Projecting waveforms: 100%|██████████| 2/2 [00:00<00:00, 1766.02it/s]\n",
      "extract PCs (no parallelization): 100%|██████████| 1804/1804 [00:26<00:00, 67.67it/s] "
     ]
    },
    {
     "name": "stdout",
     "output_type": "stream",
     "text": [
      "Run:\n",
      "phy template-gui  /media/ubuntu/sda/littlerat/test_littlerat/phy_folder_for_kilosort/params.py\n"
     ]
    },
    {
     "name": "stderr",
     "output_type": "stream",
     "text": [
      "\n"
     ]
    }
   ],
   "source": [
    "recording_preprocessed = recording_f.save(format=\"binary\")\n",
    "\n",
    "output_folder = '/media/ubuntu/sda/littlerat/test_littlerat'\n",
    "sorting_kilosort4 = ss.run_sorter(sorter_name=\"kilosort4\", recording=recording_preprocessed, output_folder=output_folder + \"/kilosort4\", \n",
    "                                  Th_universal = 8, Th_learned = 7, Th_single_ch = 5)\n",
    "analyzer_kilosort4 = si.create_sorting_analyzer(sorting=sorting_kilosort4, recording=recording_preprocessed, format='binary_folder', folder=output_folder + '/analyzer_kilosort4_binary')\n",
    "\n",
    "extensions_to_compute = [\n",
    "    \"random_spikes\",\n",
    "    \"waveforms\",\n",
    "    \"noise_levels\",\n",
    "    \"templates\",\n",
    "    \"spike_amplitudes\",\n",
    "    \"unit_locations\",\n",
    "    \"spike_locations\",\n",
    "    \"correlograms\",\n",
    "    \"template_similarity\"\n",
    "]\n",
    "\n",
    "extension_params = {\n",
    "    \"unit_locations\": {\"method\": \"center_of_mass\"},\n",
    "    \"spike_locations\": {\"ms_before\": 0.1},\n",
    "    \"correlograms\": {\"bin_ms\": 0.1},\n",
    "    \"template_similarity\": {\"method\": \"cosine_similarity\"}\n",
    "}\n",
    "\n",
    "analyzer_kilosort4.compute(extensions_to_compute, extension_params=extension_params)\n",
    "\n",
    "qm_params = sqm.get_default_qm_params()\n",
    "analyzer_kilosort4.compute(\"quality_metrics\", qm_params)\n",
    "\n",
    "sexp.export_to_phy(analyzer_kilosort4, output_folder + \"/phy_folder_for_kilosort\", verbose=True)\n",
    "    "
   ]
  }
 ],
 "metadata": {
  "kernelspec": {
   "display_name": "spike_sorting_jct",
   "language": "python",
   "name": "python3"
  },
  "language_info": {
   "codemirror_mode": {
    "name": "ipython",
    "version": 3
   },
   "file_extension": ".py",
   "mimetype": "text/x-python",
   "name": "python",
   "nbconvert_exporter": "python",
   "pygments_lexer": "ipython3",
   "version": "3.11.0"
  }
 },
 "nbformat": 4,
 "nbformat_minor": 2
}
