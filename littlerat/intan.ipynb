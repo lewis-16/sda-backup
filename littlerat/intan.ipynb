{
 "cells": [
  {
   "cell_type": "code",
   "execution_count": 5,
   "metadata": {},
   "outputs": [],
   "source": [
    "import numpy as np\n",
    "import pyintan\n",
    "from pathlib import Path\n",
    "import os\n",
    "import seaborn as sns"
   ]
  },
  {
   "cell_type": "code",
   "execution_count": 2,
   "metadata": {},
   "outputs": [],
   "source": [
    "file_list = os.listdir(\"/media/ubuntu/sda/littlerat/raw_data/rhs/Intan_Recordings\")\n"
   ]
  },
  {
   "cell_type": "code",
   "execution_count": null,
   "metadata": {},
   "outputs": [],
   "source": [
    "result = pyintan.File('/media/ubuntu/sda/littlerat/raw_data/rhs/Intan_Recordings/20250616littlerat_12_250616_170910/20250616littlerat_12_250616_170910.rhs')\n"
   ]
  },
  {
   "cell_type": "code",
   "execution_count": 27,
   "metadata": {},
   "outputs": [
    {
     "name": "stdout",
     "output_type": "stream",
     "text": [
      "(32, 1200000)\n",
      "(32, 1200000)\n",
      "(32, 1200000)\n",
      "(32, 1200000)\n",
      "(32, 1200000)\n",
      "(32, 1200000)\n",
      "(32, 1200000)\n",
      "(32, 1200000)\n",
      "(32, 1200000)\n",
      "(32, 1200000)\n",
      "(32, 1200000)\n",
      "(32, 1200000)\n",
      "(32, 1200000)\n",
      "(32, 1200000)\n",
      "(32, 1200000)\n",
      "(32, 1200000)\n",
      "(32, 1200000)\n",
      "(32, 1200000)\n",
      "(32, 1200000)\n",
      "(32, 1200000)\n",
      "(32, 1200000)\n",
      "(32, 1200000)\n",
      "(32, 1200000)\n",
      "(32, 1200000)\n",
      "(32, 1200000)\n",
      "(32, 1200000)\n",
      "(32, 1200000)\n",
      "(32, 1200000)\n",
      "(32, 1200000)\n",
      "(32, 1200000)\n",
      "(32, 68224)\n"
     ]
    }
   ],
   "source": [
    "folder = '20250616littlerat_12_250616_170910'\n",
    "input_dir = Path(f'/media/ubuntu/sda/littlerat/raw_data/rhs/Intan_Recordings/{folder}')\n",
    "rhs_files = sorted(input_dir.glob(\"*.rhs\"))\n",
    "if not rhs_files:\n",
    "    raise FileNotFoundError(\"未找到.rhs文件\")\n",
    "\n",
    "all_data = []\n",
    "\n",
    "for file in rhs_files:\n",
    "    #print(f\"读取: {file.name}\")\n",
    "    result = pyintan.File(file)\n",
    "\n",
    "    all_data.append(result.analog_signals[0].signal)\n",
    "    print(result.analog_signals[0].signal.shape)"
   ]
  },
  {
   "cell_type": "code",
   "execution_count": 29,
   "metadata": {},
   "outputs": [
    {
     "data": {
      "text/plain": [
       "(32, 36068224)"
      ]
     },
     "execution_count": 29,
     "metadata": {},
     "output_type": "execute_result"
    }
   ],
   "source": [
    "merged_data.shape\n"
   ]
  },
  {
   "cell_type": "code",
   "execution_count": 37,
   "metadata": {},
   "outputs": [],
   "source": [
    "b = merged_data[:, :2000]"
   ]
  },
  {
   "cell_type": "code",
   "execution_count": 36,
   "metadata": {},
   "outputs": [],
   "source": [
    "a = result.analog_signals[0].signal[:, -2000:]"
   ]
  },
  {
   "cell_type": "code",
   "execution_count": 38,
   "metadata": {},
   "outputs": [],
   "source": [
    "# 打开一个二进制文件\n",
    "with open('/media/ubuntu/sda/littlerat/raw_data/merged_data/20250616littlerat_12_250616_170910.bin', 'rb') as file:\n",
    "# 读取文件的全部内容\n",
    "    content = file.read()"
   ]
  },
  {
   "cell_type": "code",
   "execution_count": 42,
   "metadata": {},
   "outputs": [],
   "source": [
    "data = np.fromfile('/media/ubuntu/sda/littlerat/raw_data/merged_data/20250616littlerat_12_250616_170910.bin')"
   ]
  },
  {
   "cell_type": "code",
   "execution_count": 44,
   "metadata": {},
   "outputs": [
    {
     "data": {
      "text/plain": [
       "(577091584,)"
      ]
     },
     "execution_count": 44,
     "metadata": {},
     "output_type": "execute_result"
    }
   ],
   "source": [
    "data.shape"
   ]
  },
  {
   "cell_type": "code",
   "execution_count": 43,
   "metadata": {},
   "outputs": [
    {
     "ename": "IndexError",
     "evalue": "too many indices for array: array is 1-dimensional, but 2 were indexed",
     "output_type": "error",
     "traceback": [
      "\u001b[0;31m---------------------------------------------------------------------------\u001b[0m",
      "\u001b[0;31mIndexError\u001b[0m                                Traceback (most recent call last)",
      "Cell \u001b[0;32mIn[43], line 1\u001b[0m\n\u001b[0;32m----> 1\u001b[0m c \u001b[38;5;241m=\u001b[39m \u001b[43mdata\u001b[49m\u001b[43m[\u001b[49m\u001b[43m:\u001b[49m\u001b[43m,\u001b[49m\u001b[43m \u001b[49m\u001b[43m:\u001b[49m\u001b[38;5;241;43m2000\u001b[39;49m\u001b[43m]\u001b[49m\n",
      "\u001b[0;31mIndexError\u001b[0m: too many indices for array: array is 1-dimensional, but 2 were indexed"
     ]
    }
   ],
   "source": [
    "c = data[:, :2000]"
   ]
  },
  {
   "cell_type": "code",
   "execution_count": null,
   "metadata": {},
   "outputs": [
    {
     "name": "stdout",
     "output_type": "stream",
     "text": [
      "记录文件通道数： 32\n",
      "记录文件采样数： 36864\n",
      "正在保存文件: 20250616littlerat_3_250616_103936...\n",
      "记录文件通道数： 32\n",
      "记录文件采样数： 36111104\n",
      "正在保存文件: 20250616littlerat_4_250616_175448...\n",
      "记录文件通道数： 32\n",
      "记录文件采样数： 813824\n",
      "正在保存文件: 20250616littlerat_3_250616_103529...\n",
      "记录文件通道数： 32\n",
      "记录文件采样数： 6333184\n",
      "正在保存文件: 20250616littlerat_6_250616_10571_5_min...\n",
      "记录文件通道数： 32\n",
      "记录文件采样数： 35982464\n",
      "正在保存文件: 20250616littlerat_6_250616_183017...\n",
      "记录文件通道数： 32\n",
      "记录文件采样数： 36068224\n",
      "正在保存文件: 20250616littlerat_12_250616_170910...\n",
      "记录文件通道数： 32\n",
      "记录文件采样数： 36610944\n",
      "正在保存文件: 20250616littlerat_10-1_250616_154147...\n",
      "记录文件通道数： 32\n",
      "记录文件采样数： 48744064\n",
      "正在保存文件: 20250616littlerat_8_250616_141633...\n",
      "记录文件通道数： 32\n",
      "记录文件采样数： 5969024\n",
      "正在保存文件: 20250616littlerat_7_250616_111947_5_min...\n",
      "记录文件通道数： 32\n",
      "记录文件采样数： 36161024\n",
      "正在保存文件: 20250616littlerat_11_250616_162657...\n",
      "记录文件通道数： 32\n",
      "记录文件采样数： 2377984\n",
      "正在保存文件: 20250616littlerat_8_250616_141414...\n",
      "记录文件通道数： 32\n",
      "记录文件采样数： 29067264\n",
      "正在保存文件: 20250616littlerat_10-1_250616_151719_no_filter...\n",
      "记录文件通道数： 32\n",
      "记录文件采样数： 302464\n",
      "正在保存文件: 20250616littlerat_8_250616_141100...\n"
     ]
    }
   ],
   "source": [
    "output_bin_dir = Path(\"/media/ubuntu/sda/littlerat/raw_data/merged_data\")\n",
    "for folder in file_list:\n",
    "    input_dir = Path(f'/media/ubuntu/sda/littlerat/raw_data/rhs/Intan_Recordings/{folder}')\n",
    "    rhs_files = sorted(input_dir.glob(\"*.rhs\"))\n",
    "    if not rhs_files:\n",
    "        raise FileNotFoundError(\"未找到.rhs文件\")\n",
    "    \n",
    "    all_data = []\n",
    "\n",
    "    for file in rhs_files:\n",
    "        #print(f\"读取: {file.name}\")\n",
    "        result = pyintan.File(file)\n",
    "\n",
    "        all_data.append(result.analog_signals[0].signal)\n",
    "        print(result.analog_signals[0].signal.shape())\n",
    "\n",
    "    merged_data = np.hstack(all_data)\n",
    "    print(f'记录文件通道数： {merged_data.shape[0]}')\n",
    "    print(f'记录文件采样数： {merged_data.shape[1]}')\n",
    "\n",
    "    print(f'正在保存文件: {folder}...')\n",
    "\n",
    "    with open(f'{output_bin_dir}/{folder}.bin', 'wb') as bin_file:\n",
    "        merged_data.tofile(f'{output_bin_dir}/{folder}.bin')"
   ]
  }
 ],
 "metadata": {
  "kernelspec": {
   "display_name": "spike_sorting_jct",
   "language": "python",
   "name": "python3"
  },
  "language_info": {
   "codemirror_mode": {
    "name": "ipython",
    "version": 3
   },
   "file_extension": ".py",
   "mimetype": "text/x-python",
   "name": "python",
   "nbconvert_exporter": "python",
   "pygments_lexer": "ipython3",
   "version": "3.10.0"
  }
 },
 "nbformat": 4,
 "nbformat_minor": 2
}
