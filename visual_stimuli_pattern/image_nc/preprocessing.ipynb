{
 "cells": [
  {
   "cell_type": "code",
   "execution_count": 1,
   "id": "7a4e0946",
   "metadata": {},
   "outputs": [
    {
     "name": "stdout",
     "output_type": "stream",
     "text": [
      "dict_keys(['__header__', '__version__', '__globals__', 'img', 'istim', 'iorig'])\n"
     ]
    }
   ],
   "source": [
    "from scipy.io import loadmat\n",
    " \n",
    "path = r\"/media/ubuntu/sda/visual_stimuli_pattern/image_nc/nat60k_text16.mat\"  # mat文件路径\n",
    "data = loadmat(path)  # 读取mat文件\n",
    "print(data.keys())"
   ]
  },
  {
   "cell_type": "code",
   "execution_count": 22,
   "id": "6fa8ea7e",
   "metadata": {},
   "outputs": [],
   "source": [
    "import cv2\n",
    "\n",
    "def process_and_save_images_cv(image_set, start_index, end_index, prefix):\n",
    "    for i in range(start_index, end_index):\n",
    "        img = image_set[:, :, i]\n",
    "        resized = cv2.resize(img, (256, 144), interpolation=cv2.INTER_LANCZOS4)\n",
    "        cv2.imwrite(f'/media/ubuntu/sda/visual_stimuli_pattern/image_nc/{prefix}/{prefix}_{i:05d}.png', resized)"
   ]
  },
  {
   "cell_type": "code",
   "execution_count": 23,
   "id": "d6a7aa6f",
   "metadata": {},
   "outputs": [],
   "source": [
    "process_and_save_images_cv(data['img'], start_index=30000, end_index=60000, prefix='image_flip')"
   ]
  },
  {
   "cell_type": "code",
   "execution_count": 20,
   "id": "99816029",
   "metadata": {},
   "outputs": [],
   "source": [
    "process_and_save_images_cv(data['img'], start_index=60000, end_index=68000, prefix='texture')"
   ]
  },
  {
   "cell_type": "code",
   "execution_count": 18,
   "id": "30f6ba4c",
   "metadata": {},
   "outputs": [
    {
     "data": {
      "text/plain": [
       "(66, 264, 68000)"
      ]
     },
     "execution_count": 18,
     "metadata": {},
     "output_type": "execute_result"
    }
   ],
   "source": [
    "data['img'].shape"
   ]
  }
 ],
 "metadata": {
  "kernelspec": {
   "display_name": "spike_sorting_jct",
   "language": "python",
   "name": "python3"
  },
  "language_info": {
   "codemirror_mode": {
    "name": "ipython",
    "version": 3
   },
   "file_extension": ".py",
   "mimetype": "text/x-python",
   "name": "python",
   "nbconvert_exporter": "python",
   "pygments_lexer": "ipython3",
   "version": "3.11.13"
  }
 },
 "nbformat": 4,
 "nbformat_minor": 5
}
