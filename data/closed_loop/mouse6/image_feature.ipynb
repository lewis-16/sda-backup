{
 "cells": [
  {
   "cell_type": "code",
   "execution_count": 1,
   "metadata": {},
   "outputs": [],
   "source": [
    "import os\n",
    "import numpy as np\n",
    "from PIL import Image\n",
    "import torch\n",
    "from torch.utils.data import DataLoader, Dataset\n",
    "import torch.nn as nn\n",
    "from sklearn.model_selection import train_test_split\n",
    "import pandas as pd"
   ]
  },
  {
   "cell_type": "code",
   "execution_count": 2,
   "metadata": {},
   "outputs": [
    {
     "name": "stderr",
     "output_type": "stream",
     "text": [
      "/home/ubuntu/.conda/envs/visual_decoding/lib/python3.13/site-packages/tqdm/auto.py:21: TqdmWarning: IProgress not found. Please update jupyter and ipywidgets. See https://ipywidgets.readthedocs.io/en/stable/user_install.html\n",
      "  from .autonotebook import tqdm as notebook_tqdm\n"
     ]
    }
   ],
   "source": [
    "device = 'cuda'\n",
    "import open_clip\n",
    "\n",
    "model_type = 'ViT-H-14'\n",
    "\n",
    "vlmodel, preprocess_train, feature_extractor = open_clip.create_model_and_transforms(\n",
    "    'ViT-H-14', pretrained = '/home/ubuntu/Downloads/open_clip_pytorch_model.bin', device = device\n",
    ")"
   ]
  },
  {
   "cell_type": "code",
   "execution_count": 4,
   "metadata": {},
   "outputs": [],
   "source": [
    "def load_ep_data(image_folderpath, vlmodel, preprocess_train, batch_size=20):    \n",
    "    image_list = []\n",
    "    image_label_list = []\n",
    "    \n",
    "    for image_dir in os.listdir(image_folderpath):\n",
    "        image_label = image_dir.split(\".\")[0]\n",
    "        image = Image.open(os.path.join(image_folderpath, f\"{image_label}.jpg\")).convert(\"L\")\n",
    "        image_label = int(image_label) - 1\n",
    "        \n",
    "        image_list.append(image)\n",
    "        image_label_list.append(image_label)\n",
    "    \n",
    "    def image_encoder(images, vlmodel, preprocess, batch_size):\n",
    "        features = []\n",
    "        for i in range(0, len(images), batch_size):\n",
    "            batch_images = images[i:i+batch_size]\n",
    "            batch_input = torch.stack([preprocess(img) for img in batch_images]).to('cuda')\n",
    "            with torch.no_grad():\n",
    "                batch_features = vlmodel.encode_image(batch_input)\n",
    "                batch_features /= batch_features.norm(dim=-1, keepdim=True)\n",
    "            features.append(batch_features.cpu())\n",
    "        return torch.cat(features)\n",
    "    \n",
    "    image_features = image_encoder(image_list, vlmodel, preprocess_train, batch_size)\n",
    "    return image_list, image_label_list, image_features"
   ]
  },
  {
   "cell_type": "code",
   "execution_count": 17,
   "metadata": {},
   "outputs": [],
   "source": [
    "image_list, image_label_list, image_features = load_ep_data(\"/media/ubuntu/sda/data/trigger/NaturalImages_new_2\", vlmodel=vlmodel, preprocess_train=preprocess_train)"
   ]
  },
  {
   "cell_type": "code",
   "execution_count": 19,
   "metadata": {},
   "outputs": [],
   "source": [
    "image_feature_list = {}\n",
    "for i in range(len(image_label_list)):\n",
    "    image_feature_list[image_label_list[i]] = image_features[i]"
   ]
  },
  {
   "cell_type": "code",
   "execution_count": 23,
   "metadata": {},
   "outputs": [],
   "source": [
    "import pickle\n",
    "with open(\"image_feature_list.pkl\", 'wb') as f:\n",
    "    pickle.dump(image_feature_list,f)"
   ]
  }
 ],
 "metadata": {
  "kernelspec": {
   "display_name": "Python 3",
   "language": "python",
   "name": "python3"
  },
  "language_info": {
   "codemirror_mode": {
    "name": "ipython",
    "version": 3
   },
   "file_extension": ".py",
   "mimetype": "text/x-python",
   "name": "python",
   "nbconvert_exporter": "python",
   "pygments_lexer": "ipython3",
   "version": "3.13.2"
  }
 },
 "nbformat": 4,
 "nbformat_minor": 2
}
