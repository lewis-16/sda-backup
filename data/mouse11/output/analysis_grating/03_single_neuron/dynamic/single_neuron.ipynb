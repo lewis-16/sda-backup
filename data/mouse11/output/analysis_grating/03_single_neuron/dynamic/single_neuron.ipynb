{
 "cells": [
  {
   "cell_type": "code",
   "execution_count": 1,
   "metadata": {},
   "outputs": [],
   "source": [
    "import numpy as np\n",
    "import pandas as pd\n",
    "import seaborn as sns\n",
    "import warnings\n",
    "warnings.filterwarnings('ignore')\n",
    "import spikeinterface as si\n",
    "import matplotlib.pyplot as plt\n",
    "import os\n",
    "from matplotlib.backends.backend_pdf import PdfPages\n",
    "import torch\n",
    "import torch.nn.functional as F\n"
   ]
  },
  {
   "cell_type": "code",
   "execution_count": 2,
   "metadata": {},
   "outputs": [],
   "source": [
    "select_neurons = ['Neuron_1', 'Neuron_3', \"Neuron_5\", \"Neuron_6\",\"Neuron_7\", \"Neuron_8\",\n",
    "                  'Neuron_10', 'Neuron_11', 'Neuron_12', \"Neuron_14\",\"Neuron_13\",\n",
    "                  'Neuron_16', \"Neuron_18\", \"Neuron_20\",\"Neuron_22\", \"Neuron_26\", \"Neuron_25\", \"Neuron_27\", \"Neuron_29\",\"Neuron_28\"]\n",
    "\n",
    "spike_inf = pd.read_csv(\"/media/ubuntu/sda/data/mouse11/output/analysis_grating/02_merge_new/spike_inf_refinhe.tsv\", sep = '\\t')\n",
    "cluster_inf = pd.read_csv(\"/media/ubuntu/sda/data/mouse11/output/analysis_grating/02_merge_new/clusteri_inf_refinhe.tsv\", sep = '\\t')"
   ]
  },
  {
   "cell_type": "code",
   "execution_count": 3,
   "metadata": {},
   "outputs": [],
   "source": [
    "trigger_time = pd.read_csv(\"/media/ubuntu/sda/data/mouse11/output/analysis_grating/01_get_trigger/trigger_time_dynamic.tsv\", sep = '\\t').iloc[:, 1:]\n",
    "\n",
    "import pickle\n",
    "with open('/media/ubuntu/sda/data/mouse11/output/analysis_grating/02_merge_new/outlier_dynamic.pkl', 'rb') as f:\n",
    "    outlier = pickle.load(f)\n"
   ]
  },
  {
   "cell_type": "code",
   "execution_count": 4,
   "metadata": {},
   "outputs": [],
   "source": [
    "trigger_time['start'] = trigger_time['start'] + 10000\n",
    "trigger_time['expand_end'] = trigger_time['start'] + 25000\n",
    "trigger_time['end'] = trigger_time['start'] + 20000\n",
    "trigger_time['expand_start'] = trigger_time['start'] - 5000"
   ]
  },
  {
   "cell_type": "code",
   "execution_count": 5,
   "metadata": {},
   "outputs": [],
   "source": [
    "for i in outlier:\n",
    "    date = i.split(\"_\")[0]\n",
    "    image = i.split(\"_\")[1] + \"_\" + i.split(\"_\")[2]\n",
    "    trigger_time = trigger_time[~((trigger_time['date'] == int(date)) & (trigger_time['order'] == image))]"
   ]
  },
  {
   "cell_type": "code",
   "execution_count": 6,
   "metadata": {},
   "outputs": [],
   "source": [
    "date_order = ['030122', '032322', '042322', '052322', '052422', '062422', '072322', '082322', '092222', '112822', '122322', '012123', '022423', '032323',\n",
    "              '042323', '052423', '062323', '072123']"
   ]
  },
  {
   "cell_type": "code",
   "execution_count": 7,
   "metadata": {},
   "outputs": [],
   "source": [
    "filter_outlier = {}\n",
    "with PdfPages(\"raster_overall.pdf\") as pdf:\n",
    "    for neuron in spike_inf['Neuron'].unique():\n",
    "        filter_outlier[neuron] = []\n",
    "        neuron_df = spike_inf[spike_inf['Neuron'] == neuron]\n",
    "\n",
    "        fig, ax = plt.subplots(figsize = (12, 7.5))\n",
    "        for index, row in trigger_time.iterrows():\n",
    "            date = row['date']\n",
    "            image_order = row['order']\n",
    "            start = row['expand_start'] \n",
    "            end = row['expand_end']\n",
    "            \n",
    "            filtered_spikes = neuron_df[(neuron_df['date'] == date) & \n",
    "                                        (neuron_df['time'] >= start) & \n",
    "                                        (neuron_df['time'] <= end)]\n",
    "            \n",
    "            if not filtered_spikes.empty:\n",
    "                ax.plot(filtered_spikes['time'] - start, [index] * len(filtered_spikes), marker='|', mew=1, markersize=3, ls='', color='k')\n",
    "            else:\n",
    "                filter_outlier[neuron].append(index)\n",
    "\n",
    "        ax.set_yticks([])\n",
    "        #ax.axvspan(1 + (5000 - 1) * 0.5, 1 + (5000 - 1), color='gray', alpha=0.3)\n",
    "\n",
    "        ax.set_xlabel('time (s)')\n",
    "        ax.set_ylabel(\"\")\n",
    "        ax.set_title(f'Raster Plot for {neuron}')\n",
    "\n",
    "        pdf.savefig(fig)\n",
    "        plt.close()"
   ]
  },
  {
   "cell_type": "code",
   "execution_count": 8,
   "metadata": {},
   "outputs": [],
   "source": [
    "from collections import Counter\n",
    "counter = Counter()\n",
    "\n",
    "for key in filter_outlier.keys():\n",
    "    filtered_elements = [item for item in filter_outlier[key]]\n",
    "    counter.update(filtered_elements)\n",
    "\n",
    "filtered_counter = {element: count for element, count in counter.items() if count == 20}\n",
    "filtered_counter = list(filtered_counter.keys())\n",
    "\n",
    "trigger_time = trigger_time.drop(filtered_counter)\n",
    "trigger_time = trigger_time.reset_index(drop = True)"
   ]
  },
  {
   "cell_type": "code",
   "execution_count": 9,
   "metadata": {},
   "outputs": [],
   "source": [
    "filter_outlier = {}\n",
    "with PdfPages(\"raster_overall.pdf\") as pdf:\n",
    "    for neuron in spike_inf['Neuron'].unique():\n",
    "        filter_outlier[neuron] = []\n",
    "        neuron_df = spike_inf[spike_inf['Neuron'] == neuron]\n",
    "\n",
    "        fig, ax = plt.subplots(figsize = (12, 7.5))\n",
    "        for index, row in trigger_time.iterrows():\n",
    "            date = row['date']\n",
    "            image_order = row['order']\n",
    "            start = row['expand_start'] \n",
    "            end = row['expand_end']\n",
    "            \n",
    "            filtered_spikes = neuron_df[(neuron_df['date'] == date) & \n",
    "                                        (neuron_df['time'] >= start) & \n",
    "                                        (neuron_df['time'] <= end)]\n",
    "            \n",
    "            if not filtered_spikes.empty:\n",
    "                ax.plot(filtered_spikes['time'] - start, [index] * len(filtered_spikes), marker='|', mew=1, markersize=3, ls='', color='k')\n",
    "            else:\n",
    "                filter_outlier[neuron].append(index)\n",
    "\n",
    "        ax.set_yticks([])\n",
    "        #ax.axvspan(1 + (5000 - 1) * 0.5, 1 + (5000 - 1), color='gray', alpha=0.3)\n",
    "\n",
    "        ax.set_xlabel('time (s)')\n",
    "        ax.set_ylabel(\"\")\n",
    "        ax.set_title(f'Raster Plot for {neuron}')\n",
    "\n",
    "        pdf.savefig(fig)\n",
    "        plt.close()"
   ]
  },
  {
   "cell_type": "code",
   "execution_count": 10,
   "metadata": {},
   "outputs": [],
   "source": [
    "with PdfPages(\"raster_split_image.pdf\") as pdf:\n",
    "    for neuron in spike_inf['Neuron'].unique():\n",
    "        neuron_df = spike_inf[spike_inf['Neuron'] == neuron]\n",
    "\n",
    "\n",
    "        fig, axs = plt.subplots(3, 4, figsize=(20, 15), sharex=True, sharey=True)\n",
    "        fig.subplots_adjust(hspace=0.5, wspace=0.5)\n",
    "\n",
    "        for image in range(1, 13):  \n",
    "            ax = axs[(image - 1) // 4, (image - 1) % 4]  \n",
    "            trigger_time_temp = trigger_time[trigger_time['image'] == image]\n",
    "\n",
    "            for index, row in trigger_time_temp.iterrows():\n",
    "                date = row['date']\n",
    "                image_order = row['order']\n",
    "                start = row['expand_start'] \n",
    "                end = row['expand_end'] \n",
    "\n",
    "                filtered_spikes = neuron_df[(neuron_df['date'] == date) & \n",
    "                                            (neuron_df['time'] >= start) & \n",
    "                                            (neuron_df['time'] <= end)]\n",
    "\n",
    "                if not filtered_spikes.empty:\n",
    "                    ax.plot(filtered_spikes['time'] - start, [index] * len(filtered_spikes), \n",
    "                            marker='|', mew=1, markersize=3, ls='', color='k')\n",
    "\n",
    "\n",
    "            ax.set_xticks([])\n",
    "            ax.set_yticks([])\n",
    "\n",
    "        pdf.savefig(fig)\n",
    "        plt.close()"
   ]
  },
  {
   "cell_type": "code",
   "execution_count": 11,
   "metadata": {},
   "outputs": [],
   "source": [
    "mean_spike_rate_dict = {}\n",
    "\n",
    "with PdfPages(\"peth_lineplot_all.pdf\") as pdf:\n",
    "    for neuron in spike_inf['Neuron'].unique():\n",
    "        plt.figure(figsize=(4, 2.5))\n",
    "        spike_rates_all = np.empty((99))\n",
    "\n",
    "        for image in range(1, 13):\n",
    "            neuron_df = spike_inf[spike_inf['Neuron'] == neuron]\n",
    "\n",
    "            dates = trigger_time[trigger_time['image'] == image]['date'].unique()\n",
    "            date_indices = np.arange(len(dates))  \n",
    "\n",
    "            spike_rates = []\n",
    "            std_rates = []\n",
    "\n",
    "            for date in dates:\n",
    "                trigger_time_temp = trigger_time[(trigger_time['image'] == image) & (trigger_time['date'] == date)]\n",
    "                all_spikes = []\n",
    "\n",
    "                for index, row in trigger_time_temp.iterrows():\n",
    "                    start = row['expand_start'] \n",
    "                    end = row['expand_end']\n",
    "\n",
    "                    filtered_spikes = neuron_df[(neuron_df['date'] == date) &\n",
    "                                                (neuron_df['time'] >= start) &\n",
    "                                                (neuron_df['time'] <= end)]\n",
    "\n",
    "                    if not filtered_spikes.empty:\n",
    "                        relative_spikes = filtered_spikes['time'] - start\n",
    "                        all_spikes.extend(relative_spikes)\n",
    "\n",
    "                if all_spikes:\n",
    "                    time_bins = np.linspace(0, max(all_spikes), 100)\n",
    "                    spike_counts, _ = np.histogram(all_spikes, bins=time_bins)\n",
    "                    spike_rate = spike_counts / (time_bins[1] - time_bins[0])\n",
    "                    spike_rates.append(spike_rate)\n",
    "                spike_rates_all = np.vstack((spike_rates_all, spike_rates))\n",
    "\n",
    "        mean_spike_rate = np.mean(spike_rates, axis=0)\n",
    "        std_spike_rate = np.std(spike_rates, axis=0)\n",
    "\n",
    "        plt.plot(time_bins[:-1], mean_spike_rate, color='k', linewidth = 2)\n",
    "        plt.plot(time_bins[:-1], mean_spike_rate - std_spike_rate, color='lightgray', alpha=0.7, linewidth = 1)\n",
    "        plt.plot(time_bins[:-1], mean_spike_rate + std_spike_rate, color='lightgray', alpha=0.7, linewidth = 1)\n",
    "        plt.title(neuron)\n",
    "        plt.xticks([])\n",
    "        plt.yticks([])\n",
    "        pdf.savefig()\n",
    "        plt.close()"
   ]
  },
  {
   "cell_type": "code",
   "execution_count": 12,
   "metadata": {},
   "outputs": [],
   "source": [
    "mean_spike_rate_dict = {}\n",
    "\n",
    "with PdfPages(\"peth_lineplot.pdf\") as pdf:\n",
    "    for image in range(1, 13):\n",
    "        fig, axes = plt.subplots(3, 7, figsize=(15, 9))\n",
    "        axes = axes.flatten()\n",
    "        num = 0\n",
    "        image_mean_spike_rate_data = []\n",
    "        for neuron in spike_inf['Neuron'].unique():\n",
    "            ax = axes[num]\n",
    "            neuron_df = spike_inf[spike_inf['Neuron'] == neuron]\n",
    "\n",
    "            dates = trigger_time[trigger_time['image'] == image]['date'].unique()\n",
    "            date_indices = np.arange(len(dates))  \n",
    "\n",
    "            spike_rates = []\n",
    "            std_rates = []\n",
    "\n",
    "            for date in dates:\n",
    "                trigger_time_temp = trigger_time[(trigger_time['image'] == image) & (trigger_time['date'] == date)]\n",
    "                all_spikes = []\n",
    "\n",
    "                for index, row in trigger_time_temp.iterrows():\n",
    "                    start = row['expand_start']\n",
    "                    end = row['expand_end']\n",
    "\n",
    "                    filtered_spikes = neuron_df[(neuron_df['date'] == date) &\n",
    "                                                (neuron_df['time'] >= start) &\n",
    "                                                (neuron_df['time'] <= end)]\n",
    "\n",
    "                    if not filtered_spikes.empty:\n",
    "                        relative_spikes = filtered_spikes['time'] - start\n",
    "                        all_spikes.extend(relative_spikes)\n",
    "\n",
    "                if all_spikes:\n",
    "                    time_bins = np.linspace(0, max(all_spikes), 100)\n",
    "                    spike_counts, _ = np.histogram(all_spikes, bins=time_bins)\n",
    "                    spike_rate = spike_counts / (time_bins[1] - time_bins[0])\n",
    "                    spike_rates.append(spike_rate)\n",
    "\n",
    "            mean_spike_rate = np.mean(spike_rates, axis=0)\n",
    "            std_spike_rate = np.std(spike_rates, axis=0)\n",
    "\n",
    "            image_mean_spike_rate_data.append({\n",
    "                'Neuron': neuron,\n",
    "                'Mean_Spike_Rate': mean_spike_rate\n",
    "            })\n",
    "\n",
    "            ax.plot(time_bins[:-1], mean_spike_rate, color='k', linewidth = 2)\n",
    "            ax.plot(time_bins[:-1], mean_spike_rate - std_spike_rate, color='lightgray', alpha=0.7, linewidth = 1)\n",
    "            ax.plot(time_bins[:-1], mean_spike_rate + std_spike_rate, color='lightgray', alpha=0.7, linewidth = 1)\n",
    "            #ax.set_ylim(- np.mean(mean_spike_rate) , 2 *np.mean(mean_spike_rate))\n",
    "            #ax.fill_between(time_bins[:-1], mean_spike_rate - std_spike_rate, mean_spike_rate + std_spike_rate, color='lightgray', alpha=0.5, label='Std Deviation')\n",
    "            quarter = (time_bins[-1] - time_bins[0]) * 0.25 + time_bins[0]\n",
    "            three_quarter = (time_bins[-1] - time_bins[0]) * 0.75 + time_bins[0]\n",
    "            ax.annotate(\"\", xy=(quarter, np.max(mean_spike_rate + std_spike_rate) * 0.9), xytext=(quarter, np.max(mean_spike_rate + std_spike_rate)),\n",
    "                        arrowprops=dict(arrowstyle=\"-|>\", color=\"black\"))\n",
    "            ax.annotate(\"\", xy=(three_quarter, np.max(mean_spike_rate + std_spike_rate) * 0.9), xytext=(three_quarter, np.max(mean_spike_rate + std_spike_rate)),\n",
    "                        arrowprops=dict(arrowstyle=\"-|>\", color=\"black\"))\n",
    "            ax.set_xlabel('')\n",
    "            ax.set_ylabel('')\n",
    "            ax.set_title(f'{neuron}', fontsize=10)\n",
    "            ax.legend()\n",
    "\n",
    "            ax.set_xticks([])\n",
    "            ax.set_yticks([])\n",
    "            ax.grid(False)\n",
    "            ax.legend().set_visible(False)\n",
    "            num += 1\n",
    "        axes[19].axis('off')\n",
    "        axes[18].axis('off')\n",
    "        fig.suptitle(f\"Image_{image}\", fontsize=20)\n",
    "        fig.text(0.5, 0.04, 'Time', ha='center', fontsize=14)\n",
    "        fig.text(0.06, 0.5, 'Spike Rate (Hz)', va='center', rotation='vertical', fontsize=14)\n",
    "        pdf.savefig(fig)\n",
    "        plt.close()\n",
    "\n",
    "        mean_spike_rate_dict[image] = pd.DataFrame(image_mean_spike_rate_data)"
   ]
  },
  {
   "cell_type": "code",
   "execution_count": 13,
   "metadata": {},
   "outputs": [],
   "source": [
    "spike_rates_all_dict = {}\n",
    "\n",
    "for neuron in select_neurons:\n",
    "    spike_rates_all_dict[neuron] = pd.DataFrame()\n",
    "    for image in range(1, 19):\n",
    "        neuron_df = spike_inf[spike_inf['Neuron'] == neuron]\n",
    "\n",
    "        dates = trigger_time[trigger_time['image'] == image]['date'].unique()\n",
    "        date_indices = np.arange(len(dates))  \n",
    "\n",
    "        spike_rates = []\n",
    "        std_rates = []\n",
    "\n",
    "        for date in dates:\n",
    "            trigger_time_temp = trigger_time[(trigger_time['image'] == image) & (trigger_time['date'] == date)]\n",
    "            all_spikes = []\n",
    "\n",
    "            for index, row in trigger_time_temp.iterrows():\n",
    "                start = row['expand_start']\n",
    "                end = row['expand_end']\n",
    "\n",
    "                filtered_spikes = neuron_df[(neuron_df['date'] == date) &\n",
    "                                            (neuron_df['time'] >= start) &\n",
    "                                            (neuron_df['time'] <= end)]\n",
    "\n",
    "                if not filtered_spikes.empty:\n",
    "                    relative_spikes = filtered_spikes['time'] - start\n",
    "                    all_spikes.extend(relative_spikes)\n",
    "\n",
    "            if all_spikes:\n",
    "                time_bins = np.linspace(0, max(all_spikes), 500)\n",
    "                spike_counts, _ = np.histogram(all_spikes, bins=time_bins)\n",
    "                spike_rate = spike_counts / (time_bins[1] - time_bins[0])\n",
    "                spike_rates.append(spike_rate)\n",
    "\n",
    "            spike_rates_all_dict[neuron] = pd.concat((spike_rates_all_dict[neuron], pd.DataFrame(spike_rates)), axis= 0)"
   ]
  },
  {
   "cell_type": "code",
   "execution_count": 14,
   "metadata": {},
   "outputs": [],
   "source": [
    "split_point = []\n",
    "with PdfPages(\"peth_diff.pdf\") as pdf:\n",
    "    for neuron in spike_rates_all_dict.keys():\n",
    "        max_x = np.argmax(spike_rates_all_dict[neuron].mean(axis = 0)[110:150]) + 110\n",
    "        split_point.append(max_x)\n",
    "        plt.figure()\n",
    "        plt.plot(range(499), spike_rates_all_dict[neuron].mean(axis = 0), alpha=0.7, color = \"#70A5D9\")\n",
    "        plt.scatter(max_x, spike_rates_all_dict[neuron].mean(axis = 0)[max_x], color='#F0868C',s=60)\n",
    "        pdf.savefig()\n",
    "        plt.close()\n"
   ]
  },
  {
   "cell_type": "code",
   "execution_count": 15,
   "metadata": {},
   "outputs": [],
   "source": [
    "with PdfPages(\"peth_diff_overlay.pdf\") as pdf:\n",
    "    plt.figure(figsize=(10, 6))  \n",
    "    \n",
    "    colors = ['#70A5D9', '#F0868C', '#AFC7E8', '#F9BEB9', '#5977A0', '#D8576B', '#3B526E', '#E6919C']  \n",
    "    color_index = 0  \n",
    "\n",
    "    split_point = []\n",
    "    for neuron in spike_rates_all_dict.keys():\n",
    "        max_x = np.argmax(spike_rates_all_dict[neuron].mean(axis = 0)[110:150]) + 110\n",
    "        split_point.append(max_x)\n",
    "        \n",
    "        plt.plot(range(499), spike_rates_all_dict[neuron].mean(axis=0), alpha=0.7, color=colors[color_index % len(colors)], label=f'Neuron {neuron}')\n",
    "        plt.scatter(max_x, spike_rates_all_dict[neuron].mean(axis=0)[max_x], color='#F0868C', s=60)\n",
    "        color_index += 1  \n",
    "    \n",
    "    plt.tight_layout()\n",
    "    \n",
    "    pdf.savefig()\n",
    "    plt.close()"
   ]
  },
  {
   "cell_type": "code",
   "execution_count": 16,
   "metadata": {},
   "outputs": [],
   "source": [
    "from scipy import stats\n",
    "\n",
    "num_neurons = len(spike_inf['Neuron'].unique())\n",
    "num_images = 12\n",
    "result_matrix = np.zeros((num_neurons, num_images), dtype=int)\n",
    "pvalue_matrix = np.ones((num_neurons, num_images))\n",
    "diff_matrix = np.ones((num_neurons, num_images))\n",
    "\n",
    "for image in range(1, 13):\n",
    "    num = 0\n",
    "    image_mean_spike_rate_data = []\n",
    "    for neuron_idx, neuron in enumerate(spike_inf['Neuron'].unique()):\n",
    "\n",
    "        neuron_df = spike_inf[spike_inf['Neuron'] == neuron]\n",
    "\n",
    "        dates = trigger_time[trigger_time['image'] == image]['date'].unique()\n",
    "        date_indices = np.arange(len(dates))  \n",
    "\n",
    "        spike_rates_first = []\n",
    "        spike_rates_second = []\n",
    "\n",
    "        for date in dates:\n",
    "            trigger_time_temp = trigger_time[(trigger_time['image'] == image) & (trigger_time['date'] == date)]\n",
    "            all_spikes_first = []\n",
    "            all_spikes_second = []\n",
    "\n",
    "            for index, row in trigger_time_temp.iterrows():\n",
    "                start = row['start'] \n",
    "                end = row['expand_start'] + 30000/500 * np.array(split_point).mean()\n",
    "\n",
    "                filtered_spikes_first = neuron_df[(neuron_df['date'] == date) &\n",
    "                                                  (neuron_df['time'] >= start) &\n",
    "                                                  (neuron_df['time'] <= end)]\n",
    "\n",
    "                if not filtered_spikes_first.empty:\n",
    "                    relative_spikes_first = filtered_spikes_first['time'] - start\n",
    "                    all_spikes_first.extend(relative_spikes_first)\n",
    "\n",
    "                start_2 = row['start'] - 30000/500 * np.array(split_point).mean() + 5000\n",
    "                end_2 = row['start'] \n",
    "\n",
    "                filtered_spikes_second = neuron_df[(neuron_df['date'] == date) &\n",
    "                                                   (neuron_df['time'] >= start_2) &\n",
    "                                                   (neuron_df['time'] <= end_2)]\n",
    "\n",
    "                if not filtered_spikes_second.empty:\n",
    "                    relative_spikes_second = filtered_spikes_second['time'] - start_2\n",
    "                    all_spikes_second.extend(relative_spikes_second)\n",
    "\n",
    "            if all_spikes_first:\n",
    "                time_bins_first = np.linspace(0, max(all_spikes_first), 100)\n",
    "                spike_counts_first, _ = np.histogram(all_spikes_first, bins=time_bins_first)\n",
    "                spike_rate_first = spike_counts_first / (time_bins_first[1] - time_bins_first[0])\n",
    "                spike_rates_first.append(spike_rate_first)\n",
    "\n",
    "            if all_spikes_second:\n",
    "                time_bins_second = np.linspace(0, max(all_spikes_second), 100)\n",
    "                spike_counts_second, _ = np.histogram(all_spikes_second, bins=time_bins_second)\n",
    "                spike_rate_second = spike_counts_second / (time_bins_second[1] - time_bins_second[0])\n",
    "                spike_rates_second.append(spike_rate_second)\n",
    "\n",
    "        mean_spike_rate_first = np.mean(spike_rates_first, axis=0) if spike_rates_first else np.zeros(100)\n",
    "        mean_spike_rate_second = np.mean(spike_rates_second, axis=0) if spike_rates_second else np.zeros(100)\n",
    "\n",
    "        t_stat, p_value = stats.ttest_ind(mean_spike_rate_first, mean_spike_rate_second, nan_policy='omit')\n",
    "\n",
    "        if p_value < 0.01:\n",
    "            if np.mean(mean_spike_rate_first) > np.mean(mean_spike_rate_second):\n",
    "                result_matrix[neuron_idx, image-1] = 1\n",
    "                diff_matrix[neuron_idx, image-1] = np.mean(mean_spike_rate_first)/np.mean(mean_spike_rate_second)\n",
    "            else:\n",
    "                result_matrix[neuron_idx, image-1] = -1\n",
    "                diff_matrix[neuron_idx, image-1] = np.mean(mean_spike_rate_second)/np.mean(mean_spike_rate_first)\n",
    "        else:\n",
    "            result_matrix[neuron_idx, image-1] = 0\n",
    "            diff_matrix[neuron_idx, image-1] = 1\n",
    "        pvalue_matrix[neuron_idx, image-1] = p_value\n",
    "        \n",
    "\n",
    "\n",
    "neurons = spike_inf['Neuron'].unique()\n",
    "images = range(1, 13)\n",
    "result_df_phase1 = pd.DataFrame(result_matrix, index=neurons, columns=images)\n",
    "pvalue_df_phase1 = pd.DataFrame(pvalue_matrix, index=neurons, columns=images)\n",
    "diff_df_phase1 = pd.DataFrame(diff_matrix, index=neurons, columns=images)\n",
    "\n",
    "result_df_phase1.to_csv(\"glimpse_result_df.csv\")\n",
    "pvalue_df_phase1.to_csv(\"glimpse_pvalue_df.csv\")\n",
    "diff_df_phase1.to_csv(\"glimpse_diff_df.csv\")"
   ]
  },
  {
   "cell_type": "code",
   "execution_count": 17,
   "metadata": {},
   "outputs": [],
   "source": [
    "from math import pi\n",
    "\n",
    "result_df_phase1 = result_df_phase1[[1, 7,2,8,3,9,4,10,5,11,6,12]]\n",
    "pvalue_df_phase1 = pvalue_df_phase1[[1, 7,2,8,3,9,4,10,5,11,6,12]]\n",
    "\n",
    "neurons = result_df_phase1.index\n",
    "images = result_df_phase1.columns\n",
    "\n",
    "all_pvalues = pvalue_df_phase1.values.flatten()\n",
    "all_pvalues = all_pvalues[all_pvalues != 0]  \n",
    "all_log_pvalues = -np.log(all_pvalues)\n",
    "\n",
    "with PdfPages('glimpse_neuron_radar_plots.pdf') as pdf:\n",
    "    for neuron in neurons:\n",
    "        fig = plt.figure(figsize=(5, 4))\n",
    "        ax = fig.add_subplot(111, polar=True)\n",
    "        \n",
    "        results = result_df_phase1.loc[neuron].values\n",
    "        pvalues = pvalue_df_phase1.loc[neuron].values\n",
    "        \n",
    "        angles = np.linspace(0, 2*np.pi, len(images), endpoint=False).tolist()\n",
    "        \n",
    "        for j, (result, pvalue, image) in enumerate(zip(results, pvalues, images)):\n",
    "            if pvalue == 0:\n",
    "                height = 0\n",
    "            else:\n",
    "                height = -np.log(pvalue)\n",
    "            \n",
    "            if result == 1:\n",
    "                color = \"#F9BEB9\"\n",
    "            elif result == 0:\n",
    "                color = 'lightgrey'\n",
    "            else:\n",
    "                color = '#AFC7E8'\n",
    "            \n",
    "            ax.bar(angles[j], height, width=2*np.pi/len(images), bottom=0.0, color=color, alpha=0.8)\n",
    "                \n",
    "        ax.set_xticks(angles)\n",
    "        ax.set_xticklabels(images)\n",
    "        ax.set_title(neuron, pad=20, x=-0.1)\n",
    "        \n",
    "        ax.grid(True, color='gray', linestyle='--', linewidth=0.5, alpha=0.5)\n",
    "        ax.tick_params(axis='y', labelsize=8)\n",
    "        plt.tight_layout()\n",
    "        \n",
    "        pdf.savefig()\n",
    "        plt.close()"
   ]
  },
  {
   "cell_type": "code",
   "execution_count": null,
   "metadata": {},
   "outputs": [],
   "source": []
  },
  {
   "cell_type": "code",
   "execution_count": 25,
   "metadata": {},
   "outputs": [],
   "source": [
    "from matplotlib.colors import ListedColormap\n",
    "\n",
    "with PdfPages(\"glimpse_neuron_reaction.pdf\") as pdf:\n",
    "    cmap = ListedColormap(['#70A5D9', 'lightgrey', '#F0868C'])\n",
    "    plt.figure(figsize=(4, 4))\n",
    "    ax = sns.heatmap(result_df_phase1, cmap=cmap, cbar=True)\n",
    "    pdf.savefig()\n",
    "    plt.close()\n",
    "\n",
    "    cmap = ListedColormap(['#70A5D9', 'lightgrey', '#F0868C'])\n",
    "    plt.figure(figsize=(4, 4))\n",
    "    ax = sns.heatmap(result_df_phase1, cmap=cmap, cbar=False, linecolor=\"white\",   \n",
    "    linewidths=0.3)\n",
    "    ax.xaxis.set_ticks([])\n",
    "    ax.yaxis.set_ticks([])\n",
    "    ax.axis('off') \n",
    "    pdf.savefig()\n",
    "    plt.close()\n",
    "\n",
    "    plt.figure(figsize=(4, 4))\n",
    "    ax = sns.heatmap(-np.log(pvalue_df_phase1), cmap='coolwarm', cbar=True, annot=True,fmt='.2f',\n",
    "    annot_kws={\"size\": 4})\n",
    "    ax.xaxis.set_ticks([])\n",
    "    ax.yaxis.set_ticks([])\n",
    "    ax.axis('off') \n",
    "    pdf.savefig()\n",
    "    plt.close()\n",
    "\n",
    "    plt.figure(figsize=(4, 4))\n",
    "    ax = sns.heatmap(-np.log(pvalue_df_phase1), cmap='coolwarm', cbar=False, annot=False,fmt='.2f',\n",
    "    annot_kws={\"size\": 4})\n",
    "    ax.xaxis.set_ticks([])\n",
    "    ax.yaxis.set_ticks([])\n",
    "    ax.axis('off') \n",
    "    pdf.savefig()\n",
    "    plt.close()"
   ]
  },
  {
   "cell_type": "code",
   "execution_count": 19,
   "metadata": {},
   "outputs": [],
   "source": [
    "from scipy import stats\n",
    "\n",
    "num_neurons = len(spike_inf['Neuron'].unique())\n",
    "num_images = 12\n",
    "result_matrix = np.zeros((num_neurons, num_images), dtype=int)\n",
    "pvalue_matrix = np.ones((num_neurons, num_images))\n",
    "diff_matrix = np.ones((num_neurons, num_images))\n",
    "\n",
    "for image in range(1, 13):\n",
    "    num = 0\n",
    "    image_mean_spike_rate_data = []\n",
    "    for neuron_idx, neuron in enumerate(spike_inf['Neuron'].unique()):\n",
    "\n",
    "        neuron_df = spike_inf[spike_inf['Neuron'] == neuron]\n",
    "\n",
    "        dates = trigger_time[trigger_time['image'] == image]['date'].unique()\n",
    "        date_indices = np.arange(len(dates))  \n",
    "\n",
    "        spike_rates_first = []\n",
    "        spike_rates_second = []\n",
    "\n",
    "        for date in dates:\n",
    "            trigger_time_temp = trigger_time[(trigger_time['image'] == image) & (trigger_time['date'] == date)]\n",
    "            all_spikes_first = []\n",
    "            all_spikes_second = []\n",
    "\n",
    "            for index, row in trigger_time_temp.iterrows():\n",
    "                start = row['start'] + 10000\n",
    "                end = row['end']\n",
    "\n",
    "                filtered_spikes_first = neuron_df[(neuron_df['date'] == date) &\n",
    "                                                  (neuron_df['time'] >= start) &\n",
    "                                                  (neuron_df['time'] <= end)]\n",
    "\n",
    "                if not filtered_spikes_first.empty:\n",
    "                    relative_spikes_first = filtered_spikes_first['time'] - start\n",
    "                    all_spikes_first.extend(relative_spikes_first)\n",
    "\n",
    "                start_2 = row['start']- (end - start)\n",
    "                end_2 = row['start'] \n",
    "\n",
    "                filtered_spikes_second = neuron_df[(neuron_df['date'] == date) &\n",
    "                                                   (neuron_df['time'] >= start_2) &\n",
    "                                                   (neuron_df['time'] <= end_2)]\n",
    "\n",
    "                if not filtered_spikes_second.empty:\n",
    "                    relative_spikes_second = filtered_spikes_second['time'] - start_2\n",
    "                    all_spikes_second.extend(relative_spikes_second)\n",
    "\n",
    "            if all_spikes_first:\n",
    "                time_bins_first = np.linspace(0, max(all_spikes_first), 500)\n",
    "                spike_counts_first, _ = np.histogram(all_spikes_first, bins=time_bins_first)\n",
    "                spike_rate_first = spike_counts_first / (time_bins_first[1] - time_bins_first[0])\n",
    "                spike_rates_first.append(spike_rate_first)\n",
    "\n",
    "            if all_spikes_second:\n",
    "                time_bins_second = np.linspace(0, max(all_spikes_second), 500)\n",
    "                spike_counts_second, _ = np.histogram(all_spikes_second, bins=time_bins_second)\n",
    "                spike_rate_second = spike_counts_second / (time_bins_second[1] - time_bins_second[0])\n",
    "                spike_rates_second.append(spike_rate_second)\n",
    "\n",
    "        mean_spike_rate_first = np.mean(spike_rates_first, axis=0) if spike_rates_first else np.zeros(100)\n",
    "        mean_spike_rate_second = np.mean(spike_rates_second, axis=0) if spike_rates_second else np.zeros(100)\n",
    "\n",
    "        t_stat, p_value = stats.ttest_ind(mean_spike_rate_first, mean_spike_rate_second, nan_policy='omit')\n",
    "\n",
    "        if p_value < 1e-3:\n",
    "            if np.mean(mean_spike_rate_first) > np.mean(mean_spike_rate_second):\n",
    "                result_matrix[neuron_idx, image-1] = 1\n",
    "            else:\n",
    "                result_matrix[neuron_idx, image-1] = -1\n",
    "        else:\n",
    "            result_matrix[neuron_idx, image-1] = 0\n",
    "        pvalue_matrix[neuron_idx, image-1] = p_value\n",
    "        diff_matrix[neuron_idx, image-1] = np.mean(mean_spike_rate_first)/np.mean(mean_spike_rate_second)\n",
    "\n",
    "\n",
    "neurons = spike_inf['Neuron'].unique()\n",
    "images = range(1, 13)\n",
    "result_df_phase2 = pd.DataFrame(result_matrix, index=neurons, columns=images)\n",
    "pvalue_df_phase2 = pd.DataFrame(pvalue_matrix, index=neurons, columns=images)\n",
    "diff_df_phase2 = pd.DataFrame(diff_matrix, index=neurons, columns=images)\n",
    "\n",
    "result_df_phase2.to_csv(\"last_result_df.csv\")\n",
    "pvalue_df_phase2.to_csv(\"last_pvalue_df.csv\")\n",
    "diff_df_phase2.to_csv(\"last_diff_df.csv\")"
   ]
  },
  {
   "cell_type": "code",
   "execution_count": 21,
   "metadata": {},
   "outputs": [],
   "source": [
    "result_df_phase2 = result_df_phase2[[1, 7,2,8,3,9,4,10,5,11,6,12]]\n",
    "pvalue_df_phase2 = pvalue_df_phase2[[1, 7,2,8,3,9,4,10,5,11,6,12]]\n",
    "\n",
    "neurons = result_df_phase2.index\n",
    "images = result_df_phase2.columns\n",
    "\n",
    "\n",
    "with PdfPages('last_neuron_radar_plots.pdf') as pdf:\n",
    "    for neuron in neurons:\n",
    "        fig = plt.figure(figsize=(5, 4))\n",
    "        ax = fig.add_subplot(111, polar=True)\n",
    "        \n",
    "        results = result_df_phase2.loc[neuron].values\n",
    "        pvalue = pvalue_df_phase2.loc[neuron].values\n",
    "        pvalue = -np.log(pvalue)\n",
    "        \n",
    "        angles = np.linspace(0, 2*np.pi, len(images), endpoint=False).tolist()\n",
    "        \n",
    "        for j, (result, pvalue, image) in enumerate(zip(results, pvalue, images)):\n",
    "            if pvalue == 0:\n",
    "                height = 0\n",
    "            else:\n",
    "                height = pvalue\n",
    "            \n",
    "            if result == 1:\n",
    "                color = \"#F9BEB9\"\n",
    "            elif result == 0:\n",
    "                color = 'lightgrey'\n",
    "            else:\n",
    "                color = '#AFC7E8'\n",
    "            \n",
    "            ax.bar(angles[j], height, width=2*np.pi/len(images), bottom=0.0, color=color)\n",
    "        \n",
    "        \n",
    "        ax.set_xticks(angles)\n",
    "        ax.set_xticklabels(images)\n",
    "        ax.set_title(neuron, pad=20, x=-0.1)\n",
    "        \n",
    "        ax.grid(True, color='gray', linestyle='--', linewidth=0.5, alpha=0.5)\n",
    "        \n",
    "        plt.tight_layout()\n",
    "        \n",
    "        pdf.savefig()\n",
    "        plt.close()"
   ]
  },
  {
   "cell_type": "code",
   "execution_count": 23,
   "metadata": {},
   "outputs": [],
   "source": [
    "with PdfPages(\"last_neuron_reaction.pdf\") as pdf:\n",
    "    cmap = ListedColormap(['#70A5D9', 'lightgrey', '#F0868C'])\n",
    "    plt.figure(figsize=(4, 4))\n",
    "    ax = sns.heatmap(result_df_phase2, cmap=cmap, cbar=True)\n",
    "    pdf.savefig()\n",
    "    plt.close()\n",
    "\n",
    "    cmap = ListedColormap(['#70A5D9', 'lightgrey', '#F0868C'])\n",
    "    plt.figure(figsize=(4, 4))\n",
    "    ax = sns.heatmap(result_df_phase2, cmap=cmap, cbar=False, linecolor=\"white\",   \n",
    "    linewidths=0.3)\n",
    "    ax.xaxis.set_ticks([])\n",
    "    ax.yaxis.set_ticks([])\n",
    "    ax.axis('off') \n",
    "    pdf.savefig()\n",
    "    plt.close()\n",
    "\n",
    "    plt.figure(figsize=(4, 4))\n",
    "    ax = sns.heatmap(-np.log(pvalue_df_phase2), cmap='coolwarm', cbar=True, annot=True,fmt='.2f',\n",
    "    annot_kws={\"size\": 4})\n",
    "    ax.xaxis.set_ticks([])\n",
    "    ax.yaxis.set_ticks([])\n",
    "    ax.axis('off') \n",
    "    pdf.savefig()\n",
    "    plt.close()\n",
    "\n",
    "    plt.figure(figsize=(4, 4))\n",
    "    ax = sns.heatmap(-np.log(pvalue_df_phase2), cmap='coolwarm', cbar=False, annot=False,fmt='.2f',\n",
    "    annot_kws={\"size\": 4}, vmax=100)\n",
    "    ax.xaxis.set_ticks([])\n",
    "    ax.yaxis.set_ticks([])\n",
    "    ax.axis('off') \n",
    "    pdf.savefig()\n",
    "    plt.close()"
   ]
  },
  {
   "cell_type": "code",
   "execution_count": 26,
   "metadata": {},
   "outputs": [],
   "source": [
    "sum_spike_rate_dict = {}\n",
    "window_starts = np.arange(0, 20000-500+1, 50) \n",
    "n_windows = len(window_starts)  \n",
    "\n",
    "for image in range(1, 13):\n",
    "    image_mean_spike_rate_data = []\n",
    "    \n",
    "    for neuron in spike_inf['Neuron'].unique():\n",
    "        neuron_df = spike_inf[spike_inf['Neuron'] == neuron]\n",
    "        dates = trigger_time[trigger_time['image'] == image]['date'].unique()\n",
    "        \n",
    "        all_rates = []\n",
    "        \n",
    "        for date in dates:\n",
    "            trigger_time_temp = trigger_time[(trigger_time['image'] == image) \n",
    "                                          & (trigger_time['date'] == date)]\n",
    "            window_counts = np.zeros(n_windows)\n",
    "            \n",
    "            for _, row in trigger_time_temp.iterrows():\n",
    "                start = row['start']\n",
    "                end = row['end']\n",
    "                \n",
    "                filtered_spikes = neuron_df[(neuron_df['date'] == date) \n",
    "                                          & (neuron_df['time'] >= start)\n",
    "                                          & (neuron_df['time'] <= end)]\n",
    "                \n",
    "                if not filtered_spikes.empty:\n",
    "                    relative_spikes = filtered_spikes['time'].values - start\n",
    "                    \n",
    "                    spikes_matrix = relative_spikes[:, np.newaxis]  \n",
    "                    in_window = (spikes_matrix >= window_starts) \\\n",
    "                              & (spikes_matrix < (window_starts + 100))\n",
    "                    window_counts += np.sum(in_window, axis=0)\n",
    "\n",
    "            spike_rate = window_counts\n",
    "            all_rates.append(spike_rate)\n",
    "        \n",
    "        mean_spike_rate = np.mean(all_rates, axis=0) if all_rates else np.zeros(n_windows)\n",
    "        \n",
    "        image_mean_spike_rate_data.append({\n",
    "            'Neuron': neuron,\n",
    "            'Mean_Spike_Rate': mean_spike_rate\n",
    "        })\n",
    "    \n",
    "    sum_spike_rate_dict[image] = pd.DataFrame(image_mean_spike_rate_data)"
   ]
  },
  {
   "cell_type": "code",
   "execution_count": 27,
   "metadata": {},
   "outputs": [],
   "source": [
    "for image in sum_spike_rate_dict.keys():\n",
    "    temp = pd.DataFrame()\n",
    "    for i in range(len(sum_spike_rate_dict[1])):\n",
    "        temp = pd.concat((temp, pd.DataFrame(sum_spike_rate_dict[image].iloc[i, 1])), axis=1)\n",
    "    temp = temp.T\n",
    "    temp.index = sum_spike_rate_dict[1]['Neuron']\n",
    "    temp.to_csv(f\"sum_spike_rate/Image_{image}_sum_spike_rate.csv\")"
   ]
  },
  {
   "cell_type": "code",
   "execution_count": 28,
   "metadata": {},
   "outputs": [
    {
     "data": {
      "text/plain": [
       "60.95690000000001"
      ]
     },
     "execution_count": 28,
     "metadata": {},
     "output_type": "execute_result"
    }
   ],
   "source": [
    "(30000/500 * np.array(split_point).mean() - 5000)/ 20000 * 391"
   ]
  },
  {
   "cell_type": "code",
   "execution_count": 29,
   "metadata": {},
   "outputs": [],
   "source": [
    "from sklearn.preprocessing import StandardScaler\n",
    "from sklearn.decomposition import PCA\n",
    "\n",
    "def latent_variables_pc(filepath):\n",
    "    pca = PCA(n_components=10)\n",
    "    data = pd.read_csv(filepath,index_col=0)\n",
    "    data = data.iloc[:, :58]\n",
    "    data = data.T\n",
    "    scaler = StandardScaler()\n",
    "    data_normalized = scaler.fit_transform(data)\n",
    "    #data_normalized = data_normalized.T\n",
    "    data_pca = pca.fit_transform(data_normalized)\n",
    "    return data_pca, pca.explained_variance_ratio_"
   ]
  },
  {
   "cell_type": "code",
   "execution_count": 30,
   "metadata": {},
   "outputs": [],
   "source": [
    "data_pca_dict = {}\n",
    "pc_ratio_dict = {}\n",
    "spike_rate_dir = ['Image_1_sum_spike_rate.csv', 'Image_2_sum_spike_rate.csv', 'Image_3_sum_spike_rate.csv', 'Image_4_sum_spike_rate.csv', 'Image_5_sum_spike_rate.csv', 'Image_6_sum_spike_rate.csv',\n",
    "                  'Image_7_sum_spike_rate.csv', 'Image_8_sum_spike_rate.csv', 'Image_9_sum_spike_rate.csv', 'Image_10_sum_spike_rate.csv', 'Image_11_sum_spike_rate.csv', 'Image_12_sum_spike_rate.csv']\n",
    "\n",
    "for file in spike_rate_dir:\n",
    "    data_pca_dict[file], pc_ratio_dict[file] = latent_variables_pc(f'/media/ubuntu/sda/data/mouse11/output/analysis_grating/03_single_neuron/dynamic/sum_spike_rate/{file}')"
   ]
  },
  {
   "cell_type": "code",
   "execution_count": 31,
   "metadata": {},
   "outputs": [],
   "source": [
    "data_pc1 = pd.DataFrame()\n",
    "data_pc2 = pd.DataFrame()\n",
    "data_pc3 = pd.DataFrame()\n",
    "\n",
    "for file in spike_rate_dir:\n",
    "    data_pc1 = pd.concat((data_pc1, pd.DataFrame(data_pca_dict[file][:, 0])), axis=1)\n",
    "    data_pc2 = pd.concat((data_pc2, pd.DataFrame(data_pca_dict[file][:, 1])), axis=1)\n",
    "    data_pc3 = pd.concat((data_pc3, pd.DataFrame(data_pca_dict[file][:, 2])), axis=1)"
   ]
  },
  {
   "cell_type": "code",
   "execution_count": 32,
   "metadata": {},
   "outputs": [],
   "source": [
    "os.makedirs(\"processed_data\", exist_ok=True)\n",
    "data_pc1.to_csv(\"processed_data/data_pc1_phase1.csv\")\n",
    "data_pc2.to_csv(\"processed_data/data_pc2_phase1.csv\")\n",
    "data_pc3.to_csv(\"processed_data/data_pc3_phase1.csv\")"
   ]
  },
  {
   "cell_type": "code",
   "execution_count": 33,
   "metadata": {},
   "outputs": [],
   "source": [
    "import torch.nn.functional as F\n",
    "import torch\n",
    "os.makedirs(\"neuron_model\", exist_ok=True)\n",
    "with PdfPages(\"neuron_model/similarity_heatmap_phase1.pdf\") as pdf:\n",
    "\n",
    "    data_pc1.columns = [1,2,3,4,5,6,7,8,9,10,11,12]\n",
    "    #data_pc1 = data_pc1[[1, 5,6,7,10,11,12,14,17,18, 2,3,4,8,9,13,15,16]]\n",
    "    data = torch.tensor(data_pc1.T.to_numpy())\n",
    "    data.unsqueeze_(1) \n",
    "    similarity_matrix = F.cosine_similarity(data, data.transpose(0, 1), dim=2)\n",
    "    sns.heatmap(similarity_matrix.numpy(), cmap=\"coolwarm\", vmin=0, vmax=1)\n",
    "    pdf.savefig()\n",
    "    plt.close()\n",
    "\n",
    "    plt.figure(figsize=(5,5))\n",
    "    sns.heatmap(similarity_matrix.numpy(), cmap=\"coolwarm\", vmin=0, vmax=1, cbar=False, xticklabels=False, yticklabels=False)\n",
    "    pdf.savefig()\n",
    "    plt.close()\n",
    "\n",
    "    data_pc2.columns = [1,2,3,4,5,6,7,8,9,10,11,12]\n",
    "    #data_pc2 = data_pc2[[1,2,3,4,5,6, 9,10,12, 13, 14, 15, 16, 17, 7,8,11,18]]\n",
    "    data = torch.tensor(data_pc2.T.to_numpy())\n",
    "    data.unsqueeze_(1) \n",
    "    similarity_matrix_2 = F.cosine_similarity(data, data.transpose(0, 1), dim=2)\n",
    "    sns.heatmap(similarity_matrix_2.numpy(), cmap=\"coolwarm\", vmin=0, vmax=1)\n",
    "    pdf.savefig()\n",
    "    plt.close()\n",
    "\n",
    "    plt.figure(figsize=(5,5))\n",
    "    sns.heatmap(similarity_matrix_2.numpy(), cmap=\"coolwarm\", vmin=0, vmax=1, cbar=False, xticklabels=False, yticklabels=False)\n",
    "    pdf.savefig()\n",
    "    plt.close()\n",
    "\n",
    "    data_pc3.columns = [1,2,3,4,5,6,7,8,9,10,11,12]\n",
    "    data_pc3 = data_pc3[[1,7, 12, 2,3,4,5,6,8,9,10,11]]\n",
    "    data = torch.tensor(data_pc3.T.to_numpy())\n",
    "    data.unsqueeze_(1) \n",
    "    similarity_matrix_3 = F.cosine_similarity(data, data.transpose(0, 1), dim=2)\n",
    "    sns.heatmap(similarity_matrix_3.numpy(), cmap=\"coolwarm\", vmin=0, vmax=1)\n",
    "    pdf.savefig()\n",
    "    plt.close()\n",
    "\n",
    "    plt.figure(figsize=(5,5))\n",
    "    sns.heatmap(similarity_matrix_3.numpy(), cmap=\"coolwarm\", vmin=0, vmax=1, cbar=False, xticklabels=False, yticklabels=False)\n",
    "    pdf.savefig()\n",
    "    plt.close()"
   ]
  },
  {
   "cell_type": "code",
   "execution_count": 34,
   "metadata": {},
   "outputs": [],
   "source": [
    "with PdfPages(\"neuron_model/waveform_phase1.pdf\") as pdf:\n",
    "    plt.figure(figsize=(4, 3))\n",
    "    for file in spike_rate_dir:\n",
    "        sns.lineplot(data_pca_dict[file][:, 0])\n",
    "    pdf.savefig()\n",
    "    plt.close()\n",
    "\n",
    "    plt.figure(figsize=(4, 3))\n",
    "    for file in spike_rate_dir:\n",
    "        sns.lineplot(data_pca_dict[file][:, 1])\n",
    "    pdf.savefig()\n",
    "    plt.close()\n",
    "\n",
    "\n",
    "    plt.figure(figsize=(4, 3))\n",
    "    for file in spike_rate_dir:\n",
    "        sns.lineplot(data_pca_dict[file][:, 2])\n",
    "    pdf.savefig()\n",
    "    plt.close()"
   ]
  },
  {
   "cell_type": "code",
   "execution_count": 35,
   "metadata": {},
   "outputs": [],
   "source": [
    "pc_ratio = pd.DataFrame()\n",
    "\n",
    "for key ,item in pc_ratio_dict.items():\n",
    "    pc_ratio = pd.concat((pc_ratio, pd.DataFrame(item)), axis=1)\n",
    "\n",
    "pc_ratio = pc_ratio.mean(axis=1)\n",
    "cumulative_sums = []\n",
    "current_sum = 0\n",
    "for value in pc_ratio:\n",
    "    current_sum += value\n",
    "    cumulative_sums.append(current_sum)"
   ]
  },
  {
   "cell_type": "code",
   "execution_count": 36,
   "metadata": {},
   "outputs": [],
   "source": [
    "pd.DataFrame(cumulative_sums).to_csv(\"processed_data/pc_ratio_phase1.csv\")"
   ]
  },
  {
   "cell_type": "code",
   "execution_count": 37,
   "metadata": {},
   "outputs": [],
   "source": [
    "with PdfPages('neuron_model/pc_ration_phase1.pdf') as pdf:\n",
    "    plt.figure(figsize=(3,2))\n",
    "    sns.lineplot(x = range(10),\n",
    "                 y = pc_ratio,\n",
    "                 color = 'black')\n",
    "    plt.ylim(0, 1)\n",
    "    pdf.savefig()\n",
    "    plt.close()"
   ]
  },
  {
   "cell_type": "code",
   "execution_count": 38,
   "metadata": {},
   "outputs": [
    {
     "data": {
      "application/vnd.plotly.v1+json": {
       "config": {
        "plotlyServerURL": "https://plot.ly"
       },
       "data": [
        {
         "line": {
          "color": "rgb(31, 119, 180)",
          "width": 4
         },
         "mode": "lines",
         "name": "Image_1_sum_spike_rate.csv",
         "type": "scatter3d",
         "x": {
          "bdata": "WQzTAqzp8b8GHnoiEyrwvwd7NrH26+i/bTZ26m1R6L/sDWlkalrhv5QP37M4zum/oCYOhUNp8b/d+xRgvrHtv32YGbWuI+y/DVfG6O0G8r9/J9KqIhvSv/gaAm/REQJA2M0QX+jTEEAnQ3p65JUXQNAyRFuF/RxAYovqr+IsIEDh8LNyjOYiQPJe8cB0OiNAlUnQJ+z6IEDGgnckxQodQAiTyMN77RdAbSH648lwCEC4YKqAp6jWP9af0fw1wue/wEhnpT2jAMBrtsJqX+sFwLXZDCh/xAfAG7pv+acFB8D5wp6OWxEDwBfPPS6HegLAA90IcJFkBcDDieCMkvEEwEKd5ck99ATAi9XTSl0gB8D/l9Vb9o0FwKgaF1DsQALAt32MDWWi/r/44T8GeX/3v/4SRgK03/y/rMelfRJLAMCMBhhHIkD4v/gwhMTaGfa/xLvyn6Pz97/3mrwhlzn7vxSc+fnDn/6/12gOcqrN/r/l9L2wFbsAwHAvoY9QPALARoxqKaokAcC3UYnjC9j7v6h4KBml5/W/7VnAS0/c779hHtV1qLzuvzj3J17Ctdi/mUKdaZiOwL9xY4FQwxbavx15jF5rr+C/Ap4LcXCB4L8=",
          "dtype": "f8"
         },
         "y": {
          "bdata": "PG/+q0y+6j9i+yNTzenWP1SSfncqC6s/XLQy/OIkwb8IvUJYMNDOP2aI03hkO9w/em0yjH+k4D/RfoRFV63qP8PtKkYe7/U/8Zg2ulvy9D+O6nxvViPrP50ea6sNiwZAljXU27nBE0C1fYGIkEQUQIH87kSLvBFAJT9j9Dfn/T8A+HVQTb3vv0uvY3JcIAXAQnaGraYcC8BtAncths0JwDLkdv2rPwXA2q43hMJb/L9RrIps1wz3vzIgtb4vyPS/9Yf2Eb6Y3r9Z++paRG/TvzsesagXwum/ym4Xmk4w1b+Pex7F+Oviv8l1FsH6J/O/F3GHyuv14b+RMOTRDK3iv9uLyJ4IFd2/2O06a6U9sT+/XQOuPDXbP1tGfbUEYLE/ly6W8kti6b+5uNNxhn/dv8oSrYsZvaG/odxY3z7G1b+iZI3A06Pdv8hxPR3aCb6/AYwFfMWi1T+ChoGS6l7OP3N8y4iU2c4/cTXi/dQv6T+ED4CljJrvP/4+zQj4I9A/oK6xdVcT2z8ZsSGN+XDsP+nq6owwx+A/EM/DQjqtuj8NgCXqj86Wv/hW2uDNEOq/TAQMhc5g9r+7YV1lMib2vwYi5nRtzPi/9WCm8/XC8L8=",
          "dtype": "f8"
         },
         "z": {
          "bdata": "SowQTfVRAkClILlZuxoMQHnwbYW2xQtAYRNvUFhFCEBrrA2klM8HQNzQoPFjFwFACJNdVOYI8z8Z1iPwkL/5P/KxauFNY/g/QSARmbWY4j+stYQvqIDSP54v58eGXvA/jrRfn9uU5T/0oPUrvr3Xv9r+Dd4LKvW/ckKDJiVq/r8NT99uU271v0LDqK6cgtC/p9JR+IFA8j9bB7BxmJPnPyzAwuIDU+K/x0GNZzZn6L+QHl9ObBDpvzFsCCElefG/7YmS7XQV+r8xKQihndX7v947Ue9N7tK//8pjlBQ/xT/TDO6hirTjvwzeOQR8zui/MtyJyaod87+YJAjnb8f6vyEb4eQLFve/ivssw7rB7r9Y10NrEsruv3FwW87aG9A/zp2vR5+h4T8sSv68is7Hv4GatT9a/d+/WLZCkoh897+gU8xfzV3kvxpxa9V2Hag/RadKYqs51L+XmB53sbm4vywr1sR7R+e/2nZ7bTqe/b/GH0B6B1b6v7bcTaEmvfC/jJxCH7aJ8r/g3sYnUyXhvzc14Jg9r+S/EwZZzlAI7r/W5jyB14vTv92ivL8Y7sS/BIHQfUiOtz+ReplhjWXiP9qHwRnmtPg/XDKGU2X+A0A=",
          "dtype": "f8"
         }
        },
        {
         "line": {
          "color": "rgb(255, 127, 14)",
          "width": 4
         },
         "mode": "lines",
         "name": "Image_2_sum_spike_rate.csv",
         "type": "scatter3d",
         "x": {
          "bdata": "/G/xBWQI9L8VtG8HpBP0v15i5sj45va//ETfIq2b/7+BA0t8+KP9v76cyapzOva//hBg3o209b8zr9uCN/rwv8Xg4b/WRey/rQsFWQRo4r8SwOcv2MbJvyCi/x186Os/eKJ7rLTJDUByCK2IFrMWQBJ8RRB7MhlAuZ+PUtDsH0Cw1UnoRTIhQJmAI17qOCBA+09g2KUgIkBJIY7FFCUiQMMF+R/qTRxAkpj5TljxEUBwM02u8UcAQFsqeIGXXJA/VUtFqm4j97+TxKmDB9r/vwNvA+KWBwLAwzqKVNUlA8DU7O7i5UEIwHxES1mq/A3ABP/F3GaNDMAkYVf84KMNwB/N2mIisArAWC/gmEcPCMArO1E20FkKwOljKHJp0gjAl5RHqR7lBsADobfZjwoDwCk/R6ZpDwDAL0EwbMPU/r9AdslxSdP0v5Pqpafp5fe/QkMds1Z5/7+ocOGNyrL9v9PkMbo/jvu/G5gYtqWL+r+v8AvX95zuvyjId8O/7ue/ki7b15oy+7/I2KpU5OIAwFPdqcoZ1ADALaSIO3ay+b9dFZKhlDviv75F6Q2uh9U/kRNwkIfv8z8GuffvCw/tP8GUT0g2w+A/tYlBPFXy8D8=",
          "dtype": "f8"
         },
         "y": {
          "bdata": "PN+aPm2FqD+HoekZrH3Pv5cJtAXbss+/F2f73SYf3L/ZjnfqgqLrv2AzgVHqOO+/np3uWGzG6L9B/brJ+Su+v08JPKTnW7M/IFUEXQrs47+xjRQNtTbmv39P7P7r6P2/FCj0kg4LEcDYAVnbLNMUwB8yzyvnTBLArnyW26PdBMAJcoDTB/j2v9nn+bZmTaK/unwBH+FcA0CHoWjXbq4LQNRAEh8efBBALkBg42ujC0AFD4UNAyX/P/egPjd9KPg/nEla7Drc8D+ojqkfIFbNPwO90//wBtc/af34mKko4z/KIi2+wbLLv1UdCdyDntO/BdnQoPvk4b8LJ2UTVAzrv58hMlMg1+K/COGOsEjjjD/+RoPfXbLNP3ehgz/ZkMi/LhFUyLkXpb8qRwWXOXqyvwhjMSc4peS/Jp2eRVlR07+J4BkfDFLxP6hpjyEeVeY/6b63eu5R07+lC4KP8ZWxvwp22RcYWdk/iEEFPWXK6T8N2TBI7rT0PwIFtFT+Fu4/jiCM3mQKx7/n453vWRvRv72vXXei8dk/rW6d2H3n7T9pR8vGM83sP0LSkRSdudM/RecMtGcF2j9a0FAAeFzDPwIZpcrny9c/BmqXWaxv9T8=",
          "dtype": "f8"
         },
         "z": {
          "bdata": "8xHUz4qI9j8G2VYOL2D6P90v2u9gKPY/C1ocaEwf9z/s1H8l8u37P6Ps887GjfQ/0dknrNJD9D+BGGVJOp72P7ffUrXGuPg/xDLJMBeR/T/aWE3n+Kv4P8+5ZvtW3vU//6U2mbXRAECkL6RA6XLhP6vh12igafm/IY/Ktx7e/b+YEhP+0vMCwCK2ZQ4pr/q/NU2E3F0zwT9faSpiDiDqP5WQ9KbD9N8/1KOnTclv4L+0b+yVlOzxvyB0l9sdjvG/K71GNsMt+r8jYmSa90Lyv2+1kbRSp/K/hgFY/C1V+r9G1sf8Qfbtv+LmgIOaX/i/gAW6PVGn/L+/0KKCZyTnv25xKwAbM+S/gwdi2qqC9r+sfuTgQbT2vzUNCiDJafK/ZdxCyUJ07r8qM+xVpw/wv4Mo0zmyvva/aCWK7CU69L8wa5C2oLDhv+cMX+WoSMg/NhZ+H6njvb89/KHc9ee8v8rplCR2idU/yOJFrSafqD9P+giFvSvXP9euwr+U9uc/rCkley6o3T8fSuxzXrrHv6zIIadqV9q/X2nlKE0gvb8iVft1wbPnP5Duk3vvl/g/2qFJhmqs8T/lQTI4FCbYP2I3Po2dZPM/0gxs+eZJA0A=",
          "dtype": "f8"
         }
        },
        {
         "line": {
          "color": "rgb(44, 160, 44)",
          "width": 4
         },
         "mode": "lines",
         "name": "Image_3_sum_spike_rate.csv",
         "type": "scatter3d",
         "x": {
          "bdata": "GenMaXRd8b/RPqLeRj7wv8aDmRUuzsS/q3SSyLyd278jcPthZnHwv7MXFSrs4+y/raNIsHa98r/FOKb7BJHwvzoJViScZfK/wwjwXJZ78b8dsw/+TznSv8YuZ9afa/E/B1GSvthhD0CP1OExHLUbQC5p7S/H1yBABwUjeYnsIUCTin3i4U0iQEe9ejaW/yBAUh7nQz2AHEBo8dvMc+EUQEuBXdRAjQhAcdR1KYIB8z+HvtUOiqHmv8Ot0g2VogPApjRhuY32CsAZ9sB1IqcNwIIgpWw7PRDAvyRWAmOXDsAosy5PkaAKwJWBdou7hAvAdd6lKdvbCsASFixnxAsLwOJnIqmZaAzA6e0JW5hWCcCsgyZsc/UHwPmylH0Y/wTA4M69Lu22AMCOTnPkEOwAwBdi/mc9Ff6/cd8sbeaW/b+broyICgr+v7rUhttNGP6/Kk4MjtV9+79gy5ITO5b7v7D2c8lqZv2/28hVu5Cy878++6jndn/wv9Zzz59qPfy/M2YxCHZ5+b8cWmDfJBvhv4t3/FSqQdU/tMundlVx8T/7cJB2K8H+P12IczHgAARAcLDlNwyK+j9uvaftrEf1PxqyZjKARP8/Mf3p6S+1AEA=",
          "dtype": "f8"
         },
         "y": {
          "bdata": "APtbVhrG8b+KYU9aUdrPvzUZ001/tLm/WFQ+bIMi4b+yx3NoVIjyvyDejj0NuPK/MlzW9GrH9L8MhSkzSjwBwLCHKURHmwHAepatAAQ8/b/8Y93tJYj9v2CVUW+JlQPACEyIZkWrDMCOzmxheEoRwEm08EtnFw/AowghJCdsA8CJbDLQr6i+PwTgZBOuSgRANTyWSSeqDUDFp+HnI1MOQEDhRhJeeQNAwEGO3XPpBEBJueoK3S0CQPb7qTmpzuk/vYJ6cony5D+L3YTUB4nhPw+KCK+zWdg/EvPBV83T1T9NvIwN4u7XPw/bbm9+T9a/dXFa+RDH8r8mm0uXo2v0v9kQiGu4e96/mUD+iPFe47/BdluASsbuv+WEEKBNVLS/tenGRybszj88jKVrlQLWP4eTVz4wl+I/82Cmae8L5j94kkncZfLtPyowcOuUQvE/xl8zXVty5T9L4Pq1+drUPzJ1O4gV7O0/z682O8J63D8lVDZLxcfUP6LOp+lYSLG/72paFMRC1r8l5TMZyX2cP+Fuymw4z8c/c1YwmdC7+D+AGNEBMcz+PxmxILTLqPo/Lu7rj8Pu6D/b57VQSjCFPwk1m7W+BeY/qtyFIsbS+j8=",
          "dtype": "f8"
         },
         "z": {
          "bdata": "2bjv8fvG4T/1ZyqE1v77P4lcWsA8hgZApqMa4iWj8D8qeUI8ZfjCv5j5skszM9w/3U4TicZE5j/zqVhd3Gv0PwhVNqOGRes/Poqb7Sgb1T83lH05uufqP5nEKIMVhvE/11RyCYMC+j/c6O2iqz+hPw98gDIuggLAcGCA1lLJBMCAhE6Sf8T/vzi8PS6P1ee/WN3FlUtR8b/8Ds2Rf+v3v4NRVk6Gvt2/B424/JQ74b+vJyOdbuHtv6pO4B0Bvfa/Qq7VEorD+b9S/GwYBs/1v3h8xKk1T/q/clTH8EsQAMAGf/P1tg8AwGo9a3SayPu/b4hFJ1h2978f/DJaTMD0vynydg8c/PS/QW0F3ZtT7r/vKUjShxflvwtHlWtSZdu/VCA8l2XG3D/HH5BBzfzhP6jZOGJiY8I/XiWjsBlXy794EveQ8g/Qv72Xk1vHW9q/AMKnv7qglD/ZHw9xElPvP8z+t3wCjsY/VUDtiy4+xr83J+x/GSHiPwJp2tvXs9M/PC6cg2zYxb8w34XXUx1uv9p9n7cEqe0/anxXNI9zAUD/ovvTfVADQOZp3WzZqgBAcdGUMDc29T8elwZNERLxP9ISSBjhpwFA0Jl2A/hYBUA=",
          "dtype": "f8"
         }
        },
        {
         "line": {
          "color": "rgb(214, 39, 40)",
          "width": 4
         },
         "mode": "lines",
         "name": "Image_4_sum_spike_rate.csv",
         "type": "scatter3d",
         "x": {
          "bdata": "+FtGbqJY8r9VFBzw/T7qv31GgnFTuti/fHE9D0rf1L9Zu1KItTXivz7/p82UCeS/cnK3brJn6r/CVfrNhMfvv5ABwcfOs/a/xtrXDQJm9L9evHnlxtG8v/PLj7WWv/o/bnBafdegDkA4AQUkyQgYQCq3MsypPiBAl/9/dkKAIUB3OcF+E+EhQLo7HzD1FCFAc8BFQMN+HECIfkPCOugXQDW2uw7rNBNA/z+AbcE4BEAEz96QYBbQPx2JY8xewfO/trHSaUIYA8BITH7MwlgJwDD1CLX+QRDAFysFdaaVEcCNhXlWzM4QwHZXajKCehDAB2ZZ6PlCEMB+ZmqCBzsOwNR6aYxBfQrATrEOv7m4B8AjS7/UYtEHwADd0YZlRAbA0oIKF8EeBcB+YHPxlgsBwIxR79TmC/y/frjK/4mBAMCQJJPONJ//vzS6i/qoFPy/s6S1a1qA9b9IZulC7yfxv2xONkCtifG/RUAlUe3x+L/IwM9o+XP1vyri+s9YOui//mqHYyF86b8k7jSQ52vovzk3OZydafW/dlB0GTjs8b9xlEBylaafPyIJyij0HO0/hHk0774RBEC1N3PJL7QEQMnQEhRHpvQ/QCkKu89h+T8=",
          "dtype": "f8"
         },
         "y": {
          "bdata": "SWU6uvTClb+csM3tY0bLv9iUPoqYcu+/CsEl4Izq779aP9K/SF/uv8xDyXQ1T/K/JpyND9lz8L/wHY4Frz/xv2ZPRkGWw/K/bJJ8egvZ8r+Ul33AtJEAwEdGFt3T9gfA2Tyyt3qnD8Dp0+vDdcoSwD28Vm8CbRDAxCGWpNj3BcAt/GBIOuLlvyWxr8lZNQJANQcg3q/iEUBnVl0fZ6YUQIAPNQSCShFAwv8mNnsKB0C5rdJIH6v0Px6t0pnrruU/bHyCFfqY4D/4bcjfMWm4v0jlQYfJ/d6/HlaRbcI937+6y/HyL5DKvzJGWdKV1rc/B99fkPqnyD9f/aZi+rTJvxAbp3RTNss/ONXOdsgy2z8gVCKZYjnVP/kwlXxiUd8/BxPuiRUX2D8xCCqJK0XWP9pB3JdXZMs/m+Z+/tZak7/XfSPzmUPbP5pRdTPRNPM/9AHHQPsV7j9tsA/CsEHvPwODcmM15vU/LI4api+V1z9PrxEZRf7GPw+5TITv3OE/IbbKuNQk179MWjVfIlHfv6fBByV7F9C/bofl5zTz5L+AYR9vsY7ZP0bUfTFnN+I/hzaYCNGdx79ABIQ/n3bWPyRapNyZo+A/LwU8gOYU9T8=",
          "dtype": "f8"
         },
         "z": {
          "bdata": "dRpQ2prb6z/DkBr/ngPxP0Rn9e68TfE/miRu+yCp8z8V5Ghdt0X9PwsE0Z/X7Pc/7NcYppma6T9onjy3mP/yP0YEKwnQ9/Q/j/WHAb9r2T89c/DYSDeavxm+C7TzZ9y/e/LfMnNB87/jpFh4N7P6v4sldgn14/S/WRhjnQcl8r+dWeuJ2R7gv9ire2J7r8S/TU1d/HKBwb9hfD29+aumv2+DLr8tSfa/Txvmfeye9r81JiMaGYDlvz7Neov/Nfi/74vfYalMAcC9OX1nJx0AwBaqoGJIofO/cXvVKJ1/5782/3M2BTXsv21tZx28sPW/lesVFkV5+L/9nQYSRQPjvx1Auq9S0uK/SmRXemjW67+XYaO2qGLmv7v5Wp0KE9O/QWILCgwQ3D9jLXlY5gfFP8yWzI+Wrqc/kBmhs4nk0j/DdDBkRcXQv2w2nwRDMeO/7KMEq/K507/hIDlyt7+2P6oIUCWm0eC/I41XH+VRx789/9Jx9GzwP9FKLBScxuM/7Z10+F0b4D9yWrqD7nHwP2XQnpnFcuE/LDaX5zKJ3D+oIXNrzv7kP+nr3Bq4le0/8f9402ASBkBT7JsOinsHQKC0WwmFOfk/+P+hKyYt8j8=",
          "dtype": "f8"
         }
        },
        {
         "line": {
          "color": "rgb(148, 103, 189)",
          "width": 4
         },
         "mode": "lines",
         "name": "Image_5_sum_spike_rate.csv",
         "type": "scatter3d",
         "x": {
          "bdata": "YkTR03lv578GhSXPppjgvwYOynCvTpI/ipUb3skY17/KdZhUQhjxv6XRC7jzRfS/UwARegN857/glZ39N0Xtv35EGksE2/m/L7DKlE486r/tPQFAaPTYPzqErJT0dvk/sUw5ZwTgEEDLI65wxi4XQMcDhOMDgBlAR97EuPR2H0AtAMcVJlsfQBeng2zumx5ABk4//5VaIEAO/0iknAcdQOOt8uG1rxZA2OAym2ENEUAQ32jPccIDQFzusaQKGOQ/VVngdKnI5b+ahG0y1jj7v9hvadj8CATAJAvpmKZKCcBL1kA8qvUNwL3tEFPGNw3AMBytZ4AqDsAcHF+fss0PwLf9VFDa7Q7Arlr+vTcRDsAiHRyddFIIwDW5WVTYiArAUXeFzlOADMA3DAAz1tkHwPP75lEOlATAKWMLxskj/79vW4qpVYj6v5tPcI78cPm/rNUY0YtV+r9WlNxPMdP4v7hAJfT4s/m/0obevlrf97974vpzj6H0v1KDuFItJfa/oBpTAl0j9b/88pBSjHf2v+C2UOyF6fG/eOtyXiMo4L/4RCcScvndP5btb41ubN0/9mwmCMXtpj9jKPZDyU3VP9YER0Kx58o/saof3DKx8T8=",
          "dtype": "f8"
         },
         "y": {
          "bdata": "oe2TLQpa178I3j0V2GjkvwJxvhrFw+K/07CRpZ8h6L+VDtO1Ve7wv4be1jiSqeO/6PYeHVIH4b/Hi05qGqzxv24jkX9Iave/eFJ1evRg47+4WJTeMunov725AHmOAQnAbwtgXQBSFMDG2Dt/otwTwD/G+OHpPRHA6YzdsbjCDMCFU40pwCL9vwa20HD5iPM/pKfwNzl5DkArlMoxSUARQL3h8Pz9yg5AHwfWEEK5BUC+dWLr7FoBQIO6A1SbYvs/1iJQsRN/6j/H49OpRpW8P0mm55QhONO/HUA57FFK4L9JyxZlfgb1v5jh5A/4Re+/LupXiHRU1r+xEegPO1Pdv1uJfWcGT+K/QRZddF0Swr8v+XTDgoTaP4NXNR53odq/gMrFtgMV67/aueLVEbu5v46XsGJCU9k/aOc/Bngh0j9HD/6rBqjQP/9RQw3OXt4/VkNxzjsI5T9CwxJ0/qjrPylh9XDPk+M/7G+LtvMi7j891p3kfGHyP/VIjQPS9Og/5M7H5bPm8j/mOZjphwjzP2ONwb/LhvI/rtsPU07I9j9C527F8on1Pz2/XqIti/A/nRCnAS3+0D9xLYW8KsLKP/Y2MBZyO+U/Cz+pBAud9T8=",
          "dtype": "f8"
         },
         "z": {
          "bdata": "O4Z+Z9Uk9z/1aC54Zdz/P2IvSDwkzgNAb7OeI8FcAEA7QQbb1kH5P50SjKPeowNAVCv4ELgNA0BiqDAfxhn5P62VxaAgRfU/CwRjWP7pAEAaLuO3i0kGQLISOkyQGvk/DErNhWPh8z9/IarKJCDgv/duHIUhcgLAUzIBnjloAMBU4pE/quH9v+P8+Aw6YsG/RKP/4Y964j/6za3zgTrQv53ieHIzU9+/OGNxpHiy9r/O47FPANH9v9HgaWFqpf+/PC7a1NrgBsDQVAWugR8EwAqNomBrTvy/wEKhJpusA8AyrfygLkYDwN0CERdsQ/u/8EczyAiJ/b8wO6DMeoL6v1np7XgMVvq/ABELpjyG/r85jIfas2X3v+ttsM7CuNy/7hpr0viVwr+nvp63Ob3hvzdoOj7sRN+/s+VsXOGN2b8rFNO71CLWP1b8M+a3ssg/QiH6VP970D9t6/F3SKLzP8T64IH1u/U/TQRxckUf9z+YmMCJzSbsP6ZaJghWz72/YEqGCHNPyL8fiQdGTfCZv3uXbfJiRNa/rXTllBjusL+rlFVQgf3sP6spsrnp5Pc/3YqBaavA7T+BH4CH7NSnP4m3777Ugew/GsQvGOPMAkA=",
          "dtype": "f8"
         }
        },
        {
         "line": {
          "color": "rgb(140, 86, 75)",
          "width": 4
         },
         "mode": "lines",
         "name": "Image_6_sum_spike_rate.csv",
         "type": "scatter3d",
         "x": {
          "bdata": "EkNb4XzI6r/40Zui797xv7hlCYk0CvG/8lA3cg992790ge1UuFy/vz5tsGxOwu2/VgT/zYpe9L/L2XTc5ALuv/MRTXE5bPW/0XuvoXE39r9RlSEOr2vmv7pvTgUiC+g/oT55K/SXBUBdEiPpyAISQEIXPFk+wBdAWLwzjd6OHkCSEgWy67giQLqn6aq+miNA9/MRdlz1IkDrn3/XXi0iQPV/nITbJRpAM8Tj5WAjDEDj7l3J7gQEQN3aDVykPvA/hgTCBl6z679wZfbpmhX7v9BvLcfVOQDAJXiIxN4X/7+VrVRDI0T/vwWhMpaPegfA0/wMvVpxCsCKmkXYYY8MwLh33OF3FQvAJtoBTjh8B8DZVTmPPNQKwNy17q7NBwfACxn4Q2GeBMDJF//AAkgGwBBRrKu8ngTAzAC9I4RpAcCJ2+OtWI3/v1C9XEtijfu/6dF0FLEm/b83qAtSCMr/vz1QwwpBR/e/ZD0P+3E+8L+XTQUuCVHuv+sQGYTIE/q/BO4KkXwYAsBCxG8toM0AwE4sBWeW0Py/g+JCIVdi67/W/0yMcZLJP9trRjNdzdm/zHBOS43U8r98KDzx2j3sv0QYoZlSe8K/mRL5x66ezz8=",
          "dtype": "f8"
         },
         "y": {
          "bdata": "E5Q7wacL5r9UkzmuMgLwvzIWH2igyeu/ZL85q6fg4L9Wj9A0O9nHPyF+6zcc1N+/8/gLy+fK9r+/t32mC4fiv1FH/XfijN+/VBOvLM/y8b8j+7zw8VoAwARDjn3xHQLAhU47+hJECMAAlAeiuiwTwMYAs4muKBTAwTWaoH58EMB8D7aJGXz8v+038yCoy90/LqlqC/NdCEBUg8Xxmf8SQCHua7ZDmwpAVLBEkLeV/j8nOtvUbZ/7P+xNG89EzvY/nturAClkwz+2QTRlx/OqvyeMVh8jsdM/D1uFHPl/tj/UiOYgrHbbPx65u5WvgdI/rg88kcgr4L9Lcjapml7bv+v4KNuHpp2/lEBBphI33L+Xm9b/o97BPw1i05Vl5fA/idPdzRy21T/eamLKEPGzv355JaOId+S/amwtIQ/6uj8zyvn2/ZPxP6OCoqgqv+w/1sceQnaj9T/49sB1hfT3P5vL3ENXPfU/Q/w9cUvi6z/upYf/utXhP4iU5d5ZLeK/vtHv8KpO7r+JPhbajbbMv4Bab/KAX7o/ZOIqJv346z8S17LiB1IAQDUehJYWQPQ/L4aztQlCz7+MnI0gYzDYPxsFHSjCoPI/3F1iTMY99D8=",
          "dtype": "f8"
         },
         "z": {
          "bdata": "HqoCbVhy/T8Vfg8k0X8BQO3AlmRWKP0/g5PZaefEAEAgmhq7kZ75PwQJWMGeu9I/i+Y0nNEP7z816uADMQYBQL/3VA2lZgBA8iJsqpGh+T8uVI+GtlvgP1EncfP0r/M/86Q0LBkv+D+7jUtduK7IvyrBfnRyS/a/L5cldmQy/L9eukbZfbvdv+AYGtROzO4/D7Uah5Xi1T/AGyxCgFznv+nLj8Tmuum/m8e/tZmo9L+0vAkH8LECwGWAOxO/zwDAOD2ETH6q6r+phwKO+Tjxv1OPQTeh0/2/x8XbqUC8+b/qQCUcNnXzv6QzQW3yqvO/NkEK7dhJ+L8SZKx7w20BwMSCRB8osfW/vpScinxe8b9oDJ2RxCX5vyxKMovlh+6/YM4FEjGr+b8cKFtT6m36v2NdmR+y9e+/LU66ARzN67888Mj1azaVPwlAeJXC//8/4L2BtmT5+j8cfJVIpsHhP3IJlWUTU/A/z96Pgir05j+RRp6/lPKlv2MSFnBVZPG/LF1blYfy7L/evnJ+idzav9Xt0AJ/itE/JGetX6/r9z9CLSnRFMwAQMuPADXPMPg/bHR23F2KwD9YJ0fujq/iP/NK8u6lDfA/tbAhJC3X7D8=",
          "dtype": "f8"
         }
        },
        {
         "line": {
          "color": "rgb(227, 119, 194)",
          "width": 4
         },
         "mode": "lines",
         "name": "Image_7_sum_spike_rate.csv",
         "type": "scatter3d",
         "x": {
          "bdata": "s+OHZpT14L/jnVZ2Hsvov/GRfqkDi++/YZomQ6dJ7b93Zda4SsPov/z0VtKibuW/pn6o8agf77+qqp3ZejPqv4KW0bybt92/YmKik7Oy0L/ldLHfdQHaPzIM70XtMwFA2ZzFUF7UEUAh43E95VoVQJ50k6WGxRpAHnWb70GmIEC7xFa+1KkhQOnowpiUeyFA//0zAhNCIEBIk6HADqMbQOTK0kbhDxVAMhgDlLN4EUAzuIfMe/MLQBK4u6vo/PY/AW/8u06R078dhALi2Anzv7+jOdWVv/+/wlgeK9s+A8BoMsRYpQkHwB8DSW4SLAzA/EuZZN9EEMD7DSsCVWIRwLmjUoAN9xDA7PU6ln2lEMBQSmsLrCkPwF/HZStChQzA63xmPfMvC8BQWZiQwJELwBaMJOFzfgjAKXAx73dkAcDfio8YT+cBwFHZHw9BnwPAAMgoA5plAMBbU07n2Gz/vxGA3ADBA/y/hpRP3i8U+b/+BwBUacz7v/ueyj28dfa/agS+Iqua6r+edbjGQdbkvw0beB2uC+2/Iw6mqqao6L9Exh4tMcjVv6aJcbR2CbI/ibP4GjiisD/o09E9wFnSv1RDQ3GL5cq/HIcPkIuV0j8=",
          "dtype": "f8"
         },
         "y": {
          "bdata": "66t+eCUd/L9YKln1jM7xv9hc7yvzw+q/JVtiYmsa6r/0j6KBNbXnv5O+rNPMzPK/DKMvdxEo6789QrsRGrfnv8vaS8dwePa/XzLIwSVs+L9x1nqSRyL5v3hnC8yGyAHAnqLzgjsvEMCH/lWqGrwVwMpWZzPX+RLAu0vD+bR+BMB5v0o7tfnQv4yEyf+R6PU/CsHiRzE2BECsNqPXE7sIQIUTNh685wdA94cJQja+DUBHKW8DTaAMQPgbaJw1WANAEeOfAVMlAkCa6eLUglbzP1agmJzaytc/qXc2Db1V8D+5Ij73lUvvP1WED/6NpZG/j6YCaGaf3r+7hfVTWCTlv28Onf8F5+S/yHUZHS1t3r9NAzN/zzLcv+DRU9I203a/n+chJS6Gvj8/aLwZs5jgv/o8Rb8nBdy/dETe3Qi41z94RT+mFb+5P710wnAhytW/EPDCko6bxT8N2/Q5byHaP+vJDe+4A+Q/tDOff8dr1T+J/rOC2DzlP9gkZ+hyg+0/tc2GD/Nfzj/7oudkEF3lP99CMgG1Xeo/BmCGxcg60j9tYkrFnEHSv/5xbibpUsU/X332c6ik5j/krcrOeKfwP7/XqHrfBfk/cVjUEjn59T8=",
          "dtype": "f8"
         },
         "z": {
          "bdata": "k94Ki0nM8z+t2E78elL0P7pNNFyfPO4/iYGgRuQ/4z9FtfUVUrbxPzNzRqRTG/U/lXoYLekN5T+4lLzI6s72P1S9BHx6FQBAl2Yk/nX3BEDdcR/GTq0EQBWbaLcON/c/v/1M0pbG6z/+TAUYnS7wvz/PPNLs8v2/7zk7BeT1/b9aNNPK+f/8vzKgc9+iMv2/e8ueoREb8b9VAmV+WSbgP1XGrDhyD+A/pZA+rAhEr79h8Da9Lt/XP+7IzNyJOsA/DnE8xoRpyb8Hrr3XisydP+fQgqtmatu/J6VSwEcD7L9bXpbr7AX3v4sHsPmnXv6/zvzZGAGn/r+apaLe/k38v3h55Y0hyPy/TfoANSAK/r/tnmlYvi/0v5qFvkQ7I/C/q7jj51Wu9b/3FhckodD2v98J+4lRCe6/9VhhcAPn3L9T0mqy3RzIv6eYRfsbBNK/oVI8pJ/A0r99+9SQ+PKtv9gdvX1hapW/h6Qg/fYakz847i3pNerDv53psJelYJY/H8zvruEW6j+P+JE1fvziP9rwBcUXpLU/aCddFg7r5D8sLFbALqj0P/sD4Zpd5f4/fhRUgIe9/z88KmMpMcvkP8eSmIpwrLs/++wXyroM9j8=",
          "dtype": "f8"
         }
        },
        {
         "line": {
          "color": "rgb(127, 127, 127)",
          "width": 4
         },
         "mode": "lines",
         "name": "Image_8_sum_spike_rate.csv",
         "type": "scatter3d",
         "x": {
          "bdata": "MMw0aQ4u2b9sgQKnpqfsv3A1y+yx4vC/2dOKkQgq2788/tITiAbZv9okdJd4Udu/ia0qkWem0r/vliJYZP/yv/05ZJ6mqPC/Xjb8XFQS0b8Ubmevce3Dv0KhoxVkL/I/GkTg8+uEEEBs2SXNANAYQMVWl14yzSBAzHpqyCndI0Cob+S/g1ckQOiFQ3TNvyRAg1qraQOzIUAQcWK7X+UXQHAFJW3srAlAaS+g+EF2/D9HTzzWu1vxPyRw10QbJc6/jd2TvaJw9L/5IZs45OX+v6mIQP6eDwbAYegYIN46BsAYkGuPFusEwFRbHT+KUwjA+etjFoU0CMBX/t6M/FsHwEqNc+ZC/QrAvmdiWd0nDsCa1neEa0INwMal+rsRpgnAAf5mJkFnCMDsQGkUBWcHwJ6+ojRsKwbAmrXRECm+A8ClaYNLr5IAwNo9RMQDbP6/DO0t2y5G/7/jVn9FMM79v3jFgtzo0fi/VhyVgLR7/b/GlUZ0IIwAwAem90+HlP6/RdhkrJoyAcC+00BjMjH+v1okLrmQmu+/iDJU9B593r/i0MdJiF7av3dchP9OBtC/brx4zNRB3L/sTAZNx0ewPzXyw+/pe/I/qH8Ngz8y+j8=",
          "dtype": "f8"
         },
         "y": {
          "bdata": "1X4a7G1v0j+6wV+eZzO+v0Uxi3QjrNs/+YOfNGXm6z/f8wem5JTkP1LyFxoEve4/lwkVzM9G8z+hYgtP6B/IP0BIlabxN9e/maSi27q94z8rEjdZF7XYP5O4vPoF9PS/6FlxiuXaA8D267dJV/MEwGAsX8WYoArAAcuaeJSqEMD+zFJUOsH3v9rTInCRIfQ/CBGr12nJAECiwZL6tS0HQANjNEooeAVAzv8BAK6/B0B1HVE4SgYDQA1sQvzlb9I/e8zac8fitj/1cqb4v9HhP5zkanvDfui/OjRhBZEd8b/OjosN1+fnv+R1vjj+Lvq/KZzXU2im9b/eliK75TDov6a9+kCS5vG/ThFuYeVg/79JxblHMgcBwA2ziMrXZfK/6rGgylXe4r/VeLrH6PTfv6eLJR9nEue/8tetsci96b9KO0uaXA3Yv26kTv1vI9k/5vlHbIkc5z8oWWYyJgK7P3f1ru6Dl+W/5S8RjP9Z3r+0+oMYKwXkP5Blj/sf6+E/9yfcMtFnsD+3MJ8ViZm1v9xtq8hzxds/tQrOL20G9D+14FEuo5HyP6xS/gpMAvM/kcOMLQg36j+hW9fxtPLaP4PqV+k39fk//UToYTfSBEA=",
          "dtype": "f8"
         },
         "z": {
          "bdata": "EKpSFvL2+b8tyZcQh9v4v9pCx6qtwva/Ix3EqOiV9b9LboA2Gyj+v8GN+TAPk/+/roajVm9c9r8hWv/Xbbj0vxojHn89pwPA9cMzSegyAMA/UjgKCar0vwuD82lSkPe/YmsmavlD/r/zjIQNfWj0vwUkLZM6l88/8l1F3TXRvb/1PEqO9S3eP5KSYeg2u/M/Ph3hXlkoAEB+k0JVxTEFQC60JREYgvs/6K7LsBa+5D9QCaXAg9z0P88GxOCrHv8/g+rLsakT/T8NJVFD1+4AQFPW9vDfxQBAVbe3SPuV+z9DJTJriWLrPxjut1+imdU/Jr4ZoIV+7j9o4o6JguPtPy7v7ooLRuY/yafyJFpY5j+zIsL4CdblP8jB20WTB+s/c5riCI/LvT9/3CK9e4/WP+2fhQBzLu8/dZuA+aem3T8LpSfWuJPpP9gPczDWYuI/PXlqQnd1or+P9Twbhyy2P7fvlt0MHMk/PiNX5lUNmr/Gne1fj4jPP0CZXWldS+Y/duGwNU2s2T9hCk5oIb3hP/jx2n3hDto/zwyz7fVo6L/7OJFabiv2v5n2IJmTP/C/5draxlBA4L83/Mn1Xq3mv/pjo5rqOwDAM8s6ouTmAsA=",
          "dtype": "f8"
         }
        },
        {
         "line": {
          "color": "rgb(188, 189, 34)",
          "width": 4
         },
         "mode": "lines",
         "name": "Image_9_sum_spike_rate.csv",
         "type": "scatter3d",
         "x": {
          "bdata": "UB+Bhpt04b+SXElDKML3v8e38kF1l/C/OXukGZ1Q1b8HeqJz6MPUvy5h5khhO+y/QtkolzR5+b+oYHntGmkAwMSPfTR0QgTAcoKgxhDM/7+C3B6d9S3pv3imjXzBDek/J3SmbdtRDEBC2eK+BhYcQF0x8dEKSyJAlR0jVdn5JECIvfjGiQ8mQIIopcdmKiBAe+WGrYhZFkD7vGjMYZERQGs29WGQlQRAQbiqwZln4T+Isf1sUGjwvxJXYuLXUQDANuUAvooYDMAc6FlaVA0QwHabMoa3AA3Agl7Wm/RVCsCNn+9KdXoHwNb1NogTawbAMcwaCHzpB8AgReBbTy8HwB/ovabP7QfAM5vStjAlA8DzO6ennhEBwMT/quDcTQXAZqRkj07kA8CrdXGBfRIDwDobbjGf6gDAAI+2ryIz+r8AVuBM0aH+vxqYwQDkMQPAFIeS0aJH/7829yYMPfb4v+h9rJdhNvm/eIk8NNnO9L9n1ivs5fPwv3Oq2+jF7vC/VAgUD9S47b/UWs97lqnGv4stSNtvaOA/555TS4ys5T8mj7zWs6zyP/m+AUys+/c/owEtqBzu8j9HhDxL/uEAQNDjdLOv9wJAgA2qQRWzBUA=",
          "dtype": "f8"
         },
         "y": {
          "bdata": "y5FLzgqZ5j9n9RH804/mv65f/JRJkMq/wIVXKWDN1z+IfONF7vfhP48qxTC1uMA/JOjTNm8R7r8gUXxcspTzv9prFTPlw/i/cErcE5vJ0r/7n9OmAbTkP2RXsFOoVOy/4v/oLIGgBMDIJ/JUpwsSwN8xnx3A2BHAZ4ETDOzGAcBGqceCRNvoP70avFYmxwBAYLW5HeRPDEBE/IchftYSQFlVNFl09QpAD/GWmNkuBEA2QoSCZqv5P+LBHNIjd9o/qelCN9Fu4L8HAy606e/JP2mZEWgPPsw/Inc36LzVvr9cKbG32Fnhv5AxRwp1N5y/r8ZwnasHsL/zRiwrMRvxv0vr75yiRO6/Lb8wYOD5+7/Tv3NSog36vx0SGRGHPqq/BLtO5yzNpT8CoJAtYd/0v9ew7e9dFum/FlQp+NuRoj8TV7/KxYmFP9Y5sJh2Ou0/JmhaCMSQ4D9I4JCp1NrUP9RqR3dta/A/f5Xtyu/Dwz+2RtRBEhaqv8WiBKdfjKS/yBDysscxxr9fO/camjfWP81GQYwF9eI/OJCtpI664D9Kca7pwTfFP1tW/OFDseS/iZZgJhfk8L9osrITs6LaP7qlXNMRD/g/rtmukjZI/j8=",
          "dtype": "f8"
         },
         "z": {
          "bdata": "nnn7p9MF8z/lRrqYjeX/P8oOkoWw/Ps/E5vCznSM9z9Q1dCaUc/+P/HeOvXLvvo/eTNRXJg4+z89NOj024zpP7wd2Nth7sm/lTRwQeaE6D9xNum22yT8P2bFI3gU6v4/L+E9PaIQ8z/T0cTHpOezvzsSmGfYVOy/CX5fsvfz8b/EDAe0uOb6v1pud99C5vy/jRe/sq1w6r/9NltJCf7ev/ME1qcuUei/j8frwaOu7r/kS4vDEfLtvwLaok6Mevm/B5iK5HMy/7+GJ0c1qqz5vyghqwK+Kf+/Wf9YYAWNAMBVceVUEhX+vycnXZX6MgDA/Ku5uGaU/79ilpQ8BjvivzotkrVKH+G/pq/s7jF88b8MjSLYkwbgv3uyLtR6ytA/kPzhEecnlD+MVZw+FHzVv/2bGMmsn+i/1El+rbmv2b/kKLM4Uz3av0Jb1TecH+u/Nex/jIsQ3D+tQ1bLCWT0P4xslqSsKOk/8JC8eMuu1j8SOu/J7yTQP6d4mD/iZMe/Wd3dIXOA1r+qk+qr5hXRP0gHgXmYtvs/mwS6Sc889z8VR/ekPujPv0t3zflyQ9y/1XFdl8PD4D9YETgaDmADQLIPGOHyhv4/vFRX7k4M+j8=",
          "dtype": "f8"
         }
        },
        {
         "line": {
          "color": "rgb(23, 190, 207)",
          "width": 4
         },
         "mode": "lines",
         "name": "Image_10_sum_spike_rate.csv",
         "type": "scatter3d",
         "x": {
          "bdata": "pCUYcubi6r+iu4uNM5Tvv8FIUALUAPW/wTm1pBi89r9wFnFnMeXzv7c8iOmSoOe/gVt+RPJ81r9QgeE9kwzrv5VhGZjqdPW/N/j7W5RZ+L+0jvbC+azUvySoqzYM4f0/OkMZG/TpCkAg3ZtpBxwUQHPZ5KbgtBtACXaHWCK0IUBINSe/2wEkQLtON6NRQSBA0Blk/r/eGEBck9ySJBoUQG83h8jzUg1AZpkQxYKjAUDkZUywzpPyP6AuomtS5NG/lE7xIycjBcBIGcCZeN0JwP3IFj8H7AfAynezudTHDMCpSry2v3wPwMQSRiJtbQvAuQfCJPq0D8A61XvKejQSwHYu8g9G5RDAOJocum+IDcASjHHtdJgJwHr/dC8+lAnArF2DxtmZBsCN7RGVC5wAwG27d3iAqQHAP062CkG8AcCMIlhHgWoAwHF5TCBavATAGhGhDz2RAcDYwTUrTMPyv+MQXOZO/fC/ZDo06SGy879INfz0//L0vwhc1b6+9va/7bLAQ15w8L92eF3El+rjv/nTVv7i7LY/KKPuyqGf+z+BbDHkm6AHQKtz7DfQewdAnBHWemniAUB+2WdvL+T4P6QY5ZkQl/Y//cmL9eFEBEA=",
          "dtype": "f8"
         },
         "y": {
          "bdata": "wb/SSK/evL+rWOEqdmzRv0jHjK2NsNS/9+U77a0Jwr/bcfJsn5/AP/RXbE4IT70/ff4DvqaB1T9bOfXpDZnfv2OKoHRf6+6/p1rt3SYUkD8InnWEqEbSP9VGuzMta/K/JdyraFBkBsDfTd5oY/kQwLm4qiyBghPAjjpDfToDD8C3kW6kEhYCwCY/m/G0AtW/tD8Ws8E5/z+jCkFnliwNQCJn2bQw/RBAOSjpkbhpBkBe6HenpQX3P8LgER0S6N8/7lnj4+Yi2b9IUX5JGZTgv0urkDSOJtO/yst303bD2r9kqqK7RSvuvzRze6CBXem/2ijLjxgy+L/BO1IweCv9v1kgZMOtwPO/naDJ/XWY8b+jQ2H3Jjnxv7pPSe8jvtq/axVY4BA2y7/K+BiFWM3GPwveiTnq3+Y/ma4zp1AYyj/tKSh0HKrAv2oBpWfNtNW/cv4O/WVH6L/Va7ARmpLUv6sufl6c8eE/wgHDGm090D9/bIVUbjnIPxxNm/5eveU/8wPQpfFOyz/iLj/RwsHbP8jbBLn7wPg/CyoQPTn4BECSFucGQswBQAMlDcwuOwRAXQEsd+tOCUDS2s/Gopz9P+lZc7/8gMw/xNJhaqBV8T8=",
          "dtype": "f8"
         },
         "z": {
          "bdata": "zINHO6KnsD+vcsGsSHmqPwIUMZubi9o/DUOl1W0K4j94i3DJJAPFP8e0/ulPAOE//zYkKfmb9T/XMwr+mHD7PyPFkCB2hOk/ZobtnW2m3T/5Vlgp+1EFQIPZ8kV3qgRAth8EmlSw9T/7vTGkN5H1P/VLjACShtU/czTGldrb7L85+5ZePrT8v+e5sxlChQPAPLwV659u/79FG+pxGZ/xvz+pNr2h4vq/f8z2aRskBMCUdDJAPLcBwFwccGPQfPy/LSKrWIlB+r9CkHBl9ybzv4q6icrO0vi/jWVxZLXQ9b9HVifUrqjdv19fKuh2/sU/5w6b445X0b9JtrViAL/wv+9Onra7aOe/JO6EvqnH8r+IFE8wWjHzv1k8GJ0ghfO/fYf4LOqu8b8d2wWz1y3Rv6LoFRguU+a/RzWwxg/Xsb/uqyVwhrTTP/qx4aqhjNe/hZrKX2+Pyr99U2Yxoj/VP+qXuEJlZe0/WbPw18kt5T89oW8Sd/7wP98uaE1/CfE/dUOYkQhfwj/qJXW/0vrQP1s8KAW3HvE/xRBLc+GL+j9aMV+S0qwEQOde0yeTuAJAD03Md2+/3z9LUYMDp73lP1qiDO4UVf0/IGFbsRwu7z8=",
          "dtype": "f8"
         }
        },
        {
         "line": {
          "color": "rgb(31, 119, 180)",
          "width": 4
         },
         "mode": "lines",
         "name": "Image_11_sum_spike_rate.csv",
         "type": "scatter3d",
         "x": {
          "bdata": "Expqm0c19L+yn+18lHrkv9rTkDq0stq/+o2dG9868b9eC/Y0CUTyvwNael4cDuO/4BS3Cskb3L8OOSczG7Llv+IpjT3hEN+/54ObsRA76r8vpwHJiNjuvxhUoxSg7/E/POuGJOAEDEC7ywpSxiIVQMXAwD4M5BxA0jZOsoKEIUCGROmOHpwgQIVvsn4dOh5A6BsKQEWHH0APtROyt4MfQCN62s6RwRlA78T7gCB2D0AE8/fcCoQDQKgLC2HewfU/9PKHcIu55L9OgRWJKfEAwLwATv/F2gPA8nSaq+/oBsB3Mllt/kYIwHnxiC+lMgvAvkak8aUDEMDX8Obkd6YPwOG/tHwFaw3Aztgnpu/zDsBYFkMjflwOwEJ2gireYQrACs31g2W6B8DQsVI1lYQEwLlfe9SfXwHAREUuvRJnA8ACOb3wk+sBwOHLg1OgvgDAslG2KIbxAcC5kIGoHsD6vy81mq18c/G/TAtYeDHi779D8VkkFtT1v5DB9vyM5fm/g/CioFt1+r8YUWMCY8T0v/eXJF8bjOO/b3la9dok8L80x3OY0mT7vweEH87ct+6/yGG++Jj6sz9KnfxV1yTnPzPhMQn4Z/g/7vbufovCAkA=",
          "dtype": "f8"
         },
         "y": {
          "bdata": "7KuG/zId3L9LXG1DMKLiP2luiaol6Mk/p3k2Bq2z0r+poGC6ejPQv+j2tbKyXtQ/oA19MHz6kj+boeufG+Xrv5AclqtYNdu/1zlqvb8X778a65EHRtH0v8BnT0szyPW/8zD1aQ3yBcBqr1w8vF0QwBfVwuH1yBLAzEImGcHBEMBBp8j1/8wCwLSfot8jS7Y/HnBWOy2mB0Cr1JGfTw4VQPzPUVBA9RNAdeXQKL3kCEANoYpHJXr/P4RKcSyb1AJALUNLS+2xAUCUto/xMlT0P1Oi5zZZsOc/0gKPV9+Y2z88s+LRiPfNP5EsSRy3q7I/ghnq8rrg4b+tw26voIvfv+8X3RABl8+/u0P/2IzZ3L/hAbEFaNrZv7DTFMu/usi/g+PxuMpR0j8nnpq4ju/TP2oI+JxCDaE/MgHm0P5Jsz/xd2b8q/3ZP0FxqtgOlc8/i9mrSr014z8k20hu0hWyv+8tE8eMBum/JvNc3HXK2T/arpKLATjFP0BIp2qEYuW/c0Mmg5k4w7+qk6n55hvMv3g0iTzWUdm/vSO79RLj1b9bV/IzhBaav6+AnM7WPNe/ebjf7eDS8b/PC/UK5ubYv+AJ2oDR0uU/TPrwNpSO6j8=",
          "dtype": "f8"
         },
         "z": {
          "bdata": "CsbH+a2m6z8AnGi3lLfiP1YW75SMF+8/RWugLJ5b+D9XAIKOziX1P2AX15I6z+k/imPgwL0x3T84TqnrUtTIPzxejWnfiPA/VhFdpfaX+j+7DOW7ppbbP5afmjLN4dE/KihCOpBy7T8n+ZYez4vuv3DRROzDgva/mETYC/8k9L9HD+Lv+J/6v9drttMPyt+/4kBw3RA44z+U5S5xRbnhP59/O1yXt/C//WannxpV/r976Zx844Xrv4gmMcNYruK/pY4maqiV8L8m0azzG3L+v6MYwB5I/APAUgeSakkfAcAFDGJrmdj+v6NhKY8cMALAvDZqdbTr+r8rGMA+C7vmv+Jt0/CXn/G/mxLi+dj79L+91Ic8nyfjvw+OldTZcNC/UF41+kHRwL9yf/JbOnPKPyZcfKm5usI/DrMOuJaZsz9vj121rNrUv2wyiL/e28G/8enI2uTG5T9Mu0w6dwDmP9yaVhecXvE/PSU3gY/c8T+xAgFirnfaP4Hkc5snx5E/rYF6W9yp1L+Sip9AYHjyP8WR0ZrLVwFAnM5ukitI4T+EUUo5mq3Vv5GvKA6pqeQ/TF1bs92a5D9sAc4MGsv0Pysx0U6rqQhAhQrYVOGUBUA=",
          "dtype": "f8"
         }
        },
        {
         "line": {
          "color": "rgb(255, 127, 14)",
          "width": 4
         },
         "mode": "lines",
         "name": "Image_12_sum_spike_rate.csv",
         "type": "scatter3d",
         "x": {
          "bdata": "h9KyQH1j5L9f9m1BBQHwv6cc1Pq/nvG/k3Wq9GFg8r8Nxmy7dwzzv6BbYiULlPG/GI93voSr9b+S5HgTj/L4v9m+Y7E+p/K/ElY/B/zm9r89nOLK9YbZv/wNFoRAM/g/kv+LXwCNDECEQXxOCt4VQHfLmBHoXhpA4GjqpVAkHkBKg7pYPKQgQJ8zJvm5NyJAzVrdjrxiIUBZKFUypcofQKNc5lEhtBdAf6NpzprpEEC/1FgwkuwIQKToNZW0k/I/ZxdXg2961r8uuE2kRfv2v9QEVQqwlfy/liIMQ4jJAcDPuDQFdV0IwNqdRv9o/gzA6NcuLRsVEMBe5Gk52kwPwDWjviKP5gvAebuMjB7WC8DUItRp/T8MwFbiYcoVWQnACQXtD8JYCcCGCkfFPdkHwCoGGyS5QATAMSpnWsatA8AgkV9dZGv+v7n+vDtRRfm/bMYnfb9V/7+mSyIvpLEAwEeqF6s2dPm/LBJTiQHd8b8AV0SRoMfzv/WOAMHR1uO/EF7MABqK9L/Iu+W0aQgBwCplmS5Di+u/vPEZKjHc4r++eNBuLRPxv/RsGl0L6Li/6ZcJIFxL6z/5ssca/AbnPydEZG669dI/49Jifq9b1z8=",
          "dtype": "f8"
         },
         "y": {
          "bdata": "9xAJGFzOob/suOOKLG3vv/HEcOo5pvO/SEqkVrEX27+LxHb42DGtv1dIoLZlyNk/Z8XgVACCyD9zLFusUhDQP5lEC/J58rO/wQqzWYez3L8hpqaHTYjRv1olU92GYPe/O3s8dAARDsBn8SD4LyQWwA9xw//9QRbAu3v7svn3EMCiiMcUh+UFwEUER+EmrZM/Zp94sQMLDEBDiPw+kIITQGIuFyPaXBFAeWi8E7llCUABjQ0Uio0CQHsZriMCx/k//gbatRoy6j9gKp3FH8jjP3jNfCqXveg/4Ur/OyFvwj/K6rfd/D/Uv4MvnJV0cem/CJpqHdkk9r+8a1Orb8Ppv/Vj1bE5U9K/E6yWo+b52b9DhhhProHivwN46tPMZOu/7QaxabZp37++c40Lshiiv0ghvhwmGKU/yzH9uVTNwj/lRlCSv6rgPwD35IkACLg/2OLoMbYuw79tuYgfxHLIP5Q6RINTH+E/i/t535V16z+xp2Mo0SDjP8r9bCjfjOQ/0KILKpG31j+MH7CCFCfev9DOwC622ca/bvb3QnxK4z+1sDRjCt/QPzqom6t6wuA/74Q/a7Cu9j99NG8YMV78P1j5SHjjOfE/zBYMXMh/7D8=",
          "dtype": "f8"
         },
         "z": {
          "bdata": "0E1WDTEW7D9364kQSyzjP1i7zyzOsPE/pbs8fCIB8z9HHxQmByLbP3N6j5QhstO/e27OKIzU2b8bXfRioDPhPw+Tuax139o/qfZD+Fsk4j/rFDwt0QMAQKBLaBWkhQBArlGW2SZ69D8ENY7r5FjQP5isTJulueq/RjDnNzTA9L/GiyMCslPpv7Vr2esdgcy/+L00uExg4r/3X7hIhBG9P/cwSq5OF+i/k2zJaBZ4/79E/gPeKNv9v0sM7XZB2wDASdVI1BhP+r8MIO1fUKH0vwbKRGKl+PS/rDA+X4u6AMBRBrYcyHMEwJeJPNz9mv6/mXHgrHTl/L+tHGcL+OP6vzzYFrT5WfC/QQRcVkr+7b/fhYvucyzrv8soB6RmEt6/OUNg89ifv7/x5bOpEAnPv4hLaSFnxNO/4lNGY08bxz9fMBzt5RHoPzfwL0Mu6eQ/JEwVTB0Tur/0QItnlSnKvxvwQ1KTLNM/GM87cWeK0z9lI+H5FcDfP6/QV9+AT/I/KqjNM2f15D9R29FvxsrFvzG4YoN5dOA/jj9yP22H/T/6jXSVCwgDQMTvezO+QQRAMCJ1ybRSAkDU7XYrcpcCQGRRLSVR5vk/AFzZyUDu2j8=",
          "dtype": "f8"
         }
        }
       ],
       "layout": {
        "scene": {
         "bgcolor": "white",
         "xaxis": {
          "backgroundcolor": "white",
          "gridcolor": "white",
          "showgrid": false,
          "title": {
           "text": "X Axis"
          }
         },
         "yaxis": {
          "backgroundcolor": "white",
          "gridcolor": "white",
          "showgrid": false,
          "title": {
           "text": "Y Axis"
          }
         },
         "zaxis": {
          "backgroundcolor": "white",
          "gridcolor": "white",
          "showgrid": false,
          "title": {
           "text": "Z Axis"
          }
         }
        },
        "template": {
         "data": {
          "bar": [
           {
            "error_x": {
             "color": "#2a3f5f"
            },
            "error_y": {
             "color": "#2a3f5f"
            },
            "marker": {
             "line": {
              "color": "#E5ECF6",
              "width": 0.5
             },
             "pattern": {
              "fillmode": "overlay",
              "size": 10,
              "solidity": 0.2
             }
            },
            "type": "bar"
           }
          ],
          "barpolar": [
           {
            "marker": {
             "line": {
              "color": "#E5ECF6",
              "width": 0.5
             },
             "pattern": {
              "fillmode": "overlay",
              "size": 10,
              "solidity": 0.2
             }
            },
            "type": "barpolar"
           }
          ],
          "carpet": [
           {
            "aaxis": {
             "endlinecolor": "#2a3f5f",
             "gridcolor": "white",
             "linecolor": "white",
             "minorgridcolor": "white",
             "startlinecolor": "#2a3f5f"
            },
            "baxis": {
             "endlinecolor": "#2a3f5f",
             "gridcolor": "white",
             "linecolor": "white",
             "minorgridcolor": "white",
             "startlinecolor": "#2a3f5f"
            },
            "type": "carpet"
           }
          ],
          "choropleth": [
           {
            "colorbar": {
             "outlinewidth": 0,
             "ticks": ""
            },
            "type": "choropleth"
           }
          ],
          "contour": [
           {
            "colorbar": {
             "outlinewidth": 0,
             "ticks": ""
            },
            "colorscale": [
             [
              0,
              "#0d0887"
             ],
             [
              0.1111111111111111,
              "#46039f"
             ],
             [
              0.2222222222222222,
              "#7201a8"
             ],
             [
              0.3333333333333333,
              "#9c179e"
             ],
             [
              0.4444444444444444,
              "#bd3786"
             ],
             [
              0.5555555555555556,
              "#d8576b"
             ],
             [
              0.6666666666666666,
              "#ed7953"
             ],
             [
              0.7777777777777778,
              "#fb9f3a"
             ],
             [
              0.8888888888888888,
              "#fdca26"
             ],
             [
              1,
              "#f0f921"
             ]
            ],
            "type": "contour"
           }
          ],
          "contourcarpet": [
           {
            "colorbar": {
             "outlinewidth": 0,
             "ticks": ""
            },
            "type": "contourcarpet"
           }
          ],
          "heatmap": [
           {
            "colorbar": {
             "outlinewidth": 0,
             "ticks": ""
            },
            "colorscale": [
             [
              0,
              "#0d0887"
             ],
             [
              0.1111111111111111,
              "#46039f"
             ],
             [
              0.2222222222222222,
              "#7201a8"
             ],
             [
              0.3333333333333333,
              "#9c179e"
             ],
             [
              0.4444444444444444,
              "#bd3786"
             ],
             [
              0.5555555555555556,
              "#d8576b"
             ],
             [
              0.6666666666666666,
              "#ed7953"
             ],
             [
              0.7777777777777778,
              "#fb9f3a"
             ],
             [
              0.8888888888888888,
              "#fdca26"
             ],
             [
              1,
              "#f0f921"
             ]
            ],
            "type": "heatmap"
           }
          ],
          "histogram": [
           {
            "marker": {
             "pattern": {
              "fillmode": "overlay",
              "size": 10,
              "solidity": 0.2
             }
            },
            "type": "histogram"
           }
          ],
          "histogram2d": [
           {
            "colorbar": {
             "outlinewidth": 0,
             "ticks": ""
            },
            "colorscale": [
             [
              0,
              "#0d0887"
             ],
             [
              0.1111111111111111,
              "#46039f"
             ],
             [
              0.2222222222222222,
              "#7201a8"
             ],
             [
              0.3333333333333333,
              "#9c179e"
             ],
             [
              0.4444444444444444,
              "#bd3786"
             ],
             [
              0.5555555555555556,
              "#d8576b"
             ],
             [
              0.6666666666666666,
              "#ed7953"
             ],
             [
              0.7777777777777778,
              "#fb9f3a"
             ],
             [
              0.8888888888888888,
              "#fdca26"
             ],
             [
              1,
              "#f0f921"
             ]
            ],
            "type": "histogram2d"
           }
          ],
          "histogram2dcontour": [
           {
            "colorbar": {
             "outlinewidth": 0,
             "ticks": ""
            },
            "colorscale": [
             [
              0,
              "#0d0887"
             ],
             [
              0.1111111111111111,
              "#46039f"
             ],
             [
              0.2222222222222222,
              "#7201a8"
             ],
             [
              0.3333333333333333,
              "#9c179e"
             ],
             [
              0.4444444444444444,
              "#bd3786"
             ],
             [
              0.5555555555555556,
              "#d8576b"
             ],
             [
              0.6666666666666666,
              "#ed7953"
             ],
             [
              0.7777777777777778,
              "#fb9f3a"
             ],
             [
              0.8888888888888888,
              "#fdca26"
             ],
             [
              1,
              "#f0f921"
             ]
            ],
            "type": "histogram2dcontour"
           }
          ],
          "mesh3d": [
           {
            "colorbar": {
             "outlinewidth": 0,
             "ticks": ""
            },
            "type": "mesh3d"
           }
          ],
          "parcoords": [
           {
            "line": {
             "colorbar": {
              "outlinewidth": 0,
              "ticks": ""
             }
            },
            "type": "parcoords"
           }
          ],
          "pie": [
           {
            "automargin": true,
            "type": "pie"
           }
          ],
          "scatter": [
           {
            "fillpattern": {
             "fillmode": "overlay",
             "size": 10,
             "solidity": 0.2
            },
            "type": "scatter"
           }
          ],
          "scatter3d": [
           {
            "line": {
             "colorbar": {
              "outlinewidth": 0,
              "ticks": ""
             }
            },
            "marker": {
             "colorbar": {
              "outlinewidth": 0,
              "ticks": ""
             }
            },
            "type": "scatter3d"
           }
          ],
          "scattercarpet": [
           {
            "marker": {
             "colorbar": {
              "outlinewidth": 0,
              "ticks": ""
             }
            },
            "type": "scattercarpet"
           }
          ],
          "scattergeo": [
           {
            "marker": {
             "colorbar": {
              "outlinewidth": 0,
              "ticks": ""
             }
            },
            "type": "scattergeo"
           }
          ],
          "scattergl": [
           {
            "marker": {
             "colorbar": {
              "outlinewidth": 0,
              "ticks": ""
             }
            },
            "type": "scattergl"
           }
          ],
          "scattermap": [
           {
            "marker": {
             "colorbar": {
              "outlinewidth": 0,
              "ticks": ""
             }
            },
            "type": "scattermap"
           }
          ],
          "scattermapbox": [
           {
            "marker": {
             "colorbar": {
              "outlinewidth": 0,
              "ticks": ""
             }
            },
            "type": "scattermapbox"
           }
          ],
          "scatterpolar": [
           {
            "marker": {
             "colorbar": {
              "outlinewidth": 0,
              "ticks": ""
             }
            },
            "type": "scatterpolar"
           }
          ],
          "scatterpolargl": [
           {
            "marker": {
             "colorbar": {
              "outlinewidth": 0,
              "ticks": ""
             }
            },
            "type": "scatterpolargl"
           }
          ],
          "scatterternary": [
           {
            "marker": {
             "colorbar": {
              "outlinewidth": 0,
              "ticks": ""
             }
            },
            "type": "scatterternary"
           }
          ],
          "surface": [
           {
            "colorbar": {
             "outlinewidth": 0,
             "ticks": ""
            },
            "colorscale": [
             [
              0,
              "#0d0887"
             ],
             [
              0.1111111111111111,
              "#46039f"
             ],
             [
              0.2222222222222222,
              "#7201a8"
             ],
             [
              0.3333333333333333,
              "#9c179e"
             ],
             [
              0.4444444444444444,
              "#bd3786"
             ],
             [
              0.5555555555555556,
              "#d8576b"
             ],
             [
              0.6666666666666666,
              "#ed7953"
             ],
             [
              0.7777777777777778,
              "#fb9f3a"
             ],
             [
              0.8888888888888888,
              "#fdca26"
             ],
             [
              1,
              "#f0f921"
             ]
            ],
            "type": "surface"
           }
          ],
          "table": [
           {
            "cells": {
             "fill": {
              "color": "#EBF0F8"
             },
             "line": {
              "color": "white"
             }
            },
            "header": {
             "fill": {
              "color": "#C8D4E3"
             },
             "line": {
              "color": "white"
             }
            },
            "type": "table"
           }
          ]
         },
         "layout": {
          "annotationdefaults": {
           "arrowcolor": "#2a3f5f",
           "arrowhead": 0,
           "arrowwidth": 1
          },
          "autotypenumbers": "strict",
          "coloraxis": {
           "colorbar": {
            "outlinewidth": 0,
            "ticks": ""
           }
          },
          "colorscale": {
           "diverging": [
            [
             0,
             "#8e0152"
            ],
            [
             0.1,
             "#c51b7d"
            ],
            [
             0.2,
             "#de77ae"
            ],
            [
             0.3,
             "#f1b6da"
            ],
            [
             0.4,
             "#fde0ef"
            ],
            [
             0.5,
             "#f7f7f7"
            ],
            [
             0.6,
             "#e6f5d0"
            ],
            [
             0.7,
             "#b8e186"
            ],
            [
             0.8,
             "#7fbc41"
            ],
            [
             0.9,
             "#4d9221"
            ],
            [
             1,
             "#276419"
            ]
           ],
           "sequential": [
            [
             0,
             "#0d0887"
            ],
            [
             0.1111111111111111,
             "#46039f"
            ],
            [
             0.2222222222222222,
             "#7201a8"
            ],
            [
             0.3333333333333333,
             "#9c179e"
            ],
            [
             0.4444444444444444,
             "#bd3786"
            ],
            [
             0.5555555555555556,
             "#d8576b"
            ],
            [
             0.6666666666666666,
             "#ed7953"
            ],
            [
             0.7777777777777778,
             "#fb9f3a"
            ],
            [
             0.8888888888888888,
             "#fdca26"
            ],
            [
             1,
             "#f0f921"
            ]
           ],
           "sequentialminus": [
            [
             0,
             "#0d0887"
            ],
            [
             0.1111111111111111,
             "#46039f"
            ],
            [
             0.2222222222222222,
             "#7201a8"
            ],
            [
             0.3333333333333333,
             "#9c179e"
            ],
            [
             0.4444444444444444,
             "#bd3786"
            ],
            [
             0.5555555555555556,
             "#d8576b"
            ],
            [
             0.6666666666666666,
             "#ed7953"
            ],
            [
             0.7777777777777778,
             "#fb9f3a"
            ],
            [
             0.8888888888888888,
             "#fdca26"
            ],
            [
             1,
             "#f0f921"
            ]
           ]
          },
          "colorway": [
           "#636efa",
           "#EF553B",
           "#00cc96",
           "#ab63fa",
           "#FFA15A",
           "#19d3f3",
           "#FF6692",
           "#B6E880",
           "#FF97FF",
           "#FECB52"
          ],
          "font": {
           "color": "#2a3f5f"
          },
          "geo": {
           "bgcolor": "white",
           "lakecolor": "white",
           "landcolor": "#E5ECF6",
           "showlakes": true,
           "showland": true,
           "subunitcolor": "white"
          },
          "hoverlabel": {
           "align": "left"
          },
          "hovermode": "closest",
          "mapbox": {
           "style": "light"
          },
          "paper_bgcolor": "white",
          "plot_bgcolor": "#E5ECF6",
          "polar": {
           "angularaxis": {
            "gridcolor": "white",
            "linecolor": "white",
            "ticks": ""
           },
           "bgcolor": "#E5ECF6",
           "radialaxis": {
            "gridcolor": "white",
            "linecolor": "white",
            "ticks": ""
           }
          },
          "scene": {
           "xaxis": {
            "backgroundcolor": "#E5ECF6",
            "gridcolor": "white",
            "gridwidth": 2,
            "linecolor": "white",
            "showbackground": true,
            "ticks": "",
            "zerolinecolor": "white"
           },
           "yaxis": {
            "backgroundcolor": "#E5ECF6",
            "gridcolor": "white",
            "gridwidth": 2,
            "linecolor": "white",
            "showbackground": true,
            "ticks": "",
            "zerolinecolor": "white"
           },
           "zaxis": {
            "backgroundcolor": "#E5ECF6",
            "gridcolor": "white",
            "gridwidth": 2,
            "linecolor": "white",
            "showbackground": true,
            "ticks": "",
            "zerolinecolor": "white"
           }
          },
          "shapedefaults": {
           "line": {
            "color": "#2a3f5f"
           }
          },
          "ternary": {
           "aaxis": {
            "gridcolor": "white",
            "linecolor": "white",
            "ticks": ""
           },
           "baxis": {
            "gridcolor": "white",
            "linecolor": "white",
            "ticks": ""
           },
           "bgcolor": "#E5ECF6",
           "caxis": {
            "gridcolor": "white",
            "linecolor": "white",
            "ticks": ""
           }
          },
          "title": {
           "x": 0.05
          },
          "xaxis": {
           "automargin": true,
           "gridcolor": "white",
           "linecolor": "white",
           "ticks": "",
           "title": {
            "standoff": 15
           },
           "zerolinecolor": "white",
           "zerolinewidth": 2
          },
          "yaxis": {
           "automargin": true,
           "gridcolor": "white",
           "linecolor": "white",
           "ticks": "",
           "title": {
            "standoff": 15
           },
           "zerolinecolor": "white",
           "zerolinewidth": 2
          }
         }
        },
        "title": {
         "text": "3D Line Plots from Dictionary"
        }
       }
      }
     },
     "metadata": {},
     "output_type": "display_data"
    }
   ],
   "source": [
    "import plotly.graph_objects as go\n",
    "import numpy as np\n",
    "\n",
    "fig = go.Figure()\n",
    "\n",
    "colors = ['rgb(31, 119, 180)', 'rgb(255, 127, 14)', 'rgb(44, 160, 44)', 'rgb(214, 39, 40)', \n",
    "          'rgb(148, 103, 189)', 'rgb(140, 86, 75)', 'rgb(227, 119, 194)', 'rgb(127, 127, 127)', \n",
    "          'rgb(188, 189, 34)', 'rgb(23, 190, 207)']\n",
    "\n",
    "for i, (key, matrix) in enumerate(data_pca_dict.items()):\n",
    "    color = colors[i % len(colors)]\n",
    "    \n",
    "    x = matrix[:, 0]\n",
    "    y = matrix[:, 1]\n",
    "    z = matrix[:, 2]\n",
    "    \n",
    "    fig.add_trace(go.Scatter3d(\n",
    "        x=x,\n",
    "        y=y,\n",
    "        z=z,\n",
    "        mode='lines',\n",
    "        line=dict(color=color, width=4),\n",
    "        name=key\n",
    "    ))\n",
    "\n",
    "fig.update_layout(\n",
    "    title='3D Line Plots from Dictionary',\n",
    "    scene=dict(\n",
    "        xaxis_title='X Axis',\n",
    "        yaxis_title='Y Axis',\n",
    "        zaxis_title='Z Axis',\n",
    "        xaxis=dict(showgrid=False, gridcolor='white', backgroundcolor='white'),\n",
    "        yaxis=dict(showgrid=False, gridcolor='white', backgroundcolor='white'),\n",
    "        zaxis=dict(showgrid=False, gridcolor='white', backgroundcolor='white'),\n",
    "        bgcolor='white' \n",
    "    )\n",
    ")\n",
    "\n",
    "\n",
    "fig.show()"
   ]
  },
  {
   "cell_type": "markdown",
   "metadata": {},
   "source": [
    "- phase 2"
   ]
  },
  {
   "cell_type": "code",
   "execution_count": 39,
   "metadata": {},
   "outputs": [],
   "source": [
    "def latent_variables_pc(filepath):\n",
    "    from sklearn.preprocessing import StandardScaler\n",
    "    from sklearn.decomposition import PCA\n",
    "    pca = PCA(n_components=10)\n",
    "    data = pd.read_csv(filepath,index_col=0)\n",
    "    data = data.iloc[:, 58:]\n",
    "    data = data.T\n",
    "    scaler = StandardScaler()\n",
    "    data_normalized = scaler.fit_transform(data)\n",
    "    #data_normalized = data_normalized.T\n",
    "    data_pca = pca.fit_transform(data_normalized)\n",
    "    return data_pca, pca.explained_variance_ratio_"
   ]
  },
  {
   "cell_type": "code",
   "execution_count": 40,
   "metadata": {},
   "outputs": [],
   "source": [
    "data_pca_dict = {}\n",
    "pc_ratio_dict = {}\n",
    "spike_rate_dir = ['Image_1_sum_spike_rate.csv', 'Image_2_sum_spike_rate.csv', 'Image_3_sum_spike_rate.csv', 'Image_4_sum_spike_rate.csv', 'Image_5_sum_spike_rate.csv', 'Image_6_sum_spike_rate.csv',\n",
    "                  'Image_7_sum_spike_rate.csv', 'Image_8_sum_spike_rate.csv', 'Image_9_sum_spike_rate.csv', 'Image_10_sum_spike_rate.csv', 'Image_11_sum_spike_rate.csv', 'Image_12_sum_spike_rate.csv']\n",
    "\n",
    "for file in spike_rate_dir:\n",
    "    data_pca_dict[file], pc_ratio_dict[file] = latent_variables_pc(f'/media/ubuntu/sda/data/mouse11/output/analysis_grating/03_single_neuron/dynamic/sum_spike_rate/{file}')"
   ]
  },
  {
   "cell_type": "code",
   "execution_count": 41,
   "metadata": {},
   "outputs": [],
   "source": [
    "data_pc1 = pd.DataFrame()\n",
    "data_pc2 = pd.DataFrame()\n",
    "data_pc3 = pd.DataFrame()\n",
    "\n",
    "for file in spike_rate_dir:\n",
    "    data_pc1 = pd.concat((data_pc1, pd.DataFrame(data_pca_dict[file][:, 0])), axis=1)\n",
    "    data_pc2 = pd.concat((data_pc2, pd.DataFrame(data_pca_dict[file][:, 1])), axis=1)\n",
    "    data_pc3 = pd.concat((data_pc3, pd.DataFrame(data_pca_dict[file][:, 2])), axis=1)"
   ]
  },
  {
   "cell_type": "code",
   "execution_count": 42,
   "metadata": {},
   "outputs": [
    {
     "data": {
      "text/plain": [
       "(333, 12)"
      ]
     },
     "execution_count": 42,
     "metadata": {},
     "output_type": "execute_result"
    }
   ],
   "source": [
    "data_pc1.shape"
   ]
  },
  {
   "cell_type": "code",
   "execution_count": 43,
   "metadata": {},
   "outputs": [],
   "source": [
    "data_pc1.to_csv(\"processed_data/data_pc1_phase2.csv\")\n",
    "data_pc2.to_csv(\"processed_data/data_pc2_phase2.csv\")\n",
    "data_pc3.to_csv(\"processed_data/data_pc3_phase2.csv\")"
   ]
  },
  {
   "cell_type": "code",
   "execution_count": 44,
   "metadata": {},
   "outputs": [],
   "source": [
    "with PdfPages(\"neuron_model/similarity_heatmap_phase2.pdf\") as pdf:\n",
    "\n",
    "    data_pc1.columns = [1,2,3,4,5,6,7,8,9,10,11,12]\n",
    "    data_pc1 = data_pc1[[1, 4, 2, 3, 5,6,7,8,9,10,11,12]]\n",
    "    data = torch.tensor(data_pc1.T.to_numpy())\n",
    "    data.unsqueeze_(1) \n",
    "    similarity_matrix = F.cosine_similarity(data, data.transpose(0, 1), dim=2)\n",
    "    sns.heatmap(similarity_matrix.numpy(), cmap=\"coolwarm\", vmin=0, vmax=1)\n",
    "    pdf.savefig()\n",
    "    plt.close()\n",
    "\n",
    "    plt.figure(figsize=(5,5))\n",
    "    sns.heatmap(similarity_matrix.numpy(), cmap=\"coolwarm\", vmin=0, vmax=1, cbar=False, xticklabels=False, yticklabels=False)\n",
    "    pdf.savefig()\n",
    "    plt.close()\n",
    "\n",
    "    data_pc2.columns = [1,2,3,4,5,6,7,8,9,10,11,12]\n",
    "    #data_pc2 = data_pc2[[1,2,3,4,5,6, 9,10,12, 13, 14, 15, 16, 17, 7,8,11,18]]\n",
    "    data = torch.tensor(data_pc2.T.to_numpy())\n",
    "    data.unsqueeze_(1) \n",
    "    similarity_matrix_2 = F.cosine_similarity(data, data.transpose(0, 1), dim=2)\n",
    "    sns.heatmap(similarity_matrix_2.numpy(), cmap=\"coolwarm\", vmin=0, vmax=1)\n",
    "    pdf.savefig()\n",
    "    plt.close()\n",
    "\n",
    "    plt.figure(figsize=(5,5))\n",
    "    sns.heatmap(similarity_matrix_2.numpy(), cmap=\"coolwarm\", vmin=0, vmax=1, cbar=False, xticklabels=False, yticklabels=False)\n",
    "    pdf.savefig()\n",
    "    plt.close()\n",
    "\n",
    "    data_pc3.columns = [1,2,3,4,5,6,7,8,9,10,11,12]\n",
    "    data = torch.tensor(data_pc3.T.to_numpy())\n",
    "    data.unsqueeze_(1) \n",
    "    similarity_matrix_3 = F.cosine_similarity(data, data.transpose(0, 1), dim=2)\n",
    "    sns.heatmap(similarity_matrix_3.numpy(), cmap=\"coolwarm\", vmin=0, vmax=1)\n",
    "    pdf.savefig()\n",
    "    plt.close()\n",
    "\n",
    "    plt.figure(figsize=(5,5))\n",
    "    sns.heatmap(similarity_matrix_3.numpy(), cmap=\"coolwarm\", vmin=0, vmax=1, cbar=False, xticklabels=False, yticklabels=False)\n",
    "    pdf.savefig()\n",
    "    plt.close()"
   ]
  },
  {
   "cell_type": "code",
   "execution_count": 45,
   "metadata": {},
   "outputs": [],
   "source": [
    "with PdfPages(\"neuron_model/waveform_phase2.pdf\") as pdf:\n",
    "    plt.figure(figsize=(6, 3))\n",
    "    for file in spike_rate_dir:\n",
    "        sns.lineplot(data_pca_dict[file][:, 0])\n",
    "    pdf.savefig()\n",
    "    plt.close()\n",
    "\n",
    "    plt.figure(figsize=(6, 3))\n",
    "    for file in spike_rate_dir:\n",
    "        sns.lineplot(data_pca_dict[file][:, 1])\n",
    "    pdf.savefig()\n",
    "    plt.close()\n",
    "\n",
    "\n",
    "    plt.figure(figsize=(6, 3))\n",
    "    for file in spike_rate_dir:\n",
    "        sns.lineplot(data_pca_dict[file][:, 2])\n",
    "    pdf.savefig()\n",
    "    plt.close()"
   ]
  },
  {
   "cell_type": "code",
   "execution_count": 46,
   "metadata": {},
   "outputs": [],
   "source": [
    "pc_ratio = pd.DataFrame()\n",
    "\n",
    "for key ,item in pc_ratio_dict.items():\n",
    "    pc_ratio = pd.concat((pc_ratio, pd.DataFrame(item)), axis=1)\n",
    "\n",
    "pc_ratio = pc_ratio.mean(axis=1)\n",
    "cumulative_sums = []\n",
    "current_sum = 0\n",
    "for value in pc_ratio:\n",
    "    current_sum += value\n",
    "    cumulative_sums.append(current_sum)"
   ]
  },
  {
   "cell_type": "code",
   "execution_count": 47,
   "metadata": {},
   "outputs": [],
   "source": [
    "pd.DataFrame(cumulative_sums).to_csv(\"processed_data/pc_ratio_phase2.csv\")"
   ]
  },
  {
   "cell_type": "code",
   "execution_count": 48,
   "metadata": {},
   "outputs": [],
   "source": [
    "with PdfPages('neuron_model/pc_ration_phase2.pdf') as pdf:\n",
    "    plt.figure(figsize=(3,2))\n",
    "    sns.lineplot(x = range(10),\n",
    "                 y = cumulative_sums,\n",
    "                 color = 'black')\n",
    "    \n",
    "    plt.ylim(0, 1)\n",
    "    pdf.savefig()\n",
    "    plt.close()"
   ]
  },
  {
   "cell_type": "code",
   "execution_count": 49,
   "metadata": {},
   "outputs": [
    {
     "data": {
      "application/vnd.plotly.v1+json": {
       "config": {
        "plotlyServerURL": "https://plot.ly"
       },
       "data": [
        {
         "line": {
          "color": "rgb(31, 119, 180)",
          "width": 4
         },
         "mode": "lines",
         "name": "Image_1_sum_spike_rate.csv",
         "type": "scatter3d",
         "x": {
          "bdata": "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",
          "dtype": "f8"
         },
         "y": {
          "bdata": "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",
          "dtype": "f8"
         },
         "z": {
          "bdata": "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",
          "dtype": "f8"
         }
        },
        {
         "line": {
          "color": "rgb(255, 127, 14)",
          "width": 4
         },
         "mode": "lines",
         "name": "Image_2_sum_spike_rate.csv",
         "type": "scatter3d",
         "x": {
          "bdata": "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",
          "dtype": "f8"
         },
         "y": {
          "bdata": "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",
          "dtype": "f8"
         },
         "z": {
          "bdata": "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",
          "dtype": "f8"
         }
        },
        {
         "line": {
          "color": "rgb(44, 160, 44)",
          "width": 4
         },
         "mode": "lines",
         "name": "Image_3_sum_spike_rate.csv",
         "type": "scatter3d",
         "x": {
          "bdata": "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",
          "dtype": "f8"
         },
         "y": {
          "bdata": "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",
          "dtype": "f8"
         },
         "z": {
          "bdata": "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",
          "dtype": "f8"
         }
        },
        {
         "line": {
          "color": "rgb(214, 39, 40)",
          "width": 4
         },
         "mode": "lines",
         "name": "Image_4_sum_spike_rate.csv",
         "type": "scatter3d",
         "x": {
          "bdata": "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",
          "dtype": "f8"
         },
         "y": {
          "bdata": "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",
          "dtype": "f8"
         },
         "z": {
          "bdata": "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",
          "dtype": "f8"
         }
        },
        {
         "line": {
          "color": "rgb(148, 103, 189)",
          "width": 4
         },
         "mode": "lines",
         "name": "Image_5_sum_spike_rate.csv",
         "type": "scatter3d",
         "x": {
          "bdata": "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",
          "dtype": "f8"
         },
         "y": {
          "bdata": "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",
          "dtype": "f8"
         },
         "z": {
          "bdata": "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",
          "dtype": "f8"
         }
        },
        {
         "line": {
          "color": "rgb(140, 86, 75)",
          "width": 4
         },
         "mode": "lines",
         "name": "Image_6_sum_spike_rate.csv",
         "type": "scatter3d",
         "x": {
          "bdata": "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",
          "dtype": "f8"
         },
         "y": {
          "bdata": "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",
          "dtype": "f8"
         },
         "z": {
          "bdata": "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",
          "dtype": "f8"
         }
        },
        {
         "line": {
          "color": "rgb(227, 119, 194)",
          "width": 4
         },
         "mode": "lines",
         "name": "Image_7_sum_spike_rate.csv",
         "type": "scatter3d",
         "x": {
          "bdata": "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",
          "dtype": "f8"
         },
         "y": {
          "bdata": "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",
          "dtype": "f8"
         },
         "z": {
          "bdata": "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",
          "dtype": "f8"
         }
        },
        {
         "line": {
          "color": "rgb(127, 127, 127)",
          "width": 4
         },
         "mode": "lines",
         "name": "Image_8_sum_spike_rate.csv",
         "type": "scatter3d",
         "x": {
          "bdata": "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",
          "dtype": "f8"
         },
         "y": {
          "bdata": "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",
          "dtype": "f8"
         },
         "z": {
          "bdata": "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",
          "dtype": "f8"
         }
        },
        {
         "line": {
          "color": "rgb(188, 189, 34)",
          "width": 4
         },
         "mode": "lines",
         "name": "Image_9_sum_spike_rate.csv",
         "type": "scatter3d",
         "x": {
          "bdata": "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",
          "dtype": "f8"
         },
         "y": {
          "bdata": "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",
          "dtype": "f8"
         },
         "z": {
          "bdata": "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",
          "dtype": "f8"
         }
        },
        {
         "line": {
          "color": "rgb(23, 190, 207)",
          "width": 4
         },
         "mode": "lines",
         "name": "Image_10_sum_spike_rate.csv",
         "type": "scatter3d",
         "x": {
          "bdata": "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",
          "dtype": "f8"
         },
         "y": {
          "bdata": "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",
          "dtype": "f8"
         },
         "z": {
          "bdata": "DnbmWrn2E8AsE7kaBFURwFc+Cwvo8Q/Arg57oQwACsBcR804TO7wv+4Ns6LLjdK/robsSSZ43T88PRxZYlnYvxE7n9pE/PK/c/EB9fx/1j8a6X+fSV/4P5v/JiLOlPk/4/K+IoBc8j9qZAYAg5izP+azZEpyQvA/2U27M89V4T8U9hTaVk75v71LMCX96du/0eUTgnpM7z9Tyt6gHL+0v7GU2ynk6c6/1Ha0UAIqo78uYnY093OeP8XYAVPDSug/FuR7WE0K+D93ELcD7QMAQHDgXl7rlfg/oZkieI6uAEAhpaYgvI4AQIA0VVvjJPk//oRNmZyi+T/YzpOUNBzQP/r+3Xmjxb0/TYlPGSoT+D+RC0dTMJzyP3SijYmapfE/E3QKhpSh/j8KGVgvgNfyPytnAKtxY+M/g7ieHAxHxr9FK3qIzLjcP+S8xkiTqQVAtD+1kpgvA0BjOSYLPoPyP65QFiuaDLU/2NNifw7p9T+I6jW0RLgGQLZSAWkBbARAeJo2Ly+3BUA6ybXMDiv7P7T6dmDMHek/T6xoOVlV6D8vHBan2xfwP7aqaJJ/p/o/7aGHc4z9+D9/BbN7rDHyP3OnrWp9dc0/dgSXYR04wr8WxkLbgKPkP6T/y7bZUwNAxq9gTmIsA0Dk4/ZxUb/QP50bxFIxYtY/MRKDLHSl4j8xl8vCDgjLP58MMwnVbNc/74zCj2Z73z8X8xQe2rrgv0L8okRKsPK/TLO1xtit578Mkdsdb7/Yv2eeoJRlcNo/n7xWAqIc6j9g7FfXPcXQP7dPAm/Ajee//v8KYgyu+r/qPW1faccAwO7uUotLSeu/Kyv3stfc3r+q78xHobjxvxj8Uyvszfa/HfVfYXjxAcBCmheWGWP7v6VY5RUuF+O/6jyZ2ph5wL/HCL6tCDvdv28nGo4G4/S/ROAnJTsoBMCEG5NS+qMFwBW6tNnau/O/qUBMwN202T/4J/APsuXxP9UbPH4PN8K/0tl1ly39879kzYHJym3hv4q7D4H66Ja/u9tP2UL74r+CQqtk/wDlv7UBG1RW/sY/0WUbaU5U0D91O9ZdTE/fP9BiTxii9uI/3XvQvnxd4j8smqLTrFjkv6QbilSTJv6/9/kxq8UE4T+tW66ZJFHzP/n1BpnAWtC/RjxLOwEE07/8BenWZ4bIvxXRlPRoG7a/covbPuQH8D8pF5/amQzqP9ka3MMXBse/axtiYLlh579WgZ87x3/1v1yzrQJHmvm/YcIWn5fx978AI/HAItnmvzI7CEBqRto/AWoVgjJAxT+s4vZKpk3pvytIpSWNT+a/ZcxfJa04xr+6LPoH+GrhP/9tgMuCX+U/GVXya2uu1T+C5oBDXxbUv87Xy4wRtve/8fIIqDkK9r+sEqxownXjv24DfewnZPK/UKlV8YMQ+79GaBodlFTlv1fX04Tckuq/P4X+bUaZ8r/ihnZXYfPyv8qPatRjhPq/5U481vtA9b+ilOGe4FXuv1rE4nKUb/e/FwxChQy58L8Wo9NL2vPdv3M1fu8r5PO/Zh9Gmzi14r/G6ajadRW3P9bNlqG3eOc/K2QgfFXD8D//HDIja8qovyAzbFHG3PS/GH2wYI+F57/kzhnpdVjxv6tBgH7dGuu/Qfu+fFto3j9tEAOH6EShv9/k4EoRBNo/mOMOLHCT4j+ys7p7+nPxPzbXe7RbNfQ/ErcAQ+Ss3T9Im5/j79n5P7SrOLZ7KgBA8cSpGD0z4j9lF2zUvkDmP3MRsLRAsQJAEXyLZCQj/D+td29wOeOiv0jGOhgXHdg/onBRFPyt8T86S9lx5FXdv6kB1/BSwd2/23NWRfFX1T+0r92Eqc3lP/JF3b3uuuk/TzoRtF5lsb8wwie7D63oP/YZ7tY81gNAJFE5DTnk5T/f+JSIoQjMPxjaN1n/Uts/kaGJ9i1797/CCg+F4RUDwIn11wRaiQPAfNsUkewF8L/L/TxJh6yGv++PpDcRQ/I/d/vNvLqu4j8QOiS3Sr3Nv6FWP/+ujsW/EUYrIoahwD/k7q9LF0LkP0tyFUbPUPA/r9/ZMnl89D/QdlV1j8zlP7qIi2JdkNg//u2ulsea6r+oVkbX0yP2vzN6FHs68ue/LBp7W1AH878e7Eh1oADtv90jLyyAqvy/8oagnUsWB8AbnqjZjkEHwKZzDF5sRQDAhnQTP2yN67/zE3mqienzv8PybLt+qfq/RiidSdsI87/AtMN6OR76v8ZicGeNcgnAu6ULxrrc/b8AK73u5SrOPxlZDyPaWcE/+3hH4aHr7r8H4KghWUT4v5z6KLNnpvW/E0L5z/mb/b+c7u3NmPsIwEnWT2m4HQHADMVni6QV9b8H/TwQuyLwv708zYRD6de/ldSIAFut47+AzbsKi//oP+dvHaO41X+/0BQPh/Bi979bRdn87TTWvw6Uo5OoTe8/grcEke3s7T/MZEiqXAPGv6bdk/E25eO/WZG9d44Rwr/xtSkcbxXjP5zLsDvaevA/OdLDMySl4T+Wb2lxx/PxP7ZDyE4EpOc/CXLtZ6590L8McMI9WYfjvzU/GmwQl8C/Vs1z8K4R1j9g+/RVJ3PeP9wkBZ8qlfQ/7syCYnXJ3T9x5qdzwEzoP65GMMIjFfs/iKXJogK06z/wr/92Dc67v8O3BnIulMC/auomdBvQ5T8AEtaJJ6bwPzNCiqrAHe4/ywjoUbLd4T/6lhIKGmf9v66BrumrLvW/HUPILcmO8z9FXv8VuNHkP4oyRmdboOq/xKA9KgLe+79ceR7et7L7v66AsLnWK/e/Hz9Gpsets7/2fZT7mJG/v++IwIvVZPK/4hn+d5LE8L/ucqS06kT0v1vR/mcKifG/0mN4xRa67b84D7PSERjxv/Z07tdiSuK/FRZmMsgQ4L//wjguGHulvzq0doUaV9o/Bfy09YG1978usBsVc5v2v9tY+Epm6Mw/MDpj75Am/T/4Cqirihz5P1SdzRHeO9g/Mn9+3n8w8T/CfmxYxunsP4Pz/FRcrtQ/qoWfk88y2j+4Aie3f6Huvx+iafVZevO/9/C+qCZoyr/1vWz4gsjiv6BExR7ZufC/ccxw0V7o+b9A0djPzJv1v9uJ7+D3ytS/YaIEjH26yD9ZWsxXR+7qPy/4cjPMebA/KtV260pU3r8SxDREZ4LjP1HlHttqvsc/rHpzJaVG/T8W4mSppLj+P8HclO2WPcK/xDj+9inW379WgqRPB/ecvwNb6g8Wc/I/W8ZuE/QF9z+tpdm7rb4AQLjq0FVxQghA4pPsh51FB0CYwz6SUpoJQA9zIuSKFwRA2y4QXyy/6D+ceetHjA32P40OFZqZ7gFAC8zouwmv+T/2x2PiilgBQGSqQNjywAJAFJd2f49Q7T/bv1j69efbP53pQlIeMKg/ttTVHTmy+D/vEXI7rp8DQOPHrQmDWfs/RphzzZVO8T+EsaB4OsTWv4H0g+2j6/U/6cnnWXY6AEBG+Pn3FvzXP7Sas4AA7U6/3Pu1isUh4r8f6nVs2qHuvyUD4VoJuvi/G3J5R0wN678P8aAL+QLiv9wip907t+i/",
          "dtype": "f8"
         }
        },
        {
         "line": {
          "color": "rgb(31, 119, 180)",
          "width": 4
         },
         "mode": "lines",
         "name": "Image_11_sum_spike_rate.csv",
         "type": "scatter3d",
         "x": {
          "bdata": "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",
          "dtype": "f8"
         },
         "y": {
          "bdata": "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",
          "dtype": "f8"
         },
         "z": {
          "bdata": "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",
          "dtype": "f8"
         }
        },
        {
         "line": {
          "color": "rgb(255, 127, 14)",
          "width": 4
         },
         "mode": "lines",
         "name": "Image_12_sum_spike_rate.csv",
         "type": "scatter3d",
         "x": {
          "bdata": "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",
          "dtype": "f8"
         },
         "y": {
          "bdata": "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",
          "dtype": "f8"
         },
         "z": {
          "bdata": "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",
          "dtype": "f8"
         }
        }
       ],
       "layout": {
        "scene": {
         "bgcolor": "white",
         "xaxis": {
          "backgroundcolor": "white",
          "gridcolor": "white",
          "showgrid": false,
          "title": {
           "text": "X Axis"
          }
         },
         "yaxis": {
          "backgroundcolor": "white",
          "gridcolor": "white",
          "showgrid": false,
          "title": {
           "text": "Y Axis"
          }
         },
         "zaxis": {
          "backgroundcolor": "white",
          "gridcolor": "white",
          "showgrid": false,
          "title": {
           "text": "Z Axis"
          }
         }
        },
        "template": {
         "data": {
          "bar": [
           {
            "error_x": {
             "color": "#2a3f5f"
            },
            "error_y": {
             "color": "#2a3f5f"
            },
            "marker": {
             "line": {
              "color": "#E5ECF6",
              "width": 0.5
             },
             "pattern": {
              "fillmode": "overlay",
              "size": 10,
              "solidity": 0.2
             }
            },
            "type": "bar"
           }
          ],
          "barpolar": [
           {
            "marker": {
             "line": {
              "color": "#E5ECF6",
              "width": 0.5
             },
             "pattern": {
              "fillmode": "overlay",
              "size": 10,
              "solidity": 0.2
             }
            },
            "type": "barpolar"
           }
          ],
          "carpet": [
           {
            "aaxis": {
             "endlinecolor": "#2a3f5f",
             "gridcolor": "white",
             "linecolor": "white",
             "minorgridcolor": "white",
             "startlinecolor": "#2a3f5f"
            },
            "baxis": {
             "endlinecolor": "#2a3f5f",
             "gridcolor": "white",
             "linecolor": "white",
             "minorgridcolor": "white",
             "startlinecolor": "#2a3f5f"
            },
            "type": "carpet"
           }
          ],
          "choropleth": [
           {
            "colorbar": {
             "outlinewidth": 0,
             "ticks": ""
            },
            "type": "choropleth"
           }
          ],
          "contour": [
           {
            "colorbar": {
             "outlinewidth": 0,
             "ticks": ""
            },
            "colorscale": [
             [
              0,
              "#0d0887"
             ],
             [
              0.1111111111111111,
              "#46039f"
             ],
             [
              0.2222222222222222,
              "#7201a8"
             ],
             [
              0.3333333333333333,
              "#9c179e"
             ],
             [
              0.4444444444444444,
              "#bd3786"
             ],
             [
              0.5555555555555556,
              "#d8576b"
             ],
             [
              0.6666666666666666,
              "#ed7953"
             ],
             [
              0.7777777777777778,
              "#fb9f3a"
             ],
             [
              0.8888888888888888,
              "#fdca26"
             ],
             [
              1,
              "#f0f921"
             ]
            ],
            "type": "contour"
           }
          ],
          "contourcarpet": [
           {
            "colorbar": {
             "outlinewidth": 0,
             "ticks": ""
            },
            "type": "contourcarpet"
           }
          ],
          "heatmap": [
           {
            "colorbar": {
             "outlinewidth": 0,
             "ticks": ""
            },
            "colorscale": [
             [
              0,
              "#0d0887"
             ],
             [
              0.1111111111111111,
              "#46039f"
             ],
             [
              0.2222222222222222,
              "#7201a8"
             ],
             [
              0.3333333333333333,
              "#9c179e"
             ],
             [
              0.4444444444444444,
              "#bd3786"
             ],
             [
              0.5555555555555556,
              "#d8576b"
             ],
             [
              0.6666666666666666,
              "#ed7953"
             ],
             [
              0.7777777777777778,
              "#fb9f3a"
             ],
             [
              0.8888888888888888,
              "#fdca26"
             ],
             [
              1,
              "#f0f921"
             ]
            ],
            "type": "heatmap"
           }
          ],
          "histogram": [
           {
            "marker": {
             "pattern": {
              "fillmode": "overlay",
              "size": 10,
              "solidity": 0.2
             }
            },
            "type": "histogram"
           }
          ],
          "histogram2d": [
           {
            "colorbar": {
             "outlinewidth": 0,
             "ticks": ""
            },
            "colorscale": [
             [
              0,
              "#0d0887"
             ],
             [
              0.1111111111111111,
              "#46039f"
             ],
             [
              0.2222222222222222,
              "#7201a8"
             ],
             [
              0.3333333333333333,
              "#9c179e"
             ],
             [
              0.4444444444444444,
              "#bd3786"
             ],
             [
              0.5555555555555556,
              "#d8576b"
             ],
             [
              0.6666666666666666,
              "#ed7953"
             ],
             [
              0.7777777777777778,
              "#fb9f3a"
             ],
             [
              0.8888888888888888,
              "#fdca26"
             ],
             [
              1,
              "#f0f921"
             ]
            ],
            "type": "histogram2d"
           }
          ],
          "histogram2dcontour": [
           {
            "colorbar": {
             "outlinewidth": 0,
             "ticks": ""
            },
            "colorscale": [
             [
              0,
              "#0d0887"
             ],
             [
              0.1111111111111111,
              "#46039f"
             ],
             [
              0.2222222222222222,
              "#7201a8"
             ],
             [
              0.3333333333333333,
              "#9c179e"
             ],
             [
              0.4444444444444444,
              "#bd3786"
             ],
             [
              0.5555555555555556,
              "#d8576b"
             ],
             [
              0.6666666666666666,
              "#ed7953"
             ],
             [
              0.7777777777777778,
              "#fb9f3a"
             ],
             [
              0.8888888888888888,
              "#fdca26"
             ],
             [
              1,
              "#f0f921"
             ]
            ],
            "type": "histogram2dcontour"
           }
          ],
          "mesh3d": [
           {
            "colorbar": {
             "outlinewidth": 0,
             "ticks": ""
            },
            "type": "mesh3d"
           }
          ],
          "parcoords": [
           {
            "line": {
             "colorbar": {
              "outlinewidth": 0,
              "ticks": ""
             }
            },
            "type": "parcoords"
           }
          ],
          "pie": [
           {
            "automargin": true,
            "type": "pie"
           }
          ],
          "scatter": [
           {
            "fillpattern": {
             "fillmode": "overlay",
             "size": 10,
             "solidity": 0.2
            },
            "type": "scatter"
           }
          ],
          "scatter3d": [
           {
            "line": {
             "colorbar": {
              "outlinewidth": 0,
              "ticks": ""
             }
            },
            "marker": {
             "colorbar": {
              "outlinewidth": 0,
              "ticks": ""
             }
            },
            "type": "scatter3d"
           }
          ],
          "scattercarpet": [
           {
            "marker": {
             "colorbar": {
              "outlinewidth": 0,
              "ticks": ""
             }
            },
            "type": "scattercarpet"
           }
          ],
          "scattergeo": [
           {
            "marker": {
             "colorbar": {
              "outlinewidth": 0,
              "ticks": ""
             }
            },
            "type": "scattergeo"
           }
          ],
          "scattergl": [
           {
            "marker": {
             "colorbar": {
              "outlinewidth": 0,
              "ticks": ""
             }
            },
            "type": "scattergl"
           }
          ],
          "scattermap": [
           {
            "marker": {
             "colorbar": {
              "outlinewidth": 0,
              "ticks": ""
             }
            },
            "type": "scattermap"
           }
          ],
          "scattermapbox": [
           {
            "marker": {
             "colorbar": {
              "outlinewidth": 0,
              "ticks": ""
             }
            },
            "type": "scattermapbox"
           }
          ],
          "scatterpolar": [
           {
            "marker": {
             "colorbar": {
              "outlinewidth": 0,
              "ticks": ""
             }
            },
            "type": "scatterpolar"
           }
          ],
          "scatterpolargl": [
           {
            "marker": {
             "colorbar": {
              "outlinewidth": 0,
              "ticks": ""
             }
            },
            "type": "scatterpolargl"
           }
          ],
          "scatterternary": [
           {
            "marker": {
             "colorbar": {
              "outlinewidth": 0,
              "ticks": ""
             }
            },
            "type": "scatterternary"
           }
          ],
          "surface": [
           {
            "colorbar": {
             "outlinewidth": 0,
             "ticks": ""
            },
            "colorscale": [
             [
              0,
              "#0d0887"
             ],
             [
              0.1111111111111111,
              "#46039f"
             ],
             [
              0.2222222222222222,
              "#7201a8"
             ],
             [
              0.3333333333333333,
              "#9c179e"
             ],
             [
              0.4444444444444444,
              "#bd3786"
             ],
             [
              0.5555555555555556,
              "#d8576b"
             ],
             [
              0.6666666666666666,
              "#ed7953"
             ],
             [
              0.7777777777777778,
              "#fb9f3a"
             ],
             [
              0.8888888888888888,
              "#fdca26"
             ],
             [
              1,
              "#f0f921"
             ]
            ],
            "type": "surface"
           }
          ],
          "table": [
           {
            "cells": {
             "fill": {
              "color": "#EBF0F8"
             },
             "line": {
              "color": "white"
             }
            },
            "header": {
             "fill": {
              "color": "#C8D4E3"
             },
             "line": {
              "color": "white"
             }
            },
            "type": "table"
           }
          ]
         },
         "layout": {
          "annotationdefaults": {
           "arrowcolor": "#2a3f5f",
           "arrowhead": 0,
           "arrowwidth": 1
          },
          "autotypenumbers": "strict",
          "coloraxis": {
           "colorbar": {
            "outlinewidth": 0,
            "ticks": ""
           }
          },
          "colorscale": {
           "diverging": [
            [
             0,
             "#8e0152"
            ],
            [
             0.1,
             "#c51b7d"
            ],
            [
             0.2,
             "#de77ae"
            ],
            [
             0.3,
             "#f1b6da"
            ],
            [
             0.4,
             "#fde0ef"
            ],
            [
             0.5,
             "#f7f7f7"
            ],
            [
             0.6,
             "#e6f5d0"
            ],
            [
             0.7,
             "#b8e186"
            ],
            [
             0.8,
             "#7fbc41"
            ],
            [
             0.9,
             "#4d9221"
            ],
            [
             1,
             "#276419"
            ]
           ],
           "sequential": [
            [
             0,
             "#0d0887"
            ],
            [
             0.1111111111111111,
             "#46039f"
            ],
            [
             0.2222222222222222,
             "#7201a8"
            ],
            [
             0.3333333333333333,
             "#9c179e"
            ],
            [
             0.4444444444444444,
             "#bd3786"
            ],
            [
             0.5555555555555556,
             "#d8576b"
            ],
            [
             0.6666666666666666,
             "#ed7953"
            ],
            [
             0.7777777777777778,
             "#fb9f3a"
            ],
            [
             0.8888888888888888,
             "#fdca26"
            ],
            [
             1,
             "#f0f921"
            ]
           ],
           "sequentialminus": [
            [
             0,
             "#0d0887"
            ],
            [
             0.1111111111111111,
             "#46039f"
            ],
            [
             0.2222222222222222,
             "#7201a8"
            ],
            [
             0.3333333333333333,
             "#9c179e"
            ],
            [
             0.4444444444444444,
             "#bd3786"
            ],
            [
             0.5555555555555556,
             "#d8576b"
            ],
            [
             0.6666666666666666,
             "#ed7953"
            ],
            [
             0.7777777777777778,
             "#fb9f3a"
            ],
            [
             0.8888888888888888,
             "#fdca26"
            ],
            [
             1,
             "#f0f921"
            ]
           ]
          },
          "colorway": [
           "#636efa",
           "#EF553B",
           "#00cc96",
           "#ab63fa",
           "#FFA15A",
           "#19d3f3",
           "#FF6692",
           "#B6E880",
           "#FF97FF",
           "#FECB52"
          ],
          "font": {
           "color": "#2a3f5f"
          },
          "geo": {
           "bgcolor": "white",
           "lakecolor": "white",
           "landcolor": "#E5ECF6",
           "showlakes": true,
           "showland": true,
           "subunitcolor": "white"
          },
          "hoverlabel": {
           "align": "left"
          },
          "hovermode": "closest",
          "mapbox": {
           "style": "light"
          },
          "paper_bgcolor": "white",
          "plot_bgcolor": "#E5ECF6",
          "polar": {
           "angularaxis": {
            "gridcolor": "white",
            "linecolor": "white",
            "ticks": ""
           },
           "bgcolor": "#E5ECF6",
           "radialaxis": {
            "gridcolor": "white",
            "linecolor": "white",
            "ticks": ""
           }
          },
          "scene": {
           "xaxis": {
            "backgroundcolor": "#E5ECF6",
            "gridcolor": "white",
            "gridwidth": 2,
            "linecolor": "white",
            "showbackground": true,
            "ticks": "",
            "zerolinecolor": "white"
           },
           "yaxis": {
            "backgroundcolor": "#E5ECF6",
            "gridcolor": "white",
            "gridwidth": 2,
            "linecolor": "white",
            "showbackground": true,
            "ticks": "",
            "zerolinecolor": "white"
           },
           "zaxis": {
            "backgroundcolor": "#E5ECF6",
            "gridcolor": "white",
            "gridwidth": 2,
            "linecolor": "white",
            "showbackground": true,
            "ticks": "",
            "zerolinecolor": "white"
           }
          },
          "shapedefaults": {
           "line": {
            "color": "#2a3f5f"
           }
          },
          "ternary": {
           "aaxis": {
            "gridcolor": "white",
            "linecolor": "white",
            "ticks": ""
           },
           "baxis": {
            "gridcolor": "white",
            "linecolor": "white",
            "ticks": ""
           },
           "bgcolor": "#E5ECF6",
           "caxis": {
            "gridcolor": "white",
            "linecolor": "white",
            "ticks": ""
           }
          },
          "title": {
           "x": 0.05
          },
          "xaxis": {
           "automargin": true,
           "gridcolor": "white",
           "linecolor": "white",
           "ticks": "",
           "title": {
            "standoff": 15
           },
           "zerolinecolor": "white",
           "zerolinewidth": 2
          },
          "yaxis": {
           "automargin": true,
           "gridcolor": "white",
           "linecolor": "white",
           "ticks": "",
           "title": {
            "standoff": 15
           },
           "zerolinecolor": "white",
           "zerolinewidth": 2
          }
         }
        },
        "title": {
         "text": "3D Line Plots from Dictionary"
        }
       }
      }
     },
     "metadata": {},
     "output_type": "display_data"
    }
   ],
   "source": [
    "import plotly.graph_objects as go\n",
    "import numpy as np\n",
    "\n",
    "fig = go.Figure()\n",
    "\n",
    "colors = ['rgb(31, 119, 180)', 'rgb(255, 127, 14)', 'rgb(44, 160, 44)', 'rgb(214, 39, 40)', \n",
    "          'rgb(148, 103, 189)', 'rgb(140, 86, 75)', 'rgb(227, 119, 194)', 'rgb(127, 127, 127)', \n",
    "          'rgb(188, 189, 34)', 'rgb(23, 190, 207)']\n",
    "\n",
    "for i, (key, matrix) in enumerate(data_pca_dict.items()):\n",
    "    color = colors[i % len(colors)]\n",
    "    \n",
    "    x = matrix[:, 0]\n",
    "    y = matrix[:, 1]\n",
    "    z = matrix[:, 2]\n",
    "    \n",
    "    fig.add_trace(go.Scatter3d(\n",
    "        x=x,\n",
    "        y=y,\n",
    "        z=z,\n",
    "        mode='lines',\n",
    "        line=dict(color=color, width=4),\n",
    "        name=key\n",
    "    ))\n",
    "\n",
    "fig.update_layout(\n",
    "    title='3D Line Plots from Dictionary',\n",
    "    scene=dict(\n",
    "        xaxis_title='X Axis',\n",
    "        yaxis_title='Y Axis',\n",
    "        zaxis_title='Z Axis',\n",
    "        xaxis=dict(showgrid=False, gridcolor='white', backgroundcolor='white'),\n",
    "        yaxis=dict(showgrid=False, gridcolor='white', backgroundcolor='white'),\n",
    "        zaxis=dict(showgrid=False, gridcolor='white', backgroundcolor='white'),\n",
    "        bgcolor='white' \n",
    "    )\n",
    ")\n",
    "\n",
    "\n",
    "fig.show()"
   ]
  },
  {
   "cell_type": "code",
   "execution_count": 50,
   "metadata": {},
   "outputs": [],
   "source": [
    "pc_ratio_1 = pd.read_csv(\"/media/ubuntu/sda/data/mouse11/output/analysis_grating/03_single_neuron/dynamic/processed_data/pc_ratio_phase1.csv\", index_col=0)\n",
    "pc_ratio_2 = pd.read_csv(\"/media/ubuntu/sda/data/mouse11/output/analysis_grating/03_single_neuron/dynamic/processed_data/pc_ratio_phase2.csv\", index_col=0)"
   ]
  },
  {
   "cell_type": "code",
   "execution_count": 51,
   "metadata": {},
   "outputs": [],
   "source": [
    "with PdfPages('neuron_model/pc_ration_phase12.pdf') as pdf:\n",
    "    plt.figure(figsize=(3,2))\n",
    "    sns.lineplot(x = range(10),\n",
    "                 y = pc_ratio_1['0'],\n",
    "                 color = '#F0868C',\n",
    "                 linewidth = 3)\n",
    "    sns.lineplot(x = range(10),\n",
    "                 y = pc_ratio_2['0'],\n",
    "                 color = '#70A5D9',\n",
    "                 linewidth = 3)\n",
    "    plt.yticks([])\n",
    "    plt.xticks([])\n",
    "    plt.ylim(0, 1.1)\n",
    "    plt.ylabel(\"\")\n",
    "    pdf.savefig()\n",
    "    plt.close()"
   ]
  }
 ],
 "metadata": {
  "kernelspec": {
   "display_name": "Python 3",
   "language": "python",
   "name": "python3"
  },
  "language_info": {
   "codemirror_mode": {
    "name": "ipython",
    "version": 3
   },
   "file_extension": ".py",
   "mimetype": "text/x-python",
   "name": "python",
   "nbconvert_exporter": "python",
   "pygments_lexer": "ipython3",
   "version": "3.10.0"
  }
 },
 "nbformat": 4,
 "nbformat_minor": 2
}
