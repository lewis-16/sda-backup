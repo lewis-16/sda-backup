{
 "cells": [
  {
   "cell_type": "code",
   "execution_count": 3,
   "metadata": {},
   "outputs": [
    {
     "name": "stdout",
     "output_type": "stream",
     "text": [
      "Neuron numbers: 36\n",
      "Neuron numbers: 34\n",
      "Neuron numbers: 31\n",
      "Neuron numbers: 31\n",
      "Neuron numbers: 29\n",
      "Neuron numbers: 26\n"
     ]
    }
   ],
   "source": [
    "import numpy as np\n",
    "import pandas as pd\n",
    "import seaborn as sns\n",
    "import warnings\n",
    "warnings.filterwarnings('ignore')\n",
    "import spikeinterface as si\n",
    "import matplotlib.pyplot as plt\n",
    "import os\n",
    "\n",
    "cluster_number = []\n",
    "for cluster_threshold in range(8, 14):\n",
    "    dates = os.listdir(\"/media/ubuntu/sda/data/mouse6/output/sorting_natural_image_new\")\n",
    "\n",
    "    cluster_inf = pd.DataFrame()\n",
    "    spike_inf = pd.DataFrame()\n",
    "    waveform_mean = pd.DataFrame()\n",
    "\n",
    "    for date in dates:\n",
    "        cluster_inf_temp = pd.read_csv(f'/media/ubuntu/sda/data/mouse6/output/sorting_natural_image_new/{date}/output/cluster_inf.tsv', sep = '\\t').iloc[:, 1:]\n",
    "        cluster_inf_temp['date'] = date\n",
    "        cluster_inf = pd.concat((cluster_inf, cluster_inf_temp), axis= 0)\n",
    "\n",
    "        spike_inf_temp = pd.read_csv(f'/media/ubuntu/sda/data/mouse6/output/sorting_natural_image_new/{date}/output/spike_inf.tsv', sep = \"\\t\").iloc[:, 1:]\n",
    "        spike_inf_temp['date'] = date\n",
    "        spike_inf = pd.concat((spike_inf, spike_inf_temp), axis=0)\n",
    "\n",
    "        waveform_mean_temp = pd.read_csv(f'/media/ubuntu/sda/data/mouse6/output/sorting_natural_image_new/{date}/output/waveform_mean.tsv', sep = \"\\t\").iloc[:, 1:]\n",
    "        waveform_mean_temp.columns = waveform_mean_temp.columns + f\"_{date}\"\n",
    "        waveform_mean = pd.concat((waveform_mean, waveform_mean_temp), axis=1)\n",
    "\n",
    "\n",
    "    del waveform_mean_temp, spike_inf_temp, cluster_inf_temp\n",
    "\n",
    "    num = 8\n",
    "    cluster_inf['Neuron'] = None\n",
    "    cluster_inf.iloc[0, 27] = 1\n",
    "    neuron_inf = pd.DataFrame(cluster_inf.iloc[0, :]).T\n",
    "    neuron = 1\n",
    "    for i in range(1, len(cluster_inf)):\n",
    "        found = False\n",
    "        for j in range(len(neuron_inf)):\n",
    "            if (abs(cluster_inf.iloc[i, 22] - neuron_inf.iloc[j, 22]) <= num) and (abs(cluster_inf.iloc[i, 23] - neuron_inf.iloc[j, 23]) <= num):\n",
    "                cluster_inf.iloc[i, 27] = neuron_inf.iloc[j, 27]\n",
    "                found = True\n",
    "                break\n",
    "        if not found:\n",
    "            neuron += 1\n",
    "            cluster_inf.iloc[i,27] = neuron\n",
    "            neuron_inf = pd.concat((neuron_inf, pd.DataFrame(cluster_inf.iloc[i, :]).T), axis=0)\n",
    "\n",
    "    neurons_with_count_gt_16 = cluster_inf['Neuron'].value_counts()\n",
    "    neuron_values = neurons_with_count_gt_16[neurons_with_count_gt_16 >= 13].index.tolist()\n",
    "\n",
    "    num = 1\n",
    "    neuron_cluster_dict = {}\n",
    "    for neuron in neuron_values:\n",
    "        temp = cluster_inf[cluster_inf['Neuron'] == neuron]\n",
    "        filter_cluster = temp.apply(lambda row: f\"{row['cluster']}_{row['date']}\", axis=1)\n",
    "        waveform_mean_temp = waveform_mean.loc[:, filter_cluster]\n",
    "\n",
    "        from sklearn.cluster import DBSCAN\n",
    "        from sklearn.decomposition import PCA\n",
    "\n",
    "\n",
    "        pca = PCA(n_components=2)\n",
    "        principal_components = pca.fit_transform(waveform_mean_temp.T)\n",
    "\n",
    "        eps = 100\n",
    "        min_samples = 1\n",
    "\n",
    "        dbscan = DBSCAN(eps=eps, min_samples=min_samples)\n",
    "        dbscan.fit(principal_components)\n",
    "\n",
    "        #plt.Figure(figsize=(5, 5))\n",
    "        #sns.scatterplot(x = principal_components[:, 0],\n",
    "        #            y = principal_components[:, 1],\n",
    "        #            hue=dbscan.labels_)\n",
    "        #plt.title(neuron)\n",
    "        #plt.show()\n",
    "\n",
    "        filter_cluster = pd.DataFrame(filter_cluster).reset_index(drop=True)\n",
    "        filter_cluster = pd.concat((pd.DataFrame(filter_cluster), pd.DataFrame(dbscan.labels_)), axis=1)\n",
    "        filter_cluster.columns = ['cluster_date', 'dbscan_labels']\n",
    "        for i in filter_cluster['dbscan_labels'].value_counts().index:\n",
    "            neuron_cluster_dict[f'Neuron_{num}'] = filter_cluster.loc[filter_cluster['dbscan_labels'] == i, 'cluster_date'].tolist()\n",
    "            num += 1\n",
    "\n",
    "    neuron_cluster_dict = {key: value for key, value in neuron_cluster_dict.items() if len(value) >= cluster_threshold}\n",
    "    cluster_number.append(len(neuron_cluster_dict.keys()))\n",
    "    print(f'Neuron numbers: {len(neuron_cluster_dict.keys())}')"
   ]
  },
  {
   "cell_type": "code",
   "execution_count": 5,
   "metadata": {},
   "outputs": [
    {
     "data": {
      "image/png": "[encoded data removed]",
      "text/plain": [
       "<Figure size 300x200 with 1 Axes>"
      ]
     },
     "metadata": {},
     "output_type": "display_data"
    }
   ],
   "source": [
    "plt.figure(figsize=(3,2))\n",
    "sns.lineplot(x = range(8, 14),\n",
    "             y = cluster_number)\n",
    "plt.show()"
   ]
  }
 ],
 "metadata": {
  "kernelspec": {
   "display_name": "Python 3",
   "language": "python",
   "name": "python3"
  },
  "language_info": {
   "codemirror_mode": {
    "name": "ipython",
    "version": 3
   },
   "file_extension": ".py",
   "mimetype": "text/x-python",
   "name": "python",
   "nbconvert_exporter": "python",
   "pygments_lexer": "ipython3",
   "version": "3.10.0"
  }
 },
 "nbformat": 4,
 "nbformat_minor": 2
}
