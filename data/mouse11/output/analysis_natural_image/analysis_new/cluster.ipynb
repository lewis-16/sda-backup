{
 "cells": [
  {
   "cell_type": "code",
   "execution_count": 62,
   "metadata": {},
   "outputs": [],
   "source": [
    "import os\n",
    "import pandas as pd\n",
    "import torch \n",
    "import torch.nn.functional as F\n",
    "from sklearn.cluster import AgglomerativeClustering\n",
    "\n",
    "\n",
    "num = 0\n",
    "results = {}\n",
    "folder_path = '/media/ubuntu/sda/data/mouse11/output/analysis_natural_image/analysis_new/'\n",
    "\n",
    "csv_files = [f for f in os.listdir(folder_path) if f.startswith('waveform_mean_Neuron_') and f.endswith('.csv')]\n",
    "\n",
    "\n",
    "for csv_file in csv_files:\n",
    "    df = pd.read_csv(os.path.join(folder_path, csv_file), index_col=0)\n",
    "    tensor = torch.tensor(df.values, dtype=torch.float32)\n",
    "    cosine_similarities = F.cosine_similarity(tensor.unsqueeze(1), tensor.unsqueeze(0), dim=2)\n",
    "    clustering = AgglomerativeClustering(n_clusters=None, distance_threshold=0.2, linkage='average')\n",
    "    clustering.fit(1 - cosine_similarities)\n",
    "    labels = clustering.labels_\n",
    "    label_counts = pd.Series(labels).value_counts()\n",
    "    \n",
    "    valid_labels = label_counts[label_counts >= 16].index\n",
    "    \n",
    "    if len(valid_labels) == 0:\n",
    "        # 如果没有类的数量大于等于16，则将所有数据视为一个类\n",
    "        results[num] = list(df.index)\n",
    "        num += 1\n",
    "    else:\n",
    "        for valid_label in valid_labels:\n",
    "            results[num] = [index for index, label in zip(df.index, labels) if label == valid_label]\n",
    "            num += 1"
   ]
  },
  {
   "cell_type": "code",
   "execution_count": 63,
   "metadata": {},
   "outputs": [],
   "source": [
    "unique_results = {}\n",
    "seen_values = set()\n",
    "for key, value in results.items():\n",
    "    value_tuple = tuple(value)\n",
    "    if value_tuple not in seen_values:\n",
    "        unique_results[key] = value\n",
    "        seen_values.add(value_tuple)"
   ]
  },
  {
   "cell_type": "code",
   "execution_count": 78,
   "metadata": {},
   "outputs": [],
   "source": [
    "for key,item in unique_results.items():\n",
    "    item = set([i.split(\"_\")[0] for i in item])\n",
    "    if len(item) != 16:\n",
    "        print(f\"{key}: {len(item)}\")\n",
    "        del unique_results[key]"
   ]
  }
 ],
 "metadata": {
  "kernelspec": {
   "display_name": "spike_sorting_jct",
   "language": "python",
   "name": "python3"
  },
  "language_info": {
   "codemirror_mode": {
    "name": "ipython",
    "version": 3
   },
   "file_extension": ".py",
   "mimetype": "text/x-python",
   "name": "python",
   "nbconvert_exporter": "python",
   "pygments_lexer": "ipython3",
   "version": "3.10.16"
  }
 },
 "nbformat": 4,
 "nbformat_minor": 2
}
