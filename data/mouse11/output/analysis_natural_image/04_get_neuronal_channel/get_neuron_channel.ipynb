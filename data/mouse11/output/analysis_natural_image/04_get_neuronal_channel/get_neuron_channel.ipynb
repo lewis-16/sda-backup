{
 "cells": [
  {
   "cell_type": "code",
   "execution_count": 2,
   "metadata": {},
   "outputs": [],
   "source": [
    "import numpy as np\n",
    "import pandas as pd\n",
    "import seaborn as sns\n",
    "import warnings\n",
    "warnings.filterwarnings('ignore')\n",
    "import spikeinterface as si\n",
    "import matplotlib.pyplot as plt\n",
    "import os\n",
    "from matplotlib.backends.backend_pdf import PdfPages\n",
    "import spikeinterface.extractors as se"
   ]
  },
  {
   "cell_type": "code",
   "execution_count": 3,
   "metadata": {},
   "outputs": [],
   "source": [
    "trigger_time = pd.read_csv(\"/media/ubuntu/sda/data/mouse11/output/analysis_natural_image/03_single_neuron/trigger_time_refine.csv\", index_col=0)"
   ]
  },
  {
   "cell_type": "code",
   "execution_count": 5,
   "metadata": {},
   "outputs": [],
   "source": [
    "import probeinterface as pi\n",
    "from probeinterface.plotting import plot_probe_group\n",
    "probe_30channel = pi.read_probeinterface(\"/media/ubuntu/sda/data/probe.json\")"
   ]
  },
  {
   "cell_type": "code",
   "execution_count": 6,
   "metadata": {},
   "outputs": [],
   "source": [
    "import spikeinterface.preprocessing as spre\n",
    "date_order = ['032322', '042322', '052322', '052422', '062422', '072422', '082422', '092222', '102522',\n",
    "              '122322', '012123', '022423', '032323', '042323', '052423', '062323', '072123']\n",
    "record_dir = os.listdir(\"/media/ubuntu/sda/data/mouse11/ns4/natural_image\")\n",
    "for date in date_order:\n",
    "    record = [s for s in record_dir if date in s][0]\n",
    "    reocording = se.read_blackrock(f'/media/ubuntu/sda/data/mouse11/ns4/natural_image/{record}').remove_channels([\"98\", '31', '32'])\n",
    "    reocording = reocording.set_probegroup(probe_30channel)\n",
    "    reocording = spre.bandpass_filter(reocording, freq_min=300, freq_max=3000)\n",
    "    reocording = spre.common_reference(reocording, reference=\"global\", operator=\"median\")\n",
    "    trigger_temp = trigger_time[trigger_time['date'] == int(date)]\n",
    "    for i in range(len(trigger_temp)):\n",
    "        temp = reocording.get_traces(start_frame=trigger_temp.iloc[i, 0],\n",
    "                                end_frame=trigger_temp.iloc[i, 1])\n",
    "        np.save(f'/media/ubuntu/sda/data/mouse11/output/analysis_natural_image/04_get_neuronal_channel/seg/seg_{date}_{trigger_temp.iloc[i, 4]}.npy', temp)\n",
    "        "
   ]
  }
 ],
 "metadata": {
  "kernelspec": {
   "display_name": "Python 3",
   "language": "python",
   "name": "python3"
  },
  "language_info": {
   "codemirror_mode": {
    "name": "ipython",
    "version": 3
   },
   "file_extension": ".py",
   "mimetype": "text/x-python",
   "name": "python",
   "nbconvert_exporter": "python",
   "pygments_lexer": "ipython3",
   "version": "3.10.0"
  }
 },
 "nbformat": 4,
 "nbformat_minor": 2
}
