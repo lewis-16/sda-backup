{
 "cells": [
  {
   "cell_type": "code",
   "execution_count": 21,
   "metadata": {},
   "outputs": [],
   "source": [
    "import numpy as np\n",
    "import pandas as pd\n",
    "import seaborn as sns\n",
    "import warnings\n",
    "warnings.filterwarnings('ignore')\n",
    "import spikeinterface as si\n",
    "import matplotlib.pyplot as plt\n",
    "import os\n",
    "from matplotlib.backends.backend_pdf import PdfPages"
   ]
  },
  {
   "cell_type": "code",
   "execution_count": 22,
   "metadata": {},
   "outputs": [],
   "source": [
    "select_neurons = ['Neuron_1',  \"Neuron_4\",\n",
    "                  'Neuron_5', 'Neuron_6', 'Neuron_7', 'Neuron_8',\n",
    "                  'Neuron_12', 'Neuron_15', \"Neuron_16\", \"Neuron_17\",\n",
    "                  \"Neuron_20\"]\n",
    "\n",
    "spike_inf = pd.read_csv(\"/media/ubuntu/sda/data/mouse11/output/analysis_natural_image/02_merge_new/all_date/spike_inf_refine.tsv\", sep = '\\t')\n",
    "cluster_inf = pd.read_csv(\"/media/ubuntu/sda/data/mouse11/output/analysis_natural_image/02_merge_new/all_date/cluster_inf_refine.tsv\", sep = '\\t')"
   ]
  },
  {
   "cell_type": "code",
   "execution_count": 23,
   "metadata": {},
   "outputs": [],
   "source": [
    "trigger_time = pd.read_csv(\"/media/ubuntu/sda/data/mouse11/output/analysis_natural_image/02_merge_new/all_date/trigger_time_refine.csv\").iloc[:, 1:]\n",
    "\n",
    "import pickle\n",
    "with open('/media/ubuntu/sda/data/mouse11/output/analysis_natural_image/02_merge_new/all_date/outlier.pkl', 'rb') as f:\n",
    "    outlier = pickle.load(f)\n"
   ]
  },
  {
   "cell_type": "code",
   "execution_count": 24,
   "metadata": {},
   "outputs": [],
   "source": [
    "outlier = [item for item in outlier if not any(e in item for e in ['021722', '030122','112822'])]"
   ]
  },
  {
   "cell_type": "code",
   "execution_count": 25,
   "metadata": {},
   "outputs": [],
   "source": [
    "for i in outlier:\n",
    "    date = i.split(\"_\")[0]\n",
    "    image = i.split(\"_\")[1] + \"_\" + i.split(\"_\")[2]\n",
    "    trigger_time = trigger_time[~((trigger_time['date'] == int(date)) & (trigger_time['order'] == image))]"
   ]
  },
  {
   "cell_type": "code",
   "execution_count": 26,
   "metadata": {},
   "outputs": [],
   "source": [
    "# expand time to -0.5s - 1.5s\n",
    "trigger_time['expand_start'] = trigger_time['start'] - 5000\n",
    "trigger_time['expand_end'] = trigger_time['end'] + 10000\n"
   ]
  },
  {
   "cell_type": "code",
   "execution_count": 27,
   "metadata": {},
   "outputs": [],
   "source": [
    "date_order = ['021722', '030122', '032322', '042322', '052322', '052422', '062422', '072422', '082422', '092222', '102522', '112822',\n",
    "              '122322', '012123', '022423', '032323', '042323', '052423', '062323', '072123']"
   ]
  },
  {
   "cell_type": "code",
   "execution_count": null,
   "metadata": {},
   "outputs": [],
   "source": [
    "with PdfPages(\"raster_overall.pdf\") as pdf:\n",
    "    for neuron in spike_inf['Neuron'].unique():\n",
    "        neuron_df = spike_inf[spike_inf['Neuron'] == neuron]\n",
    "\n",
    "        fig, ax = plt.subplots(figsize = (12, 7.5))\n",
    "\n",
    "        for index, row in trigger_time.iterrows():\n",
    "            date = row['date']\n",
    "            image_order = row['order']\n",
    "            start = row['expand_start'] \n",
    "            end = row['expand_end']\n",
    "            \n",
    "            filtered_spikes = neuron_df[(neuron_df['date'] == date) & \n",
    "                                        (neuron_df['time'] >= start) & \n",
    "                                        (neuron_df['time'] <= end)]\n",
    "            \n",
    "            if not filtered_spikes.empty:\n",
    "                ax.plot(filtered_spikes['time'] - start, [index] * len(filtered_spikes), marker='|', mew=1, markersize=3, ls='', color='k')\n",
    "\n",
    "        ax.set_yticks([])\n",
    "        #ax.axvspan(1 + (5000 - 1) * 0.5, 1 + (5000 - 1), color='gray', alpha=0.3)\n",
    "\n",
    "        ax.set_xlabel('time (s)')\n",
    "        ax.set_ylabel(\"\")\n",
    "        ax.set_title(f'Raster Plot for {neuron}')\n",
    "\n",
    "        pdf.savefig(fig)\n",
    "        plt.close()"
   ]
  },
  {
   "cell_type": "code",
   "execution_count": 29,
   "metadata": {},
   "outputs": [],
   "source": [
    "mean_spike_rate_dict = {}\n",
    "\n",
    "with PdfPages(\"peth_lineplot_all.pdf\") as pdf:\n",
    "    for neuron in spike_inf['Neuron'].unique():\n",
    "        plt.figure(figsize=(4, 2.5))\n",
    "        spike_rates_all = np.empty((99))\n",
    "\n",
    "        for image in range(1, 19):\n",
    "            neuron_df = spike_inf[spike_inf['Neuron'] == neuron]\n",
    "\n",
    "            dates = trigger_time[trigger_time['image'] == image]['date'].unique()\n",
    "            date_indices = np.arange(len(dates))  \n",
    "\n",
    "            spike_rates = []\n",
    "            std_rates = []\n",
    "\n",
    "            for date in dates:\n",
    "                trigger_time_temp = trigger_time[(trigger_time['image'] == image) & (trigger_time['date'] == date)]\n",
    "                all_spikes = []\n",
    "\n",
    "                for index, row in trigger_time_temp.iterrows():\n",
    "                    start = row['expand_start'] \n",
    "                    end = row['expand_end']\n",
    "\n",
    "                    filtered_spikes = neuron_df[(neuron_df['date'] == date) &\n",
    "                                                (neuron_df['time'] >= start) &\n",
    "                                                (neuron_df['time'] <= end)]\n",
    "\n",
    "                    if not filtered_spikes.empty:\n",
    "                        relative_spikes = filtered_spikes['time'] - start\n",
    "                        all_spikes.extend(relative_spikes)\n",
    "\n",
    "                if all_spikes:\n",
    "                    time_bins = np.linspace(0, max(all_spikes), 100)\n",
    "                    spike_counts, _ = np.histogram(all_spikes, bins=time_bins)\n",
    "                    spike_rate = spike_counts / (time_bins[1] - time_bins[0])\n",
    "                    spike_rates.append(spike_rate)\n",
    "                spike_rates_all = np.vstack((spike_rates_all, spike_rates))\n",
    "\n",
    "        mean_spike_rate = np.mean(spike_rates, axis=0)\n",
    "        std_spike_rate = np.std(spike_rates, axis=0)\n",
    "\n",
    "        plt.plot(time_bins[:-1], mean_spike_rate, color='k', linewidth = 2)\n",
    "        plt.plot(time_bins[:-1], mean_spike_rate - std_spike_rate, color='lightgray', alpha=0.7, linewidth = 1)\n",
    "        plt.plot(time_bins[:-1], mean_spike_rate + std_spike_rate, color='lightgray', alpha=0.7, linewidth = 1)\n",
    "        plt.title(neuron)\n",
    "        plt.xticks([])\n",
    "        plt.yticks([])\n",
    "        pdf.savefig()\n",
    "        plt.close()"
   ]
  },
  {
   "cell_type": "code",
   "execution_count": 16,
   "metadata": {},
   "outputs": [],
   "source": [
    "with PdfPages(\"raster_split_image.pdf\") as pdf:\n",
    "    for neuron in spike_inf['Neuron'].unique():\n",
    "        neuron_df = spike_inf[spike_inf['Neuron'] == neuron]\n",
    "\n",
    "\n",
    "        fig, axs = plt.subplots(9, 13, figsize=(25, 15), sharex=True, sharey=True)\n",
    "        fig.subplots_adjust(hspace=0.5, wspace=0.5)\n",
    "\n",
    "        for image in range(1, 2):  \n",
    "            ax = axs[(image - 1) // 13, (image - 1) % 13]  \n",
    "            trigger_time_temp = trigger_time[trigger_time['image'] == image]\n",
    "\n",
    "            for index, row in trigger_time_temp.iterrows():\n",
    "                date = row['date']\n",
    "                image_order = row['order']\n",
    "                start = row['start']\n",
    "                end = row['end']\n",
    "\n",
    "                filtered_spikes = neuron_df[(neuron_df['date'] == date) & \n",
    "                                            (neuron_df['time'] >= start) & \n",
    "                                            (neuron_df['time'] <= end)]\n",
    "\n",
    "                if not filtered_spikes.empty:\n",
    "                    ax.plot(filtered_spikes['time'] - start, [index] * len(filtered_spikes), \n",
    "                            marker='|', mew=1, markersize=3, ls='', color='k')\n",
    "\n",
    "\n",
    "            ax.set_xticks([])\n",
    "            ax.set_yticks([])\n",
    "\n",
    "        pdf.savefig(fig)\n",
    "        plt.close()"
   ]
  },
  {
   "cell_type": "code",
   "execution_count": 20,
   "metadata": {},
   "outputs": [],
   "source": [
    "mean_spike_rate_dict = {}\n",
    "\n",
    "with PdfPages(\"peth_lineplot.pdf\") as pdf:\n",
    "    for image in range(1, 118):\n",
    "        fig, axes = plt.subplots(4, 5, figsize=(15, 9))\n",
    "        axes = axes.flatten()\n",
    "        num = 0\n",
    "        image_mean_spike_rate_data = []\n",
    "        for neuron in spike_inf['Neuron'].unique():\n",
    "            ax = axes[num]\n",
    "            neuron_df = spike_inf[spike_inf['Neuron'] == neuron]\n",
    "\n",
    "            dates = trigger_time[trigger_time['image'] == image]['date'].unique()\n",
    "            date_indices = np.arange(len(dates))  \n",
    "\n",
    "            spike_rates = []\n",
    "            std_rates = []\n",
    "\n",
    "            for date in dates:\n",
    "                trigger_time_temp = trigger_time[(trigger_time['image'] == image) & (trigger_time['date'] == date)]\n",
    "                all_spikes = []\n",
    "\n",
    "                for index, row in trigger_time_temp.iterrows():\n",
    "                    start = row['start'] - 5000\n",
    "                    end = row['end'] + 10000\n",
    "\n",
    "                    filtered_spikes = neuron_df[(neuron_df['date'] == date) &\n",
    "                                                (neuron_df['time'] >= start) &\n",
    "                                                (neuron_df['time'] <= end)]\n",
    "\n",
    "                    if not filtered_spikes.empty:\n",
    "                        relative_spikes = filtered_spikes['time'] - start\n",
    "                        all_spikes.extend(relative_spikes)\n",
    "\n",
    "                if all_spikes:\n",
    "                    time_bins = np.linspace(0, max(all_spikes), 100)\n",
    "                    spike_counts, _ = np.histogram(all_spikes, bins=time_bins)\n",
    "                    spike_rate = spike_counts / (time_bins[1] - time_bins[0])\n",
    "                    spike_rates.append(spike_rate)\n",
    "\n",
    "            mean_spike_rate = np.mean(spike_rates, axis=0)\n",
    "            std_spike_rate = np.std(spike_rates, axis=0)\n",
    "\n",
    "            image_mean_spike_rate_data.append({\n",
    "                'Neuron': neuron,\n",
    "                'Mean_Spike_Rate': mean_spike_rate\n",
    "            })\n",
    "\n",
    "            ax.plot(time_bins[:-1], mean_spike_rate, color='k', linewidth = 2)\n",
    "            ax.plot(time_bins[:-1], mean_spike_rate - std_spike_rate, color='lightgray', alpha=0.7, linewidth = 1)\n",
    "            ax.plot(time_bins[:-1], mean_spike_rate + std_spike_rate, color='lightgray', alpha=0.7, linewidth = 1)\n",
    "            #ax.set_ylim(- np.mean(mean_spike_rate) , 2 *np.mean(mean_spike_rate))\n",
    "            #ax.fill_between(time_bins[:-1], mean_spike_rate - std_spike_rate, mean_spike_rate + std_spike_rate, color='lightgray', alpha=0.5, label='Std Deviation')\n",
    "            quarter = (time_bins[-1] - time_bins[0]) * 0.25 + time_bins[0]\n",
    "            three_quarter = (time_bins[-1] - time_bins[0]) * 0.75 + time_bins[0]\n",
    "            ax.annotate(\"\", xy=(quarter, np.max(mean_spike_rate + std_spike_rate) * 0.9), xytext=(quarter, np.max(mean_spike_rate + std_spike_rate)),\n",
    "                        arrowprops=dict(arrowstyle=\"-|>\", color=\"black\"))\n",
    "            ax.annotate(\"\", xy=(three_quarter, np.max(mean_spike_rate + std_spike_rate) * 0.9), xytext=(three_quarter, np.max(mean_spike_rate + std_spike_rate)),\n",
    "                        arrowprops=dict(arrowstyle=\"-|>\", color=\"black\"))\n",
    "            ax.set_xlabel('')\n",
    "            ax.set_ylabel('')\n",
    "            ax.set_title(f'{neuron}', fontsize=10)\n",
    "            ax.legend()\n",
    "\n",
    "            ax.set_xticks([])\n",
    "            ax.set_yticks([])\n",
    "            ax.grid(False)\n",
    "            ax.legend().set_visible(False)\n",
    "            num += 1\n",
    "        axes[19].axis('off')\n",
    "        axes[18].axis('off')\n",
    "        fig.suptitle(f\"Image_{image}\", fontsize=20)\n",
    "        fig.text(0.5, 0.04, 'Time', ha='center', fontsize=14)\n",
    "        fig.text(0.06, 0.5, 'Spike Rate (Hz)', va='center', rotation='vertical', fontsize=14)\n",
    "        pdf.savefig(fig)\n",
    "        plt.close()\n",
    "\n",
    "        mean_spike_rate_dict[image] = pd.DataFrame(image_mean_spike_rate_data)"
   ]
  },
  {
   "cell_type": "code",
   "execution_count": 18,
   "metadata": {},
   "outputs": [],
   "source": [
    "for image in range(1, 118):\n",
    "    mean_spike_rate_dict[image]['image'] = image"
   ]
  },
  {
   "cell_type": "code",
   "execution_count": 19,
   "metadata": {},
   "outputs": [],
   "source": [
    "mean_spike_rate = pd.DataFrame()\n",
    "for image in range(1, 118):\n",
    "    mean_spike_rate = pd.concat((mean_spike_rate, mean_spike_rate_dict[image]), axis=0)"
   ]
  },
  {
   "cell_type": "code",
   "execution_count": 20,
   "metadata": {},
   "outputs": [],
   "source": [
    "expanded_data = [list(row) for row in mean_spike_rate['Mean_Spike_Rate']]\n",
    "expanded_df = pd.DataFrame(expanded_data)\n",
    "expanded_df.columns = [f'Mean_Spike_Rate_{i}' for i in range(99)]\n",
    "mean_spike_rate.index = expanded_df.index\n",
    "mean_spike_rate = pd.concat([mean_spike_rate.drop(columns=['Mean_Spike_Rate']), expanded_df], axis=1)"
   ]
  },
  {
   "cell_type": "code",
   "execution_count": 21,
   "metadata": {},
   "outputs": [],
   "source": [
    "mean_spike_rate = pd.read_csv(\"/media/ubuntu/sda/data/mouse6/output/03_single_neuron/mean_spike_rate.csv\").iloc[:, 1:102]"
   ]
  },
  {
   "cell_type": "code",
   "execution_count": 22,
   "metadata": {},
   "outputs": [],
   "source": [
    "from sklearn.decomposition import PCA\n",
    "from sklearn.preprocessing import StandardScaler\n",
    "\n",
    "pca = PCA(n_components=20)\n",
    "principal_components = pca.fit_transform(mean_spike_rate.iloc[:, 2:])"
   ]
  },
  {
   "cell_type": "code",
   "execution_count": 23,
   "metadata": {},
   "outputs": [
    {
     "data": {
      "text/plain": [
       "array([0.66993146, 0.15965338, 0.06359484, 0.020278  , 0.01274256,\n",
       "       0.00965172, 0.00766983, 0.00375075, 0.00299845, 0.00240472,\n",
       "       0.00218447, 0.00157761, 0.00154862, 0.00112225, 0.00104527,\n",
       "       0.00096944, 0.00090964, 0.00085789, 0.00079868, 0.00077563])"
      ]
     },
     "execution_count": 23,
     "metadata": {},
     "output_type": "execute_result"
    }
   ],
   "source": [
    "pca.explained_variance_ratio_"
   ]
  },
  {
   "cell_type": "code",
   "execution_count": 24,
   "metadata": {},
   "outputs": [],
   "source": [
    "import umap\n",
    "reducer = umap.UMAP()\n",
    "embedding = reducer.fit_transform(principal_components)"
   ]
  },
  {
   "cell_type": "code",
   "execution_count": 25,
   "metadata": {},
   "outputs": [],
   "source": [
    "principal_components = pd.DataFrame(principal_components)\n",
    "principal_components.columns = [f'PC_{i}' for i in range(1, 21)]\n",
    "mean_spike_rate = pd.concat((mean_spike_rate, principal_components), axis=1)"
   ]
  },
  {
   "cell_type": "code",
   "execution_count": 38,
   "metadata": {},
   "outputs": [],
   "source": [
    "from matplotlib.colors import LinearSegmentedColormap\n",
    "\n",
    "colors = [\"#FF0000\", \"#FF7F00\", \"#FFFF00\", \"#00FF00\", \"#0000FF\", \"#4B0082\", \"#9400D3\"]\n",
    "cmap = LinearSegmentedColormap.from_list(\"rainbow\", colors)\n",
    "num_colors = 18\n",
    "rainbow_colors = cmap(np.linspace(0, 1, num_colors))"
   ]
  },
  {
   "cell_type": "code",
   "execution_count": null,
   "metadata": {},
   "outputs": [],
   "source": [
    "with PdfPages(\"reduced_dim.pdf\") as pdf:\n",
    "    plt.figure(figsize=(5, 5))\n",
    "    sns.scatterplot(x = principal_components['PC_1'], y = principal_components['PC_2'], s=25, hue = mean_spike_rate['Neuron'])\n",
    "    plt.xlabel('PC_1')\n",
    "    plt.ylabel('PC_2')\n",
    "    plt.xticks([])\n",
    "    plt.yticks([])\n",
    "    pdf.savefig()\n",
    "    plt.close()\n",
    "\n",
    "    plt.figure(figsize=(5, 5))\n",
    "    sns.scatterplot(x = principal_components['PC_1'], y = principal_components['PC_2'], s=25, hue = mean_spike_rate['Neuron'], legend=False)\n",
    "    plt.xlabel('PC_1')\n",
    "    plt.ylabel('PC_2')\n",
    "    plt.xticks([])\n",
    "    plt.yticks([])\n",
    "    pdf.savefig()\n",
    "    plt.close()\n",
    "\n",
    "    plt.figure(figsize=(5, 5))\n",
    "    sns.scatterplot(x = principal_components['PC_1'], y = principal_components['PC_2'], s=25, hue = mean_spike_rate['image'], legend=False)\n",
    "    plt.xlabel('PC_1')\n",
    "    plt.ylabel('PC_2')\n",
    "    plt.xticks([])\n",
    "    plt.yticks([])\n",
    "    pdf.savefig()\n",
    "    plt.close()"
   ]
  },
  {
   "cell_type": "code",
   "execution_count": 52,
   "metadata": {},
   "outputs": [],
   "source": [
    "with PdfPages(\"reduced_dim_Neuron.pdf\") as pdf:\n",
    "    max = mean_spike_rate['PC_1'].max()\n",
    "    min = mean_spike_rate['PC_1'].min()\n",
    "    for neuron in mean_spike_rate['Neuron'].unique():\n",
    "        temp = mean_spike_rate[mean_spike_rate['Neuron'] == neuron]\n",
    "        plt.figure(figsize=(5, 5))\n",
    "        sns.scatterplot(x = temp['PC_1'], y = 1, s=16, hue = temp['image'])\n",
    "        plt.xlim(min, max)\n",
    "        plt.xlabel('PC_1')\n",
    "        plt.ylabel('PC_2')\n",
    "        plt.xticks([])\n",
    "        plt.yticks([])\n",
    "        plt.title(neuron)\n",
    "        pdf.savefig()\n",
    "        plt.close()"
   ]
  },
  {
   "cell_type": "code",
   "execution_count": 27,
   "metadata": {},
   "outputs": [],
   "source": [
    "mean_spike_rate.to_csv(\"mean_spike_rate.csv\")"
   ]
  },
  {
   "cell_type": "code",
   "execution_count": 29,
   "metadata": {},
   "outputs": [],
   "source": [
    "trend_neuron = ['Neuron_11', \"Neuron_15\", 'Neuron_17', 'Neuron_18', 'Neuron_19', 'Neuron_20', \"Neuron_24\", 'Neuron_25']"
   ]
  },
  {
   "cell_type": "code",
   "execution_count": 44,
   "metadata": {},
   "outputs": [],
   "source": [
    "Image_score = pd.DataFrame()\n",
    "with PdfPages(\"reduced_dim_Neuron_trend.pdf\") as pdf:\n",
    "    for neuron in trend_neuron:\n",
    "        temp = mean_spike_rate[mean_spike_rate['Neuron'] == neuron]\n",
    "        slope, intercept = np.polyfit(temp['PC_1'], temp['PC_2'], 1)\n",
    "        y_fit = (temp['PC_1'] * slope + intercept).tolist()\n",
    "\n",
    "        Image_score = pd.concat((Image_score, pd.DataFrame(y_fit)), axis=1)\n",
    "        plt.figure(figsize=(4, 4))\n",
    "        sns.scatterplot(x = temp['PC_1'], y = temp['PC_2'], s=50, hue = temp['image'], legend=False)\n",
    "        plt.plot(temp['PC_1'], y_fit, color='black')\n",
    "        plt.xlabel('PC_1')\n",
    "        plt.ylabel('PC_2')\n",
    "        plt.xticks([])\n",
    "        plt.yticks([])\n",
    "        plt.title(neuron)\n",
    "        pdf.savefig()\n",
    "        plt.close()\n",
    "Image_score.columns = trend_neuron\n",
    "Image_score.index = range(1, 118)"
   ]
  },
  {
   "cell_type": "code",
   "execution_count": 35,
   "metadata": {},
   "outputs": [],
   "source": [
    "mean_spike_rate['cluster'] = \"1\"\n",
    "mean_spike_rate.loc[mean_spike_rate['Neuron'].isin(trend_neuron), 'cluster'] = \"2\""
   ]
  },
  {
   "cell_type": "code",
   "execution_count": 36,
   "metadata": {},
   "outputs": [],
   "source": [
    "with PdfPages(\"reduced_dim_cluster.pdf\") as pdf:\n",
    "    plt.figure(figsize=(5, 5))\n",
    "    sns.scatterplot(x = principal_components['PC_1'], y = principal_components['PC_2'], s=25, hue = mean_spike_rate['cluster'])\n",
    "    plt.xlabel('PC_1')\n",
    "    plt.ylabel('PC_2')\n",
    "    plt.xticks([])\n",
    "    plt.yticks([])\n",
    "    pdf.savefig()\n",
    "    plt.close()\n",
    "\n",
    "    plt.figure(figsize=(5, 5))\n",
    "    sns.scatterplot(x = principal_components['PC_1'], y = principal_components['PC_2'], s=25, hue = mean_spike_rate['cluster'], legend=False)\n",
    "    plt.xlabel('PC_1')\n",
    "    plt.ylabel('PC_2')\n",
    "    plt.xticks([])\n",
    "    plt.yticks([])\n",
    "    pdf.savefig()\n",
    "    plt.close()"
   ]
  },
  {
   "cell_type": "code",
   "execution_count": 10,
   "metadata": {},
   "outputs": [],
   "source": [
    "trigger_time.to_csv(\"trigger_time_refine.csv\")\n",
    "#spike_inf.to_csv(\"spike_inf_refine.tsv\", sep = \"\\t\")\n",
    "#cluster_inf.to_csv(\"cluster_inf_refine.tsv\", sep = '\\t')"
   ]
  },
  {
   "cell_type": "code",
   "execution_count": 143,
   "metadata": {},
   "outputs": [],
   "source": [
    "mean_spike_rate.iloc[:, 1:].to_csv('mean_spike_rate.csv')"
   ]
  }
 ],
 "metadata": {
  "kernelspec": {
   "display_name": "spike_sorting_jct",
   "language": "python",
   "name": "python3"
  },
  "language_info": {
   "codemirror_mode": {
    "name": "ipython",
    "version": 3
   },
   "file_extension": ".py",
   "mimetype": "text/x-python",
   "name": "python",
   "nbconvert_exporter": "python",
   "pygments_lexer": "ipython3",
   "version": "3.10.0"
  }
 },
 "nbformat": 4,
 "nbformat_minor": 2
}
