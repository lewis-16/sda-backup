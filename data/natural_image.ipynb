{
 "cells": [
  {
   "cell_type": "code",
   "execution_count": 1,
   "metadata": {},
   "outputs": [],
   "source": [
    "from PIL import Image\n",
    "import os\n",
    "    \n",
    "image_folder = '/media/ubuntu/sda/data/trigger/NaturalImages_new_2'\n",
    "image_files = [f for f in os.listdir(image_folder) if f.endswith(('.png', '.jpg', '.jpeg'))]\n",
    "image_files.sort()\n",
    "    \n",
    "images = [Image.open(os.path.join(image_folder, img)) for img in image_files]\n",
    "\n",
    "image_width, image_height = images[0].size\n",
    "\n",
    "combined_image = Image.new('RGB', (13 * image_width, 9 * image_height))\n",
    "\n",
    "for i, img in enumerate(images):\n",
    "    row = i // 13\n",
    "    col = i % 13\n",
    "    combined_image.paste(img, (col * image_width, row * image_height))\n",
    "\n",
    "combined_image.save('combined_image.jpg', quality=50) \n",
    "combined_image.show()"
   ]
  }
 ],
 "metadata": {
  "kernelspec": {
   "display_name": "Python 3",
   "language": "python",
   "name": "python3"
  },
  "language_info": {
   "codemirror_mode": {
    "name": "ipython",
    "version": 3
   },
   "file_extension": ".py",
   "mimetype": "text/x-python",
   "name": "python",
   "nbconvert_exporter": "python",
   "pygments_lexer": "ipython3",
   "version": "3.10.0"
  }
 },
 "nbformat": 4,
 "nbformat_minor": 2
}
