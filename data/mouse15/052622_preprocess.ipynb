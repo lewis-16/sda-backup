{
 "cells": [
  {
   "cell_type": "code",
   "execution_count": 6,
   "metadata": {},
   "outputs": [],
   "source": [
    "import sys\n",
    "import spikeinterface as si\n",
    "import matplotlib.pyplot as plt\n",
    "import spikeinterface.extractors as se\n",
    "import spikeinterface.preprocessing as spre\n",
    "import spikeinterface.sorters as ss\n",
    "import spikeinterface.widgets as sw\n",
    "import spikeinterface.qualitymetrics as sqm\n",
    "import json\n",
    "import probeinterface\n",
    "\n",
    "from probeinterface import Probe, ProbeGroup\n",
    "from probeinterface.plotting import plot_probe, plot_probegroup\n",
    "from probeinterface import generate_dummy_probe, generate_linear_probe\n",
    "from probeinterface import write_probeinterface, read_probeinterface\n",
    "from probeinterface import write_prb, read_prb\n"
   ]
  },
  {
   "cell_type": "code",
   "execution_count": 4,
   "metadata": {},
   "outputs": [],
   "source": [
    "file_path = \"/media/ubuntu/sda/data/mouse15/ns4/mouse15_052622_natural_image_001.ns4\"\n",
    "probe_position = \"/media/ubuntu/sda/data/probe.json\"\n",
    "output_folder = \"/media/ubuntu/sda/data/sort_output/mouse15/052622\"\n",
    "\n",
    "global_job_kwargs = dict(n_jobs=10, chunk_duration=\"1s\")\n",
    "si.set_global_job_kwargs(**global_job_kwargs)"
   ]
  },
  {
   "cell_type": "code",
   "execution_count": null,
   "metadata": {},
   "outputs": [],
   "source": [
    "recording_raw = se.read_blackrock(file_path=file_path)\n",
    "recording_raw = recording_raw.select_segments([0])"
   ]
  },
  {
   "cell_type": "code",
   "execution_count": 11,
   "metadata": {},
   "outputs": [
    {
     "name": "stdout",
     "output_type": "stream",
     "text": [
      "BandpassFilterRecording: 30 channels - 10000.0Hz - 1 segments - 24,756,849 samples \n",
      "                         2,475.68s (41.26 minutes) - int16 dtype - 1.38 GiB\n",
      "CommonReferenceRecording: 30 channels - 10000.0Hz - 1 segments - 24,756,849 samples \n",
      "                          2,475.68s (41.26 minutes) - int16 dtype - 1.38 GiB\n",
      "Use cache_folder=/tmp/spikeinterface_cache/tmp__np0kvk/1MV9SF0H\n",
      "write_binary_recording \n",
      "n_jobs=10 - samples_per_chunk=10,000 - chunk_memory=585.94 KiB - total_memory=5.72 MiB - chunk_duration=1.00s\n"
     ]
    },
    {
     "name": "stderr",
     "output_type": "stream",
     "text": [
      "write_binary_recording: 100%|██████████| 2476/2476 [00:02<00:00, 846.00it/s]\n",
      "/tmp/ipykernel_3175737/4172158192.py:17: DeprecationWarning: `output_folder` is deprecated and will be removed in version 0.103.0 Please use folder instead\n",
      "  sorting_kilosort4 = ss.run_sorter(sorter_name=\"kilosort4\", recording=recording_preprocessed, output_folder=output_folder + \"/kilosort4\")\n"
     ]
    },
    {
     "name": "stdout",
     "output_type": "stream",
     "text": [
      "BinaryFolderRecording: 30 channels - 10000.0Hz - 1 segments - 24,756,849 samples \n",
      "                       2,475.68s (41.26 minutes) - int16 dtype - 1.38 GiB\n"
     ]
    },
    {
     "name": "stderr",
     "output_type": "stream",
     "text": [
      "100%|██████████| 413/413 [00:23<00:00, 17.80it/s]\n",
      "100%|██████████| 413/413 [00:23<00:00, 17.80it/s]\n",
      "100%|██████████| 6/6 [00:04<00:00,  1.49it/s]\n",
      "100%|██████████| 413/413 [00:03<00:00, 131.43it/s]\n",
      "100%|██████████| 6/6 [00:05<00:00,  1.10it/s]\n",
      "estimate_sparsity: 100%|██████████| 2476/2476 [00:00<00:00, 9414.54it/s]\n",
      "/home/ubuntu/.conda/envs/spike_sorting_jct/lib/python3.10/site-packages/spikeinterface/core/basesorting.py:264: UserWarning: The registered recording will not be persistent on disk, but only available in memory\n",
      "  warnings.warn(\"The registered recording will not be persistent on disk, but only available in memory\")\n",
      "compute_waveforms: 100%|██████████| 2476/2476 [00:26<00:00, 94.60it/s] \n",
      "Compute : spike_amplitudes + spike_locations: 100%|██████████| 2476/2476 [00:01<00:00, 1866.70it/s]\n",
      "\n",
      "libgomp: Invalid value for environment variable OMP_NUM_THREADS: KMeans is known to have a memory leak on Windows with MKL\n",
      "/home/ubuntu/.conda/envs/spike_sorting_jct/lib/python3.10/site-packages/spikeinterface/qualitymetrics/misc_metrics.py:908: UserWarning: Some units have too few spikes : amplitude_cutoff is set to NaN\n",
      "  warnings.warn(f\"Some units have too few spikes : amplitude_cutoff is set to NaN\")\n",
      "/home/ubuntu/.conda/envs/spike_sorting_jct/lib/python3.10/site-packages/numpy/core/_methods.py:206: RuntimeWarning: Degrees of freedom <= 0 for slice\n",
      "  ret = _var(a, axis=axis, dtype=dtype, out=out, ddof=ddof,\n",
      "/home/ubuntu/.conda/envs/spike_sorting_jct/lib/python3.10/site-packages/numpy/core/_methods.py:163: RuntimeWarning: invalid value encountered in divide\n",
      "  arrmean = um.true_divide(arrmean, div, out=arrmean,\n",
      "/home/ubuntu/.conda/envs/spike_sorting_jct/lib/python3.10/site-packages/numpy/core/_methods.py:198: RuntimeWarning: invalid value encountered in divide\n",
      "  ret = ret.dtype.type(ret / rcount)\n"
     ]
    },
    {
     "data": {
      "text/plain": [
       "<spikeinterface.qualitymetrics.quality_metric_calculator.ComputeQualityMetrics at 0x7f668053b2b0>"
      ]
     },
     "execution_count": 11,
     "metadata": {},
     "output_type": "execute_result"
    }
   ],
   "source": [
    "recording_recorded = recording_raw.remove_channels([\"98\", '31', '32'])\n",
    "recording_stimulated = recording_raw.channel_slice(['98'])\n",
    "\n",
    "probe_30channel = read_probeinterface(probe_position)\n",
    "recording_recorded = recording_recorded.set_probegroup(probe_30channel)\n",
    "\n",
    "recording_cmr = recording_recorded\n",
    "recording_f = spre.bandpass_filter(recording_recorded, freq_min=300, freq_max=3000)\n",
    "print(recording_f)\n",
    "recording_cmr = spre.common_reference(recording_f, reference=\"global\", operator=\"median\")\n",
    "print(recording_cmr)\n",
    "\n",
    "# this computes and saves the recording after applying the preprocessing chain\n",
    "recording_preprocessed = recording_cmr.save(format=\"binary\")\n",
    "print(recording_preprocessed)\n",
    "\n",
    "sorting_kilosort4 = ss.run_sorter(sorter_name=\"kilosort4\", recording=recording_preprocessed, output_folder=output_folder + \"/kilosort4\")\n",
    "analyzer_kilosort4 = si.create_sorting_analyzer(sorting=sorting_kilosort4, recording=recording_preprocessed, format='binary_folder', folder=output_folder + '/analyzer_kilosort4_binary')\n",
    "\n",
    "extensions_to_compute = [\n",
    "    \"random_spikes\",\n",
    "    \"waveforms\",\n",
    "    \"noise_levels\",\n",
    "    \"templates\",\n",
    "    \"spike_amplitudes\",\n",
    "    \"unit_locations\",\n",
    "    \"spike_locations\",\n",
    "    \"correlograms\",\n",
    "    \"template_similarity\"\n",
    "]\n",
    "\n",
    "extension_params = {\n",
    "    \"unit_locations\": {\"method\": \"center_of_mass\"},\n",
    "    \"spike_locations\": {\"ms_before\": 0.1},\n",
    "    \"correlograms\": {\"bin_ms\": 0.1},\n",
    "    \"template_similarity\": {\"method\": \"cosine_similarity\"}\n",
    "}\n",
    "\n",
    "analyzer_kilosort4.compute(extensions_to_compute, extension_params=extension_params)\n",
    "\n",
    "qm_params = sqm.get_default_qm_params()\n",
    "analyzer_kilosort4.compute(\"quality_metrics\", qm_params)"
   ]
  }
 ],
 "metadata": {
  "kernelspec": {
   "display_name": "Python 3",
   "language": "python",
   "name": "python3"
  },
  "language_info": {
   "codemirror_mode": {
    "name": "ipython",
    "version": 3
   },
   "file_extension": ".py",
   "mimetype": "text/x-python",
   "name": "python",
   "nbconvert_exporter": "python",
   "pygments_lexer": "ipython3",
   "version": "3.10.16"
  }
 },
 "nbformat": 4,
 "nbformat_minor": 2
}
