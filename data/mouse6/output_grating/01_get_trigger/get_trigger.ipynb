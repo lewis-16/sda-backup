{
 "cells": [
  {
   "cell_type": "code",
   "execution_count": 4,
   "metadata": {},
   "outputs": [],
   "source": [
    "import spikeinterface as si\n",
    "import matplotlib.pyplot as plt\n",
    "%matplotlib inline\n",
    "import spikeinterface.extractors as se\n",
    "import spikeinterface.preprocessing as spre\n",
    "import spikeinterface.sorters as ss\n",
    "import spikeinterface.widgets as sw\n",
    "import spikeinterface.qualitymetrics as sqm\n",
    "import json\n",
    "import numpy as np\n",
    "import pandas as pd\n",
    "import seaborn as sns"
   ]
  },
  {
   "cell_type": "markdown",
   "metadata": {},
   "source": [
    "- Dynamic"
   ]
  },
  {
   "cell_type": "code",
   "execution_count": 5,
   "metadata": {},
   "outputs": [],
   "source": [
    "def get_trigger_time_range(file_path):\n",
    "    recording = se.read_blackrock(file_path=file_path)\n",
    "    recording = recording.channel_slice(channel_ids=['98'])\n",
    "    trace_mat = recording.get_traces(start_frame= 10000,\n",
    "                                    end_frame= 1350 * 10000,\n",
    "                                    channel_ids= ['98'])\n",
    "    trace_mat = trace_mat.astype(int)\n",
    "    trace_mat[trace_mat < 20000] = 0\n",
    "    trace_mat[trace_mat >= 20000] = 1\n",
    "\n",
    "    starts = []\n",
    "    ends = []\n",
    "\n",
    "    for i in range(1, len(trace_mat)):\n",
    "        if trace_mat[i] == 1 and trace_mat[i-1] == 0:\n",
    "            starts.append(i+1)\n",
    "        elif trace_mat[i] == 0 and trace_mat[i-1] == 1:\n",
    "            ends.append(i)\n",
    "\n",
    "    df = pd.DataFrame({'start': starts, 'end': ends})\n",
    "    df = df[2:-2]\n",
    "    df['end'] = df['start'] + 5000\n",
    "    date = file_path.split(\"/\")[8]\n",
    "    date = date.split(\"_\")[1]\n",
    "    df['date'] = date\n",
    "    return df\n"
   ]
  },
  {
   "cell_type": "code",
   "execution_count": 6,
   "metadata": {},
   "outputs": [],
   "source": [
    "import os\n",
    "recording_dir = os.listdir(\"/media/ubuntu/sda/data/mouse6/ns4/grating\")\n",
    "trigger_time = pd.DataFrame()\n",
    "#recording_dir.remove(\"mouse6_102122_natural_image_001.ns4\")\n",
    "\n",
    "for recording in recording_dir:\n",
    "    temp = get_trigger_time_range(f'/media/ubuntu/sda/data/mouse6/ns4/grating/{recording}')\n",
    "    trigger_time = pd.concat((trigger_time, temp), axis = 0)"
   ]
  },
  {
   "cell_type": "code",
   "execution_count": 7,
   "metadata": {},
   "outputs": [
    {
     "name": "stdout",
     "output_type": "stream",
     "text": [
      "042422: 180\n",
      "031722: 180\n",
      "072322: 180\n",
      "062422: 180\n",
      "042323: 180\n",
      "032123: 180\n",
      "022223: 180\n",
      "102122: 180\n",
      "052422: 180\n",
      "022522: 180\n",
      "112022: 180\n",
      "082322: 180\n",
      "092422: 180\n",
      "021322: 180\n"
     ]
    }
   ],
   "source": [
    "for date in trigger_time['date'].unique():\n",
    "    temp = trigger_time[trigger_time['date'] == date]\n",
    "    print(f'{date}: {len(temp)}')"
   ]
  },
  {
   "cell_type": "markdown",
   "metadata": {},
   "source": [
    "###### Trigger order"
   ]
  },
  {
   "cell_type": "code",
   "execution_count": 8,
   "metadata": {},
   "outputs": [],
   "source": [
    "def get_image_order(file_path):\n",
    "    from scipy.io import loadmat\n",
    "    mat_data = loadmat(file_path)\n",
    "    mat_data = mat_data['Image_show_indices_dynamic']\n",
    "    mat_data_pure = mat_data.ravel()\n",
    "\n",
    "    row_indices = np.repeat(np.arange(mat_data.shape[0]), mat_data.shape[1])\n",
    "    suffixes = np.array([f\"_{i+1}\" for i in row_indices])\n",
    "    mat_data_order = np.array([f\"{val}{suffix}\" for val, suffix in zip(mat_data_pure, suffixes)])\n",
    "    return mat_data_pure, mat_data_order"
   ]
  },
  {
   "cell_type": "code",
   "execution_count": 9,
   "metadata": {},
   "outputs": [],
   "source": [
    "import os\n",
    "trigger_dir = os.listdir(\"/media/ubuntu/sda/data/trigger/mouse6/\")"
   ]
  },
  {
   "cell_type": "code",
   "execution_count": 10,
   "metadata": {},
   "outputs": [],
   "source": [
    "date_order = ['021322', '022223', '022522', '031722', '032123', '042323', '042422', '052422', '062422', '072322', '082322', '092422', '102122', '112022']"
   ]
  },
  {
   "cell_type": "code",
   "execution_count": 11,
   "metadata": {},
   "outputs": [],
   "source": [
    "image_order_dict = {}\n",
    "for date in date_order:\n",
    "    image_order_dict[date] = {}\n",
    "    trigger = [s for s in trigger_dir if date in s][0]\n",
    "    mat_dir = os.listdir(f\"/media/ubuntu/sda/data/trigger/mouse6/{trigger}/\")\n",
    "    mat = [s for s in mat_dir if 'Dynamic' in s][0]\n",
    "    image_order_dict[date]['pure'], image_order_dict[date]['order'] = get_image_order(f\"/media/ubuntu/sda/data/trigger/mouse6/{trigger}/{mat}\")"
   ]
  },
  {
   "cell_type": "code",
   "execution_count": 12,
   "metadata": {},
   "outputs": [],
   "source": [
    "trigger_time['image'] = None\n",
    "trigger_time['order'] = None\n",
    "for date in trigger_time['date'].unique():\n",
    "    trigger_time.loc[trigger_time['date'] == date, 'image'] = image_order_dict[date]['pure']\n",
    "    trigger_time.loc[trigger_time['date'] == date, 'order'] = image_order_dict[date]['order']"
   ]
  },
  {
   "cell_type": "code",
   "execution_count": 13,
   "metadata": {},
   "outputs": [],
   "source": [
    "trigger_time.to_csv('/media/ubuntu/sda/data/mouse6/output_grating/01_get_trigger/trigger_time_dynamic.tsv', sep = '\\t')\n"
   ]
  },
  {
   "cell_type": "markdown",
   "metadata": {},
   "source": [
    "- Stat"
   ]
  },
  {
   "cell_type": "code",
   "execution_count": 14,
   "metadata": {},
   "outputs": [],
   "source": [
    "def get_trigger_time_range(file_path):\n",
    "    recording = se.read_blackrock(file_path=file_path)\n",
    "    recording = recording.channel_slice(channel_ids=['98'])\n",
    "    trace_mat = recording.get_traces(start_frame= 1350 * 10000,\n",
    "                                    end_frame= recording.get_duration() * 10000,\n",
    "                                    channel_ids= ['98'])\n",
    "    trace_mat = trace_mat.astype(int)\n",
    "    trace_mat[trace_mat < 20000] = 0\n",
    "    trace_mat[trace_mat >= 20000] = 1\n",
    "\n",
    "    starts = []\n",
    "    ends = []\n",
    "\n",
    "    for i in range(1, len(trace_mat)):\n",
    "        if trace_mat[i] == 1 and trace_mat[i-1] == 0:\n",
    "            starts.append(i+1)\n",
    "        elif trace_mat[i] == 0 and trace_mat[i-1] == 1:\n",
    "            ends.append(i)\n",
    "\n",
    "    df = pd.DataFrame({'start': starts, 'end': ends})\n",
    "    df = df[2:-2]\n",
    "    df['end'] = df['start'] + 5000\n",
    "    date = file_path.split(\"/\")[8]\n",
    "    date = date.split(\"_\")[1]\n",
    "    df['date'] = date\n",
    "    return df"
   ]
  },
  {
   "cell_type": "code",
   "execution_count": 15,
   "metadata": {},
   "outputs": [],
   "source": [
    "import os\n",
    "recording_dir = os.listdir(\"/media/ubuntu/sda/data/mouse6/ns4/grating\")\n",
    "trigger_time = pd.DataFrame()\n",
    "#recording_dir.remove(\"mouse6_102122_natural_image_001.ns4\")\n",
    "\n",
    "for recording in recording_dir:\n",
    "    temp = get_trigger_time_range(f'/media/ubuntu/sda/data/mouse6/ns4/grating/{recording}')\n",
    "    trigger_time = pd.concat((trigger_time, temp), axis = 0)"
   ]
  },
  {
   "cell_type": "code",
   "execution_count": 16,
   "metadata": {},
   "outputs": [
    {
     "name": "stdout",
     "output_type": "stream",
     "text": [
      "042422: 270\n",
      "031722: 270\n",
      "072322: 270\n",
      "062422: 270\n",
      "042323: 270\n",
      "032123: 270\n",
      "022223: 270\n",
      "102122: 270\n",
      "052422: 270\n",
      "022522: 270\n",
      "112022: 270\n",
      "082322: 270\n",
      "092422: 270\n",
      "021322: 270\n"
     ]
    }
   ],
   "source": [
    "for date in trigger_time['date'].unique():\n",
    "    temp = trigger_time[trigger_time['date'] == date]\n",
    "    print(f'{date}: {len(temp)}')"
   ]
  },
  {
   "cell_type": "code",
   "execution_count": 17,
   "metadata": {},
   "outputs": [],
   "source": [
    "def get_image_order(file_path):\n",
    "    from scipy.io import loadmat\n",
    "    mat_data = loadmat(file_path)\n",
    "    mat_data = mat_data['Image_show_indices_static']\n",
    "    mat_data_pure = mat_data.ravel()\n",
    "\n",
    "    row_indices = np.repeat(np.arange(mat_data.shape[0]), mat_data.shape[1])\n",
    "    suffixes = np.array([f\"_{i+1}\" for i in row_indices])\n",
    "    mat_data_order = np.array([f\"{val}{suffix}\" for val, suffix in zip(mat_data_pure, suffixes)])\n",
    "    return mat_data_pure, mat_data_order"
   ]
  },
  {
   "cell_type": "code",
   "execution_count": 18,
   "metadata": {},
   "outputs": [],
   "source": [
    "image_order_dict = {}\n",
    "for date in date_order:\n",
    "    image_order_dict[date] = {}\n",
    "    trigger = [s for s in trigger_dir if date in s][0]\n",
    "    mat_dir = os.listdir(f\"/media/ubuntu/sda/data/trigger/mouse6/{trigger}/\")\n",
    "    mat = [s for s in mat_dir if 'Static' in s][0]\n",
    "    image_order_dict[date]['pure'], image_order_dict[date]['order'] = get_image_order(f\"/media/ubuntu/sda/data/trigger/mouse6/{trigger}/{mat}\")\n",
    "\n",
    "trigger_time['image'] = None\n",
    "trigger_time['order'] = None\n",
    "for date in trigger_time['date'].unique():\n",
    "    trigger_time.loc[trigger_time['date'] == date, 'image'] = image_order_dict[date]['pure']\n",
    "    trigger_time.loc[trigger_time['date'] == date, 'order'] = image_order_dict[date]['order']\n",
    "\n",
    "trigger_time.to_csv('/media/ubuntu/sda/data/mouse6/output_grating/01_get_trigger/trigger_time_static.tsv', sep = '\\t')"
   ]
  }
 ],
 "metadata": {
  "kernelspec": {
   "display_name": "Python 3",
   "language": "python",
   "name": "python3"
  },
  "language_info": {
   "codemirror_mode": {
    "name": "ipython",
    "version": 3
   },
   "file_extension": ".py",
   "mimetype": "text/x-python",
   "name": "python",
   "nbconvert_exporter": "python",
   "pygments_lexer": "ipython3",
   "version": "3.10.16"
  }
 },
 "nbformat": 4,
 "nbformat_minor": 2
}
