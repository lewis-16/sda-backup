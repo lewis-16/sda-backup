{
 "cells": [
  {
   "cell_type": "code",
   "execution_count": 1,
   "metadata": {},
   "outputs": [],
   "source": [
    "import numpy as np\n",
    "import pandas as pd\n",
    "import seaborn as sns\n",
    "import warnings\n",
    "warnings.filterwarnings('ignore')\n",
    "import spikeinterface as si\n",
    "import matplotlib.pyplot as plt\n",
    "import os\n",
    "from matplotlib.backends.backend_pdf import PdfPages\n",
    "import spikeinterface.extractors as se"
   ]
  },
  {
   "cell_type": "code",
   "execution_count": 17,
   "metadata": {},
   "outputs": [],
   "source": [
    "spike_inf = pd.read_csv(\"/media/ubuntu/sda/data/mouse6/output_grating/03_single_neuron/Static/spike_inf_refine.tsv\", sep = '\\t')\n",
    "cluster_inf = pd.read_csv(\"/media/ubuntu/sda/data/mouse6/output_grating/03_single_neuron/Static/cluster_inf_refine.tsv\", sep = '\\t')\n",
    "\n",
    "trigger_time = pd.read_csv(\"/media/ubuntu/sda/data/mouse6/output_grating/03_single_neuron/Static/trigger_time_refine.csv\")"
   ]
  },
  {
   "cell_type": "code",
   "execution_count": 3,
   "metadata": {},
   "outputs": [],
   "source": [
    "used_neurons = ['Neuron_2', 'Neuron_3', \"Neuron_4\", \"Neuron_5\", \"Neuron_6\", \"Neuron_8\", \"Neuron_10\",\n",
    "                  'Neuron_7', 'Neuron_9', 'Neuron_12', \"Neuron_14\",\n",
    "                  'Neuron_16', \"Neuron_17\", \"Neuron_18\",\n",
    "                  \"Neuron_19\", \"Neuron_20\", 'Neuron_21', 'Neuron_22',\n",
    "                  \"Neuron_23\", \"Neuron_24\", \"Neuron_25\"]\n",
    "date_order = ['021322',  '022522', '031722', '052422', '062422', '072322', '082322', '092422', '102122', '112022', '022223', '032123', '042323', '042422']"
   ]
  },
  {
   "cell_type": "code",
   "execution_count": 9,
   "metadata": {},
   "outputs": [],
   "source": [
    "import probeinterface as pi\n",
    "from probeinterface.plotting import plot_probe_group\n",
    "probe_30channel = pi.read_probeinterface(\"/media/ubuntu/sda/data/probe.json\")"
   ]
  },
  {
   "cell_type": "code",
   "execution_count": 10,
   "metadata": {},
   "outputs": [],
   "source": [
    "import spikeinterface.preprocessing as spre\n",
    "\n",
    "record_dir = os.listdir(\"/media/ubuntu/sda/data/mouse6/ns4/grating\")\n",
    "for date in date_order:\n",
    "    record = [s for s in record_dir if date in s][0]\n",
    "    reocording = se.read_blackrock(f'/media/ubuntu/sda/data/mouse6/ns4/grating/{record}').remove_channels([\"98\", '31', '32'])\n",
    "    reocording = reocording.set_probegroup(probe_30channel)\n",
    "    reocording = spre.bandpass_filter(reocording, freq_min=300, freq_max=3000)\n",
    "    reocording = spre.common_reference(reocording, reference=\"global\", operator=\"median\")\n",
    "    trigger_temp = trigger_time[trigger_time['date'] == int(date)]\n",
    "    for i in range(len(trigger_temp)):\n",
    "        temp = reocording.get_traces(start_frame=trigger_temp.iloc[i, 1],\n",
    "                                end_frame=trigger_temp.iloc[i, 2])\n",
    "        np.save(f'/media/ubuntu/sda/data/mouse6/output_grating/04_get_neuron_channel/seg_static/seg_{date}_{trigger_temp.iloc[i, 5]}.npy', temp)\n",
    "        "
   ]
  },
  {
   "cell_type": "markdown",
   "metadata": {},
   "source": [
    "- dynamic"
   ]
  },
  {
   "cell_type": "code",
   "execution_count": 11,
   "metadata": {},
   "outputs": [],
   "source": [
    "spike_inf = pd.read_csv(\"/media/ubuntu/sda/data/mouse6/output_grating/03_single_neuron/dynamic/spike_inf_refine.tsv\", sep = '\\t')\n",
    "cluster_inf = pd.read_csv(\"/media/ubuntu/sda/data/mouse6/output_grating/03_single_neuron/dynamic/cluster_inf_refine.tsv\", sep = '\\t')\n",
    "trigger_time = pd.read_csv(\"/media/ubuntu/sda/data/mouse6/output_grating/03_single_neuron/dynamic/trigger_time_refine.csv\")"
   ]
  },
  {
   "cell_type": "code",
   "execution_count": 12,
   "metadata": {},
   "outputs": [],
   "source": [
    "used_neurons = ['Neuron_2', 'Neuron_3', \"Neuron_4\", \"Neuron_5\", \"Neuron_6\", \"Neuron_8\", \"Neuron_10\",\n",
    "                  'Neuron_7', 'Neuron_9', 'Neuron_12', \"Neuron_14\",\n",
    "                  'Neuron_16', \"Neuron_17\", \"Neuron_18\",\n",
    "                  \"Neuron_19\", \"Neuron_20\", 'Neuron_21', 'Neuron_22',\n",
    "                  \"Neuron_23\", \"Neuron_24\", \"Neuron_25\"]\n",
    "date_order = ['021322',  '022522', '031722', '052422', '062422', '072322', '082322', '092422', '102122', '112022', '022223', '032123', '042323', '042422']"
   ]
  },
  {
   "cell_type": "code",
   "execution_count": 16,
   "metadata": {},
   "outputs": [],
   "source": [
    "import spikeinterface.preprocessing as spre\n",
    "\n",
    "record_dir = os.listdir(\"/media/ubuntu/sda/data/mouse6/ns4/grating\")\n",
    "for date in date_order:\n",
    "    record = [s for s in record_dir if date in s][0]\n",
    "    reocording = se.read_blackrock(f'/media/ubuntu/sda/data/mouse6/ns4/grating/{record}').remove_channels([\"98\", '31', '32'])\n",
    "    reocording = reocording.set_probegroup(probe_30channel)\n",
    "    reocording = spre.bandpass_filter(reocording, freq_min=300, freq_max=3000)\n",
    "    reocording = spre.common_reference(reocording, reference=\"global\", operator=\"median\")\n",
    "    trigger_temp = trigger_time[trigger_time['date'] == int(date)]\n",
    "    for i in range(len(trigger_temp)):\n",
    "        temp = reocording.get_traces(start_frame=trigger_temp.iloc[i, 1],\n",
    "                                end_frame=trigger_temp.iloc[i, 2])\n",
    "        np.save(f'/media/ubuntu/sda/data/mouse6/output_grating/04_get_neuron_channel/seg_dynamic/seg_{date}_{trigger_temp.iloc[i, 5]}.npy', temp)"
   ]
  }
 ],
 "metadata": {
  "kernelspec": {
   "display_name": "Python 3",
   "language": "python",
   "name": "python3"
  },
  "language_info": {
   "codemirror_mode": {
    "name": "ipython",
    "version": 3
   },
   "file_extension": ".py",
   "mimetype": "text/x-python",
   "name": "python",
   "nbconvert_exporter": "python",
   "pygments_lexer": "ipython3",
   "version": "3.10.0"
  }
 },
 "nbformat": 4,
 "nbformat_minor": 2
}
