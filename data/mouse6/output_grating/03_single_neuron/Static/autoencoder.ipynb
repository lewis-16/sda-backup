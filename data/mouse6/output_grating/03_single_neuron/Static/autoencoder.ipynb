{
 "cells": [
  {
   "cell_type": "code",
   "execution_count": 480,
   "metadata": {},
   "outputs": [],
   "source": [
    "import pandas as pd\n",
    "from sklearn.preprocessing import StandardScaler\n",
    "from sklearn.decomposition import PCA\n",
    "import torch\n",
    "import torch.nn as nn\n",
    "import torch.optim as optim\n",
    "import seaborn as sns\n",
    "from matplotlib.backends.backend_pdf import PdfPages\n",
    "import matplotlib.pyplot as plt\n",
    "import numpy as np\n",
    "import seaborn as sns"
   ]
  },
  {
   "cell_type": "code",
   "execution_count": 495,
   "metadata": {},
   "outputs": [],
   "source": [
    "def latent_variables_pc(filepath):\n",
    "    pca = PCA(n_components=10)\n",
    "    data = pd.read_csv(filepath,index_col=0)\n",
    "    data = data.iloc[:, :41]\n",
    "    data = data.T\n",
    "    scaler = StandardScaler()\n",
    "    data_normalized = scaler.fit_transform(data)\n",
    "    #data_normalized = data_normalized.T\n",
    "    data_pca = pca.fit_transform(data_normalized)\n",
    "    return data_pca, pca.explained_variance_ratio_"
   ]
  },
  {
   "cell_type": "code",
   "execution_count": 496,
   "metadata": {},
   "outputs": [],
   "source": [
    "data_pca_dict = {}\n",
    "pc_ratio_dict = {}\n",
    "spike_rate_dir = ['Image_1_sum_spike_rate.csv', 'Image_2_sum_spike_rate.csv', 'Image_3_sum_spike_rate.csv', 'Image_4_sum_spike_rate.csv', 'Image_5_sum_spike_rate.csv', 'Image_6_sum_spike_rate.csv',\n",
    "                  'Image_7_sum_spike_rate.csv', 'Image_8_sum_spike_rate.csv', 'Image_9_sum_spike_rate.csv', 'Image_10_sum_spike_rate.csv', 'Image_11_sum_spike_rate.csv', 'Image_12_sum_spike_rate.csv',\n",
    "                  'Image_13_sum_spike_rate.csv', 'Image_14_sum_spike_rate.csv', 'Image_15_sum_spike_rate.csv', 'Image_16_sum_spike_rate.csv', 'Image_17_sum_spike_rate.csv', 'Image_18_sum_spike_rate.csv']\n",
    "\n",
    "for file in spike_rate_dir:\n",
    "    data_pca_dict[file], pc_ratio_dict[file] = latent_variables_pc(f'/media/ubuntu/sda/data/mouse6/output_grating/03_single_neuron/Static/sum_spike_rate/{file}')"
   ]
  },
  {
   "cell_type": "code",
   "execution_count": 497,
   "metadata": {},
   "outputs": [],
   "source": [
    "data_pc1 = pd.DataFrame()\n",
    "data_pc2 = pd.DataFrame()\n",
    "data_pc3 = pd.DataFrame()\n",
    "\n",
    "for file in spike_rate_dir:\n",
    "    data_pc1 = pd.concat((data_pc1, pd.DataFrame(data_pca_dict[file][:, 0])), axis=1)\n",
    "    data_pc2 = pd.concat((data_pc2, pd.DataFrame(data_pca_dict[file][:, 1])), axis=1)\n",
    "    data_pc3 = pd.concat((data_pc3, pd.DataFrame(data_pca_dict[file][:, 2])), axis=1)\n"
   ]
  },
  {
   "cell_type": "code",
   "execution_count": 498,
   "metadata": {},
   "outputs": [],
   "source": [
    "data_pc1.to_csv(\"processed_data/data_pc1_phase1.csv\")\n",
    "data_pc2.to_csv(\"processed_data/data_pc2_phase1.csv\")\n",
    "data_pc3.to_csv(\"processed_data/data_pc3_phase1.csv\")"
   ]
  },
  {
   "cell_type": "code",
   "execution_count": 499,
   "metadata": {},
   "outputs": [],
   "source": [
    "import torch.nn.functional as F\n",
    "\n",
    "with PdfPages(\"neuron_model/similarity_heatmap_phase1.pdf\") as pdf:\n",
    "\n",
    "    data_pc1.columns = [1,2,3,4,5,6,7,8,9,10,11,12,13,14,15,16,17,18]\n",
    "    #data_pc1 = data_pc1[[1, 5,6,7,10,11,12,14,17,18, 2,3,4,8,9,13,15,16]]\n",
    "    data = torch.tensor(data_pc1.T.to_numpy())\n",
    "    data.unsqueeze_(1) \n",
    "    similarity_matrix = F.cosine_similarity(data, data.transpose(0, 1), dim=2)\n",
    "    sns.heatmap(similarity_matrix.numpy(), cmap=\"coolwarm\", vmin=0, vmax=1)\n",
    "    pdf.savefig()\n",
    "    plt.close()\n",
    "\n",
    "    plt.figure(figsize=(5,5))\n",
    "    sns.heatmap(similarity_matrix.numpy(), cmap=\"coolwarm\", vmin=0, vmax=1, cbar=False, xticklabels=False, yticklabels=False)\n",
    "    pdf.savefig()\n",
    "    plt.close()\n",
    "\n",
    "    data_pc2.columns = [1,2,3,4,5,6,7,8,9,10,11,12,13,14,15,16,17,18]\n",
    "    data_pc2 = data_pc2[[1,2,3,4,5,6, 9,10,12, 13, 14, 15, 16, 17, 7,8,11,18]]\n",
    "    data = torch.tensor(data_pc2.T.to_numpy())\n",
    "    data.unsqueeze_(1) \n",
    "    similarity_matrix_2 = F.cosine_similarity(data, data.transpose(0, 1), dim=2)\n",
    "    sns.heatmap(similarity_matrix_2.numpy(), cmap=\"coolwarm\", vmin=0, vmax=1)\n",
    "    pdf.savefig()\n",
    "    plt.close()\n",
    "\n",
    "    plt.figure(figsize=(5,5))\n",
    "    sns.heatmap(similarity_matrix_2.numpy(), cmap=\"coolwarm\", vmin=0, vmax=1, cbar=False, xticklabels=False, yticklabels=False)\n",
    "    pdf.savefig()\n",
    "    plt.close()\n",
    "\n",
    "    data_pc3.columns = [1,2,3,4,5,6,7,8,9,10,11,12,13,14,15,16,17,18]\n",
    "    data = torch.tensor(data_pc3.T.to_numpy())\n",
    "    data.unsqueeze_(1) \n",
    "    similarity_matrix_3 = F.cosine_similarity(data, data.transpose(0, 1), dim=2)\n",
    "    sns.heatmap(similarity_matrix_3.numpy(), cmap=\"coolwarm\", vmin=0, vmax=1)\n",
    "    pdf.savefig()\n",
    "    plt.close()\n",
    "\n",
    "    plt.figure(figsize=(5,5))\n",
    "    sns.heatmap(similarity_matrix_3.numpy(), cmap=\"coolwarm\", vmin=0, vmax=1, cbar=False, xticklabels=False, yticklabels=False)\n",
    "    pdf.savefig()\n",
    "    plt.close()"
   ]
  },
  {
   "cell_type": "code",
   "execution_count": 500,
   "metadata": {},
   "outputs": [],
   "source": [
    "with PdfPages(\"neuron_model/waveform_phase1.pdf\") as pdf:\n",
    "    plt.figure(figsize=(4, 3))\n",
    "    for file in spike_rate_dir:\n",
    "        sns.lineplot(data_pca_dict[file][:, 0])\n",
    "    pdf.savefig()\n",
    "    plt.close()\n",
    "\n",
    "    plt.figure(figsize=(4, 3))\n",
    "    for file in spike_rate_dir:\n",
    "        sns.lineplot(data_pca_dict[file][:, 1])\n",
    "    pdf.savefig()\n",
    "    plt.close()\n",
    "\n",
    "\n",
    "    plt.figure(figsize=(4, 3))\n",
    "    for file in spike_rate_dir:\n",
    "        sns.lineplot(data_pca_dict[file][:, 2])\n",
    "    pdf.savefig()\n",
    "    plt.close()\n"
   ]
  },
  {
   "cell_type": "code",
   "execution_count": 501,
   "metadata": {},
   "outputs": [],
   "source": [
    "pc_ratio = pd.DataFrame()\n",
    "\n",
    "for key ,item in pc_ratio_dict.items():\n",
    "    pc_ratio = pd.concat((pc_ratio, pd.DataFrame(item)), axis=1)\n",
    "\n",
    "pc_ratio = pc_ratio.mean(axis=1)\n",
    "cumulative_sums = []\n",
    "current_sum = 0\n",
    "for value in pc_ratio:\n",
    "    current_sum += value\n",
    "    cumulative_sums.append(current_sum)"
   ]
  },
  {
   "cell_type": "code",
   "execution_count": 502,
   "metadata": {},
   "outputs": [],
   "source": [
    "pd.DataFrame(cumulative_sums).to_csv(\"processed_data/pc_ratio_phase1.csv\")"
   ]
  },
  {
   "cell_type": "code",
   "execution_count": 470,
   "metadata": {},
   "outputs": [],
   "source": [
    "with PdfPages('neuron_model/pc_ration_phase1.pdf') as pdf:\n",
    "    plt.figure(figsize=(3,2))\n",
    "    sns.lineplot(x = range(3),\n",
    "                 y = pc_ratio,\n",
    "                 color = 'black')\n",
    "    plt.ylim(0, 1)\n",
    "    pdf.savefig()\n",
    "    plt.close()"
   ]
  },
  {
   "cell_type": "code",
   "execution_count": null,
   "metadata": {},
   "outputs": [
    {
     "data": {
      "application/vnd.plotly.v1+json": {
       "config": {
        "plotlyServerURL": "https://plot.ly"
       },
       "data": [
        {
         "line": {
          "color": "rgb(31, 119, 180)",
          "width": 4
         },
         "mode": "lines",
         "name": "Image_1_sum_spike_rate.csv",
         "type": "scatter3d",
         "x": {
          "bdata": "gxXhF4rW1D+FpO3LjuLcP14ZLMRx0dQ/ZRgPy6T01D+iFk/zdHvSP2HXIgQKSuI/CDoydHgR6z9yQZyjMv7oPx3fmm8uUeY/E50Wb2Rk5T8m8xOe95brP83NrL+ag/M/kZx+EsdC/D+yfAk9xtwAQIJioRqPtgVAGKIY202YCkCaHNXYuokLQNLDeehyNxBAPRS5nNOaEUCPAA6d+/oTQDohyXkm/BNACD9zqlSjEUBRBa2Ls2wQQI4wS3yejQpA+KJwh/zBA0BLhsFH9Tv3P8gxG7eTpOI/RlYPEaAU17+ib0sgn370v3IKSKRw8wDAZmsYhc0tCMDpOvDpIu4MwOr3kcG20RDAtbEks66FEcCKP6/VfLoSwNewmybTGhPAizDbVQk9FMBIOQbK268VwOKCxd9h2RXA4+z2rL11FsBs5ENgKwQWwA==",
          "dtype": "f8"
         },
         "y": {
          "bdata": "E8pgsGPIDkCv9zoEks0OQKrOzr9IqwxA+BZj4ao6DkD/2Fcf4oQOQKG70OqYKQlAOLCWiM7/CkCaqGhufcsMQIzkAQx24QlAjNUqNPl8BUBtaGLrBz8HQLQzd908MAZAfU3IjGTKAEDEr0Grc7nyPw+L/pvDpuI/uNu3notAwj8soi+qQrTkv3o3RIqtJPm/10tyAfocAMD3ut2utjcBwARIWOi8WQfAn1McJ5hTCsBQ0HYY7kIKwKwktEjMgAnAnQftqejCCsCySh8HX4QGwEbYgs1T2ALAKAGtC6SR+r9NPspZMWz6v7mazpZFfPi/xF+Gkg2X9b9+Tux3xjz4v4AcSawIk+y/t4o1vKFM77+GoYx+kMvpv8nrFGsikOK/SUMeuWnj7L+e8g1N0r/0vwRqZLX6ZfO//pzN+Vf29L8/F68fey31vw==",
          "dtype": "f8"
         },
         "z": {
          "bdata": "5BjVoll79j/+pOuQtmf5P7FGAJ4VBPs/aafP10HD+z/dUNPtVWP8P/hqXeqlA/M/G7H19n6i8j/KnDflEXDaP2vPR7vsKda/tTtF6oD24b8uS8wwLs3uv3mo3xD8Lfe/It6TOiMFAcAJ0u/hTuQCwCF3S3gP3AXABDfLJ3BbBMC4xy/fANsFwI7OFmTQzQHAfiqy5KqQ9787To+KmVXqvwmxcyeAQ+S/n2V2IS1Usz8vlHbv3vr1PwF0I1bnKfg/KBvA0V/QAED7Fd5ZGnACQKQTAZIrgQNAvxGqpqdWB0AJUHAJzKkDQFF3pC41pP0/5YkITcAi+T+O6TsBK6jwPxzEASwZD5W/jAcPleEo3r+9ZxaIoW7lvzDMFGoVaui/HHr1pRDi7b/N80NOjsP5vwIttgUYsv2/EGIabf1x/L+9EEqAum74vw==",
          "dtype": "f8"
         }
        },
        {
         "line": {
          "color": "rgb(255, 127, 14)",
          "width": 4
         },
         "mode": "lines",
         "name": "Image_2_sum_spike_rate.csv",
         "type": "scatter3d",
         "x": {
          "bdata": "0rl8csDWqj9yEyUGJ86qv85TrzGs+7k/2PCtmVMow79Ca2+iJbC0v0SdutWXy8W/QhlIJlYkxr8eQ8GM1yrJv+d69tlY+Na//bkmJcwP6L/8G4sONvvjvyvifOMel9G/Zp4hN9/L3j9uI+4Z6mv9Pxw3zMlu8wZANx5Suvm+DkD06XJC/pcRQC3mEeH8gBRAaPD0ge9AFUD3xI3XjUEYQD/Z5EEMLRhAxfCO72ypF0AgPZ0HaOoUQDQns92PYA5ASnqMWx8HBUBsMmETnCn5PxyqFGv7bec/mJydWdryur9zVcjlxBfuv/fwtl7JVQHAVohV3S4iBsB9xIpRV9gLwNqBrb2YWhDACEpe3I18EMDWIbMxGaIRwK6BoiQGeBLAVE+xp0P0E8CDoC1hGWQVwEqGvVNThBXA8GZ1kVRjFcA5T0aX3KkVwA==",
          "dtype": "f8"
         },
         "y": {
          "bdata": "VRaYTLtTCkCPFvEIBPMMQOZDxsZ+ERBAqhajaJieDUALAHUtv3YPQAVfpPKk+A1A1hWb6NluD0D1sbV0t7gNQIIJJF3pHw1AJ6fi8IgCB0CB6GGvm78EQHosaj6RIQJAadT3nwjo9z9bpzNFjbrwPwOpsO9gYNw/nF75+uOUlb/xekQdIDLqv6TjvRpK4PO/B+9o9tXv9r83VhkDLsT5v8+Yevm/BP+/vaZrVuXqAcBF53sV2IwAwP6SsDfBRwLA2fKW0AzoAMBg2f4GsT0AwA3jzfAYRgHAJSzzMA0VAcD04en9AlACwLTJmswNRADAg1qpuqmR/L/U9StTawn8v9FPbuUaSv+/yhr4/bJR+7+dzfJV2QT+v2Lg2XStPPy/xLxrm0HY+b8X8NWZa5j3v7KviU/3H/O/WtBXpI9D9L8iS6fKiwL4vw==",
          "dtype": "f8"
         },
         "z": {
          "bdata": "7LFWZhkC+T943vE5FJH2P2bBwc8KyfM/jmsef3ld7T/6OiN3I8ryP6lwj903BPA/4RkvtJeg6T+6Bx1+uFLiP7gn39AxDNe/NY1rkeiS5L/ptsa2QdLzvyH6S/RqYfS/WhsqWOzx/r/1dJWbTWkAwOIaSvv2kf6/Q4Xm4oq+AMASyJbRcBYCwDHMD77tpgHAJNAomGF0+r/mzwNcPUfwvwRk6qbjwKO/Ie8x5S682j8CcQqxPoHwPyS9QZPqkfw/xCXQnh4hAECT+o7VvSwCQEfpQYD6VAJAe/QcXkYaAkCp+7D3lQIDQBHCJ4Px0fg/h3THjfsg8j+I2Ny2gFrcP+qrdaZBOrg/oAP2VL8EwL8JKVY0DxXrvwEv6ctadO6/tRRAij5H77+9ZIKY46bvv/toJgjR0/O/2ote/G0w8r/ogjSfA3n2vw==",
          "dtype": "f8"
         }
        },
        {
         "line": {
          "color": "rgb(44, 160, 44)",
          "width": 4
         },
         "mode": "lines",
         "name": "Image_3_sum_spike_rate.csv",
         "type": "scatter3d",
         "x": {
          "bdata": "et2PmFz6B8DZpU9Qm6IGwCUnBTeWIwfAsQrSt79zB8DtUhOEhH8GwEJnoM6NgQXAoZF/P4BlBMAvEOyxLuMEwNa/GlOn8AHAu94Ona8/AMDCn1LIsKr9vyEZgzSwifa/LSY0IFx+17/4NMyw/P7dP4lCYBA+pvg/16yPiUqDAUCgQiH0oLELQBukuzLL5BBAn+hOI7CCE0DmyOUB69UUQKc51tP5XRVAoKXhvryRFkDaxdO7SIYWQFjea9UjrBVA5nrzpKAREkD3BEAUSbUQQF6kS96LTQhA+J5yK7Ku/j8aRcU2ZS7yP4P09/IyBMU//mcY5XPMwL981E/GIKjyv9NoutMkbvq/ybq9UAtVAsA72tbZ0D0FwJuypH+fHAfAyWJ638itCsBV4JiwG4IKwKVDGaO/0AzAzXkUObNmDcBnMEMKBh0QwA==",
          "dtype": "f8"
         },
         "y": {
          "bdata": "3lY5Nb2TAkARyyEV45wFQI9cawnS8wRAa2J/VTUkB0DL/W+WxhwLQH9bXl0n3wxA7zxziDuwB0DllzMyTiAIQBIImve10gRAvp18GMJOA0AqwRmjN9wEQGQf6b/Z3gFA7ceX8IZsAEBo5Yg2KED4P9rmf8CXkfA/bRw/8ws18j94WFOtuSXzP5to2C+92Nk/s/s177HM6D+qfnKIy/TtP1gEVgeF070/O+zsDKF/qL9M1wkib9DLvzJiYHo+KMi/OkST2ZVU5L+qpx4ztbr1v/o6su/dCfS/P4hVJDvw8788V6b18Fb/v1UtgUiwOQjAABad3raeBsCQ18bFEE0GwFWbnZVUOAjACbz6sV4eC8Bzdy6EF8AGwA4dck8jBwrAAQJeaweiC8A2Nvj7qccKwPh/QR9rLQfA9oqoLXHgAcBtBjaEA1cEwA==",
          "dtype": "f8"
         },
         "z": {
          "bdata": "XcO7xo205T+gRbyyr4bpP+z383Jndec/PzuRvo9E9j+fjKSdF2LwP9GtC98tQec/NsmxJX/i1T914meUMU/vP2ckdYsatew/TF8KrhNo3T/jbQ+4PmnbP3MylE5l6ce/6C36mHHd7b/ijdFUg3f6vzItW6t7WQLA0lq1122UA8CfM941yOIDwMBdaQhPfgnAHtf5DSDJBMDhYgh/CIH/v8Rku7TuggDA1qWoZ9t28782jE0+J5PKP+BWDn4EEvM/8vUcZuc2BUDwFamuQUgMQGIQeDkx3wxAl09ov5+jD0Aze+oxXZkGQNIwGbAx6AFAmUPiCgrP/j+fDfRxbD/4P1xfTrTOhOc/eIsRrf9yp7/pPCArM4Phv0miYFaQTvO/7MgXJbjt+7/hToAntm8AwBGsZ/EZHP+/sTlsp9CL/7+pJGXQY1wCwA==",
          "dtype": "f8"
         }
        },
        {
         "line": {
          "color": "rgb(214, 39, 40)",
          "width": 4
         },
         "mode": "lines",
         "name": "Image_4_sum_spike_rate.csv",
         "type": "scatter3d",
         "x": {
          "bdata": "0Uqr2uJ70b/wt5H2U1jUv+cD/kj419+/zze7ab9EsL8O59AxYirPv1wbLwllH9C/uAI2WT/A5L9nEHcoycviv+kKOvMry9y/gKlXJVxj2b9NS7yZl6elvyHAXamY08s/49COha4F3D8fQkwO6FXkP2HZtYOUhPY/0GRA2dzv/T8N6OZB4GcHQNt0l+OtXA1AdpSnbNNPEkBpm4eoZ+MSQLqx4jvAPBRAWAYOIWnmFED3knvSACkUQFIdafLNUhJA8rhqcqVCEEDD4vgxYkQNQIMnDKj5iAVAqOl45A7R+j/q40iKah7iP7mBdXl7fty/EeArxnYD+r8kjXeVHAEGwFT7hjAP9grATNNhgPSPDsDnOgjO00kRwNy7xMk6fBPAo+6bd64IFcCbUt2wj/oVwEb6m0LmCBfAZJwCp1sqF8Bcta1x8/wWwA==",
          "dtype": "f8"
         },
         "y": {
          "bdata": "jKEQZBDFA0DJ3JXEEiUEQOcZSzt6oANA3c9Ist1iBkDNAF7bfz0HQI+CfzHUcwlAG9hvgS4YB0BYnUNNwjQJQO4VPCgxzQtA/zDt0A4/D0DsDUH1NmgOQHaMlkGZdwlAwM+CY8l/BEDVPZjyFrL8PyUkuha8Yuo/pjXwl3Ie2b8wkZlotjTrvxyRomLOdfi/fnmPnIPQAsCYhOfaKjMGwB9g6leHfgfAr/yKRq7BBMASyiwnxqsCwPu42RyUmwDA8NYLAaJ/9r8G1Brp9hHuv8Hy8kS/neK/H8D3AP5F3r+FmwT9t/HcP0OY51ENQ9i/YkOWEuDm5r/m47Qwwm7zvzULNO4Wt/i/BAXpKg3t9b8Fmy6dsAL9v4ulgDLwLP6/wReGhCql/r/+vS4Nt5gBwLPN7dsGSgfAgdrjpJapBcBl1nIzpLkDwA==",
          "dtype": "f8"
         },
         "z": {
          "bdata": "FXWDsV/ez78524G217nav7sRJtb+ANW/LC7g4tkS079eUr3+VZTIv+4emws6Yru/ZOeFdhFc0b88x+veTfPNv00bsxPS/sS/YvqKvpzn2L+9RSUm/IfQvwN78YuASeO/Rmj9I5VN7b9ibiXUDaf6v1FVkWdoGwHA76YtfW0YBcA3jww9nSUFwG41gBbA/gXA6mepZT22BcDL1M3M2jf/v9s7BuSVo/a/SHsGXLuc3r/Wu9aa2a3OP8YdIvUhj/Y/IVFBSTMuA0BBBprsWg8IQKNTKGHB6wxA9Q0fW7s9DUBX4r22xLYPQCZcBUM32QlAv1Vcb5eSA0BCVkouBI75P4xMoKBZrvQ/do9FGCWY8D8498yZHofVPzJreX57eLq/t5Wf0E6u2b/vSvIg14nmv6b9e/AcU/W/hA1tvjj39b8rOpFJ2fD3vw==",
          "dtype": "f8"
         }
        },
        {
         "line": {
          "color": "rgb(148, 103, 189)",
          "width": 4
         },
         "mode": "lines",
         "name": "Image_5_sum_spike_rate.csv",
         "type": "scatter3d",
         "x": {
          "bdata": "VKwlbZShBcAfygcXKcAEwL0DfOJQCATArxJtP8oBAcA9/cLFtQ0AwBxSz6SUOADAZooP3bcc+79E/USMi9/3v9X8qdoZtfq/uCIC2jlr9L9Z+R6jXn/rvzdvy3gSndG/8Wl8ocsX0T9lYguEcpLwP53zmN3r+QJA8i9hSELWDECFuW+h9t4QQDRT/2knkxNAeSjYEusvFUBl7ESEbwYWQMK/NxjxjBdADtJW/5WvFUAyrURQOScVQD9Q/PSrtxJAirD6VTjjD0Av49yWIsoIQCJY3grhzgFAv4xL7tSt9D9ATIbyIwzhP2EXURdXebG/WohT78A68r+0xqksHoX0vwtPPXFmuADAdPEbc9zvBMCDBxfDVFALwEy7siRNug/Amf1W+7dqEcClvPGK6TATwM6N5ahzchLAkOeV5EY0FMAMjTo6jfETwA==",
          "dtype": "f8"
         },
         "y": {
          "bdata": "O5EUkr75AECS05x/usb6P/rb+PHtif4/mq2RAs3gAEDY3UJE4oECQBYNY8vxZwNA2p5zCMJWBkAs1n1GavcCQP++xnVVYARARVZGG2S/B0DlFTq0OzYHQLli2H8pnghA56zi1dxoB0CKHWqNm8MDQJLdP80YMwVADerg2OSNAkDFReN4nkD8PxTbpEb32vY/Gz0iiI6M6T8jiCSAXdvgv5GAGZsluPC/JSrIlc8n+b8p3ujNeeIAwCQx+s2rvAHAji0VwSNWCcCEIjhor80HwBnHd2FuiATApIU1wEEXA8AqyaGgLVAAwE50FDqJO/W/3u7GC1P5879XyDZTyPrzvz2/w2ZNQ/u/Co5AJJKf/r9mLUUChK31v+nb+nEihvi/XBDkSvPZAcDLEcIrtZoDwI/vOw3hIwTAHnhaZUGMBcC0/gDH2usFwA==",
          "dtype": "f8"
         },
         "z": {
          "bdata": "xrDas3+u17+OJfUtq1Hmv1zM8L24ttK/CC9LCNTlyb/+/sWeFTq1P1IWXgiOmOg/ud6aCkRx7z8UXH6D4MTsPxLjYJb2qcs/JJ/TYk9P4T+GWSMerC3CP+4D1nCcguE/VbcIPkWsrj8y1wMcy06uP0ZVOPtO5eC/WYl+CPvz479Q+2XXFg7wv+HuWPSlRPq//GP4WLDo+b9Qfqa+EnL5v5WkcGI8XPm/17yd9jyb8b8EWoaEi13uv1wCThTjy9G/xLuJv78U6j/G2xRAuy/tP5+6BFKQs/Q/XoXEimA8BUAOefS+BlUHQABITfACBghAwDTIWertB0A2/+3XxEQDQJiw7JPJRwBAcVmq/42f7T9v4iYJbY/Pv4wJo1PnMd2/8upfiY1V6r+MYF7lzRP7v0qqfLOpHQbA6yzeVKgtB8CkRDmHHiUHwA==",
          "dtype": "f8"
         }
        },
        {
         "line": {
          "color": "rgb(140, 86, 75)",
          "width": 4
         },
         "mode": "lines",
         "name": "Image_6_sum_spike_rate.csv",
         "type": "scatter3d",
         "x": {
          "bdata": "eId6F3gtw7+1Zue0xKHRv1BGAYfQHuC/4nKyL2S50r9feDcxGyTVv55CeGnL1ey/6rNNLo1o9L8+ONFCDUj5v1S5W0i6Qv2/VsITUhrp/r80KhDcsW3+v6zA86fN/fO/iZ+m/uOd4L/f0d5ayMDNv48hgakMmOA/OqHhucyX/T9S1NkBmx8KQH7c6v94DxFAp7Ozwq2bFUCXbJIF/CkYQCzs/rh0YhpAf96TIkYAGUC38/9jtLwWQALoiveM/xZAb7wtkdYbFEA5XS+n9v8NQCC8V5Xk2ANACmeAJd2f+j/gy6XmZkfFPyAke9//SOK/IR3AYzUF9782xE2JN/0AwG6me9JR5QbApLnV+oB2DcCNF0rePTkQwMe/4W9KeBHAh1tFoAMnEsBTeiCd2aoUwNxdi1tsuxTAxOxsPdeNFsCrO3loCnAYwA==",
          "dtype": "f8"
         },
         "y": {
          "bdata": "/hMZ2GZM+j9LNd/ChuP/P7e3PwIKrABABw5ecPlMAkAcHVsCMQsDQADwgt4dfARASYDK+1qaAkCtQ+MN4lkCQB7Aw0RJRP8/FlyWz3oy/T9cBsPFw9z4P9P+5sKnDPk/fxv8YUBA/T+hFtiqeOz+P+vleymaH/o/KaiPfyCi+T/CY2QdVX7yPxg88/V58eo/hSHNZAm26j+DHabwh1bqP+kAqY+rlMw/4yZ87s0m079k4hdWOpDxv4Muf92RLP2/NQDHQ9ciAcBo0GvgnlcGwK7bI+RpHQTA3CpRiRCWBsDlO/BFTG4GwMPpkHpL7AbAxLx5GRhZBsDtYSDAPNEFwBwieNk1DwXApuud64ne/r9dfBUvycj6v6yVc5xdOPO/YtjkldUx8b/dP/H7DuLkv9fdDvlzg+K/ejbqJeMx4b/yDzokAz/Yvw==",
          "dtype": "f8"
         },
         "z": {
          "bdata": "+XpOmKvPBEBUgoR2RiQEQMyVpSuSbQBA85CnGT6iAkBuGGF/39UDQPG/H4/niQBAJhOBNxRr+z8qE1k+C0L5Px4Oj4Pituo/qtrcbOay2j+UcVYfaWLhv8+9wE4Aeea/ChJ4987z6r8HiAgoxOD2vyVA/DpuNQLAb+xuPOxqBcDYiqJmiD4DwBgrVrQD7gXAWhv1ZLTDAcDsipxlutL6vyzbhG3Z5Om/tpAUoyAl2L9uOaJJ+QS6v/b3IUQb4OM/v1JiDVMR8z+btn3NsW/1P6lnX5fLEfU/IMI3CSrO+j/zs1J+kGvzP/wNikxA9uc/tLYy6jMs4j+RbsovN+XcP3WGy3fdGsc/Z3708EOqtb8SoUXusybmvzuGuA3pqui/vbUfuFn58b/DCo8pz1Xzv2sV5up1evK/5lLjYmSJ/b/XojwdB7wBwA==",
          "dtype": "f8"
         }
        },
        {
         "line": {
          "color": "rgb(227, 119, 194)",
          "width": 4
         },
         "mode": "lines",
         "name": "Image_7_sum_spike_rate.csv",
         "type": "scatter3d",
         "x": {
          "bdata": "ItuDXIDo/7+JRrfYx2IAwDBcLVLg8P2/1VE4G8dbAcBBUSWLnAMBwCF0ClhE3P+/aG5Yhv2l/L/EU8Z3eP33v4Vr1fRnJ/y/yvFJ++KD+L88A5oW3fH0v+NAyNdXku2/IBRO86jz17+T7sGftHzpP+90k9vzcvc/fInn6N8JAUDTNeZyNS4IQJlQHxrYigxAeA4Hw/09EkBS57ZnplAWQM4QReKkFxhA0usG7Oz6GUAajag6YkAZQJji8qPHLxZAAUfYzI0fFECu78E2aW0QQCnW2C7JlQdA/x3tfC7/AEAe4LUUOanyP6zpOg304Wm/P8xPEQ5Y7b9rF0/0Ey0AwBg33iTkwgbARMWRPInUCsANdX038csQwM1PXwCFZhHAe5DHmszUEMCEbIHd/7IQwIgkNugAPRLAQXIz5vAhEsDO2GsFDEcRwA==",
          "dtype": "f8"
         },
         "y": {
          "bdata": "AN/6GaCB8r9Ir8MR2wLwv7w9nlRur/O/ec+zSCMU8r/LDInwLR/0vxs4uO7pBO2/Offuf6tz87/PKyXADOP0v1TQMAqw4fW/DzP+m3wb9b+K96nwErYAwJGrrT9HEwLAweerpXCvBcAL7yNtqMIHwEdr030eOgrAJqyyYLZTCcBx8MAUMqYEwH5fwnkLAALApO96JsY0AsArJbikI6bzv1/LPen3bOS/HfhAOfRzuD//SmRdSRDzP9rstRHWqgFA8fK2EdDMCkAuJ3/aqrgHQK7bpo8R+AZAz9cC7Sd+B0CpWtBZFbINQCGFwXnuZQZAeEdotUuwBkBWk9Ua6DwDQBMH88d4YgFAljRoxn8N+j+ikbiaOefxP8/PPkJyNPg/4PSL+qzi8j8YD9ulaW/uPxyn+2fTDt8/6YM+tv/14j9MGRwpLbLUPw==",
          "dtype": "f8"
         },
         "z": {
          "bdata": "hUTJftI3+T8KjttvXTf7P2fYNFxB9f4/njO/5LEcAkDKTVt1xlAEQKCzp/tFdQlAj7HxE5TDCECcPRgLajYHQK9E8rORhQFAlPrA4peHAUB4FPbJSh0AQHZb/BMTI/Q/XOpupGqF0T8AOiaGBtTjv+sAUhnCV/C/aOACuJte/79TwWyfi40AwIGH5iDNfQLAdV/4t3WEAMCc0WwbqsL+v5FFVu6XSP6/C+8X88n66L+q9+Qdpv3Xvy63U51J5N8/FNN0vqbS8T9i2XTc3+b1Px+93hod4fQ/OYOuk6K39T/SvdQPOlDzP71IssBhXuI/cBV33aCZ5j88dtT4Nfy6vxK4n9EwCdq/mvpE7P/I8b8XPoPSnoz+v9T+y2B5kATAlXbAiiiPBMBXN91Xr/4DwF2ph4jqHQjADCe1r1FzCMAt+l90/u8HwA==",
          "dtype": "f8"
         }
        },
        {
         "line": {
          "color": "rgb(127, 127, 127)",
          "width": 4
         },
         "mode": "lines",
         "name": "Image_8_sum_spike_rate.csv",
         "type": "scatter3d",
         "x": {
          "bdata": "qVSFN7/p6L+xgd86v27sv5U4jzmFk/O/ldyvTbGD+7+C+mQHz0n/v6SYaU7VxQDAvVtx0pwm/r90dbcLP+H5v10q5sDksfy/Hu+GtUA5+r8VqAZ6lEL3vzfPKqZPpvC/vieZMsKI179pnoGG9XDcPylIartLHPU/z/hjqK7PAEDF++n/6CQIQNIA+luYUAxAdPfESkYMEkBRZmDrExIVQBPgri6jNBZAjLq9YH6KF0AtPWOuWvkWQJbTsVpVHBVAyUvKaei7E0AVWRmkspwRQNYCpHIVzgpA22qD7FE+BEDA/ATQSy/2P+LuiGBZoco/b/76EsSx6b8j5wHEaiz9vzrw6NMcLATABXK0twhpCMDLDyJbtAwOwMngvIUPexHA4SNBGQhkEsCPPCFGtpwTwAoKNlTukxTAv47qUGUcFMCHTwWKbw8UwA==",
          "dtype": "f8"
         },
         "y": {
          "bdata": "TZWXIjet+b8yO7PN9NcAwCz0cejxJQTAHf2LnVq0BcCsERE9kbcIwHlWWI6lywrAOe7wUoRtCsCQb8M0BPYIwPFKy1WyjgbAbTdeERUEBcDKs5WXX6UEwFs6tievEQLAWZ784RI0AsBj+5W9l5T/v5gIXLoD0v6/7IAbsqOB+r+XP2eQQV/4v8KWgYeX1PC/CRKK9w7t4783Jd5A6KnYv3Ylg5wWcq0/rPfURjzI4T9vLVKdmAXzP2kjl7Kbh/Q/imWTRSqZ/D8SbCnfhHYBQHSs4hFTrARA6OK7x4XEBUD7AsxYikkGQPSkd7yU6whAKWI4OmaMBkAiLc3Jq4sHQAtRrCwvKwZAdYHu77LGBUCf4ym6OTQFQM6SKXhGYwRAsN0/W9ozA0DMumBV4dn+PxjcK6pI9/o/561Yz4WZ9T/BQt0Z0NP2Pw==",
          "dtype": "f8"
         },
         "z": {
          "bdata": "TVV9v32z/z/qNkwVyOwAQIAsFnn1DPw/f/Bmv6CE+j8Tz8PDkBr5P2wIX8+3hvU/9h1GjD3I9T8Q/rmp6Xr3PxuaCR+BR/c/FXeWG0ub5T8TcJdT2B2eP+0/asyfPue/M73zVTMq8b+F7NFYnpT1vxkLy09XLfm/Fn1hVhvGAcDjiP1klqcDwKNNsWao/AbAy/iLzM5sBMBuUEnuFxMCwC+/KdzsXPe/rzEUNk+L6b/5Q4Nd4cGmv+IRMonVVt8/C2DPucRB8j9RIgE5gdb+P5j5P6liPAFAp6ABpGJbBEBJP52yXTkBQBxHyHkO8/w/SZ/wvVip9j8zrrgapd3tP5GmH7vaGOY/7t803HwH1L+UqcRo9L3mv4Aza9Qdpum/yi3MiOHU878SdovZn9X9vyIVPYGeHwHAlSi8/Z4F/b/5WTpMWy4DwA==",
          "dtype": "f8"
         }
        },
        {
         "line": {
          "color": "rgb(188, 189, 34)",
          "width": 4
         },
         "mode": "lines",
         "name": "Image_9_sum_spike_rate.csv",
         "type": "scatter3d",
         "x": {
          "bdata": "k/WsfRokwz86DovHeMCEP/eorgWz67q/uZyA3pGDwb/PdO+VMcrSv3rbdxnyptu/vHTv/aUpyr+rN5JOuh/ev7LmVxiQIeK/5kJJWmy54b+1pU6yg3Liv3Wm0SJGaNi//TewI53tjz9oIcL35W/rP/FkTwOPhvk/PmKjnNxYAUDe/776pfYHQFSa64UfDw1A9NEURB1dEkBak+z4AgQVQNr+4OKkuRdALyU0g7axF0CoVXJLZKEVQPgff82j2hJA6axiNV2JDEBA9f4xD8UHQM+tPwqqCfo/5gqmxWsy3j9AuIyEImLkv7/qbs7zYv2/cUhaO53KBsDAdtJmCmgLwEGWkua+Yw7A0U8NgyyjEcBFGkr+V/4RwKojmY9ZVxPABAw2mwtkE8DWI3VVMc0RwE2vwRTifhHAX3gw0cb9EMDF5nK0wpwPwA==",
          "dtype": "f8"
         },
         "y": {
          "bdata": "l2ms8VctFUCCaxOtfq4UQAxBcetsBhRAPyRO5qp3EkDmWe0S7AcSQKAg6q6YShBAmw1yaUykCkB6ZtbRDtcHQJiovRoQUwRAchm5f5cjAECKPnHkWCn5P5l9dHk/Zuw/kDtlHI5Z0D8r+cHmxarIv5TvpbL/EOa/9/wjG7uS8r/6aW1kwg/5v/Wolv50LP6/lgOtcPBg/b8ISl1g19v+v9E/kpgoIQLANHd4DlqF/L+zeNBtipf2vx2Vf6bMAfi/7hCC/Wkh8b844Ml0TX7zv7bHt6HJbuK/VO49ZUQr6b9vB1tDq5bgvwRdrfGq/O6/59fXeETU8b8+svRhBCH2vzIzDQ0LfPa/j4zgZCcV879yjnHYlhP7v/kUKqzDWfq/xRMuql5eAsDwKQePAtICwLlTai4vxAbAd6Vs6xyuBMDCDA2uPwcDwA==",
          "dtype": "f8"
         },
         "z": {
          "bdata": "7ok7r4mh5z9cm71JzLfeP/dLzb3Y9N0/24Ph4Pmr2z+IxYSK87XVP9HZgJYQ17E/u3fWdKW46r9uuTmtm7jov+N5Xo4v2ui/OLWUFYS99b+c4I3mKBT4v3kHX6yE6/2/JyHPWoXlAcBQ3K0SNfIBwHtiaiCeqgTAROhmkybEBMB/me3oUxQEwFiTNPSYFP6/HhZ48Q7X9L+dKFNxp8TnvwzLnIV9o9a/nh3jkxdz6j8n9lT4owX4P/tf47nBYP0/3jvn/En4AUCS0CDjcjUEQPz7quZ8KglAbUr0xJ4yBUBbf6KyvL8CQC9LSEFOkARASMqPcpVSAEBRQeBg8c3xP0CL10GsUfA/V4DY0CeT7D8yVF1kzRftP7P330GTSdQ/0KRRmkpCwL/ndNW0P9rjv1WkgnSCDOy/F474jYtD9r/jkR3hmSX+vw==",
          "dtype": "f8"
         }
        },
        {
         "line": {
          "color": "rgb(23, 190, 207)",
          "width": 4
         },
         "mode": "lines",
         "name": "Image_10_sum_spike_rate.csv",
         "type": "scatter3d",
         "x": {
          "bdata": "JHYloTWRAsAeW7uLG7kCwLhnWQPNpgPAsTRCzsMbBMCPIN0pKXcEwBRCDXg8NAPAlFU2rAOfA8C9Dk5oJXoBwKFBHLM5KAHAO1TK/PFcAcBT1mIj3o79v5bMJ2dHTvK/TntmikwIlb/mjRDDFh3hP669jLe12fc/myfOgwiYBUDX0p47BT8LQMH5lFQPchBAWLmlwZcgE0DVPtPmoo8WQNBlGf2wJRlA5RhK30vNGEBBDKsJRhwXQGfio0wZyBVAW406WeuoE0BPDfZ/tMUPQJANIE0pywpAYjef7q92BUA/+dV7QxT8PwIybJVFmus/2HJiwpVt1L+6hG11Rkr1v/nek2DYA/+/N9jMulQaBcCJOwH4bsYKwI3zAF4BVA/AIBG1CR2nEMBPB1MG1tcSwJ8zS29XFRPAe1TaAjgMFMD7v6IgY9cUwA==",
          "dtype": "f8"
         },
         "y": {
          "bdata": "qUzZx+1lBEAd7kuoK4QFQOgWBtsUaQFAup2JBNaAA0BJ4lK3+a8CQO7knt79mwBAvoxwQX+L+z/L7Es49Mn7PxXVasEXgfc/xJpdIyfH+z+U4+wthyX+P2PJgWvuFgNAcY8ZglDLBEDNPrBoDskEQKkUapVmkgRATTVM3LuiAkBNV20Lq4QBQL4Pk8d0Tf8/EhOt1cee+j/m/6MKeJbwP/tnfreBKts/jxAomvhC57/I7aYJCbP5v/G4ijAxEAHAvtB+kmHkBcDLr613fpEGwHxKcPCBJgTANP8s9iEhAsAeNq8VihMDwEmfx9zCUwHAh/kJrHgwAMDVBrbPzHUBwCrMfrQipfy/n4jAkOK4+L9D8cj8ML/2v7crGxs8Rfm/hGEzhSJ+/r+YdwlIG8sDwDTQZCRLogbAX7Xbmg9bB8CsedJWE08EwA==",
          "dtype": "f8"
         },
         "z": {
          "bdata": "Y5IjCddm+T/CWa1ZRo35PwaksMGh+/k/0xcyp+81+j8LI2i6Y7D6PzgaXYq9yfg/ku/92fzC9D9Er2YKOEn0P+UY16sg6PQ/B0/CR1Gg5D/rDZjaJAq2P/9c0cIktcW/ys9KsbP/2r8ZVRIzD372vyo/Dy8I8vy/rEfGHg7V+b+NWtXd0wX+v1QJ77v/lADAP/p96G2XBcBcdEZ1Vtb+v8Mi65f2NO+/7yznKkxw1r8maPpr1KqhP2ZDAUWS5ec/qGSF7xyq9j+kdChxokr1PxKbUcX1nPw/ZQk6hXFU/z9FP/cR2M3/P63muool8/8/vw8EqZgc9z+8PIChnWDWP5M8YqyqGNs/VZe0aTgWxL+rf2W192rwv+uvz0JeZ/O/vkp2wzK59r88hSyib0r8v5yR3VkRlvy/uOVICUsmA8A2F2jGNkIFwA==",
          "dtype": "f8"
         }
        },
        {
         "line": {
          "color": "rgb(31, 119, 180)",
          "width": 4
         },
         "mode": "lines",
         "name": "Image_11_sum_spike_rate.csv",
         "type": "scatter3d",
         "x": {
          "bdata": "HlOe7oK2+b9h6tFLPxPyv4S6ZVdtZ/C/sT9lmwZJ8r+oGfe4GDL0v9WQw8G0y/W/fz09f3RG8r8CHJyD15fvv2ZWqmsuJea/2FefbKDp57/GN+8ysbG+vwz4NBULteY/q6Ud7XEj+D9KyzgWn2YEQL7b2WMALAtA7vlTKApyEUCgewW6l44TQKVFUWIHkxVAk3hXZ2RQFkChgv1tz/cWQN9TozAGpRVAZXDTaUIbE0CHiuV9VKgQQAtuZSWCtwtAt9U5DNlqBUDWN0GqBHH9P1lNlYUMPeo/l1UYRcJvhj979AkRGxfjv8JBn0eSDfG/cVyYzBTs9L/XZJQD6SUBwMXpTloGDQTApzi3W5AnCcA2GssaXeEMwE2e+psnJxHAuWYpvSWdEsDQy7bcHMETwD6W0f0tMhbAUpQQcAeuF8CCVlQze2kZwA==",
          "dtype": "f8"
         },
         "y": {
          "bdata": "/QYdGZq8BcB96BtnJAwHwB5AfE7phwfA2s26DRnkBMC+U1z5+tQEwJ6RFsDgVwbAmydrXQAgCMCFg5L2CNsKwNtBAA6kww7AzWNV8afbCcDJG3XcEOMHwMD/CjV7dAnAZepsH4xSAcB+qw6x+nH9v5IqouZYxPK/sFKe13GK67/wP4J7oVLSv0AauQFrdNA/nOamuVQM6z9mcPEkzqj1P7VNrmAUtvk/z4xdzAr6A0DolamJxRUBQFP8b28tRwNAGNY0/Ox5/T/8rruKEKwAQKe/U15DdQFAT2j1ZZalAkBuFuzbAvoBQKLmlYbQcQBARXSsZWXMAED2KSED/uj+P6I08h6efvk/OdvEAy8R+T/O+9NECtT/P+6nJLHIH/s/V8RZKe9L/D/MkfxpJ1X7P9D/O3V8mPc/rhw7JbMu+D+GlZ10Dt/0Pw==",
          "dtype": "f8"
         },
         "z": {
          "bdata": "0pdlD8ow+z/wi6/9b8v2Py5uOyFwZ/g/OGKpQuUg9D+Ft/6moWfxP24CKc6obO0/3xVk61vm4j+jsIZOeiruPz9S9m9ZBOA/6MxV3Yr2vj9/3ByG5LiLvzwtzO6xR+i/oK/FCyJ0+b8VCNyH04z/v2QPDrnpFgHAJLDufBn7AcAy3btEEfb8v8qPnw3Wq/6/g445vkyb+L9v0pjsXVb1v3ycxySnXey/AIsxucghVz/4aiES3DflP28+HSN7/PQ//Dp0ECS/AUCWo9nbt/QCQDwtaUO0OAFADCRIsgcaAkDXu4A9KGr+PxOsFtPNZv0/9deeNLvs+j/hqk+FoobzP65vBCjci+4/Gf44m/TX2T+sw19a2rXjvwIQeo27nvO/1ZJkGw0y+b8kDuwtoOT7v+qDjtZRIgHANDp0B200BMDmcvIs0yMIwA==",
          "dtype": "f8"
         }
        },
        {
         "line": {
          "color": "rgb(255, 127, 14)",
          "width": 4
         },
         "mode": "lines",
         "name": "Image_12_sum_spike_rate.csv",
         "type": "scatter3d",
         "x": {
          "bdata": "Et9O/75j+7+NkU+St5/9v4SUVmwRkfq/N4e3vxYc+r9b50xWORD5v2uXc6BOdfm//vxIINqI+792D/WMoyf8v3hdrqMKtfu/IpO+0wYU+b9sHKifFpTwvzMsQWQKEMu/6Cu4cmTa0j9N4ygnaz33P13HGxn9JgNAaNz7YhXKCUDZnTwQw6ASQGOe8SkqLhZADW0yK2a9GECYDHESKWgaQL8gUoCBcRpAx/CQBT8gGECS4rMRW2cVQL5kwF6DOhJAStwqA1O+DUCllKXPeLUEQKKnH1usXPQ/xjiFyGNB2D+y2DTTVMvhv8tLKV5eXfa/ZEyQi4O0/r/5HNqpnD4FwA30PLsihgfAhRSN902iC8BwuBkm214OwCOtZteZuA/AJwcJBqHdEMCCLPkXFy8RwHa0FbLVlBHAXsa74J9uEsBtCtaVB3wSwA==",
          "dtype": "f8"
         },
         "y": {
          "bdata": "99TtV+MGA0BpSM3blDcCQJZjSsskZgJAvduCFnSKAkAepE2QEHoEQCywtnK3IwVAJTC7cbWAA0DEhbYAQPcCQIjUuBg7swJAn2zVMwCsA0Cy+Fz1i2EIQPPdJSfF5AhAey0bhvP0B0DKsNxIH00HQOsp1C3bUf0/FRbSVtAU9j98oSPNU+7yP58lOeHPH+A/XWnZZtb52T9KagKerMDXv7Ge3Wp3m/K/mzG3SohtAsDNY/1a+QUDwGiQHe34bwTAE4IbaCdoAMC2zRJv7tb+vxdQIcAOE/6/Ncr/bRIM+b/UrjkWJ6AAwA28ppn1m/+/f0Niq4RaAMCpeA9Rys/6v6KW7UQpdP+/wYLSDlAa9b9d/06i0bf5v++Gfrjfzf6/gzocjCt+AsCVfMS4vwcEwHR6Mf5YVwDAe+I/ymL6/7/VGN7PFPn8vw==",
          "dtype": "f8"
         },
         "z": {
          "bdata": "uJi8L1VQ8T9wrS+YYqHvPywlDmCiGfM/2oKDYl64+T+XpwMLvLMCQB3t35rSvwRAbOHA/CLA+z/AOLQoOQnwP4xzZUbPDe0/mLHkmXjgzz9xdf+BxRfAv5R4DBE0k9+/e4F7BUD/+L/gQz3hG2YBwI2Sw+gekgrAz0VUSvC3CMCmEP8NqgIBwL6mnJlWDfm/euPPZ/Z0+b/5OQRHUyDsv36EPy8R5bC/hghqcPIn0j+KOjz3/d3wP8f9JeDUNvw/5kZ5MhBYAkCF2qmau84BQJeZDdfcuv8/dZPktD27/z+DBL5FuWX6P6U+gFgUbOs/NnV33xL85z+DvGxOWuXfv+3fIMZWjK8/uLberPH33L+XnDJVxFLbv/Q4MwUCkOq/QdmDVWJz+b/5R30JnrP/v7P6aQz9Rvu/RxeOqDqY+7/J7zrbuSsDwA==",
          "dtype": "f8"
         }
        },
        {
         "line": {
          "color": "rgb(44, 160, 44)",
          "width": 4
         },
         "mode": "lines",
         "name": "Image_13_sum_spike_rate.csv",
         "type": "scatter3d",
         "x": {
          "bdata": "lFjI5VHH179BYtMgFjvOv8P1sJhudtO/axD5b5Eowr9uaSqwU27Fv8dGghHz2Li/G2JzW+JGxD/sZz/6+1KdP2vaILayTNY/7+3HuBhY5D8LHjvTh+7tPwG41HYb9vQ/QlMOBBmh9j9tdCqtSZf3P34JnQt7pf0/LawlAS+OBEC03a7PZ9YIQAWAkShiSA9AA9Z7oydIEkBH8wlYUUoUQGfctWPbtRRA9vySyE7DFEBg0hD124wUQNxBIKyb3xNAxm5FMoxTEUDQyfG9CYwLQFC+NIAMXwNAjjTnJ+bi8j9D6wlP3DDXvwisXmgdI/i/Pzhz8A4HBcB3aNopVr0MwI7lspbojRDAmnDMH11kE8APe4SyXvYUwA/Vcc0mNhbA8E5anpJJF8AAI9ifKw8YwIvy3BzROBjAm4b3Km0IGcBoJ8ei8JUXwA==",
          "dtype": "f8"
         },
         "y": {
          "bdata": "IOXoXNhoCUDgviGlBhALQB9gy4zoeQlA9gh5GyzGCUAtgN2nm74JQHXOixDS5glA+rK7w+UZCkAse5pAHTMIQGQ7Q3rCBQpAH3HydqkJCkBaoz/motMIQLtMOCeCgQNAvyl8n4unAEBeU8CDtB/xP0PWeY3Ub80/Ji8t+QCs478HiN2Hc4P2v0tOltURRPq/i+v2oA18AcCN3vj7zp8EwDLFPC0L2QXARJbD3KxEBMDxszv7yPYDwMFjl7peKv2/1xn64ufE+r8B4k3TfULyv0N7FmdvS+y/D2Io2gZE6b9QxooYJDDwv8qGvd+Ffu+/QOBU+u8X9L+xQ4wa9m33v3NxpDOmVvW/Tx4oRuE+979KboswhYH1v6sWKLvtSvi/4VfOkrGZ+b9aUt0Dpub9v2QzACEMyvy/RKEWIyQ4+78e/nESIev0vw==",
          "dtype": "f8"
         },
         "z": {
          "bdata": "1sAHN8JJ5T8QQ94Rt6LaP/sZcnzlYto/ozx43haw4j+iw3eyicfiPxq2Jcogs9c/D2xqJI3tzD/nEZ1zo8TPP692AxpF/ZQ/XqyPf8YLwL9RVsqWhWfpv+TQ0qeVD/S/6umnV3Eu/L9VktQ/tB//vz2UV8dFHwLAO3y8RxVpAsDVckBYAzIDwIdf5GxbYgTA2qx41koO/78v7XWrA6v5v9p69HKCwOO/qT3pUKtV0T+hq0AwVcLrP1R1NPUzo/g/6LvbtJ/KAkDdMEloG2UEQCsgpWQjOwVADm+qmvZ7BkBnEVbyQFYCQIiXs9882gBA28kqZuXx+T+aUjRDE7LwP9eyQu8N6+c/Wu9RpVR30z9gUMGpFUPNv53LIza7rtG/0gyOj6vm47+hHfKfYC3qv1vLHHi+uuy/O7uDcKN78L8SW85kyxv0vw==",
          "dtype": "f8"
         }
        },
        {
         "line": {
          "color": "rgb(214, 39, 40)",
          "width": 4
         },
         "mode": "lines",
         "name": "Image_14_sum_spike_rate.csv",
         "type": "scatter3d",
         "x": {
          "bdata": "FDKxsWPa+r9oqCfojHr6v+9I+tYfkva/l/ituqlA8r/RYeQ5fwbzv6ZTQgaJmfm/yq2orYSF878bSKZNf0D2vzbZztM4Tfi/sTVzOyEo6b/38mNj7ADdvwonk7ezt8e/6WrspNed0T/osYgCKazgP7+japXZG/s/u+tW3jgtBkBhN/y4yEQLQCxdgCt4hRBAYvGwzXzHFEDQoArHeuEVQOZ9c8Oc9hdAzTundyf2F0CzRmtcVZMXQHfykyt66RVAJLUYvV1yEEAs3qLMLH8KQIh6NsgccQFA5KOfjhmC+j9n/1W1SSbgPxZWZy5D482/cVqyvYvR878RrPoWIQr/v5CSL147kAXAp7v6/UEWCMCGPPVmrWQNwPJ7u1fofhHArA/exX/9EcCPsV/jkK8UwFY6bsGDrhXAH78IPLmNF8CA5CBoztkYwA==",
          "dtype": "f8"
         },
         "y": {
          "bdata": "JssJlky3CkB5rAsGlxoKQBXmHybwGgpAEEh88dQwB0DCSDxUMhAHQHpZIoYY2wRAFb92ly2TB0C1G0z424cGQEypGAGtVgdAlEhL9FmNB0CG89qOSbYFQJBYfQpJuP4/7kgI/CoK/T91V0Xg3bztP/FpUk35w9c/FUi7OJbrsL8I72JMOmPwv6ENCEYUcPS/Mm1yWYuG9b8tNweuPOD0v2U1POggW/i/5fFINI0s+L9TH1Wt0GL7vwHb9ykwAPO/gC34T9sP879YkKiOgGLmv86Vv20Dl9u/vB7Q+mPmxb+n9ve6iaTXv/sgaSU4ovC/WEQFtaFn8b/yWhTiBfHpvx5ESWahLvC/ms5pwC8h878tYLRGnwX4v4VfSTle8P+/s0VLHKmwA8AQ83doKRAHwLZDKJP42QnAX9QIkqbsCMC4Dvy6kdsLwA==",
          "dtype": "f8"
         },
         "z": {
          "bdata": "5vHrBoLJ3T/r6UTrgt7Iv0b4/h7Juby/RlQRl27Ytj8fmcZYTpCpP1wKaX9MKuC/AzNcktPg0r9uuSg7V5Tfv777qecZ1OK/LQiuecNx47+U2VUOZ+bKvyer7M3eQ+u/OKAFEFWQ8r/HiMLG1gj9v5Ldp5Reuf+/G1SB5tacAcAFSs2eibEEwBVbuZfWRAPAzmR+HPxcAcDvfLjLYb/3v9mz+AMUV/C/HrLh3nIQ07/Eik7/ZlfLP2WGd0akUPE/W+bSpaIt/D+CVFxbvcoFQHMpZBrB2gZASfbMzXdZCkB2TdhuX+IJQCJz/pkd3AVAWxqEdn3vA0AQlapNwugCQIiDeBSf+fw/JWDXNX1W9z96wW4QCADqPwMVf1aIZ7o/tUAcra1ntD/7PRjH3dfwvzoa+xBJbfe/pCifgHWw/b8vg8xxtx8CwA==",
          "dtype": "f8"
         }
        },
        {
         "line": {
          "color": "rgb(148, 103, 189)",
          "width": 4
         },
         "mode": "lines",
         "name": "Image_15_sum_spike_rate.csv",
         "type": "scatter3d",
         "x": {
          "bdata": "8S9Vf8XnAsCkfcO1/MQBwCtRaeuZSADAitGd3eWz/L9TrCPOz87zvyWNsHB8MOm/EcNUuef+379ZWgvDo1vLv5UNIChDbs+/H8OuEQx0tD/Rierb2NHdP1X5XsRlbeo/3l9RxXkf+T+WZ3P7Jf3/P2Od1fStlAJAWfLFJQpXCEDl2xfp9fgOQIDNX9Le1RFAlbQE4nPGFEDemgthKC8VQF3GikIHuhVA2dRvsM5RFkAOLWI2tdcTQAh5213lqxFACl6dSXtyDkAO8rKf8MAFQDSZGIacCABAOVEPA+0f8j/Ns6sjQnjHP7Wljqzl9eK/P8Z64p1X+7/vuYdWKekDwFZV/YuX9gbAP6FX6eDiCsDOy5qqqcIOwI8s8vYaVhHAvxMIvvG4FMBYHCaoo7IWwDszg9sORxfAT0TsRJqVGMDL/qdresUXwA==",
          "dtype": "f8"
         },
         "y": {
          "bdata": "OyndavoQ4T+kktabsGTkPzrlOcNK1/M/ngrdgeFi9j+p4Kb9j5n9P6AVLYi0lAVAdw/uQ3bjC0DIn3pQKV0OQAT3X8MXKA1AR3fjFIk/DEA7VQQhGbgMQEeIPOf2TwpA4rtpySAHCUA3EviKjAoHQAUwJaiKSQJAMQsZ0asY8T85eHo09hPgP40E1OKsKaS/X+G0B0Tk6r8UwyKvYKHyv/GwvPNl6vy/mV8sFFF+/L9UqYkPtSQEwBcmEDSyMALAI+8bG6SFBcDdDBUeDJIEwBZgBipzsQXAOhqBiog0BMAHZVEgrp/+v4cMDcl/Tfy/C64i9QES+r+rAln14TH1vw8atpLCEe+/evVNYFtb8r8Ew/fiQATnvzJz2QIjBeu/p3RyL2HC8r+jDUJqICXzv5wG93I0mv2/EWU5PsxcAMAzSEITW2wAwA==",
          "dtype": "f8"
         },
         "z": {
          "bdata": "VM54r0K45D8+lzlkhA3jP8OxOUCzsO4/pfB315Tu4D9XWPo1lTfyP0vJgmIrPvU/VkrOuH5o8j+NbWeVlrfeP7kUlHA5b+M/OSd8xxww4j/u5bf7JhXmP7YYGTvg69g/3FV0URJj1r/3Q3VnpoDmvz4W0QNFHfa/Fu4/JVlHAsCee3Yuv3YAwNH7TpbBIwDAKtxvjZ3e+78AtXpIO4IAwFqkTKC8YgHAVOwbBnXS7r9n7HvU0kHcv2kVTLOR1Oo/ev0RH8yh9z90lBmyupkDQGYN++gzWwRA8p2N33OVBEDuq2nqCHQEQNUMaTxZLAdAzeU/2o3c/T/lsgDzkovoP8zwAjvEH74/TTzxQvAu3r+skFVA4JXovzcx31O/dPC/C2aKS10y+b/kIW8Imyv7v1RKPtHeHfu/2BOsYAHzAsCarp5lQjD2vw==",
          "dtype": "f8"
         }
        },
        {
         "line": {
          "color": "rgb(140, 86, 75)",
          "width": 4
         },
         "mode": "lines",
         "name": "Image_16_sum_spike_rate.csv",
         "type": "scatter3d",
         "x": {
          "bdata": "cQoyALXt879jWJMNe3/0v6YHVUwK6/W/4BuMxPvH8L/yQl7hEvX0v3SUcMGTH/i/mGi35jxQ+b/bDQAIRSb5v2Y7gL9dlPq/WCBCxkKd87+KaXi8irPqvyERoi/TpeG/1ePIgm4jwT+zmiKZtjjwPylPzG+KLwFAIM2HVidVDECll8xE4MUSQMGF/WYVExVAoH/tC7tyF0Ce6KCO86AYQJgKHGHDthhA/ptw0mUAGUC+pxYYovUWQGaag0BIFBNAZvoyUFUwDkADJOBE0jMDQFukyCZsT/A/Ct1MbNVE0D+VdEuInULhv+UPvqUQIfe/TppN6VsN/7/eVVthFXEFwJouPeXqoQjAX99mj3EHDMBeicDvo0IPwBsOfHXMiRDAB/IYUflZEcCIDyHuRaMRwF6sn4vfahLAKggRHSmdEsAxwfZanB0TwA==",
          "dtype": "f8"
         },
         "y": {
          "bdata": "yNLghOAqBUBem6ovjgsGQGOkoElwigdAUGCgaR1NBkA4r1m3RJ0HQEvbt2yUYwVAD4kvALjNAkD9tt9JWB8EQHl5Bw7iYANAk4wXnZuwBkAqvHt1dRAIQNdOh2FsjwhAFmX64kugBEDBsYVrKG4BQMLSI+Gwl/8/gjXhqWR1+j+XnJnhowf0P+gM6wtJDd0/LK0KWkmI37/0cT09GGf0v83CS+0Z8vi/A5i5l5O7/r9VRfp++MgAwN7baxiJVv+/uTBcTVdhAcC9Ex7Z2ZYAwA2588BlXgHAr36wrNazAMAniqvI+Cj8vzFeKZwVfvW/61Poo08L+L9KXl5KOKz5vy3mK+U0Rvy/UgM3xTlBAMC4yANg7QYAwBTrfguZ3gLAx5okFqBXAcDLG27PdCf/vyH83KeaegLAQrv7cIrcAsBK1hhvA7IAwA==",
          "dtype": "f8"
         },
         "z": {
          "bdata": "eAwbcS3k5z+GvZMb8MTwPylq6NoWifM/QgfLTifT8j8g1L2+d3n0Px2OECG5jeg/OGTEXaUE4j+0Ln69SDjnPwoHhAPxeaG/LDqljxg1tz8k+OC4WrGjP/slb+dkhNK/tAl81SLp8r+9iblO1nPzv/myDZKdRPe/eweedWqt/7+JeZr7O5sBwHmAp3NAKwHApKdMF7ch/r9LOhG4ISD5v2V95JxOjua/kkyfBFrqd78dNPZovRblPw/f6MWVhfA/IsuWvnVp9z9w5nkSDkgCQMuwYKsOiQVAnevGBmaYBUARqN6WqJMGQNutfC/OCwZAaoQRx9um/T8Dp5/c8ZjyPylvr9UWjuM/noUqBJ+3kr9GRRkDfKXkvx9Y0o3wd+2/gHnlb0zT87+FYSG6Nr73v0yb00dR9ALAKZODcPcVCMD9mMY5VrYKwA==",
          "dtype": "f8"
         }
        },
        {
         "line": {
          "color": "rgb(227, 119, 194)",
          "width": 4
         },
         "mode": "lines",
         "name": "Image_17_sum_spike_rate.csv",
         "type": "scatter3d",
         "x": {
          "bdata": "q5Idkt4Y7b/2Fikn7Brjvw4sd1g7itu/qczLn7Pk1b8rq+LgCE/cv1JF0EuGTdi/lQTuBhDG4b/eUHFRuj7pv6vx1Dmnb+u/F+xoWPOI8b/KZM1H3b7ov7ckPtsFUOC/o6GtgCtvwj9x03iP63bzP2o+dT8Q0/8/TzsIZ0pbA0B2loFpfnAHQEYQETtXaQ9AuydF+JjFEkBjDSj2mhYVQPzrpH9VyxZA9pxtppv6FUDt34Y2FEMUQPZ54tmD0RBAA2inl5jQDEBmMkAtpfUFQEio5AYVxgFANwOBfNSH8D/mpl/XPWa2P5EPUUtUpe2/7YEqnSRnAMDm9AAqtHAFwDRAgCQS+wfAqMEgiUJuC8D63ueIKLoPwHSx4CMI8RDA7c6I8HKqEsA9w9wPbuASwG7oRl7T3BPA9JjA7x/YFMCJ3w5W8tsUwA==",
          "dtype": "f8"
         },
         "y": {
          "bdata": "OEXkanujB0CK73zIFbIHQIdQCLtiCgpAB8p2ElxTDkDXAEQQqFUPQCjoNAueUQ9A5VyIRW00EEAVLqiWO+0LQLplT5xiYgpAOxGA0E9SBkCTZjcfR2IDQFpghuISyQFAKC7O+2YW+j9IuWoyVqXeP45r17yyF+O/nZQiYGqK87+wQOzjOVMBwNV3YmNTjvq/ZIYI6uwK/L+MkG2rtIz8v1Zjfc/2av2/ItczKC40AcCCeY0sRWf+v6/gT7r9V/m/h7t6DhNV8L+AdauAVQzhv4vG6VxlMdI/53aAL7vwoL/6DorAprPKvzzS0+eB1N+/TKcGZ52b6b+58vM62yniv4FRxznAC/G/O9jaPOvI9r/mE1tpk2H7v4fib/N5gADAxNcbYF3MA8BqVyuUuzoIwPtY3Kz3UwjA9O5opoRxCMDEKs0IaUsKwA==",
          "dtype": "f8"
         },
         "z": {
          "bdata": "gI/f/qfZ0L+22nvpidW6v4LrdnyQ8qW/gpu8SJit0b+ljNOoYuGfv7LrYXH18zs/z+Id9D3/5b95DUGPoLrsv7uxyyd3ROG/5On+CmGl5L+oEvfNgtnnv8W7kKul+fO/BUVNSxSwAMAqhPrHPAMFwJaZ+5MpJQvAvYf2poWOC8CJhL52FhQGwBRNkzxwUgTAzZ2Zi01y/7/d85oQi3X2v+ezpRfh4+y/4g8e/mfusb9cSxmYnF7xPwqT24MvugBARaskRrcwC0AO8CqCpD4OQAE1mdfqEhBAJMIHdl2VD0BUWu7ak/ELQJ2QImcQoAlANl0wNMa7BEAko9WmkuT8Py/TVMDc5vg/KaTCX7d/5z9nhlPqP0y+Pwfd0K8WNty/13vnN2W65r8UPaj/NF7mvwVPuhyOn++/RMHSdvF18r8zDduX7oryvw==",
          "dtype": "f8"
         }
        },
        {
         "line": {
          "color": "rgb(127, 127, 127)",
          "width": 4
         },
         "mode": "lines",
         "name": "Image_18_sum_spike_rate.csv",
         "type": "scatter3d",
         "x": {
          "bdata": "pJfKnvnR+b9QRVESz5f9v1nMqudVzP+/Yx8Apu9H/r9TCTxGaF3+v897i4I+qgDA+itNXYhXAsAVpm1Ywer9v+hu2n3whfy/rsC8iTqo8r8j+QUPisTovxymptqoztO/pDWIbzWs4j9PBXHALbn4P6wyFQWubwNA6RJ0/hamC0CXCEBo01oRQNdKiCwGzhNA8j2zHZNAFkDS0JSeaaIXQN1+86mS7hhAv2zPVcPkGUBncr93VlIYQOiF0jUylxRA7Acq3T0SEUCbN/zanegKQD2Vv/dHogBAQKS3eRKY9D8jArxxiZXQPx2c+0Pwf+q/AhtrExxN+r+aWbS2/AcDwPChnEB3qgrAjAMfIuZDDsC8V7rqd1EQwGY1TRGbZhHA/ISYIELWEcDBTnqlvxQTwEB6RTMTuBLAE6lcWrS/E8APo8A3sdEUwA==",
          "dtype": "f8"
         },
         "y": {
          "bdata": "5TxN7KKP+L/kbvNCKkv6v25c6HlrHALAE+Mg0YMKAcCJUMsCnP0AwEKrFQ4bLgDApyxToAIPAsDBL8oyX3b9v4Vxj9ZjYP+/Uoy+9NlP+b/7ckaXm/ACwJ/Ju6lJCALAYRipD9UpAcC5AID5dW0DwOJqw2lucwTAQR9rXjVgB8CjlC9Xuf8BwGyTBSTRXwHADzb9jKkq8b+gZ9t3Ttznv57/Pr+NI9k/MGHk+qbJ7z87N9vXDAkAQLnlffmE0gJARh34z4haBkARgngAtOgLQM/tBKz3SAxAxWI9YVrqCkAGsTVxLycIQIclG4guwQZAfMyWC5dDBkAa5vZ0+9EDQFL5XG6SK/s/fzlVn9se/j/Gk5iM6Hz5P9l5IDZWbPA/UqWAXUk25T9t7pmxPlrpPz/sf4v2x/E/mObshnKQ6T8cOa1HoBTlPw==",
          "dtype": "f8"
         },
         "z": {
          "bdata": "GVCqyOpqAsBqEOPoiq39v20Hqt4KCvy/z9h1CWbg+b/bU/MA1ef6vwG4IJKrL/i/9Kr2meT+8b9qvRkI5771v2OocSTlNuq/XZ2BIU+K8b+HkKUVi+LyvxFge1zdRvG/0ZMWKEvY4r/cRFeiOZzFP7xa5O5k5uo/GT3T13Gg9T+zwhZ8zbL7P5E4GN6kVwNAgy8BJAesAEAgYaPvNoH9P+QnRU7yR/M/Flfincpo7j/KLSwLW3GRPxed6EnIyd2/7BkUpdab8r9vovl8Zzb7v3A9cnwnv/+/goQ7FBkTA8DTzDibSqH2v0vJpqnVE+2/h0o63XeY07/wA7z4wXm+v10bQlKZWug/RhlP7UJy6D+9T5+Fou33PySCQilWFv8/FYVcVA8xAEAS59LoaZgCQJK19zEVNvo/yu1aAzWPAkBWn5GZdEUEQA==",
          "dtype": "f8"
         }
        }
       ],
       "layout": {
        "scene": {
         "bgcolor": "white",
         "xaxis": {
          "backgroundcolor": "white",
          "gridcolor": "white",
          "showgrid": false,
          "title": {
           "text": "X Axis"
          }
         },
         "yaxis": {
          "backgroundcolor": "white",
          "gridcolor": "white",
          "showgrid": false,
          "title": {
           "text": "Y Axis"
          }
         },
         "zaxis": {
          "backgroundcolor": "white",
          "gridcolor": "white",
          "showgrid": false,
          "title": {
           "text": "Z Axis"
          }
         }
        },
        "template": {
         "data": {
          "bar": [
           {
            "error_x": {
             "color": "#2a3f5f"
            },
            "error_y": {
             "color": "#2a3f5f"
            },
            "marker": {
             "line": {
              "color": "#E5ECF6",
              "width": 0.5
             },
             "pattern": {
              "fillmode": "overlay",
              "size": 10,
              "solidity": 0.2
             }
            },
            "type": "bar"
           }
          ],
          "barpolar": [
           {
            "marker": {
             "line": {
              "color": "#E5ECF6",
              "width": 0.5
             },
             "pattern": {
              "fillmode": "overlay",
              "size": 10,
              "solidity": 0.2
             }
            },
            "type": "barpolar"
           }
          ],
          "carpet": [
           {
            "aaxis": {
             "endlinecolor": "#2a3f5f",
             "gridcolor": "white",
             "linecolor": "white",
             "minorgridcolor": "white",
             "startlinecolor": "#2a3f5f"
            },
            "baxis": {
             "endlinecolor": "#2a3f5f",
             "gridcolor": "white",
             "linecolor": "white",
             "minorgridcolor": "white",
             "startlinecolor": "#2a3f5f"
            },
            "type": "carpet"
           }
          ],
          "choropleth": [
           {
            "colorbar": {
             "outlinewidth": 0,
             "ticks": ""
            },
            "type": "choropleth"
           }
          ],
          "contour": [
           {
            "colorbar": {
             "outlinewidth": 0,
             "ticks": ""
            },
            "colorscale": [
             [
              0,
              "#0d0887"
             ],
             [
              0.1111111111111111,
              "#46039f"
             ],
             [
              0.2222222222222222,
              "#7201a8"
             ],
             [
              0.3333333333333333,
              "#9c179e"
             ],
             [
              0.4444444444444444,
              "#bd3786"
             ],
             [
              0.5555555555555556,
              "#d8576b"
             ],
             [
              0.6666666666666666,
              "#ed7953"
             ],
             [
              0.7777777777777778,
              "#fb9f3a"
             ],
             [
              0.8888888888888888,
              "#fdca26"
             ],
             [
              1,
              "#f0f921"
             ]
            ],
            "type": "contour"
           }
          ],
          "contourcarpet": [
           {
            "colorbar": {
             "outlinewidth": 0,
             "ticks": ""
            },
            "type": "contourcarpet"
           }
          ],
          "heatmap": [
           {
            "colorbar": {
             "outlinewidth": 0,
             "ticks": ""
            },
            "colorscale": [
             [
              0,
              "#0d0887"
             ],
             [
              0.1111111111111111,
              "#46039f"
             ],
             [
              0.2222222222222222,
              "#7201a8"
             ],
             [
              0.3333333333333333,
              "#9c179e"
             ],
             [
              0.4444444444444444,
              "#bd3786"
             ],
             [
              0.5555555555555556,
              "#d8576b"
             ],
             [
              0.6666666666666666,
              "#ed7953"
             ],
             [
              0.7777777777777778,
              "#fb9f3a"
             ],
             [
              0.8888888888888888,
              "#fdca26"
             ],
             [
              1,
              "#f0f921"
             ]
            ],
            "type": "heatmap"
           }
          ],
          "histogram": [
           {
            "marker": {
             "pattern": {
              "fillmode": "overlay",
              "size": 10,
              "solidity": 0.2
             }
            },
            "type": "histogram"
           }
          ],
          "histogram2d": [
           {
            "colorbar": {
             "outlinewidth": 0,
             "ticks": ""
            },
            "colorscale": [
             [
              0,
              "#0d0887"
             ],
             [
              0.1111111111111111,
              "#46039f"
             ],
             [
              0.2222222222222222,
              "#7201a8"
             ],
             [
              0.3333333333333333,
              "#9c179e"
             ],
             [
              0.4444444444444444,
              "#bd3786"
             ],
             [
              0.5555555555555556,
              "#d8576b"
             ],
             [
              0.6666666666666666,
              "#ed7953"
             ],
             [
              0.7777777777777778,
              "#fb9f3a"
             ],
             [
              0.8888888888888888,
              "#fdca26"
             ],
             [
              1,
              "#f0f921"
             ]
            ],
            "type": "histogram2d"
           }
          ],
          "histogram2dcontour": [
           {
            "colorbar": {
             "outlinewidth": 0,
             "ticks": ""
            },
            "colorscale": [
             [
              0,
              "#0d0887"
             ],
             [
              0.1111111111111111,
              "#46039f"
             ],
             [
              0.2222222222222222,
              "#7201a8"
             ],
             [
              0.3333333333333333,
              "#9c179e"
             ],
             [
              0.4444444444444444,
              "#bd3786"
             ],
             [
              0.5555555555555556,
              "#d8576b"
             ],
             [
              0.6666666666666666,
              "#ed7953"
             ],
             [
              0.7777777777777778,
              "#fb9f3a"
             ],
             [
              0.8888888888888888,
              "#fdca26"
             ],
             [
              1,
              "#f0f921"
             ]
            ],
            "type": "histogram2dcontour"
           }
          ],
          "mesh3d": [
           {
            "colorbar": {
             "outlinewidth": 0,
             "ticks": ""
            },
            "type": "mesh3d"
           }
          ],
          "parcoords": [
           {
            "line": {
             "colorbar": {
              "outlinewidth": 0,
              "ticks": ""
             }
            },
            "type": "parcoords"
           }
          ],
          "pie": [
           {
            "automargin": true,
            "type": "pie"
           }
          ],
          "scatter": [
           {
            "fillpattern": {
             "fillmode": "overlay",
             "size": 10,
             "solidity": 0.2
            },
            "type": "scatter"
           }
          ],
          "scatter3d": [
           {
            "line": {
             "colorbar": {
              "outlinewidth": 0,
              "ticks": ""
             }
            },
            "marker": {
             "colorbar": {
              "outlinewidth": 0,
              "ticks": ""
             }
            },
            "type": "scatter3d"
           }
          ],
          "scattercarpet": [
           {
            "marker": {
             "colorbar": {
              "outlinewidth": 0,
              "ticks": ""
             }
            },
            "type": "scattercarpet"
           }
          ],
          "scattergeo": [
           {
            "marker": {
             "colorbar": {
              "outlinewidth": 0,
              "ticks": ""
             }
            },
            "type": "scattergeo"
           }
          ],
          "scattergl": [
           {
            "marker": {
             "colorbar": {
              "outlinewidth": 0,
              "ticks": ""
             }
            },
            "type": "scattergl"
           }
          ],
          "scattermap": [
           {
            "marker": {
             "colorbar": {
              "outlinewidth": 0,
              "ticks": ""
             }
            },
            "type": "scattermap"
           }
          ],
          "scattermapbox": [
           {
            "marker": {
             "colorbar": {
              "outlinewidth": 0,
              "ticks": ""
             }
            },
            "type": "scattermapbox"
           }
          ],
          "scatterpolar": [
           {
            "marker": {
             "colorbar": {
              "outlinewidth": 0,
              "ticks": ""
             }
            },
            "type": "scatterpolar"
           }
          ],
          "scatterpolargl": [
           {
            "marker": {
             "colorbar": {
              "outlinewidth": 0,
              "ticks": ""
             }
            },
            "type": "scatterpolargl"
           }
          ],
          "scatterternary": [
           {
            "marker": {
             "colorbar": {
              "outlinewidth": 0,
              "ticks": ""
             }
            },
            "type": "scatterternary"
           }
          ],
          "surface": [
           {
            "colorbar": {
             "outlinewidth": 0,
             "ticks": ""
            },
            "colorscale": [
             [
              0,
              "#0d0887"
             ],
             [
              0.1111111111111111,
              "#46039f"
             ],
             [
              0.2222222222222222,
              "#7201a8"
             ],
             [
              0.3333333333333333,
              "#9c179e"
             ],
             [
              0.4444444444444444,
              "#bd3786"
             ],
             [
              0.5555555555555556,
              "#d8576b"
             ],
             [
              0.6666666666666666,
              "#ed7953"
             ],
             [
              0.7777777777777778,
              "#fb9f3a"
             ],
             [
              0.8888888888888888,
              "#fdca26"
             ],
             [
              1,
              "#f0f921"
             ]
            ],
            "type": "surface"
           }
          ],
          "table": [
           {
            "cells": {
             "fill": {
              "color": "#EBF0F8"
             },
             "line": {
              "color": "white"
             }
            },
            "header": {
             "fill": {
              "color": "#C8D4E3"
             },
             "line": {
              "color": "white"
             }
            },
            "type": "table"
           }
          ]
         },
         "layout": {
          "annotationdefaults": {
           "arrowcolor": "#2a3f5f",
           "arrowhead": 0,
           "arrowwidth": 1
          },
          "autotypenumbers": "strict",
          "coloraxis": {
           "colorbar": {
            "outlinewidth": 0,
            "ticks": ""
           }
          },
          "colorscale": {
           "diverging": [
            [
             0,
             "#8e0152"
            ],
            [
             0.1,
             "#c51b7d"
            ],
            [
             0.2,
             "#de77ae"
            ],
            [
             0.3,
             "#f1b6da"
            ],
            [
             0.4,
             "#fde0ef"
            ],
            [
             0.5,
             "#f7f7f7"
            ],
            [
             0.6,
             "#e6f5d0"
            ],
            [
             0.7,
             "#b8e186"
            ],
            [
             0.8,
             "#7fbc41"
            ],
            [
             0.9,
             "#4d9221"
            ],
            [
             1,
             "#276419"
            ]
           ],
           "sequential": [
            [
             0,
             "#0d0887"
            ],
            [
             0.1111111111111111,
             "#46039f"
            ],
            [
             0.2222222222222222,
             "#7201a8"
            ],
            [
             0.3333333333333333,
             "#9c179e"
            ],
            [
             0.4444444444444444,
             "#bd3786"
            ],
            [
             0.5555555555555556,
             "#d8576b"
            ],
            [
             0.6666666666666666,
             "#ed7953"
            ],
            [
             0.7777777777777778,
             "#fb9f3a"
            ],
            [
             0.8888888888888888,
             "#fdca26"
            ],
            [
             1,
             "#f0f921"
            ]
           ],
           "sequentialminus": [
            [
             0,
             "#0d0887"
            ],
            [
             0.1111111111111111,
             "#46039f"
            ],
            [
             0.2222222222222222,
             "#7201a8"
            ],
            [
             0.3333333333333333,
             "#9c179e"
            ],
            [
             0.4444444444444444,
             "#bd3786"
            ],
            [
             0.5555555555555556,
             "#d8576b"
            ],
            [
             0.6666666666666666,
             "#ed7953"
            ],
            [
             0.7777777777777778,
             "#fb9f3a"
            ],
            [
             0.8888888888888888,
             "#fdca26"
            ],
            [
             1,
             "#f0f921"
            ]
           ]
          },
          "colorway": [
           "#636efa",
           "#EF553B",
           "#00cc96",
           "#ab63fa",
           "#FFA15A",
           "#19d3f3",
           "#FF6692",
           "#B6E880",
           "#FF97FF",
           "#FECB52"
          ],
          "font": {
           "color": "#2a3f5f"
          },
          "geo": {
           "bgcolor": "white",
           "lakecolor": "white",
           "landcolor": "#E5ECF6",
           "showlakes": true,
           "showland": true,
           "subunitcolor": "white"
          },
          "hoverlabel": {
           "align": "left"
          },
          "hovermode": "closest",
          "mapbox": {
           "style": "light"
          },
          "paper_bgcolor": "white",
          "plot_bgcolor": "#E5ECF6",
          "polar": {
           "angularaxis": {
            "gridcolor": "white",
            "linecolor": "white",
            "ticks": ""
           },
           "bgcolor": "#E5ECF6",
           "radialaxis": {
            "gridcolor": "white",
            "linecolor": "white",
            "ticks": ""
           }
          },
          "scene": {
           "xaxis": {
            "backgroundcolor": "#E5ECF6",
            "gridcolor": "white",
            "gridwidth": 2,
            "linecolor": "white",
            "showbackground": true,
            "ticks": "",
            "zerolinecolor": "white"
           },
           "yaxis": {
            "backgroundcolor": "#E5ECF6",
            "gridcolor": "white",
            "gridwidth": 2,
            "linecolor": "white",
            "showbackground": true,
            "ticks": "",
            "zerolinecolor": "white"
           },
           "zaxis": {
            "backgroundcolor": "#E5ECF6",
            "gridcolor": "white",
            "gridwidth": 2,
            "linecolor": "white",
            "showbackground": true,
            "ticks": "",
            "zerolinecolor": "white"
           }
          },
          "shapedefaults": {
           "line": {
            "color": "#2a3f5f"
           }
          },
          "ternary": {
           "aaxis": {
            "gridcolor": "white",
            "linecolor": "white",
            "ticks": ""
           },
           "baxis": {
            "gridcolor": "white",
            "linecolor": "white",
            "ticks": ""
           },
           "bgcolor": "#E5ECF6",
           "caxis": {
            "gridcolor": "white",
            "linecolor": "white",
            "ticks": ""
           }
          },
          "title": {
           "x": 0.05
          },
          "xaxis": {
           "automargin": true,
           "gridcolor": "white",
           "linecolor": "white",
           "ticks": "",
           "title": {
            "standoff": 15
           },
           "zerolinecolor": "white",
           "zerolinewidth": 2
          },
          "yaxis": {
           "automargin": true,
           "gridcolor": "white",
           "linecolor": "white",
           "ticks": "",
           "title": {
            "standoff": 15
           },
           "zerolinecolor": "white",
           "zerolinewidth": 2
          }
         }
        },
        "title": {
         "text": "3D Line Plots from Dictionary"
        }
       }
      }
     },
     "metadata": {},
     "output_type": "display_data"
    }
   ],
   "source": [
    "import plotly.graph_objects as go\n",
    "import numpy as np\n",
    "\n",
    "fig = go.Figure()\n",
    "\n",
    "colors = ['rgb(31, 119, 180)', 'rgb(255, 127, 14)', 'rgb(44, 160, 44)', 'rgb(214, 39, 40)', \n",
    "          'rgb(148, 103, 189)', 'rgb(140, 86, 75)', 'rgb(227, 119, 194)', 'rgb(127, 127, 127)', \n",
    "          'rgb(188, 189, 34)', 'rgb(23, 190, 207)']\n",
    "\n",
    "for i, (key, matrix) in enumerate(data_pca_dict.items()):\n",
    "    color = colors[i % len(colors)]\n",
    "    \n",
    "    x = matrix[:, 0]\n",
    "    y = matrix[:, 1]\n",
    "    z = matrix[:, 2]\n",
    "    \n",
    "    fig.add_trace(go.Scatter3d(\n",
    "        x=x,\n",
    "        y=y,\n",
    "        z=z,\n",
    "        mode='lines',\n",
    "        line=dict(color=color, width=4),\n",
    "        name=key\n",
    "    ))\n",
    "\n",
    "fig.update_layout(\n",
    "    title='3D Line Plots from Dictionary',\n",
    "    scene=dict(\n",
    "        xaxis_title='X Axis',\n",
    "        yaxis_title='Y Axis',\n",
    "        zaxis_title='Z Axis',\n",
    "        xaxis=dict(showgrid=False, gridcolor='white', backgroundcolor='white'),\n",
    "        yaxis=dict(showgrid=False, gridcolor='white', backgroundcolor='white'),\n",
    "        zaxis=dict(showgrid=False, gridcolor='white', backgroundcolor='white'),\n",
    "        bgcolor='white' \n",
    "    )\n",
    ")\n",
    "\n",
    "\n",
    "fig.show()"
   ]
  },
  {
   "cell_type": "markdown",
   "metadata": {},
   "source": [
    "- Phase II"
   ]
  },
  {
   "cell_type": "code",
   "execution_count": 489,
   "metadata": {},
   "outputs": [],
   "source": [
    "def latent_variables_pc(filepath):\n",
    "    pca = PCA(n_components=10)\n",
    "    data = pd.read_csv(filepath,index_col=0)\n",
    "    data = data.iloc[:, 41:]\n",
    "    data = data.T\n",
    "    scaler = StandardScaler()\n",
    "    data_normalized = scaler.fit_transform(data)\n",
    "    #data_normalized = data_normalized.T\n",
    "    data_pca = pca.fit_transform(data_normalized)\n",
    "    return data_pca, pca.explained_variance_ratio_"
   ]
  },
  {
   "cell_type": "code",
   "execution_count": 490,
   "metadata": {},
   "outputs": [],
   "source": [
    "data_pca_dict = {}\n",
    "pc_ratio_dict = {}\n",
    "spike_rate_dir = ['Image_1_sum_spike_rate.csv', 'Image_2_sum_spike_rate.csv', 'Image_3_sum_spike_rate.csv', 'Image_4_sum_spike_rate.csv', 'Image_5_sum_spike_rate.csv', 'Image_6_sum_spike_rate.csv',\n",
    "                  'Image_7_sum_spike_rate.csv', 'Image_8_sum_spike_rate.csv', 'Image_9_sum_spike_rate.csv', 'Image_10_sum_spike_rate.csv', 'Image_11_sum_spike_rate.csv', 'Image_12_sum_spike_rate.csv',\n",
    "                  'Image_13_sum_spike_rate.csv', 'Image_14_sum_spike_rate.csv', 'Image_15_sum_spike_rate.csv', 'Image_16_sum_spike_rate.csv', 'Image_17_sum_spike_rate.csv', 'Image_18_sum_spike_rate.csv']\n",
    "\n",
    "for file in spike_rate_dir:\n",
    "    data_pca_dict[file], pc_ratio_dict[file] = latent_variables_pc(f'/media/ubuntu/sda/data/mouse6/output_grating/03_single_neuron/Static/sum_spike_rate/{file}')"
   ]
  },
  {
   "cell_type": "code",
   "execution_count": 491,
   "metadata": {},
   "outputs": [],
   "source": [
    "data_pc1 = pd.DataFrame()\n",
    "data_pc2 = pd.DataFrame()\n",
    "data_pc3 = pd.DataFrame()\n",
    "\n",
    "for file in spike_rate_dir:\n",
    "    data_pc1 = pd.concat((data_pc1, pd.DataFrame(data_pca_dict[file][:, 0])), axis=1)\n",
    "    data_pc2 = pd.concat((data_pc2, pd.DataFrame(data_pca_dict[file][:, 1])), axis=1)\n",
    "    data_pc3 = pd.concat((data_pc3, pd.DataFrame(data_pca_dict[file][:, 2])), axis=1)"
   ]
  },
  {
   "cell_type": "code",
   "execution_count": 492,
   "metadata": {},
   "outputs": [],
   "source": [
    "data_pc1.to_csv(\"processed_data/data_pc1_phase2.csv\")\n",
    "data_pc2.to_csv(\"processed_data/data_pc2_phase2.csv\")\n",
    "data_pc3.to_csv(\"processed_data/data_pc3_phase2.csv\")"
   ]
  },
  {
   "cell_type": "code",
   "execution_count": 474,
   "metadata": {},
   "outputs": [],
   "source": [
    "import torch.nn.functional as F\n",
    "\n",
    "with PdfPages(\"neuron_model/similarity_heatmap_phase2.pdf\") as pdf:\n",
    "\n",
    "    data_pc1.columns = [1,2,3,4,5,6,7,8,9,10,11,12,13,14,15,16,17,18]\n",
    "    #data_pc1 = data_pc1[[1, 5,6,7,10,11,12,14,17,18, 2,3,4,8,9,13,15,16]]\n",
    "    data = torch.tensor(data_pc1.T.to_numpy())\n",
    "    data.unsqueeze_(1) \n",
    "    similarity_matrix = F.cosine_similarity(data, data.transpose(0, 1), dim=2)\n",
    "    sns.heatmap(similarity_matrix.numpy(), cmap=\"coolwarm\", vmin=0, vmax=1)\n",
    "    pdf.savefig()\n",
    "    plt.close()\n",
    "\n",
    "    plt.figure(figsize=(5,5))\n",
    "    sns.heatmap(similarity_matrix.numpy(), cmap=\"coolwarm\", vmin=0, vmax=1, cbar=False, xticklabels=False, yticklabels=False)\n",
    "    pdf.savefig()\n",
    "    plt.close()\n",
    "\n",
    "    data_pc2.columns = [1,2,3,4,5,6,7,8,9,10,11,12,13,14,15,16,17,18]\n",
    "    data_pc2 = data_pc2[[1,2,3,4,5,6, 9,10,12, 13, 14, 15, 16, 17, 7,8,11,18]]\n",
    "    data = torch.tensor(data_pc2.T.to_numpy())\n",
    "    data.unsqueeze_(1) \n",
    "    similarity_matrix_2 = F.cosine_similarity(data, data.transpose(0, 1), dim=2)\n",
    "    sns.heatmap(similarity_matrix_2.numpy(), cmap=\"coolwarm\", vmin=0, vmax=1)\n",
    "    pdf.savefig()\n",
    "    plt.close()\n",
    "\n",
    "    plt.figure(figsize=(5,5))\n",
    "    sns.heatmap(similarity_matrix_2.numpy(), cmap=\"coolwarm\", vmin=0, vmax=1, cbar=False, xticklabels=False, yticklabels=False)\n",
    "    pdf.savefig()\n",
    "    plt.close()\n",
    "\n",
    "    data_pc3.columns = [1,2,3,4,5,6,7,8,9,10,11,12,13,14,15,16,17,18]\n",
    "    data = torch.tensor(data_pc3.T.to_numpy())\n",
    "    data.unsqueeze_(1) \n",
    "    similarity_matrix_3 = F.cosine_similarity(data, data.transpose(0, 1), dim=2)\n",
    "    sns.heatmap(similarity_matrix_3.numpy(), cmap=\"coolwarm\", vmin=0, vmax=1)\n",
    "    pdf.savefig()\n",
    "    plt.close()\n",
    "\n",
    "    plt.figure(figsize=(5,5))\n",
    "    sns.heatmap(similarity_matrix_3.numpy(), cmap=\"coolwarm\", vmin=0, vmax=1, cbar=False, xticklabels=False, yticklabels=False)\n",
    "    pdf.savefig()\n",
    "    plt.close()"
   ]
  },
  {
   "cell_type": "code",
   "execution_count": 475,
   "metadata": {},
   "outputs": [],
   "source": [
    "with PdfPages(\"neuron_model/waveform_phase2.pdf\") as pdf:\n",
    "    plt.figure(figsize=(4, 3))\n",
    "    for file in spike_rate_dir:\n",
    "        sns.lineplot(data_pca_dict[file][:, 0])\n",
    "    pdf.savefig()\n",
    "    plt.close()\n",
    "\n",
    "    plt.figure(figsize=(4, 3))\n",
    "    for file in spike_rate_dir:\n",
    "        sns.lineplot(data_pca_dict[file][:, 1])\n",
    "    pdf.savefig()\n",
    "    plt.close()\n",
    "\n",
    "\n",
    "    plt.figure(figsize=(4, 3))\n",
    "    for file in spike_rate_dir:\n",
    "        sns.lineplot(data_pca_dict[file][:, 2])\n",
    "    pdf.savefig()\n",
    "    plt.close()"
   ]
  },
  {
   "cell_type": "code",
   "execution_count": 493,
   "metadata": {},
   "outputs": [],
   "source": [
    "pc_ratio = pd.DataFrame()\n",
    "\n",
    "for key ,item in pc_ratio_dict.items():\n",
    "    pc_ratio = pd.concat((pc_ratio, pd.DataFrame(item)), axis=1)\n",
    "\n",
    "pc_ratio = pc_ratio.mean(axis=1)\n",
    "cumulative_sums = []\n",
    "current_sum = 0\n",
    "for value in pc_ratio:\n",
    "    current_sum += value\n",
    "    cumulative_sums.append(current_sum)"
   ]
  },
  {
   "cell_type": "code",
   "execution_count": 494,
   "metadata": {},
   "outputs": [],
   "source": [
    "pd.DataFrame(cumulative_sums).to_csv(\"processed_data/pc_ratio_phase2.csv\")"
   ]
  },
  {
   "cell_type": "code",
   "execution_count": 479,
   "metadata": {},
   "outputs": [],
   "source": [
    "with PdfPages('neuron_model/pc_ration_phase2.pdf') as pdf:\n",
    "    plt.figure(figsize=(3,2))\n",
    "    sns.lineplot(x = range(10),\n",
    "                 y = cumulative_sums,\n",
    "                 color = 'black')\n",
    "    \n",
    "    plt.ylim(0, 1)\n",
    "    pdf.savefig()\n",
    "    plt.close()"
   ]
  },
  {
   "cell_type": "code",
   "execution_count": 462,
   "metadata": {},
   "outputs": [
    {
     "data": {
      "application/vnd.plotly.v1+json": {
       "config": {
        "plotlyServerURL": "https://plot.ly"
       },
       "data": [
        {
         "line": {
          "color": "rgb(31, 119, 180)",
          "width": 4
         },
         "mode": "lines",
         "name": "Image_1_sum_spike_rate.csv",
         "type": "scatter3d",
         "x": {
          "bdata": "0OinN2JiEsD5RJE+GwQSwJ4AO/F/bxHASbRlfqNuDcDaTkd9diYNwHob6ThWEQrAZESe5dQuBsBaVkrZZvMDwO6GXArHq/6/ei8bY6A9/b/qPcU9fn77v9bmDVAJHva/Repsm+E28b8ZnT659oTkvycekDfcpqg/QnFPcHKn8j8ympSLuQHzP2miKyk9qQJAg/jgZF2HCEDjtxn8PTYKQDC/uBTQ0Q5A/S1Z6xbZEEC+aemiBCwTQAv5XJwI+xRAzBXAtvv1EkDQTmkpiswSQIB/ipwa1xZAjAw8laj5FUDBujKf2ekUQMDaiO0UoBVAHlW8F/vjEkDEzcrxPQoRQExi/Qd/DhBAN7H2GabVC0BHgMtQRq4IQC5N0EJJ/QBAli04Xtu16z/YfMzeygrRP+jSBHFsyuK/rMKJOved+b/JDYiDnkX4v3QlZgSzav2/BA3DUzzbBcA9SNFMm40KwJrqB08Z6AXAQDVetvZrAMCv4XHwJwcCwETVdGCpKwPAOcYrI53lAMAfUIKKvr34v8JzetTBrvu/2ZJlu60CAsAiSgmpJy7/v0YIqFe/lfu/cvj98QrM/782aRQm2JYFwKBarSPR8QPAbmhULLJOA8BHeEiYFhkCwOac2oivrgLArC8iswBs/7+IgbTzlcXzv4HC9lYM1/G/spQvyxR47L/G2UVUIKfov/8gSs6ketK/fJ2v4JeV0L9AJAaIIr3Uv0jrjMnYL+6/pJ5tM5Kc879yOvuWfjH+v3ngaV07QgPAmN/AL/CKA8BipLN9mGgEwLma2TFxdAPAHPSJ37EIBsDYrHtN6vgIwLYemtxKbwvAaWEvDPwHCMCXiripyEsFwI/ddiuAIALAqP9dMHDZ+r+8umJsBc33v//f7soPSfK/JRvkaeBU87++n8WGJm7wv+MU3BVh4OC/rAZo6MNkx7+BFYqLi+bAP1DzPhkeyeo/ZK0GMYYW6D93ENCqLofpP0/JmxNwPvM/W5vQEVhB8z9OAoZBszT5PwRG1h96M/8//5RNcOT9AUAgb222+LQJQEO9iQMbkQtA1ZGbqm3nDUA6ToL1ohURQHu0FD5QCRRApYey6LXLEkAKjycC5rcTQNYckKPCCBRA4yWBhwKbFkCnmf0/C/gXQJswQITmORdAekUqKhNBFUDuPR/F2P4QQAP9kc26WA1ApEuSrcqnCEAIIr9mUuAIQFTXQvuN5ANAEfq+80Z59z8unTKrR0zuPxBmTHnTs8K/cA4vhNXY7b8vUCSUVArfvw9Lg22pseK/9eDYLfcM5b9N00zG4wbxv/yf/NRiGvq/8WRiXLNS/b+aagwyG635v17gtHcj3wHAoWkm0hRK+r+V17DeMprzvx9rUEaAsfy/M1OXVwwt9b92PdY8vRL0v8vMnYUZKNm/DuxxcDSktb8BdVR38hDPP1w/fNFYVdE/xggNQjSjjr9I2MI0ocTev2MOG4keeui//+uxpxoE478Y18ynvMX1v2HpHYxf7fq/LMonesjBA8AvE95lhpYDwEWRu3AyBgbAprDRTLW0A8B74dSbH977v5Hc4GJlTvi/08aN2eJo+L+u7jMret73v1rLG6wLtOe/",
          "dtype": "f8"
         },
         "y": {
          "bdata": "B2D/HwG4/79orO3ZxcH3v26ChkGN8Pq/46SRM181AMB+cEoTRE0DwBdpXR8gVgPAOIJs/BxrB8CDH0yVb8oKwD3kuW0PngvAd5YWMhyDDsBJuLiGtbYLwPT64xKaVg7AGVGtA3PDDsCS/kdCVxsOwMCiYXV5VAzAlKyFjBdxC8Di3RdSs+4MwDISUsGBowzApVruQlLlCcDnv3r0s4QEwMZImvf2tgXA9oe0nQWsA8B09yWslMgDwBL4ApiLbAPAR/wXmng/B8AXO6UDNbMGwArxiPDogAHA7lDC3Fci+7+2sVsNjLv3v98vxXEXQPm/AtCB/qzI9r9+LMQLQiz4vwlRGbD0U/e/8EJdD3Bv8b97LohItV/Xv0Yw85dzcLm/a/Bvpd1trb/lwKso0WtfP+FJl4vrXcy/S6JzICPfzb90e28s+kzEvw2OylPwlny/zc0EHUj5xD/ldwyVomPCvyORXeaRxMK/bPlrFP3PwD8j6i6GGr6aP5/IOqcpO6G/yvG75av64D+r47lAeULWP8RTbgRV19E/rMpI+PAeuD+POC+sMqerPyavvT99vs0/kbY4JYQ32z8hWyymkcHPP4/nZgDyaN8/jj43M/V8sz87wvlRrBDWv59kQXYTps6/ey5tCJwEzL9Bk0zif+XXvzBJqsOeY7Q/3K8BKogpkb/xHUyRP1fbv1U02WdmDuu//r36lpI77L/j+SL1k/Xhv70z/CXUeOW/8NoncIFN4L9pMu+m/UThv4bnVUUWS+a/SyZw4tGm9L/UyWMgQTn1v6LwK+lzofG/9JVDZIdR5L+BuNSqXfnAv0kzx1cqN+G/RGPBWRcywb8DjXfldAnOP27gmSJNeuc/OobAGt1I9T/GqwsZCu30P7MqdlIpGv0/oM1UOtfR/z9CswXR6Tj9Pzx11E8/Efs/8yqDmK4PBUD9vfIi9l3/Py5K6M7X1Pg/ro1f0gu+7D+zmOm6tK3bP9M5pLghhtk/26PjhHma0z/I2i4qGg7hPwcN2YttrMk/oTztcxcs0b+Q8f4MDqbov4p3JCW2N+G/0odVHHPdxr9daO3kMT/ZPziyApV6juM/aukTGfg97D+2Z2p2JPDvPy41AQ6R9tw/+utJwtqq8T+5ut8+PuL8P37BclAXBQVAo5tnRBYCCEDf1BEfZA0HQHwv6w91+wZAl6NRJJFKB0C4E3HpCjkNQE/u71Iu+AtASoA1TRg5EEAxyPppGowRQC/++j6D0w5AzhIDp2zqCEANy5+nQGcNQEITW0VgYA1ACAtL0/E9DUBaGYNuKqYOQCedmVr5ogdA8X3UaOkWB0ARrTlUDyEBQF+8yj2X1Ps/G0zZBD579z+30pJtZb30P41HKlsYA9g/9EkIDdnz4D8lid6taLHKP72wCCA+b6K/i7iFi9upqr+uoHM1uXOiv2mUugUxJcE/XO63tYvbxr8OyrsXRxzHPwNfcXe3G8U/UDlTs1Bi6j/JKWeULgraPx3gYFxHGds/Y7E1OuFI2T9CYHWvg8bqPxzBf94n6u0/tpRWa6lB5z/SFCgOYhvrP4axadRXLvA/DXy7TTQw8T9aUr/9ihLgP9G6jQ7ereM/",
          "dtype": "f8"
         },
         "z": {
          "bdata": "JrRemOVWCMBJUCfX1P0KwMx3p0aHpwjA7/E7kyumB8DVs8PLZzgEwHmaDczVVQfAdT2WRR7nCMDGUXeaGNUJwDVRsW0OyQ3ABENhETt7BcDNU/8VfNoCwJ9eLpDebP2/PHeaOTkS8L/3hkOq5FHwvwRJ1bwiHey/8RWHW2hOpT8rSY1Y4wLgPz8Brh3sg+4/Ktu5lzrx8j8eSX8lzQXtPyIPgZ2XZvI/nnz3IqLr8z+196J/kXbyP1SzXlSNDPs/naICZ69w+D+GGYvoYjbwP6sW2YyQHfU/ph/dXJUz/j+oIajK8UQAQG5VaQGxQP8/kt6hg5Yv5T8KVGHqD3nnP9rV/zuaoO4/wr6XpVBY1j+glbVn9kHpPwNHn1dogPE/KecwwZda+j9RZXa1ecfnPx6h2+IuA/Q/wOOHvVr19T8Pi0dot40HQFhMhrlc0AVAb4SPvB3yAEBm5rBvpSUHQKysMOg/MQZA2CTt9nXfAkBNPMoUzyr5P1/2REqDEgNAjE8yC1wsAEDMwUK/kwz6P32k6i9ETuc/aWDQc8IG6z9iQGlmL/H0P48JzYlQM9Y/vFTfyKgokz/Ew5mDrVbUP1JsPSzptdw/enPumncTwz8LRrG7EcChPw2kQmZs/72/GWG3BVW+oT/cLFajbQrHv//2dwmqTtO/losOt8TotD9VYoQUFgTiP12sXfyK+sI/kmi8bpFGzj81NW9lZc7iP+v7qw/xJbA/q70f996BtL+NO7dQEEnhv0QSiWI9ntI/QRV7DD9Clz9z0N2DiOXUPx+dlOeMCcO/jNEEsXxC3T8hHDsyXYzAPwVFXBhXKOK/yxGotjcL3z9RXrwj33vxPyuV5EfU0O4/2lMnVFkv5T+B/8GeZ/LgP/fwGJrF8NM/UVBe3KWA6T+Ap42S3Fh6v/nmrbbOxM2/bd/elO7y2b+QaGFIKfnrv8qCATrqGu6/uTDa1jaY8L8tdWztXeP7v4lcIumusPy/7S5QTgpZAsDtkKTcF1gEwIKESUvB9/u/Z+EgimFM/78bovJNwoH6v+0IViV/P/q/GFi66qwS+78oPw9rIzD0v7oVcMRMWvm/dUip8NSC979C12u60mr3v4WodmNQkfK/yVO1t6dW9L/+lPyyJqPXv/LWmneW1Oa/iBQgvGg27r9XGW/Xtj/1v20GzQgUDfm//tvehPys6780K415VWjxvwONcWM/6OO/Wgxy0nDH8b/Pnd7egpTyvwZoYa9imve/I38BmaB+9r+4CDB8vyv7v7G7pdvf+eu/jJiik5nV678cWH8jz8LcvznBcox60sS/GRSBBQZL2r9I8D5oQafYv2VAjHmm9dy/d8QbcHPw0L9f+hCCgo7av4KbERGAhss/zNZDVWJd4r8CHoLFTpCxv4D1hCnNtr8/jUXC36y3yj8yyZ6GF7bSPzHOaSC4XOo/D2EUX5Ti8z9v/I5y1/fwP0V4IRF9fgBAOmOc6eRL+z92fVDYlhgBQBruWy4Lp/8/1la+ftry+T+y7lh7R0f/P5pTMmPwX/8/rEfiOeBb8z+cK4FE33T1P1iK2WOJv+4/iaViAwCA8D8OwmxOasD1P9srYfkhHew/",
          "dtype": "f8"
         }
        },
        {
         "line": {
          "color": "rgb(255, 127, 14)",
          "width": 4
         },
         "mode": "lines",
         "name": "Image_2_sum_spike_rate.csv",
         "type": "scatter3d",
         "x": {
          "bdata": "BWfTMyiwE8DvGErAaYMSwFGBNMwHwRPA0EGoUkgZFMC8O0AaKD8VwHxwb7tXmRTA+zs90lSqFsBSesplPHEVwIy8ggTnhhXAMpbtt95kF8Cto/T7yekUwCtdVUblHBTAvWMzCAVlEcCtl7+37PoHwFLB5VxAFfq/oP6sX9Vo778yayU+SUHYPzcr7tVFWe0/zThANNIKAUBpGHiWGSMMQEAXpJ+oRhFAwN8EcZEmFUAOQg+6MLUXQBQxwKD8BBlAIYCbULrkF0CTTI78cHYZQLK1bJ4PBhpA6Xh9TjAWGkBmAn7l41IYQKzcD1Dq7BVATKM9xT+5E0CScoJrwCERQAvYD/+zrQlA6HNWraewBUDkp8zl+GgBQCbrxKhpL/Q/Sl5a8kAv4z8Qq2KZkn+ivzrkZ4MKQ9S/slOBbxrS7b+lPbg3jUnpv1qhzgct0ve/GuJVXdeo9r8zcCqSaVD+v3zExitQFADA1M6JpfLm+r97Z3Pil5f6v6l3Ei1ni/i/GcomzhH6/L8l2aGegsj4v6lGm0ie6gPACZPfde0pAsBSzDlM5kAAwBo4mCFKPADAdx9M8Tpa+r/vG0cfN3j1vykN3ZiSd/C/BmGth4K+5r+Ejc8ibr+iv//MihbRKaA/0nezN9iS6T9QpqRYHKz0PxIGI1/NpvY/hMq/TWJz+D/J9o5jaPv5P2tX0xna2/s/1pXdQTeJ+z9XcLf35bv6P/c5Kddmd/M/Hh6t3oUD+j81B0qD1Rb5P8+lBM2/svk/ewziLJAa9z8iW+cW3nz2P0Kb/kG8wfY/6vY6ZPke5z/555MNrsbhPzkxdTUC9eU/z98AwEps7D+iok3zftTxP7Eb3b/GTvY/hVhMGmri8z81xA76cFr5P+OU1nmy2vo/eweWHGmZ/j9H3vDWwyoCQOLDIDo16gFATBTpn0Q6AkDPEZ07MsgFQNOV2LC44wNAM+aRosmf/T/1rnWZpav7P1Dg2I7ggvs/nlDhB9ws+j+IMa50lQr6P7l7iozlIv8/7SMKQ5d5BEClCikcScUBQG6he41pf/8/i5XSv/JD/T8IJRhqilz6P9V4RVgv1ABANn7KBF069z8G0cuhQUP5P3Me/wcSlfY/V3oZgrby+D8eXhs8Hc/pP618O8jHXPg/VRf2AupT/z/tw8/jFAUCQHz70TtjbAZAtRXoNvHBA0DlvHnCtiMKQBOENyIVKAVAbIV1RtfXAEDVZ/yWkQ34P/3fDwZuLvs/ja6VSfYg4j+yoPXFRrDlv9GlNop5GO6/uMRCyirX+L8U49tC1Xv/v53sOXO1/gbASUNgj2+GCcDmZVQoY4YIwOIqGgQFngzArvt4gQ9WEcAEX8c6WbgPwGRPZkhAMg7AOS8z/qQQEMAuRyLT91AOwNVGMWPzFwzADg3vKEn7CcBIaU1HXrUHwOJWYAAZagfAXhT4E9kSB8A2aAzXSHMFwHzIfLhQjATAzYCtse1gAsBVDILaZWAEwLY9Yc0uTgTAE5izHlofBcCkubMw3PYEwFEwivsUsQPAzevAbZyt/r8KyzVPKlH3v+RUwaTVR+u/McQecR9f578qzLWvYAnsv6Q38O1H3eG/",
          "dtype": "f8"
         },
         "y": {
          "bdata": "y7EO9trA6z/JGyk3k5jwP+EushpayeE/cJKjjVPc0D/fd9e7eIjkPzFNPVH1uNQ/hWIv0fL2pT9BvZSw5Tq9v5yekf+60eW/cR4u75/C8r8GaQf4d1z+v99Ihm5YGgXAuWu2ywfSC8B1cVhiJMMPwL7UqR3rHBLAwDhVaet4EsAt84PJ+oETwOAzsiArxxTADjznQVd7FMDupQY9HR0VwIOJLxUATBTAhIS73oGGEcCYvuRONigPwOcKeDZlWwrAnb1Vz5bsBMC29RegEO8AwLvk4H8bVv6/X3Cwiyi27r8gg+zQC5Hnv9fskt+U+OC/Fx+6Zpb+vL/vIaabj7Kqv+WKyufmXcG/E9AvMATE1j/XYxLGDLjjP3C1dgUvseA/OwVZ6eX28j8w0rxvtMHyP5g5cbvrYvk/GvARnJqSAkAJ4c+wpNwIQOcR6HT0oAZAy5XmJVOdBkDfv+seY17/P/Wf2QS6H/c/y0eVK+kf9z85qnGRF6D0P4RSmN8Qq+c/62HyANUV2j/qDPzCDoTTv0lgbWDxTe6/Yz/E8ILi9r9TLXhYZ9frvw9ib/XSnN2/8vHuZQ8b2b9LSZJ9PKTqv3JcdNb/rvC/V036LqSZ7r+0Knyc6ILtv7/Wm5GS+/G/uuZv2GVh8L9AcGaHVQrbv+Uv5YRE+9q/0CqTa+TK27+S0UYwJuWuv+k2rmrkIto/fZqUbY4r7j8KujjWHDruPxF24nUSMO8/naBFtkUl9j90wSBgCPT+PxgDiVCzqQBAHhoGnJh98T/pYuiqbQ3zP5i17ay9k9k/cjHa+jvCwT/d9nf2VErfv/+P0WKs/N6/oIJ7FCSrtb9Iv3cCWgDgv7ZdxT71J+O/4i1KFgr+7b8Rx0ACfUCGv4WkP8h9Xd4/Bep/eXyc8D9b6eY67/LzPzB54CYr3/4/1LyFkmbVAkAPy5iO1LEDQCsu3NQ/rQVAEn3pisvCAUCnOSkPfJ0BQM7OOBi0fgJAwVUVTygW/T/0IHhamTf6P9B3EuG6b/4/qQdJpUef/D8ZxYuTCdAAQK6vkVlfeP0/9TE9jEzP/D/N/Sxn1A/1Pz2UYpfjVv8/j8tVHh+p+z/fTV9DFqb6P+abVqEoiQBAGpvNC+iEAUA8+GGXcZ77P8IDzQWk0fA/pbn6RWD/8T8QsXiW91D1PxRw0LWy+Pc/gvzGvwp29T9lHO71BpbyP7AxAefeGuo/XZCf/CQQ1D88L2cxdHO2v8o1A8edKtc/KijF1bxmmb8IAhAfOSC9PzgJ83NNMcc/fnVKcJLy0D8kmC5AlG28v646XBn85bS/0bwj1jHkrb+cWS3lsyy5P18WZ8nYlbG/d6XQJ0KH1r8MqwW+bDG6v1Qnc4MHVOW/5N+ATgwh7b/QRWfvsu7jv5QK31tlUde/1V/ss67V3L9U8/MO28KGPzhZNv4gaqq/4C788px4y78uTwSIRujHvxFJCywG0r4/7aOVw9ry1z+zjkWrdTfWP+tz3uU/O6U/Xd6td5/4xL9b/zRzN5O6v8/QYIia4tm/ktN2wf8u5L8W+WGxatrRv3gK7K2Wcdm/Dnj6ng20779j/LNu0tvzv42LMT5LVPa/",
          "dtype": "f8"
         },
         "z": {
          "bdata": "eN+JYpL0EcBxxgFyDsMPwPoBg9185grAOk8F0IytCMDuP43dnRUJwM0ut1Ta0wbAgqBP5RbzA8Dbw0LszmwFwNfgvrdF2QHAZJ3ttaX8978cYnGqUd/qv3WQur4K/NG/TTUteXkksz/INeYrBTDpP+eJ0ll5I+k/H8emyQsH6j9Q4V9vcRvrPzu7TWi04fU/WviYCc6M7z+sot2+PAzfPyiMUqYh0eU/lOA9x0YS2T9HQV+QdAOfP8XQujWMjOm/6mgORaQF3b/v29zlDabkv23gwgDcf++/6g4b6J04/b99eSsABij5v9cqkKFu6vG/G0tMGFI3+r+WF4wQZiD8v4XmivzZX/q//HBGNGRE97/NB+/kC2f+v60zQ6usUvu/y1koMh9K/L/FukhO63H0v40VUF46kum/KJPSGHsC6b9LIQWVI1LUv+Ni55CQfcC/O2M7p9YXsD/RFYaqnB/EP51QbqdFpNM/qjyI8f9k5z9fCQXYikH0P7neH19wafQ/tpdtcBxj4D8RNCFGcCDKP8x6QnCfl8y/B1HWxH2J4L/tMlTcGqPxv85YclAyyPe/WVVR/FwO9r+I5Fj2ZcP8v9Kz4GiiNv6/HoQx/zqM/b+uXBGLlef7v9VyaNumTfa/DQR+y3RX8b8vp+EZFFviv48AprwjqaQ/6XI5BwjEzj+NL37/i4XmPz0TC2775OU/8oLY2fok6D9TOQiYRtDqP0rkzyZW1vM/PvSs8qt/8D/fkh+2gKL3P35yvAGFgvI/xCBqNsxm8D/RXGvZpWXsP2JR6T6UcdU/+5TGtLhA2j9n04AsW3fQv3AnpezJxuK/8e87OQgz978VSfzuwIj+v+7uGaNRawDAs17Bzj6NAcBoG/AthFcBwLsWIWe1S/6/7Bl34i1++79TecJlGjj3v/HhTES7sfW/5hneW1xF5r/wge9kGKnfv1r+yvcL/VY/mIriEzXMir8ctrqGNoLMP3+aTa8KjL4/fHSrrPPc4D/yarNxXETlP66DiCZnVeI/OiYUDNaz8T+O4wZgO4HpPzRMVAJTF/s/cr0EErV28z9560EJqqfrP14tDD4JCfM/mYe028eo8T9flA9AKp72PzG8RVnS2uQ/Uw3u4MOz0z9gQ21ottTAPzIUrA1iANc/d8F7Is8b1z/eLTnnIIPmP+RIKL/5Wuc//PSwCKyK0D9qt/8kkIbAP1nFUGB4+NC/qjq5nJe76D/bQNyBs4/3PwhLz5U4vPg/lfaKnkX87z/ZWD8Ebe7rPy0xH+chovI/vYW+E2ZM8T8Faj63R4HpP/lSS2x7l+c/Uwh404/c4z/MMo+Cl7HhP0NhNUjXN+E/YlR9WQhc7z+xK9fRdhP1P1Ae+eRVXPA/oR5kMsGe7T8ZK5zPXP/4P5RgITQ89vw/TBdBiLOTA0BBJ6PF/SADQMOewYqb5AVAMM0WVAJRBEDJckpdfVsBQNy90VrP7fo/o8u0wGSN/z8F7Y2I218BQHTA1/EZSvw/aoZIgTPM/j9vL38C0Tj6P8vABcDJuvw/tBpJG9FS8j8DfWnI/MPwP2AO6A25rO4/MhyAooT98D+lIDiJqannP99hvNbe5tY/",
          "dtype": "f8"
         }
        },
        {
         "line": {
          "color": "rgb(44, 160, 44)",
          "width": 4
         },
         "mode": "lines",
         "name": "Image_3_sum_spike_rate.csv",
         "type": "scatter3d",
         "x": {
          "bdata": "Ag04dlCQAMD8rt4U7XoGwE+Lt5zC1wbA5aPsfHnOCMDRnY/YbF0MwFFJzMwUzw/APl0HKL6VEMDpF4PZUmkOwFvKTKbZhgzAYFx1sJDfB8CzzCkjhvUDwJ83dHpSGAHAWIQptXRH+r+jR/gTPYHsv1WyifVs9rO/h1QBgq/F7D/9oGsEgqAAQIlzvcyzMQFAztWhpMvyBUCtjSOYwq4JQDMEm+DZVApAkzg7eZJmD0DR4KCDG1cTQAVcomAusBVAwAtKvdsYGECnVxH0N2EWQEiQk5SOPhZA4/Fu1ZOVGUCfw5FJoaIZQCLSKMaJ8RlANSYg3xjfGUD1vLMzmBwXQPvBTetXuBRAsAHU40DrE0CR2Lxx87cSQBQsqC2vJhFApS6snxLUDkDkItEOkCEIQATJ1XPqtANAqSVW0sFv+D+gnP2VlJHyP8vpkeULaO0/Vghq+wjywz8zia1pJejvv8+s868KLP+/v8u1NxR4AcAemBA5YZYHwE5UoXYbMAzAtjMOsz9fEcAvF7alBMMSwF0BSwbQ6RTAR2/LV1FFFcCJuPZunCkWwI1iutnEFBXAT5I98wzmFcCaR0F+WowVwEhwoIFsJBTARTCuS6c5E8DjVpzHPbMRwN6JyPYOlBHAb90vlFKCDsDRspV9UyUQwOvZFCUEWA/AG5PMrhcRDsCIstoz0G4OwCX9BNGX6wnA1HXkxoy/B8AkUL+29WAHwPde4wJdEAXAOaUYTG7q/7/XtG/zTQf8v5bW23f2gfG/+EsFjquo2L+oD9yH4Y3Avx+E5mc3Oaq/oFeDnAG0bb/M0t9XZKW3v2ZZskpHc5W/hqXA5FxB1j/1IrnvXKTIPw0r5YB+0dK/0OH+kHoKtr8/r85n6DHiv11JCPz/q8y/mz5+Ir022T9jOi0YeonTP1pMmL0kycg/xsRQjr2o0j/U8xYo88bHP3h7+vPF0Mo/l/b6/s4E2T9D3wlTmPfSP6N0I2PD8us/GDd/bTc1yD+bIIrS4U+hPzMldb2atcU/2Hk2MqT+2D8Isj5zGCLnPzQbGiGxjto/YBnZEZc6sD/mJhjelVfTv/+ou8ZuIeG/YGdjcY0e8b93jA60SQ3sv8UploulAu2/o8Rcc0vU7b8LySRqfoDyv3f1eA5cI/G/hTVcbYaK9b98YO4dzO/zvw5GIZXYMfK/IivUWxcK4b9J4n8P+OrHv2I+8sglGrQ/ctIT038W7T+nOMOjCqTqP1EWlGfDqfQ/c4mn498s7D+9Ry4Ufo31P3fSpcphp/k/sDC2/ZTXAUADtEzJCEUAQFLG/sN1bv4/VoJbD9CR/D8VjCM8OIn3P8VJ2mWnufk/m9r3wyqA9D/CnrNSkMj5P64L917tnf4/zHEXx3zmAUDXcVmA0FkDQLaRiKZVIwFAW5zoqNjjAEBiUbq2TfYAQPYUA2NbjABAZV3h2UaL/j+5Smoh7fkAQIR1ypCmpgJAjSZPisMP/j/P1Ycp3Tj7P8yMczgWw/I/We1KpsBg8j+WCu+cqSr2P4EjkxQz9PE/YhXSZ1kC1D8CQ5dzY4ykP6Dey/lLBty/4Qrtqwpr+b+7ykw1hoT5vxgRJcdxYf2/",
          "dtype": "f8"
         },
         "y": {
          "bdata": "dIRiM9BU+b+2slxsvLv2v9DduwO6ufG/LHBeyfQ38r+Q7dnHtjjwvw/ui/Jn5N2/6LHHTA485r+gLwKd6krov89qH7xLmOm/gEPcddyo9r9gwQEqElP7v3MPT65Qe/i/ph/HYJmLAcAMNaf/BOQCwA0/n6r4/QTAVcA4ziwWDMBUNAhF5foLwOT8Z0EFngvALa3GtBqiDcA4rgFTKVUNwPSHYxenmgvAiBIJg21SCcBL4adkfAgEwDFPexn/TQPAnnev9DiuAcDHNkII9RL0v5ac92PiO/u/Y6UdhiY7/7/CwsAuUn//vwv9sDgMyfm/fLTsKMKO9r/ThGT4x8z3v/qb618uuQLABHlDtcdt+7/ZtTwQ5FX/v9KgKpsWiAHAQS87fdB79L+fYBfDQTHyvxQU++cmzOO//sFpfffV57/YhaZgrAfpvyF3Y6Ihtua/a6sS5NMpyL8Oh0hBNYjpv5w0lxb9R8K/8L50qBi94b//8CIECWHyv8jqc1bO3+2/3D0nduxq6r+asGebw+/wv9PQ9FSU7vO/pRUXzgJw978PovmFIAr8v/A2PwB/H/i/kmj/pggmAMBpuLUc1lP/v29NFlaYFf+/szmmr8cCAMBR8Y4h5/H/vwx0BVYg3/i/v+PRw62r8r9THjdtJyPyv91T/DiL3ua/BruFYQzQ1b+hIQX+0rrSv7QsPHrTmoq/IG7cavaQ6D/BpArsTGPmP8jqVDr+zMA/UZuUWbzx4z+l4cF2MV7tP2IpZ7U6hfM/OSZxlGWU9D/EQ3zHmU3vP/hAF7/KpvY/bJS/mTpKAECv+P8h3GQDQCwmwabSoAhAKhbVgelLCUAV/hAMPvMGQNUHcqXZOgFAzIXcBBgT/j+eY1t/n4H/PzmyDdF5tgJASThrtulDA0C468KVDNX3P8c4SdAQOOU/mDr8p6/Ztj8zLwzBPWnSP4kks27ur9A/blVm7/wf3z/aY3+sLTnhP86tb+dr3dc/Lq8FD8h03z8tD2IWJbfMPzW2cG03g+A/SkW3bgNO4j+bw8Dy20LiPxH2FtdpXug/CXFqyD8B7T84m7Hx6IHnP9bQKuq9kOA//+VgQDN+3z84xNMqw8Oyv9eVkPtjjuU/8mZXMWY46D9jvAL49OTiP3DANvTMcvE/bw/vNDTl7z9AbefUYCDwPzk/vFj4tvM/nGIfJH97+j8Jqp5dnH/6P3gn9ciebvc/rQz0YzFN9D9uFl85Ku3mP8cdDfLNePw/sCBXqypa8z+ZRgDEgsXzP+58tavrS/I/hsjjhn8X8D80xCSUPHnnP1KEQCFDf/E/j+UNFJNj/z+l90ozyqP6P4r7F9P/nAJABr4vYSvb9j8485WluDIAQOcMzwtsogFALCvvD+tB/j+0gzN2D6H7P0WXA5TgZwFAHYaiFGad/z/WMY+oGl35P6eOeCeuD/k/XnTWBfX6/j+S3IyZrckBQIFXuQyR1fk/+QHSuIIg9z/TFIPsEKD4P6REBWH5Zfk/CXUEEcbr5D+f2GEWqHXoP3yh6Odkbu0/7GLchX3q6z9RVICTRP3VPw+lI32taOM/M+8TwM6O8z8pGqzX6pXyPwqnNB+CQfA/",
          "dtype": "f8"
         },
         "z": {
          "bdata": "qCYt99q3CkDeqV0LvdoKQAIDpEE5YA5AtbniFFORDEBM+tejwCgJQCUbIUOKHgZAjbI11362BUDEFx7PSI8CQJA984ODMQBAjuUw/EVG9z/v+7FHWhLrP9+c4jB/q7O/NK+MVQjG7r8otPOVzbXvv/15bajAaPO/siLLW0EPAcCnF+W30ugFwLDsXnWDUQfAXdP3SzpmBcCQSYkLTroBwPEQoSYdHwLA+W3n72vW+7/qh/hzBjjvvyTtomTh/e2/qPBc54ip6L/i9+uxCUVpv6V5loLX/+E/evNSScKK9j/t//qIWAH8Pz2MbFm4w/s/FkiaN73+AkBKX7MBUpcCQK1CbPooYgBAZv7UomRP/z/dzRcevjYBQF+xU7SPVAJAw2sfvTE3AkBL/m3IeP3+P+VPdAo4lvo/VIV816CS9D96LzYlaenxP3xXanVQOvc/HmzfRaQw9j8v/6BByH30P0oWxAb8Nv0/vXnIzr/n9D/axABTIBDpP8jKtqKzlOM//vnCOgE3zj9Uhy9qe8PGP1NWIXBqndi/EcZGzDSf8b9ur0f6HzXpv70MeDz4oNW/eK0KFylW+r/BGl7JQA3zv+g0MfIFuuO/VcScWQiL479L6lYLfxPkv6iiX1TOWeq/v/d9/en/4L+rt6QlYcXEvwg1VbUNe9S/JR03aWVb47+za4jxpBLNP5tK1wGkjIe/sldsrmOIxL9OJx1Z9+HGPxjWxVY5Es8/5XqaqDNM7D8nX1zuXTv1P921mlvxq/A/sMlt2fUM6j9H+GYpGLnRP8wmrnmmreA/lxFlULhb8T+3EFJeSfztP293nfvjrNs/xIN2B/Yl5T9dnC1Hzl7cP7sAivAwUNG/dWpqXVf43L/0ryq2VnHpvwVKdn6TpuC/7mCmfLtc6r9gOqlFpsvzv1u48FX5rv2/7jmIl+Z//b+jGzyvSloAwLGYstX0XwjAdcjXC5GrCsCfg4QzD7sIwFPoMjdczwjAKUbBDEu/B8CebDw1YLIFwEM7bC9KtwLAXq1W8c1SAsA+q1YWzDv9v9JWllMr5Pm/FeG3idgg579wuxOyVd7Dv5XFVbXDS8g/WA8U38AItD9jRRsAM6i+PyzrZULz3JG/BgFexyvR3L9ij+LJppO3v+OSlXgqEMk/u5VUeDCFnD8yxWIdEULbP/3aOdNHaNg/bSNnmSHawz8Rx2Ha9gvcP8U7xbA0AdM/d9pBIu/HcD/qSgQL9oXRP6pSK6qWqMM/qlanYsvO37+SHWDD5Ljiv0m6OFu5l/C/HKzNdV+R17+M8miU3nrHv1AFF1rW4sO/XRNLNkBN178IRXnFidLHv6r5WhcsW8c/ltoW8//52D+Vg9EmyZrjP588jePiCPc/spP1LqUN/j9W7HTOJ3zuP9h8Br29wuI/b6y0yKcw1T/CWndhEO/MP7hnfARPXMY/1JB0P+C/478Qp0Wp8crVv1ucJJQuqOK/tjjPbman7r9ci56uJWvyv+gcgpHeseK/6FIYSpYi4L+C/HxpG63Wvw2dahzips+/yjHKnMxP37+7LtduanLUv/t0q50vSuW/tb0h5jEf57/mkUQbUunzvygMa7TtIfm/",
          "dtype": "f8"
         }
        },
        {
         "line": {
          "color": "rgb(214, 39, 40)",
          "width": 4
         },
         "mode": "lines",
         "name": "Image_4_sum_spike_rate.csv",
         "type": "scatter3d",
         "x": {
          "bdata": "VLToDV7RE8Be5IzpvIgVwHI0s6UFmxjA4eYgohVEGcDLgshLaV4awDuMcp51YxzAUo9KVtKkG8Dv2PPpSHobwHgNCEZycBfAnUQysuB5EsAEbTb3V8cRwNXL1c8Htg7A2dR/voExBsDNrSkqgKT8v+BxtkAdqdu/bKaBqcHIxz+RwqMKs33mP3lkvFCU2/o/WHSypFnN+T83s+XSYR7+P3iqg1gmzARAJ6PDOdW2DUDnTiCyo1EQQO3gFxjHTxNAxyxoIDcJFEDjkGBEk6IXQIiE6ElOCxpATKiIK8EHG0Dwp1tnuO4eQOFDGTZweBxAoCKdKWAwGkDSuH7w8/0UQPm+Qual3RFAG/CnhmLJCUDfXnYbzH4GQEvt2S2ugv8//i1Bo5pR9z+/xxPwjzjoPzCOa5j2x+K/alVGAQTn8b+tQZjfzw/3vwZHBUMKP/q/2OvsRVVj9b+htMYkhdfzv35Fnx1Hlfi/AE9p1ziT+7+6dM7CoK0CwE88ffcfSP+/zt8Bsqwp/L8iLLzeE5D5v9ftDf+AIve/i6VQozH+9L8pscoScrj7v5EOGotji/W/I3UsKNNi9b+21GhOpJvxv0IPk68fx+u/ioFma4TM8L+LMi8UsFzSvydkTnssAaa/T706uXjVzT8Z2SsqxcbmPxbM43hrJPQ/PVb8vl80+j+VUpj1hIgCQKWl1cwoZARAxpghMCZECkBrmqrmhAQLQB7Hu1qEnwtAwYxOnVcmDEBkOeZseDENQEm8Ob0C6wlAz3LmGBw/CUC9sfNxY28FQD9+Bwp9SwJAEU9KGTqx/T/yJtzyawv8Pyfjgly5jfU/nDWe+XZF9D/Bt88b3yTwP4AQdXc7SOo/fdGy+e5l8D/QY5+ScjvwP8G35ZFOpPI/oM8Oa2BY1T+SXzuMbTDYPzMCJbmXqta//EBUXCg6k7+oCMiGYDjuv4pQ+bdC1O2/Rb9VQWrF9L93S1VM/LP2v0UZp02cufy/L82R7ib6AMDkMHx6qG7+vxn5/rUydPm/FilLFt+P+r8NDqwLgTH7v+t3o+2A2Pu/Ye3o4RsU+r8oyfIVe+/8v9aOjssFbgDAlkemw+ZB/7/WasrzPRP2v5M1qHocuey/V0sXjsVN97/wp5/c4zXnvw+kyhjorPC/w4urneQG4r+tnfY/eIbsv+tCrPXFGOe/NpwamjtM27+HDRgZq/XhvzsacZRTBuK/RyI0Fghc6L/IqdEm14LZv0oAjYgSfeK/Jqd2UNsK5r/TGjxXlPLpv2I32uZDBN+/o0isq2SPzr8E0pi+/gvTvykMQI4s+M+/KjWABVyC4b99FTdewJWyv5UroJ/w08g/gPdlwOYXxT+w3ZlXu7nnP8KcynS+NPI/MNl4Mtut9z+kfusCMngAQBIHwaf78gJA6WjK94xhBUCbbwA++fMCQBIAW+ITVf4/Gl/Ec5ui+T8b4toFBv34Pwuv3Vjv0vE/7CvfXIju3D+fBVNVjaWIP9PSP06fCc+/geUJoIGj8r8WQD0HupH5v5+fGyOxkPq/xD6vTF4Z/L/xP9e1XRX7v652J+WPSv+/4Lk7y4Fi+b8aoX4Ey0bwv61pZilynfK/",
          "dtype": "f8"
         },
         "y": {
          "bdata": "UeA2WHQLDMBz2cSSznwFwJ3LwlPfsQfA6DUUHT7lB8CgO8UuZ+AFwNKf/HukNgXAdqZ99XW5BMBgEZ15HMABwCtvg8pWOPm/0K9IOh379r9uOVDgPfP8v9KVfkZi6gHA7ynrK8Kr+7/DdQjLr4L8v1h81AJuJwPAvcPB9pzkAMBrmqOL3PkBwAv5Pw2KvATA62BoS0n+A8AAiK5jP/UCwLfhjvJzagDAM71JOfjk/L+JmEstQnn/vwWON06B3Pq/VT8efExI7L/gMiYuSDvyv3AljibmAPS/3V27roE0+7/FhYQjUAT6vwP6nnsRrP2/Y4fAL1DVA8DGyurKpAMFwNNYNG5TtwLAYv+FeZyUBMAsqg2b7iQEwBFWLJFklQTAl01TD7W0BcAiYzKAKyH/v+hgH/6DjP+/TcJa2WoXAcDe31I+l+/4v7F+wLn9kfq/Wg2iAM4Y/L/HoGmP7dPyv93NNV6clfy/JCpk9GyC+r9JtN5bLnDyv5/bvzd2Hey/CzSTIzrl9L+KMyrkDEbuv1Eee+qcU/S/+4kJk7gS+L9IQj1kybsAwBmcQjK/pwHA7+/oOS+59r/Dv2N6FWDuv5OC0U7P9u+/Eyj5ylA7+78NaOKIoNL2v5uVKmvFlv2/F8/offcP/L+y88R3mqf5v5BcluKD+va/Bc/fr/KF/L+f2nqqWef6vwk0IggwBvy/t5BQQNWS+7+yIMuo2S/xv3hSKi4Aouq/ro7fifYrk79hipjpWJfdP1JtUvX1ve0/CtgOPnzg9j/LT9RRdYD8P66XOIss+PQ/W8IoFmEX8z+AZNTuo7HxP4Ev5qNlCvU/juWt7Lei9z8KlmvUQbHwP9IVFHtMTek/fkbM1AkD5T87/DPWpXWpP923HhMuhq4/19vjpTTDyD+018ewyy/lP0Z124vuHeo/X6FbWSnt5D9Fg+SCdovrP2Su379U+/Q/jEawZECx9D/l7Qp6TjH2P2l7fzGf5QFAVdR1Yxx6/z+z9H5fJNEAQNh3Xr/nRfs/XyzG0oG1/j8FxPhYvxwDQIfbAqP5Yf8/+1rVAzEQ+T84cFr3FXT1PwCGwG4v0/k/aatN3Ex6+D88TRA3rjoBQAT2B7fK2P0/4Psx3hg5+j+lm39Zp28AQDkU9BfUTABAq4A+dsUqAkANMw3YmDgCQBPO3rZuvwRAdtU4ODWGA0Dd/yhn/Qn/Px9N2KpIhO8/qp49ykIZ8j8W81KU+fACQDtoB3Dt7gJAxOcjXWgY/z+llV/G8Zn7PxzAqWbJe/0/1zmnhSY6AECZ7DcvEoD7Pwg8PCamCvw/ufZUwQkgBEAh3m9X2uAHQGq8cggirAJAj4jYXxL0/T/ZvasI9Sj9PzxpDc4FIvc/VESIxARJ9D8E7STVZ+r4P8v00+zPhgBAAOStrnduAkCTNlednkEBQGD3/MEXa/Y/I7KwRteS+z+qJJ8qZcH8P7XC4MKMQvk/C1GfR+dWAED384O6XJ0DQN+UJoxYXfs/2927BSLI9D/sKKAciGT2P2knP7uyf/w/SIANPQKwAEBQkISKqcj4P8Tp9giUBfo/89seWB/Y+D9uOvIfJsX7P+/Vmwaco/k/",
          "dtype": "f8"
         },
         "z": {
          "bdata": "3Pu4p4J36D/ebjHEWe3ZP8l9SY7eHPQ/ft2MLLvx3D9rIh4Miu7aPxioXlSPlN8/RJqeNMm11j9yIMAyyEPTv1qspmo+tmK/PNZPxavwwD/6i9quHB9GP9Rvhff9ds+/LCbiuDyv8r/Z/ZUJPKjuv2aQW3jD4fS/2QP/mlPH+L9zLdcrfEf+v576VuYu3/q/VcGjPtGm/r88qy+9qOcCwAoAT1H5qgDA5o/ACnF69r99Nk/BNvrmvwcRrdKqc+q/KyjQO2FC5b/H0DbbTyrTvzB3zmHNKtE/KuqWE/bH7D8s47S7pg/0P+WIf0Vzrfw/gPsMHzzG+j+ybyWIFxEAQDIG6lY/DPs/Rd7yHCj0A0Am1m5J6MAGQNo0aFUv5whAtFklhCvOA0BVVRCbWY/2P/Mct4POSvA/A+t5CXZW4z/3ruTxn47gP3FjWW2+U4K/8mqHn2CfvL+rhtb9qLLlv62luhy1J+q/rB4ZYkYT978U30rea8LzvwdHtpT0JPO/jB3Zcps29L+0zG6Yc9z4v/xTfA34v/O/kh/wHO0D978x2VZxWcTyvw8rP9v3muu/MyhUD/386r+aFVM2bD/jvwW+a/GV+eO/KJZz0H8jRz/zzDyeBW7AP3kxkLuAF+o/I/QINEgL7D+mYgFGoijuP8PtPUFMy+Q/qCxSgWYlxT88mc7AdXTbv097lO0tlea/BSqXXfVY8L9bIZQF57n6v/KFhBHoQf2/txRsz8hU/79/inURJc8CwIyeguGkgALAk+uKaTNuA8C+ntUmTvsAwA3Z9EnbJPW/c0E2+Y/g87/fbKcR91Tsv4ranWWAHuG/npxF2Mqi4r8hqOnVxLnkv6iYKJfRpaG/tH/uwGt20z9fbAMcSAPxPx6oE2AC5/M/oWnH/7vc8j+22Hpl8Qf5P0fOAa7Lnfc/uUSuJZLT+D/omm8EGoXxPyRj50CWQ/Y/zDYmQXR97j8/EWD+GZ3jP16SVRKMatI/Uov19IsI1D/YzBF9TmywPzDYGwOHA8e/7TblpLR6yL/MWLj83THcv5MolTn09rk/SJyIe1uB3L958FGXvFTbv0TvUugxBvK/fSncgAa3878erK4gMqT8vxmnR558ZQLAO6FPZer3BMDevNnL0fYCwMn9Xk6ntgHAnu0XQ7r1AsCM6rNwXNUEwAU8V0avtgLA69gvPpEW9L+CGtVis0PvvxJP8Voo1Oe/KJ+iRrSBvj9SeFJFJNPUP/BPWP5SA8G/JZtXamEdtb+B+dt/Kda4P6pk9E8GYto/xFHJyc1K4D/PLGrY8ZrNv3D3bBYhY9O/CQN6VOtA479MQBFIy3vhv8Vkr5V6ScK/n3fxdYpKxL+aFe1iGFvHP3Q/oGafotE/2gjRJotN3D/MSho3M+XbPzGBH3lRCfE/XwgdI1UF8j/kVrl+mUz0P9dYnMgpa+k/zw8pQmqA6j8L8h6gLLT3P8haRMLkRfE/k2dxcD5F+j/pQUF7eKf9P0hslxWXMP4/V4RimZzAAEACQDaNLlkAQJ33dzymHANAXq+BnvD5BUCrg3Gd29QHQMMigYhXgAdA/aMpiF4YCUCH9VbXr38EQDhbPPprOwRA",
          "dtype": "f8"
         }
        },
        {
         "line": {
          "color": "rgb(148, 103, 189)",
          "width": 4
         },
         "mode": "lines",
         "name": "Image_5_sum_spike_rate.csv",
         "type": "scatter3d",
         "x": {
          "bdata": "k5LAFyHnEcBSHtr/07oPwMXXB04gDAvAPA4sSDzvBcAXDx+U/N8DwO40YuR08Pm/1P9badps5b8WBYXZBO3svx9gLgi3wsA/mLYW2aKJ6D9lFRQ3b2vwP5/NEgb9gv0/I7pXaduF9j9FmSFWZOP2P3b/gAScTwJA+ACzNS8iAUALiNe0yQwAQLDK3wrTFAlA3pPlehC2CEAhRG1CkcIIQIaQiZzzfAxA2s9EEv9oCECpWC/CF9UMQF9qdWP4FQ9ASt4Q8pO5B0AEBzGV0JcJQGh0vOOIkAtADJi1M2w0CED9/zrvohEDQF99SUjzAgFAvU/Wpbfo/j/bxVQMR3r2P3Ml3n4t6+8/DhCne0Nq2j8/ZqC6SjjgPz7aNZH7atG/Fu+grUl95r/sGY++bM4AwM8SlmjJiwDAsnDBZ4fABcAaz1RT3OsLwJUMnCQ05wzAJSl08RetEMDLa//it2wSwCa/jnSucRbAY8bWGeShFsC4QZ6b3jsUwOha36jfpw/A+tFPSyDdEMCq0scdJrYRwCFKjgCGWBDAg8ee4pc1DsCM7tRn03kLwCL7pSt2QgvA7+1t1eo/AsA4RzMd+cj8v8iPj+CtDwbAnsPZSrpdB8BoRgoeHDcDwLuR+4XyCwLANr8d7AwPAsDyd2maRnf+vwIpVS6G6Pi/UqJUb8q1578Q8lLSKKjzv5sj8lzxlO2/3fwGP3pP3L9Ij7duU+KZP1EH2+s7U8k/bJzdW8PB7T8XjwOoLZP4P2XSnT2Asfc/yaKvIW0//T9xt8cEhOL2P47P5Gc4Mv8/Sk8KfNuj+z+qe/KRx6L6P+7zWgBo0/E/U0l6MxQn9T+IEygCmtH6P4kUFTfikPo/1S6hp0F8/j+fgxP2YyH9Px5in9RBjwRAbe637dVsBkCaR3FKJPsIQHFyFfaOpApApk/TUUiTDUAk69BUhNMMQLHGnK4ZWgxA3QeR523sCUDTh82pX+wGQArhLH2jUgBAUqbpaBIq9T9JQA4AO2XWP1mwmfYUnNS/R4V19WBe5r9ezTcJwL/wv1JdXL7mgv2/1mh03btRA8Bi2pIO4SAGwNJ9w73RZwXARTkTNZFE/78/00wptfX7v4DcWEbexP6/7MwL6OW0/r/OR0hJ7JMAwDFp1qe1ify/b2MPYYzZ878JWo2dAcb0v+PRn/PDk+G/a2sS+N5L27+8oN0XHkPev8ifOaEWLKE/CYYa1ped5D/R+Thsw/zzP7wAWH/WRfA/t8WCiR1X9z/3alcbrJf7P29F8HZWRANAWCNgp1SYAkBTx/+X6J3/PyhSMcWJZv0/UvtPebo++D8dDTiZv3b1PxA1JrMQHec/mF8+WFr+9D8Z5D87abvjP+1qqtLBvOE/bAJErDp8wL9z4bU3kx/uv3+EkjAuxOu/9QzCKGpe8b+zmOs2zjvuv1vYwz4c+dm/EHp8Mh3G0b+NvRqa7JDBPxG/38Pc3L8/ApBA7SwM1L/RJHgyqb3Jv1zbnXySUss/+vsNftH1tD97RNiWJ1TYP4HysVvMUM8/lRNe0dI75D8sYX650xP2P7RQk8GFTeQ/ReeafmCh9D/JbD7awm7/PzTe3rH2iP8/",
          "dtype": "f8"
         },
         "y": {
          "bdata": "1SaOZoYXzL+5adY6gWHAvwu4/9agFeC/R1x4PtVKrT+vmmuuOabVv3OrdMxdEvC/NlnK+zzv779zuz9GxaP2v7tD/ghqovi/mzwDBwT7+b+p7iumC7j3v/X97DjtsPq/4RqjgdA49b8hIJC0Y87yv4BQ6Z5rQPO/Jez7+9ID8r+hZA3/1mwBwNu6zwpkYPy/Yi5teVGp8L/1nkhkPCT0v4LdKN03kADA4zpVX8uX+b8forpX8S0BwIzqxZ9PdgXAT+bfpVfaAsDJZTkG+icFwMIFwfwZhfu/Z0WxFgE3AMD6lZ0pSUcGwOCNJkqjFgbAPT+bBBcFBcDZxVj3UwAGwGWyXupDzgLAywZkBagDAcAWhspBiKoAwP9g2oEJgvi/0XkDX5iu+r9xqPxrnOD7v7JH7Tmt/uq/FXQMrL7q479GlJIRfdBtPwr1lGhIiru/Jp1nGqCttr/gA3/8H3Phvx5fdxuCAtq/7coJ8R0u6b/mXk33Jrvuv6zn5A71g+i/Uo+/klLH6r8uUl4Ghpfxv9agL1mxS/S/3V/25cYk/b+aHI7OlSH5v4O426AQO/i/85m7H6j/+L/9V2Mzq2n8v2h0/z1dz/y/u0JHx4bV+r8Zi0CmvIsBwAE/oWkOWv+/bKBm6K/NAcDKGzMRMiP6v2MRv8VSdvu/larKU0rd/7/F5NOuwhgBwPAnqrcl3Pe/bV4ishpk+r+6ttTUzuv6vwnuJVw6f/S/lNmj9cYH9r8D3Ga0XB3wvwKDSJkbR/G/f3dssKxO8b9aE8u4SX+TPx0mBg/+XtI/0TsCXQXewL/HV3999rvLP+z4p/Wlnrw/Imhfvyvz1z+u6vVE3O3iPw+mShPc5+0/vBsoDayv6z8v6UwW1MWYv44AcPBWSKW/zoPjeYqDrr8zLmdRRjXkP7Nfzp+sqPA/pp/pXXMB/T/BynO6jND2P9XNwZQbaQBAOhU2sb5b+z+LfBpZwIX8P8q2wmoExAVA+PUxFkbI/T/0zVqT6wsCQNgFmuiVUQFANU5+yXIM/z9tmIcrClj+Px3ce9LDPAFA175bZCRM+z+t4XcjorX9P8JnFf8XEgFALb/5cWcNAkCkosxW7uMFQHf0+ihhYQNAj9Ok3zdTAUDLKgD1W5kAQFMonuwo+vs/4Hl9wusd9T/x2udRw+LnPyVD11CxmJO/MfGom8sw37+3730WwRvsv8PxQHxQQfG//8uR/d3O9L9T9vtINzD2v03XOIerFPW/zwhB03Qa9b8zD6yoVN3yv5FJ36Jj2uW/b8ISCqYqvj+v7dDvqFfnPxLRhkOELvA/u/P+QaFG8z+PbG+Q+Vj6P7WlMDaxGPg/i8JaYT8M/j8kJgwuoUH+Pz81QdDWf/w/oqF+YBrH/z9pxxUBCIYAQJzSFZxowPs/UiSlEGS2AEBjLG5Wl+kFQHuavr4GUwdAG8oqCGWCC0Dk2u8GCCQIQFjCqmyXVQVAcQ6LPmStBkAXP7Usw2MHQM62I83rEApAbKeGDLgUC0B/1eHzyEoIQCiFtzEBkPs/dpIbrxGE/D+EdQ4ZDtv+P7sXB60/mgJAl0JxiN5dBUAid0AIrjMIQC0PSir7BwZA",
          "dtype": "f8"
         },
         "z": {
          "bdata": "T+RDbRk2EkBJP+bsrOwRQMBQi+bg1hBANGkJ/1JQDUARge4oyJEJQO4r2nby0QRAESrUFuQNBEA5ePP8t4n2P+vxqF8EFtE/o8OVN7MK6r8LjhtcBbD2v2qZzYTUPgXAPqUSmGVaBcATmZ00hfYAwB55VUwlFALAfb0CByICA8AY405pDqQIwLwaiC2IswHAy5kvGZKs/r8ZGDRMsIH3v281sPo1cvO/SV3EnOVV5r94iBdvRk7Hv1r4cHqHCuW/0pU48rSo3L8URNbUHtmrvxBVoBmK5O8/BPyLHNk06j/J2aMDBTHwPyoNmIAgT/M/QRPc7j0B9j9+AL+4sMnuP4yTOVnujeM/j2vth6RD7T82oORR3fvyPy5JzvMfKfI/xSA8eRxawj+x2giXOSzSP+swqdU7udQ/Ata+elXytL9orU9XHMdnv91r7ZhC5+Y/k2qDl1Rbkr++8NrXORjgv2v/9c5lNdu/A45RJs7Z6b9lW5MHqULRv07XB3Lzyea/tRcg6p5t9r+ei0aLetzvv+NDc+UJj/a/BNYxza1hAcDDZqopvzT+v93qWHQmJ/S/9UiY7HQr879T7aBpII/vvyQciwRw2+a/nD0FFF15xb/yk00Xr/HOPw1WfeISZtU/PSam06/t4D8f+b8J3y7jP7xZdGcDB+c/AETn5wgp3j95du98Q7PiP3UBZTh5Bug/yqOriFEi2D/apU/TTWnNP/CZzj8kJN0/rupfN7UE4z/lG46/I5DuP/OdWFQ3aOE/O0HnOcLn5T9b8MLhODzqP4O+QZzsl98/vjo1qBIr7D86K7l/QmDnPwGU/Ci1FeI/+QIg9OEg6T9s206WvbrjPy5FvyQhfu4//MwfAzWe+D8e2w4nkzv5P5gyirDvJABAq0dC+2Ig/D+8XS6Ivd36Px6g/Jdx3gFAe1FfCo3GAUCZf/znjL8GQKZxcBerEgdAtftKEO6KAUDgFFZUbKr7P/pzEOCQNP4/J3UqRLec+j9aB7/chBbzP1lLdgNOHrY/d5EJ6M7myr+CBo9MRZjSv31Cz8nPGfK/XRaUpvFt9L/MFhg2y2b0v9Gkbure4/O/hxrzc8iw9b/GbHBqAbD0vw/txh31QuK/kJf9DKJHwj8QZmYPMHPZv3CenORGlc2/MuPFo5x+5r9CxEoDI+jlv7MGyazsT82/LiU9g/bJx7/DycPLUbfNv3+mC+HhpuS/ZcD4DvMU9L8b9Tcksi76vwNSe0SjXu6/RPPfQ/BA7r94Pna7AnnhvxRJOK9Ng/G/utNOG0UQ/L9Jpr76QoT2v952tyh6avW/+7Z8TrZQ+r85T5Ur0Brsv6sNqibjP9+/Ud/gpAzX77+uzmaqHb/tv0Pey+po5PC/3QLG2Y/w1r+WD8n7vL24vwfe2g+Bldq/cpLr12Gz07+X3BjcU+PDvxxLzZqjDuu/hyjPkMJ777+E5mBzehPSv1w4au75Tse/6bokTe7U3D8GbVocvCzuP3eQh0Rjc9g/0FrCsFMA2z9x6KQGEUO2v5/gVUbP4dm/JdmHi9so1L9JRwjeDKDhv1XSJtFGWPa/3Acd8Fp6+b87yX3ctsUAwGYWr6vdDQHA",
          "dtype": "f8"
         }
        },
        {
         "line": {
          "color": "rgb(140, 86, 75)",
          "width": 4
         },
         "mode": "lines",
         "name": "Image_6_sum_spike_rate.csv",
         "type": "scatter3d",
         "x": {
          "bdata": "83QW5pNsGMAVOwz4plkZwL0A5YlqWxjAKi/78MUVGMBl5Af5ENcWwIDaLWB1QRbAQvxVCOmHE8DzVHWR3sMUwAEBdR0fpRLA3hnhWG/9EMChO2ZAvU8QwCAFhQPS5QvA9cCJDn91CsCA7a53M4IIwAP2wjk6ygPAQ2Qcw7c4+79KtOBSfz3zv7CPk7VrEeG/BHzFXrUZtL9dpUHJYKnYP97Om0H2ZfM/EPf+4+RI/D/7LEfIJT74P6E/9H2NvfY/D+AsvoT47T8fxcMjRl7hPxpBn6gw/MU/ECesqPrZwT/B4IX9hevNv2e3atSYRtG/rfty2VGn9b9hjQeRu/n5v+AtBABFavi/p0vK5gAy/L+VSdYZpk4AwKf9DTbqQAfAwYyE15drCMACC0dDJbUJwCJ9GX6ekAjAjYzFtxC5CcBXGFEAHdYEwHDkAH1BRwjA397rP+2YC8CMNRN1+1wNwL3xF5puKg/AfmXpeaGFDMA7NdYXw7UPwDbiR9BMPhDA8yt5aXaEDsD6kABuCbIMwB4RqkEEgQvAA8cA1VkDB8Bk5kKlOcwBwCraxWN2zP+/HSY+XTXH97+KzvhApjTnv0ekAe49M9S/grWkw3cS1D8OVjcrre6ivzWiAzuvObi/9lKRUzG/Zr/tXJvjMX7Fv6FBUABEfMS/kdBkYrfA379gkNsNT2vEP9QYOW4LhZU/UIlWR90c17/HHmYGXWHwv4bAS8DWBea/fuYYn+224L/q/hIZV3btv39OM6Vf2+2/7TsWKoHB5r+Mqg1V2h1Jv7t/AFVlvMe/CLe+i9xt278iRdbpOWrZP4uaSaIkFe4/cl7jC7/+7z/zEg/rO6zyPzrLdLBj3fE/GvbR/cBq8T+DR7Z6m0b1PySGepKNoPc/Ij0emJ2t8z+RDCbOXhT+P5lXLY+V8/0/kJPWClflAECGMyQ9V8IBQKHrgBOLNAJAPV4Br2aqBEDhm4l2LCsHQCbvt6yL9QZATlD0jaHk/j8eiF1ED4X9P9gyD/6YGvc/XYN72mDU+D+6MEtoaa71PwkqIjFW9ec/318QLn1M3T8+5o2BlsvdP6CB59JPwOc/wrdBFNQP8z9UlH37NloBQEPgj+6GygJAtU9XbvJaBUD0oUb90JQGQMYA4JUrWgZA7XrmVRTcDEB3XsETg/cMQG5cRTcs3Q9A51kzds4iEUBO/CUUcGIRQG+0qh52DRJA/nkF/v7wE0CzKB8bB0ITQInLdjMCZxVA+C75pAriFUBu20t5XhkWQIzqx3LQThZAqIrxEejGFUDm3tjklLYUQM2WoCy3qRFAUXpTQH/CDkC5Vifu4QYKQPDCfRw4AQNArgLExc859j/8aQfDPojlP9QTXazl0cY/ZqQzx5UYwz+zGExC9qDWPwuSIc+rGdW/UdQt3swS179bsgZ5/Kjnv8uVlg3lge2/0ZAopMo9wb9opiDpxxfQvwO7z0EjQdg/MrsOmeFyzT+Z9WPpzpTXP+PCJgcdQYa/nzECjyB40D+0ucuCjImyP2nOYobhjew/9m6lmOpY+T+pqHpSLFz2P+lD49PPd/o/HmecE7Xj9z+4DgBrDDIAQMQLMH2yvv4/",
          "dtype": "f8"
         },
         "y": {
          "bdata": "Bnm1x3iYBUAFTrknj08BQCRfbkU0mQVAer9VDMprAkDWvYpx3NECQONe9DRod/k/okKj5bZu+j9q1uL7KPfmPxlhdo0bZ/E/Qmw5H5Zj7D9UYKu+WCn2PyDN9i9WGPA/myC1xxyAtz8S/qMZbXm2P+8kb3/oKbY/N71lw8In2D9RecBe5iHUv5jm1+qZGdi/DrS33dHN4r+5tS7h5fHqv8MQtiwIrv2/QAmz4Dym8r+1PbRIg8L3v/s1VQotW/m/AruMPaW8/79wOyieWLQAwAlQ/vz3Ify/BfS0cig1/b88F/H7Rj8AwFo1HESOfALAubJ+NIUTAcAnMrTgaXgBwMAx6vXcmP+/Lhl/7I7t+r/cnjknDPD6v/NyFU/OdPW/d/vXo5nb8b9lGcpCaqTsvznjHO43CPS/8SjB7joT+r9XX5wUr7jxv2qoCeoHFPW/ad5ccf21779YWlr1RRT8vyxyd3p2aP2/0l70j0R5BMB5jVfWctUHwLM40XEzpQfA5c0nlzoFA8Aj3vRFbRz9v/EIHyTNz/m/RhHcYiyD8r/8cJ+rL7P1vwMfw+Q/lt2/KFCoUZH71b/kZiXdOtDyP0v9lyMj7fU/2/aBvADu8j8JlOEr6FnzP3OTfpozwvE/ZqiABzDA/j/GUh0Bxvr7P069t7rhuPo/blCy7a3C+z8YQs3Oy0z+P4tcfsnoBfU/gxrYBggCAUBparsPup8CQEHv+Rbe1wBAPK9PshMeAEAJLBRdqQD2P3FaUVKgV+k/miJVlXgq+D8eNw4XyyX3Pxd9p9ElIwBAcPdVPC9RAECDrnrgKyr3P5BWZeYRx/g/7sMqcjQe+D8hMSLxLuUBQK5wrKLWgf0/HE1Z11b1AkBuePqpaxP+Px6Oc32ojABA0gon+tFX8T9SeFwTcTbxP/n/LK/ZnOc/wwqY6o/S4D8W+PxcyWHoP8S2PhDU9tk//23sgVI08D/hgIaNp3ftPz1X8SVsrvg//tYzwut/+j9t7uo8j04EQHOneZEUpAJAfC7FHV3QBkA/kid1v4UGQOKzy2fkBAdAuZnu5AojBECrDPsUie//P/neGJXVtvY/cT3EegQb7z99m97i95LWP8P2aAHlHdO/B7zbv2tc4r9aQZJF/APgv2FgMZ7lgtu/jWdMcV7y6b93jDUgSO/kv+s+Bpf2NtS/rRYUo1UHxj8D2eXsU1G0v/Wc1JE2AcK/YTlTlOfc379L0wh3BffHvzM2mOayceG/bkc3HwBJ5L+fnHFAcWm1P52lrMxIz8O/aMsbPVA61b/ACMjTy4Xwvwy/qEZEb/G/I9foDcgl879/dFz9qFDgv0sQq7nbdfC/UMjkwetm97/JDSzOyQIBwF6qYfSuIgjA9ajKe8ZwBsD6yxOBY44HwF2JKvQ+MwHAUTcfqmqP/r/RvaOcpRkCwEexj3uh1ATA+dsMqwkKA8C0LQqRxkD3v+7aWmbXHuO/4uwzDVljx7+vx5v0bgvQvz63BGUyIMq/PLBtZaGM1b8HP8PBgeLqv99Z2KrgC8C/sWW1XDiX2z8vTZXJQqPBP9I5ZgeDT+2/lJZHYdiH3L8ZBox42abZv7qOuKyrTs6/",
          "dtype": "f8"
         },
         "z": {
          "bdata": "MBhzS76//L87Fo6vsJz5v8rBPnpZGPK/8Abop0gL7b/puGUAQlnuv2+nht98lcS/SX8xNI2v3b8CFdIFCW/ZvwFLgyuF29y/uJkpBU4h4783of2L2brfP9/OKUz4sO0/oKvtthL45T/gZtQHig3yP1MkO1XqrfU/PAzzneSB+j90qk4CwTIGQGIAtCjzsAtAvAfCKhbYCUDU7f2MvOgNQCv0uRn8EAhAVYa+X3BPBED9y50k9+8EQAKoWsBUbfw/pLZcaEAu/T8332Vg9LLyP75t6XentaC/s1IutOMy579e+mXEYpfrv2yjaZU8m/e/rbTySee887/JwThEhSL0v2bE6Hq4aPa/zpWQm1Yz8L8W4ByTt8H4v6g5uU4OzPe/Z0LgFc799L8NiwKAX+jgv/LKpqMpLse/WxQy8KyTmz9kPMJmteS/v1EzEQz/u9M/iUbmVF1E2z+yn6YA0a/ZP4NYDgmJ2cM/Okd1c442qT8ruPwB7pLlPzFv0B/LjN8/XMu2/UzZ8z+XeIJ5Kqf4Pxm2/Gat/f8/FOq0G/+pAkC1d4/jZ+gEQMULQrCKSgZAQJGm1lE7CEB3faLEw00QQFXXXt93+g5A1k9/jsnYCkDgL5bUj+wFQE12wOUprQRAgOp+1j4xBUCC24XcNIL/Py37YiGvUvc/j+SrZqlJ9T+00LSb9g70P6HyaoVp09Q/S/vJ0h9Gu78e3Tt2DByxP8dZ4w0fYpu/G+X0+6LauL+XiXynS+HZvyX7bNDRmuC/Zq39veHprL/sKV0ucpjTv1cfgps7geC/+PesPgSa5r9BCeMjot7FP7MVXawzGtc/XW+155R6wL8EAASk/J/Jv/M7NHTcBOW/Wj5FoPZgz79VvIGPfcfev3SJPrCfhsS/nxI7zhC3wz8AYGppxALfPwufRZoyXrS/GdiFOZEWlz8nMuV0GgOzv4ZdjVsYwa+/OXb2hWB71T9DKTSTJ9i+v20A/P1mBda/tiji/7YO278jEB7luPDbvyFeKp+Z2+S/epa/O0UZ6L8MCnLeeY/xv7x/CZiiW+u/vjaqyJGO8L9g3levwk72vxD9smrlpfO/PlZ0GseD/L/G8hi3uj0DwCrUQPuMBgXAnVb6C3u3AsBLFxV4ABYBwA5SrJv4Xv6/e0N0njIS+7/vDj1yLXL4v5CU68RotfS/xJa6Ae6V6b/0M/EW0qi9P26sIsELteY/ZpCLggpd9D9iV17hTMTnPxCqzMW7vfM/lgpUBD9O8D+q4eKmWabwP6pWgCg9WvI/nRP5Pwgo9D8yhW7Vtc/yPwyv0KUWwvA/zW6I+7EL6T+LrqTgsQbFP8y2OYhLzt8/E3nWJTcFm78hIkPH3kexvxgp+Ha64dq/91XELxlZ4L84snQuU7nrv+/3w4bXp/m/Oz5xKP+4978j6DfHgyT6v3Agk2lZ//a/IQsyrgIPAMC5o3JA0sQDwNfl3rTjiwbAexmWah8KAMA6HKe2id4DwGO53IoZ3wPAuNGlD16oAcAMK/mnYn0DwJX9fZMTBf2/wsyFUF8Q/r9C1sJN2ib3v3lwJ2w5p/K/zeflAj8d67+3faOkmvr2v2QxKtQSe/C/",
          "dtype": "f8"
         }
        },
        {
         "line": {
          "color": "rgb(227, 119, 194)",
          "width": 4
         },
         "mode": "lines",
         "name": "Image_7_sum_spike_rate.csv",
         "type": "scatter3d",
         "x": {
          "bdata": "OKyaLQvQCsC60ghxNBYIwOW/KXP8qgXABvechfKIAMBFgEjO4tr4v92Sm1FMP/2/rPCCC5oZ+b9wmDasyezwv4PqOQ7bhuu/Gii1pide6b+4bkottnvLP7RRXPG45N0/JWTV3apP4T+5lXG6wsLmP5FG63UM2vg/Jqb1Nt6RAEA1l6HAwIkIQFko9AwjBgtApD/W8DAtEEApTYcjC2kTQMVl+Qe+yRdAEInnB1cFGUAllwfg5KUbQGFcPxUmbx9Am/R7UrQBHUAnzJc7/3QdQLF0mCDhfxlAUkXuF8fBGkC5VsTDNs0aQJUh+atT3RhATuh7RtpEE0CKbjI1h8USQGRRLZYmuRBAUypp8pThDEBl25lYyTQLQIpLkleRxwJAT8tkCwkZ/z+4aLSwzKD0P3JZacQJBvE/aOl1s8ND8z+Fu0dg6d7wP0sJH3X4mPA/jsuRvkiQ8j//HS5Dg7zRPzTAhVgFEtO/1DvpwTrq0L8GGECPl/asP7O3quwyaKI/I4lgTBCz2T8n+rlmZGy2P5l+MzkpptE/CYySISHju7/L3TFqCGPpv+v0FrHyjsm/X/KSp07d3D8SbQGu1hnxP6OD2gvoCOU/Z/KRA2dF5D/WJ7jeBMfivxu6Vsmb/eO/5NAn2OyL9b8hyjWK/SX9v06q6pKW0Pe/n0TN0hje/L94XPZ4FTcEwI5U12UMvQXAHrzWSNFsB8B7a+RajFYHwPPgUq6MkwTATrNWRCXHBcA55KJm5/oCwMI2PwyGZQDA0Fq/OMw9BMA20FKZvg4JwG9bJXeAbQbAuj/TPLRcBcDA3L74bjQCwNO3SU0J+QTAGOso61sPBMAG23xI1G8CwPkzUl/TAP2/R310UAfb+r/sAO4hcQLzvy8n5gx/7N+/8wO5QPz6tL8MtqBZM7G1v0sMdjHFKbe/WjlkNyUyxT/YGGaBcYTOP0aas4S3WOA/9TGcwkpYy7+x7bVq633mv+01e8Sia+6/auzAAR3V978MwQb1WVYBwMYm7HEx0QbACn+Ly2F5B8AA2xnkGfoIwEPs9w82PwvA3OXdLOezDsB4jZP4GrMNwGxF2QopnA3AgcZAUTxeDsCAXqpeKpIPwNjJ9byktg3ANMc6AsxOCsCwphyKKn4IwGvPLnw/sQbA/M3Fn5U4BMCOQ2omB4gDwIf3OsJs2vu/A4yDp08l9L+vZEcGjfbtv2N/E7iHEtO//HaOMYjOwb/8aHf+Kg3MP+oDhfLVis4/O62dH5G1tj8dOeBCXWCqP+Z6OlvGw9A/ZWGrhQCuxL88oThHN7XKv55IpYTrsdu/GHs4mZFD3b+AjUf/Uizjv3HcP0plMeG/IkxTTMkX0b8ngyfyCGXQP3bFn2FXSdC/xTaCXKM11T/oktSZ/bviP8t3q3zMpOA/cr0JDG/b1z/sPw4kZFfYP+dkPunjo9s/ovI+qCql3T8kXgTGsl2wv+3Fzca1gnM/3N43DZ7t3D9Up1puvjHSP2Hx+R9JR9k/5uND2M0E4D/RISA96kTqP6f7Ny0yY+0/ceibbJ259j9XcfP8VJnnPw+mOlNRlvE/V+vDa6zU6D8rRfHC9ULkP57/WjAffLi/",
          "dtype": "f8"
         },
         "y": {
          "bdata": "UnZtbSlrEsCcmK9U6A0SwFfT46Fgpw/AHlFWCs9VDMApG4rGiVMLwJkdNGy5tw7ALKtF6edREMBjAh0w814QwPruXo+9RwzAm3cNA4BsDcBlMvibDgILwEAVJ4RpqQzAfesEZQB8B8BVN63ICE0HwB+6GymEawTA191falrY/7+gTO4tiz35v74fFeKEMfK/tlPtcYi6678aKLEdUzvWv8JrUkSo4uG/pj1Esa/MxT+y65uUWsbiv64MeD0MTNq/GV0iu/HBxr80H8x0m7GwP7apt8tcQdE/ErpCd7+u7j/r6fwcjOnwP88C0slX9Ow/VjHa9foZ8D8j1lY5Q8/dPzJvmxNY9Mo/inTbv/5qrz9gK6WZj7Tmv1vxZZ79F/G/N9jD6q0e/L+nZGDJIMcBwOKpyyxs6gTAQ9xPJs4UBsBXzyx5YhMKwE7/1kZi0wnALI88M8PTCcBWty2zFUIKwFMYOUgtCQTAWkxQzADcAsB0QTRGD4MAwDe6DMp3lAbAfDz25uskAMCobmLywST2v6U+fRa2Bue/8AfKVZ+E179PWqIkcGm9P4e0CfvrS+A/HlIcDKm21T82ROddr1TnP1wkff94k+Q/izrCKA6S8z94hFnL7pnhP9AkKDiflOE/85afv5iHwj+8xHAM5oC8Pw6F1LEwyeQ/XA3wovay2z80/3Lsi4PiP+z5aIEU+Mw/+J3rI42qyT+1mXZRVry+P9NWw+X+NN4/T3fkBLF0xD/H4yRyVFnLP0cm9LGTsq+/rdG+gj+x57/7vdweZ4fnvyGvSvKlc+e/C/7WzADz6b+kmwqIH5vWv+cGPGvbAOE/z5R0nc+51T/Gwv+dpmq9P6L7pHEQNtQ/4Z8L1pVa5z/IpFsod57qPxKbToWYsOo/cHjmX0rx3j9FtGtjms3XP5ITp6Wwcs4/qLTqemCDxL9MNBfPq/PAPzgtKSViANk/riI+1q3P3z+EJ23z3fzRP4+Tdx7Leeg/JWrRUII7yz+yt4KMI//nP1lnJYG19ek/o2vJkkehzT+VdvqgYyPDv8KiwZXkwsQ/4CEMSgl47j9JUYhE0WLtP50TqeUuyvE/wygqn5bV6j8rOE7fIVD1PxFRSICn6Og/NRP9E3vO6z930MiLTVD6P9/LM+VYCf8/IKuDg+Bp+z9Yz8ptj2bpP9WyrjC9hfI/NqFYIDD/+j9br4uD7gP0P6Wimvq9mQBA+B//VXZuBUAustLvgn4FQEW5OnlBywNAEKqIrb2MAUAZVsws0Aj/PxhLzGwqLwBABy2IuooD/j/v7MjVSwT3P20Npps9Fvg/FJ/G84gF6z8Hm+8BGCjJP0GNM6hdT9A/arpquzRw5T//xjOvzL3zPzAw1MIsnfo/pY5xp78e/j8EUO0fiTX+Py6zwa61KwBAmQhUS/9gBUCJSTl9Rj0DQEsopg/KtgNAoHDyl1JgBkBqKaRBU4oFQOrf6o+ePgdARFynImSwAkCkl86rAyAAQLTz0AtnOPc/DqkRjR9Q/D/EwGCEzcH1P1RJi9j/d/0/iuC4f7iiAEC4NNYqoyD6P2imNeilwvM/D/gT6vEV4z/2NG6hTIXhP6MepxNKVOw/",
          "dtype": "f8"
         },
         "z": {
          "bdata": "iJdzf0u45j8AFj+S1/HmPwZB0csnbfA/PNhLPtWX8D+MQoh2Cen0P8kyZkaH/9g/QVuDxWuG7D9G33y9bmPtP2f7sX785fE/KA+wqqj26z/uMiZKBibfP0FFNNcuesG/N0n1Koy/77+3bxa2Ri76v0++7Bu1DgHAeCein38FAsD0/4yQ7TAGwMAGmYHlKgXA642/1K4zBsDSNRQqYFIGwMhNb3AgIAXAzESPDP0cAMCpk6zkEV3qv/qz55MHVau/len+fvxe2T+4ylG/s+6Ovw4qUesZHaC/5IFbggAcv78JjfrCyprvv7hZsEMYNOC/HwuVRlQ1rT96mGWZiCDTP3Lxr4+1aOO/F665e6Ip6b+OtvpwUU3bv3WJaNFSj+E/RgMPwxTH7z/mTPvk6FXyPzLOPCvWkvk/CVUPiMTk9j8gOM1OOrTvPxa77LY90Og/2fDYLJdc+D+ymK+mQR35P/nAlqwJ6+w/QGbHwwVi3j8gcqKACc/nP4PMUP3RyOI/YHJfqrBG9D+oRPNS8UX9PxTFV6FB8Pg/PTcxb2Cv+D+ZxEJlLtvvP9PB/8kh8Pg/HXRkBjM8BkATFGNAb6kIQKVCLzIHqgJAwuZeTwZJB0AzQsRxBd4EQC7fOUa+QQJAsSVkC3ZwA0Dk5oR/SLYFQFJ9fME75AdAc59ZkkFdAUBiYzMJ93XyP2OfgxKaiuo/OZ9wEelT6D+rsMhlFurCP8XwOvMZ9LO/kUfklPKK5L8YUt/JUTDpv7tv0a6CbvW/9gQ27DM7+r+y2CojeJfzv3sLt6+qLvm/ngoDDhiP+r/3i88MdPwBwA2We9w9WQDAKVTpMKEkAsCoHEd0MyT+vxF+eIbg1vy/Bu9eFwcv/r+75eueLK4DwKUOz2h+eQTABc6NBMtUBMCMJapD9ucBwHnCfkb2T/2/ow7Gj6aZAMDWnJjeBpT7vwBlptNxjfq/I/vBwID2AsAApg85O+AAwANjzLSSeve/J6OChC/0+785P2qvcKP/vwobsDFLjQHAK+wU+0GjAcCMfsEGh2L8vxkGguhjogDALC5INamJBMDctxXy+iH2v82daWjenvO/uVPsBhdo9r8i+0+hH7f3v4YO/6l7dee/jD/O6W5qxL9l9L3uyT61P6Wu7Mn01Jo/sFErSKBzxL/VFdm8a2ilP9RtwFvkbNq/KCiFehLD6r+1sOMeJ3jkv3IbRv3pQsI/4cc/+RmHwj/QgGlY/E3hP9JeCn9QvfQ/x5bbJNr58z/fQ7OJxcX1PzLvZRRvMgBA46dsur3fAkD8Tg71RysDQPNTscs2TwVAtecL7K98A0A5BJjCFOEBQJDuZUcFlPw/DvxSMSNJ7j9cznH8n53wP8ObjLvU5vc/RL7aTZB38j/o+SsWW4fyPze2ahq4Evg/Aeo2YtkS8z9zYAkAyGLmPyt2EbFiee0/o1bTjwhf5T9CpbgwOPTuP+Wc28g8x+w/qQAN+XWJ5D8aNz/v1qPrP3m+1TsQ1ug/SVDBKyXzqD/em2gJlPbDP+svAFDOpNM/nlxnKHDrtr9wFQ9Uo9TKv6/lMAf8td6/0xv3s1Ms47+u0VcMC5Trv3Cn56dEKPO/",
          "dtype": "f8"
         }
        },
        {
         "line": {
          "color": "rgb(127, 127, 127)",
          "width": 4
         },
         "mode": "lines",
         "name": "Image_8_sum_spike_rate.csv",
         "type": "scatter3d",
         "x": {
          "bdata": "RXie8Hf61L8cmEgEJMHsvwoH+AQWWuy/D8Ph5r4K7b+4KTp1RX65v+QKmOGDiOS/+kG7sm3M8L94divoQdLKvxA3JCfBD+i/TfE5VNW24b/zv80EBaTSP6mrdPQz2OY/TOM0bSP99T/2CF1vPVYAQOHka5DPDv0/tjxFd/eHBUCVMVTIvpwKQAa2EVmyQQ9ApVe5eRdhEkAzOCdaE5oUQDfUm6QoyhNAhwgLdDQSF0DsMRfWsuYWQD1uyItjYRdAkN4c4TPZGEC8L+dmphUXQJWBey1CCRdAIU7ru5wFFkAIkkS14hIVQCREBJTIlRRAUkxb6RHdEkBsbug3ovYPQB3LLVLCmw1AjFUCjPZaEEALSGxuYhsOQMRAnxOIFxBAfFyDBeeSEECwa2rYSjYHQGBTlZYl1AdAjki9pA5EAUDdxuRC9rEAQDHsEUmiLPk/EIANMqqW9D+YSgZpi4XaP7hKF+R3gro/pqdD3/nQp78N646dJnH2v+y4PkVua/a/Mwq5mf9f/b+7nzebep0AwFrFvKCaVwLAnKTw0dd8AsDKhhTWyxUGwDvXdLqTtgrA92lswwknCcAwUZPp5BgLwGpMOI2h2wbArH5kt5j0BsBT3Lkg4r0CwJnbmPdmVAHAj89XrRulAMA95CERozcBwPGq6jF+SwHAgepM/CD19b8h5Z9C0tL6vzjQ1yKhufy/mZVxcmQDAsDQcV0Nas8DwFkvLOjlxgnApWf3vSyWA8DLhK0ACBMAwNvw4uO+TvG/K4s5cOGUyT++vFBEM/LSP25Yze4Sht8/fYgcDjHs5z9Ffe+45JD2P6ocdWzYBwBAuNIVYPa6AEDwF7KalpvzP6RpoBW8GuU/qbbvpldG1z+WbOQREdvvv9W0b1WgpvW/QRRgJ0Aq9L8WzluLka/1vy/aq9JjSOy/qdVhllMC57+cFz7J2vbfv1KjcncMXMC/a6suWoebvr9JpCpRXyfBP5lV/riy8uE/zQeJ2kqp4j9qkiPnsH/hP3WCGrKBVdU/mTIQ5u3T0j/dijCG+x/Uv1TwUmmWG8u/Lh40JA/U2T8cI1IIP7DvP+xMYkD0fOY/7egvv2oZ5z+JgSD6l8fWP1Pubcfijuc/CPAf7wQB8z+fIWD+inHjPzjX9Yxp6OU/RIKlVdlO4T8pyTKcZFTnv/t1OE3d8fa/+xOj6vpz/78aCybt/+8EwG9F8FA/DATAM3+ciZAjBsAkqDooiqMIwJe+6bweNxDAaapa9i4tD8BG1CFFC9cPwP5CUD4XBwvASKwF7G3gCMADLMbWkSQEwBiD1Ret+wHAUjrOWAfHAsAl2aOJuxADwJIAnn9qbQPAEvTQXcW7678vy/+88I72vwFfstySBfm/kvIfcf5m9b/TKhVtA230v0eVNvGqrfm/ViF8/FXI/L+77KlhB0zyv7MPP3UqyPS/55D3SwgU8L//Vvh+AUv7v7lKjkIn9+e/QO3Zn0HI6b+ehdictv3yv7hhFCz0tPW/gMBaKKzZ8r+GeUsaT+zov4q2/8qS1Oy//42Z2UpC1b+02cBGDtbmv5vuHtFPsOO/tt7RJaCJ6r8J9cyBPDq1v2kxE+3+o9w/",
          "dtype": "f8"
         },
         "y": {
          "bdata": "geFV9lNSD8BsVmBCx8cOwDlN+2GpJxHAyC866/xbEsDRjdPlDoMSwJ2N5qmPcBPAlw+OGWwFEsB1cg6I9bgMwDnAH+g/PgnAKYRFVyt9C8CMP6+fhk8IwB8qIMjb5wfACYU7QZHkBsCbX7sRaUQDwHiNdNlwrv+/rp287f8x+L81rE6RlacAwPZzESMqnwbAnYgc7OyNBcDEr3/w1/8AwAtIlJSmKADA00/ScB0U/b+F7rj0KKn8vy24RqMSTvm/jWoxQT8t9r+V4uTHyof0vymtXnmNwuG/p9FgbDFAuT8QVc2Xrr3cv/xKYPgMfd2/5xGYysmO479qFMK2W4vbv0yVbObUycc/UrIEtVNm7T9+Pv/8fGD0P9UK8ct0DvY/hGvpNc7c9D+tjMEBepT7P1cku1MQ7vw/g1ztlvdO9D/vUpSpOSX4P03BD3wRzfQ/slZSIRfa6T9cRjVkCQPEv3ULoXd3Z8u/yPlIZfdH5b9up0HRvQXpv5McNxe0efq/kS4sCqxS8r9yw9vNX5bxv3u3vEZpSfa/MZ3OdOYm+L+/nDbmKnz2vxSNeIToVvW/Xe6O8Lmh+L9+QTw1XfgCwNawQHdJI/2/jga1ksIb9r9cbeY3f1T6v6ZNl15CkPi/8qV8eKMK/L9nicKpF033v5ma6aeS0PK/nfGUG5VV778rRcab+wHyv0/98OT25ci/i0ThnAXn579qIJ7YV0/0v2PKnLKq7/e/n9cTrvvR9b86Rabx3jvwv1whnrLtEem///JSm69s5b/2lSYZeCvfv1zXlOkTjtI/yASNPWRnvT9bDHROjjnmP50r8GzsM/Q/dOi/lD/g+z9Iwhbc73n4P0RPgEzbsgFArnCcyhqu/T97iDe66Z/6P0Au0Vu1YQFAtO4JdKvY/j+3BrWkOaoCQHqIKhA+HgBAQzT1Tm5yAUBjPwnBBdQAQMF7U8L9QgNAdR5ndNkY/D8u+KiCEigBQKk5IlxoLwRAQ4/whe5VAkDn1HAXDvMCQOmm6wAd2ANAmGFEWhEZBUA0NApoLEwBQMI6rk6/2gRAInmPDWu3A0BmBOXBLVcIQKa8zYTTSAhAnG8WsDOcBECxys2LDUX9PwptxEXXG/g/zaJh3Q1Z7j8HV2lsRj/wP6cPCARqrvQ/j7/MSZdL3z+ZdaWpJljhPxxxs9ABDcw/1lMIEJnCt78SsgeMs2vJP233Gqno3tG/IFhXs1my4L8MBLE//ePQvymcXyJXyOG/rlReBDDt2b928974osyDPwPwGR6v8sQ/FSL3C//fpb8PNVfa9/m1P1JMA9Jvx7o/Xwgy+7Ee6D8AwxrWldnrP2exKk4t9Pc/jk2swA6U9D9rZVDJYb3xP6aEwiZ57PU/gSWbtfK/9D9kQKMxFQfwPzan4wu3hfA/VIm7qGKl7z/aKrs46yTzP494HDQpZPs/33JNikea7j+mD6e1qUPzP+BMJe0Cj/k/MMZsk80q5j8aMTUujBbjP2ZGNAKjyuw/pQKCoTbr9T9dI2G3YqbyP5xqeg+W7fU/WgP8A+K+9D/8K0MQt+T3P1FOlFXttv0/8F6ncrTd+T+Nl7lOaoEDQOSW7KBEZwZA",
          "dtype": "f8"
         },
         "z": {
          "bdata": "oKwqQH+xBEA3xwr1rNkBQDgLioZInQBALrfwOmyT/D+US4bSNY/+P3ERHXeBKfc/KGUZVZpW9z8nmzvDnvXqP+jAuQaStuI/g6+QPLrqtL9jZrEKn+rTv5ijiHGGD8w//I7q7srC4L/DwZn+snD1v4bAds2nwfu/g4aDwK88AcAmTqek9icHwN5CsdB2agDAGzxsMT1Z/r+jZ4jGAe77v19ihxigHfC/o3ay1tV4+r9xXCd5RXL+v2tSj376B/m/7FOr/MrP+b9mSH1jwNX2v0NOaD+7dvG/2sxtvpnS9b9L29AECYHwv/zMAlXguOC/zKgF+Wp8zb+9J00YcTyiPzm2TfK/yPA/FUZ6Du1B8j/OFn6Z2xIAQFo2vrRy7gBAjZM4X20qCEB3h5WosVsKQDvrl8PZfwpAhN+KOaOxBkDQO0DnzEgDQLkaO3BGlgJAOhbPEyED/T/moToazBcCQCF8V08aOP0/qS6L6SXd+z+KYRAVearyPxlDa+4BVOY/+tcNcPMM0j9lOdAuLwPDP8k7FemG7q2/e5azqcslyL+tx0pHJoq1P6w+kOoxLr+/clAiMp2j0r95pDX5chjiv9HYDdIXWcm/uTSw0InD+j4g2rKMuv6SP+NUVjhWydc/krFgGpHa2D9ntwGeyRDjP82EBllf1Oo/ozaut0ML8j82VDNQu/X3P95A+TqfZwBAj3bZ25nRAEBxNZdj4oMAQF1wOEFZi/4/OAldgmR3+z849RHfo3ECQMxMU3qamQFA29Ad6obL/j+2hazwjZTyPyB0NNKdRvM/S3wpPlsA8j8xOgm2aObgP+bnrog6/+A/+kZTY16w8D+XEN+2dSX0PyU1IIgm+uk/HSv3+WVv4D/1Z2QQ0JfoP/KkdaAlFPg/sNMglD8k+D+svxkOfUXvP1r3LvByx/g/ZVaqsJtT8z9X8mYeVe/xPxI4CNvl2vA/eqxwt12/9j8nLSss7FkCQO7nSfUYf/s/EoymH1cu/T/ElCDhdAf2P3A9089nxwJAjOR+FP0wAEDpMRUL16wAQGtthNw+g/g/fESJeNeb8T/rtoo14V7fP9M4TdKtG96/pIw+3QJX2b8yhPHmDJPzv7r609qZ3Pi/w9GiJJ6bBcAReQYEmGMGwL9+3YK4+wTASSvM1JYWBMBJOGBKRSkEwOF2GoIkgATAg+x2i4TtAcBAFY/tIoP7v3ygIYjNVvi/0gnByW/k8L/hYijsodvyv42tsSNeuvS/7DIM3V8F8r9h3OlKgS7yv3noNqTrbt6/dEKLwVDz3L981+UkHqHnv8yNi984ffm/Q6HvJjhp9r+A0veXR2z4v8Jlbm8UG/m/Gtlx/Qoe+79DG512cuMBwGkK8TsEQwHA6Lp+na2MBcDyZITo/RUGwKwEeI5CJQfAXSlYPkCRA8AQa56Lso0FwDny3SAVPQXAE7iXdGt7/79TGjIZVN/9v68K6hak0va/5VBFQ/xn+7/OYDQH6kH2vxXOpv0Rwve/gduMZelr7L+J3c/XH/7wvxHIwMujyO6/mhWLAmBE67/mg71mFfndvzBulkn6mNS/MgQtVNns2r/w71l1sy7Jv6PQKUnaT+a/",
          "dtype": "f8"
         }
        },
        {
         "line": {
          "color": "rgb(188, 189, 34)",
          "width": 4
         },
         "mode": "lines",
         "name": "Image_9_sum_spike_rate.csv",
         "type": "scatter3d",
         "x": {
          "bdata": "pcRbBkhxE8A56dUedAcVwIUGbvivPhPAprxg4PqaEsCZJux5lMkRwEp98nmsbBHAPHN7FE1oEcD8zaEQJNAUwJi3TDJPXxTAcZE8CrA1EcBMqt4YcRUKwAs5erG2qADAn5G4dFxX/b9E7XlxpqPdv+cQUzticsY/L6ar1CiM8T8hWKcHd+8BQIvTzi2oAxBAxuQqduV7FUAKlqovyB8ZQD2MxdXFuhxAznuR7KzDHUA3gaWNXYsfQDIXqP5W9h5AXSTrX2NxIEAkj33olEcgQGRl3EtVESBAbh+23orHHkDvaWnTNFcbQFeJE014oxZA3XWNhfjFEkBD1sWIOPgPQJbhkwpIIg9AEynnCSGXDEBm0JNpE6YFQM693ugA4gRAfJELgAFI/z90ZuWbJxABQE2tYLirrPE/5q9vxS7t7T+Hqsus+PrWP7jKxeDjM5+/WXTkooXX6r8aP5IrdH72v5TbfmJbVPa/jSjSDvgq+L9HqUqqkZT5v7nfoQAc+ADAmAUu347t+78NGJQ7huL/v1V/EAxvfgDAAAg3cN+j/r82RDFIc1cAwHB0WahoBQXALhTnx5zdB8D2p6CjJGUMwMWoXfhSXwrAwnhz/KS1C8CSOW5UmiAIwG5FcmwiignAUvwk5jBiCsA6nR983aYKwN7AZwTunQrA5SRKVvFSCMBeuw7EbNAKwD8cgjO84AjA9ZQ9iR1QC8DWOj5osykLwPQ4oyZ5nA7AU9wBhV2KCsCGAsNkS6AGwBm02rH5EwTALamoH2ux/L8npleEBeTzvxAkUj0Ax9y/SQB12dO70L/vimLR+YyZv5Sw8cwMztI/ehWBGfF68T/UZp3SuO7xP/UG4bgqUPo//LmA4IyX/z/Ay464mev8P9vklCe1Tew/1+FFfDfZ4j+QUfRVYRDsP0SBoiXFMMo//y0jhzpbpL/u29YTGk/bv7hoSvxPmt2/i9D7oz0M6b/1rgH/WP/1v+demsA7rfm/AG9ZEAYD8793VIqDvfztv0ds3mN8K/a/C/mzE1lV9L9K8SqrpjbvvxlnPtr0cvS/8Ra5SSWN77/bv6yiHZzyv1YMMs80M/G/KpESX6lF878d0zuoIT/sv/6OcEfW7O2/YAYrs/BN7L81I/4xrqrtv/e1UrBXwvG/mtJ4QViP8r+B1WYGGDnyv0sTjjHayfC/lgq/l2qZ6b/zlUEgQnvOv5Z2snLCyJC/E3hw92zDqD9aYXlrR77IP6hZUUJewfE/RNiVjlS39D8mLBgPtzD4Pwo21CoE7PM/7ai0X8YW+j9WJ95kz832Py/Ncgl0c/E/x5uKqmeb7j8zxuBYe9HrP1GR7wP6UO0/P5JYYhu61z+k2EBUR+C1P7PKnngs0+E/lFIcB0Fx7D84Lqx93G3QP7GVZlD+m9U/0M/bMU9J5T9lIXd66/zjP5+i/5iw3u0/nC3a5PZf5D+EtXnLq5LgP8s/Io4wcfE/Kky6uBPPyD+OTK1SfezQv1d0ihmAzaW/Atvf0qqFuz/66njIJe/aP0VoCECPiuo/BvA2DhdZ9j9+GQNaXyX+P5UAKrRohv0/8EgYDo75+D/iPMFuFI78P1XhIX5rQgFA",
          "dtype": "f8"
         },
         "y": {
          "bdata": "6XCwABXW2r+oACQLV2bav0ALPGrxGco/EHLoVnn34L9aAGOQMjTev0N8nOexruW/OQPRJ6DT6r8JHpEIo6L5v585RFW4JP+/hWZ/wVWM979vtouIq7L2v3ruw1KKYfi/a5edXhQKBMCFBKUB83MAwPUJr/0peQLAj4pjuakEAsASEo9odo8EwJCds1VM2gHAM88kBGy4AcBFUYMzco8FwPPPhlhS2AjA2xZv8OorB8DkP1PiTWIGwE+FuBCH4gTA4EgxxAV0A8B92Odl3xkCwGho03Q+l/u/IASbLN0Q/L/hXWlpPBruvxPRIhfz39u/fH6Wt3JCwz9vKHvMRsHgP/3isI2zavU//T8Ycs/t+j+ciLKBYFj5P0qNedeiUPM/EER8dIRw9D+uEsHK15f6P9zX/WBZTew/jNCKkbem8D/a9gc9b/70PzvNIJSca+U/dO4UDmAJ1z9GhonAg5m3P0FDa/DFQta/efJNWTWZyb+TmVT4svntv/v+iTDRTu6/6fUWUdt18b9ajoP/ITT8v/MDOkU8iwXAoFHXsSlLAsDVR6mrhFADwGAk/X9eLQbAastSEC4gA8BhfvLwsgYGwHNgjZDisf6/4qgDuKQ//798BjlJXID4v9hv7Z5Jfvq/q5j3uDI28r+y/iSblqH6v9E+antDk/W/oCA/JmWb8r8u3rkWh+H1v8ycjlR7A/e/dcX28n7D+L/PUNj5Z7j4v/DcXhfBA/m/Jwe4nDGg7b8MAuZNLYbhv9wUUKDPZ8q/KmOw7/gR67+iqEQvmKXEv/PjdR/ac9E/1zQQH6+r8j+0WDx1LD7mP7/r9x+cuec/+GF9gnnq7T9avk+CIwnzPyFgkyoA7Oc/3vjFOheQ7T8PFKN9S/72PyI66o4j//Y/la4S7Um59j/2DXpfohP2P9QUvZai6v4/ViNcH4OR/D+v/Ut86Cb7P5F1u8m24v8/RzhuXqaJAkCiBvCHUgQDQAIWfCPLKAJAb34DcxI9AUDt3t2VdiYAQC1TrvBit/o/kH+XwqVj9z8XfXSK43v4P2d/+vh85vg/toIdA2xp6D84dsZeEBDmP9/ZTyJk0Oo/IOq2XKcO7T+mZ3wI247oPxbvfQQGjOk/4DepK4xV7T8qWD8vmarzP07EHvBhI/Q/E1D3iNuC5j82Wef1KkDuPxb4B0iA9eQ/6aL4h0v8rD+XaEEo4+LDvzji+pcYRdK/U7jmKBlcOj/VAmoYjt/TvwwRr15DGOe/8o7h8/dc8L+5xXhAJwPuv3+1iksq3O6/rI3JSXMq6L8zS8/tDU3Vvw0ZnvwRJKm/7a2vjJKYuj90K/qWMHu/v38a48odus4/6CT08Hix4j85+o7AYvL0P3E3FHpKjvo/64kpmxUwAEAef56jQesBQPXaOuK3hP8/Bm/lHe34AEAsoJttTi4CQEskGUtw9QBAR/sssQGU/j+3sPIIt3n5P20CHkVbrPE/Jn2j+ekI/D9bdZA8deT1Pzfy3ziPyfA/Oi8qzUR04z9/31S5WV7uP/0XZpQkvec/gCwO4+fm8j+ORwmtIVH3P6vqW0aHJwBAW+oeCriuAUAmFzfwknn7P27EoktGK/8/",
          "dtype": "f8"
         },
         "z": {
          "bdata": "pHqroKVXCUDIO31Azy0GQKzfQAnSMw1A1RguBEPXDkA6zPRiolsOQHagpL567g1ALb1A8AyGBUCpdxQ7LDkHQDE+O6fgFwJAKSB7b/b9A0DJ/x3++RYCQGuBmDyWrgNAX98A4+Bp8z/kCXdWsV3JP3kMRN9vk9G/vXPsE+J+5L8QjRakZMK9vykoDFxpNbM/VGDe1M35wT8TNrSXtdm7PyaAAiRtucE/vi7fI7AJ1789R+lLcSXjPyBrZW/HO+o/3f0E68Pr8T8Uuy2MVHb7PyMZ34I4SwJAALhYZ/2AAkAiiAev153/P3ayKfbe2Pc/PbLNhbio9T9ItIz7hzn1P6sa+MfDs94/UwXpunAl7D/j0CKTr/rsP/CRBZs1K9Y/aqEz+Aem1b8j2JcdUOjpv0aKI5Zcr+m/+rBcJaT+3r+2iFkA2yHlvyYyTdC0DeG/6XJ3JuSUw7/8E0VZJYvXvzoL156+j+K/IMmN9ZQy3L/wevPg1+Pnv5r02Ma0YOa/rpsnqsP4zL+zagZERgfYv0Y0v2V2+Ou/2Fal0kG56L/MDZTEutrtv0dL9OveZ/C/f9FRAKvX9L/NcpF65hv0v4ZcF2Xx7vO/Om6uioe9+L/ko5XweNT+v+9FJ0X4XgPAKcNtlN4o/786sI/VSBQDwG9WRIx6vgLACz2L5JXD/b8QLtNRn7L5v8tc9lKJ9Pm/2Rpn727l87/qUud/v83Zv1WRfqJGzNy/57PqK8JNp79WScNsoxO6P3Yms4/Lt/E/vuu6Ddon5j9upgbJgfrcP9rpOvOqp+c/5poWYE1/7j9NfiTR0M/iP80oXRCnNtI/7c4hnQXk8D9O8IDEQ3L1P5bt0zXevvU/0hTFYJ0B8D/Mqh0InuH7P2vRxHJKxfo/9lJEqZ5E+T/2gst+AHf8P8MeZMwumP8/dTFufM0y/T+tOY9Dmvf0P8QrV8Ine/c/IoBMR4R7+D97ZNTGtRX5P9OwZrrV9vQ/7RCk+Wzp9T8n7r1CC9b5P2bviofrZfQ//jrxVBy37D90pW2LobvpP1Iy2a1Dpug/sPZ//BPXuz/9ZFze9Fm2v9WBxUfoUcG/e3Dc9Y582L8T/81mjVDQvwgJoV1BR+2/dUIfbYo09L9u76Dajanuv0kN6OVcE/O/6IQ6S5ai9b9DeWDli2ryv25EdNkD/+i/XTX3AXRL9r/LEGNddSX3v77w5KgHd/e/kFs/BYa68L8o1fI18mfvvx5iEOmgkfS/bEoeX/wV87955CXtvJTxv1F2LFVtfOG/ZZYWCq278r8rsr0uko3vvw1PFUP/APC/iTgJsEYR8b+4Hgn6LDbvv6/T9sQyHPK/USICjAES8r/MxciJvjLiv+BchF/db/S//V1zdhLs+r9qvWF7tFb0v5voiDBpW/a/oP1PL2cX8b89MfxbQgfuv8gehwJLKO6/rsrhZF0L5r9EasN91sbdv+gzVNuVsvO/2BIIFx3W4L/ai0hk0srqv2oX15MlSfS/UQkPO4jd5r9csiQ7cG/nvzMwc2HoHfm/66ycEMpxAMCVrZ4yvTb/v5c/Q8nRLvy/ppFGHATd9b+q8qQR9fv6v5rKQkzUufm/",
          "dtype": "f8"
         }
        },
        {
         "line": {
          "color": "rgb(23, 190, 207)",
          "width": 4
         },
         "mode": "lines",
         "name": "Image_10_sum_spike_rate.csv",
         "type": "scatter3d",
         "x": {
          "bdata": "EyKQ0JMuCsCTQsr5tJkPwJN2EkgrMRLAwIlW6EXaFMD14+0FQQMXwN02wHL4yhfALu1ac3HWFsBxdPUW8KwUwGP0+V+lLBPApDC9n0qAEcCIdg7vnnsKwOKuc5P+bP+/uNgk/q7m8b/73hVGKt/Lv5LacDWOQvI/2f9x6/ojBEBO2jWOiKAGQNqXu+Rk7QZABKJrENS/BkDFf5PzB5YJQPag2GhWQAtA2F3eM3E6D0ApijLwm6MSQFg0ow5GjRRA/e9QquwBFkAwYM28OS4UQMVIAXLvPRVAjOJ74pjLFEB+02EopboUQCQUq1wX/RRAlW7QFXNUE0DUL95Gp2gNQCwZEpYNLghAQo0sXjBPBkBMnlLgJIL9P861OwtMLfY/Wuipw4G24z+5S6ZAh7TmPxGMb1x8Tqc/wNX/q7V54r+u6ji8U/3yv/db/eMj2fK/+wR6VV/w+b+od9m9H/8EwD5EW7thkgTA+GmDz12HBcBo/tgEhyQBwJX/uuKvxATAL8eGQ4eUA8CDOm7PcgABwPEg6ttsawDADkairCOP+r9KQNOpBW37v4b/cr2W8/W/ISfs0Zeb+r+TxCwn5+j4v/Y9qwjryfW/W/c41Tfi9r+y3ExAysb4v2lpURZe6QDAGJ1fHAlQ+r+Yb/rALzsAwL7vXyJ/OPi/rVoD3TvC/b/PUPeOa832v9dy1oxAPfi/NJpb2Tkz/r/L5MilY+b8v2o8H9t9fPy/niztSsqt97+/zdODIgL9vxapu9hg+wDAwR+mtw9YAsCDKT26ssj9v+3YmJvHofO/1Mv/3X2r6r+WOEJLK3zhv1V9b6uUiqK/UhwQLblC6D+gmWCGNM3wP4rzq2KQZ/M/CfWxb2N8+j/vSgatwZr9P+iWD1AkaP4/FYiZgUiG9T+Oq1+Fgf/7P/3AhW2Vg/c/BXk/zjMq+T/LQogcjc7zPw8ibZdySPE/gNlscX9y8j+Hi3zL56fyP2ze2b9AHOo/EeiboieU6T9EBQAk8qPsPxEZT+vTaMU/aiZvmX614T/VUZU5RpHSP0Js/hNjO+Q/tTyPMJqI6T8d+1/KYJ3xP5mWLXmh+vA/YZcXdX+I9z8rcSbov0H6PyoyVxPgRPs/WFDNOUBbAUBz/ijKDwv8P9yjrzuhhPk/6qVTJg177z/uGe56xVPvP1HSRnDAk+A/Zic8q/12v7+Ggbp/Jv3wv/WmA8czbve/a0y9p9oQAcBep+DkGagFwDpXz5trzgXAtPtcqQG/C8B/EMGbNLYJwGRdbOKQZwrAtg8hVL6GCcD8O/CnlYgDwO/58Fy1s/6/WfJrtCKy/L9fII183rYAwNt18zIklQDA8PpGuRwbA8BKAXfeIBUBwOeiJEPMn/q/vv7zJxgo9L8YQJyKyQL3v2MakuFoM/a/52WiAbUr97+BliTF8Fv3v8wXOLEuYuS/UgIAR4U11L8MFLNZ6wXPPz4TDvUJFfU/D6NiS3+58z9oeZ36iIPzP/+mWrslagFAJ4G1xWCYBEDdxnl3sIgKQEzt5QvJJxFA4eFWZY+aEUBirnQMJDQTQP/24q4W+BVAGFSyXXWCFUBldfV51lsVQAAKBSlpFxVA",
          "dtype": "f8"
         },
         "y": {
          "bdata": "pR6sHIGbEMDeNWQ2PTYRwD4wa5n7tQ7AX3URepuTDMCoSXb73MMJwMecZ2izfQbA3PUdyi7QAMDubN14WKUCwGpxa3+9cQbAfKNshvFeBsC3cbhEPQIGwFYPMtSjVATALKxpFK1sA8BPU7k6WcYCwGa1oDSYOf+/QPYRjoxEA8Be6MpEx6kEwPnu2rpphgLA1q6GUU82A8B285m3Kv8AwDejrKodVwLAnH3EqPodBsCF47K52U8KwAuk+OwQAArAaw7AQQOgCMA5dUM9UAUDwOqkrSYvVfy/zp9Dr4k59r+YDRl+tVbyv2k4/qHlZvC/QqRJp+Qn5r/wvh1q7JfBv2YYScEX8dg/j/iVEgXs5D/K+FdV+4nSP7jAgc/fVHo/lkiITzLsvL8VXK0spfnQP30hWnUzT8O/kQW9saNfdz9KnpllkZbGv3QGHp80bt4/eEB9HXj26j8mbiHRkAPtPw7rm2zUaPM/7QeUmUVp8T9nksa4t9DjP2Bby5BMm9s/R+kYwKvQ8T/6jx4hkbzmP6YZpfjQSPM/GNho8yUyxT/XOpj22RbVv+tVFuGfkrG/WSQJHtqBoL9dSE7wVc/mP1SmFCuv2fM/8USeewpP5z+pgCAU0ATEP2++FoHjmeo/6YIZKNnx5T+bqC5gN1f1PxLEJOI2Ofc/h2BWBa8s5z+oSYDmOvzvP94C58cJw86/Dt32R44l1L+SUR8Au83Jv1Kwc0wiMcQ/rmqPxIPvjL/Nic32VljLv5JrOGJYicS/AHmAxwkHqj+NaydyR9/Qv7mh38vUY+6/t1VHFAr14L96f/6je0flv8OyVeH5R/O/veP6bMdK7L/EJUQf/3H1v7dsV+RltPO/oEG35f4c/r/ZE0EsepACwLkuWfk6Q/+/kOKb4OGG+7/ghTtr47b7vxhcjk+ypP2/UyQ9Ctg3579c3SDvx/rnvxp+yx2/88G/UMcYrvedmD90J7/GgiHnPyku2zuHGfU/c8gs9jn/+z8LSlN+OQD5P71p6jV0s/8/l4M+k/QKA0C7qWwL0qkAQNgLsZZXkv4/GPMBXpgeAEAVcu7WA13/P/KXJycFMf0/GyHt6rsB/j8gwPGaxTP6P6XmGze2ygRAjficImkg+z9fLHGnSp7zP0h9R5pxVfU/IBqfFDKB9j9pIF76wZLwP0QXddzU1e0/wrROcYEz5T8Y7kKUDGzjP64JVIC86+8/3WGXNEhs5D/nqzGuAXz0P1AjHOm08QBA54zcv0uYAkAnjZaO/IkCQKSfKWlxuQVAJlsYZLlVBEBPvgrqsg0HQE2tcU4K7gVAm1Mb2gTY+z8ox78jv9b+P3D2Qx9iq/o/25657wYz9T+MqabislLgP2EClCWfLtY/9nAIatxa1r9vrCg5T6Swv3RWWaYX17Q/SY1DVYx0o7+5wTEZBuDwPwp+cQ0LeMc/ryC9cYoX4T9159f7wODUP2XsW2yWLuY/ILCsMVvh4T8mZ6NQR03zP12cIa2mxfY/V52cAc+79D8DboCi0j31Pzxeach7Wu4/3duLA5FZ+z/11t9Mp/n5PzKBUdFntv0/rATEYOoA+D9wsVI5Zzz9P9A73aVDOvY/",
          "dtype": "f8"
         },
         "z": {
          "bdata": "sZUScmnGDEDKvJdiTbILQGQ9ssSa/ghAs3vn0PPVBkAqdtI5PYUDQIGAns8VuQBA9Zwtgvs7+j98FGu1HObZP4OL9EAg49W/q313aTTt9796KKCnd8cBwMXdVfJldQXANiBn52cOCMCNe5JehCQMwIjEjmG+xgzAGhVuzm1AD8CYkLuuQ4sQwEVh4UwCxw7A3PtuGFk7CcBh52E9LEMCwEsrQqT/eP6/gINce35+/r+oZztq4Qf3v5SBFyGHoO+/ka1yVq2Q8r/sfkU08ILvvwzAs50V/OC/iVNr54tL1j9khWwDCBzFP0ZU7eThoNU/KbKuCwIF5T+nIVPFgJLvPzP4IlO8u/U/TQUVFOnz8z8M7iCtjET5PyKiDvZJk/g/w+aTNUm58j9VTCi9I97nP4yMDTKMkug/kJNCuhO9nL94MPEsbbTEv8OG7V5Mf+e/hWUtWz2p/L+0Je2V68T2vy0Ui8V7Qf+/1z7viqUxAMA90/7HA8/9v1H/3Q+9bvq/zFJtqDsV/L/sUZTJ6Iz/v9aeunfmtgHAEYYXdRYD9b9bbekKdMrEvzPxcvBhfeC/+vL2kZOr1D8xtZ1xkDLjP487XmqNB9M/TL9meySywj/G24vhN9fVP9KL+oPRr+g/tN4UDZ+z8D/jczCmhU3oP69q2vwYU9C/eUwYSmET5D+8mX24CCDFvw8W2EdgCNI/vt6udg3z3j+vr3y7T6+zP5JDMyFtK94/GFI+592e4D8QZiowzU3iP3sVSUuk8dc/3gk0aknM5z9ieI7TNkBlv1WZvrj3neA/37BB/R6G0D+qqKPiXJTpP0HtF3hzDeo/xClMzq7E6D9P3tjsedT0P4YXr53W//g/d2xHVANJ/D+vhBKtLfn9P5T6VfnNXPg/+F0e3FnI9z+XEv80llv1P2kax/2hsfw/oUHoSRYQBkA6tjag+VgFQAofq2IVMQNAlTGj3le2AUBOpebw3LABQI2neZvOjf4/31SFspjgAkCb4RioGUUDQFraLDjUaABAVtUWn6fi8z/5JETuxk7pP6ObcLGAINY/dV/EWcZT1b/UMgn8KrjCv7Kwm+Ay0+m/hRCuC11H2L8JjhN4QJ3Tv6KU2pItrui/DVtDdSFS5b+4goU1mUXtv3CD7rT0LfW/ZApGULR09r/TXTtz4Rzuv6AQE0gxMva/BZYv+5ZC8L/Lxl00u0X0v3cZ3Jas3fq/fQpwigot+796Cvtpu2b3v27eyoxEA+m/cHZgSL1g3r8LGMQ71Nbhv1SNCDSyV8e/xYp91Iy107+6Gap+TTXSv8PoqZSixeW/q2PxB1c827+43REjjEGhP3YtdOpggs2/ZWb7UUt98b+l5pZzTF/xvwwNGUp/PPO/oYs7VK757b+WaikH89Djv+Ceub5nxOW/xQG+IEYf4r9abbpYkfzfv1lYQVHcLOK/Pa4//Xam27+BvHC1ON/lP1yBMwl2X+c/n35p5FGf9j+OMoLdz2HvP4ymfj3iaOY/JPqfl4l86j8Jdy9MMZnxPzY3K/4VBO8/iGzRlwOK8j/fNvQqEu33P4UognBjqu0/hqv3USQD8j9exTlONQ3kP+lFIVVWZtQ/",
          "dtype": "f8"
         }
        },
        {
         "line": {
          "color": "rgb(31, 119, 180)",
          "width": 4
         },
         "mode": "lines",
         "name": "Image_11_sum_spike_rate.csv",
         "type": "scatter3d",
         "x": {
          "bdata": "DU9G8HHnDsBl4YOoiAQUwD3MDohnrxPAoX1am9m1E8D8TnWQ1ksSwJL4ISa/bRDAMGmZXpQGEMCSgnFLXm4IwHO0N+F/zv2/h8B3e9Wi/L+TOpZCNtn5vx9TQ/jlwu+/wnFWWaHW5r9CpAVMiynBv6LidfwlnMC/pP+if/5k2j/PiNOVoGH3P0d2yeTxaQJAhAMVR4oyBED1Zp8lKEgPQDVtFnCyQRVA5g+GDkWlGUBVWPdN1OQdQO9ZAghD+CBAlCikR6hoIkDZkCgCw7UiQP056BZNpiBAcvT4XsRTHUA4Da71NmwcQMtK1t+UAxtAFFjgZkNDGEBEN1QmzkMUQDbl6Kt/WhBAvOibHwpODUBKZH6dhW0HQII0JpCDFgRAXJxuFe2uAUAYtU+5Q7UBQLSfueaZU/g/96Ncd7CT4D8jUK5tztK8v1elCTBDq+S/eRsU1z659r8u3kzVLgcCwJ9JeYOsegHAVkrjXRXCAsASbLWJH3YCwHzimbPShwbAjszt+z15A8CCcEdr0goIwLMThXFsmgXAK99jg5S6AcC4iLVYzEgAwBo1Nzn8MQTAXRGdJjXNCcDk4PPpg0MOwOSfPjkajA/AVOndgCX8DcBNasge3OIQwMjqnMpy6w/A8lUbO3flD8ABATjCghMRwHN4/SZj/xDAEHJ4St7TCcCEFFFOp/cBwG5RAi6HEf+/aFPCc7K++L8xfTQwYaXkv/FiYAMuidU/eHp9TWp68D97tTPqSNP5P5u9NExPwv0/U6POiGsLBEBhcoaL014GQA0IU7Le/gJAUfmfJ6+iBEC9aJ15iekGQLkXt8IwIQVA8cN6JaUIA0DtSRZTrNQAQGBIiOOLwQBAE9Qw/aGIAEAtNF7BHHsBQKiLupKBdPY/Kp1XvRHh+T/R4Wrwdc32Pw1HRxU0oPI/nuVM0Wxc4j/UiqgbUwrAP7nsJQrSJM4/wdsRmIYB2b+6uJcZTK7kv4f+tUpUIvm/ZMEo8ZP9+L9QU26bEa8AwBLMe22qY/+/CXksWJPGBMCloZwI11QFwFrkjm41qgXA+LJSa2OKB8B3WiVXkHsIwOB+b6UfRAbA3bNv70AiAsDGdq46xKcCwJ9TqK+KLwHAAGVvGWTcAsBNBLEAfagBwPsN16UsnQLAixUmnGZBAcD4D6XD19QAwPceCInj+vq/nXTgw9Gm979GAO+jpR33vyDuWN46V/C/aGy0lM+S6L9paTACTe3bvzfaR6uYxqE/MuyRRdqR7j+BSyXApyfxPygh2D1EUvc/k7ABHQLs+D9BNXLFKJbyP+c9/EmTmfE/M+hCFoJO3z/Ia95GJSviP1b+wdfsO+k/mciwLQsz4j+iDpir+lORv4+Se9ykE9I/PDe1fhiky7+nml/OJcnGv4c/yJ1zBK0/7igZ9Gz8xz+nH+VZm2zlP9/is3WlQ+g/0M4cfiL65T/lK3Xfqm/dP/6DTcIRqeY/p/U7A2Uc0D8pdhyYpsbBP9cn+DS6Isi/dMp+bMkhpb+tmfWqhc7Bv/jdmuSQesu/8ysni3sJ3r9TWVnaV3bgv2Ygi2SlDs6/BuKvKA4c5L8Wd9P+5APWv7T+HLfz192/",
          "dtype": "f8"
         },
         "y": {
          "bdata": "mjmup00+AMDlGx6xacj2v771OF4+dee/DunZRVZu5b9MEeZm1FHcv63P1lqxOcq/+P9ZKBXg0b/r7eNdHy7Qv2YjcwjQAsq/mlIyhPVW57+Xy2hr3zf4vwoZyKej7Pi/n3W5TpGXA8Dh9s1j3kgFwJEuA3XQGgjArscr9L7HCMAC6RZ146IGwNPs1k8eqQjAx31d5beXDMDkJDa92QYNwErqFDaAFgnAc9db50OOC8AOwFZQ+80EwIyWW2KtEAHAg+tlicAbAMAb5LM/vBH5v6zgOX2trvC/EUD1Yej6xb9j4fL0e5rhP9+F71GMleg/baNxfNkR1z+mcfu0p/fsP7FBBuZXsNw/dP2MXqDf1D9cVDnZFSTVP4DUHCr8vdK/X7N6oR1/27+LgGdvS1fnvzZgtivz7Pe/QcyoLigP97/oUiQqs8rzv1dXKO1aB/u/v6gI3RD797+iOT6KN/j5vxDNhjPIqPm/Lmcg8Vqc9L+oXcGvB471v21fC2X46fO/whZNX2rQ878JfSuZgSv3v2moe1IqWPi/MzIp7OwU9L/A+FbnEGT1v1jDvlg3hPW/JdWD3nur9b/nyA6rtmz3v0J9mlrIpPm/nEiWIcZH+7/HRNtgRuTzvyt7lehG/fS/d3v6DMSq6r9xqEbs81HrvwFaOcDpyuS/FVGiK7r11L8m9k+vGx2fPzd7REyBkMe/XWyKaNE74L9LE4/Ck6bhv8enjtCda9O/O9QPpwM/Xz9dr5qgmoh4v+WRJnUizrA/5udasrTv0T8wjJ7n+Cmdv4/8nQqQC6w/xySdPRlq6z8ZVcEVlab5P9t4MAjkhvo/XNcQPRRM8z/UN3hhH7D3P+UQ8regpPo/MrvWxSoC+T+uORJNerb8P8CnJLFpUQFAulzDEdPMAUDzhZXDZ6T6P78q47jBSwBAPsiMc02XAkB1ssmXwTEGQH6dSTwITgZASvaZShVJBkB/K6XNZvUCQOY/h/h+KwFAQlUB08dZ+j++AgWvRpH2P0iUpWO/kvk/3bGJR7PE6T8XOv3SKu7pPwOTLpkLjtc/0WSnqyBs4T+QQq9a/UqyP5cLMyh5evA/GvpFbiMm1z+pe47kydHgP5FVkdeDTrU/Snsbbl4Z0z9IANQ9xaPSPy6UfW3TPdE/o/e9xHwF0z+W7NJ797O7P9YVZ8jiAdI/sRAm2tiCy7/nxE+LV8nGP7uhIkw5N9M/l0q73aR98D8u+pudGb7IPzaMTjeJTec/ybo9PuUr6j8nIzty9QrpP3gKUeaUpNw/Z/+ZX8vL5z9UfYjtzq7ePxdewT4LF+E/Dcjn95je2T+Qq7uWsunTP1ez7tEPqus/gV5gQp9P7T+uhUae2WXqPwJ1MVz+Sek/0gSmg+pi9j8pF5T+jDX0P/CzDsqP5vY/ZenOptI/+D/wzUc/TLD7PzRDr/qEKvg/V3kYoWe5/T+FbTt1Tjz4PxtN9dNwavU/qGYBXxlB/T+UR5WiEMn9P9uvVhmiNvo//uE/GPVh/z8uIdKssqj/P0l1vPXe8Pk/plXAvNn89T/lh8y9ExjvP7c415qxaOU/rV4SrHamyz+HepgGsVCUP+7fgstlz9i/",
          "dtype": "f8"
         },
         "z": {
          "bdata": "lATzatn1DkBBTogckvcMQDKc83gBhQtARGf8CDx1CUD1TDh3Ra8EQPUtWlbsWAZAbGO6FZjtA0DbGPcLA+0CQMTqQk5yXQJAo0cmTIGt8D/vrjJIUaXrP0eIx5Q/l/g/wc+NVAla7z9aGrcffRrSv65AnVEAa+a//Jz1O3pA8L/WKY9xQYf0v5vZ/HdsRvm/jiivan52A8C46z6leI3xv+GmfOQfqO2/Sl0YY4YA/79hsVlSiwD5v3Yxp3pRqOS/koWmkDzrxL85jUg2HHPJPw7lrg4Aptk/sjPXxFdn7z8AkFkFjQwBQDiFZVvdFgBAgz0mYK65BUDoodZpkO8FQAgiTkNR6AhACxtRjk/ECUBRdytE3N4JQE2Y4+sVmwlADYM3LD/NCUB9+Q+uZVADQLXk2eDd9f4/avguc5lJ9D8eed9X0j+/vxuEcFraZu8/SlC6qxVC1D9R1Z2QblDiP93n9DFmcNM/YVaWltp+yD+FZwGbqQG6v3TPu1Ak9do/D9EXGnIDkD/TW9xUqJHAP7wIe/9ddNo/froqqvQtwb+lLvXGfITAv4I/T0KLDdG/uWvYyXgO2b+iOyav0inbv5FZxxhG6+C/5/GIH3Ur4r94XILyqqrBv0txok7XeuG/w2xgVou/0r9n3vbDkPrkv1lPUpfDreq/XaiPOEAS7b/oBPBrU2/kv2ediCorROu/CpipvPVc6L+YFChRznvmv2eji06T792/oFzHQPj83L9OLQzAMf7Dv8aDYpp4dtS/DqgbOjehzT+ojpaPRhOSP0K65lOFWtG/iaTGp+9+1b+/bZG4KkjMvzK8OxkpH+w/gOODT+UP7j+DUjVzizH0P5Cv4M923d4/vWeUV7qa0j9j7QiMv82aPxt+8I+CSs2/9eC4KIainz9Lg8zzpJTTPw9MBR9jOMe/QQmshrki5b/GrthDwN7ov0XvlIf6leq/w4BwpsHx0L+CBOpRGHnDv8Iqfv88gsq/Ni4gIB+46D8c2vcJalXrP0zutndNoPI/yUBL2eIg9z+yG1W9G7TlP7SzbWisqdM/pSIURzAw3T8BiLEi5GrYP61Sh46UiM0/bYKXlJ7VsD9tcWhFldnwv2Rm/l0kBva/TpCaMKgH+r/5EDMV167/vy1ORmiGYADALdDWoMaKAcC6ZMZwzTkEwKu45lz8XAHAbgO4/kMgAMDt88nnQhH/v0TmZf6vf/m/qYEgO52O+L917ppMgooAwDewoJio9fW/cDiAXAKk9L8EFabAQ0r5v0aYr6ut//K/JZP2wHO9/7+RzM2U3A76vwH5MyfeGP6/b7qA7FaZAMBBjuvueaUBwF9Nuz5Ouf6/tCqmovyCAMAxXs6nOTb9v2FE4cqjUPa/T/C/l5hF87+2fMXdkoDjvw98oKzDht+/Wcy8WTg2yr/SVwIODQiFv2uQza6+ftQ/m59nt4fo1T/s+WLbvrHeP4MEP9Xrw+U/KNWDxIQN3z/DdHJJudbCP72cKMC7hLi/5Bl/Qrwy0b+j7dKmaR3DP1cyAsz1ZcU/ruang2+xf79+rJl7KVGyv5oWR5rtxNq/IG98UStv8b/tVq85QHvov6cloafT1+u/",
          "dtype": "f8"
         }
        },
        {
         "line": {
          "color": "rgb(255, 127, 14)",
          "width": 4
         },
         "mode": "lines",
         "name": "Image_12_sum_spike_rate.csv",
         "type": "scatter3d",
         "x": {
          "bdata": "qM99zE9CFMDtdUcJ0C0WwMNVCnB4+xbAgZu1vOMiF8CYOkXddSkUwA3vnoacVRTAf+YBaZwKFMA0rhEpq6gRwLuSf/PwrBHA0yN4ieQGEMAlVEZ4VHQMwIwkHgYUBAfAfLLV5LxSB8AI22m7qfQBwBMpU7R6Sfq/Lmk4KDL+8L+s3bXwSwjJv3n9ROImiso/vRU6Nr0l8z8oaZXCxnb6P4mQgBlHsABA3qd/ToXfA0CP5x6NyTAIQD9G4cMILQdAULkIfi/fAUAYOBIO/YYFQIRcrjp33ghANOLETHp1BEDCsO4NqVwCQCeI8rtBnP4/Fyg1RAqiAUDJds0VEbz7P/mTCm2lt+4/MdJHTnTn7D+qP7IKEZvnP9puPcP4n7y/cxXAqAEj6b/4u8c8hcjlv5asoUMm5e+/dRW3PLp79b8n5KsSnxYEwCZKUrOF6QPABEG/3hZPBcAGac813ucFwOtOwMuTngnAypxpLHRGB8Cj7mAsvd8JwNZsgNMB9grA+wl5l856CsCMSWRpGJkMwJF2tFP0OAvAdQy58/2uDcBmNY+A+ykJwLDapyKr2AXALbs1eV7P+L9SzcPBJef/v8uJ0Xm8bALAAYOcVhbxA8DJiMoZ/PYAwIxMUtrICPe/GcLKSJvu9r/LU9qZxZjfv/nsVsuiwuG/1CKQE7Ir8r//oNzMd9T9v2RoejIn3PW/7LWqaHj66L/V44sfy//QP6C/MVSbWsu/E9PJHamjXr/QYN/BqgbpP354A5ttjuM/A6Iyxtwg8D+GOEHuHX32PwP713Zmef4/trkpTl9i+D9KkIB+HmL+PxHf9mCwKPE/XRie9cWU+D/OQACemi74P6bjUTIeK/k/7t12HnJr+T9lQVR+9WH0P6ZqwFvE1PI/MzCXdF+f9j+1nd58yBDzP4eHovI/WvY/NLbKWyWo9T/AHqVYssv4P8nHr1vPK/M/oS4CAvLK9T8fUPm2smP3P143LelQ4vQ/72BIhREM+j81eKLn63HzP6poo1c+Xf0//+1SQwC87z80jpfvynX9P8kt/4+gwvE/lTVT4mUy8j+apPkFBU3KP6DpcIPraMo/D7AUnL8Qur8LGRtiMJXMvwxKvsXH+9C/7DqHmLc04b8WnmvuaSyxP2B0tfBux+q/TaAHW8k60b91WVFK62aov193+ALeGOw/oaQST9BC5D/xLEseWib4PzB85A5IUPo/0kBMUfY+8j8CPZ0/9qH5P7zcVgHWbfc/3nV0w+Wd/j+jLkRLkVMAQEgHl6WRPQJAJI/6lBYp+z+rCkDh5Wj9P9tSZuVNSf8//GAqxyd7AECp517X5TkHQBY4ks6AcgRAJp/oj7mlBECBXPeRRXwCQNJWlVoCAAJAiRpQRQTN+D8nFQpDnkn3P81+AIBSr/E/zzVRM0IV4j9xg7CnWZ/aP8+9L/r96LM/TcZk2Op4mL+MLUqplgHDv8PQ7PgZLaS/cwmE79s00D+4Q3lHxznoP4IKCU0spOs/cjMcSKfp7D8h+Mu6Vaz0P66Nxa8wW/M/OfvQUybC9D8sYr7YNe0AQGK+B8UVrgFAn/+QvC+wAUDutLqub0f9P8oMGohAUf4/",
          "dtype": "f8"
         },
         "y": {
          "bdata": "0+C2/9ye9j9+WyqhvOnpP7MkLrQe9+I/RGgY8BF68T9MBEi0mjLxP7fJYFqc6/E/pO93BCt69z8XVQ0QyBv+P3Y6eWDeBf4/0bWAM4ZtAkCxleXgOpkEQM2TXjuFMAtAfbQtn8B3EEAjksMe2m0QQBqF6/yL8Q9AsnwtxPfqDEDgwAe7P5YOQCGotvCJewxASB9snMeAEEC/XO6grxwRQN+qP/1rag9AFg/goGXEDEDNl1dmjEYJQPMLi+n/GgtAG+0VPyCHDkBqYDx9XQgPQCRVYCdGSAlATmemJcRvCkDehP83ZqUIQC8Di7+x3AVAD1CysozZAkAzxOsBYGYCQGaWD/79bQRAKEh6IBJ7+D8wmaAEecj0P4ja32Iv69w/ncvPPe0u2T+toNrepsXQvwzFyswh/u+/1XbI+k4U+b9PTpN2KsoAwE1OSo/1PgLAzbl2RxCnBsBi7O/zLMMEwPx1TMsCEAXA+1IfmOxjAsDYQIf+/CcBwMgGhWz3lQDAaxkbmOPJ9r/LEQ5XgeLqv0yyD17BrOC/PAkzNLAv8L/SfZALlJHrv+70xS9e4ue/xbArvWQY6b8qmnyLIzLov9KdiqQo8++/uZNBrRl03b/9CtjLaBblv68TFbrSS+y/czFNhkHm27/wHoiOAEGiP5ixlMv3was/ecvchaz84T9bUpdJPh3wP5JiINjhRfY/2jxWhlGZ9z9qjhGdEULwPzrBk9N9tfI/P12bwyz+8D9DizYcd2rkP5EYco54YOA/aoIh5nXu2D95x/hutH7rv7aCE40t6fa/sBaOe3lu+L8rpPYv72AAwG+PX3Me1wPAvQaPJJdyBcBUWTpJI6QJwDXZLiyqGQrADxEOXCdzCcBZ6cIsPvYHwK/Jlh2zQwTANZzWa5zaAMBFJRJjxzz5vzdz8Dejq+i/D9X9uHOMyT+fr7aOWNG3vwfjh6IYtNw/DLU0/GsX7z+l8jcs8HzsPx2/jjMRBOc/82Loc34U7D9wa+jvXHrZPyA/qkOGb9O/Z9wES+c137+pCmcxcPfxv9fYTEng7Oa//YRJLTq79L9vMg9jQIT5v4FZs/idPfG/g+sdxU278b8+xllb37b3vxvaVb2ml/q/ydgbAu9S9780fsY9cWb8vwzHlCca+fW/Fp83Djwi978FmZbZF73pvzfgoue8kfG/Nc6Vfdur+L/3ttbYtGf5v/9wPubUtvG/H8nud3264L+SAOKsWVnfv7jCX6NBork/QU9mWzBJrL8LfabtoWXBvxjVDsaP3XU/u+VeLzPf0T9xfOW7tuLTP0ctR3tL/+Q/1y0SeEF4vz/0StnpP0PHvwh97swFzbG/44eqA4ep479rEQs/RvLwv7XJxv6DNva/wrRDccR5/L8xiprUBWv4v1oaJHPWLfa/P99BYljR+b/qE/ZLeQb3v2VsOaWJMvq/FjCgWS+R979hYGNmcgjyv46rtb44wOK/b9WIZCYr279SJIkWSRzPvwT8W8YieMq/A2usb1tD1b8j80bZ95Hovyx7l8ePLuG/uohqD2fj37/UKGRhwVbnv1maFBGR0vC/dwUye5S0878/0umyZkPwvy3hh0/TwvW/",
          "dtype": "f8"
         },
         "z": {
          "bdata": "AVebs4ek8z+CILdtt6vrP96vTSuNovQ/t3FTeT7F8D+yoawcoCPqP35c2fsvQuA/205LedwN7z8SErqb8qb0PxzJbGXF+vI/NtHcRjo/8z/uUM4cB4vxPwSFhWRje+8/iPFaMJ2H7j88T4hJTwHvP8XcXz2UL+4/zNfBDIMQ3D8F9tL1wlWov1kEwddh+su/nDc6GjSy5L9bd3wRS4Pqv9+Z+3koUe+/x1JAbCWk6L+MslhGFlj1v/Yq0JzObvy/HA9KjzoK/b/VFy6EVaz6v8BepkMu+vy/En8bwxzq+79re5nHXcD9v8KJAljEiwHAEnwGeYO6AcCO4JlIdsL9v97pJC+seP6/J0V3VDBG9L8l77PkDSnrv4vNuDa/tu+/9iUpLthF97+uMS7gF5r8vwQ7EPBpjQDARlFFAgW9+7+PoB0EjDUAwPL0eeip5wHADEgUBOMMAMCsPesZ/woBwO0Mskf2pgLAUvzVC3C4AMBrHPKNBX/7v6feJONe+Pa/rd0yb6fc4r/LCzX1NgfRv8r/VTGtptu/V43jFVui4L8wwHWzy4bNv1uycC9tMJY/IVNC3b843T83qE0nwT/gP1gJT6jC6ug/7JC2u0tu8j8Tfj+mwVrtP/wQWo184eQ/sAuJm8ug7T/07ADTCR39P2eGBNoUT/U/bvMYSz6M7T/L8N4Smq/qPxjm2hG+QO4/1j6jS+Jg7z+bKWd4dqriP3Fe2V7GGuk/nm8txOEl7D8cfLOdetn7P/OGeF6ZC/c/VexAC1vh/z9qRByoFEj9P03WYXrUP+4/s+owFA1m8z+E2gY5r0ToPxIdC/U6Uec/JCmmCs3I8j/awLFnVcr2P+q6WUZs5+4/1bvkOWCVzr86mvL4lKXhv6WWzO1Bzcu/QX5q10vpsj+9KrFkApvIv3PhjFlc8t0/p7agHvk06D9M/95G/37VP8DGar4/Vci/T7ustHgFsT/bkIbvI47fP3a0BxY1Btk/XZnBDaVx0b8ftOsNXc7av5dGxqu0XtC/ALGRJahy578c9t7ruMXyvz8axvEbkPe/roks414eAMDtOPMI0ZEFwBsfKGodpQXA4yHf0X+RBcB2/pFsBXj7v0V09gcCuPi/J3IN+7lq+L9DDxwLHFnzvz/H1UbH9+e/TLCsmiPvxr8ESaVLpvzpP3UQlVsQwPM/uG/I+yaT/z+bEdBqXpsCQNM0oIiR8QJApowF0QDuBEBI6S087hQHQEnh7sgs0ghAJuHDmtjDBkDkZ55SLVwAQGcM8VEgQwRALoZ8CrP+AkD8fl87ofYBQKb9eL2deAFA5XKzdegJA0DhaC5IUGIGQG+kjBOwPQZAEFhuS7S+A0Bl7rQOfVgCQCzIZmj2mwVACXFzzG9rAkDcWdo4F+MDQAnIraPC0AJAAN6wDxwh+j9AEfM1bVXsP5YdG0PH1dk/qhHd9eeX2r/Q4I64uYDuvznIb9wde/S/ioZuWdTL/79bg+6LB9EGwF1SdPIlswbArK80Z8j1CcDMfqqCbR8GwLRK6z6xfwTA6wARiMgGBcC9jW9VLyoCwLPgpjuH8wHAvrwQG15FAMClX4pC50Huv34t26Ibz9+/",
          "dtype": "f8"
         }
        },
        {
         "line": {
          "color": "rgb(44, 160, 44)",
          "width": 4
         },
         "mode": "lines",
         "name": "Image_13_sum_spike_rate.csv",
         "type": "scatter3d",
         "x": {
          "bdata": "fXcAF474HcBFUm5qJtsewGOcUfyqNR/A9Ju01VLUHcDyEr86TmAcwNwBqx8EBhnAM/Rue5q9F8DBhIdKixsUwOowQ8xjtw7A3Nc18NmdBcABWzyhpNP3v8WQ/ay0M8+/U8r9qIG96j/raV3Djlj4P/lrQAAs8/8/dDbvWOtFAkAiwDX2p9kHQJ/x686PLApAIkuEwnVuC0Den0YenDYKQDNXWih9xAtAWDthgE1dCkAye85+GSgNQKhcVkcpkw5AznoJ/1hCEEBKw0jAG1ESQPnKitVU9BFANp7iVhANE0DDzXAV6IYSQNphPe0aqxFAwV/N9f8fEUDWxK5COYoQQM9oTN1n6QlAdd2fD+UrB0A4Llp/KE4DQNbXQAT1TvA/mqtW3rWY2j/qMOP865ziv3LOT9XEIOe/P1WY5SQI9b9vR4o34h//vyjwnIQsdP+/DPys0coO/7/AdMCrkd77vykwsiAECP2/pWUMiMqu7787esjc9brsv48BVE1slNu/F+LjLhzC6r/Yh2Rgs/TVv0LapNvP8uK/QMgPce+J879PbRMP1x70v2wFia/FQwDA86t2tpN3AMAkYYZGwUYCwIP57MtRXfi/E3aX5LXU6b9fIo6fxUydv/s4dHODQdC/+Rj3B+AD4z89c0YM5r30Py5oLb0OpwJArGZeTEg+CUBmk/1Gra0IQOSSRk9Y3wdAAHevYjV3AECZ2g+zesLwP5d4DgIASus/Y5MfUNgx8D8dp8fR2u7oP0mQQ+f/2+c/XaWitSN9u788M2c76yi6vxQcs8e499w/wvfAvcoR6D8podA2Vo/nPxxx3zmX5+8/ywijXMmi9D+uziEOPFH8PwFfyEB3bfU/uvfdeks+9D8yHJQAAQL0P40YjZuQSfA/EI126Ade6T/r6/2abt/kPzQTdsIJNfM/VAIQkhJ29D8wMUGJKFzNP0kgPY8f+Oy/OWQFU1lR3L/OZhAZZ0jvvy0cIa6zxvS/2mKkNbsr/b8tml7GmowBwEM/xG09tQLAEvUAuhyQBMD/TlgmjSUCwNn/23YUfvi/rTpOQwqM9b8EBAKjFXL5v+5MLbl6qvG/+VmZ/nAp8r+RJBbvPq7cvyPRl1gqcsM/ARfTSd604j9YPQPXWOXfPxoGXF4U1bE/8kCXCdpf479xxTHTMjLevyzNCgNZwt+/gtBLA8hP6L+eOnh2I4bxv5q3dft6ZPa/g4S/5fwA/793RVxOTM8AwNOYX5GAvvq/LOrV5sVl9L9vmYYCgibhv6+FpW6Z4eO/aEAA70JL1b+wp+s+lPPJv86TwMrHSOg/a2wK0nV45D8bb0ED1rTyPx3/5m16F/U/sGUkWDC28j8hRzEjIPrkP8ZRUXFeKuE/csiepwrZ6T8AwXX+BOHkPzR9fZFDIOc/FttxfDfwyT9Ua7eG/WbPP4tjSBKscbm/xzpBo7cywr82Sa06F/nVvx7LVlNxqcq/wuwurSrm479LXde847vBv4D1Nt9PVcG/KpWjroWSzr+zV8lb3e/UPzE7Ax3ZQt0/nW+nFyPn4T8X/GzSuf/fPw9R7AzPj90/lD4IJy/o4z/vFzJLQTXpPwWwq2qFuMs/",
          "dtype": "f8"
         },
         "y": {
          "bdata": "h3XRb7tu8j+LXhNVnUr4P/4aTUsuhPE/SSI+QZ659j+JpEhjC/zxP4kY45LVNvg/AC9vHd/y+j94tR2iyfz7P2sdKK8M1PU/7+X2o8cP9z+1QAnR5Cv6PxQ8ktGCL/Y/ruAEkayFAUDazIMV/kQDQH3NsWkzygBAt85jPS43/z9Ml/AvNNv8P1qV6uD21Pc/C/B7laJd9z8PsOqE9SL2P513Gykw2PU/ABNsQJ7I+j/zXJLWt7vwP3CfIbpYjso/xwJFs6n98D8b1Zk+jOXxP8j1N9nUdfU/ii2r4YB49z8TYp/Edg/9P/evsEByovo/97ZWsnA1+D8ivmzdd2L2P4nWLI9CVPk/i/PhAoJXA0A75KUqHUoCQItegBERdwNAJVpHwO3iAUAmSr5EO6oEQGUSTn2fPARAoyqAoQ+yA0CH/E97aJsJQP2TAADzSghA+u/s+mwJCUAUl5qE0UkHQFulML40HwZAuWrFFcc6BkCxlTn2EW0GQLApY75hIQNA66OfD4REAkAN05DTgXIGQHgkvLTudf8/B07p2TXtAEAB7R33ygIBQMsSnZU1j/s/HhLAtt/39D+I+nKpwVf0P6pNSGMQafI/Vwyk75VG8j+O0MplUT/xPyD9zYLOqOk/DKbsdFPi8T9p/X3RPHDQPzpoOGKlidq/tUKyppMD1r+KbP+eMILYv+1z+0dSp+W/ascXmF+o5r9Dkidwc3Phv2NeGP6SgNK/D+R/kpow7L/V8BsMWCPsvy4U7+tCe8W/MNJDkBW+1z+OErIXTxzmP/aobO1imOU/0YYKEhf45j+x8+e0317XP/1w6MXYA+0/uUX/pzgkvD/7w7vPQJLMP1Zjc/2bSre/ZX/d/krYwj8Z3+GM75vVP2BZPTuXIM4/SZI3u3+vyD8HbItaSOvgP2bCJPcXPNw/6dPwY6psz78IO4342WK0P0J00FY4y98/RC+Ze9+p0T9jkd0FQsvJv9/E6FVSk9a/FF+SDoi/5L+FY86tV2/2vw4a9Gnvz/+/8p4zlnk29b9+axEIsXT3vztoOGTsSPe/iJGFVHBm+L+QHJ6UFHnyv6mIG4hhNPK/vOORr2O88L9RgllNQJryv/jlurB7GeW/cmB82+yJ6r+D0XirJZ70v+BSmueuVPe/zxRtEoLU+b9bt8zZhp76v500WqfukwHAAzuCGm31AcBnGxLeG0kEwP8aDdGk6gXARa1LYPw/BMDP2nHod3oDwB1rm0nsIwHAmcQLGdrZAcA1+oC3n5r+v9crKfXEVgLAfGatLV91/L9F2LA9F/X+v9mEi6bol/2/6MCW8FvA/78KoHp0OZcCwEMkbXf70/y/Vqi3TZW//r8UzsIh6Db5v4lVlRs+LPW/zRoxVNKL8L+Al1B23Rn0v4ivJbWFm/a/GbE/0PEbAMA3wDzzJkz7vzRnwkgf0/K/uPcKGs/G/7/tT0uMsmEBwE869SZxTgPABMFUeKsFB8BCm/0dd5YHwK39nfRsSwzA1Qh7r71tDMB73MX+BbcKwOcF+ns3RgnAjlINl2qJCsAr9PXw75YFwDsMiiwCNgPATd/iEgG0AsDOWc0Igrv/v7T0Y5lOLv+/",
          "dtype": "f8"
         },
         "z": {
          "bdata": "/68NwCl91j/vxP0RQw1zvx603jfxNMo/Rd2yjeGnoD/V12YTy/PCv5ZTiiPpRLe/MQ4rAXzh8L8We0IDdk3xvyQyxQ8bzv+/CSP4tD3mBcAD5sYQCFcFwNHceyKJyQfA/BqlfCXTCsCHmt619BMOwNxXPa8s5Q7AtYyR3KYtDcDhXvv47isMwN/xglP9zQzArfLdEy4gDMA1FxFS9fQEwAuhzSt8DgfAEjwj2PJjAcA0qrDrN1cBwIec7l/gUO6/KOtBtaxY3b+xyDezC9jWv+2n++WnQNE/OETFZHf76T9CJb33U535P9eWDLwKX/Y/rYJxrbKtAUB7Ui46vv8DQJiIeodz/AZAY83U7+qbAUCSNjN8Z+n9P9BStazV+fg/oafKw2s08z9u6KckLX7sP6a7IFSb+/A/kppVq0sW8j+wDMn+a0nqP6pTQ1pSbLA/Su04px7Jsb8JO3ZPahLhv5FviuBehti/ULhbDETAyL+wX4ZF8P+Nv0AgVGFFZs6/zsJSfkGp5b+Tvm7yzBThv0ShlQjXw9+/pTfntfcBzD+9vDnXDUHXP/C2yhBbj/I/cRcBCi/Y8D83H3AokV7yP3c0fKmpTv0/ymIWpA4v/T/zEtzoSB8AQAg63MSW7vg/8IfEpkaB9T+YIenWir3sP+qY7eUgJ/Q/qoCGEVN0+T/tJkwmnKPyP72vjtewv+E/LCOlsj4r3b/gt3FtPVDCvx8NMAjlhMC/y/zbacIe0L9kNxwvpMLUPxBRFiYvLsY/wfKYwU2SxL9xEHwX5XPyvwjIt7qKiuG/eJQUtXyCvL9QAuA6x8fjP20QBabU7d0/O7/0xNoI6D8oD9sa0WjyPxbN+PAOEes/kYxcTic68T/yngX8Kw/mP3XDduHFO+4/XwFCliG28j/U6245KHHzP8BQs6dHm+o/DsUQIC1E6D+ixZjlvD7qPzPqwzJ3buw/fH499p0a9z93fm2Z9Tr3P6ADipiiCv4/Y7yTmnTc/T/FbHbqIsv3P6bUxlX5QfU/r50/tmm+8z9+ZPX+a4b7P1nY0YnLRfE/hiw3gh2g7z9bmqZvLyHiP7MLGtGRTdo/Yy58Mhubpj/qrKGK7jDYPy40+WjjNN4/2t/QTnnS7D8CxntTOoPjPzC03FsS0Li/XVmKuawp4L9FGHluut3dv9OF3UlSlvO/WPqga5Ll978G7vL9+8n0v2FU8XQKify/BWPh7psfAMClJieA4xMDwFpd5mM60gHActLJ9PIkAcB7v1+gs1L6v9RVSID6e/6/75StWNgF8r+WpSlLjczrv5XSZtR1IPK/IEWcETAT5783tbzlgK7Tv7oEsV2ggMC/uW0mXWmS2T9aTJXriJ3eP4SNLtQUwOk/U7HuXjgI8D814Iu/Dfv1P6y5UvGDcP0/qhAxEkcW/T/EVz6SFjb3P0HaXmONiPI/beN2a2ey9D/QihiNjTbuPxvEva1SE+4/iXyDa7aezj9SP3pREOq7v9VlEuOk6N+/qvuje8Wv57/kUyd0Dy7dv1D7V96TPNS/ucTVM7yC178mCS0eIJ/nvwbryodmMfG/3AHDOQaM7b9lP3zJOJLkv1nLrKebSdS/",
          "dtype": "f8"
         }
        },
        {
         "line": {
          "color": "rgb(214, 39, 40)",
          "width": 4
         },
         "mode": "lines",
         "name": "Image_14_sum_spike_rate.csv",
         "type": "scatter3d",
         "x": {
          "bdata": "knk8K1C7HMBh3GXhjfYbwEIhLR7ZFR3AFOG65WksHcCsGagG4LkbwOfLwkjeIxvAgR5EHQ5jGsDk46pRMqEYwGVFdtCCyxjAxWIiA4j5FsD/4BwjRgYTwJKnSsQjeA7AkWORtnfYCMAy9043RcT5v9lv3McmOOC/M7OXBOPi4D+sS6S77m75P0+h+e3QTwJAeXjZuiK+D0BHWDMxsHkTQDcCx5nNshRAxR1OGzMzFkD7putTMZgZQHF2Dj2GIRtAwTwG+N47HEDa34aELMYdQFOQQRXSVx5AirOc9JunH0At0f1EpuodQEUF03adDR1AxbaUT7c/G0BdxK/ySNAZQNtQeOeZ0hZAt3Y9Ai/ME0C6OCfYhVcQQDwuIaEnyAlAPpTzBjjsAkCbCN3cThD8PxyuZraWoPU/3NIEXkq16z8TEdUN6+XePyFBGc0O+tc/xTPUP35Txz/QUaPNsf3WP6hr4GkBXes/TjP5PemU4z/mq+QFf5DuPxPxpzqFfvU/ul/j42qi9T+f3pMdM3b3P23tCuVlJvQ/E4z2JWbP4j+krjy+n8vdP8OGdX3gZK6/4k62cZ3Awr8Pb0PtdFHEv9fGj8JvJeC/21SLWM2Z9r9qQRoHthv4v3Yh7yyPxvm/MtUcFStJ+L/9b0dG+af2v8ObT6VnlQDAbJzrvCvy+b+7LkyJ8d7/v8cHSrMZrgHA57NtRo6JAsBZNAu3QbcAwMz8L21JrAHAatCJrqCV/L8u3JPTcCH8v50u7Lw66fS/3oWc1oEu178JFs5VF/fcv4E4fKYZgHm/sSmOUVqx4z9Iv7wtgovyP4KH9LHQs/A/Mnu+ZG6V9j/5mtKBNBLtP3Z+Wdbw1vE/ZPKTE86m8D/1k2pYz+30Pweev23/TvM//szgsCRG8z+1TKQCwVXlP7/qZSNE3sE/r+17GhkR5D+BeEmIGVrJP8B9TfMp68s/V8fZBKJbyr8soncHf8DTv/cyeR02Fui/NdgNKJLK8L8YwlM4mTPvvzXXXKl0/O2/aHakh0uW6r9qaeN9Bgjhv+ELmQlHuOa/WDQuoGKF5b9d/Uwg/Q7Rvz77sQttMOG/4DH14lyY4L8arE8JEKjRvzIcZ8Wreuu/i/NhQisc7b8C/gCcNDbyv+YsZltCovm/VLN1yrxp8r/4c9HEs3bzv0lkvzPR7vm/fHhvoia+979ElA2FhYz9v+raWUoNyQDAUuBsWhBQ/L/4IgWXkGf6v/5OAMy4bvS/qNXiqwq68r/trjQCbIP2v2SjNaoKq/W/Dw0ivUuD7r95NRirFvPnv6DippiS9tW/tQxk8FVbvj8lvAK920+bv5AW96wVrN8/PbL4hAfn5j/tyr8HXB7yP7qKVACnlvA/Lz9fPHBi8z+7Ib0PnrH0Pz8YxzuSLe8/mt5nC9kP8z9vrmaIRHDpP8xAZBxNv+Y/C3fWzSIq0T/JJnAZC4DVP4ljozCZld6/pZF2dYLhpz/QxSskdfmxv8QbeurcSnU/JX+PJs47uz9GzDDXPnTWvxXyYrkF+9y/5pQAK67p479TVKAav8Tqv4SdZlea3fO/6CensHbk9r8jcYqur5IBwNPM4vONvwXA",
          "dtype": "f8"
         },
         "y": {
          "bdata": "HC7UGdR5EsC9F7pBSwUSwA8sOvnr9xDAlAwuHxI0DsCaSYAhHbgNwEAcDHdwqwrAgCvJJYY6BcC9ezkjDEkDwAXe6G3ktwHAVrU6wZR//b8mpC8UVxH0vwjPYtWC3Ou/CbSXxXYg6L/25R8D9AfYv+drdSsyn76/79BLdOkivj8FRDld6DHQP29BXI4i29M/bpq2Ydcr6D9xpqqeqZHuP/6Hfh6lk98/e64M4oW20j8j4N4VMh3FP5JG8oncDMy/Z3GcxqbA8r/oMvpaI8Tyv9jRjK1XMvu/YiMZQCFTBcAHLLRG24kJwHRWhA/HXgzAaZyV9uYnDcAMjFvcxdsLwJxtYJ7YFAzAIVpjJHmuCcBjULvt8xkBwK5Br4faggDA0cLcAupy9b/HiSjOpofnv70Px+szf9y/1wlvqj8btD/eL/IMbXHLP7mD3PtiWey/cUayWwHW778NHGC95JD7vzERDkJ11wDADMhq+Rjr/L/PVpVodXr+v9Ge8No/jfe/EGl7qieT9L9WeebdlTn3v9qzv8JzJvW/J+4N0K7T0b9aTnjfCQvQv6kmWUhf7sc/1o5ofQRx2T/gnqhAlSnYP7Czdel6TM0/CFxByiFCsz+SLHZwY2XZvxR99RKb5cy/iO0wdG5S5b8OG1Bwt+7svzefRwHkNdO/iGqBOa7Oir9pEXt7C1vAv/xd0zKxsMa/u0Ekc5/Cvj/uHYnjKkLQPxJ1onzkFcg/6fXrZ+pS3r9PudaKiIPMP6DbCmA5Csk/yLHuO+O50L8RGVvK3GHpv1KGhwTfS+S/r6l/qVy84r/B5RyClGngv6LzunE1Teu/y5cZBOAP4r+k1xlWaq/dv+xwPJvEXNq/QSOZN0/Yvb+wFSn4Xrewv/4l+c3eQqY/nUIq50uT078+CWPOCCLdvyWfZtJK++m/drKVlC3j8L8RzSbmrv3wv4SQsRZADuu/s4nNyTKt77/P4IsA4d7dv2uHxjLf/s2//NmkxhBm3b9Q3Uc8f0PEP5Q/V4OXyqs/NJJZtUUsuT98jEKZKhjlP52YgriIlfA/beT2XqMh7D+dUKPnux3nPzHx1IyNYs4/+UleSljHqD9ESw/6Ei3vP71xz/B6lNE/yegkBVyu4T+Oz1s7TlnwP3EYBp1jC9w/H3gKD81D2z+y5rSoOxriP7nxvV5SZOM/jz0UCEbq7D++8Wa2rI/yP6LU/oSUDfM/ZXrPbi8v/T/5Y/f42hP5P8OxEF6sbPc/8RfrESBWAkArhMtyxhMBQOlD+xb8/gVAFGvbvpCiB0Ah+I6bX/wIQBlSe57bhQtAj0l5KAu9B0CsTRPVkH4EQG5GMaxSJwVAJ5ZDOdK8BUAsYka+xdoAQHFX/5hCRQNA8IAA45vq+z/31erIZJgAQC71pO8vyv8/gXEw8KL7/j8WjP5j0hkCQHkvAQ7AhwVAJ4A8KeziB0B7rZLkh/UEQCTJ/u8qdAhAa9XhvzDLBkC73f/udxwIQPL0HkcVlgRA7kvllOKNAUCtC8s3V9b9P7+0VbQ5JPg/YcKKc9CH8z/5V7SgAVf6P++4RlnOyANACXX1GNhCAkBu0Dn5oR/9P32k6RlAIP8/",
          "dtype": "f8"
         },
         "z": {
          "bdata": "4Cet2W8NAsC1A1SCAtMBwMYiKlBYYgHAV+frlOIIAcAjb0DYmSn6vzKup8CcvPK/hGhrJJDZ8b+r8HQyYX3vvyJlkva4LfO/wxnmFv9d8b9RkD2Ra93svyG8VOSF1+a/VJit+Tga5787t033AxLtvxwvsFM41wDAqQ8i2WZvBcD+rF9xy44LwG9yOTfIZArA8cTaRyNcC8C0COTjVNELwGe+2TO9gQ3ACBDVhFkoEMCNWLL+sWoMwJsluGx8aAnAhl8u8XIi/L9AUpOtCn/ivyn6D/Ok7sk/ZxFwSv0v0j8EYoVH/fTcP5jYfZhUk/A/2F7ebdmu8T9zvCxzdZL4P83ieDdlJfs/rpVILgu2AECURJb15MH+P7z7ahCOeABAPNqIwoCB/j9W88ZHLicAQIuZ1K4DIP8/oJJTuFdW+j8w5XZjthf9P7mtrxNBufw/vP7XqzJr8z/Z1/jsP8zkPwpt3o/vgNI/sn7gVdlH578kEYcqb/XmvyQhkbyyLvC/hV8qsFSm779kxRc9Kfjzv7lvMBaG4fG/6u+br1BD7b+Ddfqt+eXjvyMpF6Ch0tm/MtWdopSi2D+dsoBFMInpP+3BUN58uO8/N4A+n45t7D+Qh7DSUPjvP0KEUheRz/o/wO4VG3kUAUDKesGGnDMBQEcxC4OFL/8/iv6RNIOKA0Cv6uFf92z+P1xZ1ECMAv0/hqDqvszd9T/NB4zhHqD2P4eRTqpNQvM/K7km9EjD1T/UFfBnu2Thv6cLwhAd7em/TE+gilMw2b/uHDazZjb4v/THOW2Bqvm/ZzcfnRWr9b9OC8l4rnLtv4gcwWaHbuq/KoRNS6mp5b9IOQ55qU/XvxKCrA9OV7E/maiJbfUI0D+63WS6/qriP7aOiYX7QPU/BbDwaED4/j/MX4DXGYv5Py1JFzSZF/c/sx+gTn9L8z8VRfxDoZHxP0+AnQN8n/s/YPdqn4sK+j/bdrfaeIT3Pw1uddGWN+w/gVzcfq1i8T8xlYs8yfLhP5aBCHrLl+E/O5PIs06c2z8EvmWhlqDqP2ZrqY3fFOM/SgZCMMPm3D+JEuFH6czoP6gnWU6Ooe8/Bzjf9/6t7j9WTT6IG23lP3VtfA1F9uU/v8ns9mkG6z8o0TVQkG/pPz7ciWydk+c/9Bsm51kf8D/1hIHTHrzmP7NAFacwbuA/OY72UAEms78YxYn/Zp+5v9+2+X33+NK//quBufOGwL9+Eo82kDfDv0rDgQpim7U/Zj+FrcKsxD8+vJjRj5/av+paYbCom96/cjZbESPZ5r8wpB0IW9rUv8vl4TF7hp8/YQghtmQfy79xD8YBHdHiv6FWzPd9vOe/1DcNOaat5b+Kojp6D6Hov7pjyAOREOK/iVu/Z+0I3b/xatNMxC/kvzqJHsInUOS/QOi+lfhK5r8NMFbNRpzdv2zAq5kFVNe/MuJJLLBVxz9rxYwypUzHP4NrsbJgE7W/HQswEAsG1T8NeRaOY0fOP7CZdRWvc+M/oZky1ubs4T+kmodXYj7jP/jXQHlWHuE/zyM8bfZK4T/oduGzF9i3PzrGlvaZQcE/bEKvLjMfyj+ueFbdGDa4P3QRoPMCEta/",
          "dtype": "f8"
         }
        },
        {
         "line": {
          "color": "rgb(148, 103, 189)",
          "width": 4
         },
         "mode": "lines",
         "name": "Image_15_sum_spike_rate.csv",
         "type": "scatter3d",
         "x": {
          "bdata": "awH8Pa2zGsACUuquLNsbwDVrqkkUvBvA48V9uzbGG8A6WLQ3wYwZwB3l32wgBRnAPg0MxhZoF8BtX0QkjaIWwDqbbejRfBPA6Scez7F/EMB9EbOodi0LwETafGbwfQjADClobayvA8Aaa8AsiCP2vx1UPJjFCd+/TELAkAKa6T9w28JLasD7P2bj1RF/dQVA5EBcAoqvC0CUwYnhOOERQOH9UNeukxJAmAlWKiVtFUCdD/azxYMXQMv4bCzVzxZA8GRscgcdGUC46Wd8MBoaQMIVIT2DVxlAB80PRA3cGUBS9xSU/6YVQGOpoqp3ExFAh0JyuJZHEUBf9syHjKQNQM17uuv81ARALK45mHuzBEAaz/iN3qL6P0DYlDawb+0/D/WRlOZ2uT+xuUIVJk3gvyRcxVQVb7M/0RDNqtz/6L/NjcDeuwL3vzRAsVBOJva/dFb3m9zX97+LSqH3zwkAwFoY9piZmgLAdBxYfsM0BcDbF3VFoDMFwGuz02RsZQTAz5kWpbuZBsA8hniIwn0DwAFfrfJF+ATAwh7MzxT4BMBgxX9VM3QCwJA0aXUxhQTAS1kezEbNBcCoSHNHOIsEwOZ0ig8V+wLAKJC7XK7RA8DhfNks87IDwPZbjiflG/+/kuTfYslw+r9nL+pRClL1v+jSOhEEqfK/ommoxdsq0b/o5U/KoCrIPyZKtuKJdNo/1OTcH6/37j8D7zRfgEz0P7mV75URWfk/BE38qzvQ+j+n6fTIb+/5P2lzpYYxhP8/mGheL/PO9D/Dw854Gt7yP8VB8TrDG/M/Yr9PbRUv9D+N+nqdrfXwP4h+VN3h1u0/PsBYsfD07T/7JJAESTfpP+UNQnWuIOk/SHBq46zKlL/y3SIIfrPaP8/2Hkeka8I/gD08cOeKzD98XA8MlNvPP7ARktuMP4Y/e3uo07cMuD+sT6e88gK7v9iSQxBsP9m//JH70n924r/wLXWytLn0v0M+xIeIZfW/RLxdwWMs+78F+U+GQSEEwFPaJQnLzQLAF280Mn9D/r/A1dnZiUT+vxoj/v797P2/PZ8Q2+4W+7/NarbaG1zwvyzvkHHJGd2/hp6mGZ1xs78GjZum88/LP2lSK231feo/+5n5+eLS6j95bSabw8bdP+936mv16uI/3833UYMV3j+VGfihSGrcP59EV4cZnck/lLA3Jc6+2z90KUtgetOyv8gJOMxzS82/aJ4ffENo2T9yI3wnZo3FP4TpQ7OJKoG/7McTcNw247/8TTpFLvPPvxd02cnXF8u//hT1mDS7wr8R3lYRoWzkPzKa5GSLRfc/Kac7hqtjAECWskZPmoT5P/2nUUGByfo/PSVuPBwV/j/EK/F/x0IHQOUWxFiKSgVAPi5+/8uyBECNEZOGmMcBQA6b4hNOp/o/betxEG8e8j/71obBYdbkP5lX7uTtatM/nQ/VgWcXoz/YozT+L8LgP8MilKEpFMu/i9SDsZ/EvL/obuQnl5ywP4HrrJHkYtQ/cJO9V9+w1T8avLzQ1gvlP1nFeaK/muQ/KVHnty6A8T9oe1pThYT4P0Zv28puDPQ/hQr2rhxq9z+f7J5YGs3zP4CV6j+gIuc/",
          "dtype": "f8"
         },
         "y": {
          "bdata": "XkRaRM4P+L8xeNWrHK0FwDvmba6sRQnAzXiGbBuYA8AkE374BV8CwNXDBPAbtwDAqfyV/gWrAcBusIXh9hcDwHiNOJ1VggTA8YdUBPJuBcDDZ+RYbQQBwPvI5X+EkQDAsNoXhNw9/r+ty9MocfAFwIuCAsGNBgbABWsKmTeiB8A0fYadci0IwN/LU96B5wnAIgDIw4ezCsDXUa0hLFwJwLnqPm6vpgvARrCAVHX7CsDTd5r0HW8JwAzwNk3VKwbAUnjqLRKlAsAIUZaybeT9vxMkOEwvg/2/oRkSUd7+9b8YLNpY5ef2v96+RpL6KwHA3k89xc4DBMDYRlowv8kDwK0oUNf7MATApDmQk6uSAMCiC6VwhxoCwAz4L8928gbAcps85uEoB8CTnuSn2q0HwEh9gGZYIQLAQcSPc+Sr+7/7JHl3FoT3v3+VOnbFuu2/M9jWMc1Z9r9wV60yh2f0v9An97pbm/i/h+vtRchP5r9ZFUbpP2/pv8a6XQZes+W/JV8WvvDC6r+k2Baud0Lcv0kBWaCplrC/AxWyOD4EgT+5k9a32kDZPzuq1gd+X80/MTkIEpuj5T/Nk6adI8HWP+lXe8r/8Ow/q9mwDlba8T+aWSv8fufyPxLjMhDfS/E/TnYUbhzc8D91gwIlsibzPwbEJAxf8vY/TqvdS3OL+T8i7Y81Jd39Pw6Ee4OGCgBAt1YLV6a3AUBfXe5YjZgAQBqBkjzR0QBABu3aZJhs+j9jB9aAymz9P5f8Zj9gefM/FUqvDNjH8j9q6FzXN/jzP5foAjO/Wuk/RS4tG4Ac7D+/Bbt/dN+uP9JDyBOwqdG/rnquPNVL4r/rj4GR4FXKv3gzO1rMwOm/L7u0MiFr6L+RiLqROsnqv5xZ5c14ifS/abdaXZKG8L8EbSLx8WnwvxhKy9IEj+G/sJIyf6mK0b9Uog1K1NLTP/nzzjM4cuE/C6YWa8ka8z9onggXGGfzPxY2394RWPo/MiVfDCUUAUDQRddBwIz7P+ae/tRyB/8/Zqm6qBgn+z+Jt3UfGvT6Py7kRgjp3gBAswzH4dkA/D9tcIyVwLP4Pz8TQ4l1U/s/PyTTus9k9z+FO/VDNGP4P9Cq3b9HJv0/uFC22F4g9j9IbZxUTH76PymN2RgdcwBAgax5wGJz+D9DpvT5e/jxPye95Ye0AfM/6IC4edS09z9qnHRzFCL7P7TFjr4Yg/I/P84QmHdB9j/cng9EzYH4PzcNnK1Yu/o/jcdCytaX8T+p4GHzX2fyP9+yU9zrA/0/93IslKYr+T9SSG9XIYf3PyZrCMQHFew/fjzYXy/W8z8d7UquIJ31P4qC7jGSwfg/ufGfI8dx8j8VvMsAlYX+P4itR/hBN/c/LlT+hoal9D/dusdRmkP3P3T5SqWfJ+s/9/+aLTtz8j8F7X2HsFTwPyseaE8Rtew/zt+ObyYR6z+S0o2O5vfoP7R7ogv73so//b0oBW8a4z+5lM5VOsnrP7O32k2wDvA/dIHhGjOm+T9PKJ0s/fT3PwYfThu/vfc/OsMEHt0C9T/RMK2EEyj6P6Sk44KexP4/dZpD591Y/z/2SC+/DToBQE3kQn49SgBA",
          "dtype": "f8"
         },
         "z": {
          "bdata": "hnHSBM4ryz+0pl6/PV22v2uNJYC6n9G/zKd52rhwtz8qH+9xqbSxv6KVfA+PCcy/qsWbcWyx2L/dMunQeRbiv7MMDDb1mua/s+M2bwNl4r9u8uflUjrzv1BOQLFIIfi/5/wY2J8Q+78qhjKvtEIBwI87qYGICwbAYVpS1vlzCsBcSg3V3GsIwE8Nz2wNbwnAHg3gWeMLCsBCcXbMxIoLwKCVkZ7IzgrAQkKhP5OJCcBR8ECGpO4BwBfz+bUlwv+/q4tHH7S98L9P3z6EncK6PzsXc3EiNN4/6IYmzr7h8z/YImj6K6r7P4suZahFM/k/qiB2fi8hAUDwFEnI4wkDQKDtZVXYRARAeS2XK4nuBkDnLO4VO+cEQJHaa0j/oANAbQ9UbtTGBUBtM69ecTEDQLDldK4uEgBALTwwsryUA0D2GTHtTJsBQOYsGUCmoQFAcOpDE08q+j8EeoHL2dn9P8yWbTCtHfg//jUBttaf8T8vIFwpw//dPysjyVpIIeE/xvXk5vVm5j9CeQV89xbgP0b4iOYQJME/6lPRScnfyD+ABsWerk/iPy1Sywzm8dC/CWie64wPcL+wovFTrv+CPxnC6oyKe+g/h0ldeJPP5z/21p6yjlnPP1fyRfuUeM8/eKmPiEjb1D+qOMoQ0T3AP4xeQ0O83cA/cHfvpD4E1D+NrNIxAI3nP96gTYqKwvI/SmgqJbtH6j8n770LrmvsP9IB/Wtx+/c/VwVU/P/9/D8QEn3FI+cBQHhTLwquIwRAxxueH+yTAkAuLFFWeikEQNlS8HEoRwJAL+/JGVH4AUCvdvP0W2r6P0Uycf3asP8/S+mLgCMtAEAeMxVJXjr5Pw2hfb3rTPc/Uey6u9s+7D+nYVCNJsz0PzNoRNNL/PE/hfE3Sm+l8D/g68OKNmXnP1/mcrW2ePE/BSwisavw0z+4OCH7p5O7v7rLs/mEibs/MrDEccfs57/vy8Zdt0bcvyRLr5N7SPC/DC/D2jsV8L8x1UDZkpP0v2UqqLYZyPS/r7FXO6Pb87+q83vstMPhv/frPsmo5Oe/zUu9lfn977/bZipAe87evxLgE7o9neK/BEJC/79B0b8jvsVjEhrov4rvKFKrs+O/wF636Lwm5b+02psyGfTpv4mu59xIGfO/P2mTY8rM6b828DMGRTXkv2R7mhYloOa/jKJFgjGG5r8TpzxSAsfyv8f72MYqueq/Q25muclj5r9AWnUrDx/wv0aJlUnNTvO/nYyuZzzp+b8fdxPx0g4DwHA0yQQEbgLA1QBwdFsqA8CMWXLnNT33v3p8Vkgrlfi/+yJvxl8T9b9nYfjNj5v+v5BDh4uYtfW/rNvpfwZE5L9I9xRB2ALZvzYngEKyDdk/X9ggTvWbxT/fyr02p+ncP6ZryRMZq+K/4rN0rvgzxL+D46z7Abjdv7LQQP81zuG/3dzDZ6MI8L+iMPHpLlv1v8X9mxxQ/um/GrPGNWge47+c5jFb5fDYv+BxIIPF58y/L0zZxzbxsr8YH7avRxPKv5EztUe014O/uZRw2dWz5D++zWI68o3pP/FwA/gt7PA/NtIo/o+u5D/OXggdqQ6Cvw1anQRaIsi/",
          "dtype": "f8"
         }
        },
        {
         "line": {
          "color": "rgb(140, 86, 75)",
          "width": 4
         },
         "mode": "lines",
         "name": "Image_16_sum_spike_rate.csv",
         "type": "scatter3d",
         "x": {
          "bdata": "ydHBtcLFBsDavK/X/PMKwHsGqfibkg/Ao6U0xYnlD8BlxhAeY48QwMfMIY5asxDAhZFbJcDjEMB9P8R2iekNwHAQMMBoRwvAb8biVj6fBMDTKIvd+5X/vxmPZUH3T+2/gGiYGcGhwr98sTETI0PjP005L/0gX/Q/srby0yg7BEC2liD0yk8IQKpBNFkdmA5AOlKHgBk3E0D/BiMFSSoUQFZUWYUiKRVAE6OMiyoJF0D/yNr5vmMZQLkfzdCcARxACcCGs09sHkBGBcm3Sp4eQOHHT4wzyh5AzaZG8jolHUBFll8QtfMbQIpvucQPyxtAKpkuTFRZGUBN7HOkcjwYQEPIyZtLMhhA8f6aewEZFEDhpQEoEyURQBnHmZeQ5wtA2Pq7a7IoB0BpbHEu0YgCQKDrhV1iQfg/TF2Jd8YY4D95cDriKh1/vw48p9hE/pS/dYHeAshE5r9YEGfx1Xzvv6mSX+b6Fuy/sLUuiU8q8r8bRp33Z7L5vxPVJnZJnPq/bTBkZ7gY779vTC+7CrHgv64bM4fh4ZM/IfGZ5IuS4L8qWEbkAyXbv1+8VmjQAta/pTm0sr1z7r9eQ+UCiinqvxWm7rXgo9S/akfthQW50L/bEERyHQrwv7Oo3iPI0PW/6ucGG92b/r9Bwmrp/SQEwGcBQs2cKQfAEan7SU2qCcBnKBx+aysLwEQxpPaQ4hHALesZfmdfEcAiKsJa8CASwKhhvaCaWxHADSDjDxw8D8B9o0VRIf4LwOTZYkbHRAnAk6T+4QJbB8CEGGE66KAFwFHRpld7GQDA6609Lx2O9r9InFIZJen9v50vbbOOsgHAE8sFyWqbAsAY4SMoRa4IwEe7ZoYSwAjAFAKPcaDlB8BY8IRSUgEGwHhuRk3CywbAUonU3/qOCcDzDQJBwNIHwBVowDeIeAPAFhxg0t1v/7/ys2nEK8n2v5iEfWhHCuC/iFj4DL4KtD/Wd7PXRRzgP3yZuQxGb8w/3my+Qpsq4j90XVH8NwbvP/ehGYC5ZvA/qlxmH3aN8T+NG/7MbYP0P0Wpe6QXg/A/vZl33xD66T8CQnMMDxPfP3rB8MkALNM/noUMWYUB6D8isCjqNa3jP/FMgVLIFNk/8aFFeCmz4z8HdkXQgwOhP4gTaWNMEsW/4qJmyVI02L8VsSKUd57mv7Ha019yweG/4ASo2uSK4r8N+4IZ4u/xv28l1oKJi/S/ifj6NpBK878Rzzj7U6Dyv030OhpXSvG/4jGCRgXN7b8//31k6Ablv6N7wmzgetG/iNOP1Cll5b/NqrI0bQnov7hVW1/omc2/y1ja3HTg0r+qaqdELG7Vv38C7/+zNee/WOgiRisL3r9Y8Vpr4wHRv7QPbPDaMX6/Me0oM2oV2r9uQdZdsfnIv6EKgiE7q9G/qyfYb9Ky7b9GBFwoIB3dvyK0feUeadC/G79GYmO80L+mJpwjNuqYP3nBwlPSFcO/A7ens4kP17/IXPQdwMDdP05h3f3Nots/IShfNWWB6T/PQ5bey8H3PzzmPFvx0Pw/S89JmFcvAEB84mSCNvMAQLlH8YHjyPw/K6FKN4nOAEBJM+EtGrgBQNKDVBU57fs/",
          "dtype": "f8"
         },
         "y": {
          "bdata": "ZlsQME8RFMBno5/kCSsRwK8sJwpNNxHA03pMX+oYEMBcF9Gr+lIQwIAp+oPTownArU7KgJlcBcDtFA9lgv4CwLXcx8L9rQHAlYuJUdEy/r9TgEWhQQz2vxQDHqIvZPi/ECUXfiK38b99POwaZJnwv0/xfCBGHOy/hNOVajG287/q2wrl6h32v20lMbn8QfG/hhSLI0s37r88caU/TeL0vx7RM7Kw2+u/oVXOc/377b9UcWWMvSrzvwCcTAxD7vC/P8MVt+ZK7L9e41CcDRLlv9xWlG/49+S/GU4uPua98L/BDwyWSKfzvzmYYDojY/W/02S0EMSV/r/U9aMhH2r2v1KcNgtVduy/OhuFkfHr179MIbSiyFPxv9ti3U+hf/a/ZylJ0PE1+7+sU8o/agP2v8DHPf8SsPK/iuN/tLRq7L96H8X5qVLlvzZfmxd4fOm/jPnR6CAd9r+aEgqGnS8BwHfjo2P0/Py/2a0OAy4P8r8MF+aQTUTyv13dyN9XjO+/gB9sNvpJ97/NESfUGa7/v9SauL8PewHAKYcIdvkNBMBwCV5kkdkAwGaJyssi0gHAZ8FRp85I/b8vasRDmWsBwFG/psFi+vG/mPwQNXup+r9TfKnL7OXyvybXmzHIKe2/aEpvmfHS7b9aaFJSD7rxv8c0AKZb+fO/KO0mpXpg6b/hM3GFbAHwvze/873Rmea/ZsDZ63F48b/fx5/mE7TNv2dWEdXrLcm/+D55O/NZ4T+bB0suhibzP3Rc6mMEC/Y/8ls15a1s9j/tX4kPkWT1P42l6sDJofQ/ZvjQ2Ems6z/DE9uMQI/hP1p9Nu7+vtA/TBr1cUWA1j9Gvmi4vRKwPzqZb4SZ3be/cRg69J/koz8vS8DeGAHWPwN4iurlW+A/pk3qrxGs8T+NsEPUzKD3P87Ft9dqLPk/F61EwLpT+D8wRStm7Of1P4V2cM9eG/o/r7bDQXgL+D9Y1QO7QQ/8P1CDEfOC+vg/YLlwwAqA/z+S436BldMAQL4r0mUQ8v4/7HCoFiVqAUC1NGo3W5cFQPLsBlPLTANArRMq7fKT+T8LCSBr9sX5P0hGT6B4D/U/rC0JpoWF8T93ZFxWe+TsP6Piao2QENs/k95dn6Ceuz+eKp4UHrOxv3u71M6VyNG/EZnJv8wkaD/coguD/tzmP4uHcZ7FR+4/KWebJshy9T8EhVTVp4gAQN1HRRLIHQBAPw3YsTdgAEAMo67iMkAAQPAiKK6hawFAdjldaVNDBEApUowgH0gFQJ0lM7HorANAGZ2enqfU/j/zM+80vYX8Pwr+3LZhdPY/SgOOHTwO9T8mUX1PpBX0P02gsv8r2v0/HJ29X/L7+j9sthaGc074P27bcX3KEv8/og3x13nu9z+bb+KdRsD2Pxui/chHTvU/JxWSyEkY+T9LCRCTQ0P4P9iEluxFt/o/9AE/EwMe8T+yfJwzarP3PziA2enxNfk/wla8S9Dd6j8y1SQQL6/xPyQlZAL1LPg/eH0tLO/B+D933NRoUNHyP9vxvxaOKfY/ttuItStR8z/fYC64nQn6P+GXsKl+b/c/R5KpbMYQ7T9HsFUQPFTlP6aLk1zN3e0/",
          "dtype": "f8"
         },
         "z": {
          "bdata": "9pqEi+Vj2j+bFjW4K9fKvzNvAfpGFeG/q7suA8OA7L9F/S3bKFnyv99QN+AEjPe/zTsp6NgK+78Vr+kroEf3v3s/MATaM/6/Ab0LfCGVAMA/HsAXL//5v+GeR6O8p/6/qR3ZnKqZ/r+S8kixtI8CwFi6m4OFhALAr3kovy0vAsAa/DlTrDwJwHC61okogQrA55Cjy8b6B8DxzApIdBIGwLThvvSUbQvA2InL8vdGBcAscswVCrYBwAvRUUPKHvu//UkegQEV9b/Ggikft32zP2uvpsERo+I/5SCr2CF76j/50EhngsPsP985ud1zcPQ/Hvc7Cg+3+T8K0u/efov5P92CJXjxcvc/hHWYdeUJ9j9lNHBGZZjzPxlKRdgzGdG/WZBr7aKG3T8QnDUXe5DhP/niSohaPuc/9fwUWXYS4z8/XH7UuyTeP1WqUlFdCsw/j8nPXdri6D++68J2IR/iPzLvjcftfdo//iGUBVjW9z/xxPcTjXj1P7i5mCrGFvo/EVMrgqsrAEDm01cJXKEDQLceDl0b6AVAljqqctrOCkB7MjV7jsIBQGAuRtKV2QFAlA9QS6XdA0BnkKIwdQoBQPK/fyuomwNAThQ5Rp+5+z8u3NZ6c5/yP05/j1N8OOA/w4uSNFSH4T/nirGNjPLCv/JHBLuZXuo/duccCqyk5D+2OpTkHXznPxatgpquv6g/crxmq/0p1b/FkOpaaRGzP8/sMBavRtQ/B9Y437A6xj/HfmeVSZK9vwyn8ubqC9O/EjINC3fQ4b8eb7kfGB/Pv9V0jcG+M/K/aSGJKkMC6r8HX+jESlDvv/33jeNhT+a/3Sy4VAdB77/98ChkHVTiv65IN/J8utW/yQl7hzR93r9Ms34xjDrjv5NYgjSqDe2/VjFxCHER379dNq1exnTuvwFQk3adruq/vTeHcQf8678TQx2XUXnivx9sppyON/C//9lBSR/08b+dKJ88+GXivznJMRfKF+K/5x1WKbWQwL+GbGzt86m3P+QLVK24j7o/uC1wUx+Cpz+MvGjje7XGv19W0VHiIOi/gx464lIJ4L+jQiN/Vq3jv7zvPXUXNO+/dGUFyy2E8L/ADumYovPsvxRQekHvUOe/ntxERxm0vz/IWla7VCLwPxAhZ7AI8+Q/t1Qe129c8j/yHy+gdSTxP7Y5vygDh/c/7YZJErf+/T/hQXUWJKD+P7y3IkmHzfs/tsNEQBZiAEAz34hr5ub7P202bFLkkPE/4IUjKMLR7j9y5Vd5/hLsP4k40m4Ex/U/CnPY1fYP+D9abxMKa/bzP/w4QCELleI/nMeiO+2kxj8eQnskC1CzP1y7fX6lms6/4LMtGIUh5L97owHzqg7mv/Y8HIbW/eK/Vpvt0i5t97+5zKbHkWL+v3PQfUCUOwPAzrc/9ZaD/r+CM8w11Fj4vyqPlHbWVvq/NPvYNT3j8r9HK0ePFVTvv2RxOrI7guW/qaJRC1bd9L/buXK1pt3jv/eNg5nAnOG/KgOwwG+O3D+riHJSDwvqP8RyYfd+mvI/AOGHZSDT+z9CHkArkmT9P/GQqtnuiQBAgA8hSLWIAEBtKG+K6lAGQJjqnQTsbgRA",
          "dtype": "f8"
         }
        },
        {
         "line": {
          "color": "rgb(227, 119, 194)",
          "width": 4
         },
         "mode": "lines",
         "name": "Image_17_sum_spike_rate.csv",
         "type": "scatter3d",
         "x": {
          "bdata": "L/i4SBhrFcC412ho+9QXwAjg7zcrEhrAsJe2sEpyG8C3+qeqmEobwO7GJsZmqhvAyU4M0SCbGsAq/ARpHd0YwBj+m6s9ShjAB5aYicB2GcCqgogpYYoVwIunkd+aXRPA8s4mAGzFEMBp2f/dWt0IwBitlTj0AwTAAj8w4PDk9r/IK3q14rDjv+wo6PmGc5I/bWHiT37u8D8jgYfnimn8P7X9HRh2DQJArLkyhNjPB0B9yo2efYMNQEGLRnzp7xBARFnDkTEhEEAUMghD0moMQBx81FQVMgpAk7OF/O0OBkAUb01pnQsDQKEfD4WwkwRAP4mxvzVdAECuZoan+NrzP1JGDy+RNuo/MX9aTwyT37/qsNkbRlTkvx63pLA6buC/2ksJsWFh9r9jOoZygEXxv4Bkha9Lw/C/lWbrnWid97/koW1zs/z9v4ftd9cTjfm/tF++jnG5+7+UG44ZDJr5vzPGXggk2Pe/uEPi9eBX/7+y+JgMOADzv7jBQaaHqvq/Y0WuYRkSAcAb+qSs/8oCwMggaWDfIwbAafQmcQbvCMDmtjlUum4NwF5axUFVKxDAQ9EZYirEEsDnGoYGV2kSwNNa0xmuZBTAUvyxqdnSFMDAaXQ4aFcVwDT4OQocmhLAIzv314JdEcC9aivIcUoLwDltuX9mkgTAjS0HGbkR+b9bkVos0KbyvxBbSWUi8uG/Mp032Agjyz8dE/CaOAjwP/H66Ppkrfs/vVrRqdY7+j8dD2n5IywFQA6Uyy89zwNA9agqpdCGBUCbJpQk1qIFQP5iWbZ6KwlA1FuipngyA0C2u82draoCQOs3XIEizANAk0/DLcZbAkDSM7svKaX+P2LD1OlzMvs/g9DJnP8F+j8oVp+K7n/1PzZ1ICNd2fE/XoWg3Onx7j85tPqoK2b3P2yfWYRtOeo/i53FSOvf2T/NLxonVl69P5gbYxJFTek//0zA6DFN3z91WkE3gUzSPxXkO89207A/EZOEAPyE178dsYErnTnkv0jrQKU/9Ou/qvJJq/834b8M4JOf2Q/uvzFJ57vZuOS/N7Q+fEA24L9ZYj8CDvDcv9oKq7lAZeW/1zz8kz1Q0L8gQsmM6U3SP+MIYO40stg/pqeU7rbp5z8peJvkFLztP6Xze7fERf0/G09RbDfpAEBuZF/3BGr/P2kX6N/dMwZA/WEzDnU5B0BLXGeahugJQH9PkPtV7QpA63zQUJpDDUDgYpT+Y1ILQAj5YI0ErA1Agp1Y1MOJCUAa3KeNHf0IQL5zb2U6uARA13utG0z8AUBCKZ+1KBj8P3PsgSM4cfA/oC+n5aZo7D8HoAawS9ntPzv5+mCnaPk/Hj2wQdu68D//7K2cZgLyPxK/BVYm0ek/rsgpeGIP8j9rOzmZuUDnP7gpeGQdtP4/n+SFI29QBECjd8krwzwGQF+hZe0YigZABBJ5k+AcBEB0p1T+S0YFQCh45Bgz1QRAfj3CcpXHA0CJno1ct+QHQK2fJMUh9wRAr1i9IrtrBEBsanxnEPf9P7bYxNapifg/XbCl3vMM+D9fIKLwbM/yP/lXuJr2NvQ/XVYpmi6H9T8FaCNKQcb6P1DIPL9AzOs/",
          "dtype": "f8"
         },
         "y": {
          "bdata": "tvTBVBQPvD/5vxDnmrngv5yQkYklusO/V/hhp4B+wT8u2Tx9ym/hv29XV12tmOi/v1ozfmJ+5b/fXMDPeHPkv88fGBPU+fe/wlyE3gy6/r931mCtLKUCwIyl9NDa6gPA3MPth56qCcAUL0ZhCnkMwCF5yRpM+QjAEbWNIV79CsAEIiy8SscOwFwhP0kP+xHA2ZeLrp9CEMD9fTjZoYURwD4aQU4+3xDAaVFM5i9ZDsDa3n4UKLoIwJ9wWpr+ugPAqnmCc976BMAj3a7dS/sCwPSyEXfWbQLAdlJZ8cD2AMBrVnJaTr/8v3J+IKA0Ffq/7TpAmkgO/r96VbqHwDIAwDibHD0qSQHAo8QKdIYqBcAkjQsEbwcBwNfxMdUb2gPA7QNjXzdgA8CmSLsQy/IAwGJQ3yhttvW/R16ChRe79r+3x46/BFG2vw/5hMuq4ZG/Lx/hd1Dp3T8X14FGtXXwP3/xyqcjD+s/UrQqUD8C/D938U/SlfgAQDLoGxeNIARAxfpB1Pr5/z8uopSXclMDQNBm1Tiwmfo/xU/OQs6lAEDUtj1W6637P8cdxzNShPg/CkQYO9dL9j/vP8YlN6XrPxfohA9N3uo/FxUy6bjE6T88i6XnLWHSP/gN/wTVauc/A+hIcW8Xyz+4njIyDUjJv4X9ZW+E0Ma/o/fc40QH078VYD/pDdXYv8sYOrZSadK/IzCbPfSExb+h4PFbhqHsv/bh076aWeK/JWPBS41G9r9Vl9Wpb4Hsv8IeG3Srqee/8xtrw8OB479mwnqFVlCzv8yPDebQbXm/FdwX2ibbuT9hXEim5JTgv8mOgJByWcG/dtz1WiA7mr+YhE70YjLRP9bS/ko6wNg/eCcauH1U3D/eTDoBrCbaP+rmS2QWB6E/YRFXjhOk7j95yhSVisLvP0Pe0lS7kvc/dDiwN04+/D+QnXSQab/5P4LItzXoAABAt3ABSy72AkB9Q2KTprwFQHZ4QKIyPwZAZfUNHCgmBkCazTn3x/QCQOigWKUNtANAy9231XOxA0B1N4+aPC0BQGNf7C18qgBAQ+MKVqyK9z8fNSUNepntP5v0+KEiO9w/wMkj7mPq6j/qeXC2iHjlP781CxBjZrG/Jls8OPQcyr9X1NgwyfPiv8TFrBo0ttK/E0boZYPO2z+0bPl9447VPxUbgnyOueY/JRFDOtW/4D92rQ5MlMHDv7buJ72nrpu/9lWY8kVO6D9Gi4x7gcbuP9F+TiM0tOo/yb0s/i6i2D/UwSzWMme4P/eUMIXik8c/+7SQzAl31T/cmJxgPuPZP58lVfSYfes/gi4v2NIM5z9x6Lc37yrsPwoM/qLMSNc/tOvEmpzp7j+F8zZtYM/tP0AEQTUHSPE/veVEV3FK8D/NOO0oiVDJPz4kj6iK6eA/aROsO/lI4T8H+8JZyIXmP7k5n4FB5L8/0Lj/diAE5T8ZTJ7d74LyP+AA6qHq6fU/SUqVt+/P4z/R0PToP2jzPx5QPddX1vg/tXjgS891/z+DAX+oDrH7P2w0X9u1Mfs/0wREGsUn/j9wE2RR88L9P/rUHHgKHOs/mM243xUC6T9ugfPGk4T4P6vOh5GOyvM/",
          "dtype": "f8"
         },
         "z": {
          "bdata": "ztceOqE5+z9GOEFNZgHzPyO5MI+7Ves/LQVblnKU5T/pZtgK96PzP7HXabKAgeQ/hF4CIokozT9s4yJk6GvcP2rj8BxKK+I/Uo3/eh3Rxj+TV8DRW0Lhv+i7AaJ8aN2/Uvl+Wh2P0794IR79LO3yv35WATp4OwDAVGFUfQFEBMBHi+rYZdcBwLDt9WVUkAXAQqhApJrpA8DUj5HxG4oCwCja9VRRIAPAANWjEfUjAcDVdVkv5fH/v0JbRJ9PR/C/xlHiku/2y79po98zTsLcP95k4Urv4fA/QzNM51r98j+wyjD/wojjP0lLlZq3ru4/uXvMt3lp9D+BmNVb0Vb4P/YGs3gCifk/ZljwAacQ+D+yAYTiLPXwP9Nhh+EFofY/xuuJQf+57j/DoGupfDTyPx8QCdOr0vc/3bB/L6/x7T/wgiXFke3UP9n+VDJ+wc2/8Mz15nO9zL//3OmJRP7gv1iIiOXqcNW/yKOXszlO678/MWboEgPyv4zRn+zdfPO/VJATZTDF/78wj+KGaov3v4n+9iG4tO+/8MtL+43B6b8jYAy9IELwvzfwPInlK/O/Mmm86KSB9b/W4qhgBkvbvzyu4eP98Ny/wZcsxQ3dxD/9Fazqnc/aPz+CfhAgReE/kfDk1Y4E3z8+USKTR1PePwQ910v2dPA/jp3QerAS9T8xabzncfP/Pzvnv302jgFASoXlxXIrBEBIgmV1nE3+P1xI0LTDLgVA+NpBVRwEB0DxfVq4BAsJQMFzNuZ6ggtAITl0SDP2C0CO4NZilicLQHV+HAcsUQVAskUotgU6/T8eq4G/FhwDQImzyek06AdAxHsP7vEqB0BtybRz6/UBQLK+rU5LCgBAGAjZ+cpZAUCTua9mk7f1P4JFqFh6Fvg/5EAtqGc89z9udqxNbyr8P0QaW2W0/uw/faBAzde7yD+ZvSbVOt/Qv5z18nG1x+M/CMGQbqnL5D+p0phG86rTPxrPNe3GqeE/w57qI/1jzT/106IWq93UP17sed5AM9S/NpWn2/xoxb9ByqzU3EnWv42tx22Ucdy/u+/+HXIn9r++8lKo9qL1v3TNl0cpVP2/k3L1nHfVAcDkum/cJPr9vw+uNs8MKwDAOt5xP0naAMDgFYSWnN8DwGqjmnejcgXAWar7XrZpBMC3nTwnjvEAwBteK9I/SgTAzFlLMQcg/L/yEEVrRsj8v4KHjmT7lgDAtUgWiOgj9b+QJYvaVLPSvxygJjuPBuS/AZrNZ4Uz4r9HkL72JfbGv7VtIjwJhuy/vOOvgdE5078QpLaLhunRv33f1tmrwa0/J185uH0lu7/by0svtyrgv28smDANoPO/wsfW7u2M67+xnEgz5AvSv/HF1b5qjOa/cOzodt0F0L8GXjTc24jVv+BSRi/1cvC/54nEHtdB5r/S3O/6b1fFv5SLBb6KLtq/I3mqk9cq1L/Yf0LYGbjkv5uWI2LPWeG/Qn4Ai4LK179jDEDLF4K0Pz4vpvP7ca6/ZjQ8uSu3yD/HHKWQsyq5v3i/gkc9ksa/OeNmykXRuT+dTpTiGZqwv+XurzIvZ9E/xOCMM/t047/3wL0hn1jpvx90SiWxQ/K/",
          "dtype": "f8"
         }
        },
        {
         "line": {
          "color": "rgb(127, 127, 127)",
          "width": 4
         },
         "mode": "lines",
         "name": "Image_18_sum_spike_rate.csv",
         "type": "scatter3d",
         "x": {
          "bdata": "HbQkDyzwFsAoNzB/KvgWwPwoL2pAqxbAL0yhBLOfFsDpWH1FfWsVwFCBO/RzqRTAJJ5yIFO1FsCxK3UUWG8WwI3CoH1OdRPALIbubPeEEsAlkKnaU4UQwJRUxddIOwrAGUfFlUzc/7/H7R2gGBLrv95Sd0Jwnt+/kgVpdjqT5D/5D8keLMH+PwkmtSrZHghAJZ3AByYIEUCDfQ/5qo4UQFf7uAJvxRVASpui0MR9FUCzWS0SEhgVQKasKxyrxRJAvgfIjVzMFEB+odgPx/4TQMD01yKRAxRAJqfpIP4aEEB2XyF8av8IQNcjTKcjxAlAIjnbLJOqCkAy5lGNQO4JQPxodnMOngRAP698rhy0A0CL3L8y2JoAQJH2SMWgEPA/IYKCYccz5z9E/rigPXLmPylmemBTyOI/6BBsvJxGnj+erT8xZBbqv0SNMartMuW/wXVM4g101L+JWqsqqf7XvwWtwy8fQdm/FRwaa4/ZuD9dJfZxZbrXP3R9z8uX5bs/NMbEicwWy7/42BCqHJLhv3GkUiH6JcO/3CslHQLs5L/iwS5S3/Xtvw+kvq5SnPC/Wt2Ve9hj+b8N0oN0/yD1v+VsQsw78ALAFApHxviV/784lYlD5a0AwNZW0Cf1WADAnTA30gSK/r/PiyguoHABwKGYbGxrYATA0EP9nFOwBcD7JY+6tLYDwJ0bZkWaDQTAzNKbxZAzAcCQthyoRG4BwDuJYcgaDvy/DZzBu6ZH+L+grRl/Ulf4v1ZKEx5Hiee/XRL2GoUo3r8x1ZgSuUWwP4uck+rEwd8/WgZea9Wg5D8/Mw9grwzxP08tEqurTPc/f5FW3sgb9D862kCyK370Px54FOwd9u4/q48KVOGE5D/vKqw6MiTaPwab4iwOPI6/9MPDyXeC3L/3XyhtUMnUv+pmnINVOeC/pGwnzpAs5r/Pd6Fcn0TVv8K/+SC9Z8O/vaN8Ukg3zj9pz2X20jXTP8ojhzZaG9w/m0X9bHlL3T+22UOF2z3qP7c39tuMZ+M/sWZe37Hl5T8W30rn4DzwP98C2R7MluQ/inOQBRUl6D8oVYCHC6HgP+vhHyg7A9w/cQT5tqe62j9BfoROdHPqP/upe+20Kec/TVWSk++g5j/yhf4KLzjaPxdGt692NeK/MDxYUQQC47/62JPssNPqv+OVcPTqIem/RzjJTgZf8r+kxCelOUD1vy7BhD70c/u/GE5HaCBx/b9QSW4/GuH9v1qmLdu59vq/eH2d/GiI9r/khFegTQPzv61aEUGLv/K/qa8XVphU6r+cslesXhXhv7hzZXC5R8U/ChUircfM8D/lwr878lX2P8VNvGaeX/I/6MSnnHzJ9j9SUZzvl6T0P3hw/ESzlvc/Fknyi39a8T8h4v5Rnj/tP4Gq606B6dg/tVaG7yLiwT/QxV+A/1Hmv++9HUA+WO2/CgslWW6G4L+XXgIlRJfUv1HFqi4FANc/R34tJ5F8sj9+6PupwvjwP8WNXVlkzfQ/ezgqBJXDAUCSxmASFCEBQKtH7KKk2AhAc55ZWVAwCUAjRGGMxJsCQN0wqEyvW/4/iXUgf/1X9j9kzylAzmn8P1Bx7IEj3vI/",
          "dtype": "f8"
         },
         "y": {
          "bdata": "vTs6qHa9AEDNsHF6i079PwMsz8jUlPs/6l/TNOep/j81G0crPLn3P/TY8940SPY/wdsncskK9z8e+ocTUDnzP2TWLpggoPw/5MihSIiq+z9Saz4nKzrzP6foQgV0WvQ/EJV0xm8W5j8sshNDK6ziP8Vkz+NsI+4/mnfWmfPR7T9hoqjpqIPuP+0YbVAsd/Q/7w/5Z97N8D8raodoaY3tPweJVXu+E/Y/5MqpsSLN9D89nd8I5W78P/o+9Z75QQBAKNa9RVHbAUDsQDLWz8gCQC09UoaYpgZAqfGv6N1KBUBJTFNX6IUJQLMeVwxa8wdACdp1Uo/wBED08mT+8gwIQIly/SRznwpA03ZxzMVDDkDa14PacdYJQAaIaMmIBApAsrwVOnHvBkBw/qb4cdoHQMoOdLyqrAVAlTgEmGRxCEDHzrN2WowIQBwzKirpdgNAgMX8KiVf/z9Aai4QyETzP5DwqcSuMvs/EBxQLnrZ+T8hoLvYoc/3P7DGsttH8fA/Xk0mVRBX7T+Ui4bqEC7mP5M8MtEaYNo/HMJZJ2q55T9azJFK4fXaPwk0hsCsetI/cCIlsDY+cD+DNAmYZ+niv0+9bCRH5uu/6lNWm38r3b/FRiBy31LQv2zfEvZXQcW/Vz6EJjeo2z9VY1W9z8/jP2a6XAfyeuI/qMN6DhSs8z+tXJubjuvuPzY+7lqPBvk/+odNl/dGAUCJ4p5NUBUBQL/wg9oRs/o/R2htGHq0+D/RMEmBdWXzP1u4o6wyMu4/9P+bfeHi5z8A/bIFV93FP4vgmRHMh+E/gwzBQsLC7D8qZZ5sPLPhPyFhKGtw1+c/s+EZBJEO6z+LUtFIvGLyP4fB60BMivM/Q5RHV7Fg9T9y2HEgS5D5Pyd7mHePUvo/psSPKKXc8D8omNpy0j3WP0o6E+DeHOM/80I1mOAMxj8CvbUHGznWP2IC36pkesq/k/+/gJ9o5L8ycmVbrl3wvyXdyFdmWem/aq1iy8pQ5b92dTkvWYvrv14cmbpP8O+/CPAOkckh+7+M2o0eqbwAwJZPSuah2QTABXc44MqmBsDzF6lY7IIGwBCyEWcVIwbAAl7G85LUCcDguOHZ+KMOwPO446RNwgzAxIbvgQLUDMASPDPemu8LwG7tQOLnpw3AZUTt3E1BCsCKb2OlSBgHwOqZ7XEgKAXAzERzhZKABsBx1n9wkq8FwIGg/EAUrAbAjUPXRRxeB8ABWh1S1tEGwGJHTXv/GQPA/1MJFQm0+r9dPW5vpQUAwHZLphTvGQHA7LnFwzL9AcAV9szYyTgCwKRlF64eigLANTQTk9zw/r+8WOSNpPz/v03W9SK8N/+/tZavtBp9/b84Wwd2lAUAwL3FR4r04vq/u+lSH1Bc/79EOUiQ0jT9v5o71xICvu+/q/twh45/8L+VmDu5hh7uvyJQ3mqxEuC/BD5d3+p55r88th3KzdXsv2Gv/cws2vS/uTnTgEZm/b+P8VhANJ/1v1DMkgxQTfi/2+TOIVuJAMAcZ9XI7JMBwIKyaWcswALALd9KUOAkBMB75n4x2kgCwKbOnLAnqgDAdacgW5mc/b9f0sK7XuX6v7Q0L5IgZf6/",
          "dtype": "f8"
         },
         "z": {
          "bdata": "l7ClTRBxAsBpyeq2frj7vyJiojE5iP2/FQFZcvVKBMDuhQFw8+AFwAok90NlwQHAx4bkJpAsAMDPpqeohKgDwJwZBJ6QoQLAdFY+ch1hAcBfvyO3Y+8DwMe4VDYFGwvAnXOGJRl2DMByjfMhLCgMwN/Rw5oODAzAUYIpzJTNDcDOaFkwD2IPwJBWAhCHbA7Agt+Z8We+DsD243EXm/YNwERE+O/hVgzAC+keD94WBsCPVaJGGiADwL+Tjy9kygDA6d7EkGr+9r9vsTVPyELwv/bAISMzIMy/lTKZZnr737+qNU7KDjPNv3j9jNun4+O/qEx2mjHk5L9HG7QJyazwv+lzFu09S/G/YrHlrOTP67/5T3dZBDjsv+nYVTwlbu+/Y0tQ/PFn878yehVzqqXQvxDSH9ti0N2/bKs30p0byz/lWEjE94nTP8HOV+TshOk/f2E8qyxt9D8GZx8UPdn1P1CLMmazi/g/713NTepP9z80XBM0Gu/4P/0FGFkxEPc/nRxX2UIZ/D+D+kvvGKj7P7sRNSqtrgNAUpYBewpkBkBGDvQwTFwDQDsggnP/UQVAtpl76FOq/T82zuhBJ2n6P3d5vbRl1fI//p+rw8p27z8stblKleDjP4T/C/6B0uM/YvoYrQuG2T9DWiwp0m+/P4DW5+QpJJW/yxnVgWNxvb8KlmbjCTHdPwAi1WSgfvM/BSA6O/2++j93x5kdzG3+PxyJbGIZfv0/UJIxYqc39z8xi5vuEmr0PxhhAmFGFfk/KL8X5QkBAUBZzERY0EUDQH8cBTIWjQFAGIGeoovcBEAt4yzX3DIGQCWlTjnhmAVAl+Ck2ghDB0AU+w6+OEsMQDaqaQRoZAxAQ9kTbN7OBkDx4uKW8YEFQIa6seXbygBAlj8qJXidA0DNUdC0JF/+P30jh4ImWgFAzZt3GaMLBEA6JjAQ6pICQBrCuppCaQBAiKH8muFlAUCjxur8wpcAQLG7hEIiiPo/IYg9CvKk9z/q4E0MzQLwPyGfB+EgBuY/G4eMZNNy0r+sXB+lgA3hv9uUttuiwOS/tZN32r1D8b+YJbpqdIb3vz2mGHQF9Pe/3ESe2B+09r+tNWdnw0j3v/c8g/qjpPe/mo7kHamC9L80uvZH8W/ov8HkETHopPa/4Gha+ULd8L9cUzfrJQf0v0AN7Z8zEfG/hHLbC+GL6L82WcFFV2Pqv+6rt0rTAOy/fvEn/xLH5b9sQwIBqjLcv3RfLIyGN+K/FNJiMHr30r8/hiIpZOq0v7gYTqSyLNA/dznU3Sgvyz+wv55llgzSP/hykTbID90/XM9DGkF73j+6MZWRgnvOPw3UsVX0h8s/3RWXXuFWhz9YeNAOSdrLP8o4W4X98cY/+A+LswZlvb9/YT23BYnXv2R0TUWputy/Xp94qhjr4b+JsOhofUzMvyUMD7vmotO/+/7yfhup47+C+uLC1zzJv7YTFSMCu9y/65gv+NfC8L/KIRN2U+Dpv8NEXkXPeJo/sLsy8Sf3eb9gEtBn0qC6P8nCTgCc4HO/kH1QvCxj5j/tSm73QE/iP7Dmh/TGpfE/I/hSQFvb7z89I5qZZOn1P5mp31qvpPs/",
          "dtype": "f8"
         }
        }
       ],
       "layout": {
        "scene": {
         "bgcolor": "white",
         "xaxis": {
          "backgroundcolor": "white",
          "gridcolor": "white",
          "showgrid": false,
          "title": {
           "text": "X Axis"
          }
         },
         "yaxis": {
          "backgroundcolor": "white",
          "gridcolor": "white",
          "showgrid": false,
          "title": {
           "text": "Y Axis"
          }
         },
         "zaxis": {
          "backgroundcolor": "white",
          "gridcolor": "white",
          "showgrid": false,
          "title": {
           "text": "Z Axis"
          }
         }
        },
        "template": {
         "data": {
          "bar": [
           {
            "error_x": {
             "color": "#2a3f5f"
            },
            "error_y": {
             "color": "#2a3f5f"
            },
            "marker": {
             "line": {
              "color": "#E5ECF6",
              "width": 0.5
             },
             "pattern": {
              "fillmode": "overlay",
              "size": 10,
              "solidity": 0.2
             }
            },
            "type": "bar"
           }
          ],
          "barpolar": [
           {
            "marker": {
             "line": {
              "color": "#E5ECF6",
              "width": 0.5
             },
             "pattern": {
              "fillmode": "overlay",
              "size": 10,
              "solidity": 0.2
             }
            },
            "type": "barpolar"
           }
          ],
          "carpet": [
           {
            "aaxis": {
             "endlinecolor": "#2a3f5f",
             "gridcolor": "white",
             "linecolor": "white",
             "minorgridcolor": "white",
             "startlinecolor": "#2a3f5f"
            },
            "baxis": {
             "endlinecolor": "#2a3f5f",
             "gridcolor": "white",
             "linecolor": "white",
             "minorgridcolor": "white",
             "startlinecolor": "#2a3f5f"
            },
            "type": "carpet"
           }
          ],
          "choropleth": [
           {
            "colorbar": {
             "outlinewidth": 0,
             "ticks": ""
            },
            "type": "choropleth"
           }
          ],
          "contour": [
           {
            "colorbar": {
             "outlinewidth": 0,
             "ticks": ""
            },
            "colorscale": [
             [
              0,
              "#0d0887"
             ],
             [
              0.1111111111111111,
              "#46039f"
             ],
             [
              0.2222222222222222,
              "#7201a8"
             ],
             [
              0.3333333333333333,
              "#9c179e"
             ],
             [
              0.4444444444444444,
              "#bd3786"
             ],
             [
              0.5555555555555556,
              "#d8576b"
             ],
             [
              0.6666666666666666,
              "#ed7953"
             ],
             [
              0.7777777777777778,
              "#fb9f3a"
             ],
             [
              0.8888888888888888,
              "#fdca26"
             ],
             [
              1,
              "#f0f921"
             ]
            ],
            "type": "contour"
           }
          ],
          "contourcarpet": [
           {
            "colorbar": {
             "outlinewidth": 0,
             "ticks": ""
            },
            "type": "contourcarpet"
           }
          ],
          "heatmap": [
           {
            "colorbar": {
             "outlinewidth": 0,
             "ticks": ""
            },
            "colorscale": [
             [
              0,
              "#0d0887"
             ],
             [
              0.1111111111111111,
              "#46039f"
             ],
             [
              0.2222222222222222,
              "#7201a8"
             ],
             [
              0.3333333333333333,
              "#9c179e"
             ],
             [
              0.4444444444444444,
              "#bd3786"
             ],
             [
              0.5555555555555556,
              "#d8576b"
             ],
             [
              0.6666666666666666,
              "#ed7953"
             ],
             [
              0.7777777777777778,
              "#fb9f3a"
             ],
             [
              0.8888888888888888,
              "#fdca26"
             ],
             [
              1,
              "#f0f921"
             ]
            ],
            "type": "heatmap"
           }
          ],
          "histogram": [
           {
            "marker": {
             "pattern": {
              "fillmode": "overlay",
              "size": 10,
              "solidity": 0.2
             }
            },
            "type": "histogram"
           }
          ],
          "histogram2d": [
           {
            "colorbar": {
             "outlinewidth": 0,
             "ticks": ""
            },
            "colorscale": [
             [
              0,
              "#0d0887"
             ],
             [
              0.1111111111111111,
              "#46039f"
             ],
             [
              0.2222222222222222,
              "#7201a8"
             ],
             [
              0.3333333333333333,
              "#9c179e"
             ],
             [
              0.4444444444444444,
              "#bd3786"
             ],
             [
              0.5555555555555556,
              "#d8576b"
             ],
             [
              0.6666666666666666,
              "#ed7953"
             ],
             [
              0.7777777777777778,
              "#fb9f3a"
             ],
             [
              0.8888888888888888,
              "#fdca26"
             ],
             [
              1,
              "#f0f921"
             ]
            ],
            "type": "histogram2d"
           }
          ],
          "histogram2dcontour": [
           {
            "colorbar": {
             "outlinewidth": 0,
             "ticks": ""
            },
            "colorscale": [
             [
              0,
              "#0d0887"
             ],
             [
              0.1111111111111111,
              "#46039f"
             ],
             [
              0.2222222222222222,
              "#7201a8"
             ],
             [
              0.3333333333333333,
              "#9c179e"
             ],
             [
              0.4444444444444444,
              "#bd3786"
             ],
             [
              0.5555555555555556,
              "#d8576b"
             ],
             [
              0.6666666666666666,
              "#ed7953"
             ],
             [
              0.7777777777777778,
              "#fb9f3a"
             ],
             [
              0.8888888888888888,
              "#fdca26"
             ],
             [
              1,
              "#f0f921"
             ]
            ],
            "type": "histogram2dcontour"
           }
          ],
          "mesh3d": [
           {
            "colorbar": {
             "outlinewidth": 0,
             "ticks": ""
            },
            "type": "mesh3d"
           }
          ],
          "parcoords": [
           {
            "line": {
             "colorbar": {
              "outlinewidth": 0,
              "ticks": ""
             }
            },
            "type": "parcoords"
           }
          ],
          "pie": [
           {
            "automargin": true,
            "type": "pie"
           }
          ],
          "scatter": [
           {
            "fillpattern": {
             "fillmode": "overlay",
             "size": 10,
             "solidity": 0.2
            },
            "type": "scatter"
           }
          ],
          "scatter3d": [
           {
            "line": {
             "colorbar": {
              "outlinewidth": 0,
              "ticks": ""
             }
            },
            "marker": {
             "colorbar": {
              "outlinewidth": 0,
              "ticks": ""
             }
            },
            "type": "scatter3d"
           }
          ],
          "scattercarpet": [
           {
            "marker": {
             "colorbar": {
              "outlinewidth": 0,
              "ticks": ""
             }
            },
            "type": "scattercarpet"
           }
          ],
          "scattergeo": [
           {
            "marker": {
             "colorbar": {
              "outlinewidth": 0,
              "ticks": ""
             }
            },
            "type": "scattergeo"
           }
          ],
          "scattergl": [
           {
            "marker": {
             "colorbar": {
              "outlinewidth": 0,
              "ticks": ""
             }
            },
            "type": "scattergl"
           }
          ],
          "scattermap": [
           {
            "marker": {
             "colorbar": {
              "outlinewidth": 0,
              "ticks": ""
             }
            },
            "type": "scattermap"
           }
          ],
          "scattermapbox": [
           {
            "marker": {
             "colorbar": {
              "outlinewidth": 0,
              "ticks": ""
             }
            },
            "type": "scattermapbox"
           }
          ],
          "scatterpolar": [
           {
            "marker": {
             "colorbar": {
              "outlinewidth": 0,
              "ticks": ""
             }
            },
            "type": "scatterpolar"
           }
          ],
          "scatterpolargl": [
           {
            "marker": {
             "colorbar": {
              "outlinewidth": 0,
              "ticks": ""
             }
            },
            "type": "scatterpolargl"
           }
          ],
          "scatterternary": [
           {
            "marker": {
             "colorbar": {
              "outlinewidth": 0,
              "ticks": ""
             }
            },
            "type": "scatterternary"
           }
          ],
          "surface": [
           {
            "colorbar": {
             "outlinewidth": 0,
             "ticks": ""
            },
            "colorscale": [
             [
              0,
              "#0d0887"
             ],
             [
              0.1111111111111111,
              "#46039f"
             ],
             [
              0.2222222222222222,
              "#7201a8"
             ],
             [
              0.3333333333333333,
              "#9c179e"
             ],
             [
              0.4444444444444444,
              "#bd3786"
             ],
             [
              0.5555555555555556,
              "#d8576b"
             ],
             [
              0.6666666666666666,
              "#ed7953"
             ],
             [
              0.7777777777777778,
              "#fb9f3a"
             ],
             [
              0.8888888888888888,
              "#fdca26"
             ],
             [
              1,
              "#f0f921"
             ]
            ],
            "type": "surface"
           }
          ],
          "table": [
           {
            "cells": {
             "fill": {
              "color": "#EBF0F8"
             },
             "line": {
              "color": "white"
             }
            },
            "header": {
             "fill": {
              "color": "#C8D4E3"
             },
             "line": {
              "color": "white"
             }
            },
            "type": "table"
           }
          ]
         },
         "layout": {
          "annotationdefaults": {
           "arrowcolor": "#2a3f5f",
           "arrowhead": 0,
           "arrowwidth": 1
          },
          "autotypenumbers": "strict",
          "coloraxis": {
           "colorbar": {
            "outlinewidth": 0,
            "ticks": ""
           }
          },
          "colorscale": {
           "diverging": [
            [
             0,
             "#8e0152"
            ],
            [
             0.1,
             "#c51b7d"
            ],
            [
             0.2,
             "#de77ae"
            ],
            [
             0.3,
             "#f1b6da"
            ],
            [
             0.4,
             "#fde0ef"
            ],
            [
             0.5,
             "#f7f7f7"
            ],
            [
             0.6,
             "#e6f5d0"
            ],
            [
             0.7,
             "#b8e186"
            ],
            [
             0.8,
             "#7fbc41"
            ],
            [
             0.9,
             "#4d9221"
            ],
            [
             1,
             "#276419"
            ]
           ],
           "sequential": [
            [
             0,
             "#0d0887"
            ],
            [
             0.1111111111111111,
             "#46039f"
            ],
            [
             0.2222222222222222,
             "#7201a8"
            ],
            [
             0.3333333333333333,
             "#9c179e"
            ],
            [
             0.4444444444444444,
             "#bd3786"
            ],
            [
             0.5555555555555556,
             "#d8576b"
            ],
            [
             0.6666666666666666,
             "#ed7953"
            ],
            [
             0.7777777777777778,
             "#fb9f3a"
            ],
            [
             0.8888888888888888,
             "#fdca26"
            ],
            [
             1,
             "#f0f921"
            ]
           ],
           "sequentialminus": [
            [
             0,
             "#0d0887"
            ],
            [
             0.1111111111111111,
             "#46039f"
            ],
            [
             0.2222222222222222,
             "#7201a8"
            ],
            [
             0.3333333333333333,
             "#9c179e"
            ],
            [
             0.4444444444444444,
             "#bd3786"
            ],
            [
             0.5555555555555556,
             "#d8576b"
            ],
            [
             0.6666666666666666,
             "#ed7953"
            ],
            [
             0.7777777777777778,
             "#fb9f3a"
            ],
            [
             0.8888888888888888,
             "#fdca26"
            ],
            [
             1,
             "#f0f921"
            ]
           ]
          },
          "colorway": [
           "#636efa",
           "#EF553B",
           "#00cc96",
           "#ab63fa",
           "#FFA15A",
           "#19d3f3",
           "#FF6692",
           "#B6E880",
           "#FF97FF",
           "#FECB52"
          ],
          "font": {
           "color": "#2a3f5f"
          },
          "geo": {
           "bgcolor": "white",
           "lakecolor": "white",
           "landcolor": "#E5ECF6",
           "showlakes": true,
           "showland": true,
           "subunitcolor": "white"
          },
          "hoverlabel": {
           "align": "left"
          },
          "hovermode": "closest",
          "mapbox": {
           "style": "light"
          },
          "paper_bgcolor": "white",
          "plot_bgcolor": "#E5ECF6",
          "polar": {
           "angularaxis": {
            "gridcolor": "white",
            "linecolor": "white",
            "ticks": ""
           },
           "bgcolor": "#E5ECF6",
           "radialaxis": {
            "gridcolor": "white",
            "linecolor": "white",
            "ticks": ""
           }
          },
          "scene": {
           "xaxis": {
            "backgroundcolor": "#E5ECF6",
            "gridcolor": "white",
            "gridwidth": 2,
            "linecolor": "white",
            "showbackground": true,
            "ticks": "",
            "zerolinecolor": "white"
           },
           "yaxis": {
            "backgroundcolor": "#E5ECF6",
            "gridcolor": "white",
            "gridwidth": 2,
            "linecolor": "white",
            "showbackground": true,
            "ticks": "",
            "zerolinecolor": "white"
           },
           "zaxis": {
            "backgroundcolor": "#E5ECF6",
            "gridcolor": "white",
            "gridwidth": 2,
            "linecolor": "white",
            "showbackground": true,
            "ticks": "",
            "zerolinecolor": "white"
           }
          },
          "shapedefaults": {
           "line": {
            "color": "#2a3f5f"
           }
          },
          "ternary": {
           "aaxis": {
            "gridcolor": "white",
            "linecolor": "white",
            "ticks": ""
           },
           "baxis": {
            "gridcolor": "white",
            "linecolor": "white",
            "ticks": ""
           },
           "bgcolor": "#E5ECF6",
           "caxis": {
            "gridcolor": "white",
            "linecolor": "white",
            "ticks": ""
           }
          },
          "title": {
           "x": 0.05
          },
          "xaxis": {
           "automargin": true,
           "gridcolor": "white",
           "linecolor": "white",
           "ticks": "",
           "title": {
            "standoff": 15
           },
           "zerolinecolor": "white",
           "zerolinewidth": 2
          },
          "yaxis": {
           "automargin": true,
           "gridcolor": "white",
           "linecolor": "white",
           "ticks": "",
           "title": {
            "standoff": 15
           },
           "zerolinecolor": "white",
           "zerolinewidth": 2
          }
         }
        },
        "title": {
         "text": "3D Line Plots from Dictionary"
        }
       }
      }
     },
     "metadata": {},
     "output_type": "display_data"
    }
   ],
   "source": [
    "import plotly.graph_objects as go\n",
    "import numpy as np\n",
    "\n",
    "fig = go.Figure()\n",
    "\n",
    "colors = ['rgb(31, 119, 180)', 'rgb(255, 127, 14)', 'rgb(44, 160, 44)', 'rgb(214, 39, 40)', \n",
    "          'rgb(148, 103, 189)', 'rgb(140, 86, 75)', 'rgb(227, 119, 194)', 'rgb(127, 127, 127)', \n",
    "          'rgb(188, 189, 34)', 'rgb(23, 190, 207)']\n",
    "\n",
    "for i, (key, matrix) in enumerate(data_pca_dict.items()):\n",
    "    color = colors[i % len(colors)]\n",
    "    \n",
    "    x = matrix[:, 0]\n",
    "    y = matrix[:, 1]\n",
    "    z = matrix[:, 2]\n",
    "    \n",
    "    fig.add_trace(go.Scatter3d(\n",
    "        x=x,\n",
    "        y=y,\n",
    "        z=z,\n",
    "        mode='lines',\n",
    "        line=dict(color=color, width=4),\n",
    "        name=key\n",
    "    ))\n",
    "\n",
    "fig.update_layout(\n",
    "    title='3D Line Plots from Dictionary',\n",
    "    scene=dict(\n",
    "        xaxis_title='X Axis',\n",
    "        yaxis_title='Y Axis',\n",
    "        zaxis_title='Z Axis',\n",
    "        xaxis=dict(showgrid=False, gridcolor='white', backgroundcolor='white'),\n",
    "        yaxis=dict(showgrid=False, gridcolor='white', backgroundcolor='white'),\n",
    "        zaxis=dict(showgrid=False, gridcolor='white', backgroundcolor='white'),\n",
    "        bgcolor='white' \n",
    "    )\n",
    ")\n",
    "\n",
    "\n",
    "fig.show()"
   ]
  },
  {
   "cell_type": "code",
   "execution_count": 507,
   "metadata": {},
   "outputs": [],
   "source": [
    "pc_ratio_1 = pd.read_csv(\"/media/ubuntu/sda/data/mouse6/output_grating/03_single_neuron/Static/processed_data/pc_ratio_phase1.csv\", index_col=0)\n",
    "pc_ratio_2 = pd.read_csv(\"/media/ubuntu/sda/data/mouse6/output_grating/03_single_neuron/Static/processed_data/pc_ratio_phase2.csv\", index_col=0)"
   ]
  },
  {
   "cell_type": "code",
   "execution_count": 519,
   "metadata": {},
   "outputs": [],
   "source": [
    "with PdfPages('neuron_model/pc_ration_phase12.pdf') as pdf:\n",
    "    plt.figure(figsize=(3,2))\n",
    "    sns.lineplot(x = range(10),\n",
    "                 y = pc_ratio_1['0'],\n",
    "                 color = '#F0868C',\n",
    "                 linewidth = 3)\n",
    "    sns.lineplot(x = range(10),\n",
    "                 y = pc_ratio_2['0'],\n",
    "                 color = '#70A5D9',\n",
    "                 linewidth = 3)\n",
    "    plt.yticks([])\n",
    "    plt.xticks([])\n",
    "    plt.ylim(0, 1.1)\n",
    "    plt.ylabel(\"\")\n",
    "    pdf.savefig()\n",
    "    plt.close()"
   ]
  },
  {
   "cell_type": "code",
   "execution_count": 524,
   "metadata": {},
   "outputs": [],
   "source": [
    "a = np.load(\"/media/ubuntu/sda/data/mouse6/output/04_get_neuron_channel/segmentation_raw/seg_012123_1_3.npy\")"
   ]
  },
  {
   "cell_type": "code",
   "execution_count": 525,
   "metadata": {},
   "outputs": [
    {
     "data": {
      "text/plain": [
       "(5000, 30)"
      ]
     },
     "execution_count": 525,
     "metadata": {},
     "output_type": "execute_result"
    }
   ],
   "source": [
    "a.shape"
   ]
  }
 ],
 "metadata": {
  "kernelspec": {
   "display_name": "Python 3",
   "language": "python",
   "name": "python3"
  },
  "language_info": {
   "codemirror_mode": {
    "name": "ipython",
    "version": 3
   },
   "file_extension": ".py",
   "mimetype": "text/x-python",
   "name": "python",
   "nbconvert_exporter": "python",
   "pygments_lexer": "ipython3",
   "version": "3.13.2"
  }
 },
 "nbformat": 4,
 "nbformat_minor": 2
}
