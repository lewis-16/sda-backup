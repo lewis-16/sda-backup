{
 "cells": [
  {
   "cell_type": "code",
   "execution_count": 36,
   "metadata": {},
   "outputs": [],
   "source": [
    "import numpy as np\n",
    "import pandas as pd\n",
    "import seaborn as sns\n",
    "import warnings\n",
    "warnings.filterwarnings('ignore')\n",
    "import spikeinterface as si\n",
    "import matplotlib.pyplot as plt\n",
    "import os\n",
    "from matplotlib.backends.backend_pdf import PdfPages\n",
    "import torch\n",
    "import torch.nn.functional as F\n"
   ]
  },
  {
   "cell_type": "code",
   "execution_count": 37,
   "metadata": {},
   "outputs": [],
   "source": [
    "used_neurons = ['Neuron_2', 'Neuron_3', \"Neuron_4\", \"Neuron_5\", \"Neuron_6\", \"Neuron_8\", \"Neuron_10\",\n",
    "                  'Neuron_7', 'Neuron_9', 'Neuron_12', \"Neuron_14\",\n",
    "                  'Neuron_16', \"Neuron_17\", \"Neuron_18\",\n",
    "                  \"Neuron_19\", \"Neuron_20\", 'Neuron_21', 'Neuron_22',\n",
    "                  \"Neuron_23\", \"Neuron_24\", \"Neuron_25\"]\n",
    "\n",
    "spike_inf = pd.read_csv(\"/media/ubuntu/sda/data/mouse6/output_grating/02_merge_new/spike_inf_refinhe.tsv\", sep = '\\t')\n",
    "cluster_inf = pd.read_csv(\"/media/ubuntu/sda/data/mouse6/output_grating/02_merge_new/clusteri_inf_refinhe.tsv\", sep = '\\t')"
   ]
  },
  {
   "cell_type": "code",
   "execution_count": 38,
   "metadata": {},
   "outputs": [],
   "source": [
    "trigger_time = pd.read_csv(\"/media/ubuntu/sda/data/mouse6/output_grating/01_get_trigger/trigger_time_dynamic.tsv\", sep = '\\t').iloc[:, 1:]\n",
    "\n",
    "import pickle\n",
    "with open('/media/ubuntu/sda/data/mouse6/output_grating/02_merge_new/outlier_dynamic.pkl', 'rb') as f:\n",
    "    outlier = pickle.load(f)\n"
   ]
  },
  {
   "cell_type": "code",
   "execution_count": 39,
   "metadata": {},
   "outputs": [],
   "source": [
    "trigger_time['start'] = trigger_time['start'] + 10000\n",
    "trigger_time['expand_end'] = trigger_time['start'] + 25000\n",
    "trigger_time['end'] = trigger_time['start'] + 20000\n",
    "trigger_time['expand_start'] = trigger_time['start'] - 5000"
   ]
  },
  {
   "cell_type": "code",
   "execution_count": 40,
   "metadata": {},
   "outputs": [],
   "source": [
    "for i in outlier:\n",
    "    date = i.split(\"_\")[0]\n",
    "    image = i.split(\"_\")[1] + \"_\" + i.split(\"_\")[2]\n",
    "    trigger_time = trigger_time[~((trigger_time['date'] == int(date)) & (trigger_time['order'] == image))]"
   ]
  },
  {
   "cell_type": "code",
   "execution_count": 41,
   "metadata": {},
   "outputs": [],
   "source": [
    "date_order = ['021322',  '022522', '031722', '042422', '052422', '062422', '072322', '082322', '092422', '102122', '112022', '022223', '032123', '042323']"
   ]
  },
  {
   "cell_type": "code",
   "execution_count": 7,
   "metadata": {},
   "outputs": [],
   "source": [
    "with PdfPages(\"raster_overall.pdf\") as pdf:\n",
    "    for neuron in spike_inf['Neuron'].unique():\n",
    "        neuron_df = spike_inf[spike_inf['Neuron'] == neuron]\n",
    "\n",
    "        fig, ax = plt.subplots(figsize = (12, 7.5))\n",
    "\n",
    "        for index, row in trigger_time.iterrows():\n",
    "            date = row['date']\n",
    "            image_order = row['order']\n",
    "            start = row['expand_start'] \n",
    "            end = row['expand_end']\n",
    "            \n",
    "            filtered_spikes = neuron_df[(neuron_df['date'] == date) & \n",
    "                                        (neuron_df['time'] >= start) & \n",
    "                                        (neuron_df['time'] <= end)]\n",
    "            \n",
    "            if not filtered_spikes.empty:\n",
    "                ax.plot(filtered_spikes['time'] - start, [index] * len(filtered_spikes), marker='|', mew=1, markersize=3, ls='', color='k')\n",
    "\n",
    "        ax.set_yticks([])\n",
    "        #ax.axvspan(1 + (5000 - 1) * 0.5, 1 + (5000 - 1), color='gray', alpha=0.3)\n",
    "\n",
    "        ax.set_xlabel('time (s)')\n",
    "        ax.set_ylabel(\"\")\n",
    "        ax.set_title(f'Raster Plot for {neuron}')\n",
    "\n",
    "        pdf.savefig(fig)\n",
    "        plt.close()"
   ]
  },
  {
   "cell_type": "code",
   "execution_count": 24,
   "metadata": {},
   "outputs": [],
   "source": [
    "with PdfPages(\"raster_split_image.pdf\") as pdf:\n",
    "    for neuron in spike_inf['Neuron'].unique():\n",
    "        neuron_df = spike_inf[spike_inf['Neuron'] == neuron]\n",
    "\n",
    "\n",
    "        fig, axs = plt.subplots(3, 4, figsize=(20, 15), sharex=True, sharey=True)\n",
    "        fig.subplots_adjust(hspace=0.5, wspace=0.5)\n",
    "\n",
    "        for image in range(1, 13):  \n",
    "            ax = axs[(image - 1) // 4, (image - 1) % 4]  \n",
    "            trigger_time_temp = trigger_time[trigger_time['image'] == image]\n",
    "\n",
    "            for index, row in trigger_time_temp.iterrows():\n",
    "                date = row['date']\n",
    "                image_order = row['order']\n",
    "                start = row['expand_start'] \n",
    "                end = row['expand_end'] \n",
    "\n",
    "                filtered_spikes = neuron_df[(neuron_df['date'] == date) & \n",
    "                                            (neuron_df['time'] >= start) & \n",
    "                                            (neuron_df['time'] <= end)]\n",
    "\n",
    "                if not filtered_spikes.empty:\n",
    "                    ax.plot(filtered_spikes['time'] - start, [index] * len(filtered_spikes), \n",
    "                            marker='|', mew=1, markersize=3, ls='', color='k')\n",
    "\n",
    "\n",
    "            ax.set_xticks([])\n",
    "            ax.set_yticks([])\n",
    "\n",
    "        pdf.savefig(fig)\n",
    "        plt.close()"
   ]
  },
  {
   "cell_type": "code",
   "execution_count": 15,
   "metadata": {},
   "outputs": [],
   "source": [
    "mean_spike_rate_dict = {}\n",
    "\n",
    "with PdfPages(\"peth_lineplot_all.pdf\") as pdf:\n",
    "    for neuron in spike_inf['Neuron'].unique():\n",
    "        plt.figure(figsize=(4, 2.5))\n",
    "        spike_rates_all = np.empty((99))\n",
    "\n",
    "        for image in range(1, 13):\n",
    "            neuron_df = spike_inf[spike_inf['Neuron'] == neuron]\n",
    "\n",
    "            dates = trigger_time[trigger_time['image'] == image]['date'].unique()\n",
    "            date_indices = np.arange(len(dates))  \n",
    "\n",
    "            spike_rates = []\n",
    "            std_rates = []\n",
    "\n",
    "            for date in dates:\n",
    "                trigger_time_temp = trigger_time[(trigger_time['image'] == image) & (trigger_time['date'] == date)]\n",
    "                all_spikes = []\n",
    "\n",
    "                for index, row in trigger_time_temp.iterrows():\n",
    "                    start = row['expand_start'] \n",
    "                    end = row['expand_end']\n",
    "\n",
    "                    filtered_spikes = neuron_df[(neuron_df['date'] == date) &\n",
    "                                                (neuron_df['time'] >= start) &\n",
    "                                                (neuron_df['time'] <= end)]\n",
    "\n",
    "                    if not filtered_spikes.empty:\n",
    "                        relative_spikes = filtered_spikes['time'] - start\n",
    "                        all_spikes.extend(relative_spikes)\n",
    "\n",
    "                if all_spikes:\n",
    "                    time_bins = np.linspace(0, max(all_spikes), 100)\n",
    "                    spike_counts, _ = np.histogram(all_spikes, bins=time_bins)\n",
    "                    spike_rate = spike_counts / (time_bins[1] - time_bins[0])\n",
    "                    spike_rates.append(spike_rate)\n",
    "                spike_rates_all = np.vstack((spike_rates_all, spike_rates))\n",
    "\n",
    "        mean_spike_rate = np.mean(spike_rates, axis=0)\n",
    "        std_spike_rate = np.std(spike_rates, axis=0)\n",
    "\n",
    "        plt.plot(time_bins[:-1], mean_spike_rate, color='k', linewidth = 2)\n",
    "        plt.plot(time_bins[:-1], mean_spike_rate - std_spike_rate, color='lightgray', alpha=0.7, linewidth = 1)\n",
    "        plt.plot(time_bins[:-1], mean_spike_rate + std_spike_rate, color='lightgray', alpha=0.7, linewidth = 1)\n",
    "        plt.title(neuron)\n",
    "        plt.xticks([])\n",
    "        plt.yticks([])\n",
    "        pdf.savefig()\n",
    "        plt.close()"
   ]
  },
  {
   "cell_type": "code",
   "execution_count": 37,
   "metadata": {},
   "outputs": [],
   "source": [
    "mean_spike_rate_dict = {}\n",
    "\n",
    "with PdfPages(\"peth_lineplot.pdf\") as pdf:\n",
    "    for image in range(1, 13):\n",
    "        fig, axes = plt.subplots(3, 7, figsize=(15, 9))\n",
    "        axes = axes.flatten()\n",
    "        num = 0\n",
    "        image_mean_spike_rate_data = []\n",
    "        for neuron in spike_inf['Neuron'].unique():\n",
    "            ax = axes[num]\n",
    "            neuron_df = spike_inf[spike_inf['Neuron'] == neuron]\n",
    "\n",
    "            dates = trigger_time[trigger_time['image'] == image]['date'].unique()\n",
    "            date_indices = np.arange(len(dates))  \n",
    "\n",
    "            spike_rates = []\n",
    "            std_rates = []\n",
    "\n",
    "            for date in dates:\n",
    "                trigger_time_temp = trigger_time[(trigger_time['image'] == image) & (trigger_time['date'] == date)]\n",
    "                all_spikes = []\n",
    "\n",
    "                for index, row in trigger_time_temp.iterrows():\n",
    "                    start = row['expand_start']\n",
    "                    end = row['expand_end']\n",
    "\n",
    "                    filtered_spikes = neuron_df[(neuron_df['date'] == date) &\n",
    "                                                (neuron_df['time'] >= start) &\n",
    "                                                (neuron_df['time'] <= end)]\n",
    "\n",
    "                    if not filtered_spikes.empty:\n",
    "                        relative_spikes = filtered_spikes['time'] - start\n",
    "                        all_spikes.extend(relative_spikes)\n",
    "\n",
    "                if all_spikes:\n",
    "                    time_bins = np.linspace(0, max(all_spikes), 100)\n",
    "                    spike_counts, _ = np.histogram(all_spikes, bins=time_bins)\n",
    "                    spike_rate = spike_counts / (time_bins[1] - time_bins[0])\n",
    "                    spike_rates.append(spike_rate)\n",
    "\n",
    "            mean_spike_rate = np.mean(spike_rates, axis=0)\n",
    "            std_spike_rate = np.std(spike_rates, axis=0)\n",
    "\n",
    "            image_mean_spike_rate_data.append({\n",
    "                'Neuron': neuron,\n",
    "                'Mean_Spike_Rate': mean_spike_rate\n",
    "            })\n",
    "\n",
    "            ax.plot(time_bins[:-1], mean_spike_rate, color='k', linewidth = 2)\n",
    "            ax.plot(time_bins[:-1], mean_spike_rate - std_spike_rate, color='lightgray', alpha=0.7, linewidth = 1)\n",
    "            ax.plot(time_bins[:-1], mean_spike_rate + std_spike_rate, color='lightgray', alpha=0.7, linewidth = 1)\n",
    "            #ax.set_ylim(- np.mean(mean_spike_rate) , 2 *np.mean(mean_spike_rate))\n",
    "            #ax.fill_between(time_bins[:-1], mean_spike_rate - std_spike_rate, mean_spike_rate + std_spike_rate, color='lightgray', alpha=0.5, label='Std Deviation')\n",
    "            quarter = (time_bins[-1] - time_bins[0]) * 0.25 + time_bins[0]\n",
    "            three_quarter = (time_bins[-1] - time_bins[0]) * 0.75 + time_bins[0]\n",
    "            ax.annotate(\"\", xy=(quarter, np.max(mean_spike_rate + std_spike_rate) * 0.9), xytext=(quarter, np.max(mean_spike_rate + std_spike_rate)),\n",
    "                        arrowprops=dict(arrowstyle=\"-|>\", color=\"black\"))\n",
    "            ax.annotate(\"\", xy=(three_quarter, np.max(mean_spike_rate + std_spike_rate) * 0.9), xytext=(three_quarter, np.max(mean_spike_rate + std_spike_rate)),\n",
    "                        arrowprops=dict(arrowstyle=\"-|>\", color=\"black\"))\n",
    "            ax.set_xlabel('')\n",
    "            ax.set_ylabel('')\n",
    "            ax.set_title(f'{neuron}', fontsize=10)\n",
    "            ax.legend()\n",
    "\n",
    "            ax.set_xticks([])\n",
    "            ax.set_yticks([])\n",
    "            ax.grid(False)\n",
    "            ax.legend().set_visible(False)\n",
    "            num += 1\n",
    "        axes[19].axis('off')\n",
    "        axes[18].axis('off')\n",
    "        fig.suptitle(f\"Image_{image}\", fontsize=20)\n",
    "        fig.text(0.5, 0.04, 'Time', ha='center', fontsize=14)\n",
    "        fig.text(0.06, 0.5, 'Spike Rate (Hz)', va='center', rotation='vertical', fontsize=14)\n",
    "        pdf.savefig(fig)\n",
    "        plt.close()\n",
    "\n",
    "        mean_spike_rate_dict[image] = pd.DataFrame(image_mean_spike_rate_data)"
   ]
  },
  {
   "cell_type": "code",
   "execution_count": 16,
   "metadata": {},
   "outputs": [],
   "source": [
    "spike_rates_all_dict = {}\n",
    "\n",
    "for neuron in used_neurons:\n",
    "    spike_rates_all_dict[neuron] = pd.DataFrame()\n",
    "    for image in range(1, 19):\n",
    "        neuron_df = spike_inf[spike_inf['Neuron'] == neuron]\n",
    "\n",
    "        dates = trigger_time[trigger_time['image'] == image]['date'].unique()\n",
    "        date_indices = np.arange(len(dates))  \n",
    "\n",
    "        spike_rates = []\n",
    "        std_rates = []\n",
    "\n",
    "        for date in dates:\n",
    "            trigger_time_temp = trigger_time[(trigger_time['image'] == image) & (trigger_time['date'] == date)]\n",
    "            all_spikes = []\n",
    "\n",
    "            for index, row in trigger_time_temp.iterrows():\n",
    "                start = row['expand_start']\n",
    "                end = row['expand_end']\n",
    "\n",
    "                filtered_spikes = neuron_df[(neuron_df['date'] == date) &\n",
    "                                            (neuron_df['time'] >= start) &\n",
    "                                            (neuron_df['time'] <= end)]\n",
    "\n",
    "                if not filtered_spikes.empty:\n",
    "                    relative_spikes = filtered_spikes['time'] - start\n",
    "                    all_spikes.extend(relative_spikes)\n",
    "\n",
    "            if all_spikes:\n",
    "                time_bins = np.linspace(0, max(all_spikes), 500)\n",
    "                spike_counts, _ = np.histogram(all_spikes, bins=time_bins)\n",
    "                spike_rate = spike_counts / (time_bins[1] - time_bins[0])\n",
    "                spike_rates.append(spike_rate)\n",
    "\n",
    "            spike_rates_all_dict[neuron] = pd.concat((spike_rates_all_dict[neuron], pd.DataFrame(spike_rates)), axis= 0)"
   ]
  },
  {
   "cell_type": "code",
   "execution_count": 70,
   "metadata": {},
   "outputs": [],
   "source": [
    "split_point = []\n",
    "with PdfPages(\"peth_diff.pdf\") as pdf:\n",
    "    for neuron in spike_rates_all_dict.keys():\n",
    "        max_x = np.argmax(spike_rates_all_dict[neuron].mean(axis = 0)[110:150]) + 110\n",
    "        split_point.append(max_x)\n",
    "        plt.figure()\n",
    "        plt.plot(range(499), spike_rates_all_dict[neuron].mean(axis = 0), alpha=0.7, color = \"#70A5D9\")\n",
    "        plt.scatter(max_x, spike_rates_all_dict[neuron].mean(axis = 0)[max_x], color='#F0868C',s=60)\n",
    "        pdf.savefig()\n",
    "        plt.close()\n"
   ]
  },
  {
   "cell_type": "code",
   "execution_count": 71,
   "metadata": {},
   "outputs": [],
   "source": [
    "with PdfPages(\"peth_diff_overlay.pdf\") as pdf:\n",
    "    plt.figure(figsize=(10, 6))  \n",
    "    \n",
    "    colors = ['#70A5D9', '#F0868C', '#AFC7E8', '#F9BEB9', '#5977A0', '#D8576B', '#3B526E', '#E6919C']  \n",
    "    color_index = 0  \n",
    "\n",
    "    split_point = []\n",
    "    for neuron in spike_rates_all_dict.keys():\n",
    "        max_x = np.argmax(spike_rates_all_dict[neuron].mean(axis = 0)[110:150]) + 110\n",
    "        split_point.append(max_x)\n",
    "        \n",
    "        plt.plot(range(499), spike_rates_all_dict[neuron].mean(axis=0), alpha=0.7, color=colors[color_index % len(colors)], label=f'Neuron {neuron}')\n",
    "        plt.scatter(max_x, spike_rates_all_dict[neuron].mean(axis=0)[max_x], color='#F0868C', s=60)\n",
    "        color_index += 1  \n",
    "    \n",
    "    plt.tight_layout()\n",
    "    \n",
    "    pdf.savefig()\n",
    "    plt.close()"
   ]
  },
  {
   "cell_type": "code",
   "execution_count": 76,
   "metadata": {},
   "outputs": [],
   "source": [
    "from scipy import stats\n",
    "\n",
    "num_neurons = len(spike_inf['Neuron'].unique())\n",
    "num_images = 12\n",
    "result_matrix = np.zeros((num_neurons, num_images), dtype=int)\n",
    "pvalue_matrix = np.ones((num_neurons, num_images))\n",
    "diff_matrix = np.ones((num_neurons, num_images))\n",
    "\n",
    "for image in range(1, 13):\n",
    "    num = 0\n",
    "    image_mean_spike_rate_data = []\n",
    "    for neuron_idx, neuron in enumerate(spike_inf['Neuron'].unique()):\n",
    "\n",
    "        neuron_df = spike_inf[spike_inf['Neuron'] == neuron]\n",
    "\n",
    "        dates = trigger_time[trigger_time['image'] == image]['date'].unique()\n",
    "        date_indices = np.arange(len(dates))  \n",
    "\n",
    "        spike_rates_first = []\n",
    "        spike_rates_second = []\n",
    "\n",
    "        for date in dates:\n",
    "            trigger_time_temp = trigger_time[(trigger_time['image'] == image) & (trigger_time['date'] == date)]\n",
    "            all_spikes_first = []\n",
    "            all_spikes_second = []\n",
    "\n",
    "            for index, row in trigger_time_temp.iterrows():\n",
    "                start = row['start'] \n",
    "                end = row['expand_start'] + 30000/500 * np.array(split_point).mean()\n",
    "\n",
    "                filtered_spikes_first = neuron_df[(neuron_df['date'] == date) &\n",
    "                                                  (neuron_df['time'] >= start) &\n",
    "                                                  (neuron_df['time'] <= end)]\n",
    "\n",
    "                if not filtered_spikes_first.empty:\n",
    "                    relative_spikes_first = filtered_spikes_first['time'] - start\n",
    "                    all_spikes_first.extend(relative_spikes_first)\n",
    "\n",
    "                start_2 = row['start'] - 30000/500 * np.array(split_point).mean() + 5000\n",
    "                end_2 = row['start'] \n",
    "\n",
    "                filtered_spikes_second = neuron_df[(neuron_df['date'] == date) &\n",
    "                                                   (neuron_df['time'] >= start_2) &\n",
    "                                                   (neuron_df['time'] <= end_2)]\n",
    "\n",
    "                if not filtered_spikes_second.empty:\n",
    "                    relative_spikes_second = filtered_spikes_second['time'] - start_2\n",
    "                    all_spikes_second.extend(relative_spikes_second)\n",
    "\n",
    "            if all_spikes_first:\n",
    "                time_bins_first = np.linspace(0, max(all_spikes_first), 100)\n",
    "                spike_counts_first, _ = np.histogram(all_spikes_first, bins=time_bins_first)\n",
    "                spike_rate_first = spike_counts_first / (time_bins_first[1] - time_bins_first[0])\n",
    "                spike_rates_first.append(spike_rate_first)\n",
    "\n",
    "            if all_spikes_second:\n",
    "                time_bins_second = np.linspace(0, max(all_spikes_second), 100)\n",
    "                spike_counts_second, _ = np.histogram(all_spikes_second, bins=time_bins_second)\n",
    "                spike_rate_second = spike_counts_second / (time_bins_second[1] - time_bins_second[0])\n",
    "                spike_rates_second.append(spike_rate_second)\n",
    "\n",
    "        mean_spike_rate_first = np.mean(spike_rates_first, axis=0) if spike_rates_first else np.zeros(100)\n",
    "        mean_spike_rate_second = np.mean(spike_rates_second, axis=0) if spike_rates_second else np.zeros(100)\n",
    "\n",
    "        t_stat, p_value = stats.ttest_ind(mean_spike_rate_first, mean_spike_rate_second, nan_policy='omit')\n",
    "\n",
    "        if p_value < 0.01:\n",
    "            if np.mean(mean_spike_rate_first) > np.mean(mean_spike_rate_second):\n",
    "                result_matrix[neuron_idx, image-1] = 1\n",
    "                diff_matrix[neuron_idx, image-1] = np.mean(mean_spike_rate_first)/np.mean(mean_spike_rate_second)\n",
    "            else:\n",
    "                result_matrix[neuron_idx, image-1] = -1\n",
    "                diff_matrix[neuron_idx, image-1] = np.mean(mean_spike_rate_second)/np.mean(mean_spike_rate_first)\n",
    "        else:\n",
    "            result_matrix[neuron_idx, image-1] = 0\n",
    "            diff_matrix[neuron_idx, image-1] = 1\n",
    "        pvalue_matrix[neuron_idx, image-1] = p_value\n",
    "        \n",
    "\n",
    "\n",
    "neurons = spike_inf['Neuron'].unique()\n",
    "images = range(1, 13)\n",
    "result_df_phase1 = pd.DataFrame(result_matrix, index=neurons, columns=images)\n",
    "pvalue_df_phase1 = pd.DataFrame(pvalue_matrix, index=neurons, columns=images)\n",
    "diff_df_phase1 = pd.DataFrame(diff_matrix, index=neurons, columns=images)\n",
    "\n",
    "result_df_phase1.to_csv(\"glimpse_result_df.csv\")\n",
    "pvalue_df_phase1.to_csv(\"glimpse_pvalue_df.csv\")\n",
    "diff_df_phase1.to_csv(\"glimpse_diff_df.csv\")"
   ]
  },
  {
   "cell_type": "code",
   "execution_count": 78,
   "metadata": {},
   "outputs": [],
   "source": [
    "from math import pi\n",
    "\n",
    "result_df_phase1 = result_df_phase1[[1, 7,2,8,3,9,4,10,5,11,6,12]]\n",
    "pvalue_df_phase1 = pvalue_df_phase1[[1, 7,2,8,3,9,4,10,5,11,6,12]]\n",
    "\n",
    "neurons = result_df_phase1.index\n",
    "images = result_df_phase1.columns\n",
    "\n",
    "all_pvalues = pvalue_df_phase1.values.flatten()\n",
    "all_pvalues = all_pvalues[all_pvalues != 0]  \n",
    "all_log_pvalues = -np.log(all_pvalues)\n",
    "\n",
    "with PdfPages('glimpse_neuron_radar_plots.pdf') as pdf:\n",
    "    for neuron in neurons:\n",
    "        fig = plt.figure(figsize=(5, 4))\n",
    "        ax = fig.add_subplot(111, polar=True)\n",
    "        \n",
    "        results = result_df_phase1.loc[neuron].values\n",
    "        pvalues = pvalue_df_phase1.loc[neuron].values\n",
    "        \n",
    "        angles = np.linspace(0, 2*np.pi, len(images), endpoint=False).tolist()\n",
    "        \n",
    "        for j, (result, pvalue, image) in enumerate(zip(results, pvalues, images)):\n",
    "            if pvalue == 0:\n",
    "                height = 0\n",
    "            else:\n",
    "                height = -np.log(pvalue)\n",
    "            \n",
    "            if result == 1:\n",
    "                color = \"#F9BEB9\"\n",
    "            elif result == 0:\n",
    "                color = 'lightgrey'\n",
    "            else:\n",
    "                color = '#AFC7E8'\n",
    "            \n",
    "            ax.bar(angles[j], height, width=2*np.pi/len(images), bottom=0.0, color=color, alpha=0.8)\n",
    "                \n",
    "        ax.set_xticks(angles)\n",
    "        ax.set_xticklabels(images)\n",
    "        ax.set_title(neuron, pad=20, x=-0.1)\n",
    "        \n",
    "        ax.grid(True, color='gray', linestyle='--', linewidth=0.5, alpha=0.5)\n",
    "        ax.tick_params(axis='y', labelsize=8)\n",
    "        plt.tight_layout()\n",
    "        \n",
    "        pdf.savefig()\n",
    "        plt.close()"
   ]
  },
  {
   "cell_type": "code",
   "execution_count": 79,
   "metadata": {},
   "outputs": [],
   "source": [
    "from matplotlib.colors import ListedColormap\n",
    "\n",
    "with PdfPages(\"glimpse_neuron_reaction.pdf\") as pdf:\n",
    "    cmap = ListedColormap(['#70A5D9', 'lightgrey', '#F0868C'])\n",
    "    plt.figure(figsize=(4, 4))\n",
    "    ax = sns.heatmap(result_df_phase1, cmap=cmap, cbar=True)\n",
    "    pdf.savefig()\n",
    "    plt.close()\n",
    "\n",
    "    cmap = ListedColormap(['#70A5D9', 'lightgrey', '#F0868C'])\n",
    "    plt.figure(figsize=(4, 4))\n",
    "    ax = sns.heatmap(result_df_phase1, cmap=cmap, cbar=False, linecolor=\"white\",   \n",
    "    linewidths=0.3)\n",
    "    ax.xaxis.set_ticks([])\n",
    "    ax.yaxis.set_ticks([])\n",
    "    ax.axis('off') \n",
    "    pdf.savefig()\n",
    "    plt.close()\n",
    "\n",
    "    plt.figure(figsize=(4, 4))\n",
    "    ax = sns.heatmap(-np.log(result_df_phase1), cmap='coolwarm', cbar=True, annot=True,fmt='.2f',\n",
    "    annot_kws={\"size\": 4})\n",
    "    ax.xaxis.set_ticks([])\n",
    "    ax.yaxis.set_ticks([])\n",
    "    ax.axis('off') \n",
    "    pdf.savefig()\n",
    "    plt.close()\n",
    "\n",
    "    plt.figure(figsize=(4, 4))\n",
    "    ax = sns.heatmap(-np.log(result_df_phase1), cmap='coolwarm', cbar=False, annot=False,fmt='.2f',\n",
    "    annot_kws={\"size\": 4}, vmax=25)\n",
    "    ax.xaxis.set_ticks([])\n",
    "    ax.yaxis.set_ticks([])\n",
    "    ax.axis('off') \n",
    "    pdf.savefig()\n",
    "    plt.close()"
   ]
  },
  {
   "cell_type": "code",
   "execution_count": 88,
   "metadata": {},
   "outputs": [
    {
     "data": {
      "text/plain": [
       "8005.714285714285"
      ]
     },
     "execution_count": 88,
     "metadata": {},
     "output_type": "execute_result"
    }
   ],
   "source": [
    "30000/500 * np.array(split_point).mean()"
   ]
  },
  {
   "cell_type": "code",
   "execution_count": 92,
   "metadata": {},
   "outputs": [],
   "source": [
    "from scipy import stats\n",
    "\n",
    "num_neurons = len(spike_inf['Neuron'].unique())\n",
    "num_images = 12\n",
    "result_matrix = np.zeros((num_neurons, num_images), dtype=int)\n",
    "pvalue_matrix = np.ones((num_neurons, num_images))\n",
    "diff_matrix = np.ones((num_neurons, num_images))\n",
    "\n",
    "for image in range(1, 13):\n",
    "    num = 0\n",
    "    image_mean_spike_rate_data = []\n",
    "    for neuron_idx, neuron in enumerate(spike_inf['Neuron'].unique()):\n",
    "\n",
    "        neuron_df = spike_inf[spike_inf['Neuron'] == neuron]\n",
    "\n",
    "        dates = trigger_time[trigger_time['image'] == image]['date'].unique()\n",
    "        date_indices = np.arange(len(dates))  \n",
    "\n",
    "        spike_rates_first = []\n",
    "        spike_rates_second = []\n",
    "\n",
    "        for date in dates:\n",
    "            trigger_time_temp = trigger_time[(trigger_time['image'] == image) & (trigger_time['date'] == date)]\n",
    "            all_spikes_first = []\n",
    "            all_spikes_second = []\n",
    "\n",
    "            for index, row in trigger_time_temp.iterrows():\n",
    "                start = row['start'] + 10000\n",
    "                end = row['end']\n",
    "\n",
    "                filtered_spikes_first = neuron_df[(neuron_df['date'] == date) &\n",
    "                                                  (neuron_df['time'] >= start) &\n",
    "                                                  (neuron_df['time'] <= end)]\n",
    "\n",
    "                if not filtered_spikes_first.empty:\n",
    "                    relative_spikes_first = filtered_spikes_first['time'] - start\n",
    "                    all_spikes_first.extend(relative_spikes_first)\n",
    "\n",
    "                start_2 = row['start']- (end - start)\n",
    "                end_2 = row['start'] \n",
    "\n",
    "                filtered_spikes_second = neuron_df[(neuron_df['date'] == date) &\n",
    "                                                   (neuron_df['time'] >= start_2) &\n",
    "                                                   (neuron_df['time'] <= end_2)]\n",
    "\n",
    "                if not filtered_spikes_second.empty:\n",
    "                    relative_spikes_second = filtered_spikes_second['time'] - start_2\n",
    "                    all_spikes_second.extend(relative_spikes_second)\n",
    "\n",
    "            if all_spikes_first:\n",
    "                time_bins_first = np.linspace(0, max(all_spikes_first), 500)\n",
    "                spike_counts_first, _ = np.histogram(all_spikes_first, bins=time_bins_first)\n",
    "                spike_rate_first = spike_counts_first / (time_bins_first[1] - time_bins_first[0])\n",
    "                spike_rates_first.append(spike_rate_first)\n",
    "\n",
    "            if all_spikes_second:\n",
    "                time_bins_second = np.linspace(0, max(all_spikes_second), 500)\n",
    "                spike_counts_second, _ = np.histogram(all_spikes_second, bins=time_bins_second)\n",
    "                spike_rate_second = spike_counts_second / (time_bins_second[1] - time_bins_second[0])\n",
    "                spike_rates_second.append(spike_rate_second)\n",
    "\n",
    "        mean_spike_rate_first = np.mean(spike_rates_first, axis=0) if spike_rates_first else np.zeros(100)\n",
    "        mean_spike_rate_second = np.mean(spike_rates_second, axis=0) if spike_rates_second else np.zeros(100)\n",
    "\n",
    "        t_stat, p_value = stats.ttest_ind(mean_spike_rate_first, mean_spike_rate_second, nan_policy='omit')\n",
    "\n",
    "        if p_value < 1e-3:\n",
    "            if np.mean(mean_spike_rate_first) > np.mean(mean_spike_rate_second):\n",
    "                result_matrix[neuron_idx, image-1] = 1\n",
    "            else:\n",
    "                result_matrix[neuron_idx, image-1] = -1\n",
    "        else:\n",
    "            result_matrix[neuron_idx, image-1] = 0\n",
    "        pvalue_matrix[neuron_idx, image-1] = p_value\n",
    "        diff_matrix[neuron_idx, image-1] = np.mean(mean_spike_rate_first)/np.mean(mean_spike_rate_second)\n",
    "\n",
    "\n",
    "neurons = spike_inf['Neuron'].unique()\n",
    "images = range(1, 13)\n",
    "result_df_phase2 = pd.DataFrame(result_matrix, index=neurons, columns=images)\n",
    "pvalue_df_phase2 = pd.DataFrame(pvalue_matrix, index=neurons, columns=images)\n",
    "diff_df_phase2 = pd.DataFrame(diff_matrix, index=neurons, columns=images)\n",
    "\n",
    "result_df_phase2.to_csv(\"last_result_df.csv\")\n",
    "pvalue_df_phase2.to_csv(\"last_pvalue_df.csv\")\n",
    "diff_df_phase2.to_csv(\"last_diff_df.csv\")"
   ]
  },
  {
   "cell_type": "code",
   "execution_count": 93,
   "metadata": {},
   "outputs": [],
   "source": [
    "result_df_phase2 = result_df_phase2[[1, 7,2,8,3,9,4,10,5,11,6,12]]\n",
    "pvalue_df_phase2 = pvalue_df_phase2[[1, 7,2,8,3,9,4,10,5,11,6,12]]\n",
    "\n",
    "neurons = result_df_phase2.index\n",
    "images = result_df_phase2.columns\n",
    "\n",
    "\n",
    "with PdfPages('last_neuron_radar_plots.pdf') as pdf:\n",
    "    for neuron in neurons:\n",
    "        fig = plt.figure(figsize=(5, 4))\n",
    "        ax = fig.add_subplot(111, polar=True)\n",
    "        \n",
    "        results = result_df_phase2.loc[neuron].values\n",
    "        pvalue = pvalue_df_phase2.loc[neuron].values\n",
    "        pvalue = -np.log(pvalue)\n",
    "        \n",
    "        angles = np.linspace(0, 2*np.pi, len(images), endpoint=False).tolist()\n",
    "        \n",
    "        for j, (result, pvalue, image) in enumerate(zip(results, pvalue, images)):\n",
    "            if pvalue == 0:\n",
    "                height = 0\n",
    "            else:\n",
    "                height = pvalue\n",
    "            \n",
    "            if result == 1:\n",
    "                color = \"#F9BEB9\"\n",
    "            elif result == 0:\n",
    "                color = 'lightgrey'\n",
    "            else:\n",
    "                color = '#AFC7E8'\n",
    "            \n",
    "            ax.bar(angles[j], height, width=2*np.pi/len(images), bottom=0.0, color=color)\n",
    "        \n",
    "        \n",
    "        ax.set_xticks(angles)\n",
    "        ax.set_xticklabels(images)\n",
    "        ax.set_title(neuron, pad=20, x=-0.1)\n",
    "        \n",
    "        ax.grid(True, color='gray', linestyle='--', linewidth=0.5, alpha=0.5)\n",
    "        \n",
    "        plt.tight_layout()\n",
    "        \n",
    "        pdf.savefig()\n",
    "        plt.close()"
   ]
  },
  {
   "cell_type": "code",
   "execution_count": 94,
   "metadata": {},
   "outputs": [],
   "source": [
    "with PdfPages(\"last_neuron_reaction.pdf\") as pdf:\n",
    "    cmap = ListedColormap(['#70A5D9', 'lightgrey', '#F0868C'])\n",
    "    plt.figure(figsize=(4, 4))\n",
    "    ax = sns.heatmap(result_df_phase2, cmap=cmap, cbar=True)\n",
    "    pdf.savefig()\n",
    "    plt.close()\n",
    "\n",
    "    cmap = ListedColormap(['#70A5D9', 'lightgrey', '#F0868C'])\n",
    "    plt.figure(figsize=(4, 4))\n",
    "    ax = sns.heatmap(result_df_phase2, cmap=cmap, cbar=False, linecolor=\"white\",   \n",
    "    linewidths=0.3, vmax=1, vmin=-1)\n",
    "    ax.xaxis.set_ticks([])\n",
    "    ax.yaxis.set_ticks([])\n",
    "    ax.axis('off') \n",
    "    pdf.savefig()\n",
    "    plt.close()\n",
    "\n",
    "    plt.figure(figsize=(4, 4))\n",
    "    ax = sns.heatmap(-np.log(pvalue_df_phase2), cmap='coolwarm', cbar=True, annot=True,fmt='.2f',\n",
    "    annot_kws={\"size\": 4})\n",
    "    ax.xaxis.set_ticks([])\n",
    "    ax.yaxis.set_ticks([])\n",
    "    ax.axis('off') \n",
    "    pdf.savefig()\n",
    "    plt.close()\n",
    "\n",
    "    plt.figure(figsize=(4, 4))\n",
    "    ax = sns.heatmap(-np.log(pvalue_df_phase2), cmap='coolwarm', cbar=False, annot=False,fmt='.2f',\n",
    "    annot_kws={\"size\": 4}, vmin=0, vmax=60)\n",
    "    ax.xaxis.set_ticks([])\n",
    "    ax.yaxis.set_ticks([])\n",
    "    ax.axis('off') \n",
    "    pdf.savefig()\n",
    "    plt.close()"
   ]
  },
  {
   "cell_type": "code",
   "execution_count": 95,
   "metadata": {},
   "outputs": [],
   "source": [
    "sum_spike_rate_dict = {}\n",
    "window_starts = np.arange(0, 20000-500+1, 50) \n",
    "n_windows = len(window_starts)  \n",
    "\n",
    "for image in range(1, 19):\n",
    "    image_mean_spike_rate_data = []\n",
    "    \n",
    "    for neuron in spike_inf['Neuron'].unique():\n",
    "        neuron_df = spike_inf[spike_inf['Neuron'] == neuron]\n",
    "        dates = trigger_time[trigger_time['image'] == image]['date'].unique()\n",
    "        \n",
    "        all_rates = []\n",
    "        \n",
    "        for date in dates:\n",
    "            trigger_time_temp = trigger_time[(trigger_time['image'] == image) \n",
    "                                          & (trigger_time['date'] == date)]\n",
    "            window_counts = np.zeros(n_windows)\n",
    "            \n",
    "            for _, row in trigger_time_temp.iterrows():\n",
    "                start = row['start']\n",
    "                end = row['end']\n",
    "                \n",
    "                filtered_spikes = neuron_df[(neuron_df['date'] == date) \n",
    "                                          & (neuron_df['time'] >= start)\n",
    "                                          & (neuron_df['time'] <= end)]\n",
    "                \n",
    "                if not filtered_spikes.empty:\n",
    "                    relative_spikes = filtered_spikes['time'].values - start\n",
    "                    \n",
    "                    spikes_matrix = relative_spikes[:, np.newaxis]  \n",
    "                    in_window = (spikes_matrix >= window_starts) \\\n",
    "                              & (spikes_matrix < (window_starts + 100))\n",
    "                    window_counts += np.sum(in_window, axis=0)\n",
    "\n",
    "            spike_rate = window_counts\n",
    "            all_rates.append(spike_rate)\n",
    "        \n",
    "        mean_spike_rate = np.mean(all_rates, axis=0) if all_rates else np.zeros(n_windows)\n",
    "        \n",
    "        image_mean_spike_rate_data.append({\n",
    "            'Neuron': neuron,\n",
    "            'Mean_Spike_Rate': mean_spike_rate\n",
    "        })\n",
    "    \n",
    "    sum_spike_rate_dict[image] = pd.DataFrame(image_mean_spike_rate_data)"
   ]
  },
  {
   "cell_type": "code",
   "execution_count": 117,
   "metadata": {},
   "outputs": [
    {
     "data": {
      "text/plain": [
       "(22, 391)"
      ]
     },
     "execution_count": 117,
     "metadata": {},
     "output_type": "execute_result"
    }
   ],
   "source": [
    "temp.shape"
   ]
  },
  {
   "cell_type": "code",
   "execution_count": 123,
   "metadata": {},
   "outputs": [],
   "source": [
    "for image in sum_spike_rate_dict.keys():\n",
    "    temp = pd.DataFrame()\n",
    "    for i in range(len(sum_spike_rate_dict[1])):\n",
    "        temp = pd.concat((temp, pd.DataFrame(sum_spike_rate_dict[image].iloc[i, 1])), axis=1)\n",
    "    temp = temp.T\n",
    "    temp.index = sum_spike_rate_dict[1]['Neuron']\n",
    "    temp.to_csv(f\"sum_spike_rate/Image_{image}_sum_spike_rate.csv\")"
   ]
  },
  {
   "cell_type": "code",
   "execution_count": 100,
   "metadata": {},
   "outputs": [
    {
     "data": {
      "text/plain": [
       "58.761714285714284"
      ]
     },
     "execution_count": 100,
     "metadata": {},
     "output_type": "execute_result"
    }
   ],
   "source": [
    "(30000/500 * np.array(split_point).mean() - 5000)/ 20000 * 391"
   ]
  },
  {
   "cell_type": "code",
   "execution_count": 125,
   "metadata": {},
   "outputs": [],
   "source": [
    "from sklearn.preprocessing import StandardScaler\n",
    "from sklearn.decomposition import PCA\n",
    "\n",
    "def latent_variables_pc(filepath):\n",
    "    pca = PCA(n_components=10)\n",
    "    data = pd.read_csv(filepath,index_col=0)\n",
    "    data = data.iloc[:, :58]\n",
    "    data = data.T\n",
    "    scaler = StandardScaler()\n",
    "    data_normalized = scaler.fit_transform(data)\n",
    "    #data_normalized = data_normalized.T\n",
    "    data_pca = pca.fit_transform(data_normalized)\n",
    "    return data_pca, pca.explained_variance_ratio_"
   ]
  },
  {
   "cell_type": "code",
   "execution_count": 126,
   "metadata": {},
   "outputs": [],
   "source": [
    "data_pca_dict = {}\n",
    "pc_ratio_dict = {}\n",
    "spike_rate_dir = ['Image_1_sum_spike_rate.csv', 'Image_2_sum_spike_rate.csv', 'Image_3_sum_spike_rate.csv', 'Image_4_sum_spike_rate.csv', 'Image_5_sum_spike_rate.csv', 'Image_6_sum_spike_rate.csv',\n",
    "                  'Image_7_sum_spike_rate.csv', 'Image_8_sum_spike_rate.csv', 'Image_9_sum_spike_rate.csv', 'Image_10_sum_spike_rate.csv', 'Image_11_sum_spike_rate.csv', 'Image_12_sum_spike_rate.csv']\n",
    "\n",
    "for file in spike_rate_dir:\n",
    "    data_pca_dict[file], pc_ratio_dict[file] = latent_variables_pc(f'/media/ubuntu/sda/data/mouse6/output_grating/03_single_neuron/dynamic/sum_spike_rate/{file}')"
   ]
  },
  {
   "cell_type": "code",
   "execution_count": 128,
   "metadata": {},
   "outputs": [],
   "source": [
    "data_pc1 = pd.DataFrame()\n",
    "data_pc2 = pd.DataFrame()\n",
    "data_pc3 = pd.DataFrame()\n",
    "\n",
    "for file in spike_rate_dir:\n",
    "    data_pc1 = pd.concat((data_pc1, pd.DataFrame(data_pca_dict[file][:, 0])), axis=1)\n",
    "    data_pc2 = pd.concat((data_pc2, pd.DataFrame(data_pca_dict[file][:, 1])), axis=1)\n",
    "    data_pc3 = pd.concat((data_pc3, pd.DataFrame(data_pca_dict[file][:, 2])), axis=1)"
   ]
  },
  {
   "cell_type": "code",
   "execution_count": 129,
   "metadata": {},
   "outputs": [],
   "source": [
    "data_pc1.to_csv(\"processed_data/data_pc1_phase1.csv\")\n",
    "data_pc2.to_csv(\"processed_data/data_pc2_phase1.csv\")\n",
    "data_pc3.to_csv(\"processed_data/data_pc3_phase1.csv\")"
   ]
  },
  {
   "cell_type": "code",
   "execution_count": 133,
   "metadata": {},
   "outputs": [],
   "source": [
    "import torch.nn.functional as F\n",
    "import torch\n",
    "\n",
    "with PdfPages(\"neuron_model/similarity_heatmap_phase1.pdf\") as pdf:\n",
    "\n",
    "    data_pc1.columns = [1,2,3,4,5,6,7,8,9,10,11,12]\n",
    "    #data_pc1 = data_pc1[[1, 5,6,7,10,11,12,14,17,18, 2,3,4,8,9,13,15,16]]\n",
    "    data = torch.tensor(data_pc1.T.to_numpy())\n",
    "    data.unsqueeze_(1) \n",
    "    similarity_matrix = F.cosine_similarity(data, data.transpose(0, 1), dim=2)\n",
    "    sns.heatmap(similarity_matrix.numpy(), cmap=\"coolwarm\", vmin=0, vmax=1)\n",
    "    pdf.savefig()\n",
    "    plt.close()\n",
    "\n",
    "    plt.figure(figsize=(5,5))\n",
    "    sns.heatmap(similarity_matrix.numpy(), cmap=\"coolwarm\", vmin=0, vmax=1, cbar=False, xticklabels=False, yticklabels=False)\n",
    "    pdf.savefig()\n",
    "    plt.close()\n",
    "\n",
    "    data_pc2.columns = [1,2,3,4,5,6,7,8,9,10,11,12]\n",
    "    #data_pc2 = data_pc2[[1,2,3,4,5,6, 9,10,12, 13, 14, 15, 16, 17, 7,8,11,18]]\n",
    "    data = torch.tensor(data_pc2.T.to_numpy())\n",
    "    data.unsqueeze_(1) \n",
    "    similarity_matrix_2 = F.cosine_similarity(data, data.transpose(0, 1), dim=2)\n",
    "    sns.heatmap(similarity_matrix_2.numpy(), cmap=\"coolwarm\", vmin=0, vmax=1)\n",
    "    pdf.savefig()\n",
    "    plt.close()\n",
    "\n",
    "    plt.figure(figsize=(5,5))\n",
    "    sns.heatmap(similarity_matrix_2.numpy(), cmap=\"coolwarm\", vmin=0, vmax=1, cbar=False, xticklabels=False, yticklabels=False)\n",
    "    pdf.savefig()\n",
    "    plt.close()\n",
    "\n",
    "    data_pc3.columns = [1,2,3,4,5,6,7,8,9,10,11,12]\n",
    "    data_pc3 = data_pc3[[1,7, 12, 2,3,4,5,6,8,9,10,11]]\n",
    "    data = torch.tensor(data_pc3.T.to_numpy())\n",
    "    data.unsqueeze_(1) \n",
    "    similarity_matrix_3 = F.cosine_similarity(data, data.transpose(0, 1), dim=2)\n",
    "    sns.heatmap(similarity_matrix_3.numpy(), cmap=\"coolwarm\", vmin=0, vmax=1)\n",
    "    pdf.savefig()\n",
    "    plt.close()\n",
    "\n",
    "    plt.figure(figsize=(5,5))\n",
    "    sns.heatmap(similarity_matrix_3.numpy(), cmap=\"coolwarm\", vmin=0, vmax=1, cbar=False, xticklabels=False, yticklabels=False)\n",
    "    pdf.savefig()\n",
    "    plt.close()"
   ]
  },
  {
   "cell_type": "code",
   "execution_count": 134,
   "metadata": {},
   "outputs": [],
   "source": [
    "with PdfPages(\"neuron_model/waveform_phase1.pdf\") as pdf:\n",
    "    plt.figure(figsize=(4, 3))\n",
    "    for file in spike_rate_dir:\n",
    "        sns.lineplot(data_pca_dict[file][:, 0])\n",
    "    pdf.savefig()\n",
    "    plt.close()\n",
    "\n",
    "    plt.figure(figsize=(4, 3))\n",
    "    for file in spike_rate_dir:\n",
    "        sns.lineplot(data_pca_dict[file][:, 1])\n",
    "    pdf.savefig()\n",
    "    plt.close()\n",
    "\n",
    "\n",
    "    plt.figure(figsize=(4, 3))\n",
    "    for file in spike_rate_dir:\n",
    "        sns.lineplot(data_pca_dict[file][:, 2])\n",
    "    pdf.savefig()\n",
    "    plt.close()"
   ]
  },
  {
   "cell_type": "code",
   "execution_count": 135,
   "metadata": {},
   "outputs": [],
   "source": [
    "pc_ratio = pd.DataFrame()\n",
    "\n",
    "for key ,item in pc_ratio_dict.items():\n",
    "    pc_ratio = pd.concat((pc_ratio, pd.DataFrame(item)), axis=1)\n",
    "\n",
    "pc_ratio = pc_ratio.mean(axis=1)\n",
    "cumulative_sums = []\n",
    "current_sum = 0\n",
    "for value in pc_ratio:\n",
    "    current_sum += value\n",
    "    cumulative_sums.append(current_sum)"
   ]
  },
  {
   "cell_type": "code",
   "execution_count": 136,
   "metadata": {},
   "outputs": [],
   "source": [
    "pd.DataFrame(cumulative_sums).to_csv(\"processed_data/pc_ratio_phase1.csv\")"
   ]
  },
  {
   "cell_type": "code",
   "execution_count": 138,
   "metadata": {},
   "outputs": [],
   "source": [
    "with PdfPages('neuron_model/pc_ration_phase1.pdf') as pdf:\n",
    "    plt.figure(figsize=(3,2))\n",
    "    sns.lineplot(x = range(10),\n",
    "                 y = pc_ratio,\n",
    "                 color = 'black')\n",
    "    plt.ylim(0, 1)\n",
    "    pdf.savefig()\n",
    "    plt.close()"
   ]
  },
  {
   "cell_type": "code",
   "execution_count": 139,
   "metadata": {},
   "outputs": [
    {
     "data": {
      "application/vnd.plotly.v1+json": {
       "config": {
        "plotlyServerURL": "https://plot.ly"
       },
       "data": [
        {
         "line": {
          "color": "rgb(31, 119, 180)",
          "width": 4
         },
         "mode": "lines",
         "name": "Image_1_sum_spike_rate.csv",
         "type": "scatter3d",
         "x": {
          "bdata": "CA2ZdwJMBsDGZY1N1qEHwMRIEwfykQTA+ZnWBCfVAsBxgV7lG14FwO/53n34RQXAJ6bEjmDlA8BI1oCFGakGwNEHko9ZRAfAZB1IcmbsBsC9sy2KvxcEwPok1hCWQvy/Axo8OqaA8r9uoXoZ7EvDPy9zfQkQjf0/9bZo2JFGEUBs3Ez83UIeQCJd7QEvbSNAr8KBKFETJUBD8Rd7WvckQPlx0iuEOyRAt/vQbqYAIkDDa8o0vskbQIwHrYYqvRRA0ICQQ42SC0ASJ8z6vnQCQMWvMK02R/g/yG/L9bK80z+OHpQuAAn0v0FHVKUe0AHAEQgiiQklAsC7nocuEhoCwGd58JNgXATAmOxjsA9LB8ALgj7OqZkIwDKbfF0pIwnAe9JDKblMCMDr2XLAOBsIwI/0H/mBmQbARk7e4AjOAsCpFlt3CUoCwNRkU/oFxQPAke2U9dQgAMDV1NgDPjn5v8/O5TfOZADAyUkh2PuwAMAsKw+CUwL6v+RhwlBh0va/Qw2v4UQh9L9DvLvOhiL4v4s4f0Ulv/O/WuIUA5Dx4L9XcqU9ZhLMv3/QCW0Vo8i/+/cvfyz74b9b8iZl4tO4vwAr36MKW+E/xJuoqEW84j8=",
          "dtype": "f8"
         },
         "y": {
          "bdata": "HuWWL0hr6D/rh8vpjKftP1qSK5PJg/I/iQUwS4DP8z9UWv5p7+X3Py7pVjGmUe4/GJQ+boy25D/BP7jK16L2P416HC0lZvQ/BytNfjs+9T9RsS/SCm72P+T0FW1V5fY/leHqaWUV/j9Q1Zl7a1YAQKPrtli10gxAb/PvLW9tEkCkae4Vuw0QQGCDdwLzFAhA8xYG2xup4z+Hf8dKLTLtv1prwGfp7/a/uES+XIrBAsCOb7ztc+kDwJRGo7ttrQbANOURj0V8CMDK6694/ewFwCsHlVgxmwTAVEYfKpy6AsAw2HyCYyEAwDtdB9YVK/q/5dkYyx/49r/iU6D5BrnxvwoEkf3CVu6/9dE2MIej8r+8bJummaLxv2Z5EEUO8eq/YUCp70S78L97XjIEWlXwv8++AXcGGui/w/xEmZnV5L84l8DoJ47Vv8JkHyv1P9+/iijyvo436r8TXkWtSOryv7aEbXe5OfG/Wmf/P2Jf7b82bJP8NzTbv3Xcbfev8Z6/BuxwAACX2z8FgHQb4lTbP94Fg+WhW8G/k719Qp4lzL8evoViT+adPxltbXrsoOk/ekPjr0bo4z/hQ1SyQYrpP3fdki7dCPY/NMEwnzDs/D8=",
          "dtype": "f8"
         },
         "z": {
          "bdata": "qdn41aMHzT8t4j5wnGbDP76VUsEhv9w/zU4ueYNA5T8MXpI9PjXaPxsfdrjrkoa/KGsbpys/1T8AtRgsnUPgP+RrNLkHNt8/kI67pnCr3D9Wl8R95k3UP9uJAQSzkNw/kQjimqLP7z/sGg2RqSIAQGKdAQAH0ABAfJ6gL/k19D90p22Pb3F9P7b7vH48N9m/oq5vbl9V7L9ReS73lGIBwBPcRattrve/+S5wkFnNiz8oS0BTy47rPzBmWGkUH/0/YZbP4vcUAkAJkN268gsAQKkQYfSlkvk/Sxc49Isr9D+Rr0LegfjrP8UcKMBg1uE/e33p4bsrxD/hVOUF46e1P/ePpAbCQcO/Zsut+/FI3L/SqEqKB/njv8RNf9m3w+e/L4nV8Ek75798OBu55hvtvz+zMmdS99y/ezkqJaVM5L8BhPKUw4r0v1cXHsm8Zeu/pjGyag2r5r8hMNIUYy/pv76PtP/SjeG/thu3f32owL9DUzn15jqsP9cz+oGJ38W/MZat2DiJ27+e4Uul3wPov71IEj7arue/elyhliqA7b+WePVJtD30v0/ye23xuvC/xDiyuRT55b9OvS7GJDHkv/W2tM03r+e/XpfoQwPP8L8=",
          "dtype": "f8"
         }
        },
        {
         "line": {
          "color": "rgb(255, 127, 14)",
          "width": 4
         },
         "mode": "lines",
         "name": "Image_2_sum_spike_rate.csv",
         "type": "scatter3d",
         "x": {
          "bdata": "rw04rXokA8CE2WJqE3cEwGRrtmqkHwXAQQq/eY7hBcD9duPsW9wDwJ8W/kLGqADAFBWHW3t3/79yFvqq8GkAwJ/CRbnJJgLABJhwfBnNAsCXai8qegAAwBQ1WtBAd/i/JTb74/3g67/eWdOaZcXdP1ziF2cP4gVAbbed8uRnE0ApTI+G9+kZQPx+veyTfyJAlJukcufUJUC8a4OD1JclQGYOiA+pFCNA4c1K0+WjIEAaLP8WPBMeQJtCTJoA/hVAZHVVLRQCEkCVc4nRWukIQNNdWSW++f4/VLlB6HfU9T/xJNVKMzPTvyBTETC1XfS/CJ8ThTwP/7/DadyCzSMEwHxP+qhsVwnAFIQC2CAxC8CoSrc6lWkIwKYN8ckgbArA7S0es9u2DMDJEIEgxqgKwD8QPaUHBArAO79DDEHNB8CnsD81+pEDwCwS2M0W/AHAtXwVUEdbA8ASvTpnIeADwOON4MpB/wDAU9pu7gmmAMBgULySMAwEwF09ZWXtXf+/W1jV9nu6+b/38GRfIw0BwEdBRaiit/6/xzDbn/WG/b91URh1N+z5v7Z6HG0nJ/C/HdtxZONR2r/6X4h8lgPVPyTzyKZbb90/BtQ3vSa/6D8=",
          "dtype": "f8"
         },
         "y": {
          "bdata": "Dmf6EHYM/j8pAfLwIWX6P/q/Gd8kDfU/T+pYFaVA6j/EvmVBaQvyP2eVIKeMxPo/GuaQ4peK+T/NieD0Yav1PwaIwObV9vQ/fr60Szox/D8b7QP0eG34P11dUbDGivI/BeyTF6279z88VmXVr4P8P+JfzCW1jwdAYStyqYgiD0Ax0wF8lgMJQBDdY845MAdA7nNJyahB+j9pJOTmX4DIv1JFprMH+O6/FPvrahhUAcAqr8OnhSIGwJlRWs2wvAXAQ5SmpEVGB8CO6Q7QWhcIwFEz2fVNOwnA/GMcFd2LBsCjb1GRusz+vxG/cVn3Sfq/7UAcKhNe9b+XftlRluvrvzUVvhCyzfC/ifzwU9rO67+3I151Ksbkv5p3v3Gi/vG/Y49Xo1Yc6L8Qz/gd1L/Zv1c2PV6yZPC/wiBouh7N7r8f5oVUJq/Wv3GixlW5p+G/oENp1G8F7b9g+9rX9qftvxuK1wacque/K44S3Cv52b9sMGKUZl7cv+H/uLAvndi/EGtHCala4r+O5EYeDRXvv2o5Kgzz5uO/fbHrgvo8ur95YRIGS1fLP4AXO+5M0e0/XGUG+/1j9j+RK33nJprtP23COcvB2OY/6KFNG5e78j8=",
          "dtype": "f8"
         },
         "z": {
          "bdata": "EUTwEPsgt79kqtchBOu6P4EnbIhlMMO/5UEqYm6+2r/178w1U4HTv1fgsthwULU/sELrZWxtvb9s0KlE79vfv+cy1RvkY8m/IjoWuw/WzT+x6KzumBK6Px39p70VgdS/rhcrB4SC6L/4ox7dcfr6v6NLYI4A2APA7Z6xMfQF/L+7kUw77A7wv9NAbm0QFfC/k78r8QSz0j+LtmTz4In+P+kp9YHcdAFAEppk8U8R8z9xIo+5fOPLv4QJ6nhLF+G/MoXlriAk5b+Vojf47Mrzv+zoCFL6df2/ZiXD6Ptn/r8KMhD4snn4vyh5Jke9N/W/62zTulCw2L8roO6tIt3Iv2mP23UIXem/nreg6rmF479xZvvyxlKIP2fF1XKT5s0/la5JxdRp0j/8Pp6AchHUP61vyWcZGsM/paUiLu6F1j9wMtqmhTXmP5P1rrVDttY/HI6ovCIMxD82K5kOr8/WP6RdfReyNdQ/CEZRz1wu4T/bQUjzNf3lPx2z8o+Rwuk/B+f0O3rI5j+vWAV/LbjPP9IL9AkVDsU/iZX6iZ4y5z9Do+GzpG3rP52c8GaRGfE/BBcSJlef/D8zsluuIRwAQGJ88Aj8dvk/ruhQ7/Hr9z8=",
          "dtype": "f8"
         }
        },
        {
         "line": {
          "color": "rgb(44, 160, 44)",
          "width": 4
         },
         "mode": "lines",
         "name": "Image_3_sum_spike_rate.csv",
         "type": "scatter3d",
         "x": {
          "bdata": "TsmAwTc4AMDhImROQNYAwPxnmfffkwHABOFSjtHr/79Nim4W+K0DwMa+TUOLQwjAK2jIA9xUBcBLf1yM70IEwP2Bb54BUwXAs2A1/bq0BMDQoTs1A6wEwF9BgerDxQHARTxQ4EBW6r+jozB3xFnmP19xsukBaAJAcVG+lU/mEUCW+jxcxqUYQAzDb2tZFiFAmvhksXhlJEDqpbQeatAjQOMzpxFFviFAwcm+GOxYHkAlqZoiP8QZQFGy8lAYsBJAXInfCKorCUA3jGfpyQv9P0pgMBW4FdY/16qYCDUz5b9JZLJw1Lz2v++nYIeEePi/dq6IjDqo+r8gYdRs5PcCwIPUK9GrowbArSDcYWijCMC90cWzQZoFwKLiaSZS3APA4umB0SEGBsChd8Li6RQHwFf4TFWJrwPACXVDdOSSAsAN9hE8sUwFwMooYktSVwTACHEby4M8BMDBl9VffX8GwD0Np/fOwATAamHJm4At/7+rR7MFQ5oBwDYD7YJa6QPAARdZd0cCAsAPSskTuTwAwPhVfZ8r3Pq/D7peU0Wx8b/Xva+bcmPOv0iuohjC2vs/uPRJf2d5A0DUHevx1Cb5P/SFHZd4+QNAObJ4gkXjBUA=",
          "dtype": "f8"
         },
         "y": {
          "bdata": "sYa4eXDd9T+5HTix4qb0P0F1eGkHKvI/XN8aFkcE4T/2VOtpPUvoPxZFS4m2i/k/b/ug4x5M9z+FMsgtUADyP2G/kYdiUvI/X+MeoSMf8j9xHgixrUvtP1VUq4kuQuw/jBWm7ofd8j86IaUo6MfzP5yOOAQ4+P4/S4ybugtoBkCmE3UnrJ8IQEtK5/3MWAhAqUV2Pkhw+z9HLIxft/nnv6WvWtDLiPq/+ICdEcbsA8BZHS3U/D8PwMXyVISmBxHAUzaS6VdiEcBHxndOWz0QwP4OTTK+1QvAPfVUqWcACMAdPoU/tpcCwLzsHdVQj/6/ByHRJXi2+L97nOl3eNTyv0XTJcJYMvK/KrvPwQe99b/dTWmr+k/3v+xtDvVNpPW/M9IEkF6K87/q8OmLnuPdv9rD7s4JKrg/JGA1FNP8iz/RvwiIKZfNP9HexaJNlt6/iSEEb4JQ7b9YW0qENs/Tv/Y8Aw62H+G//iUNhhAr1L/vpkMvBpLUv2nwAJkENO+/dGVQvdsVwb/ytqasEFHyPy61fu7yYvM/y+sZDzH09z/n6AW4OIv3P7YeSXjvIQFA+RXUuugjBUAhw3Kgni4DQIaQ++vYJgRAJC2BaeCEAUA=",
          "dtype": "f8"
         },
         "z": {
          "bdata": "5L/iDuOjyb+scaXHojrRv5LF0R4xPOG/+DvL/zt527//JyZeX+znv0wyV90nl/G/b8E697rZ8L8DDD+mobXtv5l1Kg0E6d2/hdvjJH+H2r8RWjJyWxjtv05txNTyKO6/ypumx8I/57+B1odi2HH/v0+QVnW8QQnAXe4aRiYdCsDefJVuJLIFwM5SCNYfg+q/vHvt0JH28T+luY9+FHfyPwy2JAAL5uw/xAZTrOy16D/xYeFPqQTTv0CGt0yD/Oi/S7DMq2/q6L9xZpwkhEnuv3iePemW0OG/Qmn5pASdwL+K3X9deFLQvxmDpVvGZ68/ZvOo+tntvL8I4SUOUw7RvyWwmmmh+62/MMeOksixk7+IBseXF/XaP14vRt2WGdw/kED2cGwFxj81MSADDSTaP1Syz2gIAOg/rIWIlSIw6T/E5ydXuSzSP1V+JOUMCc8/KJ5FXo8u1D9bC2zXpr7IP25Hmx/kIds//Way/t7y5D9S7C43117iPxwWS9zWZt4/R+TtZ/2O5z+nlM5miIPjPzg6UdY2jeI/LtTw7yS49z9zI/vLar8AQG+yh6gjwQFAFsT2VEaCAED5j+9anVgCQNLeU/r4EABAtuUbgTCt4z8=",
          "dtype": "f8"
         }
        },
        {
         "line": {
          "color": "rgb(214, 39, 40)",
          "width": 4
         },
         "mode": "lines",
         "name": "Image_4_sum_spike_rate.csv",
         "type": "scatter3d",
         "x": {
          "bdata": "b0Lcs64WB8DPbRRMMsAEwDHGWtPZwQbA+Dy8qJ+vBsDZOmsBhxEDwEC4hvF01v6/0VVWBUgX+r/YATLFQ44AwFq39oAcXwTA8VoJLMMjCMCKblyFxJQDwOIWMgZYM/y/UP4MF5So8b/28C9HSa7wP3HdlRunjwhAx5iWC8HqFkCKfnpRbJYiQFw6gaRvECVAwlT1y+EiJEAfnLga8JgkQPig5gUk1SFA4kH3ytjOG0AViu5MeOASQA/Z2uNCiAJAd5xVFhjS8T/z/cz/tqDWP+QPhK/KBee/F+gxBp998b9Mm85EI8Ltv3ju1aSPgva/w4k+Sf1h/r9yhx+tIY8CwBOn/M2P1gXA+26WKFWABsAv9evt4EUDwOwThpDmMgjAUPB9c3J2CMBImaFr6yQHwHhTihHa5wfAJGvazDQGBcCGQxcXh8MDwK/kHj1JJv+/Eq4WYcxw97+pzNmklmkBwOJi5EqRzgHA7+jMym508b98E8smxx/vv/Q5GJYe3fC/UCab+Pp/7L9/8C11ix3pv1eCKZzUtJy/5FwcIPtxwT/perai+NfLv6NKUFRPmUg/wAAMk9m75T+2iPRsFgfyP/sAZD0UtdE/1Qtgoxra1b8=",
          "dtype": "f8"
         },
         "y": {
          "bdata": "/Z48aLn79T9PdMA5L2n7P7OQo8ivcPY/RLAuh4pJ7j8rKou+OHf2P0sjy7sATf8/To/EVFPD/j/dBGNhXDnzP1ZDP/BVY+k/pvKs5+624z8WnUx27IHeP+8w3DZ4RfY/EF/G2gzV+z/9k54dN1b+P/8ndc++8wVAe6XNvOB6B0DZZQkH7TgHQMsU5ETVEABA5/rSKxvNjT8fPpCtAWn7v9H+wj2+hQTAD7ZljMYJBMAC87XtJX4GwO4RdCgPGQrATPhA+TvfCMDwRNNmwvQHwO1pO9YluATAh57RSQgE/r/ujlZEWl/zv5mMMxYDqee/XbfdUl5b67+lAarVbIHtv1JRTnhgy/O/KQbAnNcL+L872XiRTlz6v1KY843vQf6/Nb37n7Yc+r8g3DuAitvivxMU5etKqeS/avf9EQrB47/BjEyNjl7cPxNa5fyDtqC/A5lUHbPd47+dlUoXZTDnv9U+8Y3Nf/K/Ly+jJPwF6L/Az5xC6n7MP7Ay3drjyb6/VddMCADC07/TidmAzyrnP65u41RRmPM/jhexXIDo8D+KabWdHHX3P/ugzGVF+Po/Csk2C98R/D+vK8z7oCf9P8hUMCGXSOU/S/7t+D0/wD8=",
          "dtype": "f8"
         },
         "z": {
          "bdata": "Vz+xDnnG6r8ivj93wdzavx2Mu01iEdi/fk1lO7ST5b8cCKkrLSTgv7Rbn+gnoNq/LF2sdEtH479WpCCump7yv4VXWq0k3Pe/CWvSpB9M8b9ZM7wjz7Psv355dilbZPW/68a5Pd5A+r9TaCMzhnYEwInA3jF0UgjAodJYpkFsBsCKgWAy/4P6vzU9gBOAweA/TchV4Kre9D9O8bLpuwnyP2PFJ2K49Mu//5yxfG9r27/xtqt01VHFP4uEhH7DtOO/goeJSMvG+r+JTccqBLX8v/n2y9gDRO6/PGPboyi/1b98PjZ3VergvzjpmTwvFNG/7Tr20tZk178wzRc72FfqvxJ/pl8erte/RvPv69go1b9kgFUaXwjhv3rDlTFc2ui/9D5bRY492L857nNUgBXgP2TudHkMeOU/Yp7Tv+8k4z/Xa9eNJufrPw5Ig3iIbu4/WOBEkPxRzj+KFPDdlF7KP6ITxA7Eg/M/bvTkzQQq8j9a4JzuzmDwP8Jy8bhtDvI/6yYuhVsD9D9BSki9o+n6P8/T74zNkQFAfs3ITDq1BEB3+LU3IbgCQM4vW1OtxABAJdOZTy6V/j/1LDo+2BP+P6f1VUVY0wFAWbpdTZlhAEA=",
          "dtype": "f8"
         }
        },
        {
         "line": {
          "color": "rgb(148, 103, 189)",
          "width": 4
         },
         "mode": "lines",
         "name": "Image_5_sum_spike_rate.csv",
         "type": "scatter3d",
         "x": {
          "bdata": "ghXRE7opBMA3/4EUwWQGwPsB1pVNgwbAbcQpfa0IA8BoDwjBKJUDwNBY48J7RwXAdMkd0qKfBsCh9JpnuyYFwBn9lvWjLwLAROx9TE6dBMBaH68FZxsFwGpfweTgbf+/1UR10Nb09r+m2Per1MnFvyTc/7eAvPg/igj3OPdxDkBffPJtySEcQMxpf54RrSFAnzSF6lZ9I0BLWyadI30jQIi24fz5qCJASeLORZREIkA/C+nJ/J4bQDyBpOJBahZAhwVxLFtnFUBjllCbDgYQQNn/qjY1tgRAfyBfmYZU6j8brTUofjzJv+miks/WpOa/gttMoExw/79IBa4sDVEDwLEoGw1RnQXAuQkE+J9UBsCt3PPRlv0FwPCCe6lA/AjAGIyyOGr6CsAqar69+WgLwIQbMoU7FgfAdselfX9/AMDI4CAbTE4BwNoZn/vDygPAOtwvcdW0AMCSgmOMB6MEwBgc99PoYAjAClJXoLiuBcB+xENOPZkDwNFJSSVrhvu/RXDvSAkc978kYgKjy6z3v5NSgO/Pt/O/bINlUG9X8r9g7g/vq2/1v3c/Mz/ONeO/1x8Ld/lTxj9sWYXYXbnSP9MGZuM/sOU/iq1cqcPH9j8=",
          "dtype": "f8"
         },
         "y": {
          "bdata": "z1GsDkHm+j9LSjbHkfb5PwvkaOc5ufY/3iPTpMxJ+T/kwan5KprzPxfAY27PHO8/EeBlTgxJ7D+sTk+05cTqP9IjB8d1AvM/K0Xep3h58j8racosIEbyP6OyzIxGj+4/IWAuVp/t8D94UguQW//4P/L1eqiMFQNAMUBNI0/KCkDaaH0y+LEOQPbjUKcQ1wZAtdKNuPqL9D9RA9tA0BrjPxbKmIpiDdW/Jc1fN6PE/78IDhXWTccHwFsvjuYRSAjAtQF31KaVB8D0wWdHp+oEwP4Jzz8hTwTALP8mNpYgBcC7bjPcGJoFwOP+ch1uqgDATsEByBI8+b/6AoJe3SX2v+3iD6jDOvW/eIUaTQ9C77/jGS5vhjzovx42WUBYIvS/hTyOJEun9b/nL97pLnPgv5lQzsXbx+C/Tlvavjea7L+nNB53YmHgv6FHpg1ca+O/VHjZhVv76r+07N5TXG/vvy0qfk1vQO6/jk7eMrly57+YWC6I65/qvwb7lRlhudS/Uwp4GoxxuT/pud65BN3PP3IcRzbcbOo/ucvZwr7u4T8K33rkzdJxP+jryv2UfOE/MzASa30A+z+AkFISzgP+PxgL1DNqh/g/mIDLWB2G8z8=",
          "dtype": "f8"
         },
         "z": {
          "bdata": "zxzSVJB1yr/kM2kgLzrIv2KIKxVeLNq/eQWVlLwz67912XVRn0Xsv7MtvGnF9NC/fzNaug7HuL9byYfDoJa2v/sRpTNLgtA/A3XxkaeMvT8vRpNWbiTov/j/DEvQeOm/NtVScnMh4r/6VXxvngb9vxPKJZIBbQfAOqYETaFUCMDOTkDeh1wCwDJgi2W+W+q/85wdAw9D4z+dXc6a/6bvP1xWVaV5tfw/6GYz8YUgAECx+0EWflHePz6ADT+YTeW/yrs9zywN9b8GqwlO/y35v1X0B39hqvm/pG2YmO8f8b+9fNAioWfxvxQJqiIAiPC/TcCplGAP3b+paegATornv7glqCdCT++/eh7Lz7jG4L/qIpq1o9DJvx7qbGrfVdK/9sPocU4jmb+7RPZVgSzaPyn03pVeE7o/xWN+b+39ZT/jHoEGC8/XP6BOYiulcNU/8J9xE9et2D8o6RS49TnXP/efm7lTTMg/EOHVtIuy3z8f+hA/K47jP1wBdoQwn+s/BTTtDc2n+j9SA01LFhT7P5WqesuSu/E/DdQdCYZ26D8cuSTqX8TlP6ZUOkdwDvk/ePIyNo8AA0BuVgF02MkEQHdamNRuHARAlEQPc0vGAUA=",
          "dtype": "f8"
         }
        },
        {
         "line": {
          "color": "rgb(140, 86, 75)",
          "width": 4
         },
         "mode": "lines",
         "name": "Image_6_sum_spike_rate.csv",
         "type": "scatter3d",
         "x": {
          "bdata": "HIJ/k86gAMBaqKGoZRkDwCi1/TXVNwPAf/MXykD0AcC87TLfUKcBwFcU0iqIt/+/Gg3+r2Pc9r+5nlHXBdf1vwLvLXAHKADAPI8xCeKiAMA04EwFzX/9v1mCSM64afq/vVkPzv8A8b/zwraYpLCFvzcF2JpxQvs/Ork2AVUND0DkhmjX1VwaQKccdKGgviBAr+ubo+d1JEBwPQ/afz4mQLG6b6t8ayRAADK0mkHDIkB16ELMHVEeQMHitpy19xZAeiM3xlEiEUDSu6FbJK0FQJU9TbM3LPs/WsgkPMhM8j8z9mCMO73Nv7c0NaiZs/q/bCoP2+SdAsBuwszaSFMHwLUcMPHqegvAq5PpKXO6C8BjyM71No8MwF0u+2J3gA/ASOvaZllJDcB7aOMNIBcKwJzMf1+sbArAmgqCrXzKB8Cqe4G22qsAwCDfr9pqxfS/1tf5xId397+aS6sbTL//v+2yRj7Uqfq/oRbnXrvf+7+9SaSy/ej9v8mQew8Zjvy/bMDBA5qR97+3WRfC9CP3v06L4Qp2Dvq/SVIUWriw/78VbtTeWkcCwElurw+wB/m/+LpSFeYh679tR1sunj/iv/cijOFMp7Y/8+ZvCY4B3j8=",
          "dtype": "f8"
         },
         "y": {
          "bdata": "ZDVaaua57z9zixQ+apf0P0JMTVVhiuw/q2O1r9Us+j+HpLjlUZL7P2tv5n0cKPQ/1OfKOhGH9T/YDLmOLdL5PyKKX8d6xvU/QNnaxH8h7T9zzTMWJHPxP9lPJevo5fM/uqOwPW2p+T+hf7PyXfgCQLr7BaOsPQlASmDitg3kEED46oHkdzUNQLJJj6j/qAVAtG+e1Hj8/j/oDc8+vRXBv5LZPQTktvG/o+JsbAqmAMCv3melPc0EwDBdl+FwKwfAgMuTSgP7CcAGH0DvPacIwJbJf2DYCwfAJ6fvTahaAsBWasaJtX7+v7Vr49TxI/W/EcRQN4Dv579Zf0cLSq7tv+NZhakrovK/BZKTQAZu8L/XB7b17EHuv82LYSFeK+S/lrcCiviJ4b8O1DW5xYTxv0clHuxgv+u/8iRDn92J47+jIUd2EMPlv1RHr+uK7OW/ekqflpiC678m/Oycj0zuv/DYk0uZnOq/teCydZzK6b8kNdK0e8Ppvwc2Wch0Kei/hab5RP3H5r8Wb6iLov7ev0tAGzaJkb+/vnL9bHpAwj901Ml9oR7KPxXccaK1Z+Q/GTIW8PaO6z8e64jgQL3ZP2ljCJlBU+8/yCAku+Yr+T8=",
          "dtype": "f8"
         },
         "z": {
          "bdata": "4GOQLM51yL8lU2NPmOnQv+KeDXjI5di/YvUvOpMn4b9FY/qWA8Ddv21lpMRSCt2/7/nYlhzM578IN8E/TD3avwNT1F5ot8w/v6s5n5+p1D8B9GIOI4zTv8j4XNFUM9O/1Qzv94Nx6r/4qRhKJmP5v+CjYdWFDAHAwasOfe2fA8AD+ixePnn4v2ebkH+bXsO/jxjORQGk7z+yHNGOOHb+P6OJrUQ/ZABAxWM/DF398T+kQo7ZXIN7Pzug30u/afO/RSrypPVO/r9GMPbBAQ8BwHrpinXy0wLAr9c3L8jiAcDr4JVZYBj7v7nHBL2u7eu/S2/G3Lb+3b81174wpFfYv3FV7WaGqde/7X/iJ/qnz78FBtMiU37LPwl7sgheltY/TyuhJptH4j8Mp0JZIo3lP00H8xeVO98/Y9ZweGRo4z+Gtk4gMuPoP4rMIkoU7PE/gAF/Vhlm8j+KAgZyH/zqP4IZ+6TngeE/UypZDxQG1D/JjtfiXVTEP9YPJYrEa9E/rHBwi/Yt3j+gJjB8bRjtP5qz8BPl7OI/CFbv/yeqyD/G9NgWPoveP4T8uCEYmOM/coIMkqww9T+erzPRy0j+P7j6zgHLWwVA+1wuhMP6BUA=",
          "dtype": "f8"
         }
        },
        {
         "line": {
          "color": "rgb(227, 119, 194)",
          "width": 4
         },
         "mode": "lines",
         "name": "Image_7_sum_spike_rate.csv",
         "type": "scatter3d",
         "x": {
          "bdata": "+FPydS9RAsC+uq/AftAAwA2bOiEe5f6/ep+Utmem/r8NirXV3esBwAmQn375KgPAf/OemiA1AsD96XO7V5YBwK44ZFmmqQDAixdbpoiIAMAQuF5kxwUAwGL+kydLA/y/I4ecKpVe778t52WciznBP8fcpGCjJfs/B5wmn3oGEUA5IthQBMgcQHkMXIRliCJAv5dkerdUJUA89+DzSUkmQIE83A1UzSJAd314ah5tHUAAMVaIFosZQIJePCj6SxdAjwO5hcqtFEB89WWADJsQQMkboVpDwgVApgmZvQFG8T8UjrQB4UTjv+lFje+tp/m/Eor0+APRAsBX/8VbiCAKwFMf3ML8HQzA+EL432TOCsA1Q3bp0ZsIwMy23458zwjA7chqgC1ECsCxaEtNfnkLwNXMwQjCbAvAkV/z1ulYCMCwgFFbSVkFwBIFw4V/TAPAYqTCMDztAsANdt67tNMDwJ7sd8bdjgLART2NBZo5AMBgAwVYRt77vyJWXIX9RfW/wgKZZ4vO879uzWtRfmb3v9R/vsm2ZPa/GTLfWPzo+r87upuT9yv6v/Z/iwuWGPC/D8gETa/w5r+h0cFBNp/Svze3mEApPMg/iLitU0ti2z8=",
          "dtype": "f8"
         },
         "y": {
          "bdata": "bTUOm3KV8z+9OSyugHXoP5S6JlzS2fY/jHMCyVor+T9OerbUC4LkP34MEdvDjOQ/rS+y/9rZ8T/6sBj4EG3wPxITq1BoYvE/ghl2BVza/D82oq3GAGv6P7FiT21qlvg/dKGLGWHq9j+g84nMTZL6PwCr9lG7VAhAc+qkBkW8EEAUf7rJWpgPQLSrY/2zKglAMGphxwgn9j8BYGbd4qjPP/2VNAQzWOi/oiZYP9WZAcAgO2lNezEIwBJXOkJznw7ATtijxrIOEMDa738+uBAOwJStRvbBCAbArheRUiHM/r9DrnG1bZMAwG25QgJ8u/y/lOkEUFKX879LqVd1r73yv1wIZV1Nv/O/J5HP94/27L8mr4rBNy/hv67M2XomGs+/KtXLh8rR1787jG8nwG3qvxO7mp3T4uu/E/ZIsRLg6b9hKQrNNfPmvzFV0qGVtuy/NhvZPHAh8b+cvcU+Winqv8wbPh+3S+G/UlxzpM6D5r/2lI7+UN7ov3h6qPHkntm/FekTYLiN1L/aUUV9C0bUv+RdPNtW+8Q/zR/EctXmcT+XUh+TfpzLv0KIFXyYGts/g8Rjwjs78D/Krnbgjab7P9wl9iOTjwFAnF+MBHxJAEA=",
          "dtype": "f8"
         },
         "z": {
          "bdata": "KB1Jog7s2z9zNSTFbJjZP4fAoQ1nM+U/HYHG+Gww8T9O0ejCkdHyPyBAh8SCqvA/+u1nBNai5j8Wg3z6icPcP5ZsCSJQi+M/OC+1ZBcl3z+tS+7fZrTmP0mkxxA2xvE/enrZ4aZd9T9fVOvmFG3+P2F/3AdjSPs//ZPFI3U0+T+tVHnI93HqPz3iI3CWyvG/GfmY2Flo/b+cuOqnMcH1v/CDT02xBfK/vXxYHho34r99DR/aGonaP+ZstLoSdvQ/t2Sj6X2q/D+PuQJ96i78P2obYBp8w/Q/Xh8aARJb7T9ZbmKJpivWPw5Yj2QVgcQ/r6UXXTwFwD+EYORyfT3Hv4hZv5xWftG/Epb5/pEG3b8uAS7Mgx7jv+vAGs1HReW/xUDx4yy/6r+wm7GDJfjov25+eCBEEOi/gDq3OnSY679Tp/ahTjbjvzQVe9s0PuW/snjzJKmI7L+EheQuV4nlv2Rp3R3CouW/N9TWg3p46L8XW2QLpUbov2334fbP1ei/UbbIbSTT5L8pqX3EDjTgv8h4Kja1jdi/a4dItg+A078YubBL1tvZv1m+1XlNC92/M5+Du7Y6478wlGzGx3Drv2z4flyhDfK/s51wBH/U/L8=",
          "dtype": "f8"
         }
        },
        {
         "line": {
          "color": "rgb(127, 127, 127)",
          "width": 4
         },
         "mode": "lines",
         "name": "Image_8_sum_spike_rate.csv",
         "type": "scatter3d",
         "x": {
          "bdata": "DYt5RLvt+78jsgua/3D8vwN03egkl/2/LOrehXvp/b9PrvVDEtj/v8gWS0+G7/6/1lbSBXHc/r9xj7f0iLEAwJV7hkfZYf+/kRUobSIcAMCuT9i6TvT+v3FUKk0xRvW/JjDr3pam4L8/ap2cTsrXP5QZRzhKeQJA0d1/esfEE0DzBUb7oOUbQBOQZM9g6iBAMVT7bx18JEBufZKAFkAlQHw7OkL7DCNAiVcexA6KIUCMHXI9TFAcQMB1DxVPPRZA2Sd5/NcBEkCwuOVSvFsHQN7Gd2O8/PI/X9k/ig23oT9Hjmb3w+buv5v6oSTEkfm/VInc2Qdr/79gxYP4iCAGwGMU4djjsQrA06t/uIh9DMBwhXUqs9YLwObfeuj65gzAZexNoa+iDsDQ57tiHwQNwD6/xd4JHA3AI6NNYy+nC8Anc4s9GTkJwNLtKBq5WQjA3BtUblAGCMAJ2RRXIsIFwArwE6EuugHAu2QVvWKaA8AbyyKgy+sCwAKuYn97TP2/3xqMx442AMCTeCWbO7z+v40HzdQscfO/khNNRJSk6L/MQ1iRfLXXv0RUroiP6b2/hYKXbBiwZD9WeTEAf23jP43HnJWvLfA/6cC/UViA6z8=",
          "dtype": "f8"
         },
         "y": {
          "bdata": "xJUj+lwu8j97JB3YBCP2P4z96Bosm/0/qX4j0LBG9j9h6k4Fvwz2P1eQK6UB7/c/90eZ2J4a9j+kdaapqYL2P9xGLfSbtfo/Hp6Jl0l2+z+yx9njpSL5P8mwKC58DfI/tlifHHq18j8ySpv6EW0AQHPDOT3KJglAqfT2/IPmDkBQWy2fz2MNQMJIUI9X1ARASoNQdAXN8z8DwXRQiWm3P4ZVDUxQTfK/phSaO29BBMBh2NIBZUUKwBwtrGYoyArASEh9vjZgDcB3W4VTW9sOwKCz48l/rQrAU3fZZAxbBsCCKmOWQxECwFpXA3owIP2/NNkrNLCw87+aon3K6P7uv7QHzpVpJfG/ON9GrMDl4L/cT/AySWfmv2F+fPuFa/C/VE88DuQy8L+c3kCajoTwv+cvuChXTde/uwa8RlQW2r8Z24QmqGLtv4+Y8Fu79eC/bcbxVd+o4L93O/k8vfLov5Z46rDxq+W/ohXCJ9i/8L+Y16P/8rbnv7jKqFcMjOK/3Kf+9X/q6L8Jm5lwNczXv6Q0iEcRmso/duK9vsfK2D++M2qVxIPiP4zHh9FLG/Q/JEY4pfxg9j9+7NHyXcf4P4tmdORzpPU/BTVAQ2sR9D8=",
          "dtype": "f8"
         },
         "z": {
          "bdata": "yTbNGZsT2L/jcvhrOifJP28v/NPtbdM/nBQHCma70j/EL3UfXkGoPzIUhNRG89O/enPE8PYIo7/APjmR/bK2P9nyrZcJ3Mk/tn5xIpqjzD9Z8DTFDyLIv0roXdUc3+O/sMukAdF88b+zKkmcv+MAwJOslzRREQbA7GNaTxIP/7+LMObq2e7vv0cMv86GFcu/b0rpqKdS8D8cE30VSVn8PzvwlodS9/E/cjjqLHDF3D9kPTm1RXvTv2Nzhm3bhum/Ar4dgBxj8r9TYp0HtKHzvzvsQHwu/+G/aPK7GA3N4r+KzAL2ixviv5NfK++RDOm/ODe5NJEC7L9XJ1STsmrEvyZircFggZs/9V3ZpyrZzr9ayHli2Z+Uvyyc/SM288k/1ICfNsZszj/NBKAmub9UP9TYF4JTgri/+Nmby5gC0z+qd1aaoCiyP92toKT/gcK/zZsk+HoF1D/VRXr5PU3bP8FbiT7wsNM/cwefZnO81z/P7LYqnVLTPzyHrqh9Rdg/c/9E8QBW6D+uehKZEIfmP3YHJyxdUsc/j3xez/d41z9v4oCMqsvyP3hDoalaLPE/Sv67gNfp7z9EpJStYUj4P8KE8/dSU/Y/ZdaIr6Ja9T8=",
          "dtype": "f8"
         }
        },
        {
         "line": {
          "color": "rgb(188, 189, 34)",
          "width": 4
         },
         "mode": "lines",
         "name": "Image_9_sum_spike_rate.csv",
         "type": "scatter3d",
         "x": {
          "bdata": "ATwW0CJ3AcAufIiqQwEDwJcUtzTcxwTApfNou5zCAsAcqemJFogBwNpLujAiPv+/RwpZD1qGAcBCZ4NjuTUEwAciAYxQCgPAo0jtUKgeA8DRbBV4jur+v3Gp9BOHYfe/9eTvQEBz9b+JGdlrcBjWv8oGqBfAqgFAq45G0RgvFkDNEKMSINEdQKBc8p4/vCJAHBk38FTGJUAGIrJVsO8jQHqTTiElASJAU5Sb7ZsPHUAOztL+IuUXQMZb67yWDhNAID/NmTuXBEA1o0PRGlnuP/OZed0G+Ne/M9BmzE8Q4r/yz0mNlBPgv+VUBSnWqvO/QB+SsIKm/78XjEx8F5YCwPlEMsQVvwTAgSx5NVftB8Cq7S+QwRAHwMRx77jC/QPAE7CYhw2rAcCBLTYm0Vb+vyPZOJXkMADAUoG3hlvFAsCfOpJ/JIkFwMWCeT+hSQXA1xgKCoswBsBYlanm4K0IwKG3UnRjawbAaDhleSjaAsBs/TQcuxgDwMl2Fy/TtAHA0bsdwq5IAcD4SXwUhIsCwFTmWpXti/6/CMYEo0Yo+78WddIMQl/iv7GZuxf2UOg/CgMHYmlY9D9YaTmxnIr5P38IKXlJzwBAHq1/YomIBEA=",
          "dtype": "f8"
         },
         "y": {
          "bdata": "UGePX2288j8//pDW2nfxP/Qo+ZqDMvM/0BLuwwt6+T/FyPToR8b5PxVCUHWxUvg/YhPGeRh/+D/1Y49A6M/2P3yHiR8OKfc/5PkrxgFo8z8X3oRLDnnuP+MXV3MJtfA/lW16ADEx9D9EONc7ifb8PyKdGsBtHgZAb6ypIud3C0A3RBEgjn0LQAV1XwyD7gdApmyzui0i9D+54ioqg9PkvxYVo1WjIALAA2V0PadKC8CdPI8GbcoQwM3r2bNCEBHAk1fgrc+rC8CUu5mjzWMLwAKDqanCQQfAiKkUWFapAsCs5fXkRIwAwEzD7F6nPQHAKfA3xIxdAMA6/r+affT0v5Q8kmHQ1e+/yi3tfbO8878NCmbcvm70vz29OYd9O+i/hFB/O+E127+vGTHssIPYv/dufJ44jNu/oIGUOfeg2r97RDP94sXuv5G1iPsXO/C/B0fVDpbG6L8sAMwTXnvtv6BdDJ2N2O6/3XX1CWmh8L9cBM5cfg60v7vK5w4lz9g/H3B1HYAwwD+/7W5nsFTZPzhWCCytz9M/83badZ8J7j+WaL0c8kL/P6MANWYr6fw/kTXEYbgy/j8sXs3ZLBz/P/Z5edflIf0/7lqiz4dg/T8=",
          "dtype": "f8"
         },
         "z": {
          "bdata": "krKl6zhzw7+XAoE8wdLcvzWt3pehLvS/rQKchnED8r9ah9YCwZXqvzKGtiu3rem/vPVVkOkH4b8/VmceVI/mvyzQxrHzJu6/gcEtLosl579p6eks/AHwv7jBwYzDJPm/MOV7VukI+L9MrE+Oekr6vwfrHFM6QgLA7GrJ7R9nBMBQEGREEDT2v3SCdnY45cY/SzvdUupn5z/ie0B4vhjnP1s3/WoAI9I/342mORH1uT9YPMh6b7Dkv29gcXmFtuu/NtVdbb+u1L/bgBAgOKnjv8VSX1kKHfO/l42YMut08r9qsRr0Nk/Bv1aOy26TztE/NJG7c2Bdtb8QMb8HPv/Mv6hsZW5zTpo/zW1p5wBe0z/474VJIgzPP7Y6awHKQ5k/XjDdR/QYpL8FuhfkSJnVP7QhTQwAWtc/t8LI0/25yT8JtGcg3TfVPy1JVXlly+I/hHPoJ7/w4z8IsEQGnL/gPwlmN51uh9E/nixWdoGv2T84UgR5syLwPxKly6WnhfA/KJQycpCc6j9wVmt96bzrPxWre/QV2+o/dMZnzpxq8T/++V9Y1n/9P51nZjmJrwFAfvfnbczHA0C2bxsal78DQGkYPrThKQFAEo5H131z9j8=",
          "dtype": "f8"
         }
        },
        {
         "line": {
          "color": "rgb(23, 190, 207)",
          "width": 4
         },
         "mode": "lines",
         "name": "Image_10_sum_spike_rate.csv",
         "type": "scatter3d",
         "x": {
          "bdata": "QSuAdwqSBcAOA+O3bLACwPpwqB+fXQLAsUyn+zKMA8Aw0Mh7KmUCwAHyMpjC4gDAhvawAu5wAMAxI0LhJ/IBwEg0c3BCpAHAJnbB7CUHBMBKvVi1rZIEwHgdJEGrsv6/h4YeOUBc3L84F5UA6uf0P5WRGM5olgtA4JPs7co7GEAATXOLmQ0hQBtnlRVqbiVAIeWmwUacJEAOIHYXSEIiQIbt/cIxOSFAPPcBcGgRIEA+Z+OgjyIYQN2fTlQtGQhAdDpntIbq+z9RYIa49CnkP5Dik2KYrPC//WeZKjxU/L+H/wgC0+v0v0uUl8kIK/O/6dX5wUed/7/VjalQAFQEwNKNNG8eKAXA6iO2jpgcCMDbyLW6/gALwJMMxaiWkQnAocBl/oUOC8BFi34g/FoKwK6SQObC6AfAMoK1fzJOAsDijUMOma/6v7UTkVK8+/y/o+3yvJrW+b/pqc6gP4L8v/N7rNbqE/+/WphfY5iK+b/6q9op9zv7v9dipL0LiwDATyiI1W0x+r/kLlPIEEz2vziLOAxbXfO/2w9WcFf317+tLHXdXuzSP1+fa574o+4/Pl5dvDSo7z/lFucvCMHlP8y/Vjx6DdE/Q+dwAM3/yD8=",
          "dtype": "f8"
         },
         "y": {
          "bdata": "9W8JgZW9+z+zv/Ot9vH2P3gbtV627+s/cUOhCtvT8j8nMhJXS9r/Pyt+T8O3S/w/n/LPU56U/T859Y1gQxsDQMILXtgANwBACILYCPSc9T+TO2ZHlezzP1voELAVWgFAx3/BxquqCUADH/5O6ZgEQOWKCu51wAFA7TgUoBM9BkD6+qECHqwHQHKfMrGOSfs/Z5sErvg+wT936k904xvTvxhYbX4dgAHAEErPumo1B8C+/hXIUj0EwLV9agh7CAfAOO01gkNlCcD94ZSPqL4IwEEI1wyi4wTAZSGqENynAcAWzsx2tS7/vwoDj9Vuofq/TbWiyYI19r+CSLQGOKDxv2oONXf5HO6/QkAXzuDs+b+aV3dfUXf6v7RDW3BF2uu/IoLIikQn4L9aEuFtj0rmv9qoaZW5VOi/RHAVT67Tpb9wSI3WCJ/Av5Ez9HToxOm/G9wrV+xJ7b+z48ZmCob1v6cytqaaRvS/TfNCjBZO57+rXXAuyaHTv0g4kSTBstG/Xf+cVfdkrj9zr81hDQjlP18xxfI9Sao/Y34xwelPzj81obLUjNz0PxHB/MYM0PE/lbVzrn415D8WlUzxzFjiP2dNBZ5+0uA/awWUSwU7vD8=",
          "dtype": "f8"
         },
         "z": {
          "bdata": "Z1QYIg1Vtj8HJFC6TEzVvzNNKlg3+Je/NI9qtR1Tuz/Bl9IvtQXLvwO0A7UTx9+/tWUgFxbFub8we0ZMxrSuP/g3P7r0lci/cu/yt6VV3r8rLCeDFX7zv+KbosgbEPi/bDt6ZmP//b8pggl+IRUDwEQnLVOghAPAwYnzINbtAMDanaly8Brwv7fZ+d48IMw/TgSPo4ck+T+hnppNhWH4PzwmIs8xH8Q/GEXS8zWk4b818iMQ8MLvv2dvVGIeIem/vXZNue0D6785IsHGwwT6v2wNXSl2PPm/kIZqk8EN9r9bQqo7ATD3v/lqLYmSv/a/BqTeQ0Za8L+NpOsLQ0Xwv/8LfQULdPC/F/5tmMM01L9jSCScNFCGv7SqRuA6Hte/Jtirb7gB1r/To8Iv3kHUPzY7cqLUpeE/vi0ktrar0j+xyOgcf1riPxM9pRijpOs/GOBacxY27D/92jJNLCrrP0CgKYNei/U/Y5rsw8Nk8z/BoHYWYObZPwzyvS+pP/A/VwBwsXk1+D/FPtglvHfxP/0SQNSp8PE/ffkrd63/8D92eXqm+rLzP6lvJdHHaQJAsdvUdkJqBUAq7DVKFpkBQJGCjBj8SP0/0YdrWC1RAEA=",
          "dtype": "f8"
         }
        },
        {
         "line": {
          "color": "rgb(31, 119, 180)",
          "width": 4
         },
         "mode": "lines",
         "name": "Image_11_sum_spike_rate.csv",
         "type": "scatter3d",
         "x": {
          "bdata": "bkXpJr2OAMBh/msp4ZwAwE3IPgK0GgXAXfojOGMpBcBtjug4eRAEwM0WSc8gZQXA6TGn36z5AMBnZL3rOI3+v1K8SgMHeQHAOKwDDFZ4AcAF5KAJfYv4v9c5KbvGwPS/9oO/pJCP7r9aHbYSyrzlP2TXrXvpKwNAH2PH17ygEkB/xqZnpHMbQOiDSlVrfSJArCg/dv0kJUASt3NatKkkQD/VM9fAgSJAVMUJeiRtHkCaKW+ZUt8ZQHENZaLGmRdAuVrA+20GE0DVH2GORXIGQPoOpsAhKPc/j2ebuX1N3j9h9vNiSf22v9XRjpj+Y+m/OcjMOjERAcDdubaqvuAHwAxn/VjbLQnA2D9KZBZkCMBPxIH5AJAIwCpO+/c3/AnAHLufVL43CsC+QKVlGboKwGOMFgSShwvA9K6oWX53C8BUM2NtppgFwH14SggxZQbAnEx9JJX0CcCCelFFjWUIwNe0eQHlXQfANfVoSyQ6B8CsDeidndAAwDBO4cZRcfK/SdybufL06L8AY015ZZHqvwxlOdCZa+u/GG9nFUio8r8yLSvurCD2v0TCJaJGPea/PU+HsDCL2r/FOAuTT0erPxhN3wuXJ+w/x/SzIlSk9j8=",
          "dtype": "f8"
         },
         "y": {
          "bdata": "topev/vo6z+4sNUp/Qn4PzYfspDRY/Y/Gn8Hb0bE8z8w56p/e0PzP326nBY9hOo/zwEStDBd9T+kMIrs2ab0P4EEFD9EmuY/1tvRE83o9z9qtv879Pf5PxYMCMawcgBANcNuDpseB0A9WkdmfzEJQG+RQtV5FAtAdATu/OhfC0BwYV7Lwr0PQFPjzJLVMwpA4rpgFglC9D96EKj6Mwzpv9rZf/Jm5wPAUYxvtPKWBMBUtWgaZrP/vwJNMTaCigHAGsyvPm9OBsDBVYD37vMFwIyeEES4fgLAEL7z366pAcCxe0x+K+QAwHKUi6VM0/a/J6XMc+4o87/nILna/B/uv+tqiCSneNq/bWnVEoL+0b/p63AgEDvJv40wCRCbSNW/2ButP6pT5L8BQcdJQivhv6Z0tkMb7Oe/HPqhyNZD7b+kD/jQp0vhv/Fz0FSeFfK/FQI3y2Np979YVh2r7Rnwv+1PWkaJMOW/fhGDC8NY57+Ip4ODSBblv5UK5npWxty/GPX0kpPO5L/AFZYpVqvuv8e2FoRPqeq/YNfGoAdPuT9/8esnoxriPy42wrn2rN8/5aFs1PEw0j+LqG96ha+lv0AZwN70L9E/L2u/5p0v1D8=",
          "dtype": "f8"
         },
         "z": {
          "bdata": "GTepCkgp6D9qIotOyNjqPz0nRUAou+U/NsRx7swX5T922vdgECvoP7mDXUU/8+g/4E+LVr3E6D/m9RY0DCzkP1lKDy1bZOw/TCZccSvD7j98idjr7xjhP3yapGtV0MA/O3wnD8HY5r+JCwAsDt/4vy6GiaH9Efu/W2wLvC9JAMBYTWauGBr5vxaudGgT7+C/LD5ZyGz04D99bGC7DFP+P3AmVvx5AQVALUB/shL/+j/Q+uymInyev10Ex+Yh5Pm/PX4mp4DRAMDPjDNnS3fzvzqsbW4Tb/2/NFq6tVweAsCX/WJdXL70v2tHxgxmgee/OKdZaA4u57+ml9kvR83sv1vHU04fGeC/k1H8dJuI1L+SpDIU2rzhvwyox+N0n+K/4qO2u68q2L9e5L90rGXRvyE2J4eqhtK/dBKaAtr3zb+cvQIWNnziv5rPkCmRDda/cSPYNVhs1D/baz5rE27BP61TnaS2XdG/8zufSz7Vwr+4MqQGLjnaP+2xKgcd1+c/q/R0J8f15j8lk2KwEOrlP/NjmUYrfOM/UjgDh1q65D9dceu3UAbuP1C58fJ6a/A/m0cXWLrm8T+8rrXYhZnxP0TrSTZqq+Y/voWrD2sp8D8=",
          "dtype": "f8"
         }
        },
        {
         "line": {
          "color": "rgb(255, 127, 14)",
          "width": 4
         },
         "mode": "lines",
         "name": "Image_12_sum_spike_rate.csv",
         "type": "scatter3d",
         "x": {
          "bdata": "R7gKUyEWAcACn1CAIRMEwNN05V7jmwfA+3YfW9hDBsCPw/RONWMDwI7uWCwUPAXAxM5syt7UAsCt1nnJ210CwMmEsw4dJwPAFUGRHcTiAcCPWIrHvX4AwFmy7LimcPq/KPE+8B+I8L/kpgFTt3K1v8+n9KPaovo/AAJoAu6cEEAuGvwhCO0YQLQkoWNYyCBAnrVhJqH8IkBwLbVlmZkkQCD4Cgj6kSRAhDX2qm9dIUDwjZ2zMbodQIw4veNyMxpAsSio5yM9FUCTP7wFuWIRQLbDIeV7lgdAcBIrK4Or+T86aUAuZGbhP0BwnvgUTOy/2Ubx0WQB/r8J5r7eFfsEwPasjBJrygfA/mBPNLBkC8A1pEPys4EOwJJtICXp9g3AaKE+KAC8DcBMFr6Eb2EMwKyWwRbMagzAJonoeaUZDcBC0mfHR4QHwJi1phb+sQLAlpoexCQ5BMBuNCm4z5AFwLPpcrmoGwLAv1fHpn0zAcD4/Nmxo4UBwDek2UQlEfu/oPIgJ6TD9r8rMflxI3T8v3CcyrnwTf2/0qeqZkhR+L9qqky6qZLzvxerR57mL/C/+mgUkvNs1L8ckfJpNTPcP92+VUqsH+0/iT+FrBCf/z8=",
          "dtype": "f8"
         },
         "y": {
          "bdata": "8IYj75cN+T9L1EG9BTv3P4OqFo7uL+w/efVG7h1H7D+cjbHiesvyPxUI5UEtt/M/hDPILW998z9yz7vxcx7xPxmdydI5ZvA/dJPzPoOM9T/9M6wRr2b1P/j6PqOtfOs/218QoBO66T9cM/ewdMfvP/6vRheG2/w/aezn4nWXDkBBV23scVUSQCUD4S6OeA5ALvo/6oerAUBzrc3oh3DiP6ZdXuOatvC/crLEBd56A8DSsY+B9qkGwNwi9pJQ9gfAsW3QMca0CcCfP+4OIGkFwKOPuVMe+gLAgm795BcdAsCcjHRoWH/3v6Ayy33l3fC/5FFELi5B8r/4DqWn++7xv3WwuEC2l+2/Cjd9NLo77b8npczhSCrhv1UEZftVwcy/c3bWO4yj27+aH1cj6pPnvzXmooQRsOO/auuW1+w+3r+vAsOqk1nav1+BcaoHhde/XVV+MJaD6r/QMlqcMEjuv02PRYJ9cum/nIkjpxly478FRtSUFU3sv2zxKCnV4ei/TzJB3ftW479rfR4b/qzpvz11OEVyjtK/UixnfQ3okL+fYqaHxLzSP4iPXQCUN+g/BlrLKV9V7D8NfCjPDWbiP8O1llZdqt4/jCTGR4W38j8=",
          "dtype": "f8"
         },
         "z": {
          "bdata": "vq/mU1QfwT/i0NH0eXGuv4dtJSw5fsI/JNOwMu2cyz/Laea5fYvHv+0iuEeLxd6/2Ut25rvNyT/UA/fJ8A7bP0n9vujTgsU/wHsL84Rm1T8cwRa0bpPgPxY0cBa2msM/ppajyYlrxj8Vjzf1UezzP2DK1vhRAABATgrLq1mV/T+Qvbqep+30PxShmmQf2OA/QT8ubJqH8b+kWAN2cgYCwBXH2+UyngLAIhionl9c9L/u/20p75HFP3vURx905fE/ogvNfbNa9z9XXnHjnFX5Py/Fz1hSSQBA52JaQdP9/D/uAhY8dDbxP+dBq2tbO+I/08TBTuYG2D9YroSjVmDfP5zbHGPx0tk/w0Vgvbe/xD9mgZ7wFq7Cv2kbXCndHdC/Ee/LEZ72wr9iAjfvAvLjv3TVxOPCV+6/U90eTwIy6r8gTgLaoinpvzLCOb2TWOy/FijEYiji5796A3eP9Dnqv1coyfoqbea/PlFWKZs54b/Q+JIMBArpv2u/CLsJE9y/BmbBAKfQwL+d83v4jvesv2D5jz7FwN8/E0JBzE113z8aU/QKIObcv7STpzcTL+e/LtZUDq9B4b+CShhfqJPsv9Z9YjOqefK/Kw0jUMkU9r8=",
          "dtype": "f8"
         }
        }
       ],
       "layout": {
        "scene": {
         "bgcolor": "white",
         "xaxis": {
          "backgroundcolor": "white",
          "gridcolor": "white",
          "showgrid": false,
          "title": {
           "text": "X Axis"
          }
         },
         "yaxis": {
          "backgroundcolor": "white",
          "gridcolor": "white",
          "showgrid": false,
          "title": {
           "text": "Y Axis"
          }
         },
         "zaxis": {
          "backgroundcolor": "white",
          "gridcolor": "white",
          "showgrid": false,
          "title": {
           "text": "Z Axis"
          }
         }
        },
        "template": {
         "data": {
          "bar": [
           {
            "error_x": {
             "color": "#2a3f5f"
            },
            "error_y": {
             "color": "#2a3f5f"
            },
            "marker": {
             "line": {
              "color": "#E5ECF6",
              "width": 0.5
             },
             "pattern": {
              "fillmode": "overlay",
              "size": 10,
              "solidity": 0.2
             }
            },
            "type": "bar"
           }
          ],
          "barpolar": [
           {
            "marker": {
             "line": {
              "color": "#E5ECF6",
              "width": 0.5
             },
             "pattern": {
              "fillmode": "overlay",
              "size": 10,
              "solidity": 0.2
             }
            },
            "type": "barpolar"
           }
          ],
          "carpet": [
           {
            "aaxis": {
             "endlinecolor": "#2a3f5f",
             "gridcolor": "white",
             "linecolor": "white",
             "minorgridcolor": "white",
             "startlinecolor": "#2a3f5f"
            },
            "baxis": {
             "endlinecolor": "#2a3f5f",
             "gridcolor": "white",
             "linecolor": "white",
             "minorgridcolor": "white",
             "startlinecolor": "#2a3f5f"
            },
            "type": "carpet"
           }
          ],
          "choropleth": [
           {
            "colorbar": {
             "outlinewidth": 0,
             "ticks": ""
            },
            "type": "choropleth"
           }
          ],
          "contour": [
           {
            "colorbar": {
             "outlinewidth": 0,
             "ticks": ""
            },
            "colorscale": [
             [
              0,
              "#0d0887"
             ],
             [
              0.1111111111111111,
              "#46039f"
             ],
             [
              0.2222222222222222,
              "#7201a8"
             ],
             [
              0.3333333333333333,
              "#9c179e"
             ],
             [
              0.4444444444444444,
              "#bd3786"
             ],
             [
              0.5555555555555556,
              "#d8576b"
             ],
             [
              0.6666666666666666,
              "#ed7953"
             ],
             [
              0.7777777777777778,
              "#fb9f3a"
             ],
             [
              0.8888888888888888,
              "#fdca26"
             ],
             [
              1,
              "#f0f921"
             ]
            ],
            "type": "contour"
           }
          ],
          "contourcarpet": [
           {
            "colorbar": {
             "outlinewidth": 0,
             "ticks": ""
            },
            "type": "contourcarpet"
           }
          ],
          "heatmap": [
           {
            "colorbar": {
             "outlinewidth": 0,
             "ticks": ""
            },
            "colorscale": [
             [
              0,
              "#0d0887"
             ],
             [
              0.1111111111111111,
              "#46039f"
             ],
             [
              0.2222222222222222,
              "#7201a8"
             ],
             [
              0.3333333333333333,
              "#9c179e"
             ],
             [
              0.4444444444444444,
              "#bd3786"
             ],
             [
              0.5555555555555556,
              "#d8576b"
             ],
             [
              0.6666666666666666,
              "#ed7953"
             ],
             [
              0.7777777777777778,
              "#fb9f3a"
             ],
             [
              0.8888888888888888,
              "#fdca26"
             ],
             [
              1,
              "#f0f921"
             ]
            ],
            "type": "heatmap"
           }
          ],
          "histogram": [
           {
            "marker": {
             "pattern": {
              "fillmode": "overlay",
              "size": 10,
              "solidity": 0.2
             }
            },
            "type": "histogram"
           }
          ],
          "histogram2d": [
           {
            "colorbar": {
             "outlinewidth": 0,
             "ticks": ""
            },
            "colorscale": [
             [
              0,
              "#0d0887"
             ],
             [
              0.1111111111111111,
              "#46039f"
             ],
             [
              0.2222222222222222,
              "#7201a8"
             ],
             [
              0.3333333333333333,
              "#9c179e"
             ],
             [
              0.4444444444444444,
              "#bd3786"
             ],
             [
              0.5555555555555556,
              "#d8576b"
             ],
             [
              0.6666666666666666,
              "#ed7953"
             ],
             [
              0.7777777777777778,
              "#fb9f3a"
             ],
             [
              0.8888888888888888,
              "#fdca26"
             ],
             [
              1,
              "#f0f921"
             ]
            ],
            "type": "histogram2d"
           }
          ],
          "histogram2dcontour": [
           {
            "colorbar": {
             "outlinewidth": 0,
             "ticks": ""
            },
            "colorscale": [
             [
              0,
              "#0d0887"
             ],
             [
              0.1111111111111111,
              "#46039f"
             ],
             [
              0.2222222222222222,
              "#7201a8"
             ],
             [
              0.3333333333333333,
              "#9c179e"
             ],
             [
              0.4444444444444444,
              "#bd3786"
             ],
             [
              0.5555555555555556,
              "#d8576b"
             ],
             [
              0.6666666666666666,
              "#ed7953"
             ],
             [
              0.7777777777777778,
              "#fb9f3a"
             ],
             [
              0.8888888888888888,
              "#fdca26"
             ],
             [
              1,
              "#f0f921"
             ]
            ],
            "type": "histogram2dcontour"
           }
          ],
          "mesh3d": [
           {
            "colorbar": {
             "outlinewidth": 0,
             "ticks": ""
            },
            "type": "mesh3d"
           }
          ],
          "parcoords": [
           {
            "line": {
             "colorbar": {
              "outlinewidth": 0,
              "ticks": ""
             }
            },
            "type": "parcoords"
           }
          ],
          "pie": [
           {
            "automargin": true,
            "type": "pie"
           }
          ],
          "scatter": [
           {
            "fillpattern": {
             "fillmode": "overlay",
             "size": 10,
             "solidity": 0.2
            },
            "type": "scatter"
           }
          ],
          "scatter3d": [
           {
            "line": {
             "colorbar": {
              "outlinewidth": 0,
              "ticks": ""
             }
            },
            "marker": {
             "colorbar": {
              "outlinewidth": 0,
              "ticks": ""
             }
            },
            "type": "scatter3d"
           }
          ],
          "scattercarpet": [
           {
            "marker": {
             "colorbar": {
              "outlinewidth": 0,
              "ticks": ""
             }
            },
            "type": "scattercarpet"
           }
          ],
          "scattergeo": [
           {
            "marker": {
             "colorbar": {
              "outlinewidth": 0,
              "ticks": ""
             }
            },
            "type": "scattergeo"
           }
          ],
          "scattergl": [
           {
            "marker": {
             "colorbar": {
              "outlinewidth": 0,
              "ticks": ""
             }
            },
            "type": "scattergl"
           }
          ],
          "scattermap": [
           {
            "marker": {
             "colorbar": {
              "outlinewidth": 0,
              "ticks": ""
             }
            },
            "type": "scattermap"
           }
          ],
          "scattermapbox": [
           {
            "marker": {
             "colorbar": {
              "outlinewidth": 0,
              "ticks": ""
             }
            },
            "type": "scattermapbox"
           }
          ],
          "scatterpolar": [
           {
            "marker": {
             "colorbar": {
              "outlinewidth": 0,
              "ticks": ""
             }
            },
            "type": "scatterpolar"
           }
          ],
          "scatterpolargl": [
           {
            "marker": {
             "colorbar": {
              "outlinewidth": 0,
              "ticks": ""
             }
            },
            "type": "scatterpolargl"
           }
          ],
          "scatterternary": [
           {
            "marker": {
             "colorbar": {
              "outlinewidth": 0,
              "ticks": ""
             }
            },
            "type": "scatterternary"
           }
          ],
          "surface": [
           {
            "colorbar": {
             "outlinewidth": 0,
             "ticks": ""
            },
            "colorscale": [
             [
              0,
              "#0d0887"
             ],
             [
              0.1111111111111111,
              "#46039f"
             ],
             [
              0.2222222222222222,
              "#7201a8"
             ],
             [
              0.3333333333333333,
              "#9c179e"
             ],
             [
              0.4444444444444444,
              "#bd3786"
             ],
             [
              0.5555555555555556,
              "#d8576b"
             ],
             [
              0.6666666666666666,
              "#ed7953"
             ],
             [
              0.7777777777777778,
              "#fb9f3a"
             ],
             [
              0.8888888888888888,
              "#fdca26"
             ],
             [
              1,
              "#f0f921"
             ]
            ],
            "type": "surface"
           }
          ],
          "table": [
           {
            "cells": {
             "fill": {
              "color": "#EBF0F8"
             },
             "line": {
              "color": "white"
             }
            },
            "header": {
             "fill": {
              "color": "#C8D4E3"
             },
             "line": {
              "color": "white"
             }
            },
            "type": "table"
           }
          ]
         },
         "layout": {
          "annotationdefaults": {
           "arrowcolor": "#2a3f5f",
           "arrowhead": 0,
           "arrowwidth": 1
          },
          "autotypenumbers": "strict",
          "coloraxis": {
           "colorbar": {
            "outlinewidth": 0,
            "ticks": ""
           }
          },
          "colorscale": {
           "diverging": [
            [
             0,
             "#8e0152"
            ],
            [
             0.1,
             "#c51b7d"
            ],
            [
             0.2,
             "#de77ae"
            ],
            [
             0.3,
             "#f1b6da"
            ],
            [
             0.4,
             "#fde0ef"
            ],
            [
             0.5,
             "#f7f7f7"
            ],
            [
             0.6,
             "#e6f5d0"
            ],
            [
             0.7,
             "#b8e186"
            ],
            [
             0.8,
             "#7fbc41"
            ],
            [
             0.9,
             "#4d9221"
            ],
            [
             1,
             "#276419"
            ]
           ],
           "sequential": [
            [
             0,
             "#0d0887"
            ],
            [
             0.1111111111111111,
             "#46039f"
            ],
            [
             0.2222222222222222,
             "#7201a8"
            ],
            [
             0.3333333333333333,
             "#9c179e"
            ],
            [
             0.4444444444444444,
             "#bd3786"
            ],
            [
             0.5555555555555556,
             "#d8576b"
            ],
            [
             0.6666666666666666,
             "#ed7953"
            ],
            [
             0.7777777777777778,
             "#fb9f3a"
            ],
            [
             0.8888888888888888,
             "#fdca26"
            ],
            [
             1,
             "#f0f921"
            ]
           ],
           "sequentialminus": [
            [
             0,
             "#0d0887"
            ],
            [
             0.1111111111111111,
             "#46039f"
            ],
            [
             0.2222222222222222,
             "#7201a8"
            ],
            [
             0.3333333333333333,
             "#9c179e"
            ],
            [
             0.4444444444444444,
             "#bd3786"
            ],
            [
             0.5555555555555556,
             "#d8576b"
            ],
            [
             0.6666666666666666,
             "#ed7953"
            ],
            [
             0.7777777777777778,
             "#fb9f3a"
            ],
            [
             0.8888888888888888,
             "#fdca26"
            ],
            [
             1,
             "#f0f921"
            ]
           ]
          },
          "colorway": [
           "#636efa",
           "#EF553B",
           "#00cc96",
           "#ab63fa",
           "#FFA15A",
           "#19d3f3",
           "#FF6692",
           "#B6E880",
           "#FF97FF",
           "#FECB52"
          ],
          "font": {
           "color": "#2a3f5f"
          },
          "geo": {
           "bgcolor": "white",
           "lakecolor": "white",
           "landcolor": "#E5ECF6",
           "showlakes": true,
           "showland": true,
           "subunitcolor": "white"
          },
          "hoverlabel": {
           "align": "left"
          },
          "hovermode": "closest",
          "mapbox": {
           "style": "light"
          },
          "paper_bgcolor": "white",
          "plot_bgcolor": "#E5ECF6",
          "polar": {
           "angularaxis": {
            "gridcolor": "white",
            "linecolor": "white",
            "ticks": ""
           },
           "bgcolor": "#E5ECF6",
           "radialaxis": {
            "gridcolor": "white",
            "linecolor": "white",
            "ticks": ""
           }
          },
          "scene": {
           "xaxis": {
            "backgroundcolor": "#E5ECF6",
            "gridcolor": "white",
            "gridwidth": 2,
            "linecolor": "white",
            "showbackground": true,
            "ticks": "",
            "zerolinecolor": "white"
           },
           "yaxis": {
            "backgroundcolor": "#E5ECF6",
            "gridcolor": "white",
            "gridwidth": 2,
            "linecolor": "white",
            "showbackground": true,
            "ticks": "",
            "zerolinecolor": "white"
           },
           "zaxis": {
            "backgroundcolor": "#E5ECF6",
            "gridcolor": "white",
            "gridwidth": 2,
            "linecolor": "white",
            "showbackground": true,
            "ticks": "",
            "zerolinecolor": "white"
           }
          },
          "shapedefaults": {
           "line": {
            "color": "#2a3f5f"
           }
          },
          "ternary": {
           "aaxis": {
            "gridcolor": "white",
            "linecolor": "white",
            "ticks": ""
           },
           "baxis": {
            "gridcolor": "white",
            "linecolor": "white",
            "ticks": ""
           },
           "bgcolor": "#E5ECF6",
           "caxis": {
            "gridcolor": "white",
            "linecolor": "white",
            "ticks": ""
           }
          },
          "title": {
           "x": 0.05
          },
          "xaxis": {
           "automargin": true,
           "gridcolor": "white",
           "linecolor": "white",
           "ticks": "",
           "title": {
            "standoff": 15
           },
           "zerolinecolor": "white",
           "zerolinewidth": 2
          },
          "yaxis": {
           "automargin": true,
           "gridcolor": "white",
           "linecolor": "white",
           "ticks": "",
           "title": {
            "standoff": 15
           },
           "zerolinecolor": "white",
           "zerolinewidth": 2
          }
         }
        },
        "title": {
         "text": "3D Line Plots from Dictionary"
        }
       }
      }
     },
     "metadata": {},
     "output_type": "display_data"
    }
   ],
   "source": [
    "import plotly.graph_objects as go\n",
    "import numpy as np\n",
    "\n",
    "fig = go.Figure()\n",
    "\n",
    "colors = ['rgb(31, 119, 180)', 'rgb(255, 127, 14)', 'rgb(44, 160, 44)', 'rgb(214, 39, 40)', \n",
    "          'rgb(148, 103, 189)', 'rgb(140, 86, 75)', 'rgb(227, 119, 194)', 'rgb(127, 127, 127)', \n",
    "          'rgb(188, 189, 34)', 'rgb(23, 190, 207)']\n",
    "\n",
    "for i, (key, matrix) in enumerate(data_pca_dict.items()):\n",
    "    color = colors[i % len(colors)]\n",
    "    \n",
    "    x = matrix[:, 0]\n",
    "    y = matrix[:, 1]\n",
    "    z = matrix[:, 2]\n",
    "    \n",
    "    fig.add_trace(go.Scatter3d(\n",
    "        x=x,\n",
    "        y=y,\n",
    "        z=z,\n",
    "        mode='lines',\n",
    "        line=dict(color=color, width=4),\n",
    "        name=key\n",
    "    ))\n",
    "\n",
    "fig.update_layout(\n",
    "    title='3D Line Plots from Dictionary',\n",
    "    scene=dict(\n",
    "        xaxis_title='X Axis',\n",
    "        yaxis_title='Y Axis',\n",
    "        zaxis_title='Z Axis',\n",
    "        xaxis=dict(showgrid=False, gridcolor='white', backgroundcolor='white'),\n",
    "        yaxis=dict(showgrid=False, gridcolor='white', backgroundcolor='white'),\n",
    "        zaxis=dict(showgrid=False, gridcolor='white', backgroundcolor='white'),\n",
    "        bgcolor='white' \n",
    "    )\n",
    ")\n",
    "\n",
    "\n",
    "fig.show()"
   ]
  },
  {
   "cell_type": "markdown",
   "metadata": {},
   "source": [
    "- phase 2"
   ]
  },
  {
   "cell_type": "code",
   "execution_count": 68,
   "metadata": {},
   "outputs": [],
   "source": [
    "def latent_variables_pc(filepath):\n",
    "    from sklearn.preprocessing import StandardScaler\n",
    "    from sklearn.decomposition import PCA\n",
    "    pca = PCA(n_components=10)\n",
    "    data = pd.read_csv(filepath,index_col=0)\n",
    "    data = data.iloc[:, 58:]\n",
    "    data = data.T\n",
    "    scaler = StandardScaler()\n",
    "    data_normalized = scaler.fit_transform(data)\n",
    "    #data_normalized = data_normalized.T\n",
    "    data_pca = pca.fit_transform(data_normalized)\n",
    "    return data_pca, pca.explained_variance_ratio_"
   ]
  },
  {
   "cell_type": "code",
   "execution_count": 70,
   "metadata": {},
   "outputs": [],
   "source": [
    "data_pca_dict = {}\n",
    "pc_ratio_dict = {}\n",
    "spike_rate_dir = ['Image_1_sum_spike_rate.csv', 'Image_2_sum_spike_rate.csv', 'Image_3_sum_spike_rate.csv', 'Image_4_sum_spike_rate.csv', 'Image_5_sum_spike_rate.csv', 'Image_6_sum_spike_rate.csv',\n",
    "                  'Image_7_sum_spike_rate.csv', 'Image_8_sum_spike_rate.csv', 'Image_9_sum_spike_rate.csv', 'Image_10_sum_spike_rate.csv', 'Image_11_sum_spike_rate.csv', 'Image_12_sum_spike_rate.csv']\n",
    "\n",
    "for file in spike_rate_dir:\n",
    "    data_pca_dict[file], pc_ratio_dict[file] = latent_variables_pc(f'/media/ubuntu/sda/data/mouse6/output_grating/03_single_neuron/dynamic/sum_spike_rate/{file}')"
   ]
  },
  {
   "cell_type": "code",
   "execution_count": 71,
   "metadata": {},
   "outputs": [],
   "source": [
    "data_pc1 = pd.DataFrame()\n",
    "data_pc2 = pd.DataFrame()\n",
    "data_pc3 = pd.DataFrame()\n",
    "\n",
    "for file in spike_rate_dir:\n",
    "    data_pc1 = pd.concat((data_pc1, pd.DataFrame(data_pca_dict[file][:, 0])), axis=1)\n",
    "    data_pc2 = pd.concat((data_pc2, pd.DataFrame(data_pca_dict[file][:, 1])), axis=1)\n",
    "    data_pc3 = pd.concat((data_pc3, pd.DataFrame(data_pca_dict[file][:, 2])), axis=1)"
   ]
  },
  {
   "cell_type": "code",
   "execution_count": 72,
   "metadata": {},
   "outputs": [
    {
     "data": {
      "text/plain": [
       "(333, 12)"
      ]
     },
     "execution_count": 72,
     "metadata": {},
     "output_type": "execute_result"
    }
   ],
   "source": [
    "data_pc1.shape"
   ]
  },
  {
   "cell_type": "code",
   "execution_count": 73,
   "metadata": {},
   "outputs": [],
   "source": [
    "data_pc1.to_csv(\"processed_data/data_pc1_phase2.csv\")\n",
    "data_pc2.to_csv(\"processed_data/data_pc2_phase2.csv\")\n",
    "data_pc3.to_csv(\"processed_data/data_pc3_phase2.csv\")"
   ]
  },
  {
   "cell_type": "code",
   "execution_count": 82,
   "metadata": {},
   "outputs": [],
   "source": [
    "with PdfPages(\"neuron_model/similarity_heatmap_phase2.pdf\") as pdf:\n",
    "\n",
    "    data_pc1.columns = [1,2,3,4,5,6,7,8,9,10,11,12]\n",
    "    data_pc1 = data_pc1[[1, 4, 2, 3, 5,6,7,8,9,10,11,12]]\n",
    "    data = torch.tensor(data_pc1.T.to_numpy())\n",
    "    data.unsqueeze_(1) \n",
    "    similarity_matrix = F.cosine_similarity(data, data.transpose(0, 1), dim=2)\n",
    "    sns.heatmap(similarity_matrix.numpy(), cmap=\"coolwarm\", vmin=0, vmax=1)\n",
    "    pdf.savefig()\n",
    "    plt.close()\n",
    "\n",
    "    plt.figure(figsize=(5,5))\n",
    "    sns.heatmap(similarity_matrix.numpy(), cmap=\"coolwarm\", vmin=0, vmax=1, cbar=False, xticklabels=False, yticklabels=False)\n",
    "    pdf.savefig()\n",
    "    plt.close()\n",
    "\n",
    "    data_pc2.columns = [1,2,3,4,5,6,7,8,9,10,11,12]\n",
    "    #data_pc2 = data_pc2[[1,2,3,4,5,6, 9,10,12, 13, 14, 15, 16, 17, 7,8,11,18]]\n",
    "    data = torch.tensor(data_pc2.T.to_numpy())\n",
    "    data.unsqueeze_(1) \n",
    "    similarity_matrix_2 = F.cosine_similarity(data, data.transpose(0, 1), dim=2)\n",
    "    sns.heatmap(similarity_matrix_2.numpy(), cmap=\"coolwarm\", vmin=0, vmax=1)\n",
    "    pdf.savefig()\n",
    "    plt.close()\n",
    "\n",
    "    plt.figure(figsize=(5,5))\n",
    "    sns.heatmap(similarity_matrix_2.numpy(), cmap=\"coolwarm\", vmin=0, vmax=1, cbar=False, xticklabels=False, yticklabels=False)\n",
    "    pdf.savefig()\n",
    "    plt.close()\n",
    "\n",
    "    data_pc3.columns = [1,2,3,4,5,6,7,8,9,10,11,12]\n",
    "    data = torch.tensor(data_pc3.T.to_numpy())\n",
    "    data.unsqueeze_(1) \n",
    "    similarity_matrix_3 = F.cosine_similarity(data, data.transpose(0, 1), dim=2)\n",
    "    sns.heatmap(similarity_matrix_3.numpy(), cmap=\"coolwarm\", vmin=0, vmax=1)\n",
    "    pdf.savefig()\n",
    "    plt.close()\n",
    "\n",
    "    plt.figure(figsize=(5,5))\n",
    "    sns.heatmap(similarity_matrix_3.numpy(), cmap=\"coolwarm\", vmin=0, vmax=1, cbar=False, xticklabels=False, yticklabels=False)\n",
    "    pdf.savefig()\n",
    "    plt.close()"
   ]
  },
  {
   "cell_type": "code",
   "execution_count": 84,
   "metadata": {},
   "outputs": [],
   "source": [
    "with PdfPages(\"neuron_model/waveform_phase2.pdf\") as pdf:\n",
    "    plt.figure(figsize=(6, 3))\n",
    "    for file in spike_rate_dir:\n",
    "        sns.lineplot(data_pca_dict[file][:, 0])\n",
    "    pdf.savefig()\n",
    "    plt.close()\n",
    "\n",
    "    plt.figure(figsize=(6, 3))\n",
    "    for file in spike_rate_dir:\n",
    "        sns.lineplot(data_pca_dict[file][:, 1])\n",
    "    pdf.savefig()\n",
    "    plt.close()\n",
    "\n",
    "\n",
    "    plt.figure(figsize=(6, 3))\n",
    "    for file in spike_rate_dir:\n",
    "        sns.lineplot(data_pca_dict[file][:, 2])\n",
    "    pdf.savefig()\n",
    "    plt.close()"
   ]
  },
  {
   "cell_type": "code",
   "execution_count": 76,
   "metadata": {},
   "outputs": [],
   "source": [
    "pc_ratio = pd.DataFrame()\n",
    "\n",
    "for key ,item in pc_ratio_dict.items():\n",
    "    pc_ratio = pd.concat((pc_ratio, pd.DataFrame(item)), axis=1)\n",
    "\n",
    "pc_ratio = pc_ratio.mean(axis=1)\n",
    "cumulative_sums = []\n",
    "current_sum = 0\n",
    "for value in pc_ratio:\n",
    "    current_sum += value\n",
    "    cumulative_sums.append(current_sum)"
   ]
  },
  {
   "cell_type": "code",
   "execution_count": 77,
   "metadata": {},
   "outputs": [],
   "source": [
    "pd.DataFrame(cumulative_sums).to_csv(\"processed_data/pc_ratio_phase2.csv\")"
   ]
  },
  {
   "cell_type": "code",
   "execution_count": 78,
   "metadata": {},
   "outputs": [],
   "source": [
    "with PdfPages('neuron_model/pc_ration_phase2.pdf') as pdf:\n",
    "    plt.figure(figsize=(3,2))\n",
    "    sns.lineplot(x = range(10),\n",
    "                 y = cumulative_sums,\n",
    "                 color = 'black')\n",
    "    \n",
    "    plt.ylim(0, 1)\n",
    "    pdf.savefig()\n",
    "    plt.close()"
   ]
  },
  {
   "cell_type": "code",
   "execution_count": 79,
   "metadata": {},
   "outputs": [
    {
     "data": {
      "application/vnd.plotly.v1+json": {
       "config": {
        "plotlyServerURL": "https://plot.ly"
       },
       "data": [
        {
         "line": {
          "color": "rgb(31, 119, 180)",
          "width": 4
         },
         "mode": "lines",
         "name": "Image_1_sum_spike_rate.csv",
         "type": "scatter3d",
         "x": {
          "bdata": "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",
          "dtype": "f8"
         },
         "y": {
          "bdata": "yjXCeXR/F0C95flyo8IRQHIe8JQhORJAeOyBS+icC0BD1KJPu8X0P9UcoDYrVf8/ytSwkGi+C0Cc8hETAmAIQEPCA+EhXQJAEWXQONNs+z+taIhYCYHjP9ifadqCwfC/FurO+7098b+ebIrCCfPfv6DZ/U9QJNQ/qsSCjx/69j8gwDqt+Zy+vyKhSBTamuq/YHVh54cz0z/5l8HoPD6bv3Zzk/GlDuA/aGQ8rjrl6D/zsnsBZ9PJP7QKVUWO1aC/N9u7upCovb8dlJCWQpPyP3TszTpKfPo/sIfVWpxHAEBV/MqKszbfP0mcbTLQ+u6/3siEmn32zb/iCUlhljTWP/YXeYY4FO4/xSGLK9UcyT93W+kTrDbxPwYRxI9a+gBA4sGQwOyL7T9zS4VBxzD0v0ClJa2NSNy/UAw4uZTM5T/86VwyEBS/P15geu+Kv+a/LTWP5+hrAMCxJz2tQxf/vyY7YXXZw+K/2HWS362T3r8QEk8YBHe9P4Jfu6WDTfM/TvvsrSy0+j/JFrXCPX33P4QSLxz6a+Q/KwA85Xjq7T+FDCnvedLfP/hFIPwy+eK/cMJ4szqHAMAKXO1XmXnyv5XIWgFUG+A/iElfLMEA9D+GGbEVz6/zP6oRAsxcnuW/JDZu89pO/b9cL6J7Nlz7v4Dtpdn1C+W/uOxPb5KKy79dWtAnpMDgv9mxAFdAuu6/mz3J+CRm97877taN0OX3vyTy+e/bMeC/zEGjW7vO7z/TdHAUw/DVv/za0PtOYPu/UwbTDAEH9L9ocC4CRPP1v9zQTbYWOvq/UkdioXho/r88pB+Z567yv2/hgGW+8Oy/CZHliEAA77+aW3qTwPjzP0JeLI+KleQ/0+Q/lmeK9r+BmRO5gBD5v3cn9Xj2fPW/QgA6ofFk97+vhuFLjkj2v93e42iSDfK/tGdtG0Qi1r+cYBy0qwnXvykSuCMVafm/jni9u7la57/2mrUA0g3jv0LPMC9LT+C/HFKCVKJ58b/+pW1aFMwFwD0aFcZ8JwPAm7EvEuOK8r/G4u02QP3ov37DH3oUr/m/t4ATqzqG+7/AN7NGsZcCwMXL3iy/OwfA/UN86hY88b9UW9nyXa3avyomDVLPLei/0YgYe7z9yL/SgSPgZKmEP5VPKuDVGe+/gyCAYe6GAsBG+/r89ckBwBiEECB/f/S/YdBiZ9pZA8DQ/8OtRkYGwAqNoXx2kO2/smQpFNj7tD8oRHG4B/TyvyTMP/1iogbA80fuBFnY/L9HcvQ3IfICwGqlAHl2/fG/qKhlX35Sy7/rvc9akgDyv1W1p6iYwPi/5D15A4shBcAY2rZo6KgAwERBV7/F1wHAoaDpYzQO+r9JW+M8ftTsv4dKbjAQ0f6/zIsEUG2a/L81BLOk2DX5v91NIcZdu/W/wok86oFH8L8pmdjU7bLyvyVydg+r2/e/tpeKye1RAcAfnp/LWakFwKTf0LRK7wXAagSbLT4q478XAwbyIHr8v6P5FCYK5f+/TrblwrRP7r8+19v7iOgHwLpq3AAbIQTAC1UU5mG7579qhfSfFe3OPztC9GBnIvO/RqHbeoIAB8CB3ZQhAFsBwNHEqWzvlfW/e6ppZ2XGAcD5eJ0lk8gFwC5D5uFgE/q/WafIxNnn8b8+nq452u3tv0QFveA66+e/DqP9hxEk8b9eoKn96k7kv9W2QeaWS/e/wNoUyrDe/7/KRkRc14fyv+Z1y9f2IP2/xSoYvgK9/794/ebbK8nzv4SQzI13WOG/cBI9g2Yk6r/1AnM4ML3nvwK/nILkg8y/Gi1Qmgpl0b+sWEi4LQ7hv9i1B96aquq//Lwa78xJ8r821ixxj+3kv4AMStnzpO6/A1H/ff0+9r+LJcdj1TGeP7reZuzoDuK/GjGyNpZD9b9OldFksXLov3I6w4y2bvO/kq8y6RIs7L9znP74Bf/qv/G1HWeOJOi/qWCbchzL8T9oPiAA393OPxGQSyx0k++//fHaW/mY7z+68PZnrcjYP7Aqv7zGKsc/JGoQagCm5z8ehwghBcvePx4WAgRLQuM/pE301qmA2r9cqHpQYkflvwj20FrP8M0/ckEQdTbb7D9QAiz7lHnSP7WsNhC8V9Q/JYrIEAVMnL84bTdpmHvPv7Q3yVErNN4/Xyd+8Yxw47+Ur9W95vn3vwl02lR7mti/k/EFRIb5479aMRdx923Ev7c996EMV94/qGiFhgBM6r8bRZfSSpHEv3Vs1nx3TfA/4LA4JtnX4z97chzbUL/oP5FMvS7N/fM/fWWvNG0S1z+aklc/62jov+Y9WoUBTPa/rF1FIQ4K+r93bKZ13pD1v4gdf07ee8K/WIJyp/wqx79POh9ZikH9v6SL2KMQf/C/AeZL29b4rz9KhDoL+hbMP6wZ5vRmsvI/7+32vqOQ9j+kaZFT03bQvxzSvhF17+S/qFKpj8YL9D/NXlbDEvPWP2sjfKz/tPS/gN4sI2vfyT/9xa8hgT74Py6e9fbS4vU/E/Ogh4Kc6j8Rk5UNIRW/P6yoTDcZvOE/3EwaPGh87T97gsqb6lzZPxnAJmKGacy/1P49SHYvtj9kBFEvbI74P9ubaS+zi8c/jlLhicVj4b/jPVTXwgi7v85ZZZRErMK/9Lguz9/Csb/fnMZKH2atv+DIK9EmIgFAJXjTsBpnCEC/xktmlgXwP8U9ULTgdeU/e1GYsmZD9j/8fFY1foj8P6n92X6IcgNA9rRtQqCo8D+/6Bz5G9fbv/fxTDZQleW/Km7AH+LC0r+6vlBUUC++P+vlnXNot+8/vjEzF3j49j/NTnr2w0gFQEs7BrAOagRAexORasNw/D/sOtu5TPgBQI7oW8WBjes/KxH9tNmB7j83NSIoxVUHQBVs+5hKqgtAYmvJfFfT5z+ZnzcidH/jv32QxJVQtuw/4tcwrOwM8z+eYJqnagsEQI7LownDCwZAS43ae2mh9T8ywQUafqX5P6rRTlO1JfU/zto8WUQI6T9bEueixp3QPwspGRvdGsk/SQXaGgBB4D9h3kTQ0jfQPy1FQHi+Tf8/uutaMlkDC0AdLKAPHcT/P/OAkhPWFgJA9xEEkPzIBEBd4yVHA7f9P0QpSmpQnfk/n1CXDDaQ4T9UZoM+vOnMP7RwunYuM+I/B7Q4ViC65z9l/UjqwF3nP6Trt4+CMNU/kq0mrRl35z81JciLLjPuPwU9p3Q8ccQ/EbZM8fs90j8Zo0TYxS7wP/6Ltet3ivA/56+hOe0/pz8OIhIC9GGuP+vOCtqBovI/SxWt0mRI/T+4BX4/KwH6P1BU4UxxrPQ/IBwyUZ8Y+j/ddMVGes//P4/5ujB/jwJAY+NUjxVO/T80jQAg1q3nP+JbMH9HJ7E/6d/9arxr0j+aoCqan3v+PwCJiQR7Cfw/6zoutHcV7T/pRGkzQXj/P/HM/5z8OAZAeFZiOHPoBUCsqHYwBwz+P75pDUZ6vdU/uR3mo23L5D8TeOxC4swHQH7E56Z4/AVAZ2K5aEyp9T+gMy1QK1zjP1yNZ+V6qqG/5KAZc2wB8z9oxhZdS//1P8glVxqZOvE/",
          "dtype": "f8"
         },
         "z": {
          "bdata": "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",
          "dtype": "f8"
         }
        },
        {
         "line": {
          "color": "rgb(255, 127, 14)",
          "width": 4
         },
         "mode": "lines",
         "name": "Image_2_sum_spike_rate.csv",
         "type": "scatter3d",
         "x": {
          "bdata": "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",
          "dtype": "f8"
         },
         "y": {
          "bdata": "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",
          "dtype": "f8"
         },
         "z": {
          "bdata": "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",
          "dtype": "f8"
         }
        },
        {
         "line": {
          "color": "rgb(44, 160, 44)",
          "width": 4
         },
         "mode": "lines",
         "name": "Image_3_sum_spike_rate.csv",
         "type": "scatter3d",
         "x": {
          "bdata": "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",
          "dtype": "f8"
         },
         "y": {
          "bdata": "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",
          "dtype": "f8"
         },
         "z": {
          "bdata": "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",
          "dtype": "f8"
         }
        },
        {
         "line": {
          "color": "rgb(214, 39, 40)",
          "width": 4
         },
         "mode": "lines",
         "name": "Image_4_sum_spike_rate.csv",
         "type": "scatter3d",
         "x": {
          "bdata": "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",
          "dtype": "f8"
         },
         "y": {
          "bdata": "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",
          "dtype": "f8"
         },
         "z": {
          "bdata": "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",
          "dtype": "f8"
         }
        },
        {
         "line": {
          "color": "rgb(148, 103, 189)",
          "width": 4
         },
         "mode": "lines",
         "name": "Image_5_sum_spike_rate.csv",
         "type": "scatter3d",
         "x": {
          "bdata": "C6kEmwymJUBEl2qcoSMlQFf5cI9i4ihAGMBY0C/2J0BMwBTiAQAeQETozRVLQBBAOm3gQWPXFUAGuJFVJeIYQGvDlzSwLwtAmAOz8NFO+j+7A7zlqO/lPx0m5OiXd9w/YpGZvpvH5L+FvLLifHnyv8p33l2p18q/PslHhd+p8T8C01i1X8b9P70jdlWjcMm/NfTbo92V9r8NSOfRMJfqv97zjLKe4Mk/lqPkzexZ8z+K26b9KbcAQNj3qATN6gRA8tt7ow6NB0APVs62WDEHQJ40Q2+0MgFAoPDKZAQHAECeBcqyeQn6PyEx0gSCm/k/IUmKnumxA0BT3eF9OAX/P2PndFSTmvA/EMh1IBi1AUCv8Amtm/oNQJju+kCZHhVADGncV2seFUBDqPP444gJQP1VoRpdM/U/8RxneBsx8j9GhdYUmyQBQILlSAXJuvs/g1CE1JPy6T+KV08zxt3iv12F1Axrw+2/A0ZSn+U44L+92tABZFLkvwyu3jjMwLy/6Vct57UY3b9HwNeuUe7YP7d491Gvu/A/AlYLXbRV8T96ftTNxRXmP2zeeXuUF+c/o8ObADV2/z/UJsyOFJ3IPzL6AggZGfC/uHaCCNDZ4T8bqWnJOrb0PzBSOIVN9fM/Bl0q2bDm9z/Hvy48zYgGQO6H8SndXRBA2xhrA92nCEBk06R0VxwJQPUAPB5NKgRA6NQshWAXA0BhX1TTs5IKQHgiPfKiKQBAehOBLcJt4j/N0b4WWsXSP74ik8rEf/Q/PZLM0AjWAEDkoGl2JALyPzLCOvSetu6/NNTiZl7s0L8JQ2e7VtHBP3kE+u1MoOU/KEr7027wAUDZZic26OH1P54pxHBCcOC/P4nyKQ5L5r+5w1vi6ibSP+meAVfdD/k/uFy7UvyE/D/fM/ALlKjev7sTjQIZV/i/EXTIDalP679Fiz9t5UHmv2vZJpotdOO/x5Q1cHPb2j/KHSfcp/zxP4w0EhOMydC/3Uzc4rVc+78HVhFZykT/vwAe1G9IV+G/jqAVt0nAAUAkeCIw4yn+P7hgW2fSUss/XiJwJtGk578Atr3+7wjmv0GGPR1TS9i/kHeKyl1b1j9knqOba5MKQJQXI01hhARAgvrBpa+b4j84ymEHHhG/vx0Y9RjHEvO/A+yKTuF96b8VXtaddaHIv83RFWpPqL0/OGreStzYoL8Db8pVa0HbPybq4RvtK94/DHZaA5kftL9HoPngSirqP7Wrv3Pv6e8/Uh9IFj5X3r9X+6pBevDAv7totVs+2/g/mGP6hAwH5j/PWo+bTYXuv/tryXJZjOi/yQQZhs480r+ZcINOpg3av7PxQOu9CPO/xwpEyb/sC8CcFozb03oPwJKzGw80swDAPcyqej1OAcBVQdGXsWwCwPcmElKEuPK/GXuWR7SB8796rSwQs0H2v7K6mDtXk/q/rnCGjpA9/b8FwInWUYTlv3rMFidCZ+G/1TO7Ju7+1j9Rm3yuRujzP/vTYMvckd+/VMO4oyejAsCOutbvMxcCwHLNuVIrt/a/S4eukU9k8L8+G8UC5dX4v/0dqxALQwLA+N+Fuyif/7/bq0xgwiT+vyOr9VrAUv2/w5LrNGdG97+193oBnwIDwLNJ5hU+bATAi/csfIOK9L9cqCn7Pen3v9/Zb8z+9u6/L+UA9+r18D8j/qn0v53Jv0trL6Jd1wHAGxkDuL2697+hko0HkYfuvzG0TWxdzvm/P8iOxIIM+b9INBshWmj1v+pFAAfdyeW/325kxTDi8b/r9Wf5XEDvv/8Ab46Cp/K/SCaTF6Tg8b/+h/WgQvLUPzPA40Uc1OS/maDx0N664L9tGjrwDPnaP8FHeN2dlfW/jRsXbRFr/L9EUtp/2KjdP4joZPwTWfA/Mkejyxo76b9W3SWKJx70v/PHbJ9cje0/f9U2scLD+D8Jgk7W1wbfv7I2Ou5NiME/Hlmrhe2x9D8wchMB3LvjP+r+2ONUVNI/cszaC5Ngmr/UjJFYAPrhv5xCG7I2xPG/ub9xxSA557+a3VR47/7zv8pHK41JhAHAwMKeT+wX/b9gsQ/jufgIwM4rZHhGxw7AH2Jb8B9SAMDfd+bBXNblv2ydur6RUvG/hnlN1kve/7/UJbI3IG4CwI6fTHXCBfK/0ZmUvMHU1b+QIRwgSIfxv67taYz5yI4//7LL8Iqv7L8oeQd7RKr1v9/UatF2A+2/quNsA1By+r+M3F/ObMrjv7JaPUlFgLS/12AkGJYA3r+SHWbmW8bjv1tMvgIO68O/Veu8Sv5A9T8JFGqH0oHjP1hoARa5x+y/n/DCdiivw7/7v0l7hVb/PwJakgFNrfc/v1jj76Ke9r9eaOusNbvwvxUzABbPceQ/cG5+Z598yD96gSZCS4zvP8uZ34DxJwlAT1+HjkLQ9T9Xcthg4+LTP8iLcynMJMM/MalGW2AL4T8O9tFkIa4DQJodqa6fEvY/oAyZdJ5wz787Ic7ok13Qv6KtcwyKYfC/t9xzIcndtL951Yl7YVICQDbI0Oxo3ek/ZLImQP5m8787/ascRNHwv92Dzz+Vd++/iAbfnZeI67+qgi+jI2jIvz2Sz8Rfbby/9yoHSi1E7D9dGX284WH2P1glK2Z1S+G/cqbQ9y74+r8oja90Cy/0v+16E77YzuC/uahrpFkL1z/qXdxg3nvrP486fCN4odE/gOW/dFJ7qD8xi0n1E9niPzCXwnSPiKy/++S8DWdm4L8RvygEI0LkP3oWkylrerG/91JdBQ+V+L/yHRBkpazwv4dRVIsIEe2/esxk+6iz5r8gwdAf8qXkv9ugvpX/bf+/NbjLcSPT+7+gYx8uw7Lhv1offTHQINO/30Zh+fl/1D9cGlpg0yPkv+2Ftyuk3Yg//0p2tUg15j/VHIhIDpX6v4w2/cove/i/Nb2vqsWQxL/+bhsqVZTbv6FxInjm8NQ//XiTfsFE6z+rAAS2nWDlP9kGG87V6da/UPYYGvqF9b8zhgYUwZXxvx/g1kjW9eS/QUIhYVe767+rlAFG1m3/vyjJO2mptfC/CpbXJ7Yp9L9GfeuJuAsAwETZlQJ3O/2/LziUUy0rAcDdYQWAmQz4vwMeuWTG2eO/w3XXMMSx+b/FRusu2S/9vx6S4LLGFPi/GVE/VmvNCMANAiLwW2UMwCq5PzfxPv+/2JJh98HW7b+NsYMN963yv558SzG56/y/jnT1t7MoCcDSdJwwcRwRwBB2ve6KDQ/A/A0rwqfW/r9R50zFFFvovw6CqrJozfS/+/4TIO0j1r/CA/UD0ZnRv4ISqTbPNci/IAbewo966j89No26lVDov1+JvM8j9gDAECZK5tbW9L9FYTtLSh7pv4ZvKwhiyADAgnEbkrE9/b//C4Tmqsm+v0xdqzSSg+o/7vcBg4TD5j/xZ+UEnGfXvwJSPDeiO+C/aca+3Q3b6L8IeV5lAy72v0RzpkbsW/O/skeiiLc6AMA90ddffngDwAfrShwAJv2/oGhBhn7B8b/KTNDsR562P0Cd4hVIWuo/jJgvP4qd4b/7IQ1mbA/+v0iWDAKsOgnA",
          "dtype": "f8"
         },
         "y": {
          "bdata": "zsYNNmxZ279zr1lmRfn8P5tS8VsPRgJADD16/PzR+j8vhAfwi9LgP7xB1PJ81dg/V8jiqJMO5L8B/g4pkerBv8eXh8tQlvY/pkchEQ2l8T8UdSZm3o/2v8ZFmR857AbAHnSQsmghAMCD5uAH/NL5v2rIizCpCOa/7EaqZ3NV9L9MQFFcXcrxv0UQiWe8p/K/KCiSLq+u+r+V7WiqfT7pv4/bJsb4fP6/G0gfRJHqAcDvzonBL7D7v2uZB6CzFwDADZb+4JKR978E62fgUsQAwCYQ7qm//AfA17YgmBE5B8DzZ/2WH/jrvwqjKvQJvNI/Mc4dzkBP3j+MoLV4Zlimv+1eGVFLZum/TRLfDzvL5b/Y6OX+/vegv3IC9K9sYPI/XiPm7aMX7D/AzyQqcG7kP/EPe29wbuK/X0WFVMVA/7+FP6ueSGb4v7Q8vT75suK/vyykYeU+3T8dTmh0jAHbP4CPh4fxhALAb6pGyrjLCcA8Ohy/Q5z0vyzCUH1xS+K/iUz1jWTPvD9yek7u7lTbPw4Ci5jMe9y/L+u398ca5L9j/KPl+5nVv56ZuFQxJeM/nxb+S0S/xj/ObgT5IVTVv1WpSYZRVe+/n5STZ33xAcD8/2FYZPj4v/AWRhp1OLQ/BQos7baw3T+1hMvrNTizP//Ci0/uXOc/5h11IiOv8D9g34KfsG3pP6v7bvLaPvG/mfj2e4f2rT+hzZ9cmADoP1MoU08nR8U/S8RxVAHu9T/LEf4oI1fDv95gn51/ZPy/9uEhjra++r9MJLuj3hvyvw1dvTSQeeK/8flm0uBT6T9hbB3taUPnPwxkEBORhOy/cpv4VwyhBcDrkE/YGsYCwD/ERFJYX+C/l5C50DvQoz+DYGdJjp2wv6g4H9lQ+NA/UrkNfaFqrD9o8Q6vY4P+v7d1+6bdMALAv6DqAeKY67+mpHNk7e7fP1dNjU5V1PE/hGcSirO66z8nbWt4BLfVPy29ZjE1Hdy/U8TS4foT9L83dvUrFCcDwFUVzyijYgXATvcJKAlNzb8MlOm+CkDvv+2A91lMEQXAsHOEVm+W+L/024ogRQn6v3sgRHyL6+6/h1ZvlN686L8j7rDiW7zuv+jhVTe2yOS/e58Mt2Dc7L8g/RrJGhwGwFuY4JyuHwXApuxr73tu6L8Y31c6QVniv07QiY080L+/RUjNgYl1wz8uCjVuyCDrv+SvFq7v0wLAGiajIrgq4b8QneXHpRP+P/PwoBI7tfs/l+6voTf02D+RaCIXJdfqv/gmhdwnmPi/hcSQbzvs8r+dVGbcF3Xyv1LPTR1+xvW/NAOESMgd87/+xoPXaoT2v08dCI4jU+K/077JL/sX6L8OU4P1U+zyv5sJ5TSCC9m/cUpe8r4d8D/yDvxqFDTsP1ybZp0ENOG/n97AtpjP5L+mqRmU9Jzzv5Q3m4XcCwXA3DQbr4iB+L+UpbhYuaLbP73iA0T/u+c/zyjge4i1uD9V0T61sDbyv+rkMpeXJ9S/xqDI4IdI1j8Z+vCCHcvuvxFG/5iC8Nu/QK859b88tb/dJ4Wn2pflv+w2flm156O//wXOjXim2D8RbiEh6DDiP2InRtS9Uuo/U1br0AiU3D/7LPE+H87PPxkh/7Exrty/xm3FcCYM879u4jM3NYL4v6WJQ8Jt2/G/BVDNgIgY4r9JFhDRsDjtv8KLzWMevt+/bh4kyDJN2D/U8OUYp1LVv83qGYlKAsk/1bCc3M7u+D/1XcZHktTjP5GM4wqca+6/a6hZ65Ek6b+1X5KPGlXhv8G+7rZxX96/jyKZZP8noj972ayrhFZwP/A7icqiWd6/QQexiKl51L/5MHha91jTP8YMF4+COeM/dv0rVf2d6j8MxkR9NMKnP0JnuItWlqi/0QfJG9tz4L+8vCTj7xTaPw+NoRX5p/c/RRLLdF6Jtj+XOm2Iaovwv3X2ahPkN9u/qT38a0dv5D8SYX0airezPzHkpH7u2bQ/ssJwEAYI5D81ugnVU6/dP3UuhQP+e48/cFTxb4xJ3T8R+dFKg6L2Pzg3ok8jOvY/zOQryMEMtj+RRtjB1L3EP6/0ptwZsPM/7P+09FIxAECoUHipSFP6P/OBIURdSe2/+PuaWFKf8b8oBMtiYUXhvyB8STLiX8k/FF9kUWZA5T9eOYo9y8SyPz2v4E/NWZ8/chnv4QpOpj87dHX1J+PgP+OGITtI9O0/znLuwJLLwD8ejQS8IWDTPylna4mZFPk/yAOXOWi51z+oKwv7Uyrzv+C2H5MRJfm/aEx3Fu0W/L/MRI5IpM/pv8uyupXsz9y/hw/AD9pRg7+kFj1FFYnwP4CRgAm5wfE/ro1E5EHL579L60UIjNnkv0P99WLtdsy/J7H1LhFV1L/MCZuBBFzDP1mJUbVnvvA/Hs5B25LR/z9aMywhT+jlP7A2T9as3OW/Z31OjuPo1b9Dca++63XxP+c35r0YIew/Uz2VLZorer+F1CWQc4zjv51Q9DzYFe6/dmRCS9Dowz+oF38wdBnwPzyVPnS2/NA/+n7EGxY147+d6D3hwFrjv4Z2cXjaDuu/7yXTEg+P079CCN21l7nhPwepRIkQhvI/AbZgiWlt/z8FG+ujvebovysI3cUPT/O/n0ef2sezzz9+ncw8OTHev+dlzKF4neA/TDuZzOOw9T+DH8CYq3/nPyP3UJac6ui/15klXhID2b9tHr2C1hfrP83zFh3jCvM/yvKNKedqBECEnEejo20FQGJo6Q3yYPw/e856qFr11b8MSIm7sKn4vzUtIrmnfcG/dvVHXpZZ8D9vCP5jIjvvP1eNCeDmHew/pdbGRfXo8z9hzpY7ZpDlP+0P9Z7tR+K/Db/cI7t98T9tFol5wSIBQON+52xwDwJAUvrju/xCBkDyyQLEX+fNPyxzxnvcQMs/nRR1TMga0D+3esX1JJniv+tNEOHiAO0/b6FupAq37D/pEzbCfhH7P83KAC1uLPs/Zaz8tOoSwj9+nf4DcybJv7hOtp+4cPE/6BoRRIkjBkBCBR5Z85/2P+qje3ED5ui/Vhx5Hj0kzj8ioMCbsqP6P55oAw9GTt8/OwIRyGnZdT/jBq2HZN3Sv4ppJ8PeMNq/sl0aue6f1j/bQs+E5KPBv2WyVIgfoKC/mPcOcHZ3AUAmKUxOv9wAQDv2lZs5v9Q/x3ecMZqOpz+mFrOimGvxP9oRW8nrUvo/2qXLKorD3j8/0V2jeCH1P2XR3MKapgVA0DsduSKIBUAVPgkURYT+Pz5sSBF2kOU/XT5y+OjF7z8t4XlyRdX8P1LH8bgqNgVAl4EHO44lAUDQToQoocLbP7NYEXUjZOK/+k9TDVu3tL+y5qw66FQDQE2IK6CCTg1AhdqjNXqy/j8CKDn5kaP9Py9TPwuvkvU/fDHZ4tzf+r83OvG4er/jPyQmMH4edQVA+/T8pDJt7D9ELD2j7avYvyXLLB04pva/GBOVEIo94L+0fNnhxYrxP644LhJHFdk/yI5Ezwtg9z+KbVIsDE4MQMY9VmptTQZAuiAqeIOa+T8iOrRTZxfxP6VGPmiLdPo/",
          "dtype": "f8"
         },
         "z": {
          "bdata": "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",
          "dtype": "f8"
         }
        },
        {
         "line": {
          "color": "rgb(140, 86, 75)",
          "width": 4
         },
         "mode": "lines",
         "name": "Image_6_sum_spike_rate.csv",
         "type": "scatter3d",
         "x": {
          "bdata": "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",
          "dtype": "f8"
         },
         "y": {
          "bdata": "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",
          "dtype": "f8"
         },
         "z": {
          "bdata": "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",
          "dtype": "f8"
         }
        },
        {
         "line": {
          "color": "rgb(227, 119, 194)",
          "width": 4
         },
         "mode": "lines",
         "name": "Image_7_sum_spike_rate.csv",
         "type": "scatter3d",
         "x": {
          "bdata": "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",
          "dtype": "f8"
         },
         "y": {
          "bdata": "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",
          "dtype": "f8"
         },
         "z": {
          "bdata": "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",
          "dtype": "f8"
         }
        },
        {
         "line": {
          "color": "rgb(127, 127, 127)",
          "width": 4
         },
         "mode": "lines",
         "name": "Image_8_sum_spike_rate.csv",
         "type": "scatter3d",
         "x": {
          "bdata": "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",
          "dtype": "f8"
         },
         "y": {
          "bdata": "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",
          "dtype": "f8"
         },
         "z": {
          "bdata": "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",
          "dtype": "f8"
         }
        },
        {
         "line": {
          "color": "rgb(188, 189, 34)",
          "width": 4
         },
         "mode": "lines",
         "name": "Image_9_sum_spike_rate.csv",
         "type": "scatter3d",
         "x": {
          "bdata": "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",
          "dtype": "f8"
         },
         "y": {
          "bdata": "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",
          "dtype": "f8"
         },
         "z": {
          "bdata": "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",
          "dtype": "f8"
         }
        },
        {
         "line": {
          "color": "rgb(23, 190, 207)",
          "width": 4
         },
         "mode": "lines",
         "name": "Image_10_sum_spike_rate.csv",
         "type": "scatter3d",
         "x": {
          "bdata": "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",
          "dtype": "f8"
         },
         "y": {
          "bdata": "PF5DrtZD6T8cWnwSNQHRP3ttJqEBieW/N59XmQpg3j+645MA3EXzP1mjXPahwNg/44v3ntARzb8g/I+Mlx2Cv0rkVz591/C/R3+9Q4Cs9785UWP7o8bwPy8oxky40gVAB8DKvC4K/D992fkP/1ryP1LcL3MwAfE/ugaOEDnxtL9nI3SU7IPmv5F5W1crPuG/se5Lyul5x79TfJhWNd7Yv6NmG98A2+y/j50722SP47/DVEFIL9DUP8LCtMKyD/4/Je0B+XCGCEDuUAA2T6wAQPDuDgG/2ue/LVuIFwRX/r8p3gZUAaDjv79eTAHTYbA//7DWkCgQ7z/itVfHgB7zP8MnDx3VFwBAaaayb6zcBkATy7paP5f1P8wRBxVsJc2/+TSs8h1p1L8Bas5sDPcDQGVP+qvxYAJAvG01yLxzyT9Mj6y1D83SPykgUdfvXKA/g1Kv0fDN9T+n9+IKAB0DQOrpk/RLxM0/DUe7M5e/97+2fQ5K1QrJvxt7TeK3+ANAmpsUl8e5/T9PgUPFKDT4P41T27IXe/g/sq3LZEF02T8i4vsICaS/P/uxfEq73NA/HYGz4zra5D8ivkgfJ8DlPwlUOFTxt9c/PdOsaJK44z+izU6qm5vIv+TxKmal6gLARErYVz/w87/BQRt5S+bRvxLxv601a9W/QxmBwXLr7D/yUK2bT5jzP77XVnqM6vg/yPYC9pFK6T+RG9pLjeLkv4vS+sQRsOG/0C8h1HJT2j/IbKIXcpHJP4UG/wgSYeq/wd3z+ioN5j+POKB9T2jOvxlIjleN8QHAJJRuQN5aAMDO1PHDbWz/v8lL9JTfIva/cWOdLb0R8r95+qn7UWqxvyyvvAiTa/Y/1PmszIT62L+lMIHdrBnzv38n8lqDTs8/GBHZbU1lzj+CrFF/FIPTPyT8nXcg3vU/Zvrr2MGQ5T9TolwGa/P4v+FboOy2p/a/4xtPJ9096L98eVKtooHSv7T3yf02ZPo/6ay+UCa14T/Ypy2cFPfpvxz4X9eafME/X9OfZR1g0L8emSlQwJnnvwoz+amv5fK/fzuQ8P2CZz/qrsnI+6//Pxs5sRsus/Q/0JgJ/3sd+b+tMvyjRXMEwEq+vp2WnAHAQTptjocw/b+Ryqz0C/flP4x4PaSoVwJANu3P3IvI8D91Im/3dPvov0Uemk8E+tS/zXTnA2mo47+KBBybfKj0vxs5N+/Egqm/bdOVAZbJ7z9GCbb1/SkCQD4irHLzBOs/JEObPQFK1r/5HCwx/LvWv5PWaA3RP+W/TxLBbDq98r8LDSlRVnrQv9RpNioSFLQ/6H6Zpqmh6b8MnB9NMU3xP7gjcKlt6ABAqdaktCY84T+9omvullfKv8Ro8Z41f7e/M+9uek7g779Tmws439rtv80ADxZm4dc/4C+3KLQG9j9FQVTqOID+P6791jcjyvU/cgBRBsL/7T8vL1y7UUvgPyq7v3CZrOe/xTtxfCxp0z/BE488HHDgv8vUQjnIaQLAEGYixJmS8L+u2ed1uefAPxTQjHyoTLu/VeT6MlaF57/ECJRxbg/ovy8ZWJUIt92/gMLUpREo0b/nGAGnGwPcP8sG5nXn4eI/SYFf+Ebm5T+OxveVStjOvzVbYHm5J/K/c8b1+6F4z78+FpT+N0WQv5Q6q6NAgrK//BpOF/P9ur8f3dP86Tvmv7kKC/mEkuO/5dU7xVql87/SeMGTi60GwFQzlKv+VPq/oy7URPt21j8blWzY/cziv5Ow7JUnrOe/ybBHtD8g5j/vqoCGMOv0v8YRuGKjq/G/15H4erRW7z/9HxcrwcnjP33zEW2Ay+M/i/TdTaRv7z8G27AkzmYCQFhzCm0VDfI/lyr4yPwl8z8crrL7AkgCQGCu5slgcuI/1fbEsTeP478Az1WjgLflv8tkaI11uu4/JgYbzjod8T+IzmiAiBieP2hHziPC57O/Xq6oi+xw0D+R0w7rR9T8PzYW3qxhz+4/DqqKwbAm/D9psn5RIDwKQLQcZHzXVfs/x/MzbuMe8D+O8T6/EO/0P34UIiWA7/o/tksHcEe8+j8EgK+qy2jxP7eIg5+7iPI/M/AEWAzO0z/mc2b/4gYEwEeXS/LhAPy/umZlkfjhwz9w9Q9aPJ7Gv44MqTW5jLs/WpS3btWktz8QMo2a9T7hP+7k543WAfQ//jh4QxxQ7b+rjmcSIcDYv9yG6sej9fo/7N0U3UTmtb+iB/7kW1bkv07DBwPSe8O/AUPegVLeAMApwY+cqzjxv0H4XOcvP+I/qI47KAHP2T+UJZXVUMjwv7MrD2lkWv2/7ALG/qsv8L9zq1w89QWoP/+Hvb3cu+0/zaJBauMS6z9KwzON22u6vxgdhbCdy/2/0U+RwUAp0b+L2vcn+JbkPyrn+nx77PA/RaiNLtWc9D9xDXkqqHzjP4tav9oI5OY/fMOmO23P6L9D/tTspMPSvwqTdwJmVPY/94MXLIW82L+xSeCJBOLsv/99gtox4OQ/mGe6KktCqT/+97F29nnHP+IynFRFGMM/GjBRkY/A8b87L4qUvKbpv7Qn9P+5EPK/q0CjpD3b/L+rz4RZ6pTwvyXNEd+HYdQ/B4MpioXr0T/t1QPUSDLav6GWpw8uwdW/bvy71zKw8z8s1ojlLij5P4L2U+Vt4eq/P+ip1Lsr+b9Clj+mSvP+v0aEfiD+7wHAcYY2PukT6r9PD7/gvbvVv9RE/USAkPG/lVDhAHl40L9Ij98+Yom/P76Mu6zNL78/YziWhrPJwj/DUaMg2eYHwLVT0p4Uvg/ARMTsxTk//L+br4kz8Af0v3TIVcUkNOW/7kj07JpEp79uzEUxN9DLPw2og503J+c/XjS51l6I0r9YCQzYwlTnv/DLsNS4JLs/WWVuM7k62z/sCLeR+Ijwv3chX2qSlgbA++gkM3dh/79kcqbtut7pvw2xvOrVq+S/1UkCFj5d/L9KSMvUFNz9v9C8ZOeQ4+i/0vhhE/092787e9+s5EzxP+Gc4ofgyvQ/KZb/TvG82j/U7KrUDVPbv99aRF/83Pe/q4NnuYMh7L8DLmnsM5DiP5Mwc+aUAOw/61X0R6Ez5r+CTIt5QR3vv0fDg27dtfe//0v8MJ3n9r+kgjE1zZfZPz32dVuAB+o/xCUXaEbd3b+augcSzZr0vyEwlwrjJ+O/UixQ2uY+9D9JPqHmJwDVP9gNvZZP3eq/2Ha6MKYl4j9xbWkWrZ7SP30RtJLlavI/or3KWO+LAEBoEgQzuMjTP+lekQ6M3eu/teFapF8I5L/k9gRT7jXxv1O1bZxhx/G/ixIMm/k+/b8GGjmiqUvsv0l1+TUeaeI/CihnP0Iy1j94XRq74EL3PzHdqusi1ARA7nAO8fHa9j8Z15vAj1zdv9od92GOe72/VJyvG5g/9D++8v8aXlb6Px50fGRTtvk/ssTUls/P6D/j+qN+0D7Mv4H0Sk1wENi/Byc0Ap0jwr9Ym0QMKlHkv9oguFhGpwHAB4n13kC+/L8k3aEv2yzJP7zoCGs3Svg/0B0tWf50qb/uOkgCW932vzIMob5vC/a/",
          "dtype": "f8"
         },
         "z": {
          "bdata": "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",
          "dtype": "f8"
         }
        },
        {
         "line": {
          "color": "rgb(31, 119, 180)",
          "width": 4
         },
         "mode": "lines",
         "name": "Image_11_sum_spike_rate.csv",
         "type": "scatter3d",
         "x": {
          "bdata": "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",
          "dtype": "f8"
         },
         "y": {
          "bdata": "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",
          "dtype": "f8"
         },
         "z": {
          "bdata": "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",
          "dtype": "f8"
         }
        },
        {
         "line": {
          "color": "rgb(255, 127, 14)",
          "width": 4
         },
         "mode": "lines",
         "name": "Image_12_sum_spike_rate.csv",
         "type": "scatter3d",
         "x": {
          "bdata": "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",
          "dtype": "f8"
         },
         "y": {
          "bdata": "WsdvMV2AB0Bovlhe8egRQGRsxB19YRJAEiTSInIL8T8JH+BEYJnbv8eydTwj3tG/0/Nu6lw01L9cCJ110L2jvz1ARTfMr7W/GuhpOL+n2b8qtWZKuJyrvyBS5FdoS+e/sCEOInHe978yCPSLeqjmv4I8FcxNmvG/yfOa2Pz787+59exJAk3Tv5w9JoaYX+y/q/gfy/iYA8DhvuxbJJn+v83IGsFJHd0/bOeShdThwj8zL7CD2Tfav9xqmx2q8vG/RJSbxQqYCMCFUKR6kdQBwAZJ5W9jLQLA9K96km61BsBH7D7B/rcEwICXNR7c0fW/fRRz0gG+0b/yB5AAuY7/v/JQpUyCcQHAvZ1vX+GZ/L/edu0bsPrnv95eCn7EAe4/kLEMxkQL4D/q5x4qBNrdP7M7CR4vddA/HWChlkht7L/zPAJ2XMP8v66+7Gee0/m/M5PO+G2e/78YtzJSsvLwvxQiOcWIE+s/XjArX9/S7L/KLxnQV4oIwHEUlr7XmwHAsfRM593Y4D88qtzElQT7P0EyU5p3YM+/cMXSeoydA8CQSIpU7AUGwFV2m2uVQwXAwyDuOFPz/b90jeMd5WwAwFaOOyhJAwHATO0b0OIC47/wj9dvFYPav/LrTTMamuu/EhcwHSKv/r8pjnhyfdryv5d1EkHRkfC/YMCDWWz8AMDtgfSfczIKwG9YQ31tYgrAVJx7FO5l/b8H5n33hob7vwyFmKpprfO/qwmzylf2+L8f6tEYhesCwPa8McWVnPS/7/HSfZdz8b9W5yEjMf/6v1ilWhQLnuq/56hV+gJ06L+WST4+9wL+v7BKR5JM/fy/xDgWSq5gAcCrp7LbFDoEwDaDdPlKZQrAIzAC3+xwAMCO7cME+8nuPy9mIRS67JG/zBg/FVit9r8snfR8u3EFwLiNGr4xqwLA5WA8h6z887++zz8NXbzxv3iI4BRHudc/0v+jGL8hvz9aVZw7aWXnv6LWlEwQ3PG/K4DHnn63/b+lc/or5KL0v/J4PnteYOa/uwwOYRGF/r+LJqv9MBv5v91hGKs3D+C/eOmxXslM/b9IT2DerDQDwMrW8C6VQwTAPDAFyeyLBcDb64beeF0DwM/jFVHJwPC/K6LawXXP8b/aEkYSaTYBwK0E6m8uaNu/PS4VeKP9xj9C9WdFws7qv8QJ2X4JePa/rZ6s+x3a8b/u4+n2t9T5v+tScujXbvq/Z2/sMpUr/b8AWR5kIlDrvwUYPIx/7PM/tsPdCHMetD/VZNCGIHwCwEwBbGlCEALA7ELy5uEB7r9cheTBeOUFwI2k9UjLggPA5BX9n/E1778GBBiLWX/3v5pjXtLVSfa/W6utvpRt9b+WmX6Pzbzuv/prH+fxs+6/gRkDYyz+/r9N7jIDFhj5v4yWLDxvG++/qFBbensB+r/po7IAsWz5vxt8ghTkJwHA4S6ReN2XCMD9rZsoh+j8v0X24eWB1d+/sc9jBkX69b+4plgqQjH1v2uoUdO8ffE/me63cnA95T+kVc7RaXvyvwwCTc+Ikem/7Wla4fcf8b8eQIkR4N7pv2MRPbJLkcW/uW0XjC/0pj+Xj0PuETHcvxO2ErOKAPm/tLdHcy/s6b8K76hNCuaxPyqVWbgkUvO/JldKcmJZAsAE+AcLn/z0vx6eJHlmtLQ/9T+o0TiP6r8N8pHcUfj/vyhg2uMB9PW/98jtnP0K7r9w+g9FrgDsv3fWlAud7s4/oIAQKA1wdT9lIzof2gX3v76BZzSrtPW/+kkDBZTV+r+0Ux+JtCoFwKmO0qDquwXA5ph3VpL/4b9I7k5RC2jLP/MB0zzv1NC/+IUs0N3X7j8yB2L1xvPTv/zhjLRN+uu/mB5lJgMt5T8Q4Ovd9iPGPyazUVR3IvE/eJUOw3x6/j9DSRpXwx+uv4lOzU7afPa/KCbk0ITZ6L+V8YBTtHjRPzvSdcJJ2vU/7pL615uf9T96qdMbbf2xP7qSmpGEDui/2CSCrfQD179qJ5JoRJ3tP6aAcTSa2K0/J8CZwf9t2b+YtqBsFpvDP5ZpzKv0EqS/N4MjRfhQqD9iJ9nlmLnZv29W0maLfPA/lDSaFDI+6T+pwboL3SbNP8ofzpo7Z+Y/LJVq4dPRur/hS6tUASDoP9O6hRlMZfQ/rxDF4OQD7D9NpBa/ywziP+fr9XKin9w/4OoCnF2w4r/II1m2Ew2UP5jOMNP8Avw/bmNmwlk1+j8BFKHkHwTyP+B3M6sdaP8/9rrNm3pcAECSq0w3QwrtP4cq5mU/8PE/EkIf+U5r5D+eujhjjlS+P661DCrPguQ/4H4dVmxv8T9JbPeQ9LkAQJz3ybRmwvg/MjW0nmzp5L88diRk3F7gv3ODNoISVs8/R3GyVCzA7T8ktrAn+Bj4P7U19FhGMOU/GDoT+cXGqT/gDqwHRSzjv1JaKLDRQN0/9u2cc3LR8j8OyU8dlTrqP7qfDLHvVPg/1+LaCboI9T9L93856KD2P05oftvLegNA3pIZ1AQ1/T/hew7UtZH9P05Xvi1Zcv4/qUmLUx9V9j9ff+6j9e3sP7nQJeq7PPE/i/zsjQ6d8z/CpxSTNpDwP7ubESpwsvY/cuuwUXUUxz+DKnfrHLfdP7bFzlVZX/g/gVlBLUH4+D/g4g5o0VviP89scPm2aZC/Gk1AXG4X4D89IyFJJVXnP6dTv3IW88c/r/T928mF178DZy3FNY7Lv8sqBAGVW+u/WxNRoQuSmb9ginKgbN73P6qbTVwkve8/me6HSBdn8D8KkOp3BYvtPzICTMCrr/U/GAi1MPl9BEC2h/kco2sDQCCpJnhao/E/8x5crXrm2b+Itg2pH/ayvxBY8AnOKfg/YRWPwNevBUAojRal5VIFQJKZQ+SvYgZAMEwLzcL3CkBaGHoJxmb+PzCcCc5sp+A/UWi4f6K5+j8xnlFJVEn6P5UV/zKsE/E/v14n/L1j9T8hgtBUcXH+P5IZq0J2/vo/oDLwfvDj6T9ClqvFRinxPyZvqWk7/vU/xYqOWJguBUAw60hAQ2UPQML+mNQ8OAZAtp+/ziIixT+8/uzLKwnKv+eTAbq3NPg/qHr6S0heCUARSt+flhIDQECdga1XE/A/SyW7j93n8z9bgez4Yqv8Pwa7epR/ZgdAk/92hBMMAUC9kE7VqDr4P9z2vaAMcANAmj1rqGG+7j+oleXtw1bMP49WaG6TSNE/TTK/Jn+d9T8UTmDLW4EGQMweYtErv/Q/uor3ZeaD4z+8UnBS3/jZP1pR2AHbVO8/D3tPZ4HvBECzl1Wb7OH2P/54wCJswtg/99Z5ege59T+3DKFSg+r1P93gGMp1jvA/iEjqvtsO+T82qh2e9pz9Py3jCDWEJPs/M+j2YYc+AEB1DDHTg2cHQD97WoysmQtAOJI9xtmZAUA5FVG+CZIFQOzuNoOoxhJAIH6qplRNDED81NY6j5j3P99shygJ0fE/gGGFQeAE9j9aSrlv6w30P5MttdVhTAVAWjUue14CEEBQTHzdoM8GQGXbEiFHfARAJEGjesbLB0CJAIp3ybn9P2oUr8FnQvM/",
          "dtype": "f8"
         },
         "z": {
          "bdata": "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",
          "dtype": "f8"
         }
        }
       ],
       "layout": {
        "scene": {
         "bgcolor": "white",
         "xaxis": {
          "backgroundcolor": "white",
          "gridcolor": "white",
          "showgrid": false,
          "title": {
           "text": "X Axis"
          }
         },
         "yaxis": {
          "backgroundcolor": "white",
          "gridcolor": "white",
          "showgrid": false,
          "title": {
           "text": "Y Axis"
          }
         },
         "zaxis": {
          "backgroundcolor": "white",
          "gridcolor": "white",
          "showgrid": false,
          "title": {
           "text": "Z Axis"
          }
         }
        },
        "template": {
         "data": {
          "bar": [
           {
            "error_x": {
             "color": "#2a3f5f"
            },
            "error_y": {
             "color": "#2a3f5f"
            },
            "marker": {
             "line": {
              "color": "#E5ECF6",
              "width": 0.5
             },
             "pattern": {
              "fillmode": "overlay",
              "size": 10,
              "solidity": 0.2
             }
            },
            "type": "bar"
           }
          ],
          "barpolar": [
           {
            "marker": {
             "line": {
              "color": "#E5ECF6",
              "width": 0.5
             },
             "pattern": {
              "fillmode": "overlay",
              "size": 10,
              "solidity": 0.2
             }
            },
            "type": "barpolar"
           }
          ],
          "carpet": [
           {
            "aaxis": {
             "endlinecolor": "#2a3f5f",
             "gridcolor": "white",
             "linecolor": "white",
             "minorgridcolor": "white",
             "startlinecolor": "#2a3f5f"
            },
            "baxis": {
             "endlinecolor": "#2a3f5f",
             "gridcolor": "white",
             "linecolor": "white",
             "minorgridcolor": "white",
             "startlinecolor": "#2a3f5f"
            },
            "type": "carpet"
           }
          ],
          "choropleth": [
           {
            "colorbar": {
             "outlinewidth": 0,
             "ticks": ""
            },
            "type": "choropleth"
           }
          ],
          "contour": [
           {
            "colorbar": {
             "outlinewidth": 0,
             "ticks": ""
            },
            "colorscale": [
             [
              0,
              "#0d0887"
             ],
             [
              0.1111111111111111,
              "#46039f"
             ],
             [
              0.2222222222222222,
              "#7201a8"
             ],
             [
              0.3333333333333333,
              "#9c179e"
             ],
             [
              0.4444444444444444,
              "#bd3786"
             ],
             [
              0.5555555555555556,
              "#d8576b"
             ],
             [
              0.6666666666666666,
              "#ed7953"
             ],
             [
              0.7777777777777778,
              "#fb9f3a"
             ],
             [
              0.8888888888888888,
              "#fdca26"
             ],
             [
              1,
              "#f0f921"
             ]
            ],
            "type": "contour"
           }
          ],
          "contourcarpet": [
           {
            "colorbar": {
             "outlinewidth": 0,
             "ticks": ""
            },
            "type": "contourcarpet"
           }
          ],
          "heatmap": [
           {
            "colorbar": {
             "outlinewidth": 0,
             "ticks": ""
            },
            "colorscale": [
             [
              0,
              "#0d0887"
             ],
             [
              0.1111111111111111,
              "#46039f"
             ],
             [
              0.2222222222222222,
              "#7201a8"
             ],
             [
              0.3333333333333333,
              "#9c179e"
             ],
             [
              0.4444444444444444,
              "#bd3786"
             ],
             [
              0.5555555555555556,
              "#d8576b"
             ],
             [
              0.6666666666666666,
              "#ed7953"
             ],
             [
              0.7777777777777778,
              "#fb9f3a"
             ],
             [
              0.8888888888888888,
              "#fdca26"
             ],
             [
              1,
              "#f0f921"
             ]
            ],
            "type": "heatmap"
           }
          ],
          "histogram": [
           {
            "marker": {
             "pattern": {
              "fillmode": "overlay",
              "size": 10,
              "solidity": 0.2
             }
            },
            "type": "histogram"
           }
          ],
          "histogram2d": [
           {
            "colorbar": {
             "outlinewidth": 0,
             "ticks": ""
            },
            "colorscale": [
             [
              0,
              "#0d0887"
             ],
             [
              0.1111111111111111,
              "#46039f"
             ],
             [
              0.2222222222222222,
              "#7201a8"
             ],
             [
              0.3333333333333333,
              "#9c179e"
             ],
             [
              0.4444444444444444,
              "#bd3786"
             ],
             [
              0.5555555555555556,
              "#d8576b"
             ],
             [
              0.6666666666666666,
              "#ed7953"
             ],
             [
              0.7777777777777778,
              "#fb9f3a"
             ],
             [
              0.8888888888888888,
              "#fdca26"
             ],
             [
              1,
              "#f0f921"
             ]
            ],
            "type": "histogram2d"
           }
          ],
          "histogram2dcontour": [
           {
            "colorbar": {
             "outlinewidth": 0,
             "ticks": ""
            },
            "colorscale": [
             [
              0,
              "#0d0887"
             ],
             [
              0.1111111111111111,
              "#46039f"
             ],
             [
              0.2222222222222222,
              "#7201a8"
             ],
             [
              0.3333333333333333,
              "#9c179e"
             ],
             [
              0.4444444444444444,
              "#bd3786"
             ],
             [
              0.5555555555555556,
              "#d8576b"
             ],
             [
              0.6666666666666666,
              "#ed7953"
             ],
             [
              0.7777777777777778,
              "#fb9f3a"
             ],
             [
              0.8888888888888888,
              "#fdca26"
             ],
             [
              1,
              "#f0f921"
             ]
            ],
            "type": "histogram2dcontour"
           }
          ],
          "mesh3d": [
           {
            "colorbar": {
             "outlinewidth": 0,
             "ticks": ""
            },
            "type": "mesh3d"
           }
          ],
          "parcoords": [
           {
            "line": {
             "colorbar": {
              "outlinewidth": 0,
              "ticks": ""
             }
            },
            "type": "parcoords"
           }
          ],
          "pie": [
           {
            "automargin": true,
            "type": "pie"
           }
          ],
          "scatter": [
           {
            "fillpattern": {
             "fillmode": "overlay",
             "size": 10,
             "solidity": 0.2
            },
            "type": "scatter"
           }
          ],
          "scatter3d": [
           {
            "line": {
             "colorbar": {
              "outlinewidth": 0,
              "ticks": ""
             }
            },
            "marker": {
             "colorbar": {
              "outlinewidth": 0,
              "ticks": ""
             }
            },
            "type": "scatter3d"
           }
          ],
          "scattercarpet": [
           {
            "marker": {
             "colorbar": {
              "outlinewidth": 0,
              "ticks": ""
             }
            },
            "type": "scattercarpet"
           }
          ],
          "scattergeo": [
           {
            "marker": {
             "colorbar": {
              "outlinewidth": 0,
              "ticks": ""
             }
            },
            "type": "scattergeo"
           }
          ],
          "scattergl": [
           {
            "marker": {
             "colorbar": {
              "outlinewidth": 0,
              "ticks": ""
             }
            },
            "type": "scattergl"
           }
          ],
          "scattermap": [
           {
            "marker": {
             "colorbar": {
              "outlinewidth": 0,
              "ticks": ""
             }
            },
            "type": "scattermap"
           }
          ],
          "scattermapbox": [
           {
            "marker": {
             "colorbar": {
              "outlinewidth": 0,
              "ticks": ""
             }
            },
            "type": "scattermapbox"
           }
          ],
          "scatterpolar": [
           {
            "marker": {
             "colorbar": {
              "outlinewidth": 0,
              "ticks": ""
             }
            },
            "type": "scatterpolar"
           }
          ],
          "scatterpolargl": [
           {
            "marker": {
             "colorbar": {
              "outlinewidth": 0,
              "ticks": ""
             }
            },
            "type": "scatterpolargl"
           }
          ],
          "scatterternary": [
           {
            "marker": {
             "colorbar": {
              "outlinewidth": 0,
              "ticks": ""
             }
            },
            "type": "scatterternary"
           }
          ],
          "surface": [
           {
            "colorbar": {
             "outlinewidth": 0,
             "ticks": ""
            },
            "colorscale": [
             [
              0,
              "#0d0887"
             ],
             [
              0.1111111111111111,
              "#46039f"
             ],
             [
              0.2222222222222222,
              "#7201a8"
             ],
             [
              0.3333333333333333,
              "#9c179e"
             ],
             [
              0.4444444444444444,
              "#bd3786"
             ],
             [
              0.5555555555555556,
              "#d8576b"
             ],
             [
              0.6666666666666666,
              "#ed7953"
             ],
             [
              0.7777777777777778,
              "#fb9f3a"
             ],
             [
              0.8888888888888888,
              "#fdca26"
             ],
             [
              1,
              "#f0f921"
             ]
            ],
            "type": "surface"
           }
          ],
          "table": [
           {
            "cells": {
             "fill": {
              "color": "#EBF0F8"
             },
             "line": {
              "color": "white"
             }
            },
            "header": {
             "fill": {
              "color": "#C8D4E3"
             },
             "line": {
              "color": "white"
             }
            },
            "type": "table"
           }
          ]
         },
         "layout": {
          "annotationdefaults": {
           "arrowcolor": "#2a3f5f",
           "arrowhead": 0,
           "arrowwidth": 1
          },
          "autotypenumbers": "strict",
          "coloraxis": {
           "colorbar": {
            "outlinewidth": 0,
            "ticks": ""
           }
          },
          "colorscale": {
           "diverging": [
            [
             0,
             "#8e0152"
            ],
            [
             0.1,
             "#c51b7d"
            ],
            [
             0.2,
             "#de77ae"
            ],
            [
             0.3,
             "#f1b6da"
            ],
            [
             0.4,
             "#fde0ef"
            ],
            [
             0.5,
             "#f7f7f7"
            ],
            [
             0.6,
             "#e6f5d0"
            ],
            [
             0.7,
             "#b8e186"
            ],
            [
             0.8,
             "#7fbc41"
            ],
            [
             0.9,
             "#4d9221"
            ],
            [
             1,
             "#276419"
            ]
           ],
           "sequential": [
            [
             0,
             "#0d0887"
            ],
            [
             0.1111111111111111,
             "#46039f"
            ],
            [
             0.2222222222222222,
             "#7201a8"
            ],
            [
             0.3333333333333333,
             "#9c179e"
            ],
            [
             0.4444444444444444,
             "#bd3786"
            ],
            [
             0.5555555555555556,
             "#d8576b"
            ],
            [
             0.6666666666666666,
             "#ed7953"
            ],
            [
             0.7777777777777778,
             "#fb9f3a"
            ],
            [
             0.8888888888888888,
             "#fdca26"
            ],
            [
             1,
             "#f0f921"
            ]
           ],
           "sequentialminus": [
            [
             0,
             "#0d0887"
            ],
            [
             0.1111111111111111,
             "#46039f"
            ],
            [
             0.2222222222222222,
             "#7201a8"
            ],
            [
             0.3333333333333333,
             "#9c179e"
            ],
            [
             0.4444444444444444,
             "#bd3786"
            ],
            [
             0.5555555555555556,
             "#d8576b"
            ],
            [
             0.6666666666666666,
             "#ed7953"
            ],
            [
             0.7777777777777778,
             "#fb9f3a"
            ],
            [
             0.8888888888888888,
             "#fdca26"
            ],
            [
             1,
             "#f0f921"
            ]
           ]
          },
          "colorway": [
           "#636efa",
           "#EF553B",
           "#00cc96",
           "#ab63fa",
           "#FFA15A",
           "#19d3f3",
           "#FF6692",
           "#B6E880",
           "#FF97FF",
           "#FECB52"
          ],
          "font": {
           "color": "#2a3f5f"
          },
          "geo": {
           "bgcolor": "white",
           "lakecolor": "white",
           "landcolor": "#E5ECF6",
           "showlakes": true,
           "showland": true,
           "subunitcolor": "white"
          },
          "hoverlabel": {
           "align": "left"
          },
          "hovermode": "closest",
          "mapbox": {
           "style": "light"
          },
          "paper_bgcolor": "white",
          "plot_bgcolor": "#E5ECF6",
          "polar": {
           "angularaxis": {
            "gridcolor": "white",
            "linecolor": "white",
            "ticks": ""
           },
           "bgcolor": "#E5ECF6",
           "radialaxis": {
            "gridcolor": "white",
            "linecolor": "white",
            "ticks": ""
           }
          },
          "scene": {
           "xaxis": {
            "backgroundcolor": "#E5ECF6",
            "gridcolor": "white",
            "gridwidth": 2,
            "linecolor": "white",
            "showbackground": true,
            "ticks": "",
            "zerolinecolor": "white"
           },
           "yaxis": {
            "backgroundcolor": "#E5ECF6",
            "gridcolor": "white",
            "gridwidth": 2,
            "linecolor": "white",
            "showbackground": true,
            "ticks": "",
            "zerolinecolor": "white"
           },
           "zaxis": {
            "backgroundcolor": "#E5ECF6",
            "gridcolor": "white",
            "gridwidth": 2,
            "linecolor": "white",
            "showbackground": true,
            "ticks": "",
            "zerolinecolor": "white"
           }
          },
          "shapedefaults": {
           "line": {
            "color": "#2a3f5f"
           }
          },
          "ternary": {
           "aaxis": {
            "gridcolor": "white",
            "linecolor": "white",
            "ticks": ""
           },
           "baxis": {
            "gridcolor": "white",
            "linecolor": "white",
            "ticks": ""
           },
           "bgcolor": "#E5ECF6",
           "caxis": {
            "gridcolor": "white",
            "linecolor": "white",
            "ticks": ""
           }
          },
          "title": {
           "x": 0.05
          },
          "xaxis": {
           "automargin": true,
           "gridcolor": "white",
           "linecolor": "white",
           "ticks": "",
           "title": {
            "standoff": 15
           },
           "zerolinecolor": "white",
           "zerolinewidth": 2
          },
          "yaxis": {
           "automargin": true,
           "gridcolor": "white",
           "linecolor": "white",
           "ticks": "",
           "title": {
            "standoff": 15
           },
           "zerolinecolor": "white",
           "zerolinewidth": 2
          }
         }
        },
        "title": {
         "text": "3D Line Plots from Dictionary"
        }
       }
      }
     },
     "metadata": {},
     "output_type": "display_data"
    }
   ],
   "source": [
    "import plotly.graph_objects as go\n",
    "import numpy as np\n",
    "\n",
    "fig = go.Figure()\n",
    "\n",
    "colors = ['rgb(31, 119, 180)', 'rgb(255, 127, 14)', 'rgb(44, 160, 44)', 'rgb(214, 39, 40)', \n",
    "          'rgb(148, 103, 189)', 'rgb(140, 86, 75)', 'rgb(227, 119, 194)', 'rgb(127, 127, 127)', \n",
    "          'rgb(188, 189, 34)', 'rgb(23, 190, 207)']\n",
    "\n",
    "for i, (key, matrix) in enumerate(data_pca_dict.items()):\n",
    "    color = colors[i % len(colors)]\n",
    "    \n",
    "    x = matrix[:, 0]\n",
    "    y = matrix[:, 1]\n",
    "    z = matrix[:, 2]\n",
    "    \n",
    "    fig.add_trace(go.Scatter3d(\n",
    "        x=x,\n",
    "        y=y,\n",
    "        z=z,\n",
    "        mode='lines',\n",
    "        line=dict(color=color, width=4),\n",
    "        name=key\n",
    "    ))\n",
    "\n",
    "fig.update_layout(\n",
    "    title='3D Line Plots from Dictionary',\n",
    "    scene=dict(\n",
    "        xaxis_title='X Axis',\n",
    "        yaxis_title='Y Axis',\n",
    "        zaxis_title='Z Axis',\n",
    "        xaxis=dict(showgrid=False, gridcolor='white', backgroundcolor='white'),\n",
    "        yaxis=dict(showgrid=False, gridcolor='white', backgroundcolor='white'),\n",
    "        zaxis=dict(showgrid=False, gridcolor='white', backgroundcolor='white'),\n",
    "        bgcolor='white' \n",
    "    )\n",
    ")\n",
    "\n",
    "\n",
    "fig.show()"
   ]
  },
  {
   "cell_type": "code",
   "execution_count": 80,
   "metadata": {},
   "outputs": [],
   "source": [
    "pc_ratio_1 = pd.read_csv(\"/media/ubuntu/sda/data/mouse6/output_grating/03_single_neuron/dynamic/processed_data/pc_ratio_phase1.csv\", index_col=0)\n",
    "pc_ratio_2 = pd.read_csv(\"/media/ubuntu/sda/data/mouse6/output_grating/03_single_neuron/dynamic/processed_data/pc_ratio_phase2.csv\", index_col=0)"
   ]
  },
  {
   "cell_type": "code",
   "execution_count": 81,
   "metadata": {},
   "outputs": [],
   "source": [
    "with PdfPages('neuron_model/pc_ration_phase12.pdf') as pdf:\n",
    "    plt.figure(figsize=(3,2))\n",
    "    sns.lineplot(x = range(10),\n",
    "                 y = pc_ratio_1['0'],\n",
    "                 color = '#F0868C',\n",
    "                 linewidth = 3)\n",
    "    sns.lineplot(x = range(10),\n",
    "                 y = pc_ratio_2['0'],\n",
    "                 color = '#70A5D9',\n",
    "                 linewidth = 3)\n",
    "    plt.yticks([])\n",
    "    plt.xticks([])\n",
    "    plt.ylim(0, 1.1)\n",
    "    plt.ylabel(\"\")\n",
    "    pdf.savefig()\n",
    "    plt.close()"
   ]
  }
 ],
 "metadata": {
  "kernelspec": {
   "display_name": "Python 3",
   "language": "python",
   "name": "python3"
  },
  "language_info": {
   "codemirror_mode": {
    "name": "ipython",
    "version": 3
   },
   "file_extension": ".py",
   "mimetype": "text/x-python",
   "name": "python",
   "nbconvert_exporter": "python",
   "pygments_lexer": "ipython3",
   "version": "3.10.0"
  }
 },
 "nbformat": 4,
 "nbformat_minor": 2
}
