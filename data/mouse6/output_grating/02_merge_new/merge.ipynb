{
 "cells": [
  {
   "cell_type": "code",
   "execution_count": 7,
   "metadata": {},
   "outputs": [],
   "source": [
    "import numpy as np\n",
    "import pandas as pd\n",
    "import seaborn as sns\n",
    "import warnings\n",
    "warnings.filterwarnings('ignore')\n",
    "import spikeinterface as si\n",
    "import matplotlib.pyplot as plt\n",
    "import os\n",
    "from matplotlib.backends.backend_pdf import PdfPages"
   ]
  },
  {
   "cell_type": "code",
   "execution_count": 8,
   "metadata": {},
   "outputs": [
    {
     "data": {
      "image/png": "[encoded data removed]",
      "text/plain": [
       "<Figure size 500x200 with 1 Axes>"
      ]
     },
     "metadata": {},
     "output_type": "display_data"
    }
   ],
   "source": [
    "dates = os.listdir(\"/media/ubuntu/sda/data/mouse6/output_grating/num_threshold/5000\")\n",
    "\n",
    "cluster_inf = pd.DataFrame()\n",
    "spike_inf = pd.DataFrame()\n",
    "waveform_mean = pd.DataFrame()\n",
    "\n",
    "for date in dates:\n",
    "    cluster_inf_temp = pd.read_csv(f'/media/ubuntu/sda/data/mouse6/output_grating/num_threshold/5000/{date}/cluster_inf.tsv', sep = '\\t').iloc[:, 1:]\n",
    "    cluster_inf_temp['date'] = date\n",
    "    cluster_inf = pd.concat((cluster_inf, cluster_inf_temp), axis= 0)\n",
    "\n",
    "    spike_inf_temp = pd.read_csv(f'/media/ubuntu/sda/data/mouse6/output_grating/num_threshold/5000/{date}/spike_inf.tsv', sep = \"\\t\").iloc[:, 1:]\n",
    "    spike_inf_temp['date'] = date\n",
    "    spike_inf = pd.concat((spike_inf, spike_inf_temp), axis=0)\n",
    "\n",
    "    waveform_mean_temp = pd.read_csv(f'/media/ubuntu/sda/data/mouse6/output_grating/num_threshold/5000/{date}/waveform_mean.tsv', sep = \"\\t\").iloc[:, 1:]\n",
    "    waveform_mean_temp.columns = waveform_mean_temp.columns + f\"_{date}\"\n",
    "    waveform_mean = pd.concat((waveform_mean, waveform_mean_temp), axis=1)\n",
    "\n",
    "\n",
    "del waveform_mean_temp, spike_inf_temp, cluster_inf_temp\n",
    "\n",
    "threshold = np.arange(1, 15, 1)\n",
    "num_neuron = []\n",
    "for num in threshold:\n",
    "    cluster_inf['Neuron'] = None\n",
    "    cluster_inf.iloc[0, 28] = 1\n",
    "    neuron_inf = pd.DataFrame(cluster_inf.iloc[0, :]).T\n",
    "    neuron = 1\n",
    "    for i in range(1, len(cluster_inf)):\n",
    "        found = False\n",
    "        for j in range(len(neuron_inf)):\n",
    "            if (abs(cluster_inf.iloc[i, 22] - neuron_inf.iloc[j, 22]) <= num) and (abs(cluster_inf.iloc[i, 23] - neuron_inf.iloc[j, 23]) <= num):\n",
    "                cluster_inf.iloc[i, 28] = neuron_inf.iloc[j, 28]\n",
    "                found = True\n",
    "                break\n",
    "        if not found:\n",
    "            neuron += 1\n",
    "            cluster_inf.iloc[i,28] = neuron\n",
    "            neuron_inf = pd.concat((neuron_inf, pd.DataFrame(cluster_inf.iloc[i, :]).T), axis=0)\n",
    "\n",
    "    neurons_with_count_gt_16 = cluster_inf['Neuron'].value_counts()\n",
    "    neuron_values = neurons_with_count_gt_16[neurons_with_count_gt_16 >= 13].index.tolist()\n",
    "    num_neuron.append(len(neuron_values))\n",
    "\n",
    "plt.figure(figsize=(5, 2))\n",
    "sns.lineplot(x = threshold,\n",
    "                y = num_neuron)\n",
    "plt.xlabel(\"Threshold (mm)\")\n",
    "plt.ylabel(\"Cluster Number\")\n",
    "plt.show()"
   ]
  },
  {
   "cell_type": "code",
   "execution_count": 37,
   "metadata": {},
   "outputs": [],
   "source": [
    "date_order = ['021322',  '022522', '031722', '042422', '052422', '062422', '072322', '082322', '092422', '102122', '112022', '022223', '032123', '042323']"
   ]
  },
  {
   "cell_type": "code",
   "execution_count": 10,
   "metadata": {},
   "outputs": [],
   "source": [
    "num = 6\n",
    "cluster_inf['Neuron'] = None\n",
    "cluster_inf.iloc[0, 28] = 1\n",
    "neuron_inf = pd.DataFrame(cluster_inf.iloc[0, :]).T\n",
    "neuron = 1\n",
    "for i in range(1, len(cluster_inf)):\n",
    "    found = False\n",
    "    for j in range(len(neuron_inf)):\n",
    "        if (abs(cluster_inf.iloc[i, 22] - neuron_inf.iloc[j, 22]) <= num) and (abs(cluster_inf.iloc[i, 23] - neuron_inf.iloc[j, 23]) <= num):\n",
    "            cluster_inf.iloc[i, 28] = neuron_inf.iloc[j, 28]\n",
    "            found = True\n",
    "            break\n",
    "    if not found:\n",
    "        neuron += 1\n",
    "        cluster_inf.iloc[i,28] = neuron\n",
    "        neuron_inf = pd.concat((neuron_inf, pd.DataFrame(cluster_inf.iloc[i, :]).T), axis=0)\n",
    "\n",
    "neurons_with_count_gt_16 = cluster_inf['Neuron'].value_counts()\n",
    "neuron_values = neurons_with_count_gt_16[neurons_with_count_gt_16 >= 13].index.tolist()"
   ]
  },
  {
   "cell_type": "code",
   "execution_count": 11,
   "metadata": {},
   "outputs": [],
   "source": [
    "num = 12\n",
    "cluster_inf['Neuron'] = None\n",
    "cluster_inf.iloc[0, 28] = 1\n",
    "neuron_inf = pd.DataFrame(cluster_inf.iloc[0, :]).T\n",
    "neuron = 1\n",
    "for i in range(1, len(cluster_inf)):\n",
    "    found = False\n",
    "    for j in range(len(neuron_inf)):\n",
    "        if (abs(cluster_inf.iloc[i, 22] - neuron_inf.iloc[j, 22]) <= num) and (abs(cluster_inf.iloc[i, 23] - neuron_inf.iloc[j, 23]) <= num):\n",
    "            cluster_inf.iloc[i, 28] = neuron_inf.iloc[j, 28]\n",
    "            found = True\n",
    "            break\n",
    "    if not found:\n",
    "        neuron += 1\n",
    "        cluster_inf.iloc[i,28] = neuron\n",
    "        neuron_inf = pd.concat((neuron_inf, pd.DataFrame(cluster_inf.iloc[i, :]).T), axis=0)\n",
    "\n",
    "neurons_with_count_gt_16 = cluster_inf['Neuron'].value_counts()\n",
    "neuron_values = neurons_with_count_gt_16[neurons_with_count_gt_16 >= 13].index.tolist()\n",
    "\n",
    "num = 1\n",
    "neuron_cluster_dict = {}\n",
    "for neuron in neuron_values:\n",
    "    temp = cluster_inf[cluster_inf['Neuron'] == neuron]\n",
    "    filter_cluster = temp.apply(lambda row: f\"{row['cluster']}_{row['date']}\", axis=1)\n",
    "    waveform_mean_temp = waveform_mean.loc[:, filter_cluster]\n",
    "\n",
    "    from sklearn.cluster import DBSCAN\n",
    "    from sklearn.decomposition import PCA\n",
    "\n",
    "\n",
    "    pca = PCA(n_components=2)\n",
    "    principal_components = pca.fit_transform(waveform_mean_temp.T)\n",
    "\n",
    "    eps = 120\n",
    "    min_samples = 1\n",
    "\n",
    "    dbscan = DBSCAN(eps=eps, min_samples=min_samples)\n",
    "    dbscan.fit(principal_components)\n",
    "\n",
    "    #plt.Figure(figsize=(5, 5))\n",
    "    #sns.scatterplot(x = principal_components[:, 0],\n",
    "    #            y = principal_components[:, 1],\n",
    "    #            hue=dbscan.labels_)\n",
    "    #plt.title(neuron)\n",
    "    #plt.show()\n",
    "\n",
    "    filter_cluster = pd.DataFrame(filter_cluster).reset_index(drop=True)\n",
    "    filter_cluster = pd.concat((pd.DataFrame(filter_cluster), pd.DataFrame(dbscan.labels_)), axis=1)\n",
    "    filter_cluster.columns = ['cluster_date', 'dbscan_labels']\n",
    "    for i in filter_cluster['dbscan_labels'].value_counts().index:\n",
    "        neuron_cluster_dict[f'Neuron_{num}'] = filter_cluster.loc[filter_cluster['dbscan_labels'] == i, 'cluster_date'].tolist()\n",
    "        num += 1\n",
    "\n",
    "neuron_cluster_dict = {key: value for key, value in neuron_cluster_dict.items() if len(set([item.split('_')[1] for item in value])) >= 13}\n",
    "cluster_inf['cluster_date'] = cluster_inf.apply(lambda row: f\"{row['cluster']}_{row['date']}\", axis=1)\n",
    "cluster_inf = cluster_inf[cluster_inf['cluster_date'].isin([item for sublist in neuron_cluster_dict.values() for item in sublist])]\n",
    "for key, item in neuron_cluster_dict.items():\n",
    "    cluster_inf.loc[cluster_inf['cluster_date'].isin(item), 'Neuron'] = key \n",
    "\n",
    "spike_inf['cluster_date'] = spike_inf.apply(lambda row: f\"{row['cluster']}_{row['date']}\", axis=1)\n",
    "spike_inf = spike_inf[spike_inf['cluster_date'].isin([item for sublist in neuron_cluster_dict.values() for item in sublist])]\n",
    "for key, item in neuron_cluster_dict.items():\n",
    "    spike_inf.loc[spike_inf['cluster_date'].isin(item), 'Neuron'] = key \n",
    "\n",
    "cluster_inf['Neuron_index'] = cluster_inf['Neuron'].str.extract(r'Neuron_(\\d+)').astype(int)\n",
    "cluster_inf = cluster_inf.sort_values(by='Neuron_index')\n",
    "cluster_inf['Neuron'] = 'Neuron_' + (cluster_inf['Neuron_index'].rank(method='dense').astype(int)).astype(str)\n",
    "\n",
    "spike_inf['Neuron_index'] = spike_inf['Neuron'].str.extract(r'Neuron_(\\d+)').astype(int)\n",
    "spike_inf = spike_inf.sort_values(by='Neuron_index')\n",
    "spike_inf['Neuron'] = 'Neuron_' + (spike_inf['Neuron_index'].rank(method='dense').astype(int)).astype(str)\n",
    "\n",
    "cluster_inf['neuron_date'] = cluster_inf.apply(lambda row: f\"{row['Neuron']}_{row['date']}\", axis=1)\n",
    "spike_inf['neuron_date'] = spike_inf.apply(lambda row: f\"{row['Neuron']}_{row['date']}\", axis=1)\n",
    "\n",
    "from scipy.stats import pearsonr\n",
    "from mpl_toolkits.axes_grid1.inset_locator import inset_axes\n",
    "with PdfPages('cluster_view.pdf') as pdf:\n",
    "    for neuron in sorted(cluster_inf['Neuron'].unique(), key=lambda x: int(x.split('_')[1])):\n",
    "        temp = cluster_inf[cluster_inf['Neuron'] == neuron]\n",
    "        waveform_mean_temp = waveform_mean.loc[:, temp['cluster_date'].tolist()]\n",
    "\n",
    "        similarity = np.zeros((waveform_mean_temp.shape[1], waveform_mean_temp.shape[1]))\n",
    "        for i in range(waveform_mean_temp.shape[1]):\n",
    "            for j in range(waveform_mean_temp.shape[1]):\n",
    "                similarity[i, j], _ = pearsonr(waveform_mean_temp.iloc[:, i], waveform_mean_temp.iloc[:, j])\n",
    "        similarity = similarity.flatten()\n",
    "\n",
    "        cluster_num = len(temp['neuron_date'].value_counts().index)\n",
    "        blue_palette = sns.color_palette(\"Blues\", n_colors=waveform_mean_temp.shape[1])\n",
    "\n",
    "        fig, ax = plt.subplots(figsize=(6, 4))\n",
    "        for i in range(waveform_mean_temp.shape[1]):\n",
    "            sns.lineplot(x = range(61),\n",
    "                        y = waveform_mean_temp.iloc[:, i],\n",
    "                        color=blue_palette[i],\n",
    "                        ax=ax)\n",
    "        axins = inset_axes(ax, width=\"20%\", height=\"30%\", loc='lower right', bbox_to_anchor=(-0.03, 0.05, 1, 1), bbox_transform=ax.transAxes)    \n",
    "        sns.histplot(similarity, color='red', ax=axins, edgecolor = None)\n",
    "        axins.set_yticks([])\n",
    "        axins.set_ylabel(\"\")\n",
    "        axins.set_title(\"Similarity\", fontsize=9)\n",
    "        axins.tick_params(axis='both', which='major', labelsize=8)\n",
    "\n",
    "        ax.set_ylabel(\"Amplitude\")\n",
    "        ax.set_xticks([])\n",
    "        ax.set_title(neuron)\n",
    "        ax.text(0.01, 0.95, f'Cluster Number: {cluster_num}', transform=ax.transAxes, fontsize=10, color='black', ha='left')\n",
    "        pdf.savefig(fig)\n",
    "        plt.close(fig)\n"
   ]
  },
  {
   "cell_type": "code",
   "execution_count": 12,
   "metadata": {},
   "outputs": [],
   "source": [
    "select_neurons = ['Neuron_2', 'Neuron_3', \"Neuron_4\", \"Neuron_5\", \"Neuron_6\", \"Neuron_8\", \"Neuron_10\",\n",
    "                  'Neuron_7', 'Neuron_9', 'Neuron_12', \"Neuron_14\",\n",
    "                  'Neuron_16', \"Neuron_17\", \"Neuron_18\",\n",
    "                  \"Neuron_19\", \"Neuron_20\", 'Neuron_21', 'Neuron_22',\n",
    "                  \"Neuron_23\", \"Neuron_24\", \"Neuron_25\"]"
   ]
  },
  {
   "cell_type": "code",
   "execution_count": 13,
   "metadata": {},
   "outputs": [],
   "source": [
    "spike_inf = spike_inf[spike_inf['Neuron'].isin(select_neurons)]\n",
    "cluster_inf = cluster_inf[cluster_inf['Neuron'].isin(select_neurons)]"
   ]
  },
  {
   "cell_type": "code",
   "execution_count": 14,
   "metadata": {},
   "outputs": [],
   "source": [
    "spike_inf.to_csv(\"spike_inf_refinhe.tsv\", sep = '\\t')\n",
    "cluster_inf.to_csv(\"clusteri_inf_refinhe.tsv\", sep = '\\t')"
   ]
  },
  {
   "cell_type": "code",
   "execution_count": 15,
   "metadata": {},
   "outputs": [],
   "source": [
    "neuron_date_dict = {}\n",
    "for neuron in sorted(cluster_inf['Neuron'].unique(), key=lambda x: int(x.split('_')[1])):\n",
    "    temp = cluster_inf[cluster_inf['Neuron'] == neuron]\n",
    "    neuron_date_dict[neuron] = sorted(temp['date'].unique())"
   ]
  },
  {
   "cell_type": "markdown",
   "metadata": {},
   "source": [
    "- Dynamic"
   ]
  },
  {
   "cell_type": "code",
   "execution_count": 16,
   "metadata": {},
   "outputs": [],
   "source": [
    "trigger_time = pd.read_csv(\"/media/ubuntu/sda/data/mouse6/output_grating/01_get_trigger/trigger_time_dynamic.tsv\", sep = '\\t').iloc[:, 1:]"
   ]
  },
  {
   "cell_type": "code",
   "execution_count": 41,
   "metadata": {},
   "outputs": [],
   "source": [
    "from scipy.stats import  pearsonr\n",
    "firing_rate_dict = {}\n",
    "correlation_dict = {}\n",
    "\n",
    "for date in date_order:\n",
    "    spike_inf_temp = spike_inf[spike_inf['date'] == date]\n",
    "    firing_rate_dict[date] = {}\n",
    "    trigger_time_temp = trigger_time[trigger_time['date'] == int(date)]\n",
    "    for image in trigger_time_temp['image'].unique():\n",
    "        firing_rate_dict[date][image] = pd.DataFrame()\n",
    "        trigger_time_temp_temp = trigger_time_temp[trigger_time_temp['image'] == image]\n",
    "        for image_order in trigger_time_temp_temp['order'].sort_index().values.tolist():\n",
    "            trigger_time_temp_temp_temp = trigger_time_temp_temp[trigger_time_temp_temp['order'] == image_order]\n",
    "            temp = spike_inf_temp[(spike_inf_temp['time'] > int(trigger_time_temp_temp_temp['start'].values)) & (spike_inf_temp['time'] < int(trigger_time_temp_temp_temp['end'].values))]\n",
    "            firing_rate_dict[date][image] = pd.concat((firing_rate_dict[date][image], pd.DataFrame(temp['Neuron'].value_counts()).sort_index()), axis=1)\n",
    "        firing_rate_dict[date][image] = firing_rate_dict[date][image].fillna(0)\n",
    "\n",
    "    correlation_dict[date] = {}\n",
    "    for key in sorted(list(firing_rate_dict[date].keys())):\n",
    "        num = firing_rate_dict[date][key].shape[1]\n",
    "        correlation_dict[date][key] = np.zeros((num, num))\n",
    "        for i in range(num):\n",
    "            for j in range(num):\n",
    "                correlation_dict[date][key][i, j], _ = pearsonr(firing_rate_dict[date][key].iloc[:, i].values.tolist(), firing_rate_dict[date][key].iloc[:, j].values.tolist())\n"
   ]
  },
  {
   "cell_type": "code",
   "execution_count": 53,
   "metadata": {},
   "outputs": [],
   "source": [
    "outlier = []\n",
    "for date in correlation_dict.keys():\n",
    "    for image in range(1, 13):\n",
    "        mean = (correlation_dict[date][image].sum(axis = 0)-1)/(len(correlation_dict[date][image]) - 1)\n",
    "        for i in range(len(mean)):\n",
    "            if mean[i] <= 0.6:\n",
    "                outlier.append(f'{date}_{image}_{i}')"
   ]
  },
  {
   "cell_type": "code",
   "execution_count": 54,
   "metadata": {},
   "outputs": [],
   "source": [
    "import pickle\n",
    "with open('outlier_dynamic.pkl', 'wb') as f:\n",
    "    pickle.dump(outlier, f)"
   ]
  },
  {
   "cell_type": "code",
   "execution_count": 44,
   "metadata": {},
   "outputs": [],
   "source": [
    "correlation_mean = pd.DataFrame()\n",
    "for date in correlation_dict.keys():\n",
    "    temp = []\n",
    "    for image, df in correlation_dict[date].items():\n",
    "        df = df.mean().mean()\n",
    "        temp.append(df)\n",
    "    correlation_mean = pd.concat((correlation_mean, pd.DataFrame(temp, columns=[date])),axis=1)\n",
    "\n",
    "correlation_mean = correlation_mean[date_order]"
   ]
  },
  {
   "cell_type": "code",
   "execution_count": 46,
   "metadata": {},
   "outputs": [],
   "source": [
    "with PdfPages(\"similarity_within_dates_dynamic.pdf\") as pdf:\n",
    "    mean = correlation_mean.mean(axis=0)\n",
    "    std = correlation_mean.std(axis=0)\n",
    "\n",
    "    plt.figure(figsize=(6, 3))\n",
    "    sns.lineplot(x = range(14),\n",
    "                 y = mean,\n",
    "                 color = 'black')\n",
    "    sns.scatterplot(x = range(14),\n",
    "                    y = mean,\n",
    "                    size=30,\n",
    "                    color = \"black\",\n",
    "                    legend=False)\n",
    "    plt.fill_between(x  = range(14), \n",
    "                     y1=mean - std,\n",
    "                     y2=mean + std,\n",
    "                     color = 'grey',\n",
    "                     alpha = 0.2)\n",
    "    plt.xticks([])\n",
    "    plt.ylim(0, 1)\n",
    "    plt.yticks([])\n",
    "    pdf.savefig()\n",
    "    plt.close()"
   ]
  },
  {
   "cell_type": "code",
   "execution_count": 51,
   "metadata": {},
   "outputs": [],
   "source": [
    "with PdfPages('PV_similarity_tight_dynamic.pdf') as pdf:\n",
    "    for date in date_order:\n",
    "        fig, axes = plt.subplots(3, 4, figsize=(12, 9))  \n",
    "        axes = axes.flatten()  \n",
    "        \n",
    "        for key in sorted(list(firing_rate_dict[date].keys())):\n",
    "            ax = axes[key-1]\n",
    "            sns.heatmap(correlation_dict[date][key], cmap=\"coolwarm\", vmax=1, vmin=0, ax=ax,cbar=False, xticklabels=False, yticklabels=False)\n",
    "            for spine in ax.spines.values():\n",
    "                spine.set_visible(True)\n",
    "                spine.set_linewidth(0.25)  \n",
    "                spine.set_color('black')\n",
    "\n",
    "        fig.suptitle(date, fontsize=30)\n",
    "        fig.subplots_adjust(wspace=0, hspace=0)\n",
    "\n",
    "        pdf.savefig(fig)\n",
    "        plt.close(fig)"
   ]
  },
  {
   "cell_type": "markdown",
   "metadata": {},
   "source": [
    "- between dates:"
   ]
  },
  {
   "cell_type": "code",
   "execution_count": 59,
   "metadata": {},
   "outputs": [],
   "source": [
    "firing_rate_date = {}\n",
    "for i in range(1, 13):\n",
    "    firing_rate_date[i] = pd.DataFrame()\n",
    "    for date in date_order:\n",
    "        temp = firing_rate_dict[date][i].loc[select_neurons, :].mean(axis = 1)\n",
    "        firing_rate_date[i] = pd.concat((firing_rate_date[i], temp), axis=1)"
   ]
  },
  {
   "cell_type": "code",
   "execution_count": 61,
   "metadata": {},
   "outputs": [],
   "source": [
    "correlation_date = {}\n",
    "for key in range(1, 13):\n",
    "    num = 14\n",
    "    correlation_date[key] = np.zeros((14, 14))\n",
    "    for i in range(14):\n",
    "        for j in range(14):\n",
    "            correlation_date[key][i, j], _ = pearsonr(firing_rate_date[key].iloc[:, i].values.tolist(), firing_rate_date[key].iloc[:, j].values.tolist())"
   ]
  },
  {
   "cell_type": "code",
   "execution_count": 62,
   "metadata": {},
   "outputs": [],
   "source": [
    "with PdfPages('PV_similarity_date_dynamics.pdf') as pdf:\n",
    "    fig, axes = plt.subplots(3, 4, figsize=(12, 9))  \n",
    "    axes = axes.flatten()  \n",
    "    \n",
    "    for key in range(1, 13):\n",
    "        ax = axes[key-1]\n",
    "        sns.heatmap(correlation_date[key], cmap=\"coolwarm\", vmax=1, vmin=0, ax=ax,cbar=False, xticklabels=False, yticklabels=False)\n",
    "        for spine in ax.spines.values():\n",
    "            spine.set_visible(True)\n",
    "            spine.set_linewidth(0.25)  \n",
    "            spine.set_color('black')\n",
    "    fig.subplots_adjust(wspace=0, hspace=0)\n",
    "\n",
    "    pdf.savefig(fig)\n",
    "    plt.close(fig)"
   ]
  },
  {
   "cell_type": "code",
   "execution_count": 63,
   "metadata": {},
   "outputs": [],
   "source": [
    "correlation_df = pd.DataFrame()\n",
    "for i in range(1, 13):\n",
    "    correlation_df = pd.concat((correlation_df, pd.DataFrame(correlation_date[i].mean(axis = 0))), axis=1)\n",
    "\n",
    "correlation_df = correlation_df.T"
   ]
  },
  {
   "cell_type": "code",
   "execution_count": 64,
   "metadata": {},
   "outputs": [],
   "source": [
    "mean = correlation_df.mean(axis= 0)\n",
    "std = correlation_df.std(axis=0)\n"
   ]
  },
  {
   "cell_type": "code",
   "execution_count": 86,
   "metadata": {},
   "outputs": [
    {
     "data": {
      "image/png": "[encoded data removed]",
      "text/plain": [
       "<Figure size 400x200 with 1 Axes>"
      ]
     },
     "metadata": {},
     "output_type": "display_data"
    }
   ],
   "source": [
    "with PdfPages('correlation_date_dynamic.pdf') as pdf:\n",
    "    plt.figure(figsize=(4, 2))\n",
    "    sns.lineplot(x = range(14),\n",
    "                y = mean,\n",
    "                color = '#1E90FF')\n",
    "    plt.fill_between(x = range(14), y1 = mean - std, y2 = mean + std, color='gray', alpha=0.5)\n",
    "    plt.ylim(0, 1)\n",
    "    plt.xticks([])\n",
    "    plt.ylabel(\"Correlation\")\n",
    "    pdf.savefig()\n",
    "    plt.show()"
   ]
  },
  {
   "cell_type": "code",
   "execution_count": 84,
   "metadata": {},
   "outputs": [],
   "source": [
    "rainbow_colors = [\n",
    "    \"#CC3333\", \"#CC4D1A\", \"#CC6600\", \"#CC8000\", \"#CC9900\",\n",
    "    \"#B39900\", \"#999933\", \"#80994D\", \"#669966\", \"#4D9966\",\n",
    "    \"#339966\", \"#009966\", \"#00997F\", \"#009999\", \"#008099\",\n",
    "    \"#006699\", \"#004D99\", \"#1A3399\", \"#4D1A99\", \"#800099\",\n",
    "    \"#9900CC\"\n",
    "]"
   ]
  },
  {
   "cell_type": "code",
   "execution_count": 85,
   "metadata": {},
   "outputs": [],
   "source": [
    "with PdfPages('cluster_view_sep.pdf') as pdf:\n",
    "    num = 0\n",
    "    for neuron in select_neurons:\n",
    "        temp = cluster_inf[cluster_inf['Neuron'] == neuron]\n",
    "        waveform_mean_temp = waveform_mean.loc[:, temp['cluster_date'].tolist()]\n",
    "\n",
    "        \n",
    "\n",
    "        fig, ax = plt.subplots(figsize=(6, 4))\n",
    "        for i in range(waveform_mean_temp.shape[1]):\n",
    "            offset = 15\n",
    "            sns.lineplot(x = range(61),\n",
    "                        y = waveform_mean_temp.iloc[:, i] - offset * i,\n",
    "                        color=color_gradient[num],\n",
    "                        alpha = 0.4 + 0.02 * i,\n",
    "                        ax=ax)\n",
    "            \n",
    "        num += 1\n",
    "        ax.set_ylabel(\"Amplitude\")\n",
    "        ax.set_xticks([])\n",
    "        ax.set_title(neuron)\n",
    "        pdf.savefig(fig)\n",
    "        plt.close(fig)"
   ]
  },
  {
   "cell_type": "markdown",
   "metadata": {},
   "source": [
    "- Static\n"
   ]
  },
  {
   "cell_type": "code",
   "execution_count": 87,
   "metadata": {},
   "outputs": [],
   "source": [
    "trigger_time = pd.read_csv(\"/media/ubuntu/sda/data/mouse6/output_grating/01_get_trigger/trigger_time_static.tsv\", sep = '\\t').iloc[:, 1:]"
   ]
  },
  {
   "cell_type": "code",
   "execution_count": 88,
   "metadata": {},
   "outputs": [],
   "source": [
    "from scipy.stats import  pearsonr\n",
    "firing_rate_dict = {}\n",
    "correlation_dict = {}\n",
    "\n",
    "for date in date_order:\n",
    "    spike_inf_temp = spike_inf[spike_inf['date'] == date]\n",
    "    firing_rate_dict[date] = {}\n",
    "    trigger_time_temp = trigger_time[trigger_time['date'] == int(date)]\n",
    "    for image in trigger_time_temp['image'].unique():\n",
    "        firing_rate_dict[date][image] = pd.DataFrame()\n",
    "        trigger_time_temp_temp = trigger_time_temp[trigger_time_temp['image'] == image]\n",
    "        for image_order in trigger_time_temp_temp['order'].sort_index().values.tolist():\n",
    "            trigger_time_temp_temp_temp = trigger_time_temp_temp[trigger_time_temp_temp['order'] == image_order]\n",
    "            temp = spike_inf_temp[(spike_inf_temp['time'] > int(trigger_time_temp_temp_temp['start'].values)) & (spike_inf_temp['time'] < int(trigger_time_temp_temp_temp['end'].values))]\n",
    "            firing_rate_dict[date][image] = pd.concat((firing_rate_dict[date][image], pd.DataFrame(temp['Neuron'].value_counts()).sort_index()), axis=1)\n",
    "        firing_rate_dict[date][image] = firing_rate_dict[date][image].fillna(0)\n",
    "\n",
    "    correlation_dict[date] = {}\n",
    "    for key in sorted(list(firing_rate_dict[date].keys())):\n",
    "        num = firing_rate_dict[date][key].shape[1]\n",
    "        correlation_dict[date][key] = np.zeros((num, num))\n",
    "        for i in range(num):\n",
    "            for j in range(num):\n",
    "                correlation_dict[date][key][i, j], _ = pearsonr(firing_rate_dict[date][key].iloc[:, i].values.tolist(), firing_rate_dict[date][key].iloc[:, j].values.tolist())\n"
   ]
  },
  {
   "cell_type": "code",
   "execution_count": 89,
   "metadata": {},
   "outputs": [],
   "source": [
    "outlier = []\n",
    "for date in correlation_dict.keys():\n",
    "    for image in range(1, 13):\n",
    "        mean = (correlation_dict[date][image].sum(axis = 0)-1)/(len(correlation_dict[date][image]) - 1)\n",
    "        for i in range(len(mean)):\n",
    "            if mean[i] <= 0.6:\n",
    "                outlier.append(f'{date}_{image}_{i}')"
   ]
  },
  {
   "cell_type": "code",
   "execution_count": 90,
   "metadata": {},
   "outputs": [],
   "source": [
    "import pickle\n",
    "with open('outlier_static.pkl', 'wb') as f:\n",
    "    pickle.dump(outlier, f)"
   ]
  },
  {
   "cell_type": "code",
   "execution_count": 91,
   "metadata": {},
   "outputs": [],
   "source": [
    "correlation_mean = pd.DataFrame()\n",
    "for date in correlation_dict.keys():\n",
    "    temp = []\n",
    "    for image, df in correlation_dict[date].items():\n",
    "        df = df.mean().mean()\n",
    "        temp.append(df)\n",
    "    correlation_mean = pd.concat((correlation_mean, pd.DataFrame(temp, columns=[date])),axis=1)\n",
    "\n",
    "correlation_mean = correlation_mean[date_order]"
   ]
  },
  {
   "cell_type": "code",
   "execution_count": 92,
   "metadata": {},
   "outputs": [],
   "source": [
    "with PdfPages(\"similarity_within_dates_static.pdf\") as pdf:\n",
    "    mean = correlation_mean.mean(axis=0)\n",
    "    std = correlation_mean.std(axis=0)\n",
    "\n",
    "    plt.figure(figsize=(6, 3))\n",
    "    sns.lineplot(x = range(14),\n",
    "                 y = mean,\n",
    "                 color = 'black')\n",
    "    sns.scatterplot(x = range(14),\n",
    "                    y = mean,\n",
    "                    size=30,\n",
    "                    color = \"black\",\n",
    "                    legend=False)\n",
    "    plt.fill_between(x  = range(14), \n",
    "                     y1=mean - std,\n",
    "                     y2=mean + std,\n",
    "                     color = 'grey',\n",
    "                     alpha = 0.2)\n",
    "    plt.xticks([])\n",
    "    plt.ylim(0, 1)\n",
    "    plt.yticks([])\n",
    "    pdf.savefig()\n",
    "    plt.close()"
   ]
  },
  {
   "cell_type": "code",
   "execution_count": 95,
   "metadata": {},
   "outputs": [],
   "source": [
    "with PdfPages('PV_similarity_tight_static.pdf') as pdf:\n",
    "    for date in date_order:\n",
    "        fig, axes = plt.subplots(3, 6, figsize=(18, 9))  \n",
    "        axes = axes.flatten()  \n",
    "        \n",
    "        for key in sorted(list(firing_rate_dict[date].keys())):\n",
    "            ax = axes[key-1]\n",
    "            sns.heatmap(correlation_dict[date][key], cmap=\"coolwarm\", vmax=1, vmin=0, ax=ax,cbar=False, xticklabels=False, yticklabels=False)\n",
    "            for spine in ax.spines.values():\n",
    "                spine.set_visible(True)\n",
    "                spine.set_linewidth(0.25)  \n",
    "                spine.set_color('black')\n",
    "\n",
    "        fig.suptitle(date, fontsize=30)\n",
    "        fig.subplots_adjust(wspace=0, hspace=0)\n",
    "\n",
    "        pdf.savefig(fig)\n",
    "        plt.close(fig)"
   ]
  },
  {
   "cell_type": "code",
   "execution_count": 99,
   "metadata": {},
   "outputs": [],
   "source": [
    "firing_rate_date = {}\n",
    "for i in range(1, 19):\n",
    "    firing_rate_date[i] = pd.DataFrame()\n",
    "    for date in date_order:\n",
    "        temp = firing_rate_dict[date][i].loc[select_neurons, :].mean(axis = 1)\n",
    "        firing_rate_date[i] = pd.concat((firing_rate_date[i], temp), axis=1)"
   ]
  },
  {
   "cell_type": "code",
   "execution_count": 100,
   "metadata": {},
   "outputs": [],
   "source": [
    "correlation_date = {}\n",
    "for key in range(1, 19):\n",
    "    num = 14\n",
    "    correlation_date[key] = np.zeros((14, 14))\n",
    "    for i in range(14):\n",
    "        for j in range(14):\n",
    "            correlation_date[key][i, j], _ = pearsonr(firing_rate_date[key].iloc[:, i].values.tolist(), firing_rate_date[key].iloc[:, j].values.tolist())"
   ]
  },
  {
   "cell_type": "code",
   "execution_count": 101,
   "metadata": {},
   "outputs": [],
   "source": [
    "with PdfPages('PV_similarity_date_static.pdf') as pdf:\n",
    "    fig, axes = plt.subplots(3, 6, figsize=(18, 9))  \n",
    "    axes = axes.flatten()  \n",
    "    \n",
    "    for key in range(1, 19):\n",
    "        ax = axes[key-1]\n",
    "        sns.heatmap(correlation_date[key], cmap=\"coolwarm\", vmax=1, vmin=0, ax=ax,cbar=False, xticklabels=False, yticklabels=False)\n",
    "        for spine in ax.spines.values():\n",
    "            spine.set_visible(True)\n",
    "            spine.set_linewidth(0.25)  \n",
    "            spine.set_color('black')\n",
    "    fig.subplots_adjust(wspace=0, hspace=0)\n",
    "\n",
    "    pdf.savefig(fig)\n",
    "    plt.close(fig)"
   ]
  },
  {
   "cell_type": "code",
   "execution_count": 102,
   "metadata": {},
   "outputs": [],
   "source": [
    "correlation_df = pd.DataFrame()\n",
    "for i in range(1, 19):\n",
    "    correlation_df = pd.concat((correlation_df, pd.DataFrame(correlation_date[i].mean(axis = 0))), axis=1)\n",
    "\n",
    "correlation_df = correlation_df.T\n",
    "mean = correlation_df.mean(axis= 0)\n",
    "std = correlation_df.std(axis=0)"
   ]
  },
  {
   "cell_type": "code",
   "execution_count": 103,
   "metadata": {},
   "outputs": [
    {
     "data": {
      "image/png": "[encoded data removed]",
      "text/plain": [
       "<Figure size 400x200 with 1 Axes>"
      ]
     },
     "metadata": {},
     "output_type": "display_data"
    }
   ],
   "source": [
    "with PdfPages('correlation_date_static.pdf') as pdf:\n",
    "    plt.figure(figsize=(4, 2))\n",
    "    sns.lineplot(x = range(14),\n",
    "                y = mean,\n",
    "                color = '#1E90FF')\n",
    "    plt.fill_between(x = range(14), y1 = mean - std, y2 = mean + std, color='gray', alpha=0.5)\n",
    "    plt.ylim(0, 1)\n",
    "    plt.xticks([])\n",
    "    plt.ylabel(\"Correlation\")\n",
    "    pdf.savefig()\n",
    "    plt.show()"
   ]
  }
 ],
 "metadata": {
  "kernelspec": {
   "display_name": "Python 3",
   "language": "python",
   "name": "python3"
  },
  "language_info": {
   "codemirror_mode": {
    "name": "ipython",
    "version": 3
   },
   "file_extension": ".py",
   "mimetype": "text/x-python",
   "name": "python",
   "nbconvert_exporter": "python",
   "pygments_lexer": "ipython3",
   "version": "3.10.0"
  }
 },
 "nbformat": 4,
 "nbformat_minor": 2
}
