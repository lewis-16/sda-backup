{
 "cells": [
  {
   "cell_type": "code",
   "execution_count": null,
   "metadata": {},
   "outputs": [],
   "source": [
    "import numpy as np\n",
    "import pandas as pd\n",
    "import seaborn as sns\n",
    "import warnings\n",
    "warnings.filterwarnings('ignore')\n",
    "import spikeinterface as si\n",
    "import matplotlib.pyplot as plt\n",
    "import os\n",
    "from matplotlib.backends.backend_pdf import PdfPages"
   ]
  },
  {
   "cell_type": "code",
   "execution_count": 2,
   "metadata": {},
   "outputs": [],
   "source": [
    "used_neurons = ['Neuron_1', 'Neuron_2', 'Neuron_3', \"Neuron_4\",\n",
    "                  'Neuron_7', 'Neuron_9', 'Neuron_11', 'Neuron_14',\n",
    "                  'Neuron_15', 'Neuron_16', \"Neuron_17\", \"Neuron_18\",\n",
    "                  \"Neuron_19\", \"Neuron_20\", 'Neuron_22', 'Neuron_23',\n",
    "                  \"Neuron_24\", \"Neuron_25\"]\n",
    "\n",
    "spike_inf = pd.read_csv(\"/media/ubuntu/sda/data/mouse6/output/02_merge_new/spike_inf_refine.tsv\", sep = '\\t')\n",
    "cluster_inf = pd.read_csv(\"/media/ubuntu/sda/data/mouse6/output/02_merge_new/cluster_inf_refine.tsv\", sep = '\\t')"
   ]
  },
  {
   "cell_type": "code",
   "execution_count": 2,
   "metadata": {},
   "outputs": [],
   "source": [
    "trigger_time = pd.read_csv(\"/media/ubuntu/sda/data/mouse6/output/01_get_trigger/trigger_time.tsv\", sep = '\\t').iloc[:, 1:]\n",
    "\n",
    "import pickle\n",
    "with open('/media/ubuntu/sda/data/mouse6/output/02_merge_new/outlier.pkl', 'rb') as f:\n",
    "    outlier = pickle.load(f)\n"
   ]
  },
  {
   "cell_type": "code",
   "execution_count": 4,
   "metadata": {},
   "outputs": [],
   "source": [
    "trigger_time = trigger_time[trigger_time['date'] == 21322]"
   ]
  },
  {
   "cell_type": "code",
   "execution_count": 5,
   "metadata": {},
   "outputs": [
    {
     "data": {
      "application/vnd.microsoft.datawrangler.viewer.v0+json": {
       "columns": [
        {
         "name": "index",
         "rawType": "int64",
         "type": "integer"
        },
        {
         "name": "start",
         "rawType": "int64",
         "type": "integer"
        },
        {
         "name": "end",
         "rawType": "int64",
         "type": "integer"
        },
        {
         "name": "date",
         "rawType": "int64",
         "type": "integer"
        },
        {
         "name": "image",
         "rawType": "int64",
         "type": "integer"
        },
        {
         "name": "order",
         "rawType": "object",
         "type": "string"
        }
       ],
       "ref": "b603b3cf-47bb-4d62-bcbc-f2875ef93fba",
       "rows": [
        [
         "11700",
         "130424",
         "135424",
         "21322",
         "30",
         "30_1"
        ],
        [
         "11701",
         "150380",
         "155380",
         "21322",
         "114",
         "114_1"
        ],
        [
         "11702",
         "170368",
         "175368",
         "21322",
         "108",
         "108_1"
        ],
        [
         "11703",
         "190341",
         "195341",
         "21322",
         "6",
         "6_1"
        ],
        [
         "11704",
         "210325",
         "215325",
         "21322",
         "59",
         "59_1"
        ],
        [
         "11705",
         "230275",
         "235275",
         "21322",
         "103",
         "103_1"
        ],
        [
         "11706",
         "250243",
         "255243",
         "21322",
         "51",
         "51_1"
        ],
        [
         "11707",
         "270189",
         "275189",
         "21322",
         "8",
         "8_1"
        ],
        [
         "11708",
         "290183",
         "295183",
         "21322",
         "80",
         "80_1"
        ],
        [
         "11709",
         "310147",
         "315147",
         "21322",
         "86",
         "86_1"
        ],
        [
         "11710",
         "330123",
         "335123",
         "21322",
         "84",
         "84_1"
        ],
        [
         "11711",
         "350079",
         "355079",
         "21322",
         "21",
         "21_1"
        ],
        [
         "11712",
         "370046",
         "375046",
         "21322",
         "1",
         "1_1"
        ],
        [
         "11713",
         "390004",
         "395004",
         "21322",
         "31",
         "31_1"
        ],
        [
         "11714",
         "409970",
         "414970",
         "21322",
         "49",
         "49_1"
        ],
        [
         "11715",
         "429950",
         "434950",
         "21322",
         "72",
         "72_1"
        ],
        [
         "11716",
         "449920",
         "454920",
         "21322",
         "101",
         "101_1"
        ],
        [
         "11717",
         "469887",
         "474887",
         "21322",
         "93",
         "93_1"
        ],
        [
         "11718",
         "489867",
         "494867",
         "21322",
         "98",
         "98_1"
        ],
        [
         "11719",
         "509827",
         "514827",
         "21322",
         "23",
         "23_1"
        ],
        [
         "11720",
         "529784",
         "534784",
         "21322",
         "76",
         "76_1"
        ],
        [
         "11721",
         "549782",
         "554782",
         "21322",
         "40",
         "40_1"
        ],
        [
         "11722",
         "569725",
         "574725",
         "21322",
         "104",
         "104_1"
        ],
        [
         "11723",
         "589726",
         "594726",
         "21322",
         "55",
         "55_1"
        ],
        [
         "11724",
         "609670",
         "614670",
         "21322",
         "3",
         "3_1"
        ],
        [
         "11725",
         "629659",
         "634659",
         "21322",
         "13",
         "13_1"
        ],
        [
         "11726",
         "649622",
         "654622",
         "21322",
         "69",
         "69_1"
        ],
        [
         "11727",
         "669571",
         "674571",
         "21322",
         "68",
         "68_1"
        ],
        [
         "11728",
         "689552",
         "694552",
         "21322",
         "2",
         "2_1"
        ],
        [
         "11729",
         "709510",
         "714510",
         "21322",
         "38",
         "38_1"
        ],
        [
         "11730",
         "729481",
         "734481",
         "21322",
         "112",
         "112_1"
        ],
        [
         "11731",
         "749478",
         "754478",
         "21322",
         "65",
         "65_1"
        ],
        [
         "11732",
         "769422",
         "774422",
         "21322",
         "116",
         "116_1"
        ],
        [
         "11733",
         "789390",
         "794390",
         "21322",
         "117",
         "117_1"
        ],
        [
         "11734",
         "809356",
         "814356",
         "21322",
         "19",
         "19_1"
        ],
        [
         "11735",
         "829323",
         "834323",
         "21322",
         "58",
         "58_1"
        ],
        [
         "11736",
         "849285",
         "854285",
         "21322",
         "107",
         "107_1"
        ],
        [
         "11737",
         "869287",
         "874287",
         "21322",
         "44",
         "44_1"
        ],
        [
         "11738",
         "889270",
         "894270",
         "21322",
         "43",
         "43_1"
        ],
        [
         "11739",
         "909200",
         "914200",
         "21322",
         "71",
         "71_1"
        ],
        [
         "11740",
         "929151",
         "934151",
         "21322",
         "18",
         "18_1"
        ],
        [
         "11741",
         "949122",
         "954122",
         "21322",
         "37",
         "37_1"
        ],
        [
         "11742",
         "969120",
         "974120",
         "21322",
         "22",
         "22_1"
        ],
        [
         "11743",
         "989102",
         "994102",
         "21322",
         "9",
         "9_1"
        ],
        [
         "11744",
         "1009048",
         "1014048",
         "21322",
         "102",
         "102_1"
        ],
        [
         "11745",
         "1029019",
         "1034019",
         "21322",
         "110",
         "110_1"
        ],
        [
         "11746",
         "1049006",
         "1054006",
         "21322",
         "94",
         "94_1"
        ],
        [
         "11747",
         "1068940",
         "1073940",
         "21322",
         "78",
         "78_1"
        ],
        [
         "11748",
         "1088911",
         "1093911",
         "21322",
         "96",
         "96_1"
        ],
        [
         "11749",
         "1108883",
         "1113883",
         "21322",
         "83",
         "83_1"
        ]
       ],
       "shape": {
        "columns": 5,
        "rows": 1755
       }
      },
      "text/html": [
       "<div>\n",
       "<style scoped>\n",
       "    .dataframe tbody tr th:only-of-type {\n",
       "        vertical-align: middle;\n",
       "    }\n",
       "\n",
       "    .dataframe tbody tr th {\n",
       "        vertical-align: top;\n",
       "    }\n",
       "\n",
       "    .dataframe thead th {\n",
       "        text-align: right;\n",
       "    }\n",
       "</style>\n",
       "<table border=\"1\" class=\"dataframe\">\n",
       "  <thead>\n",
       "    <tr style=\"text-align: right;\">\n",
       "      <th></th>\n",
       "      <th>start</th>\n",
       "      <th>end</th>\n",
       "      <th>date</th>\n",
       "      <th>image</th>\n",
       "      <th>order</th>\n",
       "    </tr>\n",
       "  </thead>\n",
       "  <tbody>\n",
       "    <tr>\n",
       "      <th>11700</th>\n",
       "      <td>130424</td>\n",
       "      <td>135424</td>\n",
       "      <td>21322</td>\n",
       "      <td>30</td>\n",
       "      <td>30_1</td>\n",
       "    </tr>\n",
       "    <tr>\n",
       "      <th>11701</th>\n",
       "      <td>150380</td>\n",
       "      <td>155380</td>\n",
       "      <td>21322</td>\n",
       "      <td>114</td>\n",
       "      <td>114_1</td>\n",
       "    </tr>\n",
       "    <tr>\n",
       "      <th>11702</th>\n",
       "      <td>170368</td>\n",
       "      <td>175368</td>\n",
       "      <td>21322</td>\n",
       "      <td>108</td>\n",
       "      <td>108_1</td>\n",
       "    </tr>\n",
       "    <tr>\n",
       "      <th>11703</th>\n",
       "      <td>190341</td>\n",
       "      <td>195341</td>\n",
       "      <td>21322</td>\n",
       "      <td>6</td>\n",
       "      <td>6_1</td>\n",
       "    </tr>\n",
       "    <tr>\n",
       "      <th>11704</th>\n",
       "      <td>210325</td>\n",
       "      <td>215325</td>\n",
       "      <td>21322</td>\n",
       "      <td>59</td>\n",
       "      <td>59_1</td>\n",
       "    </tr>\n",
       "    <tr>\n",
       "      <th>...</th>\n",
       "      <td>...</td>\n",
       "      <td>...</td>\n",
       "      <td>...</td>\n",
       "      <td>...</td>\n",
       "      <td>...</td>\n",
       "    </tr>\n",
       "    <tr>\n",
       "      <th>13450</th>\n",
       "      <td>36335171</td>\n",
       "      <td>36340171</td>\n",
       "      <td>21322</td>\n",
       "      <td>45</td>\n",
       "      <td>45_15</td>\n",
       "    </tr>\n",
       "    <tr>\n",
       "      <th>13451</th>\n",
       "      <td>36355116</td>\n",
       "      <td>36360116</td>\n",
       "      <td>21322</td>\n",
       "      <td>104</td>\n",
       "      <td>104_15</td>\n",
       "    </tr>\n",
       "    <tr>\n",
       "      <th>13452</th>\n",
       "      <td>36375096</td>\n",
       "      <td>36380096</td>\n",
       "      <td>21322</td>\n",
       "      <td>10</td>\n",
       "      <td>10_15</td>\n",
       "    </tr>\n",
       "    <tr>\n",
       "      <th>13453</th>\n",
       "      <td>36395080</td>\n",
       "      <td>36400080</td>\n",
       "      <td>21322</td>\n",
       "      <td>33</td>\n",
       "      <td>33_15</td>\n",
       "    </tr>\n",
       "    <tr>\n",
       "      <th>13454</th>\n",
       "      <td>36415058</td>\n",
       "      <td>36420058</td>\n",
       "      <td>21322</td>\n",
       "      <td>28</td>\n",
       "      <td>28_15</td>\n",
       "    </tr>\n",
       "  </tbody>\n",
       "</table>\n",
       "<p>1755 rows × 5 columns</p>\n",
       "</div>"
      ],
      "text/plain": [
       "          start       end   date  image   order\n",
       "11700    130424    135424  21322     30    30_1\n",
       "11701    150380    155380  21322    114   114_1\n",
       "11702    170368    175368  21322    108   108_1\n",
       "11703    190341    195341  21322      6     6_1\n",
       "11704    210325    215325  21322     59    59_1\n",
       "...         ...       ...    ...    ...     ...\n",
       "13450  36335171  36340171  21322     45   45_15\n",
       "13451  36355116  36360116  21322    104  104_15\n",
       "13452  36375096  36380096  21322     10   10_15\n",
       "13453  36395080  36400080  21322     33   33_15\n",
       "13454  36415058  36420058  21322     28   28_15\n",
       "\n",
       "[1755 rows x 5 columns]"
      ]
     },
     "execution_count": 5,
     "metadata": {},
     "output_type": "execute_result"
    }
   ],
   "source": [
    "trigger_time"
   ]
  },
  {
   "cell_type": "code",
   "execution_count": 5,
   "metadata": {},
   "outputs": [],
   "source": [
    "for i in outlier:\n",
    "    date = i.split(\"_\")[0]\n",
    "    image = i.split(\"_\")[1] + \"_\" + i.split(\"_\")[2]\n",
    "    trigger_time = trigger_time[~((trigger_time['date'] == int(date)) & (trigger_time['order'] == image))]"
   ]
  },
  {
   "cell_type": "code",
   "execution_count": 6,
   "metadata": {},
   "outputs": [],
   "source": [
    "# expand time to -0.5s - 1.5s\n",
    "trigger_time['expand_start'] = trigger_time['start'] - 5000\n",
    "trigger_time['expand_end'] = trigger_time['end'] + 10000\n"
   ]
  },
  {
   "cell_type": "code",
   "execution_count": 7,
   "metadata": {},
   "outputs": [],
   "source": [
    "date_order = ['021322', '022522', '031722', '042422', \n",
    "              '052422', '062422', '072322', '082322', \n",
    "              '092422', '102122', '112022', '122022', \n",
    "              '012123', '022223', '032123', '042323']"
   ]
  },
  {
   "cell_type": "code",
   "execution_count": null,
   "metadata": {},
   "outputs": [],
   "source": [
    "with PdfPages(\"raster_overall.pdf\") as pdf:\n",
    "    for neuron in spike_inf['Neuron'].unique():\n",
    "        neuron_df = spike_inf[spike_inf['Neuron'] == neuron]\n",
    "\n",
    "        fig, ax = plt.subplots(figsize = (12, 7.5))\n",
    "\n",
    "        for index, row in trigger_time.iterrows():\n",
    "            date = row['date']\n",
    "            image_order = row['order']\n",
    "            start = row['expand_start'] + 2500\n",
    "            end = row['end'] -2500\n",
    "            \n",
    "            filtered_spikes = neuron_df[(neuron_df['date'] == date) & \n",
    "                                        (neuron_df['time'] >= start) & \n",
    "                                        (neuron_df['time'] <= end)]\n",
    "            \n",
    "            if not filtered_spikes.empty:\n",
    "                ax.plot(filtered_spikes['time'] - start, [index] * len(filtered_spikes), marker='|', mew=1, markersize=3, ls='', color='k')\n",
    "\n",
    "        ax.set_yticks([])\n",
    "        #ax.axvspan(1 + (5000 - 1) * 0.5, 1 + (5000 - 1), color='gray', alpha=0.3)\n",
    "\n",
    "        ax.set_xlabel('time (s)')\n",
    "        ax.set_ylabel(\"\")\n",
    "        ax.set_title(f'Raster Plot for {neuron}')\n",
    "\n",
    "        pdf.savefig(fig)\n",
    "        plt.close()"
   ]
  },
  {
   "cell_type": "code",
   "execution_count": null,
   "metadata": {},
   "outputs": [],
   "source": [
    "with PdfPages(\"peth_lineplot_overall.pdf\") as pdf:\n",
    "    for neuron in spike_inf['Neuron'].unique():\n",
    "        fig, ax = plt.subplots(figsize=(10, 6))\n",
    "\n",
    "        dates = trigger_time['date'].unique()\n",
    "        date_indices = np.arange(len(dates))  \n",
    "\n",
    "        spike_rates = []\n",
    "        std_rates = []\n",
    "\n",
    "        for date in dates:\n",
    "            trigger_time_temp = trigger_time[trigger_time['date'] == date]\n",
    "            all_spikes = []\n",
    "\n",
    "            for index, row in trigger_time_temp.iterrows():\n",
    "                start = row['expand_start'] + 2500\n",
    "                end = row['end'] -2500\n",
    "\n",
    "                filtered_spikes = spike_inf[(spike_inf['Neuron'] == neuron) &\n",
    "                                            (spike_inf['date'] == date) &\n",
    "                                            (spike_inf['time'] >= start) &\n",
    "                                            (spike_inf['time'] <= end)]\n",
    "\n",
    "                if not filtered_spikes.empty:\n",
    "                    relative_spikes = filtered_spikes['time'] - start\n",
    "                    all_spikes.extend(relative_spikes)\n",
    "\n",
    "            if all_spikes:\n",
    "                time_bins = np.linspace(0, max(all_spikes), 100)\n",
    "                spike_counts, _ = np.histogram(all_spikes, bins=time_bins)\n",
    "                spike_rate = spike_counts / (time_bins[1] - time_bins[0])\n",
    "                spike_rates.append(spike_rate)\n",
    "\n",
    "        if spike_rates:\n",
    "            mean_spike_rate = np.mean(spike_rates, axis=0)\n",
    "            std_spike_rate = np.std(spike_rates, axis=0)\n",
    "\n",
    "            ax.plot(time_bins[:-1], mean_spike_rate, color='k', linewidth=2, label='Mean Spike Rate')\n",
    "            ax.fill_between(time_bins[:-1], mean_spike_rate - std_spike_rate, mean_spike_rate + std_spike_rate, color='lightgray', alpha=0.5, label='Std Deviation')\n",
    "\n",
    "            ax.set_title(f\"Neuron {neuron} - Overall Mean PSTH\", fontsize=14)\n",
    "            ax.set_xlabel('Time (s)', fontsize=12)\n",
    "            ax.set_ylabel('Spike Rate (Hz)', fontsize=12)\n",
    "            ax.legend()\n",
    "\n",
    "        pdf.savefig(fig)\n",
    "        plt.close()"
   ]
  },
  {
   "cell_type": "code",
   "execution_count": 9,
   "metadata": {},
   "outputs": [],
   "source": [
    "with PdfPages(\"raster_split_image.pdf\") as pdf:\n",
    "    for neuron in spike_inf['Neuron'].unique():\n",
    "        neuron_df = spike_inf[spike_inf['Neuron'] == neuron]\n",
    "\n",
    "\n",
    "        fig, axs = plt.subplots(9, 13, figsize=(25, 15), sharex=True, sharey=True)\n",
    "        fig.subplots_adjust(hspace=0.5, wspace=0.5)\n",
    "\n",
    "        for image in range(1, 118):  \n",
    "            ax = axs[(image - 1) // 13, (image - 1) % 13]  \n",
    "            trigger_time_temp = trigger_time[trigger_time['image'] == image]\n",
    "\n",
    "            for index, row in trigger_time_temp.iterrows():\n",
    "                date = row['date']\n",
    "                image_order = row['order']\n",
    "                start = row['expand_start'] + 2500\n",
    "                end = row['end'] - 2500\n",
    "\n",
    "                filtered_spikes = neuron_df[(neuron_df['date'] == date) & \n",
    "                                            (neuron_df['time'] >= start) & \n",
    "                                            (neuron_df['time'] <= end)]\n",
    "\n",
    "                if not filtered_spikes.empty:\n",
    "                    ax.plot(filtered_spikes['time'] - start, [index] * len(filtered_spikes), \n",
    "                            marker='|', mew=1, markersize=3, ls='', color='k')\n",
    "\n",
    "\n",
    "            ax.set_xticks([])\n",
    "            ax.set_yticks([])\n",
    "\n",
    "        pdf.savefig(fig)\n",
    "        plt.close()"
   ]
  },
  {
   "cell_type": "code",
   "execution_count": 17,
   "metadata": {},
   "outputs": [],
   "source": [
    "mean_spike_rate_dict = {}\n",
    "\n",
    "with PdfPages(\"peth_lineplot.pdf\") as pdf:\n",
    "    for image in range(1, 118):\n",
    "        fig, axes = plt.subplots(4, 5, figsize=(15, 9))\n",
    "        axes = axes.flatten()\n",
    "        num = 0\n",
    "        image_mean_spike_rate_data = []\n",
    "        for neuron in spike_inf['Neuron'].unique():\n",
    "            ax = axes[num]\n",
    "            neuron_df = spike_inf[spike_inf['Neuron'] == neuron]\n",
    "\n",
    "            dates = trigger_time[trigger_time['image'] == image]['date'].unique()\n",
    "            date_indices = np.arange(len(dates))  \n",
    "\n",
    "            spike_rates = []\n",
    "            std_rates = []\n",
    "\n",
    "            for date in dates:\n",
    "                trigger_time_temp = trigger_time[(trigger_time['image'] == image) & (trigger_time['date'] == date)]\n",
    "                all_spikes = []\n",
    "\n",
    "                for index, row in trigger_time_temp.iterrows():\n",
    "                    start = row['expand_start']\n",
    "                    end = row['expand_end']\n",
    "\n",
    "                    filtered_spikes = neuron_df[(neuron_df['date'] == date) &\n",
    "                                                (neuron_df['time'] >= start) &\n",
    "                                                (neuron_df['time'] <= end)]\n",
    "\n",
    "                    if not filtered_spikes.empty:\n",
    "                        relative_spikes = filtered_spikes['time'] - start\n",
    "                        all_spikes.extend(relative_spikes)\n",
    "\n",
    "                if all_spikes:\n",
    "                    time_bins = np.linspace(0, max(all_spikes), 100)\n",
    "                    spike_counts, _ = np.histogram(all_spikes, bins=time_bins)\n",
    "                    spike_rate = spike_counts / (time_bins[1] - time_bins[0])\n",
    "                    spike_rates.append(spike_rate)\n",
    "\n",
    "            mean_spike_rate = np.mean(spike_rates, axis=0)\n",
    "            std_spike_rate = np.std(spike_rates, axis=0)\n",
    "\n",
    "            image_mean_spike_rate_data.append({\n",
    "                'Neuron': neuron,\n",
    "                'Mean_Spike_Rate': mean_spike_rate\n",
    "            })\n",
    "\n",
    "            ax.plot(time_bins[:-1], mean_spike_rate, color='k', linewidth = 2)\n",
    "            ax.plot(time_bins[:-1], mean_spike_rate - std_spike_rate, color='lightgray', alpha=0.7, linewidth = 1)\n",
    "            ax.plot(time_bins[:-1], mean_spike_rate + std_spike_rate, color='lightgray', alpha=0.7, linewidth = 1)\n",
    "            #ax.set_ylim(- np.mean(mean_spike_rate) , 2 *np.mean(mean_spike_rate))\n",
    "            #ax.fill_between(time_bins[:-1], mean_spike_rate - std_spike_rate, mean_spike_rate + std_spike_rate, color='lightgray', alpha=0.5, label='Std Deviation')\n",
    "            quarter = (time_bins[-1] - time_bins[0]) * 0.25 + time_bins[0]\n",
    "            three_quarter = (time_bins[-1] - time_bins[0]) * 0.75 + time_bins[0]\n",
    "            ax.annotate(\"\", xy=(quarter, np.max(mean_spike_rate + std_spike_rate) * 0.9), xytext=(quarter, np.max(mean_spike_rate + std_spike_rate)),\n",
    "                        arrowprops=dict(arrowstyle=\"-|>\", color=\"black\"))\n",
    "            ax.annotate(\"\", xy=(three_quarter, np.max(mean_spike_rate + std_spike_rate) * 0.9), xytext=(three_quarter, np.max(mean_spike_rate + std_spike_rate)),\n",
    "                        arrowprops=dict(arrowstyle=\"-|>\", color=\"black\"))\n",
    "            ax.set_xlabel('')\n",
    "            ax.set_ylabel('')\n",
    "            ax.set_title(f'{neuron}', fontsize=10)\n",
    "            ax.legend()\n",
    "\n",
    "            ax.set_xticks([])\n",
    "            ax.set_yticks([])\n",
    "            ax.grid(False)\n",
    "            ax.legend().set_visible(False)\n",
    "            num += 1\n",
    "        axes[19].axis('off')\n",
    "        axes[18].axis('off')\n",
    "        fig.suptitle(f\"Image_{image}\", fontsize=20)\n",
    "        fig.text(0.5, 0.04, 'Time', ha='center', fontsize=14)\n",
    "        fig.text(0.06, 0.5, 'Spike Rate (Hz)', va='center', rotation='vertical', fontsize=14)\n",
    "        pdf.savefig(fig)\n",
    "        plt.close()\n",
    "\n",
    "        mean_spike_rate_dict[image] = pd.DataFrame(image_mean_spike_rate_data)"
   ]
  },
  {
   "cell_type": "code",
   "execution_count": 18,
   "metadata": {},
   "outputs": [],
   "source": [
    "for image in range(1, 118):\n",
    "    mean_spike_rate_dict[image]['image'] = image"
   ]
  },
  {
   "cell_type": "code",
   "execution_count": 19,
   "metadata": {},
   "outputs": [],
   "source": [
    "mean_spike_rate = pd.DataFrame()\n",
    "for image in range(1, 118):\n",
    "    mean_spike_rate = pd.concat((mean_spike_rate, mean_spike_rate_dict[image]), axis=0)"
   ]
  },
  {
   "cell_type": "code",
   "execution_count": 20,
   "metadata": {},
   "outputs": [],
   "source": [
    "expanded_data = [list(row) for row in mean_spike_rate['Mean_Spike_Rate']]\n",
    "expanded_df = pd.DataFrame(expanded_data)\n",
    "expanded_df.columns = [f'Mean_Spike_Rate_{i}' for i in range(99)]\n",
    "mean_spike_rate.index = expanded_df.index\n",
    "mean_spike_rate = pd.concat([mean_spike_rate.drop(columns=['Mean_Spike_Rate']), expanded_df], axis=1)"
   ]
  },
  {
   "cell_type": "code",
   "execution_count": 21,
   "metadata": {},
   "outputs": [],
   "source": [
    "mean_spike_rate = pd.read_csv(\"/media/ubuntu/sda/data/mouse6/output/03_single_neuron/mean_spike_rate.csv\").iloc[:, 1:102]"
   ]
  },
  {
   "cell_type": "code",
   "execution_count": 22,
   "metadata": {},
   "outputs": [],
   "source": [
    "from sklearn.decomposition import PCA\n",
    "from sklearn.preprocessing import StandardScaler\n",
    "\n",
    "pca = PCA(n_components=20)\n",
    "principal_components = pca.fit_transform(mean_spike_rate.iloc[:, 2:])"
   ]
  },
  {
   "cell_type": "code",
   "execution_count": 23,
   "metadata": {},
   "outputs": [
    {
     "data": {
      "text/plain": [
       "array([0.66993146, 0.15965338, 0.06359484, 0.020278  , 0.01274256,\n",
       "       0.00965172, 0.00766983, 0.00375075, 0.00299845, 0.00240472,\n",
       "       0.00218447, 0.00157761, 0.00154862, 0.00112225, 0.00104527,\n",
       "       0.00096944, 0.00090964, 0.00085789, 0.00079868, 0.00077563])"
      ]
     },
     "execution_count": 23,
     "metadata": {},
     "output_type": "execute_result"
    }
   ],
   "source": [
    "pca.explained_variance_ratio_"
   ]
  },
  {
   "cell_type": "code",
   "execution_count": 24,
   "metadata": {},
   "outputs": [],
   "source": [
    "import umap\n",
    "reducer = umap.UMAP()\n",
    "embedding = reducer.fit_transform(principal_components)"
   ]
  },
  {
   "cell_type": "code",
   "execution_count": 25,
   "metadata": {},
   "outputs": [],
   "source": [
    "principal_components = pd.DataFrame(principal_components)\n",
    "principal_components.columns = [f'PC_{i}' for i in range(1, 21)]\n",
    "mean_spike_rate = pd.concat((mean_spike_rate, principal_components), axis=1)"
   ]
  },
  {
   "cell_type": "code",
   "execution_count": 38,
   "metadata": {},
   "outputs": [],
   "source": [
    "from matplotlib.colors import LinearSegmentedColormap\n",
    "\n",
    "colors = [\"#FF0000\", \"#FF7F00\", \"#FFFF00\", \"#00FF00\", \"#0000FF\", \"#4B0082\", \"#9400D3\"]\n",
    "cmap = LinearSegmentedColormap.from_list(\"rainbow\", colors)\n",
    "num_colors = 18\n",
    "rainbow_colors = cmap(np.linspace(0, 1, num_colors))"
   ]
  },
  {
   "cell_type": "code",
   "execution_count": null,
   "metadata": {},
   "outputs": [],
   "source": [
    "sns.scatterplot()"
   ]
  },
  {
   "cell_type": "code",
   "execution_count": null,
   "metadata": {},
   "outputs": [],
   "source": [
    "with PdfPages(\"reduced_dim.pdf\") as pdf:\n",
    "    plt.figure(figsize=(5, 5))\n",
    "    sns.scatterplot(x = principal_components['PC_1'], y = principal_components['PC_2'], s=25, hue = mean_spike_rate['Neuron'])\n",
    "    plt.xlabel('PC_1')\n",
    "    plt.ylabel('PC_2')\n",
    "    plt.xticks([])\n",
    "    plt.yticks([])\n",
    "    pdf.savefig()\n",
    "    plt.close()\n",
    "\n",
    "    plt.figure(figsize=(5, 5))\n",
    "    sns.scatterplot(x = principal_components['PC_1'], y = principal_components['PC_2'], s=25, hue = mean_spike_rate['Neuron'], legend=False)\n",
    "    plt.xlabel('PC_1')\n",
    "    plt.ylabel('PC_2')\n",
    "    plt.xticks([])\n",
    "    plt.yticks([])\n",
    "    pdf.savefig()\n",
    "    plt.close()\n",
    "\n",
    "    plt.figure(figsize=(5, 5))\n",
    "    sns.scatterplot(x = principal_components['PC_1'], y = principal_components['PC_2'], s=25, hue = mean_spike_rate['image'], legend=False)\n",
    "    plt.xlabel('PC_1')\n",
    "    plt.ylabel('PC_2')\n",
    "    plt.xticks([])\n",
    "    plt.yticks([])\n",
    "    pdf.savefig()\n",
    "    plt.close()"
   ]
  },
  {
   "cell_type": "code",
   "execution_count": 52,
   "metadata": {},
   "outputs": [],
   "source": [
    "with PdfPages(\"reduced_dim_Neuron.pdf\") as pdf:\n",
    "    max = mean_spike_rate['PC_1'].max()\n",
    "    min = mean_spike_rate['PC_1'].min()\n",
    "    for neuron in mean_spike_rate['Neuron'].unique():\n",
    "        temp = mean_spike_rate[mean_spike_rate['Neuron'] == neuron]\n",
    "        plt.figure(figsize=(5, 5))\n",
    "        sns.scatterplot(x = temp['PC_1'], y = 1, s=16, hue = temp['image'])\n",
    "        plt.xlim(min, max)\n",
    "        plt.xlabel('PC_1')\n",
    "        plt.ylabel('PC_2')\n",
    "        plt.xticks([])\n",
    "        plt.yticks([])\n",
    "        plt.title(neuron)\n",
    "        pdf.savefig()\n",
    "        plt.close()"
   ]
  },
  {
   "cell_type": "code",
   "execution_count": 27,
   "metadata": {},
   "outputs": [],
   "source": [
    "mean_spike_rate.to_csv(\"mean_spike_rate.csv\")"
   ]
  },
  {
   "cell_type": "code",
   "execution_count": 29,
   "metadata": {},
   "outputs": [],
   "source": [
    "trend_neuron = ['Neuron_11', \"Neuron_15\", 'Neuron_17', 'Neuron_18', 'Neuron_19', 'Neuron_20', \"Neuron_24\", 'Neuron_25']"
   ]
  },
  {
   "cell_type": "code",
   "execution_count": 44,
   "metadata": {},
   "outputs": [],
   "source": [
    "Image_score = pd.DataFrame()\n",
    "with PdfPages(\"reduced_dim_Neuron_trend.pdf\") as pdf:\n",
    "    for neuron in trend_neuron:\n",
    "        temp = mean_spike_rate[mean_spike_rate['Neuron'] == neuron]\n",
    "        slope, intercept = np.polyfit(temp['PC_1'], temp['PC_2'], 1)\n",
    "        y_fit = (temp['PC_1'] * slope + intercept).tolist()\n",
    "\n",
    "        Image_score = pd.concat((Image_score, pd.DataFrame(y_fit)), axis=1)\n",
    "        plt.figure(figsize=(4, 4))\n",
    "        sns.scatterplot(x = temp['PC_1'], y = temp['PC_2'], s=50, hue = temp['image'], legend=False)\n",
    "        plt.plot(temp['PC_1'], y_fit, color='black')\n",
    "        plt.xlabel('PC_1')\n",
    "        plt.ylabel('PC_2')\n",
    "        plt.xticks([])\n",
    "        plt.yticks([])\n",
    "        plt.title(neuron)\n",
    "        pdf.savefig()\n",
    "        plt.close()\n",
    "Image_score.columns = trend_neuron\n",
    "Image_score.index = range(1, 118)"
   ]
  },
  {
   "cell_type": "code",
   "execution_count": 35,
   "metadata": {},
   "outputs": [],
   "source": [
    "mean_spike_rate['cluster'] = \"1\"\n",
    "mean_spike_rate.loc[mean_spike_rate['Neuron'].isin(trend_neuron), 'cluster'] = \"2\""
   ]
  },
  {
   "cell_type": "code",
   "execution_count": 36,
   "metadata": {},
   "outputs": [],
   "source": [
    "with PdfPages(\"reduced_dim_cluster.pdf\") as pdf:\n",
    "    plt.figure(figsize=(5, 5))\n",
    "    sns.scatterplot(x = principal_components['PC_1'], y = principal_components['PC_2'], s=25, hue = mean_spike_rate['cluster'])\n",
    "    plt.xlabel('PC_1')\n",
    "    plt.ylabel('PC_2')\n",
    "    plt.xticks([])\n",
    "    plt.yticks([])\n",
    "    pdf.savefig()\n",
    "    plt.close()\n",
    "\n",
    "    plt.figure(figsize=(5, 5))\n",
    "    sns.scatterplot(x = principal_components['PC_1'], y = principal_components['PC_2'], s=25, hue = mean_spike_rate['cluster'], legend=False)\n",
    "    plt.xlabel('PC_1')\n",
    "    plt.ylabel('PC_2')\n",
    "    plt.xticks([])\n",
    "    plt.yticks([])\n",
    "    pdf.savefig()\n",
    "    plt.close()"
   ]
  },
  {
   "cell_type": "code",
   "execution_count": 52,
   "metadata": {},
   "outputs": [],
   "source": [
    "image_reducer = umap.UMAP()\n",
    "embedding = image_reducer.fit_transform(Image_score)"
   ]
  },
  {
   "cell_type": "code",
   "execution_count": 53,
   "metadata": {},
   "outputs": [
    {
     "data": {
      "text/plain": [
       "array([0, 0, 0, 0, 0, 1, 2, 3, 2, 1, 1, 0, 0, 1, 2, 0, 2, 1, 4, 2, 1, 3,\n",
       "       0, 0, 0, 1, 3, 0, 3, 0, 1, 0, 3, 0, 3, 3, 0, 3, 0, 0, 0, 0, 1, 1,\n",
       "       3, 0, 0, 2, 1, 1, 1, 2, 0, 0, 2, 2, 1, 1, 3, 0, 0, 0, 3, 2, 3, 0,\n",
       "       0, 2, 1, 1, 1, 2, 3, 1, 0, 3, 0, 3, 3, 2, 2, 0, 3, 0, 1, 0, 0, 3,\n",
       "       3, 3, 0, 3, 2, 1, 3, 1, 3, 2, 3, 3, 3, 3, 0, 1, 3, 0, 1, 3, 3, 3,\n",
       "       0, 3, 2, 3, 1, 0, 3])"
      ]
     },
     "execution_count": 53,
     "metadata": {},
     "output_type": "execute_result"
    }
   ],
   "source": [
    "from sklearn.cluster import DBSCAN\n",
    "eps = 0.53\n",
    "min_samples = 1\n",
    "\n",
    "dbscan = DBSCAN(eps=eps, min_samples=min_samples)\n",
    "dbscan.fit(embedding)\n",
    "dbscan.labels_"
   ]
  },
  {
   "cell_type": "code",
   "execution_count": 58,
   "metadata": {},
   "outputs": [],
   "source": [
    "with PdfPages(\"umap_image.pdf\") as pdf:\n",
    "    plt.figure(figsize=(2.5, 2.5))\n",
    "    sns.scatterplot(x = embedding[:, 0],\n",
    "                    y = embedding[:, 1],\n",
    "                    hue = dbscan.labels_.astype(str),\n",
    "                    size=50,\n",
    "                    legend = False)\n",
    "    plt.xticks([])\n",
    "    plt.yticks([])\n",
    "    plt.xlabel(\"\")\n",
    "    plt.ylabel(\"\")\n",
    "    pdf.savefig()\n",
    "    plt.close()"
   ]
  },
  {
   "cell_type": "code",
   "execution_count": 108,
   "metadata": {},
   "outputs": [],
   "source": [
    "image_feature = pd.read_csv(\"/media/ubuntu/sda/data/visual_decoding/image_feature.csv\")"
   ]
  },
  {
   "cell_type": "code",
   "execution_count": 139,
   "metadata": {},
   "outputs": [
    {
     "data": {
      "text/plain": [
       "array([0, 0, 0, 0, 0, 0, 0, 0, 0, 0, 0, 0, 0, 0, 0, 0, 0, 0, 0, 0, 0, 0,\n",
       "       0, 0, 0, 0, 0, 0, 0, 0, 0, 0, 0, 0, 0, 0, 0, 0, 0, 0, 0, 0, 0, 0,\n",
       "       0, 0, 0, 0, 0, 0, 0, 0, 0, 0, 0, 0, 0, 0, 0, 0, 0, 0, 0, 0, 0, 0,\n",
       "       0, 0, 0, 0, 0, 0, 0, 0, 0, 0, 0, 0, 0, 0, 0, 0, 0, 0, 0, 0, 0, 0,\n",
       "       0, 0, 0, 0, 0, 0, 0, 0, 0, 0, 0, 0, 0, 0, 0, 0, 0, 0, 0, 0, 0, 0,\n",
       "       0, 0, 0, 0, 0, 0, 0])"
      ]
     },
     "execution_count": 139,
     "metadata": {},
     "output_type": "execute_result"
    }
   ],
   "source": [
    "pca_image = PCA(n_components=40)\n",
    "principal_components_image = pca_image.fit_transform(image_feature)\n",
    "reducer_image = umap.UMAP()\n",
    "embedding_image = reducer_image.fit_transform(principal_components_image)\n",
    "\n",
    "eps = 1\n",
    "min_samples = 1\n",
    "\n",
    "dbscan_image = DBSCAN(eps=eps, min_samples=min_samples)\n",
    "dbscan_image.fit(embedding_image)\n",
    "dbscan_image.labels_"
   ]
  },
  {
   "cell_type": "code",
   "execution_count": 29,
   "metadata": {},
   "outputs": [],
   "source": [
    "diff_spike_rate_dict = {}\n",
    "\n",
    "with PdfPages(\"peth_diff_lineplot.pdf\") as pdf:\n",
    "    for image in range(1, 5):\n",
    "        fig, axes = plt.subplots(4, 5, figsize=(15, 9))\n",
    "        axes = axes.flatten()\n",
    "        num = 0\n",
    "        image_mean_spike_rate_data = []\n",
    "        for neuron in spike_inf['Neuron'].unique():\n",
    "            ax = axes[num]\n",
    "            neuron_df = spike_inf[spike_inf['Neuron'] == neuron]\n",
    "\n",
    "            dates = trigger_time[trigger_time['image'] == image]['date'].unique()\n",
    "            date_indices = np.arange(len(dates))  \n",
    "\n",
    "            spike_rates = []\n",
    "            std_rates = []\n",
    "\n",
    "            for date in dates:\n",
    "                trigger_time_temp = trigger_time[(trigger_time['image'] == image) & (trigger_time['date'] == date)]\n",
    "                all_spikes = []\n",
    "\n",
    "                for index, row in trigger_time_temp.iterrows():\n",
    "                    start = row['expand_start']\n",
    "                    end = row['expand_end']\n",
    "\n",
    "                    filtered_spikes = neuron_df[(neuron_df['date'] == date) &\n",
    "                                                (neuron_df['time'] >= start) &\n",
    "                                                (neuron_df['time'] <= end)]\n",
    "\n",
    "                    if not filtered_spikes.empty:\n",
    "                        relative_spikes = filtered_spikes['time'] - start\n",
    "                        all_spikes.extend(relative_spikes)\n",
    "\n",
    "                if all_spikes:\n",
    "                    time_bins = np.linspace(0, max(all_spikes), 100)\n",
    "                    spike_counts, _ = np.histogram(all_spikes, bins=time_bins)\n",
    "                    spike_rate = spike_counts / (time_bins[1] - time_bins[0])\n",
    "                    spike_rate = np.diff(spike_rate)\n",
    "                    spike_rates.append(spike_rate)\n",
    "\n",
    "            mean_spike_rate = np.mean(spike_rates, axis=0)\n",
    "            std_spike_rate = np.std(spike_rates, axis=0)\n",
    "\n",
    "            image_mean_spike_rate_data.append({\n",
    "                'Neuron': neuron,\n",
    "                'Mean_Spike_Rate': mean_spike_rate\n",
    "            })\n",
    "\n",
    "            ax.plot(time_bins[:-2], mean_spike_rate, color='k', linewidth = 2)\n",
    "            ax.plot(time_bins[:-2], mean_spike_rate - std_spike_rate, color='lightgray', alpha=0.7, linewidth = 1)\n",
    "            ax.plot(time_bins[:-2], mean_spike_rate + std_spike_rate, color='lightgray', alpha=0.7, linewidth = 1)\n",
    "\n",
    "            quarter = (time_bins[-2] - time_bins[0]) * 0.25 + time_bins[0]\n",
    "            three_quarter = (time_bins[-2] - time_bins[0]) * 0.75 + time_bins[0]\n",
    "            ax.annotate(\"\", xy=(quarter, np.max(mean_spike_rate + std_spike_rate) * 0.9), xytext=(quarter, np.max(mean_spike_rate + std_spike_rate)),\n",
    "                        arrowprops=dict(arrowstyle=\"-|>\", color=\"black\"))\n",
    "            ax.annotate(\"\", xy=(three_quarter, np.max(mean_spike_rate + std_spike_rate) * 0.9), xytext=(three_quarter, np.max(mean_spike_rate + std_spike_rate)),\n",
    "                        arrowprops=dict(arrowstyle=\"-|>\", color=\"black\"))\n",
    "            ax.set_xlabel('')\n",
    "            ax.set_ylabel('')\n",
    "            ax.set_title(f'{neuron}', fontsize=10)\n",
    "            ax.legend()\n",
    "\n",
    "            ax.set_xticks([])\n",
    "            ax.set_yticks([])\n",
    "            ax.grid(False)\n",
    "            ax.legend().set_visible(False)\n",
    "            num += 1\n",
    "        axes[19].axis('off')\n",
    "        axes[18].axis('off')\n",
    "        fig.suptitle(f\"Image_{image}\", fontsize=20)\n",
    "        fig.text(0.5, 0.04, 'Time', ha='center', fontsize=14)\n",
    "        fig.text(0.06, 0.5, 'Spike Rate (Hz)', va='center', rotation='vertical', fontsize=14)\n",
    "        pdf.savefig(fig)\n",
    "        plt.close()\n",
    "\n",
    "        diff_spike_rate_dict[image] = pd.DataFrame(image_mean_spike_rate_data)"
   ]
  },
  {
   "cell_type": "code",
   "execution_count": 30,
   "metadata": {},
   "outputs": [],
   "source": [
    "mean_spike_rate_shallow_dict = {}\n",
    "\n",
    "with PdfPages(\"peth_shallow_lineplot.pdf\") as pdf:\n",
    "    for image in range(1, 2):\n",
    "        fig, axes = plt.subplots(4, 5, figsize=(15, 9))\n",
    "        axes = axes.flatten()\n",
    "        num = 0\n",
    "        image_mean_spike_rate_data = []\n",
    "        for neuron in spike_inf['Neuron'].unique():\n",
    "            ax = axes[num]\n",
    "            neuron_df = spike_inf[spike_inf['Neuron'] == neuron]\n",
    "\n",
    "            dates = trigger_time[trigger_time['image'] == image]['date'].unique()\n",
    "            date_indices = np.arange(len(dates))  \n",
    "\n",
    "            spike_rates = []\n",
    "            std_rates = []\n",
    "\n",
    "            for date in dates:\n",
    "                trigger_time_temp = trigger_time[(trigger_time['image'] == image) & (trigger_time['date'] == date)]\n",
    "                all_spikes = []\n",
    "\n",
    "                for index, row in trigger_time_temp.iterrows():\n",
    "                    start = row['expand_start']\n",
    "                    end = row['end']\n",
    "\n",
    "                    filtered_spikes = neuron_df[(neuron_df['date'] == date) &\n",
    "                                                (neuron_df['time'] >= start) &\n",
    "                                                (neuron_df['time'] <= end)]\n",
    "\n",
    "                    if not filtered_spikes.empty:\n",
    "                        relative_spikes = filtered_spikes['time'] - start\n",
    "                        all_spikes.extend(relative_spikes)\n",
    "\n",
    "                if all_spikes:\n",
    "                    time_bins = np.linspace(0, max(all_spikes), 100)\n",
    "                    spike_counts, _ = np.histogram(all_spikes, bins=time_bins)\n",
    "                    spike_rate = spike_counts / (time_bins[1] - time_bins[0])\n",
    "                    spike_rates.append(spike_rate)\n",
    "\n",
    "            mean_spike_rate = np.mean(spike_rates, axis=0)\n",
    "            std_spike_rate = np.std(spike_rates, axis=0)\n",
    "\n",
    "            image_mean_spike_rate_data.append({\n",
    "                'Neuron': neuron,\n",
    "                'Mean_Spike_Rate': mean_spike_rate\n",
    "            })\n",
    "\n",
    "            ax.plot(time_bins[:-1], mean_spike_rate, color='k', linewidth = 2)\n",
    "            ax.plot(time_bins[:-1], mean_spike_rate - std_spike_rate, color='lightgray', alpha=0.7, linewidth = 1)\n",
    "            ax.plot(time_bins[:-1], mean_spike_rate + std_spike_rate, color='lightgray', alpha=0.7, linewidth = 1)\n",
    "            quarter = (time_bins[-1] - time_bins[0]) * 0.5 + time_bins[0]\n",
    "\n",
    "            ax.annotate(\"\", xy=(quarter, np.max(mean_spike_rate + std_spike_rate) * 0.9), xytext=(quarter, np.max(mean_spike_rate + std_spike_rate)),\n",
    "                        arrowprops=dict(arrowstyle=\"-|>\", color=\"black\"))\n",
    "            ax.set_xlabel('')\n",
    "            ax.set_ylabel('')\n",
    "            ax.set_title(f'{neuron}', fontsize=10)\n",
    "            ax.legend()\n",
    "\n",
    "            ax.set_xticks([])\n",
    "            ax.set_yticks([])\n",
    "            ax.grid(False)\n",
    "            ax.legend().set_visible(False)\n",
    "            num += 1\n",
    "        axes[19].axis('off')\n",
    "        axes[18].axis('off')\n",
    "        fig.suptitle(f\"Image_{image}\", fontsize=20)\n",
    "        fig.text(0.5, 0.04, 'Time', ha='center', fontsize=14)\n",
    "        fig.text(0.06, 0.5, 'Spike Rate (Hz)', va='center', rotation='vertical', fontsize=14)\n",
    "        pdf.savefig(fig)\n",
    "        plt.close()\n",
    "\n",
    "        mean_spike_rate_shallow_dict[image] = pd.DataFrame(image_mean_spike_rate_data)"
   ]
  },
  {
   "cell_type": "code",
   "execution_count": 141,
   "metadata": {},
   "outputs": [],
   "source": [
    "trigger_time.to_csv(\"trigger_time_refine.csv\")\n",
    "spike_inf.to_csv(\"spike_inf_refine.tsv\", sep = \"\\t\")\n",
    "cluster_inf.to_csv(\"cluster_inf_refine.tsv\", sep = '\\t')"
   ]
  },
  {
   "cell_type": "code",
   "execution_count": 143,
   "metadata": {},
   "outputs": [],
   "source": [
    "mean_spike_rate.iloc[:, 1:].to_csv('mean_spike_rate.csv')"
   ]
  }
 ],
 "metadata": {
  "kernelspec": {
   "display_name": "spike_sorting_jct",
   "language": "python",
   "name": "python3"
  },
  "language_info": {
   "codemirror_mode": {
    "name": "ipython",
    "version": 3
   },
   "file_extension": ".py",
   "mimetype": "text/x-python",
   "name": "python",
   "nbconvert_exporter": "python",
   "pygments_lexer": "ipython3",
   "version": "3.11.13"
  }
 },
 "nbformat": 4,
 "nbformat_minor": 2
}
