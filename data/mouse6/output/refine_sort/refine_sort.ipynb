{
 "cells": [
  {
   "cell_type": "code",
   "execution_count": 1,
   "metadata": {},
   "outputs": [
    {
     "name": "stderr",
     "output_type": "stream",
     "text": [
      "/home/ubuntu/.conda/envs/spike_sorting_jct/lib/python3.10/site-packages/tqdm/auto.py:21: TqdmWarning: IProgress not found. Please update jupyter and ipywidgets. See https://ipywidgets.readthedocs.io/en/stable/user_install.html\n",
      "  from .autonotebook import tqdm as notebook_tqdm\n"
     ]
    }
   ],
   "source": [
    "import spikeinterface as si\n",
    "import matplotlib.pyplot as plt\n",
    "%matplotlib inline\n",
    "import spikeinterface.extractors as se\n",
    "import spikeinterface.preprocessing as spre\n",
    "import spikeinterface.sorters as ss\n",
    "import spikeinterface.widgets as sw\n",
    "import spikeinterface.qualitymetrics as sqm\n",
    "import json\n",
    "import numpy as np\n",
    "import pandas as pd\n",
    "import seaborn as sns"
   ]
  },
  {
   "cell_type": "code",
   "execution_count": 2,
   "metadata": {},
   "outputs": [
    {
     "ename": "FileExistsError",
     "evalue": "[Errno 17] File exists: 'position_embedding'",
     "output_type": "error",
     "traceback": [
      "\u001b[0;31m---------------------------------------------------------------------------\u001b[0m",
      "\u001b[0;31mFileExistsError\u001b[0m                           Traceback (most recent call last)",
      "Cell \u001b[0;32mIn[2], line 2\u001b[0m\n\u001b[1;32m      1\u001b[0m \u001b[38;5;28;01mimport\u001b[39;00m\u001b[38;5;250m \u001b[39m\u001b[38;5;21;01mos\u001b[39;00m\n\u001b[0;32m----> 2\u001b[0m \u001b[43mos\u001b[49m\u001b[38;5;241;43m.\u001b[39;49m\u001b[43mmkdir\u001b[49m\u001b[43m(\u001b[49m\u001b[38;5;124;43m\"\u001b[39;49m\u001b[38;5;124;43mposition_embedding\u001b[39;49m\u001b[38;5;124;43m\"\u001b[39;49m\u001b[43m)\u001b[49m\n",
      "\u001b[0;31mFileExistsError\u001b[0m: [Errno 17] File exists: 'position_embedding'"
     ]
    }
   ],
   "source": [
    "import os\n",
    "#os.mkdir(\"position_embedding\")"
   ]
  },
  {
   "cell_type": "code",
   "execution_count": 445,
   "metadata": {},
   "outputs": [],
   "source": [
    "def spike_inf_formation(filepath):\n",
    "    sorting_curated_phy = se.read_phy(filepath + \"/phy_folder_for_kilosort/\")\n",
    "    spike_inf = np.column_stack((np.array(range(0, len(np.load(filepath + \"/phy_folder_for_kilosort/spike_clusters.npy\").astype(str)))).astype(str),\n",
    "                                   np.load(filepath + \"/phy_folder_for_kilosort/spike_clusters.npy\"),\n",
    "                                   np.load(filepath + \"/kilosort4/sorter_output/spike_positions.npy\"),\n",
    "                                   np.load(filepath + \"/phy_folder_for_kilosort/spike_templates.npy\"),\n",
    "                                   np.load(filepath + \"/phy_folder_for_kilosort/spike_times.npy\"),\n",
    "                                   np.load(filepath + \"/phy_folder_for_kilosort/amplitudes.npy\")))\n",
    "    spike_inf = pd.DataFrame(spike_inf)\n",
    "    spike_inf.columns = ['name', 'cluster', 'position_1', 'position_2', 'template','time', 'amplitude']\n",
    "\n",
    "    return spike_inf"
   ]
  },
  {
   "cell_type": "code",
   "execution_count": 762,
   "metadata": {},
   "outputs": [],
   "source": [
    "spike_inf_dict = {}\n",
    "\n",
    "# spike_inf_dict['021322'] = spike_inf_formation(filepath=\"/media/ubuntu/sda/data/mouse6/output/filtered/mouse6_021322_natural_image001/\")\n",
    "#spike_inf_dict['022522'] = spike_inf_formation(filepath=\"/media/ubuntu/sda/data/mouse6/output/filtered/mouse6_022522_natural_image_001/\")\n",
    "#spike_inf_dict['031722'] = spike_inf_formation(filepath=\"/media/ubuntu/sda/data/mouse6/output/filtered/mouse6_031722_natural_image_001/\")\n",
    "#spike_inf_dict['042422'] = spike_inf_formation(filepath=\"/media/ubuntu/sda/data/mouse6/output/filtered/mouse6_042422_natural_image_001/\")\n",
    "#spike_inf_dict['052422'] = spike_inf_formation(filepath=\"/media/ubuntu/sda/data/mouse6/output/filtered/mouse6_052422_natural_image_003/\")\n",
    "#spike_inf_dict['062422'] = spike_inf_formation(filepath=\"/media/ubuntu/sda/data/mouse6/output/filtered/mouse6_062422_natural_image_001/\")\n",
    "#spike_inf_dict['072322'] = spike_inf_formation(filepath=\"/media/ubuntu/sda/data/mouse6/output/filtered/mouse6_072322_natural_image_001/\")\n",
    "#spike_inf_dict['082322'] = spike_inf_formation(filepath=\"/media/ubuntu/sda/data/mouse6/output/filtered/mouse6_082322_natural_image_001/\")\n",
    "#spike_inf_dict['092422'] = spike_inf_formation(filepath=\"/media/ubuntu/sda/data/mouse6/output/filtered/mouse6_092422_natural_image_001/\")\n",
    "#spike_inf_dict['102122'] = spike_inf_formation(filepath=\"/media/ubuntu/sda/data/mouse6/output/filtered/mouse6_102122_natural_image_001/\")\n",
    "#spike_inf_dict['112022'] = spike_inf_formation(filepath=\"/media/ubuntu/sda/data/mouse6/output/filtered/mouse6_112022_natural_image_001/\")\n",
    "spike_inf_dict['122022'] = spike_inf_formation(filepath=\"/media/ubuntu/sda/data/mouse6/output/filtered/mouse6_122022_natural_image_003/\")\n",
    "#spike_inf_dict['012123'] = spike_inf_formation(filepath=\"/media/ubuntu/sda/data/mouse6/output/mouse6_012123_natural_image_001/\")\n",
    "#spike_inf_dict['022223'] = spike_inf_formation(filepath=\"/media/ubuntu/sda/data/mouse6/output/filtered/mouse6_022223_natural_image_001/\")\n",
    "#spike_inf_dict['032123'] = spike_inf_formation(filepath=\"/media/ubuntu/sda/data/mouse6/output/filtered/mouse6_032123_natural_image_001/\")\n",
    "#spike_inf_dict['042323'] = spike_inf_formation(filepath=\"/media/ubuntu/sda/data/mouse6/output/filtered/mouse6_042323_natural_image_001/\")\n"
   ]
  },
  {
   "cell_type": "code",
   "execution_count": 763,
   "metadata": {},
   "outputs": [],
   "source": [
    "cluster_group = {}\n",
    "#cluster_group['021322'] = pd.read_csv(\"/media/ubuntu/sda/data/mouse6/output/filtered/mouse6_021322_natural_image001/phy_folder_for_kilosort/cluster_group.tsv\", sep= \"\\t\")\n",
    "#cluster_group['022522'] = pd.read_csv(\"/media/ubuntu/sda/data/mouse6/output/filtered/mouse6_022522_natural_image_001/phy_folder_for_kilosort/cluster_group.tsv\", sep= \"\\t\")\n",
    "#cluster_group['031722'] = pd.read_csv(\"/media/ubuntu/sda/data/mouse6/output/filtered/mouse6_031722_natural_image_001/phy_folder_for_kilosort/cluster_group.tsv\", sep= \"\\t\")\n",
    "#cluster_group['042422'] = pd.read_csv(\"/media/ubuntu/sda/data/mouse6/output/filtered/mouse6_042422_natural_image_001/phy_folder_for_kilosort/cluster_group.tsv\", sep= \"\\t\")\n",
    "#cluster_group['052422'] = pd.read_csv(\"/media/ubuntu/sda/data/mouse6/output/filtered/mouse6_052422_natural_image_003/phy_folder_for_kilosort/cluster_group.tsv\", sep= \"\\t\")\n",
    "#cluster_group['062422'] = pd.read_csv(\"/media/ubuntu/sda/data/mouse6/output/filtered/mouse6_062422_natural_image_001/phy_folder_for_kilosort/cluster_group.tsv\", sep= \"\\t\")\n",
    "#cluster_group['072322'] = pd.read_csv(\"/media/ubuntu/sda/data/mouse6/output/filtered/mouse6_072322_natural_image_001/phy_folder_for_kilosort/cluster_group.tsv\", sep= \"\\t\")\n",
    "#cluster_group['082322'] = pd.read_csv(\"/media/ubuntu/sda/data/mouse6/output/filtered/mouse6_082322_natural_image_001/phy_folder_for_kilosort/cluster_group.tsv\", sep= \"\\t\")\n",
    "#cluster_group['092422'] = pd.read_csv(\"/media/ubuntu/sda/data/mouse6/output/filtered/mouse6_092422_natural_image_001/phy_folder_for_kilosort/cluster_group.tsv\", sep= \"\\t\")\n",
    "#cluster_group['102122'] = pd.read_csv(\"/media/ubuntu/sda/data/mouse6/output/filtered/mouse6_102122_natural_image_001/phy_folder_for_kilosort/cluster_group.tsv\", sep= \"\\t\")\n",
    "#cluster_group['112022'] = pd.read_csv(\"/media/ubuntu/sda/data/mouse6/output/filtered/mouse6_112022_natural_image_001/phy_folder_for_kilosort/cluster_group.tsv\", sep= \"\\t\")\n",
    "cluster_group['122022'] = pd.read_csv(\"/media/ubuntu/sda/data/mouse6/output/filtered/mouse6_122022_natural_image_003/phy_folder_for_kilosort/cluster_group.tsv\", sep= \"\\t\")\n",
    "# cluster_group['012123'] = pd.read_csv(\"/media/ubuntu/sda/data/mouse6/output/mouse6_012123_natural_image_001/phy_folder_for_kilosort/cluster_group.tsv\", sep= \"\\t\")\n",
    "#cluster_group['022223'] = pd.read_csv(\"/media/ubuntu/sda/data/mouse6/output/filtered/mouse6_022223_natural_image_001/phy_folder_for_kilosort/cluster_group.tsv\", sep= \"\\t\")\n",
    "#cluster_group['032123'] = pd.read_csv(\"/media/ubuntu/sda/data/mouse6/output/filtered/mouse6_032123_natural_image_001/phy_folder_for_kilosort/cluster_group.tsv\", sep= \"\\t\")\n",
    "#cluster_group['042323'] = pd.read_csv(\"/media/ubuntu/sda/data/mouse6/output/filtered/mouse6_042323_natural_image_001/phy_folder_for_kilosort/cluster_group.tsv\", sep= \"\\t\")"
   ]
  },
  {
   "cell_type": "code",
   "execution_count": 764,
   "metadata": {},
   "outputs": [
    {
     "name": "stderr",
     "output_type": "stream",
     "text": [
      "/tmp/ipykernel_10985/539405504.py:3: SettingWithCopyWarning: \n",
      "A value is trying to be set on a copy of a slice from a DataFrame.\n",
      "Try using .loc[row_indexer,col_indexer] = value instead\n",
      "\n",
      "See the caveats in the documentation: https://pandas.pydata.org/pandas-docs/stable/user_guide/indexing.html#returning-a-view-versus-a-copy\n",
      "  df['cluster_id'] = df['cluster_id'].astype(str)\n"
     ]
    }
   ],
   "source": [
    "for df_name, df in cluster_group.items():\n",
    "    df = df[df['group'] == 'good']\n",
    "    df['cluster_id'] = df['cluster_id'].astype(str)\n",
    "    cluster_group[df_name] = df"
   ]
  },
  {
   "cell_type": "code",
   "execution_count": 765,
   "metadata": {},
   "outputs": [
    {
     "name": "stderr",
     "output_type": "stream",
     "text": [
      "/tmp/ipykernel_10985/891890279.py:6: SettingWithCopyWarning: \n",
      "A value is trying to be set on a copy of a slice from a DataFrame.\n",
      "Try using .loc[row_indexer,col_indexer] = value instead\n",
      "\n",
      "See the caveats in the documentation: https://pandas.pydata.org/pandas-docs/stable/user_guide/indexing.html#returning-a-view-versus-a-copy\n",
      "  df['cluster'] = df['cluster'].astype(str)\n"
     ]
    }
   ],
   "source": [
    "for df_name, df in spike_inf_dict.items():\n",
    "    df['Date'] = df_name[-5:]\n",
    "    df['position_1'] = df['position_1'].astype(float)\n",
    "    df['position_2'] = df['position_2'].astype(float)\n",
    "    df = df[df['cluster'].isin(cluster_group[df_name]['cluster_id'])]\n",
    "    df['cluster'] = df['cluster'].astype(str)\n",
    "    spike_inf_dict[df_name] = df\n",
    "\n",
    "    "
   ]
  },
  {
   "cell_type": "code",
   "execution_count": 766,
   "metadata": {},
   "outputs": [],
   "source": [
    "spike_inf_all = pd.concat(spike_inf_dict.values())"
   ]
  },
  {
   "cell_type": "code",
   "execution_count": 767,
   "metadata": {},
   "outputs": [],
   "source": [
    "#os.mkdir(\"position_embedding/shank1\")\n",
    "for df_name, df in spike_inf_dict.items():\n",
    "    plt.figure(figsize=(10, 10))\n",
    "    temp = df.sample(n = 10000)\n",
    "    temp = temp[temp['position_2'] > 350]\n",
    "    temp = temp[temp['cluster'].map(temp['cluster'].value_counts()) >= 20]\n",
    "\n",
    "    sns.scatterplot(x = temp['position_1'],\n",
    "                    y = temp['position_2'],\n",
    "                    hue = temp['cluster'],\n",
    "                    palette=\"Set1\")\n",
    "    plt.axis('off')\n",
    "    plt.title(df_name, fontsize = 20)\n",
    "    plt.savefig(\"position_embedding/shank1/\" + df_name + \".png\")\n",
    "    plt.close()"
   ]
  },
  {
   "cell_type": "code",
   "execution_count": 768,
   "metadata": {},
   "outputs": [],
   "source": [
    "#os.mkdir(\"position_embedding/shank2\")\n",
    "for df_name, df in spike_inf_dict.items():\n",
    "    plt.figure(figsize=(10, 10))\n",
    "    temp = df.sample(n = 10000)\n",
    "    temp = temp[temp['position_2'] < 350]\n",
    "    temp = temp[temp['position_2'] > 150]\n",
    "    temp = temp[temp['position_1'] < 350]\n",
    "    temp = temp[temp['cluster'].map(temp['cluster'].value_counts()) >= 20]\n",
    "\n",
    "    sns.scatterplot(x = temp['position_1'],\n",
    "                    y = temp['position_2'],\n",
    "                    hue = temp['cluster'],\n",
    "                    palette=\"hls\")\n",
    "    plt.axis('off')\n",
    "    plt.title(df_name, fontsize = 20)\n",
    "    plt.savefig(\"position_embedding/shank2/\" + df_name + \".png\")\n",
    "    plt.close()"
   ]
  },
  {
   "cell_type": "code",
   "execution_count": 769,
   "metadata": {},
   "outputs": [],
   "source": [
    "#os.mkdir(\"position_embedding/shank3\")\n",
    "for df_name, df in spike_inf_dict.items():\n",
    "    plt.figure(figsize=(10, 10))\n",
    "    temp = df.sample(n = 10000)\n",
    "    temp = temp[temp['position_2'] < 350]\n",
    "    temp = temp[temp['position_2'] > 150]\n",
    "    temp = temp[temp['position_1'] > 350]\n",
    "    temp = temp[temp['cluster'].map(temp['cluster'].value_counts()) >= 20]\n",
    "    \n",
    "    sns.scatterplot(x = temp['position_1'],\n",
    "                    y = temp['position_2'],\n",
    "                    hue = temp['cluster'],\n",
    "                    palette=\"hls\")\n",
    "    plt.axis('off')\n",
    "    plt.title(df_name, fontsize = 20)\n",
    "    plt.savefig(\"position_embedding/shank3/\" + df_name + \".png\")\n",
    "    plt.close()"
   ]
  },
  {
   "cell_type": "code",
   "execution_count": 770,
   "metadata": {},
   "outputs": [],
   "source": [
    "#os.mkdir(\"position_embedding/shank4\")\n",
    "for df_name, df in spike_inf_dict.items():\n",
    "    plt.figure(figsize=(10, 10))\n",
    "    temp = df.sample(n = 10000)\n",
    "    temp = temp[temp['position_2'] < 150]\n",
    "    temp = temp[temp['position_1'] < 350]\n",
    "    temp = temp[temp['cluster'].map(temp['cluster'].value_counts()) >= 20]\n",
    "    \n",
    "    sns.scatterplot(x = temp['position_1'],\n",
    "                    y = temp['position_2'],\n",
    "                    hue = temp['cluster'],\n",
    "                    palette=\"hls\")\n",
    "    plt.axis('off')\n",
    "    plt.title(df_name, fontsize = 20)\n",
    "    plt.savefig(\"position_embedding/shank4/\" + df_name + \".png\")\n",
    "    plt.close()"
   ]
  },
  {
   "cell_type": "code",
   "execution_count": 771,
   "metadata": {},
   "outputs": [],
   "source": [
    "#os.mkdir(\"position_embedding/shank5\")\n",
    "for df_name, df in spike_inf_dict.items():\n",
    "    plt.figure(figsize=(10, 10))\n",
    "    temp = df.sample(n = 10000)\n",
    "    temp = temp[temp['position_2'] < 150]\n",
    "    temp = temp[temp['position_1'] > 350]\n",
    "    temp = temp[temp['cluster'].map(temp['cluster'].value_counts()) >= 20]\n",
    "    \n",
    "    sns.scatterplot(x = temp['position_1'],\n",
    "                    y = temp['position_2'],\n",
    "                    hue = temp['cluster'],\n",
    "                    palette=\"hls\")\n",
    "    plt.axis('off')\n",
    "    plt.title(df_name, fontsize = 20)\n",
    "    plt.savefig(\"position_embedding/shank5/\" + df_name + \".png\")\n",
    "    plt.close()"
   ]
  }
 ],
 "metadata": {
  "kernelspec": {
   "display_name": "spike_sorting_jct",
   "language": "python",
   "name": "python3"
  },
  "language_info": {
   "codemirror_mode": {
    "name": "ipython",
    "version": 3
   },
   "file_extension": ".py",
   "mimetype": "text/x-python",
   "name": "python",
   "nbconvert_exporter": "python",
   "pygments_lexer": "ipython3",
   "version": "3.10.16"
  }
 },
 "nbformat": 4,
 "nbformat_minor": 2
}
