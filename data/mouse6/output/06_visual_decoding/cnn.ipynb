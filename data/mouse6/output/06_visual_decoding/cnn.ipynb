{
 "cells": [
  {
   "cell_type": "code",
   "execution_count": 16,
   "metadata": {},
   "outputs": [],
   "source": [
    "import pandas as pd\n",
    "import numpy as np\n",
    "import matplotlib.pyplot as plt\n",
    "import seaborn as sns\n",
    "import scipy.cluster.hierarchy as sch\n",
    "from scipy.cluster.hierarchy import linkage, fcluster\n",
    "from matplotlib.backends.backend_pdf import PdfPages"
   ]
  },
  {
   "cell_type": "code",
   "execution_count": 2,
   "metadata": {},
   "outputs": [],
   "source": [
    "image_features = pd.read_csv('/media/ubuntu/sda/data/mouse6/output/06_visual_decoding/image_feature.csv', index_col=0)"
   ]
  },
  {
   "cell_type": "code",
   "execution_count": 17,
   "metadata": {},
   "outputs": [],
   "source": [
    "\n",
    "distance_matrix = sch.distance.pdist(image_features, metric='euclidean')\n",
    "\n",
    "Z = sch.linkage(distance_matrix, method='ward')\n",
    "\n",
    "with PdfPages(\"Hierarchical_cluster_image.pdf\") as pdf:\n",
    "    plt.figure(figsize=(10, 7))\n",
    "    dendrogram = sch.dendrogram(Z, labels=image_features.index)\n",
    "    plt.title('Hierarchical Clustering Dendrogram')\n",
    "    plt.xlabel('Sample index')\n",
    "    plt.ylabel('Distance')\n",
    "    pdf.savefig()\n",
    "    plt.close()"
   ]
  },
  {
   "cell_type": "code",
   "execution_count": 32,
   "metadata": {},
   "outputs": [],
   "source": [
    "labels = fcluster(Z, t=3, criterion='distance')\n",
    "cluster_result = pd.DataFrame({\n",
    "    'Sample': image_features.index, \n",
    "    '2_cluster': fcluster(Z, t=3, criterion='distance'),\n",
    "    '4_cluster': fcluster(Z, t=1.87, criterion='distance'),\n",
    "    '10_cluster': fcluster(Z, t=1.45, criterion='distance'),\n",
    "})"
   ]
  },
  {
   "cell_type": "code",
   "execution_count": 34,
   "metadata": {},
   "outputs": [],
   "source": [
    "cluster_result.to_csv('image_cluster.csv', index=False)"
   ]
  }
 ],
 "metadata": {
  "kernelspec": {
   "display_name": "Python 3",
   "language": "python",
   "name": "python3"
  },
  "language_info": {
   "codemirror_mode": {
    "name": "ipython",
    "version": 3
   },
   "file_extension": ".py",
   "mimetype": "text/x-python",
   "name": "python",
   "nbconvert_exporter": "python",
   "pygments_lexer": "ipython3",
   "version": "3.10.0"
  }
 },
 "nbformat": 4,
 "nbformat_minor": 2
}
