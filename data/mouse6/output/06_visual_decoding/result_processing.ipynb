{
 "cells": [
  {
   "cell_type": "code",
   "execution_count": null,
   "metadata": {},
   "outputs": [],
   "source": [
    "epochs = sorted({item['epoch'] for sublist in result_list.values() for item in sublist})  # 提取所有唯一的 epoch\n",
    "index = list(result_list.keys())  # 文件名作为行索引\n",
    "\n",
    "df_test_loss = pd.DataFrame(index=index, columns=epochs)\n",
    "df_test_accuracy = pd.DataFrame(index=index, columns=epochs)\n",
    "df_top5_acc = pd.DataFrame(index=index, columns=epochs)\n",
    "\n",
    "# 填充 DataFrame\n",
    "for file_name, results in result_list.items():\n",
    "    for epoch_data in results:\n",
    "        epoch = epoch_data['epoch']\n",
    "        df_test_loss.at[file_name, epoch] = epoch_data['test_loss']\n",
    "        df_test_accuracy.at[file_name, epoch] = epoch_data['test_accuracy']\n",
    "        df_top5_acc.at[file_name, epoch] = epoch_data['top5_acc']"
   ]
  }
 ],
 "metadata": {
  "kernelspec": {
   "display_name": "Python 3",
   "language": "python",
   "name": "python3"
  },
  "language_info": {
   "name": "python",
   "version": "3.10.16"
  }
 },
 "nbformat": 4,
 "nbformat_minor": 2
}
