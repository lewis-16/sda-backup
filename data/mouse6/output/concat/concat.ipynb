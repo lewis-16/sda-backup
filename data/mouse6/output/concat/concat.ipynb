{
 "cells": [
  {
   "cell_type": "code",
   "execution_count": 1,
   "metadata": {},
   "outputs": [
    {
     "name": "stderr",
     "output_type": "stream",
     "text": [
      "/home/ubuntu/.conda/envs/spike_sorting_jct/lib/python3.10/site-packages/tqdm/auto.py:21: TqdmWarning: IProgress not found. Please update jupyter and ipywidgets. See https://ipywidgets.readthedocs.io/en/stable/user_install.html\n",
      "  from .autonotebook import tqdm as notebook_tqdm\n"
     ]
    }
   ],
   "source": [
    "import sys\n",
    "import spikeinterface as si\n",
    "import matplotlib.pyplot as plt\n",
    "import spikeinterface.extractors as se\n",
    "import spikeinterface.preprocessing as spre\n",
    "import spikeinterface.sorters as ss\n",
    "import spikeinterface.widgets as sw\n",
    "import spikeinterface.qualitymetrics as sqm\n",
    "import json\n",
    "import probeinterface\n",
    "\n",
    "from probeinterface import Probe, ProbeGroup\n",
    "from probeinterface.plotting import plot_probe, plot_probegroup\n",
    "from probeinterface import generate_dummy_probe, generate_linear_probe\n",
    "from probeinterface import write_probeinterface, read_probeinterface\n",
    "from probeinterface import write_prb, read_prb\n",
    "import os\n",
    "\n",
    "global_job_kwargs = dict(n_jobs=6, chunk_duration=\"1s\")\n",
    "si.set_global_job_kwargs(**global_job_kwargs)"
   ]
  },
  {
   "cell_type": "code",
   "execution_count": 2,
   "metadata": {},
   "outputs": [],
   "source": [
    "data_dir = os.listdir(\"/media/ubuntu/sda/data/mouse6/ns4/natural_image\")"
   ]
  },
  {
   "cell_type": "code",
   "execution_count": 3,
   "metadata": {},
   "outputs": [],
   "source": [
    "recording_raw = {}\n",
    "for i in range(len(data_dir)):\n",
    "    recording_raw[i] = se.read_blackrock(file_path=f'/media/ubuntu/sda/data/mouse6/ns4/natural_image/{data_dir[i]}')"
   ]
  },
  {
   "cell_type": "code",
   "execution_count": 7,
   "metadata": {},
   "outputs": [],
   "source": [
    "recording_grating = {}\n",
    "grating_dir = os.listdir(\"/media/ubuntu/sda/data/mouse6/ns4/grating\")\n",
    "for i in range(len(grating_dir)):\n",
    "    recording_grating[i] = se.read_blackrock(file_path=f'/media/ubuntu/sda/data/mouse6/ns4/grating/{grating_dir[i]}')"
   ]
  },
  {
   "cell_type": "code",
   "execution_count": 9,
   "metadata": {},
   "outputs": [],
   "source": [
    "recording_concatenated = si.concatenate_recordings([recording_raw[0], recording_raw[1], recording_raw[2], recording_raw[3],\n",
    "                                            recording_raw[4], recording_raw[5], recording_raw[6], recording_raw[7],\n",
    "                                            recording_raw[8], recording_raw[9], recording_raw[10], recording_raw[11],\n",
    "                                            recording_raw[12], recording_raw[13], recording_raw[14], recording_raw[15],\n",
    "                                            recording_grating[0], recording_grating[1], recording_grating[2], recording_grating[3],\n",
    "                                            recording_grating[4], recording_grating[5], recording_grating[6], recording_grating[7],\n",
    "                                            recording_grating[8], recording_grating[9], recording_grating[10], recording_grating[11],\n",
    "                                            recording_grating[12], recording_grating[13]])"
   ]
  },
  {
   "cell_type": "code",
   "execution_count": 10,
   "metadata": {},
   "outputs": [],
   "source": [
    "output_folder = '/media/ubuntu/sda/data/mouse6/output/concat/grating_natural_image'"
   ]
  },
  {
   "cell_type": "code",
   "execution_count": null,
   "metadata": {},
   "outputs": [
    {
     "name": "stdout",
     "output_type": "stream",
     "text": [
      "BandpassFilterRecording: 30 channels - 10000.0Hz - 1 segments - 787,652,701 samples \n",
      "                         78,765.27s (21.88 hours) - int16 dtype - 44.01 GiB\n",
      "CommonReferenceRecording: 30 channels - 10000.0Hz - 1 segments - 787,652,701 samples \n",
      "                          78,765.27s (21.88 hours) - int16 dtype - 44.01 GiB\n",
      "Use cache_folder=/tmp/spikeinterface_cache/tmpp_wef4ve/078NLN8K\n",
      "write_binary_recording \n",
      "n_jobs=6 - samples_per_chunk=10,000 - chunk_memory=585.94 KiB - total_memory=3.43 MiB - chunk_duration=1.00s\n"
     ]
    },
    {
     "name": "stderr",
     "output_type": "stream",
     "text": [
      "write_binary_recording: 100%|██████████| 78766/78766 [06:35<00:00, 199.35it/s]\n",
      "/tmp/ipykernel_2392644/1191846257.py:16: DeprecationWarning: `output_folder` is deprecated and will be removed in version 0.103.0 Please use folder instead\n",
      "  sorting_kilosort4 = ss.run_sorter(sorter_name=\"kilosort4\", recording=recording_preprocessed, output_folder=output_folder + \"/kilosort4\")\n"
     ]
    },
    {
     "name": "stdout",
     "output_type": "stream",
     "text": [
      "BinaryFolderRecording: 30 channels - 10000.0Hz - 1 segments - 787,652,701 samples \n",
      "                       78,765.27s (21.88 hours) - int16 dtype - 44.01 GiB\n"
     ]
    },
    {
     "name": "stderr",
     "output_type": "stream",
     "text": [
      "100%|██████████| 13128/13128 [5:19:35<00:00,  1.46s/it]  \n",
      "100%|██████████| 13128/13128 [5:23:12<00:00,  1.48s/it]  \n",
      "100%|██████████| 6/6 [8:10:26<00:00, 4904.34s/it]   \n",
      "100%|██████████| 13128/13128 [2:05:43<00:00,  1.74it/s] \n",
      " 67%|██████▋   | 4/6 [10:11:07<3:58:15, 7147.74s/it] "
     ]
    }
   ],
   "source": [
    "recording_recorded = recording_concatenated.remove_channels([\"98\", '31', '32'])\n",
    "\n",
    "probe_30channel = read_probeinterface(\"/media/ubuntu/sda/data/probe.json\")\n",
    "recording_recorded = recording_recorded.set_probegroup(probe_30channel)\n",
    "\n",
    "recording_cmr = recording_recorded\n",
    "recording_f = spre.bandpass_filter(recording_recorded, freq_min=300, freq_max=3000)\n",
    "print(recording_f)\n",
    "recording_cmr = spre.common_reference(recording_f, reference=\"global\", operator=\"median\")\n",
    "print(recording_cmr)\n",
    "\n",
    "# this computes and saves the recording after applying the preprocessing chain\n",
    "recording_preprocessed = recording_cmr.save(format=\"binary\")\n",
    "print(recording_preprocessed)\n",
    "\n",
    "sorting_kilosort4 = ss.run_sorter(sorter_name=\"kilosort4\", recording=recording_preprocessed, output_folder=output_folder + \"/kilosort4\")\n",
    "analyzer_kilosort4 = si.create_sorting_analyzer(sorting=sorting_kilosort4, recording=recording_preprocessed, format='binary_folder', folder=output_folder + '/analyzer_kilosort4_binary')\n",
    "\n",
    "extensions_to_compute = [\n",
    "    \"random_spikes\",\n",
    "    \"waveforms\",\n",
    "    \"noise_levels\",\n",
    "    \"templates\",\n",
    "    \"spike_amplitudes\",\n",
    "    \"unit_locations\",\n",
    "    \"spike_locations\",\n",
    "    \"correlograms\",\n",
    "    \"template_similarity\"\n",
    "]\n",
    "\n",
    "extension_params = {\n",
    "    \"unit_locations\": {\"method\": \"center_of_mass\"},\n",
    "    \"spike_locations\": {\"ms_before\": 0.1},\n",
    "    \"correlograms\": {\"bin_ms\": 0.1},\n",
    "    \"template_similarity\": {\"method\": \"cosine_similarity\"}\n",
    "}\n",
    "\n",
    "analyzer_kilosort4.compute(extensions_to_compute, extension_params=extension_params)\n",
    "\n",
    "qm_params = sqm.get_default_qm_params()\n",
    "analyzer_kilosort4.compute(\"quality_metrics\", qm_params)\n",
    "\n",
    "        "
   ]
  }
 ],
 "metadata": {
  "kernelspec": {
   "display_name": "Python 3",
   "language": "python",
   "name": "python3"
  },
  "language_info": {
   "codemirror_mode": {
    "name": "ipython",
    "version": 3
   },
   "file_extension": ".py",
   "mimetype": "text/x-python",
   "name": "python",
   "nbconvert_exporter": "python",
   "pygments_lexer": "ipython3",
   "version": "3.10.16"
  }
 },
 "nbformat": 4,
 "nbformat_minor": 2
}
