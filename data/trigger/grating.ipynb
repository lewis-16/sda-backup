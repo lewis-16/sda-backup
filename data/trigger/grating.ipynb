{
 "cells": [
  {
   "cell_type": "code",
   "execution_count": 2,
   "metadata": {},
   "outputs": [
    {
     "name": "stdout",
     "output_type": "stream",
     "text": [
      "图像生成完成！\n"
     ]
    }
   ],
   "source": [
    "import numpy as np\n",
    "import cv2\n",
    "import math\n",
    "\n",
    "# 动态光栅参数\n",
    "flipSecs_image_dynamic = 2\n",
    "flipSecs_gap_dynamic = 4\n",
    "contrast1 = 1\n",
    "spatial_f_dynamic = 0.04\n",
    "temporal_f = [2]\n",
    "angle_dynamic = [0, 30, 60, 90, 120, 150, 180, 210, 240, 270, 300, 330]\n",
    "repeats_dynamic = 15\n",
    "\n",
    "# 静态光栅参数\n",
    "repeats_static = 15\n",
    "flipSecs_image_static = 1\n",
    "flipSecs_gap_static = 1\n",
    "spatial_f_static = [0.04, 0.08, 0.16]\n",
    "angle_static = [0, 30, 60, 90, 120, 150]\n",
    "\n",
    "# 图像尺寸\n",
    "height = 480\n",
    "width = 640\n",
    "\n",
    "# 生成动态光栅\n",
    "def generate_dynamic_grating():\n",
    "    dynamic_images = []\n",
    "    for temporal_idx in range(len(temporal_f)):\n",
    "        for angle_idx in range(len(angle_dynamic)):\n",
    "            angle = angle_dynamic[angle_idx]\n",
    "            omega = 2 * math.pi * temporal_f[temporal_idx]\n",
    "            phase = 0\n",
    "            for t in range(flipSecs_image_dynamic * temporal_f[temporal_idx]):\n",
    "                image = np.zeros((height, width), dtype=np.uint8)\n",
    "                for y in range(height):\n",
    "                    for x in range(width):\n",
    "                        # 计算光栅的强度\n",
    "                        intensity = contrast1 * math.sin(2 * math.pi * spatial_f_dynamic * (x * math.cos(math.radians(angle)) + y * math.sin(math.radians(angle))) - omega * t + phase)\n",
    "                        image[y, x] = int((intensity + 1) * 127.5)\n",
    "                dynamic_images.append(image)\n",
    "    return dynamic_images\n",
    "\n",
    "# 生成静态光栅\n",
    "def generate_static_grating():\n",
    "    static_images = []\n",
    "    for spatial_idx in range(len(spatial_f_static)):\n",
    "        for angle_idx in range(len(angle_static)):\n",
    "            angle = angle_static[angle_idx]\n",
    "            spatial_f = spatial_f_static[spatial_idx]\n",
    "            image = np.zeros((height, width), dtype=np.uint8)\n",
    "            for y in range(height):\n",
    "                for x in range(width):\n",
    "                    # 计算光栅的强度\n",
    "                    intensity = contrast1 * math.sin(2 * math.pi * spatial_f * (x * math.cos(math.radians(angle)) + y * math.sin(math.radians(angle))))\n",
    "                    image[y, x] = int((intensity + 1) * 127.5)\n",
    "            static_images.append(image)\n",
    "    return static_images\n",
    "\n",
    "# 保存图像\n",
    "dynamic_images = generate_dynamic_grating()\n",
    "static_images = generate_static_grating()\n",
    "\n",
    "# 保存动态光栅图像\n",
    "for i in range(len(dynamic_images)):\n",
    "    cv2.imwrite(f'dynamic_grating_{i}.png', dynamic_images[i])\n",
    "\n",
    "# 保存静态光栅图像\n",
    "for i in range(len(static_images)):\n",
    "    cv2.imwrite(f'static_grating_{i}.png', static_images[i])\n",
    "\n",
    "print(\"图像生成完成！\")"
   ]
  }
 ],
 "metadata": {
  "kernelspec": {
   "display_name": "Python 3",
   "language": "python",
   "name": "python3"
  },
  "language_info": {
   "codemirror_mode": {
    "name": "ipython",
    "version": 3
   },
   "file_extension": ".py",
   "mimetype": "text/x-python",
   "name": "python",
   "nbconvert_exporter": "python",
   "pygments_lexer": "ipython3",
   "version": "3.10.16"
  }
 },
 "nbformat": 4,
 "nbformat_minor": 2
}
