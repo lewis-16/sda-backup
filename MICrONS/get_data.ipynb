{
 "cells": [
  {
   "cell_type": "code",
   "execution_count": 1,
   "id": "19d19f7e",
   "metadata": {},
   "outputs": [],
   "source": [
    "from matplotlib import pyplot as plt\n",
    "import xarray as xr\n",
    "from matplotlib import animation\n",
    "import numpy as np\n",
    "from IPython.display import HTML\n",
    "\n",
    "ds = xr.open_dataset(\n",
    "    \"./function.nc\",  # path to the netCDF file\n",
    "    engine=\"netcdf4\",\n",
    ")  # netCDF4 file format is implemented on top of HDF5, so function.nc is also readable by any HDF5 client"
   ]
  },
  {
   "cell_type": "code",
   "execution_count": 2,
   "id": "5e627358",
   "metadata": {},
   "outputs": [],
   "source": [
    "response = ds['natural_response'].values"
   ]
  },
  {
   "cell_type": "code",
   "execution_count": null,
   "id": "48ac22fe",
   "metadata": {},
   "outputs": [],
   "source": [
    "# from sklearn.decomposition import PCA\n",
    "# import pandas as pd\n",
    "# pca = PCA(n_components=100)\n",
    "# response_pca = pca.fit_transform(response.T)\n",
    "# response_pca = pd.DataFrame(response_pca)\n",
    "# response_pca.to_csv('response_pca.csv', index=False)"
   ]
  },
  {
   "cell_type": "code",
   "execution_count": 8,
   "id": "997a97ba",
   "metadata": {},
   "outputs": [
    {
     "data": {
      "text/plain": [
       "array([   1,    3,    4, ..., 5497, 5498, 5499], shape=(104171,))"
      ]
     },
     "execution_count": 8,
     "metadata": {},
     "output_type": "execute_result"
    }
   ],
   "source": [
    "ds[\"unit_id\"].to_numpy()"
   ]
  }
 ],
 "metadata": {
  "kernelspec": {
   "display_name": "MICrONS",
   "language": "python",
   "name": "python3"
  },
  "language_info": {
   "codemirror_mode": {
    "name": "ipython",
    "version": 3
   },
   "file_extension": ".py",
   "mimetype": "text/x-python",
   "name": "python",
   "nbconvert_exporter": "python",
   "pygments_lexer": "ipython3",
   "version": "3.13.5"
  }
 },
 "nbformat": 4,
 "nbformat_minor": 5
}
