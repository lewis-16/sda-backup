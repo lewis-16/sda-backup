{
 "cells": [
  {
   "cell_type": "code",
   "execution_count": 3,
   "metadata": {},
   "outputs": [],
   "source": [
    "import sys\n",
    "import spikeinterface as si\n",
    "import matplotlib.pyplot as plt\n",
    "import spikeinterface.extractors as se\n",
    "import spikeinterface.preprocessing as spre\n",
    "import spikeinterface.sorters as ss\n",
    "import spikeinterface.widgets as sw\n",
    "import spikeinterface.qualitymetrics as sqm\n",
    "import json\n",
    "import probeinterface\n",
    "\n",
    "from probeinterface import Probe, ProbeGroup\n",
    "\n",
    "import os\n",
    "import numpy as np\n",
    "from spikeinterface.core import concatenate_recordings\n",
    "\n",
    "import warnings\n",
    "warnings.filterwarnings('ignore')\n",
    "import pandas as pd\n",
    "from matplotlib.backends.backend_pdf import PdfPages\n",
    "import seaborn as sns\n",
    "\n",
    "from sklearn.decomposition import PCA\n",
    "from sklearn.cluster import KMeans\n",
    "from scipy.stats import pearsonr\n",
    "import pandas as pd\n",
    "import numpy as np\n",
    "from matplotlib.collections import LineCollection\n"
   ]
  },
  {
   "cell_type": "code",
   "execution_count": 7,
   "metadata": {},
   "outputs": [
    {
     "data": {
      "text/plain": [
       "'0912_250912_151403气麻撤后后10分钟（能够走动）.rhs'"
      ]
     },
     "execution_count": 7,
     "metadata": {},
     "output_type": "execute_result"
    }
   ],
   "source": [
    "file"
   ]
  },
  {
   "cell_type": "code",
   "execution_count": 8,
   "metadata": {},
   "outputs": [
    {
     "data": {
      "text/plain": [
       "[IntanRecordingExtractor: 16 channels - 30.0kHz - 1 segments - 18,000,000 samples \n",
       "                          600.00s (10.00 minutes) - uint16 dtype - 549.32 MiB\n",
       "   file_path: /media/ubuntu/sda/cen/0912-麻醉觉醒PF记录/0912_250912_145403-气麻撤后30分钟记录/0912_250912_145403-气麻撤后前10分钟.rhs,\n",
       " IntanRecordingExtractor: 16 channels - 30.0kHz - 1 segments - 18,000,000 samples \n",
       "                          600.00s (10.00 minutes) - uint16 dtype - 549.32 MiB\n",
       "   file_path: /media/ubuntu/sda/cen/0912-麻醉觉醒PF记录/0912_250912_145403-气麻撤后30分钟记录/0912_250912_150403气麻撤后中间10分钟.rhs]"
      ]
     },
     "execution_count": 8,
     "metadata": {},
     "output_type": "execute_result"
    }
   ],
   "source": [
    "recording_raw_list"
   ]
  },
  {
   "cell_type": "code",
   "execution_count": 13,
   "metadata": {},
   "outputs": [],
   "source": [
    "\n",
    "file_list = os.listdir(f\"/media/ubuntu/sda/cen/0912-麻醉觉醒PF记录/0912_250912_145403-气麻撤后30分钟记录\")\n",
    "file_list.remove(\"settings.xml\")\n",
    "recording_raw_list = []\n",
    "for file in file_list:\n",
    "    recording_raw_list.append(se.read_intan(f\"/media/ubuntu/sda/cen/0912-麻醉觉醒PF记录/0912_250912_145403-气麻撤后30分钟记录/{file}\", stream_id= '0'))\n",
    "recording_raw = concatenate_recordings(recording_list=recording_raw_list)\n",
    "recording_raw = spre.unsigned_to_signed(recording_raw)\n",
    "recording_recorded = recording_raw.remove_channels(['A-001', 'A-003', 'A-005', 'A-007', 'A-009', 'A-011', 'A-013', 'A-015'])\n",
    "recording_recorded = spre.bandpass_filter(recording_recorded, freq_min=300, freq_max=3000)\n",
    "recording_recorded = spre.notch_filter(recording_recorded, freq=50)\n",
    "recording_f = spre.common_reference(recording_recorded, reference=\"global\", operator=\"median\")"
   ]
  },
  {
   "cell_type": "code",
   "execution_count": 14,
   "metadata": {},
   "outputs": [],
   "source": [
    "from probeinterface import write_probeinterface, read_probeinterface\n",
    "\n",
    "probe_30channel = read_probeinterface('./probe.json')\n",
    "probe_30channel.set_global_device_channel_indices([i for i in range(8)])\n",
    "recording_recorded = recording_f.set_probegroup(probe_30channel)"
   ]
  },
  {
   "cell_type": "code",
   "execution_count": 15,
   "metadata": {},
   "outputs": [
    {
     "name": "stdout",
     "output_type": "stream",
     "text": [
      "Use cache_folder=/tmp/spikeinterface_cache/tmpdvte61la/G9H16WH8\n",
      "write_binary_recording \n",
      "engine=process - n_jobs=1 - samples_per_chunk=30,000 - chunk_memory=468.75 KiB - total_memory=468.75 KiB - chunk_duration=1.00s\n"
     ]
    },
    {
     "name": "stderr",
     "output_type": "stream",
     "text": [
      "write_binary_recording (no parallelization): 100%|██████████| 1801/1801 [00:13<00:00, 134.22it/s]\n"
     ]
    },
    {
     "name": "stdout",
     "output_type": "stream",
     "text": [
      "BinaryFolderRecording: 8 channels - 30.0kHz - 1 segments - 54,017,792 samples \n",
      "                       1,800.59s (30.01 minutes) - int16 dtype - 824.25 MiB\n"
     ]
    },
    {
     "name": "stderr",
     "output_type": "stream",
     "text": [
      "100%|██████████| 901/901 [00:04<00:00, 192.21it/s]\n",
      "100%|██████████| 901/901 [00:04<00:00, 191.60it/s]\n",
      "100%|██████████| 2/2 [00:22<00:00, 11.31s/it]\n",
      "100%|██████████| 901/901 [00:04<00:00, 205.78it/s]\n",
      "100%|██████████| 2/2 [00:20<00:00, 10.15s/it]\n",
      "estimate_sparsity (no parallelization): 100%|██████████| 1801/1801 [00:00<00:00, 161910.65it/s]\n",
      "compute_waveforms (no parallelization): 100%|██████████| 1801/1801 [00:18<00:00, 95.03it/s] \n",
      "noise_level (no parallelization): 100%|██████████| 20/20 [00:00<00:00, 439.73it/s]\n",
      "Compute : spike_amplitudes + spike_locations (no parallelization): 100%|██████████| 1801/1801 [00:00<00:00, 1900.85it/s]\n",
      "noise_level (no parallelization): 100%|██████████| 20/20 [00:00<00:00, 2171.86it/s]\n",
      "write_binary_recording (no parallelization): 100%|██████████| 1801/1801 [01:00<00:00, 29.59it/s]\n",
      "Fitting PCA: 100%|██████████| 19/19 [00:03<00:00,  6.02it/s]\n",
      "Projecting waveforms: 100%|██████████| 19/19 [00:00<00:00, 5384.22it/s]\n",
      "extract PCs (no parallelization): 100%|██████████| 1801/1801 [00:11<00:00, 158.11it/s]"
     ]
    },
    {
     "name": "stdout",
     "output_type": "stream",
     "text": [
      "Run:\n",
      "phy template-gui  /media/ubuntu/sda/cen/sorted_results/0912_250912_145403-气麻撤后30分钟记录/phy_folder_for_kilosort/params.py\n"
     ]
    },
    {
     "name": "stderr",
     "output_type": "stream",
     "text": [
      "\n"
     ]
    }
   ],
   "source": [
    "output_folder = '/media/ubuntu/sda/cen/sorted_results/0912_250912_145403-气麻撤后30分钟记录'\n",
    "recording_preprocessed = recording_recorded.save(format=\"binary\")\n",
    "print(recording_preprocessed)\n",
    "sorting_kilosort4 = ss.run_sorter(sorter_name=\"kilosort4\", recording=recording_preprocessed, folder=output_folder + \"/kilosort4\")\n",
    "analyzer_kilosort4 = si.create_sorting_analyzer(sorting=sorting_kilosort4, recording=recording_preprocessed, format='binary_folder', folder=output_folder + '/analyzer_kilosort4_binary')\n",
    "\n",
    "extensions_to_compute = [\n",
    "            \"random_spikes\",\n",
    "            \"waveforms\",\n",
    "            \"noise_levels\",\n",
    "            \"templates\",\n",
    "            \"spike_amplitudes\",\n",
    "            \"unit_locations\",\n",
    "            \"spike_locations\",\n",
    "            \"correlograms\",\n",
    "            \"template_similarity\"\n",
    "        ]\n",
    "\n",
    "extension_params = {\n",
    "    \"unit_locations\": {\"method\": \"center_of_mass\"},\n",
    "    \"spike_locations\": {\"ms_before\": 0.1},\n",
    "    \"correlograms\": {\"bin_ms\": 0.1},\n",
    "    \"template_similarity\": {\"method\": \"cosine_similarity\"}\n",
    "}\n",
    "\n",
    "analyzer_kilosort4.compute(extensions_to_compute, extension_params=extension_params)\n",
    "\n",
    "qm_params = sqm.get_default_qm_params()\n",
    "analyzer_kilosort4.compute(\"quality_metrics\", qm_params)\n",
    "\n",
    "import spikeinterface.exporters as sexp\n",
    "sexp.export_to_phy(analyzer_kilosort4, output_folder + \"/phy_folder_for_kilosort\", verbose=True)"
   ]
  }
 ],
 "metadata": {
  "kernelspec": {
   "display_name": "spike_sorting",
   "language": "python",
   "name": "python3"
  },
  "language_info": {
   "codemirror_mode": {
    "name": "ipython",
    "version": 3
   },
   "file_extension": ".py",
   "mimetype": "text/x-python",
   "name": "python",
   "nbconvert_exporter": "python",
   "pygments_lexer": "ipython3",
   "version": "3.11.13"
  }
 },
 "nbformat": 4,
 "nbformat_minor": 2
}
