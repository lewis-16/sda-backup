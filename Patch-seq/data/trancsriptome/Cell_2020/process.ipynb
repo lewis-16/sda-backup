{
 "cells": [
  {
   "cell_type": "code",
   "execution_count": 1,
   "metadata": {},
   "outputs": [],
   "source": [
    "import scanpy as sc\n",
    "import anndata as ad\n",
    "import pooch\n",
    "import pandas as pd\n",
    "import numpy as np\n",
    "import matplotlib.pyplot as plt\n",
    "import seaborn as sns\n",
    "import warnings\n",
    "warnings.filterwarnings('ignore')\n"
   ]
  },
  {
   "cell_type": "code",
   "execution_count": 2,
   "metadata": {},
   "outputs": [],
   "source": [
    "sc.set_figure_params(dpi=1000, facecolor='white')"
   ]
  },
  {
   "cell_type": "code",
   "execution_count": 3,
   "metadata": {},
   "outputs": [],
   "source": [
    "count = pd.read_csv(\"/media/ubuntu/sda/Patch-seq/data/trancsriptome/Cell_2020/processed/raw_counts_4270.csv\", index_col= 0)\n",
    "metadata = pd.read_csv(\"/media/ubuntu/sda/Patch-seq/data/trancsriptome/Cell_2020/processed/metadata_4270.csv\", index_col=0)"
   ]
  },
  {
   "cell_type": "code",
   "execution_count": 5,
   "metadata": {},
   "outputs": [],
   "source": [
    "metadata.index = metadata['transcriptomics_sample_id']"
   ]
  },
  {
   "cell_type": "code",
   "execution_count": 6,
   "metadata": {},
   "outputs": [],
   "source": [
    "data = sc.AnnData(X=count.T)\n",
    "data.obs = metadata.copy()\n",
    "data.var_names = count.index"
   ]
  },
  {
   "cell_type": "code",
   "execution_count": 7,
   "metadata": {},
   "outputs": [],
   "source": [
    "del count"
   ]
  },
  {
   "cell_type": "code",
   "execution_count": 8,
   "metadata": {},
   "outputs": [],
   "source": [
    "sc.pp.normalize_total(data, target_sum=1e6)\n",
    "sc.pp.log1p(data)\n",
    "sc.pp.highly_variable_genes(\n",
    "    data,\n",
    "    flavor='seurat_v3',  \n",
    "    n_top_genes=2000,     \n",
    "    subset=True          \n",
    ")"
   ]
  },
  {
   "cell_type": "code",
   "execution_count": 9,
   "metadata": {},
   "outputs": [
    {
     "data": {
      "text/plain": [
       "<bound method AnnData.obs_keys of AnnData object with n_obs × n_vars = 4270 × 2000\n",
       "    obs: 'project', 'cell_specimen_id', 'cell_specimen_name', 'hemisphere', 'structure', 'donor_id', 'donor_name', 'biological_sex', 'age', 'ethnicity', 'medical_conditions', 'full_genotype', 'dendrite_type', 'apical_dendrite_status', 'neuron_reconstruction_type', 'cell_soma_normalized_depth', 'depth_from_pia_um', 'ephys_session_id', 'transcriptomics_sample_id', 'transcriptomics_batch', 'corresponding_AIT2.3.1_ID', 'corresponding_AIT2.3.1_alias'\n",
       "    var: 'highly_variable', 'highly_variable_rank', 'means', 'variances', 'variances_norm'\n",
       "    uns: 'log1p', 'hvg'>"
      ]
     },
     "execution_count": 9,
     "metadata": {},
     "output_type": "execute_result"
    }
   ],
   "source": [
    "data.obs_keys"
   ]
  },
  {
   "cell_type": "code",
   "execution_count": 10,
   "metadata": {},
   "outputs": [],
   "source": [
    "#data = data[data.obs['class'] == 'GABAergic']\n",
    "data = data[~data.obs['corresponding_AIT2.3.1_alias'].isin([\"L2/3 IT VISp Agmat\", 'Meis2 Adamts19'])]"
   ]
  },
  {
   "cell_type": "code",
   "execution_count": 11,
   "metadata": {},
   "outputs": [],
   "source": [
    "sc.tl.pca(data, svd_solver='arpack', n_comps=50)\n",
    "sc.pp.neighbors(data, n_neighbors=15, n_pcs=9)\n",
    "sc.tl.umap(data, min_dist=0.3, spread=1)"
   ]
  },
  {
   "cell_type": "code",
   "execution_count": 42,
   "metadata": {},
   "outputs": [],
   "source": [
    "sc.tl.leiden(data, resolution=0.5)"
   ]
  },
  {
   "cell_type": "code",
   "execution_count": 29,
   "metadata": {},
   "outputs": [],
   "source": [
    "data_filtered = data[data.obs['leiden'] != \"6\"]"
   ]
  },
  {
   "cell_type": "code",
   "execution_count": 12,
   "metadata": {},
   "outputs": [],
   "source": [
    "palette = [\"#532cd8\", \"#da28a1\", \"#675ee5\", \"#d632dc\", \"#4428a7\", \"#9b34ec\", \"#a434bc\", #Lamp5,\n",
    "           \"#376c78\", \"#4f97b1\", \"#3a5166\", \"#5f8fd4\", \"#3a5e95\", \"#868aa6\", # Serpinf1, Sncg\n",
    "           \"#a32621\", \"#751610\", \"#a13e2f\", \"#d6614b\", \"#ce3926\", \"#ec4d21\", \"#a03c14\", \"#ce6c2b\", \"#914a16\", \"#b07625\", # Pvalb\n",
    "           \"#d48746\", \"#8a501a\", \"#6e3901\", \"#de821d\", \"#a36219\", \"#b68f28\", \"#9fa82d\", \"#7e882b\", \"#516615\", \"#638d2f\", \"#78af41\", \"#3e6914\", \"#106003\", \"#106003\", \"#106003\", \"#106003\", \"#317921\", \"#3f9732\", \"#45b639\", \"#2d8346\", \"#3bb06e\", #Sst\n",
    "           \"#757ae8\", \"#464ba1\", \"#4f4471\", \"#6046ce\", \"#6b28dd\", \"#9a7bbd\", \"#7e35a1\", \"#c643e5\", \"#bd6bc2\", \"#7b3578\", \"#8b6a86\", \"#d843ba\", \"#5e4454\", \"#7e2e57\", \"#c26c93\", \"#cc3b87\" #Vip\n",
    "]"
   ]
  },
  {
   "cell_type": "code",
   "execution_count": 17,
   "metadata": {},
   "outputs": [],
   "source": [
    "import pickle\n",
    "with open(\"/media/ubuntu/sda/Patch-seq/data/trancsriptome/Nature_2018/color_map.pkl\", 'rb') as f:\n",
    "    color_map = pickle.load(f)"
   ]
  },
  {
   "cell_type": "code",
   "execution_count": 30,
   "metadata": {},
   "outputs": [],
   "source": [
    "from matplotlib.backends.backend_pdf import PdfPages\n",
    "\n",
    "colors = [color_map[date] for date in data_filtered.obs['corresponding_AIT2.3.1_alias']]\n",
    "\n",
    "with PdfPages('figure/umap_plot.pdf') as pdf:\n",
    "    plt.figure(figsize=(8, 8))\n",
    "    \n",
    "    scatter = sns.scatterplot(x = data_filtered.obsm['X_umap'][:, 0],\n",
    "                    y = data_filtered.obsm['X_umap'][:, 1],\n",
    "                    hue = data_filtered.obs['corresponding_AIT2.3.1_alias'],\n",
    "                    palette=palette,\n",
    "                    linewidth = 0,\n",
    "                    s = 3)\n",
    "    \n",
    "    plt.grid(False)  \n",
    "    plt.xticks([])  \n",
    "    plt.yticks([])   \n",
    "    plt.xlabel('')   \n",
    "    plt.ylabel('')  \n",
    "    plt.tight_layout()\n",
    "\n",
    "    scatter.legend_.remove()  \n",
    "\n",
    "    pdf.savefig(bbox_inches='tight', pad_inches=0) \n",
    "    plt.close()\n",
    "    \n",
    "    plt.figure(figsize=(8, 10))\n",
    "    ax = plt.gca()\n",
    "    sc.pl.umap(\n",
    "        data_filtered,\n",
    "        color='corresponding_AIT2.3.1_alias',\n",
    "        palette=palette,\n",
    "        s=5,                    \n",
    "        alpha=0.8,              \n",
    "        frameon=False,           \n",
    "        show=False,             \n",
    "        ax=ax\n",
    "    )\n",
    "    \n",
    "    plt.tight_layout()\n",
    "    pdf.savefig(bbox_inches='tight')\n",
    "    plt.close()\n",
    "\n",
    "    plt.figure(figsize=(8, 8))\n",
    "    \n",
    "    scatter = sns.scatterplot(x = data_filtered.obsm['X_umap'][:, 0],\n",
    "                    y = data_filtered.obsm['X_umap'][:, 1],\n",
    "                    hue = data_filtered.obs['leiden'],\n",
    "                    palette=palette,\n",
    "                    linewidth = 0,\n",
    "                    s = 3)\n",
    "    \n",
    "    plt.grid(False)  \n",
    "    plt.xticks([])  \n",
    "    plt.yticks([])   \n",
    "    plt.xlabel('')   \n",
    "    plt.ylabel('')  \n",
    "    plt.tight_layout()\n",
    "\n",
    "    scatter.legend_.remove()  \n",
    "\n",
    "    pdf.savefig(bbox_inches='tight', pad_inches=0) \n",
    "    plt.close()"
   ]
  },
  {
   "cell_type": "code",
   "execution_count": 43,
   "metadata": {},
   "outputs": [],
   "source": [
    "data.write('raw_data_cluster.h5ad')\n",
    "data_filtered.write(\"filtered_data_cluster.h5ad\")"
   ]
  }
 ],
 "metadata": {
  "kernelspec": {
   "display_name": "scanpy",
   "language": "python",
   "name": "python3"
  },
  "language_info": {
   "codemirror_mode": {
    "name": "ipython",
    "version": 3
   },
   "file_extension": ".py",
   "mimetype": "text/x-python",
   "name": "python",
   "nbconvert_exporter": "python",
   "pygments_lexer": "ipython3",
   "version": "3.12.11"
  }
 },
 "nbformat": 4,
 "nbformat_minor": 2
}
