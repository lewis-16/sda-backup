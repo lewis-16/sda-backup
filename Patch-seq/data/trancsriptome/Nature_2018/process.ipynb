{
 "cells": [
  {
   "cell_type": "code",
   "execution_count": 93,
   "metadata": {},
   "outputs": [],
   "source": [
    "import scanpy as sc\n",
    "import anndata as ad\n",
    "import pooch\n",
    "import pandas as pd\n",
    "import numpy as np\n",
    "import matplotlib.pyplot as plt\n",
    "import seaborn as sns\n",
    "import warnings\n",
    "warnings.filterwarnings('ignore')\n"
   ]
  },
  {
   "cell_type": "code",
   "execution_count": 65,
   "metadata": {},
   "outputs": [],
   "source": [
    "sc.set_figure_params(dpi=1000, facecolor='white')"
   ]
  },
  {
   "cell_type": "code",
   "execution_count": 42,
   "metadata": {},
   "outputs": [],
   "source": [
    "count = pd.read_csv(\"/media/ubuntu/sda/Patch-seq/data/trancsriptome/Nature_2018/processed/VISp_raw_count.csv\", index_col= 0)\n",
    "metadata = pd.read_csv(\"/media/ubuntu/sda/Patch-seq/data/trancsriptome/Nature_2018/processed/VISp_metadata.csv\", index_col=0)"
   ]
  },
  {
   "cell_type": "code",
   "execution_count": 43,
   "metadata": {},
   "outputs": [],
   "source": [
    "gene_rows = pd.read_csv(\"/media/ubuntu/sda/Patch-seq/data/trancsriptome/Nature_2018/mouse_ALM_2018-06-14_genes-rows.csv\")"
   ]
  },
  {
   "cell_type": "code",
   "execution_count": 44,
   "metadata": {},
   "outputs": [],
   "source": [
    "id_to_symbol = gene_rows.set_index('gene_entrez_id')['gene_symbol'].to_dict()\n",
    "count.index = count.index.map(id_to_symbol)"
   ]
  },
  {
   "cell_type": "code",
   "execution_count": 45,
   "metadata": {},
   "outputs": [],
   "source": [
    "metadata.index = metadata['sample_name']"
   ]
  },
  {
   "cell_type": "code",
   "execution_count": 46,
   "metadata": {},
   "outputs": [],
   "source": [
    "data = sc.AnnData(X=count.T)\n",
    "data.obs = metadata.copy()\n",
    "data.var_names = count.index"
   ]
  },
  {
   "cell_type": "code",
   "execution_count": 47,
   "metadata": {},
   "outputs": [],
   "source": [
    "del count"
   ]
  },
  {
   "cell_type": "code",
   "execution_count": 48,
   "metadata": {},
   "outputs": [
    {
     "name": "stderr",
     "output_type": "stream",
     "text": [
      "/home/ubuntu/.conda/envs/scanpy/lib/python3.12/site-packages/legacy_api_wrap/__init__.py:82: UserWarning: `flavor='seurat_v3'` expects raw count data, but non-integers were found.\n",
      "  return fn(*args_all, **kw)\n"
     ]
    }
   ],
   "source": [
    "sc.pp.normalize_total(data, target_sum=1e6)\n",
    "sc.pp.log1p(data)\n",
    "sc.pp.highly_variable_genes(\n",
    "    data,\n",
    "    flavor='seurat_v3',  \n",
    "    n_top_genes=2000,     \n",
    "    subset=True          \n",
    ")"
   ]
  },
  {
   "cell_type": "code",
   "execution_count": 49,
   "metadata": {},
   "outputs": [],
   "source": [
    "data = data[data.obs['class'] == 'GABAergic']\n",
    "data = data[~data.obs['cluster'].isin([\"L2/3 IT VISp Agmat\", 'Meis2 Adamts19'])]"
   ]
  },
  {
   "cell_type": "code",
   "execution_count": 57,
   "metadata": {},
   "outputs": [],
   "source": [
    "sc.tl.pca(data, svd_solver='arpack', n_comps=50)\n",
    "sc.pp.neighbors(data, n_neighbors=15, n_pcs=9)\n",
    "sc.tl.umap(data, min_dist=0.3, spread=1)"
   ]
  },
  {
   "cell_type": "code",
   "execution_count": 51,
   "metadata": {},
   "outputs": [],
   "source": [
    "palette = [\"#532cd8\", \"#da28a1\", \"#675ee5\", \"#d632dc\", \"#4428a7\", \"#9b34ec\", \"#a434bc\", #Lamp5,\n",
    "           \"#376c78\", \"#4f97b1\", \"#3a5166\", \"#5f8fd4\", \"#3a5e95\", \"#868aa6\", # Serpinf1, Sncg\n",
    "           \"#a32621\", \"#751610\", \"#a13e2f\", \"#d6614b\", \"#ce3926\", \"#ec4d21\", \"#a03c14\", \"#ce6c2b\", \"#914a16\", \"#b07625\", # Pvalb\n",
    "           \"#d48746\", \"#8a501a\", \"#6e3901\", \"#de821d\", \"#a36219\", \"#b68f28\", \"#9fa82d\", \"#7e882b\", \"#516615\", \"#638d2f\", \"#78af41\", \"#3e6914\", \"#106003\", \"#106003\", \"#106003\", \"#106003\", \"#317921\", \"#3f9732\", \"#45b639\", \"#2d8346\", \"#3bb06e\", #Sst\n",
    "           \"#757ae8\", \"#464ba1\", \"#4f4471\", \"#6046ce\", \"#6b28dd\", \"#9a7bbd\", \"#7e35a1\", \"#c643e5\", \"#bd6bc2\", \"#7b3578\", \"#8b6a86\", \"#d843ba\", \"#5e4454\", \"#7e2e57\", \"#c26c93\", \"#cc3b87\" #Vip\n",
    "]"
   ]
  },
  {
   "cell_type": "code",
   "execution_count": 94,
   "metadata": {},
   "outputs": [],
   "source": [
    "from matplotlib.backends.backend_pdf import PdfPages\n",
    "\n",
    "unique_dates = np.unique(data.obs['cluster'])\n",
    "color_map = {date: palette[i] for i, date in enumerate(unique_dates)} \n",
    "colors = [color_map[date] for date in data.obs['cluster']]\n",
    "\n",
    "with PdfPages('figure/umap_plot.pdf') as pdf:\n",
    "    plt.figure(figsize=(8, 8))\n",
    "    \n",
    "    scatter = sns.scatterplot(x = data.obsm['X_umap'][:, 0],\n",
    "                    y = data.obsm['X_umap'][:, 1],\n",
    "                    hue = data.obs['cluster'],\n",
    "                    palette=palette,\n",
    "                    linewidth = 0,\n",
    "                    s = 3)\n",
    "    \n",
    "    plt.grid(False)  \n",
    "    plt.xticks([])  \n",
    "    plt.yticks([])   \n",
    "    plt.xlabel('')   \n",
    "    plt.ylabel('')  \n",
    "    plt.tight_layout()\n",
    "\n",
    "    scatter.legend_.remove()  \n",
    "\n",
    "    pdf.savefig(bbox_inches='tight', pad_inches=0) \n",
    "    plt.close()\n",
    "    \n",
    "    plt.figure(figsize=(8, 10))\n",
    "    ax = plt.gca()\n",
    "    sc.pl.umap(\n",
    "        data,\n",
    "        color='cluster',\n",
    "        palette=palette,\n",
    "        s=5,                    \n",
    "        alpha=0.8,              \n",
    "        frameon=False,           \n",
    "        show=False,             \n",
    "        ax=ax\n",
    "    )\n",
    "    \n",
    "    plt.tight_layout()\n",
    "    pdf.savefig(bbox_inches='tight')\n",
    "    plt.close()"
   ]
  }
 ],
 "metadata": {
  "kernelspec": {
   "display_name": "Python 3",
   "language": "python",
   "name": "python3"
  },
  "language_info": {
   "codemirror_mode": {
    "name": "ipython",
    "version": 3
   },
   "file_extension": ".py",
   "mimetype": "text/x-python",
   "name": "python",
   "nbconvert_exporter": "python",
   "pygments_lexer": "ipython3",
   "version": "3.12.11"
  }
 },
 "nbformat": 4,
 "nbformat_minor": 2
}
