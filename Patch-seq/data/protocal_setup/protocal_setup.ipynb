{
 "cells": [
  {
   "cell_type": "code",
   "execution_count": 4,
   "metadata": {},
   "outputs": [],
   "source": [
    "import numpy as np\n",
    "import pandas as pd\n",
    "import seaborn as sns\n",
    "import warnings\n",
    "warnings.filterwarnings('ignore')\n",
    "import matplotlib.pyplot as plt\n",
    "import os\n",
    "from matplotlib.backends.backend_pdf import PdfPages\n",
    "\n",
    "from tqdm import tqdm\n",
    "import pynwb\n",
    "\n",
    "import bluepyopt as bpop\n",
    "import bluepyopt.ephys as ephys\n",
    "from neuron import h\n",
    "import collections"
   ]
  },
  {
   "cell_type": "code",
   "execution_count": 5,
   "metadata": {},
   "outputs": [],
   "source": [
    "file_list = os.listdir(\"/media/ubuntu/sda/Patch-seq/data/Patch\")\n",
    "file_list.remove(\"000020\")"
   ]
  },
  {
   "cell_type": "code",
   "execution_count": 6,
   "metadata": {},
   "outputs": [],
   "source": [
    "current_time = {\n",
    "    'step_1s': [301000, 201000, 401000]\n",
    "}\n",
    "stimulus_data_max = []\n"
   ]
  },
  {
   "cell_type": "code",
   "execution_count": 16,
   "metadata": {},
   "outputs": [],
   "source": [
    "for file in file_list:\n",
    "    io = pynwb.NWBHDF5IO(f\"/media/ubuntu/sda/Patch-seq/data/Patch/{file}\", 'r')\n",
    "    data = io.read()\n",
    "\n",
    "    for i in data.stimulus.keys():\n",
    "        id = i.split(\"_\")[1]\n",
    "        stimulus = data.get_stimulus(i)\n",
    "        if stimulus.data_type == 'CurrentClampSeries':\n",
    "            for key in current_time.keys():\n",
    "                if len(stimulus.data) in current_time[key]:\n",
    "                    stimulus_data = pd.DataFrame(np.array(stimulus.data))\n",
    "\n",
    "                    max_stimulus_data = stimulus_data.max()\n",
    "                    if max_stimulus_data not in stimulus_data_max:\n",
    "                        stimulus_data_max.append(max_stimulus_data)"
   ]
  },
  {
   "cell_type": "code",
   "execution_count": 22,
   "metadata": {},
   "outputs": [
    {
     "data": {
      "text/plain": [
       "<function getattr>"
      ]
     },
     "execution_count": 22,
     "metadata": {},
     "output_type": "execute_result"
    }
   ],
   "source": [
    "getattr"
   ]
  },
  {
   "cell_type": "code",
   "execution_count": 11,
   "metadata": {},
   "outputs": [],
   "source": [
    "stage0_protocol = {}\n",
    "\n",
    "for amplitude in stimulus_data_max:\n",
    "    stage0_protocol[f'Amplitude_{int(amplitude)}'] = {}\n",
    "    stage0_protocol[f'Amplitude_{int(amplitude)}']['stimuli'] = [\n",
    "        {\n",
    "            'amp': amplitude / 1000,\n",
    "            'amp_end': amplitude /1000,\n",
    "            'delay': 200,\n",
    "            'duration': 1000,\n",
    "            'stim_end': 1500,\n",
    "            'totduration': 3000,\n",
    "            'type': 'SquarePulse'\n",
    "        }\n",
    "    ]"
   ]
  },
  {
   "cell_type": "code",
   "execution_count": 17,
   "metadata": {},
   "outputs": [
    {
     "data": {
      "text/plain": [
       "{}"
      ]
     },
     "execution_count": 17,
     "metadata": {},
     "output_type": "execute_result"
    }
   ],
   "source": [
    "stage0_protocol"
   ]
  }
 ],
 "metadata": {
  "kernelspec": {
   "display_name": "brain2",
   "language": "python",
   "name": "python3"
  },
  "language_info": {
   "codemirror_mode": {
    "name": "ipython",
    "version": 3
   },
   "file_extension": ".py",
   "mimetype": "text/x-python",
   "name": "python",
   "nbconvert_exporter": "python",
   "pygments_lexer": "ipython3",
   "version": "3.13.4"
  }
 },
 "nbformat": 4,
 "nbformat_minor": 2
}
