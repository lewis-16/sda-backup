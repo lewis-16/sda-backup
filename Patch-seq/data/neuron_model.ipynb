{
 "cells": [
  {
   "cell_type": "code",
   "execution_count": 1,
   "metadata": {},
   "outputs": [],
   "source": [
    "import numpy as np\n",
    "import pandas as pd\n",
    "import seaborn as sns\n",
    "import warnings\n",
    "warnings.filterwarnings('ignore')\n",
    "import matplotlib.pyplot as plt\n",
    "import os\n",
    "from matplotlib.backends.backend_pdf import PdfPages\n",
    "\n",
    "from tqdm import tqdm\n",
    "import pynwb\n",
    "\n",
    "import bluepyopt as bpop\n",
    "import bluepyopt.ephys as ephys\n",
    "from neuron import h\n",
    "import collections\n",
    "import json"
   ]
  },
  {
   "cell_type": "code",
   "execution_count": 2,
   "metadata": {},
   "outputs": [],
   "source": [
    "import efel"
   ]
  },
  {
   "cell_type": "markdown",
   "metadata": {},
   "source": [
    "### Patch data processing"
   ]
  },
  {
   "cell_type": "code",
   "execution_count": 3,
   "metadata": {},
   "outputs": [],
   "source": [
    "file = '/media/ubuntu/sda/Patch-seq/data/Patch/601790945_icephys.nwb'\n",
    "\n",
    "io = pynwb.NWBHDF5IO(file, 'r')\n",
    "data = io.read()"
   ]
  },
  {
   "cell_type": "code",
   "execution_count": 4,
   "metadata": {},
   "outputs": [
    {
     "data": {
      "text/plain": [
       "dict_keys(['data_00000_DA0', 'data_00001_DA0', 'data_00002_DA0', 'data_00003_DA0', 'data_00004_DA0', 'data_00005_DA0', 'data_00006_DA0', 'data_00007_DA0', 'data_00008_DA0', 'data_00009_DA0', 'data_00010_DA0', 'data_00011_DA0', 'data_00012_DA0', 'data_00013_DA0', 'data_00014_DA0', 'data_00015_DA0', 'data_00016_DA0', 'data_00017_DA0', 'data_00018_DA0', 'data_00019_DA0', 'data_00020_DA0', 'data_00021_DA0', 'data_00022_DA0', 'data_00023_DA0', 'data_00024_DA0', 'data_00025_DA0', 'data_00026_DA0', 'data_00027_DA0', 'data_00028_DA0', 'data_00029_DA0', 'data_00030_DA0', 'data_00031_DA0', 'data_00032_DA0', 'data_00033_DA0', 'data_00034_DA0', 'data_00035_DA0', 'data_00036_DA0', 'data_00037_DA0', 'data_00038_DA0', 'data_00039_DA0', 'data_00040_DA0', 'data_00041_DA0', 'data_00042_DA0', 'data_00043_DA0', 'data_00044_DA0', 'data_00045_DA0', 'data_00046_DA0', 'data_00047_DA0'])"
      ]
     },
     "execution_count": 4,
     "metadata": {},
     "output_type": "execute_result"
    }
   ],
   "source": [
    "data.stimulus.keys()"
   ]
  },
  {
   "cell_type": "code",
   "execution_count": 5,
   "metadata": {},
   "outputs": [],
   "source": [
    "acquisition_data = {}\n",
    "count = 0\n",
    "\n",
    "for i in data.stimulus.keys():\n",
    "    stimulus = data.get_stimulus(i)\n",
    "    if stimulus.data_type == 'CurrentClampStimulusSeries':\n",
    "        if len(stimulus.data) in [301000, 201000, 401000]:\n",
    "            acquisition = data.get_acquisition(i.split(\"DA\")[0] + \"AD0\")\n",
    "            stimulus_data = str(int(np.array(stimulus.data)[60000:70000].max()))\n",
    "\n",
    "            if stimulus_data not in acquisition_data.keys():\n",
    "                acquisition_data[f'{i}_{stimulus_data}'] = np.array(acquisition.data)[40000:125000]\n",
    "                # plt.figure(figsize=(10, 5))\n",
    "                # sns.lineplot(acquisition_data[stimulus_data])\n",
    "                # sns.lineplot(np.array(stimulus.data)[40000:125000])\n",
    "                # plt.title(stimulus_data)\n",
    "                # plt.show()\n",
    "            else:\n",
    "                acquisition_data[f'{i}_{stimulus_data}_{count}'] = np.array(acquisition.data)[40000:125000]\n",
    "\n",
    "                # plt.figure(figsize=(10, 5))\n",
    "                # sns.lineplot(acquisition_data[stimulus_data])\n",
    "                # sns.lineplot(np.array(stimulus.data)[40000:125000])\n",
    "                # plt.title(f'{stimulus_data}_{count}')\n",
    "                # plt.show()\n",
    "\n",
    "                count += 1\n",
    "\n",
    "\n"
   ]
  },
  {
   "cell_type": "code",
   "execution_count": 6,
   "metadata": {},
   "outputs": [],
   "source": [
    "stage0_protocol = {}\n",
    "\n",
    "for amplitude in acquisition_data.keys():\n",
    "    amplitude = int(amplitude.split(\"_\")[3])\n",
    "    stage0_protocol[f'Amplitude_{int(amplitude)}'] = {}\n",
    "    stage0_protocol[f'Amplitude_{int(amplitude)}']['stimuli'] = [\n",
    "        {\n",
    "            'amp': amplitude / 1000,\n",
    "            'amp_end': amplitude /1000,\n",
    "            'delay': 200,\n",
    "            'duration': 1000,\n",
    "            'stim_end': 1500,\n",
    "            'totduration': 3000,\n",
    "            'type': 'SquarePulse'\n",
    "        }\n",
    "    ]"
   ]
  },
  {
   "cell_type": "code",
   "execution_count": 7,
   "metadata": {},
   "outputs": [],
   "source": [
    "stage0_feature = ['voltage_base', 'steady_state_voltage', 'voltage_deflection_vb_ssse', 'sag_amplitude', 'sag_ratio1', \n",
    "                  'decay_time_constant_after_stim']\n",
    "\n",
    "stage1_feature = ['voltage_base', 'steady_state_voltage', 'voltage_deflection_vb_ssse', 'sag_amplitude', 'sag_ratio1', \n",
    "                  'decay_time_constant_after_stim', 'Spikecount', 'mean_frequency', 'time_to_first_spike',\n",
    "                  'AP_amplitude_from_voltagebase', 'AP_width', 'AHP_depth', 'adaptation_index2']"
   ]
  },
  {
   "cell_type": "code",
   "execution_count": 8,
   "metadata": {},
   "outputs": [],
   "source": [
    "traces = []\n",
    "for key in acquisition_data.keys():\n",
    "    trace1 = {}\n",
    "    trace1['V'] = acquisition_data[key]\n",
    "    trace1['T'] = np.array(range(1, len(acquisition_data[key]) + 1)) / 50\n",
    "    trace1['stim_start'] = [10000 /50]\n",
    "    trace1['stim_end'] = [60000 / 50]\n",
    "    traces.append(trace1)"
   ]
  },
  {
   "cell_type": "code",
   "execution_count": 9,
   "metadata": {},
   "outputs": [],
   "source": [
    "traces_results = efel.get_feature_values(traces, stage1_feature)"
   ]
  },
  {
   "cell_type": "code",
   "execution_count": 10,
   "metadata": {},
   "outputs": [],
   "source": [
    "traces_results_dict = {}\n",
    "id = 0\n",
    "for key in acquisition_data.keys():\n",
    "    traces_results_dict[key] = traces_results[id]\n",
    "    id += 1"
   ]
  },
  {
   "cell_type": "markdown",
   "metadata": {},
   "source": [
    "### Model Construction\n"
   ]
  },
  {
   "cell_type": "code",
   "execution_count": 11,
   "metadata": {},
   "outputs": [
    {
     "data": {
      "text/plain": [
       "1.0"
      ]
     },
     "execution_count": 11,
     "metadata": {},
     "output_type": "execute_result"
    }
   ],
   "source": [
    "h.nrn_load_dll(\"/media/ubuntu/sda/Patch-seq/data/AdEx_Neuron/x86_64/.libs/libnrnmech.so\")"
   ]
  },
  {
   "cell_type": "code",
   "execution_count": null,
   "metadata": {},
   "outputs": [],
   "source": [
    "def create_cell_model():  \n",
    "    morph = ephys.morphologies.NrnFileMorphology(\n",
    "        morphology_path='simple.swc'\n",
    "    )\n",
    "    \n",
    "    # 设置机制\n",
    "    mechs = [\n",
    "        ephys.mechanisms.NrnMODPointProcessMechanism(\n",
    "            name='AdEx',\n",
    "            suffix='AdEx',\n",
    "            locations=[ephys.locations.NrnSeclistLocation('soma', seclist_name='somatic')],\n",
    "            mod_path='/Users/jin/Desktop/adex.mod'\n",
    "        )\n",
    "    ]\n",
    "    \n",
    "    # 确保参数与adex.mod匹配\n",
    "    parameters = [\n",
    "        ephys.parameters.NrnPointProcessParameter(\n",
    "            name='a',\n",
    "            param_name='a',\n",
    "            locations=[ephys.locations.NrnSeclistLocation('soma', seclist_name='somatic')],\n",
    "            bounds=[0.1, 10.0],\n",
    "            value=4.0,\n",
    "            frozen=False\n",
    "        ),\n",
    "        ephys.parameters.NrnPointProcessParameter(\n",
    "            name='b',\n",
    "            param_name='b',\n",
    "            locations=[ephys.locations.NrnSeclistLocation('soma', seclist_name='somatic')],\n",
    "            bounds=[0.001, 0.2],\n",
    "            value=0.0805,\n",
    "            frozen=False\n",
    "        ),\n",
    "        ephys.parameters.NrnPointProcessParameter(\n",
    "            name='tauw',\n",
    "            param_name='tauw',\n",
    "            locations=[ephys.locations.NrnSeclistLocation('soma', seclist_name='somatic')],\n",
    "            bounds=[50.0, 300.0],\n",
    "            value=144.0,\n",
    "            frozen=False\n",
    "        ),\n",
    "        ephys.parameters.NrnPointProcessParameter(\n",
    "            name='DeltaT',\n",
    "            param_name='DeltaT',\n",
    "            locations=[ephys.locations.NrnSeclistLocation('soma', seclist_name='somatic')],\n",
    "            bounds=[0.5, 5.0],\n",
    "            value=2.0,\n",
    "            frozen=False\n",
    "        ),\n",
    "        ephys.parameters.NrnPointProcessParameter(\n",
    "            name='EL',\n",
    "            param_name='EL',\n",
    "            locations=[ephys.locations.NrnSeclistLocation('soma', seclist_name='somatic')],\n",
    "            bounds=[-80.0, -60.0],\n",
    "            value=-70.6,\n",
    "            frozen=False\n",
    "        ),\n",
    "        ephys.parameters.NrnPointProcessParameter(\n",
    "            name='Vr',\n",
    "            param_name='Vr',\n",
    "            locations=[ephys.locations.NrnSeclistLocation('soma', seclist_name='somatic')],\n",
    "            bounds=[-80.0, -60.0],\n",
    "            value=-70.6,\n",
    "            frozen=False\n",
    "        ),\n",
    "        ephys.parameters.NrnPointProcessParameter(\n",
    "            name='VT',\n",
    "            param_name='VT',\n",
    "            locations=[ephys.locations.NrnSeclistLocation('soma', seclist_name='somatic')],\n",
    "            bounds=[-60.0, -40.0],\n",
    "            value=-50.4,\n",
    "            frozen=False\n",
    "        ),\n",
    "        ephys.parameters.NrnPointProcessParameter(\n",
    "            name='Vth',\n",
    "            param_name='Vth',\n",
    "            locations=[ephys.locations.NrnSeclistLocation('soma', seclist_name='somatic')],\n",
    "            bounds=[-40.0, -20.0],\n",
    "            value=-30.0,\n",
    "            frozen=False\n",
    "        ),\n",
    "        ephys.parameters.NrnPointProcessParameter(\n",
    "            name='gL',\n",
    "            param_name='gL',\n",
    "            locations=[ephys.locations.NrnSeclistLocation('soma', seclist_name='somatic')],\n",
    "            bounds=[10.0, 50.0],\n",
    "            value=30.0,\n",
    "            frozen=False\n",
    "        ),\n",
    "        ephys.parameters.NrnPointProcessParameter(\n",
    "            name='C',\n",
    "            param_name='C',\n",
    "            locations=[ephys.locations.NrnSeclistLocation('soma', seclist_name='somatic')],\n",
    "            bounds=[100.0, 500.0],\n",
    "            value=281.0,\n",
    "            frozen=False\n",
    "        )\n",
    "    ]\n",
    "\n",
    "    # 创建细胞模型\n",
    "    cell_model = ephys.models.CellModel(\n",
    "        name='AdEx',\n",
    "        morph=morph,\n",
    "        mechs=mechs,\n",
    "        params=parameters\n",
    "    )\n",
    "\n",
    "    return cell_model, parameters\n"
   ]
  },
  {
   "cell_type": "code",
   "execution_count": 13,
   "metadata": {},
   "outputs": [],
   "source": [
    "cell_model, paramerter = create_cell_model()"
   ]
  },
  {
   "cell_type": "code",
   "execution_count": 14,
   "metadata": {},
   "outputs": [
    {
     "data": {
      "text/plain": [
       "<bluepyopt.ephys.mechanisms.NrnMODPointProcessMechanism at 0x7f2c3a3a7fd0>"
      ]
     },
     "execution_count": 14,
     "metadata": {},
     "output_type": "execute_result"
    }
   ],
   "source": [
    "cell_model.mechanisms[0]"
   ]
  },
  {
   "cell_type": "code",
   "execution_count": 15,
   "metadata": {},
   "outputs": [],
   "source": [
    "def create_protocol(amplitude=0.1, delay=100, duration=800, total_duration=1000):\n",
    "    \"\"\"创建电生理刺激协议\"\"\"\n",
    "    # 创建注入电流刺激\n",
    "    stim = ephys.stimuli.NrnSquarePulse(\n",
    "        step_amplitude=amplitude,  # nA\n",
    "        step_delay=delay,      # ms\n",
    "        step_duration=duration,   # ms\n",
    "        location=ephys.locations.NrnSeclistLocation('somatic', seclist_name='somatic'),\n",
    "        total_duration=total_duration  # ms\n",
    "    )\n",
    "    \n",
    "    # 创建记录\n",
    "    rec = ephys.recordings.CompRecording(\n",
    "        name='v_soma',\n",
    "        location=ephys.locations.NrnSeclistLocation('soma', seclist_name='somatic'),\n",
    "        variable='v'\n",
    "    )\n",
    "    \n",
    "    # 创建协议\n",
    "    ephys_protocol = ephys.protocols.SweepProtocol(\n",
    "        name='step_protocol',\n",
    "        stimuli=[stim],\n",
    "        recordings=[rec]\n",
    "    )\n",
    "    \n",
    "    return ephys_protocol"
   ]
  },
  {
   "cell_type": "code",
   "execution_count": 16,
   "metadata": {},
   "outputs": [],
   "source": [
    "ephys_protocol = create_protocol(amplitude=0.1)\n"
   ]
  },
  {
   "cell_type": "code",
   "execution_count": 17,
   "metadata": {},
   "outputs": [],
   "source": [
    "nrn = ephys.simulators.NrnSimulator()"
   ]
  },
  {
   "cell_type": "code",
   "execution_count": 18,
   "metadata": {},
   "outputs": [
    {
     "ename": "SweepProtocolException",
     "evalue": "Failed to run Neuron Sweep Protocol",
     "output_type": "error",
     "traceback": [
      "\u001b[31m---------------------------------------------------------------------------\u001b[39m",
      "\u001b[31mRemoteTraceback\u001b[39m                           Traceback (most recent call last)",
      "\u001b[31mRemoteTraceback\u001b[39m: Traceback (most recent call last):\n  File \"/home/ubuntu/.conda/envs/bluepyopt/lib/python3.11/site-packages/bluepyopt/ephys/protocols.py\", line 204, in _run_func\n    cell_model.instantiate(sim=sim)\n  File \"/home/ubuntu/.conda/envs/bluepyopt/lib/python3.11/site-packages/bluepyopt/ephys/models.py\", line 256, in instantiate\n    self.instantiate_morphology(sim)\n  File \"/home/ubuntu/.conda/envs/bluepyopt/lib/python3.11/site-packages/bluepyopt/ephys/models.py\", line 239, in instantiate_morphology\n    self.icell.gid = self.gid\n    ^^^^^^^^^^^^^^\nLookupError: 'gid' is not a defined hoc variable name.\n\nThe above exception was the direct cause of the following exception:\n\nTraceback (most recent call last):\n  File \"/home/ubuntu/.conda/envs/bluepyopt/lib/python3.11/site-packages/pebble/common/process.py\", line 65, in process_execute\n    return Result(ResultStatus.SUCCESS, function(*args, **kwargs))\n                                        ^^^^^^^^^^^^^^^^^^^^^^^^^\n  File \"/home/ubuntu/.conda/envs/bluepyopt/lib/python3.11/site-packages/bluepyopt/ephys/protocols.py\", line 239, in _run_func\n    raise SweepProtocolException(\nbluepyopt.ephys.protocols.SweepProtocolException: Failed to run Neuron Sweep Protocol\n",
      "\nThe above exception was the direct cause of the following exception:\n",
      "\u001b[31mSweepProtocolException\u001b[39m                    Traceback (most recent call last)",
      "\u001b[36mCell\u001b[39m\u001b[36m \u001b[39m\u001b[32mIn[18]\u001b[39m\u001b[32m, line 9\u001b[39m\n\u001b[32m      1\u001b[39m default_params = {\n\u001b[32m      2\u001b[39m     \u001b[33m'\u001b[39m\u001b[33ma\u001b[39m\u001b[33m'\u001b[39m: \u001b[32m4.0\u001b[39m,\n\u001b[32m      3\u001b[39m     \u001b[33m'\u001b[39m\u001b[33mb\u001b[39m\u001b[33m'\u001b[39m: \u001b[32m0.0805\u001b[39m,\n\u001b[32m   (...)\u001b[39m\u001b[32m      6\u001b[39m     \u001b[33m'\u001b[39m\u001b[33mEL\u001b[39m\u001b[33m'\u001b[39m: -\u001b[32m70.6\u001b[39m\n\u001b[32m      7\u001b[39m }\n\u001b[32m----> \u001b[39m\u001b[32m9\u001b[39m \u001b[43mephys_protocol\u001b[49m\u001b[43m.\u001b[49m\u001b[43mrun\u001b[49m\u001b[43m(\u001b[49m\u001b[43mcell_model\u001b[49m\u001b[43m=\u001b[49m\u001b[43mcell_model\u001b[49m\u001b[43m,\u001b[49m\u001b[43m \u001b[49m\u001b[43mparam_values\u001b[49m\u001b[43m=\u001b[49m\u001b[43mdefault_params\u001b[49m\u001b[43m,\u001b[49m\u001b[43m \u001b[49m\u001b[43msim\u001b[49m\u001b[43m=\u001b[49m\u001b[43mnrn\u001b[49m\u001b[43m)\u001b[49m\n",
      "\u001b[36mFile \u001b[39m\u001b[32m~/.conda/envs/bluepyopt/lib/python3.11/site-packages/bluepyopt/ephys/protocols.py:189\u001b[39m, in \u001b[36mSweepProtocol.adjust_stochasticity.<locals>.inner\u001b[39m\u001b[34m(self, cell_model, param_values, **kwargs)\u001b[39m\n\u001b[32m    186\u001b[39m         previous_stoch_state.append(mech.deterministic)\n\u001b[32m    187\u001b[39m         mech.deterministic = \u001b[38;5;28;01mTrue\u001b[39;00m\n\u001b[32m--> \u001b[39m\u001b[32m189\u001b[39m responses = \u001b[43mfunc\u001b[49m\u001b[43m(\u001b[49m\u001b[38;5;28;43mself\u001b[39;49m\u001b[43m,\u001b[49m\u001b[43m \u001b[49m\u001b[43mcell_model\u001b[49m\u001b[43m,\u001b[49m\u001b[43m \u001b[49m\u001b[43mparam_values\u001b[49m\u001b[43m,\u001b[49m\u001b[43m \u001b[49m\u001b[43m*\u001b[49m\u001b[43m*\u001b[49m\u001b[43mkwargs\u001b[49m\u001b[43m)\u001b[49m\n\u001b[32m    191\u001b[39m \u001b[38;5;28;01mif\u001b[39;00m \u001b[38;5;28mself\u001b[39m.deterministic:\n\u001b[32m    192\u001b[39m     \u001b[38;5;28;01mfor\u001b[39;00m i, mech \u001b[38;5;129;01min\u001b[39;00m \u001b[38;5;28menumerate\u001b[39m(cell_model.mechanisms):\n",
      "\u001b[36mFile \u001b[39m\u001b[32m~/.conda/envs/bluepyopt/lib/python3.11/site-packages/bluepyopt/ephys/protocols.py:294\u001b[39m, in \u001b[36mSweepProtocol.run\u001b[39m\u001b[34m(self, cell_model, param_values, sim, isolate, timeout)\u001b[39m\n\u001b[32m    288\u001b[39m tasks = pool.schedule(\u001b[38;5;28mself\u001b[39m._run_func, kwargs={\n\u001b[32m    289\u001b[39m     \u001b[33m'\u001b[39m\u001b[33mcell_model\u001b[39m\u001b[33m'\u001b[39m: cell_model,\n\u001b[32m    290\u001b[39m     \u001b[33m'\u001b[39m\u001b[33mparam_values\u001b[39m\u001b[33m'\u001b[39m: param_values,\n\u001b[32m    291\u001b[39m     \u001b[33m'\u001b[39m\u001b[33msim\u001b[39m\u001b[33m'\u001b[39m: sim},\n\u001b[32m    292\u001b[39m     timeout=timeout)\n\u001b[32m    293\u001b[39m \u001b[38;5;28;01mtry\u001b[39;00m:\n\u001b[32m--> \u001b[39m\u001b[32m294\u001b[39m     responses = \u001b[43mtasks\u001b[49m\u001b[43m.\u001b[49m\u001b[43mresult\u001b[49m\u001b[43m(\u001b[49m\u001b[43m)\u001b[49m\n\u001b[32m    295\u001b[39m \u001b[38;5;28;01mexcept\u001b[39;00m \u001b[38;5;167;01mTimeoutError\u001b[39;00m:\n\u001b[32m    296\u001b[39m     logger.debug(\u001b[33m'\u001b[39m\u001b[33mSweepProtocol: task took longer than \u001b[39m\u001b[33m'\u001b[39m\n\u001b[32m    297\u001b[39m                  \u001b[33m'\u001b[39m\u001b[33mtimeout, will return empty response \u001b[39m\u001b[33m'\u001b[39m\n\u001b[32m    298\u001b[39m                  \u001b[33m'\u001b[39m\u001b[33mfor this recording\u001b[39m\u001b[33m'\u001b[39m)\n",
      "\u001b[36mFile \u001b[39m\u001b[32m~/.conda/envs/bluepyopt/lib/python3.11/concurrent/futures/_base.py:456\u001b[39m, in \u001b[36mFuture.result\u001b[39m\u001b[34m(self, timeout)\u001b[39m\n\u001b[32m    454\u001b[39m     \u001b[38;5;28;01mraise\u001b[39;00m CancelledError()\n\u001b[32m    455\u001b[39m \u001b[38;5;28;01melif\u001b[39;00m \u001b[38;5;28mself\u001b[39m._state == FINISHED:\n\u001b[32m--> \u001b[39m\u001b[32m456\u001b[39m     \u001b[38;5;28;01mreturn\u001b[39;00m \u001b[38;5;28;43mself\u001b[39;49m\u001b[43m.\u001b[49m\u001b[43m__get_result\u001b[49m\u001b[43m(\u001b[49m\u001b[43m)\u001b[49m\n\u001b[32m    457\u001b[39m \u001b[38;5;28;01melse\u001b[39;00m:\n\u001b[32m    458\u001b[39m     \u001b[38;5;28;01mraise\u001b[39;00m \u001b[38;5;167;01mTimeoutError\u001b[39;00m()\n",
      "\u001b[36mFile \u001b[39m\u001b[32m~/.conda/envs/bluepyopt/lib/python3.11/concurrent/futures/_base.py:401\u001b[39m, in \u001b[36mFuture.__get_result\u001b[39m\u001b[34m(self)\u001b[39m\n\u001b[32m    399\u001b[39m \u001b[38;5;28;01mif\u001b[39;00m \u001b[38;5;28mself\u001b[39m._exception:\n\u001b[32m    400\u001b[39m     \u001b[38;5;28;01mtry\u001b[39;00m:\n\u001b[32m--> \u001b[39m\u001b[32m401\u001b[39m         \u001b[38;5;28;01mraise\u001b[39;00m \u001b[38;5;28mself\u001b[39m._exception\n\u001b[32m    402\u001b[39m     \u001b[38;5;28;01mfinally\u001b[39;00m:\n\u001b[32m    403\u001b[39m         \u001b[38;5;66;03m# Break a reference cycle with the exception in self._exception\u001b[39;00m\n\u001b[32m    404\u001b[39m         \u001b[38;5;28mself\u001b[39m = \u001b[38;5;28;01mNone\u001b[39;00m\n",
      "\u001b[31mSweepProtocolException\u001b[39m: Failed to run Neuron Sweep Protocol"
     ]
    }
   ],
   "source": [
    "default_params = {\n",
    "    'a': 4.0,\n",
    "    'b': 0.0805,\n",
    "    'tauw': 144.0,\n",
    "    'DeltaT': 2.0,\n",
    "    'EL': -70.6\n",
    "}\n",
    "\n",
    "ephys_protocol.run(cell_model=cell_model, param_values=default_params, sim=nrn)"
   ]
  },
  {
   "cell_type": "code",
   "execution_count": null,
   "metadata": {},
   "outputs": [],
   "source": [
    "stage0_feature = ['voltage_base', 'steady_state_voltage', 'voltage_deflection_vb_ssse', \n",
    "                      'sag_amplitude', 'sag_ratio1', 'decay_time_constant_after_stim']"
   ]
  },
  {
   "cell_type": "code",
   "execution_count": null,
   "metadata": {},
   "outputs": [],
   "source": [
    "hh_mech = ephys.mechanisms.NrnMODMechanism(\n",
    "        name='hh',\n",
    "        suffix='hh')"
   ]
  },
  {
   "cell_type": "code",
   "execution_count": null,
   "metadata": {},
   "outputs": [
    {
     "data": {
      "text/plain": [
       "{'name': 'hh',\n",
       " 'comment': '',\n",
       " 'mod_path': None,\n",
       " 'suffix': 'hh',\n",
       " 'locations': None,\n",
       " 'preloaded': True,\n",
       " 'class': \"<class 'bluepyopt.ephys.mechanisms.NrnMODMechanism'>\"}"
      ]
     },
     "execution_count": 24,
     "metadata": {},
     "output_type": "execute_result"
    }
   ],
   "source": [
    "hh_mech.to_dict()"
   ]
  },
  {
   "cell_type": "code",
   "execution_count": null,
   "metadata": {},
   "outputs": [
    {
     "data": {
      "text/plain": [
       "<bluepyopt.ephys.locations.NrnSeclistLocation at 0x7f4964698830>"
      ]
     },
     "execution_count": 42,
     "metadata": {},
     "output_type": "execute_result"
    }
   ],
   "source": [
    "ephys.locations.NrnSeclistLocation('soma', seclist_name='soma')"
   ]
  }
 ],
 "metadata": {
  "kernelspec": {
   "display_name": "bluepyopt",
   "language": "python",
   "name": "python3"
  },
  "language_info": {
   "codemirror_mode": {
    "name": "ipython",
    "version": 3
   },
   "file_extension": ".py",
   "mimetype": "text/x-python",
   "name": "python",
   "nbconvert_exporter": "python",
   "pygments_lexer": "ipython3",
   "version": "3.11.0"
  }
 },
 "nbformat": 4,
 "nbformat_minor": 2
}
