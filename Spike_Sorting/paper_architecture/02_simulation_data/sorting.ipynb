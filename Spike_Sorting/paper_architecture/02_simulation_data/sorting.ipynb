{
 "cells": [
  {
   "cell_type": "code",
   "execution_count": 1,
   "metadata": {},
   "outputs": [
    {
     "name": "stderr",
     "output_type": "stream",
     "text": [
      "/home/ubuntu/.conda/envs/spike_sorting_jct/lib/python3.11/site-packages/tqdm/auto.py:21: TqdmWarning: IProgress not found. Please update jupyter and ipywidgets. See https://ipywidgets.readthedocs.io/en/stable/user_install.html\n",
      "  from .autonotebook import tqdm as notebook_tqdm\n"
     ]
    }
   ],
   "source": [
    "import sys\n",
    "import spikeinterface as si\n",
    "import matplotlib.pyplot as plt\n",
    "import spikeinterface.extractors as se\n",
    "import spikeinterface.preprocessing as spre\n",
    "import spikeinterface.sorters as ss\n",
    "import spikeinterface.widgets as sw\n",
    "import spikeinterface.qualitymetrics as sqm\n",
    "import json\n",
    "\n",
    "import os\n",
    "import numpy as np\n",
    "\n",
    "import warnings\n",
    "warnings.filterwarnings('ignore')\n",
    "\n",
    "import MEArec as mr\n",
    "import pandas as pd"
   ]
  },
  {
   "cell_type": "code",
   "execution_count": 6,
   "metadata": {},
   "outputs": [],
   "source": [
    "folder_list = os.listdir(\"/media/ubuntu/sda/Spike_Sorting/paper_architecture/02_simulation_data/01_Neuroxenus_32_channels/data_generation\")\n",
    "folder_list.remove(\"setting_1\")\n",
    "folder_list.remove(\"setting_2_neuron_num\")\n",
    "folder_list.remove(\"simulation_32channel.ipynb\")\n",
    "folder_list.remove(\"tmp_params_path.yaml\")"
   ]
  },
  {
   "cell_type": "code",
   "execution_count": 11,
   "metadata": {},
   "outputs": [],
   "source": [
    "# for folder in folder_list:\n",
    "folder = 'setting_2_neuron_num'\n",
    "file_list = os.listdir(f\"/media/ubuntu/sda/Spike_Sorting/paper_architecture/02_simulation_data/01_Neuroxenus_32_channels/data_generation/{folder}/recordings\")\n",
    "os.makedirs(f\"/media/ubuntu/sda/Spike_Sorting/paper_architecture/02_simulation_data/01_Neuroxenus_32_channels/data_generation/{folder}/spike_inf\", exist_ok=True)\n",
    "os.makedirs(f\"/media/ubuntu/sda/Spike_Sorting/paper_architecture/02_simulation_data/01_Neuroxenus_32_channels/data_generation/{folder}/cluster_inf\", exist_ok=True)\n",
    "\n",
    "for file in file_list:\n",
    "    recgen = mr.load_recordings(f'/media/ubuntu/sda/Spike_Sorting/paper_architecture/02_simulation_data/01_Neuroxenus_32_channels/data_generation/{folder}/recordings/{file}')\n",
    "    file = file.split(\".\")[0]\n",
    "\n",
    "    spike_inf = pd.DataFrame(columns= ['time', 'Neuron'])\n",
    "    location = np.array(recgen.template_locations)\n",
    "    for i in range(len(recgen.spiketrains)):\n",
    "        temp_train = recgen.spiketrains[i]\n",
    "        times = temp_train.times * 10000\n",
    "        times = times.astype(int)\n",
    "        temp_train = pd.DataFrame(times)\n",
    "        temp_train.columns = ['time']\n",
    "        temp_train['Neuron'] = f'Neuron_{i + 1}'\n",
    "        temp_train['x'] = location[i, 1]\n",
    "        temp_train['y'] = location[i, 0]\n",
    "\n",
    "        spike_inf = pd.concat((spike_inf, temp_train), axis = 0)\n",
    "\n",
    "    spike_inf.to_csv(f\"/media/ubuntu/sda/Spike_Sorting/paper_architecture/02_simulation_data/01_Neuroxenus_32_channels/data_generation/{folder}/spike_inf/{file}_spike_inf.csv\", index=False)\n",
    "\n",
    "    cluster_inf = pd.DataFrame(columns= ['Neuron', 'x', 'y'])\n",
    "    location = np.array(recgen.template_locations)\n",
    "    for i in range(len(recgen.spiketrains)):\n",
    "        temp_train = pd.DataFrame((f'Neuron_{i + 1}',location[i, 1], location[i, 2])).T\n",
    "        temp_train.columns = ['Neuron', 'x', 'y']\n",
    "\n",
    "        cluster_inf = pd.concat((cluster_inf, temp_train), axis = 0)\n",
    "\n",
    "    cluster_inf.to_csv(f\"/media/ubuntu/sda/Spike_Sorting/paper_architecture/02_simulation_data/01_Neuroxenus_32_channels/data_generation/{folder}/cluster_inf/{file}_cluster_inf.csv\", index=False)"
   ]
  },
  {
   "cell_type": "code",
   "execution_count": 3,
   "metadata": {},
   "outputs": [],
   "source": [
    "recgen = mr.load_recordings(f'/media/ubuntu/sda/Spike_Sorting/paper_architecture/02_simulation_data/01_Neuroxenus_32_channels/data_generation/setting_1/Neuronexus_32_50_cell_recordings.h5')\n",
    "\n",
    "spike_inf = pd.DataFrame(columns= ['time', 'Neuron'])\n",
    "location = np.array(recgen.template_locations)\n",
    "for i in range(len(recgen.spiketrains)):\n",
    "    temp_train = recgen.spiketrains[i]\n",
    "    times = temp_train.times * 10000\n",
    "    times = times.astype(int)\n",
    "    temp_train = pd.DataFrame(times)\n",
    "    temp_train.columns = ['time']\n",
    "    temp_train['Neuron'] = f'Neuron_{i + 1}'\n",
    "    temp_train['x'] = location[i, 1]\n",
    "    temp_train['y'] = location[i, 0]\n",
    "\n",
    "    spike_inf = pd.concat((spike_inf, temp_train), axis = 0)\n",
    "\n",
    "spike_inf.to_csv(f\"/media/ubuntu/sda/Spike_Sorting/paper_architecture/02_simulation_data/01_Neuroxenus_32_channels/data_generation/setting_1/spike_inf.csv\", index=False)\n",
    "\n",
    "cluster_inf = pd.DataFrame(columns= ['Neuron', 'x', 'y'])\n",
    "location = np.array(recgen.template_locations)\n",
    "for i in range(len(recgen.spiketrains)):\n",
    "    temp_train = pd.DataFrame((f'Neuron_{i + 1}',location[i, 1], location[i, 2])).T\n",
    "    temp_train.columns = ['Neuron', 'x', 'y']\n",
    "\n",
    "    cluster_inf = pd.concat((cluster_inf, temp_train), axis = 0)\n",
    "\n",
    "cluster_inf.to_csv(f\"/media/ubuntu/sda/Spike_Sorting/paper_architecture/02_simulation_data/01_Neuroxenus_32_channels/data_generation/setting_1/cluster_inf.csv\", index=False)"
   ]
  },
  {
   "cell_type": "code",
   "execution_count": 4,
   "metadata": {},
   "outputs": [],
   "source": [
    "recgen = mr.load_recordings('/media/ubuntu/sda/Spike_Sorting/paper_architecture/02_simulation_data/02_Neuropixel_384_channels/data_generation/recording_neuropixels_600s_350cells_fs10000.h5')"
   ]
  },
  {
   "cell_type": "code",
   "execution_count": null,
   "metadata": {},
   "outputs": [
    {
     "name": "stdout",
     "output_type": "stream",
     "text": [
      "Warning: MEArec file created with version <1.5. This could result in lower efficiency. To upgradeyour file to the new format use: mr.convert_recording_to_new_version(filename)\n"
     ]
    },
    {
     "data": {
      "text/plain": [
       "<Axes: >"
      ]
     },
     "execution_count": 8,
     "metadata": {},
     "output_type": "execute_result"
    },
    {
     "data": {
      "image/png": "[encoded data removed]",
      "text/plain": [
       "<Figure size 640x480 with 2 Axes>"
      ]
     },
     "metadata": {},
     "output_type": "display_data"
    }
   ],
   "source": [
    "tempgen = mr.load_recordings('/media/ubuntu/sda/Spike_Sorting/paper_architecture/02_simulation_data/02_Neuropixel_384_channels/data_generation/templates_300_neuropixels.h5')\n",
    "# drifting templates can be plotted one at a time\n",
    "mr.plot_templates(tempgen, template_ids=0, drifting=False, cmap='Reds', )"
   ]
  }
 ],
 "metadata": {
  "kernelspec": {
   "display_name": "spike_sorting_jct",
   "language": "python",
   "name": "python3"
  },
  "language_info": {
   "codemirror_mode": {
    "name": "ipython",
    "version": 3
   },
   "file_extension": ".py",
   "mimetype": "text/x-python",
   "name": "python",
   "nbconvert_exporter": "python",
   "pygments_lexer": "ipython3",
   "version": "3.10.0"
  }
 },
 "nbformat": 4,
 "nbformat_minor": 2
}
