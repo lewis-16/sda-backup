{
 "cells": [
  {
   "cell_type": "code",
   "execution_count": 3,
   "id": "672cd43f",
   "metadata": {},
   "outputs": [],
   "source": [
    "import numpy as np\n",
    "import pandas as pd\n",
    "import seaborn as sns\n",
    "import warnings\n",
    "warnings.filterwarnings('ignore')\n",
    "import spikeinterface as si\n",
    "import matplotlib.pyplot as plt\n",
    "import os\n",
    "from matplotlib.backends.backend_pdf import PdfPages\n",
    "\n",
    "from tqdm import tqdm\n",
    "\n",
    "\n",
    "import sys\n",
    "import spikeinterface as si\n",
    "import matplotlib.pyplot as plt\n",
    "import spikeinterface.extractors as se\n",
    "import spikeinterface.preprocessing as spre\n",
    "import spikeinterface.sorters as ss\n",
    "import spikeinterface.widgets as sw\n",
    "import spikeinterface.qualitymetrics as sqm\n",
    "import json\n",
    "import probeinterface\n",
    "\n",
    "from probeinterface import Probe, ProbeGroup\n",
    "from probeinterface.plotting import plot_probe, plot_probegroup\n",
    "from probeinterface import generate_dummy_probe, generate_linear_probe\n",
    "from probeinterface import write_probeinterface, read_probeinterface\n",
    "from probeinterface import write_prb, read_prb\n",
    "from torch.nn.functional import max_pool1d\n",
    "\n",
    "\n",
    "import torch.nn.functional as F\n",
    "from pathlib import Path\n",
    "\n",
    "\n",
    "import torch\n",
    "import torch.nn as nn\n",
    "import torch.optim as optim\n",
    "from torch.utils.data import DataLoader, Dataset, random_split\n",
    "from torch.utils.data import Subset\n",
    "import networkx as nx\n",
    "import time"
   ]
  },
  {
   "cell_type": "code",
   "execution_count": 2,
   "id": "4a087706",
   "metadata": {},
   "outputs": [
    {
     "name": "stdout",
     "output_type": "stream",
     "text": [
      "Use cache_folder=/tmp/spikeinterface_cache/tmp__6rnly0/AVPLY7VX\n",
      "write_binary_recording \n",
      "engine=process - n_jobs=1 - samples_per_chunk=30,000 - chunk_memory=21.97 MiB - total_memory=21.97 MiB - chunk_duration=1.00s\n"
     ]
    },
    {
     "name": "stderr",
     "output_type": "stream",
     "text": [
      "write_binary_recording (no parallelization): 100%|██████████| 1200/1200 [08:23<00:00,  2.38it/s]\n",
      "100%|██████████| 600/600 [05:20<00:00,  1.87it/s]\n",
      "100%|██████████| 1/1 [02:30<00:00, 150.52s/it]\n",
      "100%|██████████| 600/600 [02:01<00:00,  4.95it/s]\n",
      "100%|██████████| 1/1 [02:09<00:00, 129.71s/it]\n",
      "estimate_sparsity (no parallelization): 100%|██████████| 1200/1200 [04:54<00:00,  4.08it/s]\n"
     ]
    },
    {
     "name": "stdout",
     "output_type": "stream",
     "text": [
      "create_sorting_analyzer: recording does not have scaling to uV, forcing return_scaled=False\n"
     ]
    },
    {
     "name": "stderr",
     "output_type": "stream",
     "text": [
      "compute_waveforms (no parallelization): 100%|██████████| 1200/1200 [06:05<00:00,  3.29it/s]\n",
      "noise_level (no parallelization): 100%|██████████| 20/20 [00:04<00:00,  4.74it/s]\n",
      "Compute : spike_amplitudes + spike_locations (no parallelization): 100%|██████████| 1200/1200 [06:25<00:00,  3.12it/s]\n",
      "noise_level (no parallelization): 100%|██████████| 20/20 [00:02<00:00,  6.70it/s]\n",
      "write_binary_recording (no parallelization): 100%|██████████| 1200/1200 [08:49<00:00,  2.27it/s]\n",
      "Fitting PCA: 100%|██████████| 226/226 [00:22<00:00, 10.26it/s]\n",
      "Projecting waveforms: 100%|██████████| 226/226 [00:01<00:00, 171.34it/s]\n",
      "extract PCs (no parallelization): 100%|██████████| 1200/1200 [1:09:12<00:00,  3.46s/it]\n"
     ]
    },
    {
     "name": "stdout",
     "output_type": "stream",
     "text": [
      "Run:\n",
      "phy template-gui  /media/ubuntu/sda/Spike_Sorting/paper_architecture/01_real_data/03_Neuropixel_384_channels_visual_stimuli/spike_sorting/810755803/phy_folder_for_kilosort/params.py\n",
      "Use cache_folder=/tmp/spikeinterface_cache/tmp0yd51ssc/6IAWX5BY\n",
      "write_binary_recording \n",
      "engine=process - n_jobs=1 - samples_per_chunk=30,000 - chunk_memory=21.97 MiB - total_memory=21.97 MiB - chunk_duration=1.00s\n"
     ]
    },
    {
     "name": "stderr",
     "output_type": "stream",
     "text": [
      "write_binary_recording (no parallelization): 100%|██████████| 1200/1200 [08:06<00:00,  2.47it/s]\n",
      "100%|██████████| 600/600 [05:22<00:00,  1.86it/s]\n",
      "100%|██████████| 1/1 [03:20<00:00, 200.06s/it]\n",
      "100%|██████████| 600/600 [02:41<00:00,  3.70it/s]\n",
      "100%|██████████| 1/1 [05:13<00:00, 313.58s/it]\n",
      "estimate_sparsity (no parallelization): 100%|██████████| 1200/1200 [05:38<00:00,  3.55it/s]\n"
     ]
    },
    {
     "name": "stdout",
     "output_type": "stream",
     "text": [
      "create_sorting_analyzer: recording does not have scaling to uV, forcing return_scaled=False\n"
     ]
    },
    {
     "name": "stderr",
     "output_type": "stream",
     "text": [
      "compute_waveforms (no parallelization): 100%|██████████| 1200/1200 [06:28<00:00,  3.09it/s]\n",
      "noise_level (no parallelization): 100%|██████████| 20/20 [00:03<00:00,  5.03it/s]\n",
      "Compute : spike_amplitudes + spike_locations (no parallelization): 100%|██████████| 1200/1200 [06:18<00:00,  3.17it/s]\n",
      "noise_level (no parallelization): 100%|██████████| 20/20 [00:02<00:00,  7.48it/s]\n",
      "write_binary_recording (no parallelization): 100%|██████████| 1200/1200 [08:39<00:00,  2.31it/s]\n",
      "Fitting PCA: 100%|██████████| 290/290 [00:41<00:00,  7.00it/s]\n",
      "Projecting waveforms: 100%|██████████| 290/290 [00:02<00:00, 144.76it/s]\n",
      "extract PCs (no parallelization): 100%|██████████| 1200/1200 [1:39:06<00:00,  4.96s/it]\n"
     ]
    },
    {
     "name": "stdout",
     "output_type": "stream",
     "text": [
      "Run:\n",
      "phy template-gui  /media/ubuntu/sda/Spike_Sorting/paper_architecture/01_real_data/03_Neuropixel_384_channels_visual_stimuli/spike_sorting/810755805/phy_folder_for_kilosort/params.py\n",
      "Use cache_folder=/tmp/spikeinterface_cache/tmpplu8rdm4/3MYAP4ZU\n",
      "write_binary_recording \n",
      "engine=process - n_jobs=1 - samples_per_chunk=30,000 - chunk_memory=21.97 MiB - total_memory=21.97 MiB - chunk_duration=1.00s\n"
     ]
    },
    {
     "name": "stderr",
     "output_type": "stream",
     "text": [
      "write_binary_recording (no parallelization): 100%|██████████| 1200/1200 [08:20<00:00,  2.40it/s]\n",
      "100%|██████████| 600/600 [05:28<00:00,  1.83it/s]\n",
      "100%|██████████| 1/1 [03:30<00:00, 210.99s/it]\n",
      "100%|██████████| 600/600 [01:06<00:00,  8.97it/s]\n",
      "100%|██████████| 1/1 [01:07<00:00, 67.24s/it]\n",
      "estimate_sparsity (no parallelization): 100%|██████████| 1200/1200 [06:24<00:00,  3.12it/s]\n"
     ]
    },
    {
     "name": "stdout",
     "output_type": "stream",
     "text": [
      "create_sorting_analyzer: recording does not have scaling to uV, forcing return_scaled=False\n"
     ]
    },
    {
     "name": "stderr",
     "output_type": "stream",
     "text": [
      "compute_waveforms (no parallelization): 100%|██████████| 1200/1200 [06:16<00:00,  3.19it/s]\n",
      "noise_level (no parallelization): 100%|██████████| 20/20 [00:03<00:00,  5.24it/s]\n",
      "Compute : spike_amplitudes + spike_locations (no parallelization): 100%|██████████| 1200/1200 [05:56<00:00,  3.37it/s]\n",
      "noise_level (no parallelization): 100%|██████████| 20/20 [00:02<00:00,  6.75it/s]\n",
      "write_binary_recording (no parallelization): 100%|██████████| 1200/1200 [08:38<00:00,  2.31it/s]\n",
      "Fitting PCA: 100%|██████████| 146/146 [00:16<00:00,  9.07it/s]\n",
      "Projecting waveforms: 100%|██████████| 146/146 [00:00<00:00, 209.97it/s]\n",
      "extract PCs (no parallelization): 100%|██████████| 1200/1200 [41:28<00:00,  2.07s/it]\n"
     ]
    },
    {
     "name": "stdout",
     "output_type": "stream",
     "text": [
      "Run:\n",
      "phy template-gui  /media/ubuntu/sda/Spike_Sorting/paper_architecture/01_real_data/03_Neuropixel_384_channels_visual_stimuli/spike_sorting/810755807/phy_folder_for_kilosort/params.py\n"
     ]
    }
   ],
   "source": [
    "for file in ['810755803',\n",
    "             '810755805',\n",
    "             '810755807']:\n",
    "    recording_raw = se.MEArecRecordingExtractor(file_path='/media/ubuntu/sda/Spike_Sorting/paper_architecture/02_simulation_data/02_Neuropixel_384_channels/data_generation/recording_neuropixels_type1.h5')\n",
    "    probe_384channel = recording_raw.get_probegroup()\n",
    "\n",
    "    recording_raw = se.read_binary(file_paths=f'/media/ubuntu/sda/Spike_Sorting/paper_architecture/01_real_data/03_Neuropixel_384_channels_visual_stimuli/raw_data/{file}/spike_band.dat', sampling_frequency=30000, dtype=np.int16, num_channels=384)\n",
    "    recording_raw = recording_raw.set_probegroup(probe_384channel)\n",
    "    recording_f = spre.bandpass_filter(recording_raw, freq_min=300, freq_max=3000)\n",
    "    recording_f = spre.common_reference(recording_f, reference=\"global\", operator=\"median\")\n",
    "    recording_f = recording_f.time_slice(start_time=0, end_time= 1200)\n",
    "\n",
    "    recording_preprocessed = recording_f.save(format=\"binary\")\n",
    "    time.sleep(60)\n",
    "\n",
    "    output_folder = f'/media/ubuntu/sda/Spike_Sorting/paper_architecture/01_real_data/03_Neuropixel_384_channels_visual_stimuli/spike_sorting/{file}'\n",
    "    sorting_kilosort4 = ss.run_sorter(sorter_name=\"kilosort4\", recording=recording_preprocessed, output_folder=output_folder + \"/kilosort4\")\n",
    "    time.sleep(300)\n",
    "    analyzer_kilosort4 = si.create_sorting_analyzer(sorting=sorting_kilosort4, recording=recording_f, format='binary_folder', folder=output_folder + '/analyzer_kilosort4_binary')\n",
    "\n",
    "    extensions_to_compute = [\n",
    "        \"random_spikes\",\n",
    "        \"waveforms\",\n",
    "        \"noise_levels\",\n",
    "        \"templates\",\n",
    "        \"spike_amplitudes\",\n",
    "        \"unit_locations\",\n",
    "        \"spike_locations\",\n",
    "        \"correlograms\",\n",
    "        \"template_similarity\"\n",
    "    ]\n",
    "\n",
    "    extension_params = {\n",
    "        \"unit_locations\": {\"method\": \"center_of_mass\"},\n",
    "        \"spike_locations\": {\"ms_before\": 0.1},\n",
    "        \"correlograms\": {\"bin_ms\": 0.1},\n",
    "        \"template_similarity\": {\"method\": \"cosine_similarity\"}\n",
    "    }\n",
    "\n",
    "    analyzer_kilosort4.compute(extensions_to_compute, extension_params=extension_params)\n",
    "\n",
    "    qm_params = sqm.get_default_qm_params()\n",
    "    analyzer_kilosort4.compute(\"quality_metrics\", qm_params)\n",
    "\n",
    "    time.sleep(300)\n",
    "    import spikeinterface.exporters as sexp\n",
    "    sexp.export_to_phy(analyzer_kilosort4, output_folder + \"/phy_folder_for_kilosort\", verbose=True)\n",
    "\n",
    "    time.sleep(600)"
   ]
  },
  {
   "cell_type": "code",
   "execution_count": 4,
   "id": "42afb136",
   "metadata": {},
   "outputs": [
    {
     "name": "stdout",
     "output_type": "stream",
     "text": [
      "Use cache_folder=/tmp/spikeinterface_cache/tmp31kqjm5m/FA3UZ53L\n",
      "write_binary_recording \n",
      "engine=process - n_jobs=1 - samples_per_chunk=30,000 - chunk_memory=21.97 MiB - total_memory=21.97 MiB - chunk_duration=1.00s\n"
     ]
    },
    {
     "name": "stderr",
     "output_type": "stream",
     "text": [
      "write_binary_recording (no parallelization): 100%|██████████| 1200/1200 [08:06<00:00,  2.47it/s]\n",
      " 20%|█▉        | 118/600 [00:59<04:01,  2.00it/s]\n",
      "kilosort.spikedetect: Error in spikedetect.run on batch 118\n",
      "Traceback (most recent call last):\n",
      "  File \"/home/ubuntu/.conda/envs/spike_sorting_jct/lib/python3.11/site-packages/kilosort/spikedetect.py\", line 259, in run\n",
      "    xy, imax, amp, adist = template_match(X, ops, iC, iC2, weigh, device=device)\n",
      "                           ^^^^^^^^^^^^^^^^^^^^^^^^^^^^^^^^^^^^^^^^^^^^^^^^^^^^^\n",
      "  File \"/home/ubuntu/.conda/envs/spike_sorting_jct/lib/python3.11/site-packages/kilosort/spikedetect.py\", line 164, in template_match\n",
      "    xy = torch.logical_and(Amaxs==As, As > ops['Th_universal']).nonzero()\n",
      "         ^^^^^^^^^^^^^^^^^^^^^^^^^^^^^^^^^^^^^^^^^^^^^^^^^^^^^^^^^^^^^^^^\n",
      "KeyboardInterrupt\n"
     ]
    },
    {
     "ename": "KeyboardInterrupt",
     "evalue": "",
     "output_type": "error",
     "traceback": [
      "\u001b[0;31m---------------------------------------------------------------------------\u001b[0m",
      "\u001b[0;31mKeyboardInterrupt\u001b[0m                         Traceback (most recent call last)",
      "Cell \u001b[0;32mIn[4], line 14\u001b[0m\n\u001b[1;32m     11\u001b[0m recording_preprocessed \u001b[38;5;241m=\u001b[39m recording_f\u001b[38;5;241m.\u001b[39msave(\u001b[38;5;28mformat\u001b[39m\u001b[38;5;241m=\u001b[39m\u001b[38;5;124m\"\u001b[39m\u001b[38;5;124mbinary\u001b[39m\u001b[38;5;124m\"\u001b[39m)\n\u001b[1;32m     13\u001b[0m output_folder \u001b[38;5;241m=\u001b[39m \u001b[38;5;124mf\u001b[39m\u001b[38;5;124m'\u001b[39m\u001b[38;5;124m/media/ubuntu/sda/Spike_Sorting/paper_architecture/01_real_data/03_Neuropixel_384_channels_visual_stimuli/spike_sorting/test\u001b[39m\u001b[38;5;124m'\u001b[39m\n\u001b[0;32m---> 14\u001b[0m sorting_kilosort4 \u001b[38;5;241m=\u001b[39m \u001b[43mss\u001b[49m\u001b[38;5;241;43m.\u001b[39;49m\u001b[43mrun_sorter\u001b[49m\u001b[43m(\u001b[49m\u001b[43msorter_name\u001b[49m\u001b[38;5;241;43m=\u001b[39;49m\u001b[38;5;124;43m\"\u001b[39;49m\u001b[38;5;124;43mkilosort4\u001b[39;49m\u001b[38;5;124;43m\"\u001b[39;49m\u001b[43m,\u001b[49m\u001b[43m \u001b[49m\u001b[43mrecording\u001b[49m\u001b[38;5;241;43m=\u001b[39;49m\u001b[43mrecording_preprocessed\u001b[49m\u001b[43m,\u001b[49m\u001b[43m \u001b[49m\u001b[43moutput_folder\u001b[49m\u001b[38;5;241;43m=\u001b[39;49m\u001b[43moutput_folder\u001b[49m\u001b[43m \u001b[49m\u001b[38;5;241;43m+\u001b[39;49m\u001b[43m \u001b[49m\u001b[38;5;124;43m\"\u001b[39;49m\u001b[38;5;124;43m/kilosort4\u001b[39;49m\u001b[38;5;124;43m\"\u001b[39;49m\u001b[43m)\u001b[49m\n\u001b[1;32m     15\u001b[0m analyzer_kilosort4 \u001b[38;5;241m=\u001b[39m si\u001b[38;5;241m.\u001b[39mcreate_sorting_analyzer(sorting\u001b[38;5;241m=\u001b[39msorting_kilosort4, recording\u001b[38;5;241m=\u001b[39mrecording_f, \u001b[38;5;28mformat\u001b[39m\u001b[38;5;241m=\u001b[39m\u001b[38;5;124m'\u001b[39m\u001b[38;5;124mbinary_folder\u001b[39m\u001b[38;5;124m'\u001b[39m, folder\u001b[38;5;241m=\u001b[39moutput_folder \u001b[38;5;241m+\u001b[39m \u001b[38;5;124m'\u001b[39m\u001b[38;5;124m/analyzer_kilosort4_binary\u001b[39m\u001b[38;5;124m'\u001b[39m)\n\u001b[1;32m     17\u001b[0m extensions_to_compute \u001b[38;5;241m=\u001b[39m [\n\u001b[1;32m     18\u001b[0m     \u001b[38;5;124m\"\u001b[39m\u001b[38;5;124mrandom_spikes\u001b[39m\u001b[38;5;124m\"\u001b[39m,\n\u001b[1;32m     19\u001b[0m     \u001b[38;5;124m\"\u001b[39m\u001b[38;5;124mwaveforms\u001b[39m\u001b[38;5;124m\"\u001b[39m,\n\u001b[0;32m   (...)\u001b[0m\n\u001b[1;32m     26\u001b[0m     \u001b[38;5;124m\"\u001b[39m\u001b[38;5;124mtemplate_similarity\u001b[39m\u001b[38;5;124m\"\u001b[39m\n\u001b[1;32m     27\u001b[0m ]\n",
      "File \u001b[0;32m~/.conda/envs/spike_sorting_jct/lib/python3.11/site-packages/spikeinterface/sorters/runsorter.py:198\u001b[0m, in \u001b[0;36mrun_sorter\u001b[0;34m(sorter_name, recording, folder, remove_existing_folder, delete_output_folder, verbose, raise_error, docker_image, singularity_image, delete_container_files, with_output, output_folder, **sorter_params)\u001b[0m\n\u001b[1;32m    187\u001b[0m             \u001b[38;5;28;01mraise\u001b[39;00m \u001b[38;5;167;01mRuntimeError\u001b[39;00m(\n\u001b[1;32m    188\u001b[0m                 \u001b[38;5;124m\"\u001b[39m\u001b[38;5;124mThe python `spython` package must be installed to \u001b[39m\u001b[38;5;124m\"\u001b[39m\n\u001b[1;32m    189\u001b[0m                 \u001b[38;5;124m\"\u001b[39m\u001b[38;5;124mrun singularity. Install with `pip install spython`\u001b[39m\u001b[38;5;124m\"\u001b[39m\n\u001b[1;32m    190\u001b[0m             )\n\u001b[1;32m    192\u001b[0m     \u001b[38;5;28;01mreturn\u001b[39;00m run_sorter_container(\n\u001b[1;32m    193\u001b[0m         container_image\u001b[38;5;241m=\u001b[39mcontainer_image,\n\u001b[1;32m    194\u001b[0m         mode\u001b[38;5;241m=\u001b[39mmode,\n\u001b[1;32m    195\u001b[0m         \u001b[38;5;241m*\u001b[39m\u001b[38;5;241m*\u001b[39mcommon_kwargs,\n\u001b[1;32m    196\u001b[0m     )\n\u001b[0;32m--> 198\u001b[0m \u001b[38;5;28;01mreturn\u001b[39;00m \u001b[43mrun_sorter_local\u001b[49m\u001b[43m(\u001b[49m\u001b[38;5;241;43m*\u001b[39;49m\u001b[38;5;241;43m*\u001b[39;49m\u001b[43mcommon_kwargs\u001b[49m\u001b[43m)\u001b[49m\n",
      "File \u001b[0;32m~/.conda/envs/spike_sorting_jct/lib/python3.11/site-packages/spikeinterface/sorters/runsorter.py:260\u001b[0m, in \u001b[0;36mrun_sorter_local\u001b[0;34m(sorter_name, recording, folder, remove_existing_folder, delete_output_folder, verbose, raise_error, with_output, output_folder, **sorter_params)\u001b[0m\n\u001b[1;32m    258\u001b[0m SorterClass\u001b[38;5;241m.\u001b[39msetup_recording(recording, folder, verbose\u001b[38;5;241m=\u001b[39mverbose)\n\u001b[1;32m    259\u001b[0m \u001b[38;5;66;03m# This NEEDS to happen in the docker because of dependencies\u001b[39;00m\n\u001b[0;32m--> 260\u001b[0m \u001b[43mSorterClass\u001b[49m\u001b[38;5;241;43m.\u001b[39;49m\u001b[43mrun_from_folder\u001b[49m\u001b[43m(\u001b[49m\u001b[43mfolder\u001b[49m\u001b[43m,\u001b[49m\u001b[43m \u001b[49m\u001b[43mraise_error\u001b[49m\u001b[43m,\u001b[49m\u001b[43m \u001b[49m\u001b[43mverbose\u001b[49m\u001b[43m)\u001b[49m\n\u001b[1;32m    261\u001b[0m \u001b[38;5;28;01mif\u001b[39;00m with_output:\n\u001b[1;32m    262\u001b[0m     sorting \u001b[38;5;241m=\u001b[39m SorterClass\u001b[38;5;241m.\u001b[39mget_result_from_folder(folder, register_recording\u001b[38;5;241m=\u001b[39m\u001b[38;5;28;01mTrue\u001b[39;00m, sorting_info\u001b[38;5;241m=\u001b[39m\u001b[38;5;28;01mTrue\u001b[39;00m)\n",
      "File \u001b[0;32m~/.conda/envs/spike_sorting_jct/lib/python3.11/site-packages/spikeinterface/sorters/basesorter.py:270\u001b[0m, in \u001b[0;36mBaseSorter.run_from_folder\u001b[0;34m(cls, output_folder, raise_error, verbose)\u001b[0m\n\u001b[1;32m    267\u001b[0m t0 \u001b[38;5;241m=\u001b[39m time\u001b[38;5;241m.\u001b[39mperf_counter()\n\u001b[1;32m    269\u001b[0m \u001b[38;5;28;01mtry\u001b[39;00m:\n\u001b[0;32m--> 270\u001b[0m     \u001b[43mSorterClass\u001b[49m\u001b[38;5;241;43m.\u001b[39;49m\u001b[43m_run_from_folder\u001b[49m\u001b[43m(\u001b[49m\u001b[43msorter_output_folder\u001b[49m\u001b[43m,\u001b[49m\u001b[43m \u001b[49m\u001b[43msorter_params\u001b[49m\u001b[43m,\u001b[49m\u001b[43m \u001b[49m\u001b[43mverbose\u001b[49m\u001b[43m)\u001b[49m\n\u001b[1;32m    271\u001b[0m     t1 \u001b[38;5;241m=\u001b[39m time\u001b[38;5;241m.\u001b[39mperf_counter()\n\u001b[1;32m    272\u001b[0m     run_time \u001b[38;5;241m=\u001b[39m \u001b[38;5;28mfloat\u001b[39m(t1 \u001b[38;5;241m-\u001b[39m t0)\n",
      "File \u001b[0;32m~/.conda/envs/spike_sorting_jct/lib/python3.11/site-packages/spikeinterface/sorters/external/kilosort4.py:380\u001b[0m, in \u001b[0;36mKilosort4Sorter._run_from_folder\u001b[0;34m(cls, sorter_output_folder, params, verbose)\u001b[0m\n\u001b[1;32m    378\u001b[0m \u001b[38;5;28;01mif\u001b[39;00m version\u001b[38;5;241m.\u001b[39mparse(ks_version) \u001b[38;5;241m>\u001b[39m\u001b[38;5;241m=\u001b[39m version\u001b[38;5;241m.\u001b[39mparse(\u001b[38;5;124m\"\u001b[39m\u001b[38;5;124m4.0.28\u001b[39m\u001b[38;5;124m\"\u001b[39m):\n\u001b[1;32m    379\u001b[0m     detect_spikes_kwargs\u001b[38;5;241m.\u001b[39mupdate(\u001b[38;5;28mdict\u001b[39m(verbose\u001b[38;5;241m=\u001b[39mverbose))\n\u001b[0;32m--> 380\u001b[0m st, tF, _, _ \u001b[38;5;241m=\u001b[39m \u001b[43mdetect_spikes\u001b[49m\u001b[43m(\u001b[49m\u001b[38;5;241;43m*\u001b[39;49m\u001b[38;5;241;43m*\u001b[39;49m\u001b[43mdetect_spikes_kwargs\u001b[49m\u001b[43m)\u001b[49m\n\u001b[1;32m    382\u001b[0m cluster_spikes_kwargs \u001b[38;5;241m=\u001b[39m \u001b[38;5;28mdict\u001b[39m(\n\u001b[1;32m    383\u001b[0m     st\u001b[38;5;241m=\u001b[39mst,\n\u001b[1;32m    384\u001b[0m     tF\u001b[38;5;241m=\u001b[39mtF,\n\u001b[0;32m   (...)\u001b[0m\n\u001b[1;32m    390\u001b[0m     clear_cache\u001b[38;5;241m=\u001b[39mclear_cache,\n\u001b[1;32m    391\u001b[0m )\n\u001b[1;32m    392\u001b[0m \u001b[38;5;28;01mif\u001b[39;00m version\u001b[38;5;241m.\u001b[39mparse(ks_version) \u001b[38;5;241m>\u001b[39m\u001b[38;5;241m=\u001b[39m version\u001b[38;5;241m.\u001b[39mparse(\u001b[38;5;124m\"\u001b[39m\u001b[38;5;124m4.0.28\u001b[39m\u001b[38;5;124m\"\u001b[39m):\n",
      "File \u001b[0;32m~/.conda/envs/spike_sorting_jct/lib/python3.11/site-packages/kilosort/run_kilosort.py:757\u001b[0m, in \u001b[0;36mdetect_spikes\u001b[0;34m(ops, device, bfile, tic0, progress_bar, clear_cache, verbose)\u001b[0m\n\u001b[1;32m    755\u001b[0m logger\u001b[38;5;241m.\u001b[39minfo(\u001b[38;5;124mf\u001b[39m\u001b[38;5;124m'\u001b[39m\u001b[38;5;124mExtracting spikes using templates\u001b[39m\u001b[38;5;124m'\u001b[39m)\n\u001b[1;32m    756\u001b[0m logger\u001b[38;5;241m.\u001b[39minfo(\u001b[38;5;124m'\u001b[39m\u001b[38;5;124m-\u001b[39m\u001b[38;5;124m'\u001b[39m\u001b[38;5;241m*\u001b[39m\u001b[38;5;241m40\u001b[39m)\n\u001b[0;32m--> 757\u001b[0m st0, tF, ops \u001b[38;5;241m=\u001b[39m \u001b[43mspikedetect\u001b[49m\u001b[38;5;241;43m.\u001b[39;49m\u001b[43mrun\u001b[49m\u001b[43m(\u001b[49m\n\u001b[1;32m    758\u001b[0m \u001b[43m    \u001b[49m\u001b[43mops\u001b[49m\u001b[43m,\u001b[49m\u001b[43m \u001b[49m\u001b[43mbfile\u001b[49m\u001b[43m,\u001b[49m\u001b[43m \u001b[49m\u001b[43mdevice\u001b[49m\u001b[38;5;241;43m=\u001b[39;49m\u001b[43mdevice\u001b[49m\u001b[43m,\u001b[49m\u001b[43m \u001b[49m\u001b[43mprogress_bar\u001b[49m\u001b[38;5;241;43m=\u001b[39;49m\u001b[43mprogress_bar\u001b[49m\u001b[43m,\u001b[49m\n\u001b[1;32m    759\u001b[0m \u001b[43m    \u001b[49m\u001b[43mclear_cache\u001b[49m\u001b[38;5;241;43m=\u001b[39;49m\u001b[43mclear_cache\u001b[49m\u001b[43m,\u001b[49m\u001b[43m \u001b[49m\u001b[43mverbose\u001b[49m\u001b[38;5;241;43m=\u001b[39;49m\u001b[43mverbose\u001b[49m\n\u001b[1;32m    760\u001b[0m \u001b[43m    \u001b[49m\u001b[43m)\u001b[49m\n\u001b[1;32m    761\u001b[0m tF \u001b[38;5;241m=\u001b[39m torch\u001b[38;5;241m.\u001b[39mfrom_numpy(tF)\n\u001b[1;32m    762\u001b[0m logger\u001b[38;5;241m.\u001b[39minfo(\u001b[38;5;124mf\u001b[39m\u001b[38;5;124m'\u001b[39m\u001b[38;5;132;01m{\u001b[39;00m\u001b[38;5;28mlen\u001b[39m(st0)\u001b[38;5;132;01m}\u001b[39;00m\u001b[38;5;124m spikes extracted in \u001b[39m\u001b[38;5;132;01m{\u001b[39;00mtime\u001b[38;5;241m.\u001b[39mtime()\u001b[38;5;241m-\u001b[39mtic\u001b[38;5;250m \u001b[39m\u001b[38;5;132;01m:\u001b[39;00m\u001b[38;5;124m .2f\u001b[39m\u001b[38;5;132;01m}\u001b[39;00m\u001b[38;5;124ms; \u001b[39m\u001b[38;5;124m'\u001b[39m \u001b[38;5;241m+\u001b[39m \n\u001b[1;32m    763\u001b[0m             \u001b[38;5;124mf\u001b[39m\u001b[38;5;124m'\u001b[39m\u001b[38;5;124mtotal \u001b[39m\u001b[38;5;132;01m{\u001b[39;00mtime\u001b[38;5;241m.\u001b[39mtime()\u001b[38;5;241m-\u001b[39mtic0\u001b[38;5;250m \u001b[39m\u001b[38;5;132;01m:\u001b[39;00m\u001b[38;5;124m .2f\u001b[39m\u001b[38;5;132;01m}\u001b[39;00m\u001b[38;5;124ms\u001b[39m\u001b[38;5;124m'\u001b[39m)\n",
      "File \u001b[0;32m~/.conda/envs/spike_sorting_jct/lib/python3.11/site-packages/kilosort/spikedetect.py:259\u001b[0m, in \u001b[0;36mrun\u001b[0;34m(ops, bfile, device, progress_bar, clear_cache, verbose)\u001b[0m\n\u001b[1;32m    256\u001b[0m     log_performance(logger, \u001b[38;5;124m'\u001b[39m\u001b[38;5;124mdebug\u001b[39m\u001b[38;5;124m'\u001b[39m, \u001b[38;5;124mf\u001b[39m\u001b[38;5;124m'\u001b[39m\u001b[38;5;124mBatch \u001b[39m\u001b[38;5;132;01m{\u001b[39;00mibatch\u001b[38;5;132;01m}\u001b[39;00m\u001b[38;5;124m of \u001b[39m\u001b[38;5;132;01m{\u001b[39;00mnb\u001b[38;5;241m-\u001b[39m\u001b[38;5;241m1\u001b[39m\u001b[38;5;132;01m}\u001b[39;00m\u001b[38;5;124m (\u001b[39m\u001b[38;5;132;01m{\u001b[39;00m\u001b[38;5;241m100\u001b[39m\u001b[38;5;241m*\u001b[39m(ibatch\u001b[38;5;241m/\u001b[39mnb)\u001b[38;5;132;01m:\u001b[39;00m\u001b[38;5;124m.1f\u001b[39m\u001b[38;5;132;01m}\u001b[39;00m\u001b[38;5;124m%)\u001b[39m\u001b[38;5;124m'\u001b[39m)\n\u001b[1;32m    258\u001b[0m X \u001b[38;5;241m=\u001b[39m bfile\u001b[38;5;241m.\u001b[39mpadded_batch_to_torch(ibatch, ops)\n\u001b[0;32m--> 259\u001b[0m xy, imax, amp, adist \u001b[38;5;241m=\u001b[39m \u001b[43mtemplate_match\u001b[49m\u001b[43m(\u001b[49m\u001b[43mX\u001b[49m\u001b[43m,\u001b[49m\u001b[43m \u001b[49m\u001b[43mops\u001b[49m\u001b[43m,\u001b[49m\u001b[43m \u001b[49m\u001b[43miC\u001b[49m\u001b[43m,\u001b[49m\u001b[43m \u001b[49m\u001b[43miC2\u001b[49m\u001b[43m,\u001b[49m\u001b[43m \u001b[49m\u001b[43mweigh\u001b[49m\u001b[43m,\u001b[49m\u001b[43m \u001b[49m\u001b[43mdevice\u001b[49m\u001b[38;5;241;43m=\u001b[39;49m\u001b[43mdevice\u001b[49m\u001b[43m)\u001b[49m\n\u001b[1;32m    260\u001b[0m yct \u001b[38;5;241m=\u001b[39m yweighted(yc, iC, adist, xy, device\u001b[38;5;241m=\u001b[39mdevice)\n\u001b[1;32m    261\u001b[0m nsp \u001b[38;5;241m=\u001b[39m \u001b[38;5;28mlen\u001b[39m(xy)\n",
      "File \u001b[0;32m~/.conda/envs/spike_sorting_jct/lib/python3.11/site-packages/kilosort/spikedetect.py:164\u001b[0m, in \u001b[0;36mtemplate_match\u001b[0;34m(X, ops, iC, iC2, weigh, device)\u001b[0m\n\u001b[1;32m    162\u001b[0m Amaxs[:,\u001b[38;5;241m-\u001b[39mnt:] \u001b[38;5;241m=\u001b[39m \u001b[38;5;241m0\u001b[39m\n\u001b[1;32m    163\u001b[0m Amaxs  \u001b[38;5;241m=\u001b[39m max_pool1d(Amaxs\u001b[38;5;241m.\u001b[39munsqueeze(\u001b[38;5;241m0\u001b[39m), (\u001b[38;5;241m2\u001b[39m\u001b[38;5;241m*\u001b[39mnt0\u001b[38;5;241m+\u001b[39m\u001b[38;5;241m1\u001b[39m), stride \u001b[38;5;241m=\u001b[39m \u001b[38;5;241m1\u001b[39m, padding \u001b[38;5;241m=\u001b[39m nt0)\u001b[38;5;241m.\u001b[39msqueeze(\u001b[38;5;241m0\u001b[39m)\n\u001b[0;32m--> 164\u001b[0m xy \u001b[38;5;241m=\u001b[39m \u001b[43mtorch\u001b[49m\u001b[38;5;241;43m.\u001b[39;49m\u001b[43mlogical_and\u001b[49m\u001b[43m(\u001b[49m\u001b[43mAmaxs\u001b[49m\u001b[38;5;241;43m==\u001b[39;49m\u001b[43mAs\u001b[49m\u001b[43m,\u001b[49m\u001b[43m \u001b[49m\u001b[43mAs\u001b[49m\u001b[43m \u001b[49m\u001b[38;5;241;43m>\u001b[39;49m\u001b[43m \u001b[49m\u001b[43mops\u001b[49m\u001b[43m[\u001b[49m\u001b[38;5;124;43m'\u001b[39;49m\u001b[38;5;124;43mTh_universal\u001b[39;49m\u001b[38;5;124;43m'\u001b[39;49m\u001b[43m]\u001b[49m\u001b[43m)\u001b[49m\u001b[38;5;241;43m.\u001b[39;49m\u001b[43mnonzero\u001b[49m\u001b[43m(\u001b[49m\u001b[43m)\u001b[49m\n\u001b[1;32m    165\u001b[0m imax \u001b[38;5;241m=\u001b[39m imaxs[xy[:,\u001b[38;5;241m0\u001b[39m], xy[:,\u001b[38;5;241m1\u001b[39m]]\n\u001b[1;32m    166\u001b[0m amp \u001b[38;5;241m=\u001b[39m As[xy[:,\u001b[38;5;241m0\u001b[39m], xy[:,\u001b[38;5;241m1\u001b[39m]]\n",
      "\u001b[0;31mKeyboardInterrupt\u001b[0m: "
     ]
    }
   ],
   "source": [
    "file = '810755803'\n",
    "recording_raw = se.MEArecRecordingExtractor(file_path='/media/ubuntu/sda/Spike_Sorting/paper_architecture/02_simulation_data/02_Neuropixel_384_channels/data_generation/recording_neuropixels_type1.h5')\n",
    "probe_384channel = recording_raw.get_probegroup()\n",
    "\n",
    "recording_raw = se.read_binary(file_paths=f'/media/ubuntu/sda/Spike_Sorting/paper_architecture/01_real_data/03_Neuropixel_384_channels_visual_stimuli/raw_data/{file}/spike_band.dat', sampling_frequency=30000, dtype=np.int16, num_channels=384)\n",
    "recording_raw = recording_raw.set_probegroup(probe_384channel)\n",
    "recording_f = spre.bandpass_filter(recording_raw, freq_min=300, freq_max=3000)\n",
    "recording_f = spre.common_reference(recording_f, reference=\"global\", operator=\"median\")\n",
    "recording_f = recording_f.time_slice(start_time=0, end_time= 1200)\n",
    "\n",
    "recording_preprocessed = recording_f.save(format=\"binary\")\n",
    "\n",
    "output_folder = f'/media/ubuntu/sda/Spike_Sorting/paper_architecture/01_real_data/03_Neuropixel_384_channels_visual_stimuli/spike_sorting/test'\n",
    "sorting_kilosort4 = ss.run_sorter(sorter_name=\"kilosort4\", recording=recording_preprocessed, output_folder=output_folder + \"/kilosort4\")\n",
    "analyzer_kilosort4 = si.create_sorting_analyzer(sorting=sorting_kilosort4, recording=recording_f, format='binary_folder', folder=output_folder + '/analyzer_kilosort4_binary')\n",
    "\n",
    "extensions_to_compute = [\n",
    "    \"random_spikes\",\n",
    "    \"waveforms\",\n",
    "    \"noise_levels\",\n",
    "    \"templates\",\n",
    "    \"spike_amplitudes\",\n",
    "    \"unit_locations\",\n",
    "    \"spike_locations\",\n",
    "    \"correlograms\",\n",
    "    \"template_similarity\"\n",
    "]\n",
    "\n",
    "extension_params = {\n",
    "    \"unit_locations\": {\"method\": \"center_of_mass\"},\n",
    "    \"spike_locations\": {\"ms_before\": 0.1},\n",
    "    \"correlograms\": {\"bin_ms\": 0.1},\n",
    "    \"template_similarity\": {\"method\": \"cosine_similarity\"}\n",
    "}\n",
    "\n",
    "analyzer_kilosort4.compute(extensions_to_compute, extension_params=extension_params)\n",
    "\n",
    "qm_params = sqm.get_default_qm_params()\n",
    "analyzer_kilosort4.compute(\"quality_metrics\", qm_params)\n",
    "\n",
    "import spikeinterface.exporters as sexp\n",
    "sexp.export_to_phy(analyzer_kilosort4, output_folder + \"/phy_folder_for_kilosort\", verbose=True)\n",
    "\n"
   ]
  }
 ],
 "metadata": {
  "kernelspec": {
   "display_name": "spike_sorting_jct",
   "language": "python",
   "name": "python3"
  },
  "language_info": {
   "codemirror_mode": {
    "name": "ipython",
    "version": 3
   },
   "file_extension": ".py",
   "mimetype": "text/x-python",
   "name": "python",
   "nbconvert_exporter": "python",
   "pygments_lexer": "ipython3",
   "version": "3.11.13"
  }
 },
 "nbformat": 4,
 "nbformat_minor": 5
}
