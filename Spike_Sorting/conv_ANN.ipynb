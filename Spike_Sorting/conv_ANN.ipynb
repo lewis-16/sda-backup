{
 "cells": [
  {
   "cell_type": "code",
   "execution_count": 31,
   "metadata": {},
   "outputs": [],
   "source": [
    "import numpy as np\n",
    "import pandas as pd\n",
    "import seaborn as sns\n",
    "import warnings\n",
    "warnings.filterwarnings('ignore')\n",
    "import spikeinterface as si\n",
    "import matplotlib.pyplot as plt\n",
    "import os\n",
    "from matplotlib.backends.backend_pdf import PdfPages\n",
    "\n",
    "from tqdm import tqdm\n",
    "\n",
    "import sys\n",
    "import spikeinterface as si\n",
    "import matplotlib.pyplot as plt\n",
    "import spikeinterface.extractors as se\n",
    "import spikeinterface.preprocessing as spre\n",
    "import spikeinterface.sorters as ss\n",
    "import spikeinterface.widgets as sw\n",
    "import spikeinterface.qualitymetrics as sqm\n",
    "import json\n",
    "import probeinterface\n",
    "\n",
    "from probeinterface import Probe, ProbeGroup\n",
    "from probeinterface.plotting import plot_probe, plot_probegroup\n",
    "from probeinterface import generate_dummy_probe, generate_linear_probe\n",
    "from probeinterface import write_probeinterface, read_probeinterface\n",
    "from probeinterface import write_prb, read_prb\n",
    "from torch.nn.functional import max_pool1d\n",
    "\n",
    "import torch\n",
    "import torch.nn as nn\n",
    "import torch.nn.functional as F"
   ]
  },
  {
   "cell_type": "code",
   "execution_count": 32,
   "metadata": {},
   "outputs": [],
   "source": [
    "def count_array2_in_range_of_array1(array1, array2, threshold=5):\n",
    "    sorted_array1 = np.sort(array1)\n",
    "    \n",
    "    lefts = array2 - threshold\n",
    "    rights = array2 + threshold\n",
    "    \n",
    "    left_indices = np.searchsorted(sorted_array1, lefts, side='left')\n",
    "    \n",
    "    right_indices = np.searchsorted(sorted_array1, rights, side='right')\n",
    "    \n",
    "    has_within_range = right_indices > left_indices\n",
    "    \n",
    "    count = np.sum(has_within_range)\n",
    "    \n",
    "    return count\n",
    "def label_array1_based_on_array2(array1, array2, threshold=5):\n",
    "    \"\"\"\n",
    "    根据 array2 的值对 array1 进行标记。\n",
    "    如果 array1 中的某个值在 threshold 范围内存在于 array2 中，则标记为 1，否则为 0。\n",
    "    \n",
    "    参数:\n",
    "    array1 : numpy.ndarray\n",
    "        要标记的数组。\n",
    "    array2 : numpy.ndarray\n",
    "        用于判断的数组。\n",
    "    threshold : int\n",
    "        判断范围的阈值。\n",
    "    \n",
    "    返回:\n",
    "    labels : numpy.ndarray\n",
    "        长度为 len(array1) 的标签数组，值为 0 或 1。\n",
    "    \"\"\"\n",
    "    sorted_array2 = np.sort(array2)\n",
    "    \n",
    "    labels = np.zeros(len(array1), dtype=int)\n",
    "    \n",
    "    for i, value in enumerate(array1):\n",
    "        left = value - threshold\n",
    "        right = value + threshold\n",
    "        \n",
    "        left_index = np.searchsorted(sorted_array2, left, side='left')\n",
    "        right_index = np.searchsorted(sorted_array2, right, side='right')\n",
    "        \n",
    "        if right_index > left_index:\n",
    "            labels[i] = 1\n",
    "    \n",
    "    return labels\n",
    "\n",
    "def extract_windows(data, indices, window_size=61):\n",
    "    \"\"\"\n",
    "    根据给定的时间点索引提取窗口。\n",
    "    \n",
    "    参数:\n",
    "    data : numpy.ndarray\n",
    "        输入数据，形状为 (n_channels, time)\n",
    "    indices : numpy.ndarray\n",
    "        时间点索引数组，用于指定需要提取窗口的中心点\n",
    "    window_size : int\n",
    "        窗口长度，默认为61（对应time-30到time+31）\n",
    "    \n",
    "    返回:\n",
    "    windows : numpy.ndarray\n",
    "        提取的窗口数据，形状为 (len(indices), n_channels, window_size)\n",
    "    \"\"\"\n",
    "    n_channels, time_length = data.shape\n",
    "    half_window = window_size // 2\n",
    "\n",
    "    if np.any(indices < half_window) or np.any(indices >= time_length - half_window):\n",
    "        raise ValueError(\"Some indices are out of bounds for the given window size.\")\n",
    "\n",
    "    windows = []\n",
    "    for idx in indices:\n",
    "        window = data[:, idx - half_window:idx + half_window + 1]\n",
    "        windows.append(window)\n",
    "\n",
    "    windows = np.array(windows)\n",
    "    return windows\n",
    "\n",
    "def detect_local_maxima_in_window(data, window_size=20, std_multiplier=2):\n",
    "    \"\"\"\n",
    "    在每个滑动窗口范围内检测局部最大值的索引，并确保最大值大于两倍的标准差。\n",
    "\n",
    "    参数:\n",
    "    data : numpy.ndarray\n",
    "        输入数据，形状为 (n_rows, n_columns)。\n",
    "    window_size : int\n",
    "        滑动窗口的大小，用于定义局部范围，默认为 20。\n",
    "    std_multiplier : float\n",
    "        标准差的倍数，用于筛选局部最大值，默认为 2。\n",
    "\n",
    "    返回:\n",
    "    local_maxima_indices : list of numpy.ndarray\n",
    "        每行局部最大值的索引列表，每个元素是对应行局部最大值的索引数组。\n",
    "    \"\"\"\n",
    "    local_maxima_indices = []\n",
    "\n",
    "    for row in data:\n",
    "        maxima_indices = []\n",
    "        row_std = np.std(row)\n",
    "        threshold = std_multiplier * row_std\n",
    "\n",
    "        for start in range(0, len(row), window_size):\n",
    "            end = min(start + window_size, len(row))\n",
    "            window = row[start:end]\n",
    "            \n",
    "            if len(window) > 0:\n",
    "                local_max_index = np.argmax(window)\n",
    "                local_max_value = window[local_max_index]\n",
    "                \n",
    "                if local_max_value > threshold:\n",
    "                    maxima_indices.append(start + local_max_index)  \n",
    "        \n",
    "        local_maxima_indices.extend(maxima_indices)\n",
    "        local_maxima_indices = list(set(local_maxima_indices))  \n",
    "\n",
    "    return local_maxima_indices"
   ]
  },
  {
   "cell_type": "code",
   "execution_count": 79,
   "metadata": {},
   "outputs": [],
   "source": [
    "channel_indices = {\n",
    "        \"1\": [1, 3, 5, 7, 9, 11],\n",
    "        \"2\": [13, 15, 17, 19, 21, 23],\n",
    "        \"3\": [24, 25, 26, 27, 28, 29],\n",
    "        \"4\": [12, 14, 16, 18, 20, 22],\n",
    "        \"5\": [0, 2, 4, 6, 8, 10]\n",
    "        }\n",
    "channel_position = {\n",
    "    0: [650, 0],\n",
    "    2: [650, 50],\n",
    "    4: [650, 100],\n",
    "    6: [600, 100],\n",
    "    8: [600, 50],\n",
    "    10: [600, 0],\n",
    "    1: [0, 0],\n",
    "    3: [0, 50],\n",
    "    5: [0, 100],\n",
    "    7: [50, 100],\n",
    "    9: [50, 50],\n",
    "    11: [50, 0],\n",
    "    13: [150, 200], \n",
    "    15: [150, 250],\n",
    "    17: [150, 300],\n",
    "    19: [200, 300],\n",
    "    21: [200, 250],\n",
    "    23: [200, 200],\n",
    "    12: [500, 200],\n",
    "    14: [500, 250],\n",
    "    16: [500, 300],\n",
    "    18: [450, 300],\n",
    "    20: [450, 250],\n",
    "    22: [450, 200],\n",
    "    24: [350, 400],\n",
    "    26: [350, 450],\n",
    "    28: [350, 500],\n",
    "    25: [300, 400],\n",
    "    27: [300, 450],\n",
    "    29: [300, 500]}"
   ]
  },
  {
   "cell_type": "code",
   "execution_count": 34,
   "metadata": {},
   "outputs": [],
   "source": [
    "recording_raw = se.read_blackrock(file_path='/media/ubuntu/sda/data/mouse6/ns4/natural_image/mouse6_021322_natural_image001.ns4')\n",
    "recording_recorded = recording_raw.remove_channels([\"98\", '31', '32'])\n",
    "recording_stimulated = recording_raw.channel_slice(['98'])\n",
    "\n",
    "recording_f = spre.bandpass_filter(recording_recorded, freq_min=300, freq_max=3000)\n",
    "recording_f = spre.common_reference(recording_f, reference=\"global\", operator=\"median\")"
   ]
  },
  {
   "cell_type": "code",
   "execution_count": 35,
   "metadata": {},
   "outputs": [],
   "source": [
    "data = recording_f.get_traces().astype(\"float32\")"
   ]
  },
  {
   "cell_type": "code",
   "execution_count": 58,
   "metadata": {},
   "outputs": [],
   "source": [
    "threshold_result = detect_local_maxima_in_window(data.T)"
   ]
  },
  {
   "cell_type": "code",
   "execution_count": 1,
   "metadata": {},
   "outputs": [
    {
     "ename": "NameError",
     "evalue": "name 'np' is not defined",
     "output_type": "error",
     "traceback": [
      "\u001b[0;31m---------------------------------------------------------------------------\u001b[0m",
      "\u001b[0;31mNameError\u001b[0m                                 Traceback (most recent call last)",
      "Cell \u001b[0;32mIn[1], line 1\u001b[0m\n\u001b[0;32m----> 1\u001b[0m threshold_result \u001b[38;5;241m=\u001b[39m \u001b[43mnp\u001b[49m\u001b[38;5;241m.\u001b[39marray(threshold_result)\n\u001b[1;32m      2\u001b[0m valid_indices \u001b[38;5;241m=\u001b[39m threshold_result[(threshold_result \u001b[38;5;241m>\u001b[39m \u001b[38;5;241m30\u001b[39m)]\n\u001b[1;32m      3\u001b[0m valid_indices \u001b[38;5;241m=\u001b[39m valid_indices[valid_indices \u001b[38;5;241m<\u001b[39m data\u001b[38;5;241m.\u001b[39mshape[\u001b[38;5;241m1\u001b[39m] \u001b[38;5;241m-\u001b[39m \u001b[38;5;241m31\u001b[39m]\n",
      "\u001b[0;31mNameError\u001b[0m: name 'np' is not defined"
     ]
    }
   ],
   "source": [
    "threshold_result = np.array(threshold_result)\n",
    "valid_indices = threshold_result[(threshold_result > 30)]\n",
    "valid_indices = valid_indices[valid_indices < data.shape[1] - 31]"
   ]
  },
  {
   "cell_type": "code",
   "execution_count": 36,
   "metadata": {},
   "outputs": [],
   "source": [
    "import pickle\n",
    "with open('/home/ubuntu/Documents/jct/project/code/Spike_Sorting/sorting_results/021322/neuron_inf.pkl', 'rb') as f:\n",
    "    neuron_inf = pickle.load(f)"
   ]
  },
  {
   "cell_type": "code",
   "execution_count": 9,
   "metadata": {},
   "outputs": [],
   "source": [
    "for i in range(len(neuron_inf)):\n",
    "    temp = neuron_inf['channel_waveform'].values[i]\n",
    "    \n",
    "    zero_cols = [j for j in range(temp.shape[1]) if np.sum(temp[:, j]) == 0]\n",
    "    \n",
    "    if zero_cols:\n",
    "        print(f\"Detect zero in neuron {neuron_inf['Neuron'].values[i]}, columns: {zero_cols}\")\n",
    "        \n",
    "        new_waveform = np.delete(temp, zero_cols, axis=1)\n",
    "        neuron_inf.at[i, 'channel_waveform'] = new_waveform\n",
    "        \n",
    "        channel_id_list = neuron_inf['channel_id'].values[i]  \n",
    "        new_channel_id = [ch for idx, ch in enumerate(channel_id_list) if idx not in zero_cols]\n",
    "        neuron_inf.at[i, 'channel_id'] = new_channel_id"
   ]
  },
  {
   "cell_type": "code",
   "execution_count": 10,
   "metadata": {},
   "outputs": [],
   "source": [
    "for i in range(len(neuron_inf)):\n",
    "    temp = neuron_inf['channel_waveform'].values[i].T\n",
    "    channel_id = neuron_inf['channel_id'].values[i]\n",
    "    waveform = np.zeros((temp.shape[0], 30))\n",
    "\n",
    "    for j in range(temp.shape[1]):\n",
    "        waveform[:, channel_id[j]] = temp[:, j]\n",
    "\n",
    "    neuron_inf['channel_waveform'].values[i] = waveform\n",
    "    "
   ]
  },
  {
   "cell_type": "code",
   "execution_count": 11,
   "metadata": {},
   "outputs": [],
   "source": [
    "spike_inf = pd.read_csv('/home/ubuntu/Documents/jct/project/code/Spike_Sorting/sorting_results/021322/spike_inf.csv')"
   ]
  },
  {
   "cell_type": "code",
   "execution_count": 46,
   "metadata": {},
   "outputs": [],
   "source": [
    "i = 0\n",
    "win_size = 5\n",
    "U = neuron_inf['channel_waveform'].values[i].copy()\n",
    "U_normalize = U/(U**2).sum()**.5\n",
    "\n",
    "\n",
    "channel_id = neuron_inf['channel_id'].values[i].copy()\n",
    "threshold_result_temp = []\n",
    "for j in range(len(channel_id)):\n",
    "    threshold_result_temp.extend(threshold_result[channel_id[j]])\n",
    "\n",
    "threshold_result_temp = np.array(list(set(threshold_result_temp)))\n",
    "\n",
    "threshold_result_temp = threshold_result_temp - 30\n",
    "valid_indices = threshold_result_temp[(threshold_result_temp > 30)]\n",
    "valid_indices = valid_indices[valid_indices < data.shape[0] - 31]\n",
    "\n",
    "sample_data = extract_windows(data.T, valid_indices, window_size=61).transpose(0, 2, 1)\n"
   ]
  },
  {
   "cell_type": "code",
   "execution_count": null,
   "metadata": {},
   "outputs": [],
   "source": [
    "i = 0\n",
    "U = neuron_inf['channel_waveform'].values[i].copy()\n",
    "U_normalize = U/(U**2).sum()**.5\n",
    "\n",
    "\n",
    "channel_id = neuron_inf['channel_id'].values[i].copy()\n",
    "\n",
    "threshold_result = np.array(threshold_result)\n",
    "\n",
    "valid_indices = threshold_result[(threshold_result > 30)]\n",
    "valid_indices = valid_indices[valid_indices < data.shape[0] - 31]\n",
    "\n",
    "sample_data = extract_windows(data.T, valid_indices, window_size=61).transpose(0, 2, 1)\n"
   ]
  },
  {
   "cell_type": "code",
   "execution_count": 99,
   "metadata": {},
   "outputs": [
    {
     "data": {
      "text/plain": [
       "(61, 30)"
      ]
     },
     "execution_count": 99,
     "metadata": {},
     "output_type": "execute_result"
    }
   ],
   "source": [
    "U_normalize.shape"
   ]
  },
  {
   "cell_type": "code",
   "execution_count": 98,
   "metadata": {},
   "outputs": [
    {
     "data": {
      "text/plain": [
       "(9297383, 61, 30)"
      ]
     },
     "execution_count": 98,
     "metadata": {},
     "output_type": "execute_result"
    }
   ],
   "source": [
    "sample_data.shape"
   ]
  },
  {
   "cell_type": "code",
   "execution_count": 100,
   "metadata": {},
   "outputs": [],
   "source": [
    "scores_raw = np.einsum('ij,nij->in', U_normalize, sample_data)\n"
   ]
  },
  {
   "cell_type": "code",
   "execution_count": 101,
   "metadata": {},
   "outputs": [
    {
     "data": {
      "text/plain": [
       "(61, 9297383)"
      ]
     },
     "execution_count": 101,
     "metadata": {},
     "output_type": "execute_result"
    }
   ],
   "source": [
    "scores_raw.shape"
   ]
  },
  {
   "cell_type": "code",
   "execution_count": 77,
   "metadata": {},
   "outputs": [],
   "source": [
    "scores_raw = np.einsum('ij,nij->in', U_normalize, sample_data)\n",
    "scores_raw = np.mean(scores_raw, axis = 0)\n",
    "\n",
    "scores = np.einsum('ij,nij->in', U_normalize, sample_data)** 2\n",
    "scores = scores.max(axis= 0)\n"
   ]
  },
  {
   "cell_type": "code",
   "execution_count": 76,
   "metadata": {},
   "outputs": [
    {
     "data": {
      "text/plain": [
       "(9297383,)"
      ]
     },
     "execution_count": 76,
     "metadata": {},
     "output_type": "execute_result"
    }
   ],
   "source": [
    "scores_raw.shape"
   ]
  },
  {
   "cell_type": "code",
   "execution_count": 96,
   "metadata": {},
   "outputs": [
    {
     "name": "stdout",
     "output_type": "stream",
     "text": [
      "1747593\n"
     ]
    },
    {
     "data": {
      "text/plain": [
       "0.2147962475802849"
      ]
     },
     "execution_count": 96,
     "metadata": {},
     "output_type": "execute_result"
    }
   ],
   "source": [
    "win_size = 5\n",
    "scores = torch.tensor(scores)\n",
    "\n",
    "pooled = max_pool1d(\n",
    "    scores.unsqueeze(0).unsqueeze(0),\n",
    "    kernel_size=win_size,\n",
    "    stride=1,\n",
    "    padding=win_size//2\n",
    ").squeeze()\n",
    "\n",
    "is_peak = (scores == pooled) & (torch.abs(pooled) > 0) \n",
    "spike_train = np.where(is_peak.numpy())[0]\n",
    "\n",
    "spike_inf_temp = spike_inf[spike_inf['cluster'] == int(neuron_inf['cluster'].values[i])]\n",
    "print(len(spike_train))\n",
    "count_array2_in_range_of_array1(spike_train, spike_inf_temp['time'].values, threshold=5) / len(spike_inf_temp['time'])"
   ]
  },
  {
   "cell_type": "code",
   "execution_count": 97,
   "metadata": {},
   "outputs": [
    {
     "data": {
      "text/plain": [
       "0.9707400605549213"
      ]
     },
     "execution_count": 97,
     "metadata": {},
     "output_type": "execute_result"
    }
   ],
   "source": [
    "count_array2_in_range_of_array1(threshold_result, spike_inf_temp['time'].values, threshold=5) / len(spike_inf_temp['time'])"
   ]
  },
  {
   "cell_type": "code",
   "execution_count": null,
   "metadata": {},
   "outputs": [],
   "source": [
    "import torch\n",
    "\n",
    "ratio_in = []\n",
    "ratio_compare = []\n",
    "spike_train = {}\n",
    "for i in range(len(neuron_inf)):\n",
    "    win_size = 5\n",
    "\n",
    "    U = neuron_inf['channel_waveform'].values[i].copy()\n",
    "    U = torch.tensor(U)\n",
    "\n",
    "    X = data.T \n",
    "\n",
    "    U_normalize = U/(U**2).sum()**.5\n",
    "\n",
    "    scores_raw = np.dot(U_normalize, X)\n",
    "    scores_raw = np.mean(scores_raw, axis = 0)\n",
    "\n",
    "    scores = np.dot(U_normalize, X) ** 2\n",
    "    scores = scores.max(axis= 0)\n",
    "\n",
    "    pad = U.shape[1]\n",
    "    scores = torch.tensor(scores)\n",
    "\n",
    "    pooled = max_pool1d(\n",
    "        scores.unsqueeze(0).unsqueeze(0),\n",
    "        kernel_size=win_size,\n",
    "        stride=1,\n",
    "        padding=win_size//2\n",
    "    ).squeeze()\n",
    "\n",
    "    is_peak = (scores == pooled) & (torch.abs(pooled) > pooled.mean() * 3 ) & (scores_raw > 0)\n",
    "    spike_train[neuron_inf['Neuron'].values[i]] = np.where(is_peak.numpy())[0]\n",
    "\n",
    "    spike_inf_temp = spike_inf[spike_inf['cluster'] == int(neuron_inf['cluster'].values[i])]\n",
    "    ratio_in.append(count_array2_in_range_of_array1(spike_train[neuron_inf['Neuron'].values[i]], spike_inf_temp['time'].values, threshold=3) / len(spike_inf_temp['time']))\n",
    "    ratio_compare.append(len(spike_train[neuron_inf['Neuron'].values[i]]) / len(spike_inf_temp))"
   ]
  },
  {
   "cell_type": "code",
   "execution_count": 117,
   "metadata": {},
   "outputs": [
    {
     "data": {
      "text/plain": [
       "<Axes: >"
      ]
     },
     "execution_count": 117,
     "metadata": {},
     "output_type": "execute_result"
    },
    {
     "data": {
      "image/png": "[encoded data removed]",
      "text/plain": [
       "<Figure size 640x480 with 1 Axes>"
      ]
     },
     "metadata": {},
     "output_type": "display_data"
    }
   ],
   "source": [
    "sns.scatterplot(x = ratio_in, y = ratio_compare)"
   ]
  },
  {
   "cell_type": "code",
   "execution_count": 118,
   "metadata": {},
   "outputs": [],
   "source": [
    "class MLP(nn.Module):\n",
    "    def __init__(self, input_size, hidden_size1, hidden_size2, output_size):\n",
    "        super(MLP, self).__init__()\n",
    "        self.fc1 = nn.Linear(input_size, hidden_size1)\n",
    "        self.relu1 = nn.ReLU()\n",
    "        self.fc2 = nn.Linear(hidden_size1, hidden_size2)\n",
    "        self.relu2 = nn.ReLU()\n",
    "        self.fc3 = nn.Linear(hidden_size2, output_size)\n",
    "        self.sigmoid = nn.Sigmoid()  \n",
    "\n",
    "    def forward(self, x):\n",
    "        x = x.reshape(-1, 61 * 30)\n",
    "        x = self.fc1(x)\n",
    "        x = self.relu1(x)\n",
    "        x = self.fc2(x)\n",
    "        x = self.relu2(x)\n",
    "        x = self.fc3(x)\n",
    "        x = self.sigmoid(x)\n",
    "        return x"
   ]
  },
  {
   "cell_type": "code",
   "execution_count": 119,
   "metadata": {},
   "outputs": [],
   "source": [
    "valid_indices = spike_train['Neuron_1']\n",
    "valid_indices = valid_indices[valid_indices < data.shape[0] - 31]\n",
    "valid_indices = valid_indices[valid_indices > 30]\n",
    "\n",
    "labels = label_array1_based_on_array2(valid_indices, spike_inf['time'], threshold=1)\n"
   ]
  },
  {
   "cell_type": "code",
   "execution_count": 120,
   "metadata": {},
   "outputs": [],
   "source": [
    "sample_data = extract_windows(data.T, np.array(valid_indices), window_size=61)"
   ]
  },
  {
   "cell_type": "code",
   "execution_count": 121,
   "metadata": {},
   "outputs": [],
   "source": [
    "device = 'cuda'\n",
    "model = torch.load(\"/home/ubuntu/Documents/jct/project/code/Spike_Sorting/ANN_result/spike_detection.pth\")\n",
    "model = model.to(device)"
   ]
  },
  {
   "cell_type": "code",
   "execution_count": 122,
   "metadata": {},
   "outputs": [],
   "source": [
    "correct = 0\n",
    "total = 0\n",
    "with torch.no_grad():\n",
    "    batch_labels = torch.tensor(labels).float().unsqueeze(1)\n",
    "    batch_data = torch.tensor(sample_data).to(device)\n",
    "    batch_labels = batch_labels.to(device)\n",
    "\n",
    "    outputs = model(batch_data)\n",
    "    predicted = (outputs > 0.5).float()  \n",
    "    total += batch_labels.size(0)\n",
    "    correct += (predicted == batch_labels).sum().item()"
   ]
  },
  {
   "cell_type": "code",
   "execution_count": 123,
   "metadata": {},
   "outputs": [],
   "source": [
    "predicted = np.stack(predicted.cpu().numpy(),axis=1)[0].astype(int)"
   ]
  },
  {
   "cell_type": "code",
   "execution_count": 124,
   "metadata": {},
   "outputs": [],
   "source": [
    "valid_indices = valid_indices[predicted == 1]"
   ]
  },
  {
   "cell_type": "code",
   "execution_count": 125,
   "metadata": {},
   "outputs": [
    {
     "data": {
      "text/plain": [
       "0.4835459373604011"
      ]
     },
     "execution_count": 125,
     "metadata": {},
     "output_type": "execute_result"
    }
   ],
   "source": [
    "spike_inf_temp = spike_inf[spike_inf['Neuron'] == 'Neuron_1']\n",
    "count_array2_in_range_of_array1(valid_indices, spike_inf_temp['time'].values, threshold=15) / len(spike_inf_temp['time'])\n"
   ]
  },
  {
   "cell_type": "code",
   "execution_count": 37,
   "metadata": {},
   "outputs": [],
   "source": [
    "from probeinterface import  read_probeinterface\n",
    "probe_30channel = read_probeinterface('/media/ubuntu/sda/data/probe.json')"
   ]
  },
  {
   "cell_type": "code",
   "execution_count": 38,
   "metadata": {},
   "outputs": [],
   "source": [
    "probe_30channel = probe_30channel.to_dict()\n",
    "channel_position = np.stack(probe_30channel['probes'][0]['contact_positions'], axis=1)\n",
    "probe_x_range = (channel_position[0].min(), channel_position[0].max())\n",
    "probe_y_range = (channel_position[1].min(), channel_position[1].max())"
   ]
  },
  {
   "cell_type": "code",
   "execution_count": 68,
   "metadata": {},
   "outputs": [],
   "source": [
    "x_coords = np.arange(probe_x_range[0], probe_x_range[1] + 1, 50)  \n",
    "y_coords = np.arange(probe_y_range[0], probe_y_range[1] + 1, 50) \n",
    "grid_x, grid_y = np.meshgrid(x_coords, y_coords)\n",
    "grid_coords = np.stack([grid_x, grid_y], axis=-1)  \n",
    "grid_coords = np.concatenate(grid_coords, axis=0)"
   ]
  },
  {
   "cell_type": "code",
   "execution_count": 42,
   "metadata": {},
   "outputs": [],
   "source": [
    "waveform = neuron_inf['position_waveform'].values\n",
    "waveform = np.stack(waveform, axis=0)"
   ]
  },
  {
   "cell_type": "code",
   "execution_count": 43,
   "metadata": {},
   "outputs": [],
   "source": [
    "import numpy as np\n",
    "from scipy.stats import pearsonr\n",
    "\n",
    "def merge_similar_rows(matrix, threshold=0.95):\n",
    "    \"\"\"\n",
    "    合并相似度高于阈值的行，并生成平均值行。\n",
    "\n",
    "    参数:\n",
    "    matrix : numpy.ndarray\n",
    "        输入矩阵，形状为 (n, 61)。\n",
    "    threshold : float\n",
    "        相似度阈值，默认为 0.95。\n",
    "\n",
    "    返回:\n",
    "    merged_matrix : numpy.ndarray\n",
    "        合并后的矩阵。\n",
    "    \"\"\"\n",
    "    n = matrix.shape[0]\n",
    "    to_merge = set()  # 用于记录需要合并的行索引\n",
    "    merged_rows = []  # 存储合并后的行\n",
    "\n",
    "    # 遍历矩阵的每一对行，计算相似度\n",
    "    for i in range(n):\n",
    "        if i in to_merge:  # 如果当前行已被标记为合并，跳过\n",
    "            continue\n",
    "        similar_rows = [i]  # 当前行的相似行索引\n",
    "        for j in range(i + 1, n):\n",
    "            if j in to_merge:  # 如果行 j 已被标记为合并，跳过\n",
    "                continue\n",
    "            # 计算皮尔逊相关系数\n",
    "            corr, _ = pearsonr(matrix[i], matrix[j])\n",
    "            if corr > threshold:\n",
    "                similar_rows.append(j)\n",
    "                to_merge.add(j)  # 标记行 j 为已合并\n",
    "\n",
    "        # 计算相似行的平均值并添加到结果中\n",
    "        merged_rows.append(np.mean(matrix[similar_rows], axis=0))\n",
    "\n",
    "    # 转换为 NumPy 数组\n",
    "    merged_matrix = np.array(merged_rows)\n",
    "    return merged_matrix"
   ]
  },
  {
   "cell_type": "code",
   "execution_count": 44,
   "metadata": {},
   "outputs": [],
   "source": [
    "waveform_merge = merge_similar_rows(waveform, threshold=0.95)"
   ]
  },
  {
   "cell_type": "code",
   "execution_count": 82,
   "metadata": {},
   "outputs": [
    {
     "data": {
      "text/plain": [
       "(7, 61)"
      ]
     },
     "execution_count": 82,
     "metadata": {},
     "output_type": "execute_result"
    }
   ],
   "source": [
    "waveform_merge.shape"
   ]
  },
  {
   "cell_type": "code",
   "execution_count": 45,
   "metadata": {},
   "outputs": [
    {
     "data": {
      "text/plain": [
       "<Axes: >"
      ]
     },
     "execution_count": 45,
     "metadata": {},
     "output_type": "execute_result"
    },
    {
     "data": {
      "image/png": "[encoded data removed]",
      "text/plain": [
       "<Figure size 640x480 with 1 Axes>"
      ]
     },
     "metadata": {},
     "output_type": "display_data"
    }
   ],
   "source": [
    "import seaborn as sns\n",
    "sns.lineplot(waveform_merge.T)"
   ]
  },
  {
   "cell_type": "code",
   "execution_count": 46,
   "metadata": {},
   "outputs": [],
   "source": [
    "std_channel = np.std(data, axis=0)\n",
    "mean_channel = np.mean(data, axis=0)"
   ]
  },
  {
   "cell_type": "code",
   "execution_count": 75,
   "metadata": {},
   "outputs": [],
   "source": [
    "corrds_df = pd.DataFrame()\n",
    "corrds_df['x'] = grid_coords[:, 0]\n",
    "corrds_df['y'] = grid_coords[:, 1]"
   ]
  },
  {
   "cell_type": "code",
   "execution_count": 160,
   "metadata": {},
   "outputs": [],
   "source": [
    "channel_df = pd.DataFrame.from_dict(channel_position, orient='index', columns=['x', 'y'])\n",
    "channel_df['channel_id'] = channel_df.index\n",
    "\n",
    "def find_nearest_channels(row, channel_df, top_n=6):\n",
    "    distances = np.sqrt((channel_df['x'] - row['x'])**2 + (channel_df['y'] - row['y'])**2)\n",
    "    nearest_channels = channel_df.loc[distances.nsmallest(top_n).index, 'channel_id']\n",
    "    return nearest_channels.tolist()\n",
    "\n",
    "corrds_df['channel_id'] = corrds_df.apply(find_nearest_channels, axis=1, channel_df=channel_df)\n"
   ]
  },
  {
   "cell_type": "code",
   "execution_count": 161,
   "metadata": {},
   "outputs": [],
   "source": [
    "def calculate_channel_waveform(waveform, position, channel_df, top_n=6, decay_factor=1.0):\n",
    "    \"\"\"\n",
    "    计算每个波形在每个位置的最近通道的波形大小（考虑距离衰减）。\n",
    "    对于不属于最近通道的通道，其波形值全部赋值为 0。\n",
    "    \"\"\"\n",
    "    distances = np.sqrt((channel_df['x'] - position['x'])**2 + (channel_df['y'] - position['y'])**2)\n",
    "    nearest_indices = distances.nsmallest(top_n).index\n",
    "    nearest_channels = channel_df.loc[nearest_indices]\n",
    "    nearest_distances = distances[nearest_indices]\n",
    "    \n",
    "    nearest_distances = np.maximum(nearest_distances, 1e-6)\n",
    "    weights = 1 / (nearest_distances ** decay_factor)\n",
    "    weights /= weights.sum()\n",
    "    \n",
    "    all_channel_waveform = np.zeros((len(channel_df), len(waveform)))\n",
    "    \n",
    "    \n",
    "    for i, channel_id in enumerate(nearest_channels['channel_id']):\n",
    "        all_channel_waveform[i, :] = weights[weights.index == channel_id].values * waveform  # 加权波形值\n",
    "    \n",
    "    return nearest_channels['channel_id'].tolist(), all_channel_waveform\n"
   ]
  },
  {
   "cell_type": "code",
   "execution_count": null,
   "metadata": {},
   "outputs": [],
   "source": [
    "result = []\n",
    "for i, waveform in enumerate(waveform_merge):\n",
    "    for _, position in corrds_df.iterrows():\n",
    "        channel_ids, channel_waveform = calculate_channel_waveform(waveform, position, channel_df)\n",
    "        result.append({\n",
    "            'waveform': i,\n",
    "            'position': (position['x'], position['y']),\n",
    "            'channel': channel_ids,\n",
    "            'channel_waveform': channel_waveform\n",
    "        })\n",
    "\n",
    "result_df = pd.DataFrame(result)"
   ]
  }
 ],
 "metadata": {
  "kernelspec": {
   "display_name": "Python 3",
   "language": "python",
   "name": "python3"
  },
  "language_info": {
   "codemirror_mode": {
    "name": "ipython",
    "version": 3
   },
   "file_extension": ".py",
   "mimetype": "text/x-python",
   "name": "python",
   "nbconvert_exporter": "python",
   "pygments_lexer": "ipython3",
   "version": "3.10.0"
  }
 },
 "nbformat": 4,
 "nbformat_minor": 2
}
