{
 "cells": [
  {
   "cell_type": "markdown",
   "id": "1c2478f9",
   "metadata": {},
   "source": [
    "# Sensitivity analysis\n",
    "\n",
    "This notebook will compare the decoding accuracy of MARBLE representations on different hyperparameter choices."
   ]
  },
  {
   "cell_type": "code",
   "execution_count": null,
   "id": "fad76ae4-0f2a-4cb8-8a1c-41972819185e",
   "metadata": {
    "tags": []
   },
   "outputs": [],
   "source": [
    "!pip install statannotations ipympl"
   ]
  },
  {
   "cell_type": "code",
   "execution_count": null,
   "id": "cae68224-84f6-43fd-82f4-bba80b806780",
   "metadata": {
    "tags": []
   },
   "outputs": [],
   "source": [
    "%load_ext autoreload\n",
    "%autoreload 2\n",
    "%matplotlib widget\n",
    "\n",
    "import matplotlib.pyplot as plt\n",
    "import numpy as np\n",
    "import pandas as pd\n",
    "import pickle\n",
    "import seaborn as sns\n",
    "from statannotations.Annotator import Annotator\n",
    "from sklearn.model_selection import KFold\n",
    "from macaque_reaching_helpers import *\n",
    "from tqdm import tqdm"
   ]
  },
  {
   "cell_type": "markdown",
   "id": "a1d50682-1117-4481-854d-76d2563a200b",
   "metadata": {
    "tags": []
   },
   "source": [
    "Load kinematics data"
   ]
  },
  {
   "cell_type": "code",
   "execution_count": null,
   "id": "c2883f5a-4789-49e2-8d43-1b3946c3a4fd",
   "metadata": {
    "tags": []
   },
   "outputs": [],
   "source": [
    "!mkdir data\n",
    "!wget -nc https://dataverse.harvard.edu/api/access/datafile/6969885 -O data/kinematics.pkl\n",
    "    \n",
    "with open('data/kinematics.pkl', 'rb') as handle:\n",
    "    data = pickle.load(handle)"
   ]
  },
  {
   "cell_type": "markdown",
   "id": "94051207",
   "metadata": {},
   "source": [
    "# Load MARBLE embeddings"
   ]
  },
  {
   "cell_type": "code",
   "execution_count": null,
   "id": "e9bc422a",
   "metadata": {
    "tags": []
   },
   "outputs": [],
   "source": [
    "!wget -nc https://dataverse.harvard.edu/api/access/datafile/10209904 -O data/marble_embeddings_out20_pca5_25ms.pkl\n",
    "\n",
    "with open('./data/marble_embeddings_out20_pca5_25ms.pkl', 'rb') as handle:\n",
    "    _, marble_embeddings_5_25, _, _, trial_ids, _  = pickle.load(handle)\n",
    "\n",
    "!wget -nc https://dataverse.harvard.edu/api/access/datafile/10209903 -O data/marble_embeddings_out20_pca5_50ms.pkl\n",
    "\n",
    "with open('./data/marble_embeddings_out20_pca5_50ms.pkl', 'rb') as handle:\n",
    "    _, marble_embeddings_5_50, _, _, trial_ids, _  = pickle.load(handle)\n",
    "\n",
    "!wget -nc https://dataverse.harvard.edu/api/access/datafile/7062022 -O data/marble_embeddings_out20_pca5_100ms.pkl\n",
    "\n",
    "with open('./data/marble_embeddings_out20_pca5_100ms.pkl', 'rb') as handle:\n",
    "    _, marble_embeddings_5, _, _, trial_ids, _  = pickle.load(handle)\n",
    "\n",
    "!wget -nc https://dataverse.harvard.edu/api/access/datafile/10209907 -O data/marble_embeddings_out20_pca7_100ms.pkl\n",
    "\n",
    "with open('./data/marble_embeddings_out20_pca7_100ms.pkl', 'rb') as handle:\n",
    "    _, marble_embeddings_7, _, _, _, _  = pickle.load(handle)\n",
    "\n",
    "!wget -nc https://dataverse.harvard.edu/api/access/datafile/10209905 -O data/marble_embeddings_out20_pca10_100ms.pkl\n",
    "\n",
    "with open('./data/marble_embeddings_out20_pca10_100ms.pkl', 'rb') as handle:\n",
    "    _, marble_embeddings_10, _, _, _, _  = pickle.load(handle)\n",
    "\n",
    "# define conditions of movement\n",
    "conditions=['DownLeft','Left','UpLeft','Up','UpRight','Right','DownRight']  "
   ]
  },
  {
   "cell_type": "markdown",
   "id": "a66b1c78-ebdc-44d7-a249-ba39659538e3",
   "metadata": {},
   "source": [
    "# Load plain firing rates for comparison"
   ]
  },
  {
   "cell_type": "code",
   "execution_count": null,
   "id": "a1638c8f-f4b7-450b-a16c-981a74353417",
   "metadata": {
    "tags": []
   },
   "outputs": [],
   "source": [
    "# use the saved trial ids to match the embeddings to the kinematics\n",
    "\n",
    "days = list(np.arange(20)) #we only computed the first 22 sessions to save compute time\n",
    "for d in days:\n",
    "    unique_trial_ids = np.unique(trial_ids[d])\n",
    "    for t in unique_trial_ids:\n",
    "        data[d][t]['kinematics'] = data[d][t]['kinematics'][:,:-1] #remove last point because\n",
    "        data[d][t]['marble_emb_5'] = marble_embeddings_5[d][trial_ids[d]==t,:].T\n",
    "        data[d][t]['marble_emb_7'] = marble_embeddings_7[d][trial_ids[d]==t,:].T\n",
    "        data[d][t]['marble_emb_10'] = marble_embeddings_10[d][trial_ids[d]==t,:].T\n",
    "        data[d][t]['marble_emb_5_25'] = marble_embeddings_5_25[d][trial_ids[d]==t,:].T\n",
    "        data[d][t]['marble_emb_5_50'] = marble_embeddings_5_50[d][trial_ids[d]==t,:].T"
   ]
  },
  {
   "cell_type": "markdown",
   "id": "ea829c14",
   "metadata": {},
   "source": [
    "# Decode across all sessions\n",
    "\n",
    "Above we decoded for a single session. Lets now loop over every session and compute some quantitative comparisons with the ground truth kinematics."
   ]
  },
  {
   "cell_type": "code",
   "execution_count": null,
   "id": "b77a49a6",
   "metadata": {
    "tags": []
   },
   "outputs": [],
   "source": [
    "kf = KFold(n_splits=5, shuffle=True) # use 5-fold split of the data \n",
    "\n",
    "r2_marble_vel_5 = []; r2_marble_pos_5 = []\n",
    "r2_marble_vel_5_25 = []; r2_marble_pos_5_25 = []\n",
    "r2_marble_vel_5_50 = []; r2_marble_pos_5_50 = []\n",
    "r2_marble_vel_7 = []; r2_marble_pos_7 = []\n",
    "r2_marble_vel_10 = []; r2_marble_pos_10 = []\n",
    "\n",
    "# loop over sessions\n",
    "for d in days:\n",
    "    unique_trial_ids = np.unique(trial_ids[d])\n",
    "    \n",
    "    # cross validation\n",
    "    for i, (train_index, test_index) in enumerate(kf.split(unique_trial_ids)):\n",
    "\n",
    "        train_data = {key: data[d][key] for key in train_index if key in data[d]}\n",
    "            \n",
    "        #MARBLE PC5 (Gaussian filter width 100ms)\n",
    "        Lw = train_OLE(data[d], unique_trial_ids[train_index], representation='marble_emb_5')\n",
    "        \n",
    "        for tr in unique_trial_ids[test_index]:\n",
    "            trial_pred = decode_kinematics(data[d][tr], Lw, dt=20, representation='marble_emb_5')\n",
    "            data[d][tr]['marble_decoded_5'] = trial_pred\n",
    "\n",
    "        #MARBLE PC5 (Gaussian filter width 25ms)\n",
    "        Lw = train_OLE(data[d], unique_trial_ids[train_index], representation='marble_emb_5_25')\n",
    "        \n",
    "        for tr in unique_trial_ids[test_index]:\n",
    "            trial_pred = decode_kinematics(data[d][tr], Lw, dt=20, representation='marble_emb_5_25')\n",
    "            data[d][tr]['marble_decoded_5_25'] = trial_pred\n",
    "\n",
    "        #MARBLE PC5 (Gaussian filter width 50ms)\n",
    "        Lw = train_OLE(data[d], unique_trial_ids[train_index], representation='marble_emb_5_50')\n",
    "        \n",
    "        for tr in unique_trial_ids[test_index]:\n",
    "            trial_pred = decode_kinematics(data[d][tr], Lw, dt=20, representation='marble_emb_5_50')\n",
    "            data[d][tr]['marble_decoded_5_50'] = trial_pred\n",
    "\n",
    "        #MARBLE PC7 (Gaussian filter width 100ms)\n",
    "        Lw = train_OLE(data[d], unique_trial_ids[train_index], representation='marble_emb_7')\n",
    "        \n",
    "        for tr in unique_trial_ids[test_index]:\n",
    "            trial_pred = decode_kinematics(data[d][tr], Lw, dt=20, representation='marble_emb_7')\n",
    "            data[d][tr]['marble_decoded_7'] = trial_pred\n",
    "\n",
    "        #MARBLE PC10 (Gaussian filter width 100ms)\n",
    "        Lw = train_OLE(data[d], unique_trial_ids[train_index], representation='marble_emb_10')\n",
    "        \n",
    "        for tr in unique_trial_ids[test_index]:\n",
    "            trial_pred = decode_kinematics(data[d][tr], Lw, dt=20, representation='marble_emb_10')\n",
    "            data[d][tr]['marble_decoded_10'] = trial_pred\n",
    "            \n",
    "    # r-squared velocity\n",
    "    r2_pos, r2_vel = correlation(data[d], unique_trial_ids, representation='marble_decoded_5')   \n",
    "    r2_marble_pos_5.append(r2_pos)\n",
    "    r2_marble_vel_5.append(r2_vel)\n",
    "\n",
    "    r2_pos, r2_vel = correlation(data[d], unique_trial_ids, representation='marble_decoded_5_25')   \n",
    "    r2_marble_pos_5_25.append(r2_pos)\n",
    "    r2_marble_vel_5_25.append(r2_vel)\n",
    "\n",
    "    r2_pos, r2_vel = correlation(data[d], unique_trial_ids, representation='marble_decoded_5_50')   \n",
    "    r2_marble_pos_5_50.append(r2_pos)\n",
    "    r2_marble_vel_5_50.append(r2_vel)\n",
    "\n",
    "    r2_pos, r2_vel = correlation(data[d], unique_trial_ids, representation='marble_decoded_7')   \n",
    "    r2_marble_pos_7.append(r2_pos)\n",
    "    r2_marble_vel_7.append(r2_vel)\n",
    "\n",
    "    r2_pos, r2_vel = correlation(data[d], unique_trial_ids, representation='marble_decoded_10')   \n",
    "    r2_marble_pos_10.append(r2_pos)\n",
    "    r2_marble_vel_10.append(r2_vel)"
   ]
  },
  {
   "cell_type": "markdown",
   "id": "a20a9cb0",
   "metadata": {},
   "source": [
    "How does the decoding accuracy of velocity between the two methods compare?"
   ]
  },
  {
   "cell_type": "code",
   "execution_count": null,
   "id": "75da5f8b",
   "metadata": {
    "tags": []
   },
   "outputs": [],
   "source": [
    "results = pd.DataFrame(data=np.vstack([ r2_marble_vel_5, r2_marble_vel_7, r2_marble_vel_10, r2_marble_vel_5_25, r2_marble_vel_5_50]).T,columns=['marble_5','marble_7','marble_10','marble_5_25', 'marble_5_50'])\n",
    "results = results.melt()\n",
    "results.columns = ['model','accuracy']\n",
    "\n",
    "f, ax = plt.subplots(figsize=(4,7))\n",
    "sns.despine(bottom=True, left=True)\n",
    "\n",
    "sns.stripplot(\n",
    "    data=results, x=\"model\", y=\"accuracy\",\n",
    "    dodge=True, alpha=.5, zorder=1,\n",
    ")\n",
    "\n",
    "sns.pointplot(\n",
    "    data=results, x=\"model\", y=\"accuracy\",\n",
    "    join=False, dodge=.8 - .8 / 3, palette=\"dark\",\n",
    "    markers=\"d\", scale=.75, errorbar=None\n",
    ")\n",
    "\n",
    "pairs=[(\"marble_5\", \"marble_7\"), (\"marble_5\",\"marble_10\"), (\"marble_5\",\"marble_5_25\"), (\"marble_5\",\"marble_5_50\")]\n",
    "\n",
    "annotator = Annotator(ax, pairs, data=results, x=\"model\", y=\"accuracy\",)\n",
    "annotator.configure(test='Wilcoxon', text_format='star', loc='outside')\n",
    "annotator.apply_and_annotate()"
   ]
  },
  {
   "cell_type": "markdown",
   "id": "379d1077",
   "metadata": {},
   "source": [
    "Can we train a classifier to predict the movement? This tells us about the accuracy of decoding the position vectors."
   ]
  },
  {
   "cell_type": "code",
   "execution_count": null,
   "id": "91f2c2a7",
   "metadata": {
    "tags": []
   },
   "outputs": [],
   "source": [
    "marble_model_acc_5 = []\n",
    "marble_model_acc_5_25 = []\n",
    "marble_model_acc_5_50 = []\n",
    "marble_model_acc_7 = []\n",
    "marble_model_acc_10 = []\n",
    "\n",
    "for d in days:           \n",
    "\n",
    "    unique_trial_ids = np.unique(trial_ids[d])\n",
    "    \n",
    "    # fit classifier to kinematics\n",
    "    clf = fit_classifier(data[d], conditions, unique_trial_ids, representation='kinematics')\n",
    "    \n",
    "    score = transform_classifier(clf, data[d], conditions, unique_trial_ids, representation='marble_decoded_5')\n",
    "    marble_model_acc_5.append(score)\n",
    "\n",
    "    score = transform_classifier(clf, data[d], conditions, unique_trial_ids, representation='marble_decoded_5_25')\n",
    "    marble_model_acc_5_25.append(score)\n",
    "\n",
    "    score = transform_classifier(clf, data[d], conditions, unique_trial_ids, representation='marble_decoded_5_50')\n",
    "    marble_model_acc_5_50.append(score)\n",
    "\n",
    "    score = transform_classifier(clf, data[d], conditions, unique_trial_ids, representation='marble_decoded_7')\n",
    "    marble_model_acc_7.append(score)\n",
    "\n",
    "    score = transform_classifier(clf, data[d], conditions, unique_trial_ids, representation='marble_decoded_10')\n",
    "    marble_model_acc_10.append(score)\n",
    "    \n",
    "\n",
    "results = pd.DataFrame(data=np.vstack([marble_model_acc_5, marble_model_acc_7, marble_model_acc_10, marble_model_acc_5_25, marble_model_acc_5_50]).T,columns=['marble_model_acc_5', 'marble_model_acc_7', 'marble_model_acc_10', 'marble_model_acc_5_25', 'marble_model_acc_5_50'])\n",
    "\n",
    "results = results.melt()\n",
    "results.columns = ['model','accuracy']"
   ]
  },
  {
   "cell_type": "code",
   "execution_count": null,
   "id": "90c62030",
   "metadata": {
    "tags": []
   },
   "outputs": [],
   "source": [
    "f, ax = plt.subplots(figsize=(4,4))\n",
    "sns.despine(bottom=True, left=True)\n",
    "\n",
    "sns.stripplot(\n",
    "    data=results, x=\"model\", y=\"accuracy\",\n",
    "    dodge=True, alpha=.5, zorder=1,\n",
    ")\n",
    "\n",
    "sns.pointplot(\n",
    "    data=results, x=\"model\", y=\"accuracy\",\n",
    "    join=False, dodge=.8 - .8 / 3, palette=\"dark\",\n",
    "    markers=\"d\", scale=.75, errorbar=None\n",
    ")\n",
    "plt.ylim([0,1])"
   ]
  },
  {
   "cell_type": "code",
   "execution_count": null,
   "id": "78d726e8-3a27-4e5e-b959-199d2de8199a",
   "metadata": {},
   "outputs": [],
   "source": []
  }
 ],
 "metadata": {
  "kernelspec": {
   "display_name": "Python 3 (ipykernel)",
   "language": "python",
   "name": "python3"
  },
  "language_info": {
   "codemirror_mode": {
    "name": "ipython",
    "version": 3
   },
   "file_extension": ".py",
   "mimetype": "text/x-python",
   "name": "python",
   "nbconvert_exporter": "python",
   "pygments_lexer": "ipython3",
   "version": "3.10.14"
  }
 },
 "nbformat": 4,
 "nbformat_minor": 5
}
