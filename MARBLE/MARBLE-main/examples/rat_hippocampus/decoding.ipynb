{
 "cells": [
  {
   "cell_type": "markdown",
   "metadata": {},
   "source": [
    "# Decoding from MARBLE and CEBRA embeddings\n",
    "\n",
    "In this notebook, we compare MARBLE and CEBRA for decoding."
   ]
  },
  {
   "cell_type": "code",
   "execution_count": null,
   "metadata": {
    "scrolled": true
   },
   "outputs": [],
   "source": [
    "! pip install cebra statannotations elephant\n",
    "\n",
    "import os\n",
    "import numpy as np\n",
    "import matplotlib.pyplot as plt\n",
    "import pickle\n",
    "import pandas as pd\n",
    "import seaborn as sns\n",
    "from statannotations.Annotator import Annotator\n",
    "\n",
    "import cebra\n",
    "\n",
    "import MARBLE\n",
    "from rat_utils import *"
   ]
  },
  {
   "cell_type": "markdown",
   "metadata": {},
   "source": [
    "### Load the data"
   ]
  },
  {
   "cell_type": "code",
   "execution_count": null,
   "metadata": {},
   "outputs": [],
   "source": [
    "!mkdir data\n",
    "!wget -nc https://dataverse.harvard.edu/api/access/datafile/7609512 -O data/rat_data.pkl\n",
    "\n",
    "with open('data/rat_data.pkl', 'rb') as handle:\n",
    "    hippocampus_pos = pickle.load(handle)\n",
    "    \n",
    "hippocampus_pos = hippocampus_pos['achilles']"
   ]
  },
  {
   "cell_type": "markdown",
   "metadata": {},
   "source": [
    "### Define training and test data"
   ]
  },
  {
   "cell_type": "code",
   "execution_count": null,
   "metadata": {},
   "outputs": [],
   "source": [
    "def split_data(data, test_ratio):\n",
    "\n",
    "    split_idx = int(data['neural'].shape[0] * (1-test_ratio))\n",
    "    neural_train = data['neural'][:split_idx]\n",
    "    neural_test = data['neural'][split_idx:]\n",
    "    label_train = data['continuous_index'][:split_idx]\n",
    "    label_test = data['continuous_index'][split_idx:]\n",
    "    \n",
    "    return neural_train.numpy(), neural_test.numpy(), label_train.numpy(), label_test.numpy()\n",
    "\n",
    "neural_train, neural_test, label_train, label_test = split_data(hippocampus_pos, 0.2)"
   ]
  },
  {
   "cell_type": "code",
   "execution_count": null,
   "metadata": {},
   "outputs": [],
   "source": [
    "# 40 hz sampling rate (they binned into 25ms epochs\n",
    "\n",
    "spikes = neural_train[:2000,:].T\n",
    "spikes = [np.where(spikes[ch,:])[0]/40 for ch in range(120)] \n",
    "    \n",
    "_, ax = plt.subplots(figsize=(8,4))\n",
    "ax.eventplot(spikes,color='gray')\n",
    "plt.ylabel('Neurons')\n",
    "plt.xlabel('Time (s)')"
   ]
  },
  {
   "cell_type": "markdown",
   "metadata": {},
   "source": [
    "### Preprocess data"
   ]
  },
  {
   "cell_type": "code",
   "execution_count": null,
   "metadata": {},
   "outputs": [],
   "source": [
    "data_train, label_train_marble, pca = convert_spikes_to_rates(neural_train.T, label_train, pca_n=20)\n",
    "data_test, label_test_marble, _ = convert_spikes_to_rates(neural_test.T, label_test, pca=pca)"
   ]
  },
  {
   "cell_type": "markdown",
   "metadata": {},
   "source": [
    "## Load the models and get the corresponding embeddings"
   ]
  },
  {
   "cell_type": "code",
   "execution_count": null,
   "metadata": {},
   "outputs": [],
   "source": [
    "#Cebra-time\n",
    "!wget -nc https://dataverse.harvard.edu/api/access/datafile/7609517 -O data/cebra_time_achilles_32D.pt\n",
    "cebra_time_model = cebra.CEBRA.load(\"data/cebra_time_achilles_32D.pt\")\n",
    "cebra_time_train = cebra_time_model.transform(neural_train)\n",
    "cebra_time_test = cebra_time_model.transform(neural_test)\n",
    "\n",
    "#Cebra-behaviour\n",
    "!wget -nc https://dataverse.harvard.edu/api/access/datafile/7609520 -O data/cebra_behaviour_achilles_32D.pt\n",
    "cebra_behaviour_model = cebra.CEBRA.load(\"data/cebra_behaviour_achilles_32D.pt\")\n",
    "cebra_behaviour_train = cebra_behaviour_model.transform(neural_train)\n",
    "cebra_behaviour_test = cebra_behaviour_model.transform(neural_test)\n",
    "\n",
    "#MARBLE\n",
    "!wget -nc https://dataverse.harvard.edu/api/access/datafile/7659512 -O data/marble_achilles_32D.pth\n",
    "marble_model = MARBLE.net(data_train, loadpath=\"data/marble_achilles_32D.pth\")\n",
    "data_train = marble_model.transform(data_train)\n",
    "data_test = marble_model.transform(data_test)"
   ]
  },
  {
   "cell_type": "markdown",
   "metadata": {},
   "source": [
    "## Decode the labels from the embeddings"
   ]
  },
  {
   "cell_type": "markdown",
   "metadata": {},
   "source": [
    "### Decode the position and direction from the trained hypothesis models"
   ]
  },
  {
   "cell_type": "code",
   "execution_count": null,
   "metadata": {},
   "outputs": [],
   "source": [
    "cebra_time_decode = decoding_pos_dir(cebra_time_train, cebra_time_test, label_train, label_test)\n",
    "cebra_behaviour_decode = decoding_pos_dir(cebra_behaviour_train, cebra_behaviour_test, label_train, label_test)\n",
    "marble_decode = decoding_pos_dir(data_train.emb, data_test.emb, label_train_marble, label_test_marble)"
   ]
  },
  {
   "cell_type": "markdown",
   "metadata": {},
   "source": [
    "### Visualize the decoding results and loss - decoding performance"
   ]
  },
  {
   "cell_type": "code",
   "execution_count": null,
   "metadata": {},
   "outputs": [],
   "source": [
    "results = [cebra_time_decode[4][:-1], cebra_behaviour_decode[4][:-1],  marble_decode[4]]\n",
    "\n",
    "results = pd.DataFrame(data=np.vstack(results).T,columns=['c-time','c-behaviour', 'marble'])\n",
    "results = results.melt()\n",
    "results.columns = ['model','accuracy']\n",
    "\n",
    "f, ax = plt.subplots(figsize=(4,4))\n",
    "sns.despine(bottom=True, left=True)\n",
    "\n",
    "random_sampling = np.random.randint(low=0, high=results.shape[0], size=(200,))\n",
    "\n",
    "sns.stripplot(\n",
    "    data=results.iloc[random_sampling,:], x=\"model\", y=\"accuracy\", order=['c-time','c-behaviour', 'marble'], \n",
    "    dodge=True, alpha=.5, zorder=1, color='gray',\n",
    ")\n",
    "\n",
    "sns.pointplot(\n",
    "    data=results, x=\"model\", y=\"accuracy\",\n",
    "    join=False, dodge=.8 - .8 / 3, palette=\"dark\",\n",
    "    markers=\"d\", scale=.75, errorbar=None\n",
    ")\n",
    "\n",
    "pairs=[(\"c-time\", \"marble\"), (\"c-behaviour\", \"marble\")]\n",
    "\n",
    "annotator = Annotator(ax, pairs, data=results, x=\"model\", y=\"accuracy\",)\n",
    "annotator.configure(test='Wilcoxon', text_format='star', loc='outside')\n",
    "annotator.apply_and_annotate()\n",
    "plt.tight_layout()"
   ]
  },
  {
   "cell_type": "code",
   "execution_count": null,
   "metadata": {},
   "outputs": [],
   "source": [
    "from scipy.stats import sem\n",
    "\n",
    "fig = plt.figure(figsize=(10,4))\n",
    "\n",
    "ax1= plt.subplot(121)\n",
    "ax1.bar(np.arange(3), \n",
    "        [cebra_time_decode[1], cebra_behaviour_decode[1], marble_decode[1]], \n",
    "        width = 0.5, color = 'gray')\n",
    "\n",
    "ax1.errorbar(np.arange(3),  \n",
    "             [cebra_time_decode[1], cebra_behaviour_decode[1], marble_decode[1]],\n",
    "             yerr=[sem(cebra_time_decode[4]), sem(cebra_behaviour_decode[4]), sem(marble_decode[4])], \n",
    "             fmt='none', ecolor='black', capsize=5)\n",
    "\n",
    "\n",
    "ax1.spines['top'].set_visible(False)\n",
    "ax1.spines['right'].set_visible(False)\n",
    "ax1.set_xticks(np.arange(3))\n",
    "ax1.set_xticklabels(['time','behaviour','marble'])\n",
    "ax1.set_ylabel('Median err. [m]')\n",
    "\n",
    "plt.legend(bbox_to_anchor=(1,1), frameon = False )\n",
    "plt.show()"
   ]
  },
  {
   "cell_type": "code",
   "execution_count": null,
   "metadata": {},
   "outputs": [],
   "source": [
    "fig = plt.figure(figsize=(5,6))\n",
    "\n",
    "t = label_test_marble[:,0].shape[0]\n",
    "\n",
    "ax1= plt.subplot(311)\n",
    "ax1.plot(np.arange(t)/40, label_test_marble[:,0])\n",
    "ax1.plot(np.arange(t)/40, marble_decode[3][:,0])\n",
    "ax1.spines['top'].set_visible(False)\n",
    "ax1.spines['right'].set_visible(False)\n",
    "ax1.set_xlabel('Time [s]')\n",
    "ax1.set_ylabel('Position [m]')\n",
    "ax1.set_title('MARBLE')\n",
    "\n",
    "ax2= plt.subplot(312)\n",
    "ax2.plot(np.arange(t)/40, label_test_marble[:,0])\n",
    "ax2.plot(np.arange(t+1)/40, cebra_time_decode[3][:,0])\n",
    "ax2.spines['top'].set_visible(False)\n",
    "ax2.spines['right'].set_visible(False)\n",
    "ax2.set_xlabel('Time [s]')\n",
    "ax2.set_ylabel('Position [m]')\n",
    "ax2.set_title('CEBRA (time)')\n",
    "\n",
    "ax3 = plt.subplot(313)\n",
    "ax3.plot(np.arange(t)/40, label_test_marble[:,0])\n",
    "ax3.plot(np.arange(t+1)/40, cebra_behaviour_decode[3][:,0])\n",
    "ax3.spines['top'].set_visible(False)\n",
    "ax3.spines['right'].set_visible(False)\n",
    "ax3.set_xlabel('Time [s]')\n",
    "ax3.set_ylabel('Position [m]')\n",
    "ax3.set_title('CEBRA (position)')\n",
    "\n",
    "plt.tight_layout()"
   ]
  },
  {
   "cell_type": "code",
   "execution_count": null,
   "metadata": {},
   "outputs": [],
   "source": []
  }
 ],
 "metadata": {
  "kernelspec": {
   "display_name": "Python 3 (ipykernel)",
   "language": "python",
   "name": "python3"
  },
  "language_info": {
   "codemirror_mode": {
    "name": "ipython",
    "version": 3
   },
   "file_extension": ".py",
   "mimetype": "text/x-python",
   "name": "python",
   "nbconvert_exporter": "python",
   "pygments_lexer": "ipython3",
   "version": "3.10.14"
  }
 },
 "nbformat": 4,
 "nbformat_minor": 4
}
