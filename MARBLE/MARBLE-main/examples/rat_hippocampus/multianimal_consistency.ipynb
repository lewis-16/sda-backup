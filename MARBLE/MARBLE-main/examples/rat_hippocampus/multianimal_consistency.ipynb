{
 "cells": [
  {
   "cell_type": "markdown",
   "metadata": {},
   "source": [
    "# MARBLE vs CEBRA multianimal consistency\n",
    "\n",
    "Checking for consistent and interpretable embeddings with MARBLE and CEBRA.\n",
    "\n",
    "This notebook is adapted from the CEBRA notebook demonstration on consistency. For comparison we have re-used a number of their function and it is mostly based on what is presented in CEBRA in [Figure 4](https://cebra.ai/docs/cebra-figures/figures/Figure1.html)."
   ]
  },
  {
   "cell_type": "code",
   "execution_count": null,
   "metadata": {
    "scrolled": true
   },
   "outputs": [],
   "source": [
    "!pip install cebra elephant\n",
    "\n",
    "import os\n",
    "import sys\n",
    "import numpy as np\n",
    "import matplotlib.pyplot as plt\n",
    "import pickle\n",
    "\n",
    "from cebra import CEBRA\n",
    "\n",
    "import MARBLE\n",
    "from rat_utils import *"
   ]
  },
  {
   "cell_type": "markdown",
   "metadata": {},
   "source": [
    "## Load the data"
   ]
  },
  {
   "cell_type": "code",
   "execution_count": null,
   "metadata": {},
   "outputs": [],
   "source": [
    "!mkdir data\n",
    "!wget -nc https://dataverse.harvard.edu/api/access/datafile/7609512 -O data/rat_data.pkl\n",
    "\n",
    "with open('data/rat_data.pkl', 'rb') as handle:\n",
    "    hippocampus_pos = pickle.load(handle)"
   ]
  },
  {
   "cell_type": "markdown",
   "metadata": {},
   "source": [
    "## Load the models and get the embeddings"
   ]
  },
  {
   "cell_type": "code",
   "execution_count": null,
   "metadata": {},
   "outputs": [],
   "source": [
    "!wget -nc https://dataverse.harvard.edu/api/access/datafile/7609532 -O data/cebra_behaviour_achilles_3D.pt\n",
    "!wget -nc https://dataverse.harvard.edu/api/access/datafile/7609530 -O data/cebra_behaviour_buddy_3D.pt\n",
    "!wget -nc https://dataverse.harvard.edu/api/access/datafile/7609529 -O data/cebra_behaviour_cicero_3D.pt\n",
    "!wget -nc https://dataverse.harvard.edu/api/access/datafile/7609536 -O data/cebra_behaviour_gatsby_3D.pt\n",
    "\n",
    "!wget -nc https://dataverse.harvard.edu/api/access/datafile/7609533 -O data/cebra_time_achilles_3D.pt\n",
    "!wget -nc https://dataverse.harvard.edu/api/access/datafile/7609531 -O data/cebra_time_buddy_3D.pt\n",
    "!wget -nc https://dataverse.harvard.edu/api/access/datafile/7609535 -O data/cebra_time_cicero_3D.pt\n",
    "!wget -nc https://dataverse.harvard.edu/api/access/datafile/7609534 -O data/cebra_time_gatsby_3D.pt\n",
    "\n",
    "time_models, time_embeddings = {}, {}\n",
    "posdir_models, posdir_embeddings = {}, {}\n",
    "left, right = {}, {}\n",
    "\n",
    "for rat in list(hippocampus_pos.keys()):\n",
    "    # time constrative models\n",
    "    time_models[rat] = cebra.CEBRA.load(f\"data/cebra_time_{rat}_3D.pt\")\n",
    "    time_embeddings[rat] = time_models[rat].transform(hippocampus_pos[rat]['neural'])\n",
    "    \n",
    "    # behavioral contrastive models\n",
    "    posdir_models[rat] = cebra.CEBRA.load(f\"data/cebra_behaviour_{rat}_3D.pt\")\n",
    "    posdir_embeddings[rat] = posdir_models[rat].transform(hippocampus_pos[rat]['neural'])\n",
    "    \n",
    "    # left and right labels for the embedding\n",
    "    right[rat] = hippocampus_pos[rat]['continuous_index'][:,1] == 1\n",
    "    left[rat] = hippocampus_pos[rat]['continuous_index'][:,2] == 1"
   ]
  },
  {
   "cell_type": "code",
   "execution_count": null,
   "metadata": {
    "scrolled": true
   },
   "outputs": [],
   "source": [
    "!wget -nc https://dataverse.harvard.edu/api/access/datafile/7657256 -O data/marble_achilles_3D.pth\n",
    "!wget -nc https://dataverse.harvard.edu/api/access/datafile/7657252 -O data/marble_buddy_3D.pth\n",
    "!wget -nc https://dataverse.harvard.edu/api/access/datafile/7657257 -O data/marble_cicero_3D.pth\n",
    "!wget -nc https://dataverse.harvard.edu/api/access/datafile/7657254 -O data/marble_gatsby_3D.pth\n",
    "\n",
    "labels_marble, marble_embeddings, left_marble, right_marble = {}, {}, {}, {}\n",
    "\n",
    "for rat in list(hippocampus_pos.keys()):\n",
    "\n",
    "    spikes = hippocampus_pos[rat][\"neural\"].numpy().T\n",
    "    labels = hippocampus_pos[rat]['continuous_index']\n",
    "    \n",
    "    # process data\n",
    "    data, labels, _ = convert_spikes_to_rates(spikes, labels, pca_n=10)\n",
    "\n",
    "    # load trained model\n",
    "    marble_model = MARBLE.net(data, loadpath=f\"data/marble_{rat}_3D.pth\")\n",
    "\n",
    "    # generate embedding of test data\n",
    "    data = marble_model.transform(data)\n",
    "    \n",
    "    labels_marble[rat] = labels\n",
    "    marble_embeddings[rat] = data.emb.numpy()\n",
    "    \n",
    "    # left and right labels for the embedding\n",
    "    right_marble[rat] = labels_marble[rat][:,1] == 1\n",
    "    left_marble[rat] = labels_marble[rat][:,2] == 1    "
   ]
  },
  {
   "cell_type": "markdown",
   "metadata": {},
   "source": [
    "## Display the embeddings"
   ]
  },
  {
   "cell_type": "code",
   "execution_count": null,
   "metadata": {},
   "outputs": [],
   "source": [
    "fig = plt.figure(figsize=(15,8))\n",
    "\n",
    "ax1 = plt.subplot(3,4,1, projection='3d')\n",
    "ax2 = plt.subplot(3,4,2, projection='3d')\n",
    "ax3 = plt.subplot(3,4,3, projection='3d')\n",
    "ax4 = plt.subplot(3,4,4, projection='3d')\n",
    "axs_up = [ax1, ax2, ax3, ax4]\n",
    "\n",
    "ax1 = plt.subplot(3,4,5, projection='3d')\n",
    "ax2 = plt.subplot(3,4,6, projection='3d')\n",
    "ax3 = plt.subplot(3,4,7, projection='3d')\n",
    "ax4 = plt.subplot(3,4,8, projection='3d')\n",
    "axs_middle = [ax1, ax2, ax3, ax4]\n",
    "\n",
    "ax1 = plt.subplot(3,4,9, projection='3d')\n",
    "ax2 = plt.subplot(3,4,10, projection='3d')\n",
    "ax3 = plt.subplot(3,4,11, projection='3d')\n",
    "ax4 = plt.subplot(3,4,12, projection='3d')\n",
    "axs_down = [ax1, ax2, ax3, ax4]\n",
    "\n",
    "for ax, mouse in  zip(axs_up, list(time_embeddings.keys())): \n",
    "    for dir, cmap in zip([right[mouse], left[mouse]], [\"cool\", \"viridis\"]):\n",
    "        ax=cebra.plot_embedding(ax=ax, embedding=time_embeddings[mouse][dir,:], embedding_labels=hippocampus_pos[mouse]['continuous_index'][dir,0], title=f\"{mouse}\\nCEBRA-Time\", cmap=cmap)\n",
    "\n",
    "for ax, mouse in  zip(axs_middle, list(posdir_embeddings.keys())): \n",
    "    for dir, cmap in zip([right[mouse], left[mouse]], [\"cool\", \"viridis\"]):\n",
    "        ax=cebra.plot_embedding(ax=ax, embedding=posdir_embeddings[mouse][dir,:], embedding_labels=hippocampus_pos[mouse]['continuous_index'][dir,0], title=f\"{mouse}\\nCEBRA-Behavior\", cmap=cmap)\n",
    "\n",
    "for ax, mouse in  zip(axs_down, list(marble_embeddings.keys())): \n",
    "    for dir, cmap in zip([right_marble[mouse], left_marble[mouse]], [\"cool\", \"viridis\"]):\n",
    "        ax=cebra.plot_embedding(ax=ax, embedding=marble_embeddings[mouse][dir,:], embedding_labels=labels_marble[mouse][dir,0], title=f\"{mouse}\\nMARBLE\", cmap=cmap)\n",
    "\n",
    "plt.tight_layout()      \n",
    "plt.show()"
   ]
  },
  {
   "cell_type": "markdown",
   "metadata": {},
   "source": [
    "## Compute the consistency maps"
   ]
  },
  {
   "cell_type": "markdown",
   "metadata": {},
   "source": [
    "Correlation matrices depict the $R^2$ after fitting a linear model between behavior-aligned embeddings of two animals, one as the target one as the source (mean, n=10 runs). Parameters were picked by optimizing average run consistency across rats."
   ]
  },
  {
   "cell_type": "code",
   "execution_count": null,
   "metadata": {},
   "outputs": [],
   "source": [
    "# labels to align the subjects is the position of the mouse in the arena\n",
    "labels = [hippocampus_pos[mouse]['continuous_index'][:, 0]\n",
    "          for mouse in list(hippocampus_pos.keys())]\n",
    "\n",
    "# CEBRA-Time consistencies\n",
    "time_scores, time_pairs, time_subjects = cebra.sklearn.metrics.consistency_score(embeddings=list(time_embeddings.values()),\n",
    "                                                                                 labels=labels,\n",
    "                                                                                 dataset_ids=list(\n",
    "                                                                                 time_embeddings.keys()),\n",
    "                                                                                 between=\"datasets\")\n",
    "\n",
    "# CEBRA-Behavior consistencies\n",
    "posdir_scores, posdir_pairs, posdir_subjects = cebra.sklearn.metrics.consistency_score(embeddings=list(posdir_embeddings.values()),\n",
    "                                                                                       labels=labels,\n",
    "                                                                                       dataset_ids=list(\n",
    "                                                                                       posdir_embeddings.keys()),\n",
    "                                                                                       between=\"datasets\")\n",
    "\n",
    "# MARBLE consistencies\n",
    "marble_scores, marble_pairs, marble_subjects = cebra.sklearn.metrics.consistency_score(embeddings=list(marble_embeddings.values()),\n",
    "                                                                                 labels=[labels_marble[rat][:,0] for rat in labels_marble.keys()],\n",
    "                                                                                 dataset_ids=list(\n",
    "                                                                                 marble_embeddings.keys()),\n",
    "                                                                                 between=\"datasets\")\n"
   ]
  },
  {
   "cell_type": "code",
   "execution_count": null,
   "metadata": {},
   "outputs": [],
   "source": [
    "%matplotlib inline\n",
    "\n",
    "# Display consistency maps\n",
    "fig = plt.figure(figsize=(16, 4))\n",
    "\n",
    "ax1 = plt.subplot(131)\n",
    "ax2 = plt.subplot(132)\n",
    "ax3 = plt.subplot(133)\n",
    "\n",
    "ax1 = cebra.plot_consistency(time_scores, pairs=time_pairs, datasets=time_subjects,\n",
    "                             ax=ax1, title=f\"CEBRA-Time\\nMean: {np.mean(time_scores).round(2)}\", \n",
    "                             colorbar_label=None, vmin=40,vmax=100)\n",
    "\n",
    "ax2 = cebra.plot_consistency(marble_scores, pairs=marble_pairs,\n",
    "                            datasets=marble_subjects, ax=ax2, title=f\"MARBLE\\nMean: {np.mean(marble_scores).round(2)}\", \n",
    "                            colorbar_label=None, vmin=40,vmax=100)\n",
    "\n",
    "ax3 = cebra.plot_consistency(posdir_scores, pairs=posdir_pairs, datasets=posdir_subjects, ax=ax3,\n",
    "                            title=f\"CEBRA-Behavior\\nMean: {np.mean(posdir_scores).round(2)}\", \n",
    "                             vmin=40,vmax=100)"
   ]
  },
  {
   "cell_type": "code",
   "execution_count": null,
   "metadata": {},
   "outputs": [],
   "source": []
  }
 ],
 "metadata": {
  "kernelspec": {
   "display_name": "Python 3 (ipykernel)",
   "language": "python",
   "name": "python3"
  },
  "language_info": {
   "codemirror_mode": {
    "name": "ipython",
    "version": 3
   },
   "file_extension": ".py",
   "mimetype": "text/x-python",
   "name": "python",
   "nbconvert_exporter": "python",
   "pygments_lexer": "ipython3",
   "version": "3.10.14"
  },
  "vscode": {
   "interpreter": {
    "hash": "d20c091758da15a81f3fc9819bfd09a9744e7c7bb5bce53ce9fffdcf0f66921a"
   }
  }
 },
 "nbformat": 4,
 "nbformat_minor": 4
}
